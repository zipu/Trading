{
 "cells": [
  {
   "cell_type": "code",
   "execution_count": 1,
   "metadata": {},
   "outputs": [],
   "source": [
    "import sys, os #imp\n",
    "sys.path.append('..')\n",
    "import pandas as pd\n",
    "import yaml\n",
    "import backtesting as bt\n",
    "import matplotlib.pyplot as plt\n",
    "\n",
    "from tools.instruments import instruments"
   ]
  },
  {
   "cell_type": "code",
   "execution_count": 2,
   "metadata": {},
   "outputs": [],
   "source": [
    "%load_ext autoreload\n",
    "%aimport backtesting.system\n",
    "%aimport backtesting.trader\n",
    "%aimport tools.quotes\n",
    "\n",
    "%autoreload 2"
   ]
  },
  {
   "cell_type": "code",
   "execution_count": 3,
   "metadata": {},
   "outputs": [],
   "source": [
    "plt.ioff()"
   ]
  },
  {
   "cell_type": "code",
   "execution_count": 4,
   "metadata": {},
   "outputs": [
    {
     "name": "stdout",
     "output_type": "stream",
     "text": [
      "{'name': 'testSystem', 'description': '시스템 설명', 'sectors': 'default', 'instruments': ['AD'], 'from_date': '2019-08-01', 'to_date': None, 'principal': 1000000, 'heat_system': 'DefaultHeat', 'max_system_heat': 0.3, 'max_sector_heat': 0.3, 'max_trade_heat': 0.01, 'max_lots': 100, 'commission': 5.98, 'skid': 0.25, 'metrics': [['ema30', 'EMA', 'window=30'], ['ema5', 'EMA', 'window=5'], ['min30', 'MIN', 'window=30'], ['max300', 'MAX', 'window=300']], 'entry_rule': {'long': 'ema5>ema30', 'short': None}, 'exit_rule': {'long': 'ema5<ema30', 'short': None}, 'stop_rule': {'long': 'min30', 'short': None}}\n"
     ]
    }
   ],
   "source": [
    "with open('systems/sample.yaml', encoding='utf-8') as f:\n",
    "    system1 = yaml.load(f, Loader=yaml.FullLoader)\n",
    "    print(system1)"
   ]
  },
  {
   "cell_type": "code",
   "execution_count": 5,
   "metadata": {
    "scrolled": true
   },
   "outputs": [],
   "source": [
    "trader = bt.Trader(systems=[system1])\n",
    "system = trader.systems[0]\n",
    "#trader.run()"
   ]
  },
  {
   "cell_type": "code",
   "execution_count": 13,
   "metadata": {
    "scrolled": true
   },
   "outputs": [
    {
     "name": "stdout",
     "output_type": "stream",
     "text": [
      "{'name': 'testSystem', 'description': '시스템 설명', 'sectors': 'default', 'instruments': ['AD'], 'from_date': '2019-08-01', 'to_date': None, 'principal': 1000000, 'heat_system': 'DefaultHeat', 'max_system_heat': 0.3, 'max_sector_heat': 0.3, 'max_trade_heat': 0.01, 'max_lots': 100, 'commission': 5.98, 'skid': 0.25, 'metrics': [['ema30', 'EMA', 'window=30'], ['ema5', 'EMA', 'window=5'], ['min30', 'MIN', 'window=30'], ['max300', 'MAX', 'window=300']], 'entry_rule': {'long': 'ema5>ema30', 'short': None}, 'exit_rule': {'long': 'ema5<ema30', 'short': None}, 'stop_rule': {'long': 'min30', 'short': None}}\n",
      "ema5<ema30\n",
      "<html>\n",
      "\n",
      "<body align=\"center\">\n",
      "    <div>\n",
      "        <h1> 시스템 성능 보고서 </h1>\n",
      "        <h3> 테스트 날짜: 2023년 06월 25일</h3>\n",
      "        <div align=\"center\">\n",
      "            <table border=\"1px solid black\" width=\"800px\" style=\"border-collapse:collapse\">\n",
      "                <tr>\n",
      "                    <th width=\"20%\"> 시스템명</th>\n",
      "                    <td style=\"padding-left:10px\"> testSystem</td>\n",
      "                </tr>\n",
      "                <tr>\n",
      "                    <th> 시스템 설명 </th>\n",
      "                    <td style=\"padding-left:10px\"> 시스템 설명</td>\n",
      "                </tr>\n",
      "                <tr>\n",
      "                    <th> 섹터 구분 </th>\n",
      "                    <td style=\"padding-left:10px\"> default</td>\n",
      "                </tr>\n",
      "                <tr>\n",
      "                    <th> 거래 상품 </th>\n",
      "                    <td style=\"padding-left:10px\"> AD</td>\n",
      "                </tr>\n",
      "                <tr>\n",
      "                    <th> 거래시작일 </th>\n",
      "                    <td style=\"padding-left:10px\"> 2019-08-01</td>\n",
      "                </tr>\n",
      "                <tr>\n",
      "                    <th> 거래종료일</th>\n",
      "                    <td style=\"padding-left:10px\"> None</td>\n",
      "                </tr>\n",
      "                <tr>\n",
      "                    <th> 투자 원금</th>\n",
      "                    <td style=\"padding-left:10px\"> 1,000,000</td>\n",
      "                </tr>\n",
      "                <tr>\n",
      "                    <th> Heat System </th>\n",
      "                    <td style=\"padding-left:10px\"> DefaultHeat</td>\n",
      "                </tr>\n",
      "                <tr>\n",
      "                    <th> Max system heat </th>\n",
      "                    <td style=\"padding-left:10px\"> 0.3</td>\n",
      "                </tr>\n",
      "                <tr>\n",
      "                    <th> Max sector heat </th>\n",
      "                    <td style=\"padding-left:10px\"> 0.3</td>\n",
      "                </tr>\n",
      "                <tr>\n",
      "                    <th> Max trade heat </th>\n",
      "                    <td style=\"padding-left:10px\"> 0.01</td>\n",
      "                </tr>\n",
      "                <tr>\n",
      "                    <th> 매매당 최대 계약수 </th>\n",
      "                    <td style=\"padding-left:10px\"> 100</td>\n",
      "                </tr>\n",
      "                <tr>\n",
      "                    <th> 수수료 </th>\n",
      "                    <td style=\"padding-left:10px\"> 5.98</td>\n",
      "                </tr>\n",
      "                <tr>\n",
      "                    <th> skid </th>\n",
      "                    <td style=\"padding-left:10px\"> 0.25</td>\n",
      "                </tr>\n",
      "                <tr>\n",
      "                    <th> 사용지표 </th>\n",
      "                    <td style=\"padding-left:10px\"> ema30  ,  EMA  ,  window=30<br>ema5  ,  EMA  ,  window=5<br>min30  ,  MIN  ,  window=30<br>max300  ,  MAX  ,  window=300</td>\n",
      "                </tr>\n",
      "                <tr>\n",
      "                    <th rowspan=\"2\"> 진입 시그널 </th>\n",
      "                    <td style=\"padding-left:10px\"> LONG| ema5&gtema30</td>\n",
      "                </tr>\n",
      "                <tr>\n",
      "                    <td style=\"padding-left:10px\"> SHORT| None</td>\n",
      "                </tr>\n",
      "                <tr>\n",
      "                    <th rowspan=\"2\"> 청산 시그널 </th>\n",
      "                    <td style=\"padding-left:10px\"> LONG| ema5&ltema30</td>\n",
      "                </tr>\n",
      "                <tr>\n",
      "                    <td style=\"padding-left:10px\"> SHORT| None</td>\n",
      "                </tr>\n",
      "                <tr>\n",
      "                    <th rowspan=\"2\"> STOP 시그널 </th>\n",
      "                    <td style=\"padding-left:10px\"> LONG|  min30</td>\n",
      "                </tr>\n",
      "                <tr>\n",
      "                    <td style=\"padding-left:10px\"> SHORT|  None</td>\n",
      "                </tr>\n",
      "            </table>\n",
      "\n",
      "        </div>\n",
      "\n",
      "    </div>\n",
      "    <div>\n",
      "        <h2> 1. 종합 결과 </h2>\n",
      "        <img src=\"equity_chart.svg\" width=\"900px;\" style=\"margin-left:50px; padding:0\" align=\"center\">\n",
      "        <div align=\"center\">\n",
      "            <table border=\"1\" width=\"800px\" style=\"border-collapse:collapse\" >\n",
      "                <tr align=\"center\">\n",
      "                    <th width=\"16.6%\">투자금</th>\n",
      "                    <th width=\"16.6%\">최종자산</th>\n",
      "                    <th width=\"16.6%\">수익률</th>\n",
      "                    <th width=\"16.6%\">Bliss</th>\n",
      "                    <th width=\"16.6%\">CAGR</th>\n",
      "                    <th width=\"16.6%\">MDD</th>\n",
      "                </tr>\n",
      "                <tr align=\"center\">\n",
      "                    <td>$ 1,000,000</td>\n",
      "                    <td>$ 1,123,676</td>\n",
      "                    <td>0.12</td>\n",
      "                    <td>0.001</td>\n",
      "                    <td>0.043</td>\n",
      "                    <td>35.86</td>\n",
      "                </tr>\n",
      "            </table>\n",
      "            <br>\n",
      "            <table border=\"1\" width=\"800px\" style=\"border-collapse:collapse\">\n",
      "                <tr align=\"center\">\n",
      "                    <th width=\"16.6%\">손익비</th>\n",
      "                    <th width=\"16.6%\">승률</th>\n",
      "                    <th width=\"16.6%\">위험대비손익</th>\n",
      "                    <th width=\"16.6%\">평균손익</th>\n",
      "                    <th width=\"16.6%\">평균수익</th>\n",
      "                    <th width=\"16.6%\">평균손실</th>\n",
      "                </tr>\n",
      "                <tr align=\"center\">\n",
      "                    <td>-1.3</td>\n",
      "                    <td>47.22 %</td>\n",
      "                    <td>0.12</td>\n",
      "                    <td>515</td>\n",
      "                    <td>5435</td>\n",
      "                    <td>-3888</td>\n",
      "                </tr>\n",
      "            </table>\n",
      "        </div>\n",
      "    </div>\n",
      "    <div style=\"margin-top:50px\">\n",
      "        <h2> 2. 섹터별 결과 </h2>\n",
      "        <div align=\"center\">\n",
      "            <table border=\"1\" width=\"800px\" style=\"border-collapse:collapse\">\n",
      "                <tr align=\"center\">\n",
      "                    <th width=\"12.5%\">섹터</th>\n",
      "                    <th width=\"12.5%\">총손익</th>\n",
      "                    <th width=\"12.5%\">평균손익</th>\n",
      "                    <th width=\"12.5%\">표준편차</th>\n",
      "                    <th width=\"12.5%\">위험대비손익</th>\n",
      "                    <th width=\"12.5%\">승률</th>\n",
      "                    <th width=\"12.5%\">보유기간</th>\n",
      "                    <th width=\"12.5%\">매매횟수</th>\n",
      "                </tr>\n",
      "                            <tr align='center'>            <td>currency</td>            <td>129,680</td>            <td>515</td>            <td>5,573</td>            <td>0.12</td>            <td>47.22 %</td>            <td>48</td>            <td>252</td>            </tr>            \n",
      "            </table>\n",
      "    </div>\n",
      "\n",
      "    <div style=\"margin-top:50px\">\n",
      "        <h2> 3. 상품별 결과 </h2>\n",
      "        <div align=\"center\">\n",
      "            <table border=\"1\" width=\"800px\" style=\"border-collapse:collapse\">\n",
      "                <tr align=\"center\">\n",
      "                    <th width=\"12.5%\">이름</th>\n",
      "                    <th width=\"12.5%\">총손익</th>\n",
      "                    <th width=\"12.5%\">평균손익</th>\n",
      "                    <th width=\"12.5%\">표준편차</th>\n",
      "                    <th width=\"12.5%\">위험대비손익</th>\n",
      "                    <th width=\"12.5%\">승률</th>\n",
      "                    <th width=\"12.5%\">보유기간</th>\n",
      "                    <th width=\"12.5%\">매매횟수</th>\n",
      "                </tr>\n",
      "                            <tr align='center'>            <td>CME Australian Dollar AUD</td>            <td>129,680</td>            <td>515</td>            <td>5,573</td>            <td>0.12</td>            <td>47.22 %</td>            <td>48</td>            <td>252</td>            </tr>            \n",
      "            </table>\n",
      "    </div>\n",
      "\n",
      "    <div style=\"margin-top:50px\">\n",
      "        <h2> 4. 상품 상세 결과 </h2>\n",
      "        \n",
      "            <div align=\"center\">\n",
      "                    <img src=\"trade_chart_(AD).svg\" width=\"1000px;\" style=\"margin-left:50px; padding:0\">\n",
      "                    <div align=\"center\">\n",
      "                        <table border=\"1\" width=\"800px\" style=\"border-collapse:collapse\" >\n",
      "                            <tr align=\"center\">\n",
      "                                <th width=\"14.3%\">총손익</th>\n",
      "                                <th width=\"14.3%\">총손익(틱)</th>\n",
      "                                <th width=\"14.3%\">평균손익(틱)</th>\n",
      "                                <th width=\"14.3%\">위험대비손익</th>\n",
      "                                <th width=\"14.3%\">승률</th>\n",
      "                                <th width=\"14.3%\">보유기간</th>\n",
      "                                <th width=\"14.3%\">매매횟수</th>\n",
      "                            </tr>\n",
      "                            <tr align=\"center\">\n",
      "                                <td width=\"14.3%\">129,680</td>\n",
      "                                <td width=\"14.3%\">43,351</td>\n",
      "                                <td width=\"14.3%\">172.0</td>\n",
      "                                <td width=\"14.3%\">0</td>\n",
      "                                <td width=\"14.3%\">0.47 %</td>\n",
      "                                <td width=\"14.3%\">48</td>\n",
      "                                <td width=\"14.3%\">252</td>\n",
      "                            </tr>\n",
      "                        </table>\n",
      "                    </div>\n",
      "            </div><br><br><br>\n",
      "            \n",
      "\n",
      "</body>\n",
      "\n",
      "</html>\n"
     ]
    }
   ],
   "source": [
    "system.create_report()"
   ]
  },
  {
   "cell_type": "code",
   "execution_count": 119,
   "metadata": {},
   "outputs": [
    {
     "data": {
      "text/plain": [
       "{'type': {'ema30': 'price',\n",
       "  'ema5': 'price',\n",
       "  'min30': 'price',\n",
       "  'max300': 'price'},\n",
       " 'name': 'testSystem'}"
      ]
     },
     "execution_count": 119,
     "metadata": {},
     "output_type": "execute_result"
    }
   ],
   "source": [
    "system.metrics.attrs"
   ]
  },
  {
   "cell_type": "code",
   "execution_count": 10,
   "metadata": {},
   "outputs": [],
   "source": [
    "df=system.metrics['AD']['min30']"
   ]
  },
  {
   "cell_type": "code",
   "execution_count": 12,
   "metadata": {},
   "outputs": [
    {
     "data": {
      "text/plain": [
       "DatetimeIndex(['1959-08-03', '1959-08-04', '1959-08-05', '1959-08-06',\n",
       "               '1959-08-07', '1959-08-10', '1959-08-11', '1959-08-12',\n",
       "               '1959-08-13', '1959-08-14',\n",
       "               ...\n",
       "               '2022-04-21', '2022-04-22', '2022-04-25', '2022-04-26',\n",
       "               '2022-04-27', '2022-04-28', '2022-04-29', '2022-05-02',\n",
       "               '2022-05-03', '2022-05-04'],\n",
       "              dtype='datetime64[ns]', name='date', length=15987, freq=None)"
      ]
     },
     "execution_count": 12,
     "metadata": {},
     "output_type": "execute_result"
    }
   ],
   "source": [
    "df.index"
   ]
  },
  {
   "cell_type": "code",
   "execution_count": 13,
   "metadata": {},
   "outputs": [
    {
     "data": {
      "text/plain": [
       "['AD']"
      ]
     },
     "execution_count": 13,
     "metadata": {},
     "output_type": "execute_result"
    }
   ],
   "source": [
    "system.symbols"
   ]
  },
  {
   "cell_type": "code",
   "execution_count": 16,
   "metadata": {},
   "outputs": [],
   "source": [
    "starts = {} #첫 거래 시작일\n",
    "for symbol in ['AD']:\n",
    "    flag = trader.quotes[symbol][['open','high','low','close']].isna().any(axis=1)\n",
    "    system.signals.loc[flag, symbol] = np.nan\n",
    "    starts[symbol] = trader.quotes[symbol][~flag].index[0]"
   ]
  },
  {
   "cell_type": "code",
   "execution_count": 17,
   "metadata": {},
   "outputs": [
    {
     "data": {
      "text/plain": [
       "{'AD': Timestamp('1987-01-13 00:00:00')}"
      ]
     },
     "execution_count": 17,
     "metadata": {},
     "output_type": "execute_result"
    }
   ],
   "source": [
    "starts"
   ]
  },
  {
   "cell_type": "code",
   "execution_count": 19,
   "metadata": {},
   "outputs": [],
   "source": [
    "flag = trader.quotes['AD'].isna().any(axis=1)"
   ]
  },
  {
   "cell_type": "code",
   "execution_count": 27,
   "metadata": {},
   "outputs": [
    {
     "data": {
      "text/plain": [
       "Timestamp('1987-01-13 00:00:00')"
      ]
     },
     "execution_count": 27,
     "metadata": {},
     "output_type": "execute_result"
    }
   ],
   "source": [
    "system.signals.first_valid_index()"
   ]
  },
  {
   "cell_type": "code",
   "execution_count": 31,
   "metadata": {},
   "outputs": [
    {
     "data": {
      "text/plain": [
       "Timestamp('1987-01-12 00:00:00')"
      ]
     },
     "execution_count": 31,
     "metadata": {},
     "output_type": "execute_result"
    }
   ],
   "source": [
    "system.signals.index[system.signals.index.get_loc(system.signals.first_valid_index())-1]"
   ]
  },
  {
   "cell_type": "code",
   "execution_count": 38,
   "metadata": {},
   "outputs": [],
   "source": [
    "df=df.iloc[1000]"
   ]
  },
  {
   "cell_type": "code",
   "execution_count": 47,
   "metadata": {},
   "outputs": [],
   "source": [
    "mask = df.isna().groupby('symbol').any() "
   ]
  },
  {
   "cell_type": "code",
   "execution_count": 51,
   "metadata": {},
   "outputs": [
    {
     "data": {
      "text/plain": [
       "symbol\n",
       "BO    False\n",
       "C     False\n",
       "HG    False\n",
       "W     False\n",
       "Name: 1963-07-22 00:00:00, dtype: bool"
      ]
     },
     "execution_count": 51,
     "metadata": {},
     "output_type": "execute_result"
    }
   ],
   "source": [
    "mask[~mask]"
   ]
  },
  {
   "cell_type": "code",
   "execution_count": 158,
   "metadata": {},
   "outputs": [],
   "source": [
    "f=d =eval(\"df['ema30']>df['min30']\")"
   ]
  },
  {
   "cell_type": "code",
   "execution_count": 159,
   "metadata": {},
   "outputs": [],
   "source": [
    "f.name=('AD','stop_rule')"
   ]
  },
  {
   "cell_type": "code",
   "execution_count": 161,
   "metadata": {},
   "outputs": [
    {
     "data": {
      "text/html": [
       "<div>\n",
       "<style scoped>\n",
       "    .dataframe tbody tr th:only-of-type {\n",
       "        vertical-align: middle;\n",
       "    }\n",
       "\n",
       "    .dataframe tbody tr th {\n",
       "        vertical-align: top;\n",
       "    }\n",
       "\n",
       "    .dataframe thead tr th {\n",
       "        text-align: left;\n",
       "    }\n",
       "\n",
       "    .dataframe thead tr:last-of-type th {\n",
       "        text-align: right;\n",
       "    }\n",
       "</style>\n",
       "<table border=\"1\" class=\"dataframe\">\n",
       "  <thead>\n",
       "    <tr>\n",
       "      <th></th>\n",
       "      <th colspan=\"2\" halign=\"left\">AD</th>\n",
       "    </tr>\n",
       "    <tr>\n",
       "      <th></th>\n",
       "      <th>stop_rule</th>\n",
       "      <th>stop_rule</th>\n",
       "    </tr>\n",
       "    <tr>\n",
       "      <th>date</th>\n",
       "      <th></th>\n",
       "      <th></th>\n",
       "    </tr>\n",
       "  </thead>\n",
       "  <tbody>\n",
       "    <tr>\n",
       "      <th>1959-08-03</th>\n",
       "      <td>False</td>\n",
       "      <td>False</td>\n",
       "    </tr>\n",
       "    <tr>\n",
       "      <th>1959-08-04</th>\n",
       "      <td>False</td>\n",
       "      <td>False</td>\n",
       "    </tr>\n",
       "    <tr>\n",
       "      <th>1959-08-05</th>\n",
       "      <td>False</td>\n",
       "      <td>False</td>\n",
       "    </tr>\n",
       "    <tr>\n",
       "      <th>1959-08-06</th>\n",
       "      <td>False</td>\n",
       "      <td>False</td>\n",
       "    </tr>\n",
       "    <tr>\n",
       "      <th>1959-08-07</th>\n",
       "      <td>False</td>\n",
       "      <td>False</td>\n",
       "    </tr>\n",
       "    <tr>\n",
       "      <th>...</th>\n",
       "      <td>...</td>\n",
       "      <td>...</td>\n",
       "    </tr>\n",
       "    <tr>\n",
       "      <th>2022-04-28</th>\n",
       "      <td>True</td>\n",
       "      <td>True</td>\n",
       "    </tr>\n",
       "    <tr>\n",
       "      <th>2022-04-29</th>\n",
       "      <td>True</td>\n",
       "      <td>True</td>\n",
       "    </tr>\n",
       "    <tr>\n",
       "      <th>2022-05-02</th>\n",
       "      <td>True</td>\n",
       "      <td>True</td>\n",
       "    </tr>\n",
       "    <tr>\n",
       "      <th>2022-05-03</th>\n",
       "      <td>True</td>\n",
       "      <td>True</td>\n",
       "    </tr>\n",
       "    <tr>\n",
       "      <th>2022-05-04</th>\n",
       "      <td>True</td>\n",
       "      <td>True</td>\n",
       "    </tr>\n",
       "  </tbody>\n",
       "</table>\n",
       "<p>15987 rows × 2 columns</p>\n",
       "</div>"
      ],
      "text/plain": [
       "                  AD          \n",
       "           stop_rule stop_rule\n",
       "date                          \n",
       "1959-08-03     False     False\n",
       "1959-08-04     False     False\n",
       "1959-08-05     False     False\n",
       "1959-08-06     False     False\n",
       "1959-08-07     False     False\n",
       "...              ...       ...\n",
       "2022-04-28      True      True\n",
       "2022-04-29      True      True\n",
       "2022-05-02      True      True\n",
       "2022-05-03      True      True\n",
       "2022-05-04      True      True\n",
       "\n",
       "[15987 rows x 2 columns]"
      ]
     },
     "execution_count": 161,
     "metadata": {},
     "output_type": "execute_result"
    }
   ],
   "source": [
    "pd.concat([d,f],axis=1)"
   ]
  },
  {
   "cell_type": "code",
   "execution_count": 111,
   "metadata": {},
   "outputs": [
    {
     "data": {
      "text/html": [
       "<div>\n",
       "<style scoped>\n",
       "    .dataframe tbody tr th:only-of-type {\n",
       "        vertical-align: middle;\n",
       "    }\n",
       "\n",
       "    .dataframe tbody tr th {\n",
       "        vertical-align: top;\n",
       "    }\n",
       "\n",
       "    .dataframe thead th {\n",
       "        text-align: right;\n",
       "    }\n",
       "</style>\n",
       "<table border=\"1\" class=\"dataframe\">\n",
       "  <thead>\n",
       "    <tr style=\"text-align: right;\">\n",
       "      <th>field</th>\n",
       "      <th>open</th>\n",
       "      <th>high</th>\n",
       "      <th>low</th>\n",
       "      <th>close</th>\n",
       "      <th>volume</th>\n",
       "      <th>oi</th>\n",
       "    </tr>\n",
       "    <tr>\n",
       "      <th>date</th>\n",
       "      <th></th>\n",
       "      <th></th>\n",
       "      <th></th>\n",
       "      <th></th>\n",
       "      <th></th>\n",
       "      <th></th>\n",
       "    </tr>\n",
       "  </thead>\n",
       "  <tbody>\n",
       "    <tr>\n",
       "      <th>1959-08-03</th>\n",
       "      <td>0.00000</td>\n",
       "      <td>0.00000</td>\n",
       "      <td>0.00000</td>\n",
       "      <td>0.00000</td>\n",
       "      <td>0.0</td>\n",
       "      <td>0.0</td>\n",
       "    </tr>\n",
       "    <tr>\n",
       "      <th>1959-08-04</th>\n",
       "      <td>0.00000</td>\n",
       "      <td>0.00000</td>\n",
       "      <td>0.00000</td>\n",
       "      <td>0.00000</td>\n",
       "      <td>0.0</td>\n",
       "      <td>0.0</td>\n",
       "    </tr>\n",
       "    <tr>\n",
       "      <th>1959-08-05</th>\n",
       "      <td>0.00000</td>\n",
       "      <td>0.00000</td>\n",
       "      <td>0.00000</td>\n",
       "      <td>0.00000</td>\n",
       "      <td>0.0</td>\n",
       "      <td>0.0</td>\n",
       "    </tr>\n",
       "    <tr>\n",
       "      <th>1959-08-06</th>\n",
       "      <td>0.00000</td>\n",
       "      <td>0.00000</td>\n",
       "      <td>0.00000</td>\n",
       "      <td>0.00000</td>\n",
       "      <td>0.0</td>\n",
       "      <td>0.0</td>\n",
       "    </tr>\n",
       "    <tr>\n",
       "      <th>1959-08-07</th>\n",
       "      <td>0.00000</td>\n",
       "      <td>0.00000</td>\n",
       "      <td>0.00000</td>\n",
       "      <td>0.00000</td>\n",
       "      <td>0.0</td>\n",
       "      <td>0.0</td>\n",
       "    </tr>\n",
       "    <tr>\n",
       "      <th>...</th>\n",
       "      <td>...</td>\n",
       "      <td>...</td>\n",
       "      <td>...</td>\n",
       "      <td>...</td>\n",
       "      <td>...</td>\n",
       "      <td>...</td>\n",
       "    </tr>\n",
       "    <tr>\n",
       "      <th>2022-04-28</th>\n",
       "      <td>0.71290</td>\n",
       "      <td>0.71660</td>\n",
       "      <td>0.70595</td>\n",
       "      <td>0.70995</td>\n",
       "      <td>112019.0</td>\n",
       "      <td>144283.0</td>\n",
       "    </tr>\n",
       "    <tr>\n",
       "      <th>2022-04-29</th>\n",
       "      <td>0.71035</td>\n",
       "      <td>0.71845</td>\n",
       "      <td>0.70610</td>\n",
       "      <td>0.70870</td>\n",
       "      <td>124501.0</td>\n",
       "      <td>144179.0</td>\n",
       "    </tr>\n",
       "    <tr>\n",
       "      <th>2022-05-02</th>\n",
       "      <td>0.70710</td>\n",
       "      <td>0.70870</td>\n",
       "      <td>0.70355</td>\n",
       "      <td>0.70415</td>\n",
       "      <td>91807.0</td>\n",
       "      <td>140428.0</td>\n",
       "    </tr>\n",
       "    <tr>\n",
       "      <th>2022-05-03</th>\n",
       "      <td>0.70570</td>\n",
       "      <td>0.71535</td>\n",
       "      <td>0.70525</td>\n",
       "      <td>0.70990</td>\n",
       "      <td>114059.0</td>\n",
       "      <td>143087.0</td>\n",
       "    </tr>\n",
       "    <tr>\n",
       "      <th>2022-05-04</th>\n",
       "      <td>0.71005</td>\n",
       "      <td>0.72700</td>\n",
       "      <td>0.70925</td>\n",
       "      <td>0.72370</td>\n",
       "      <td>117416.0</td>\n",
       "      <td>151039.0</td>\n",
       "    </tr>\n",
       "  </tbody>\n",
       "</table>\n",
       "<p>16028 rows × 6 columns</p>\n",
       "</div>"
      ],
      "text/plain": [
       "field          open     high      low    close    volume        oi\n",
       "date                                                              \n",
       "1959-08-03  0.00000  0.00000  0.00000  0.00000       0.0       0.0\n",
       "1959-08-04  0.00000  0.00000  0.00000  0.00000       0.0       0.0\n",
       "1959-08-05  0.00000  0.00000  0.00000  0.00000       0.0       0.0\n",
       "1959-08-06  0.00000  0.00000  0.00000  0.00000       0.0       0.0\n",
       "1959-08-07  0.00000  0.00000  0.00000  0.00000       0.0       0.0\n",
       "...             ...      ...      ...      ...       ...       ...\n",
       "2022-04-28  0.71290  0.71660  0.70595  0.70995  112019.0  144283.0\n",
       "2022-04-29  0.71035  0.71845  0.70610  0.70870  124501.0  144179.0\n",
       "2022-05-02  0.70710  0.70870  0.70355  0.70415   91807.0  140428.0\n",
       "2022-05-03  0.70570  0.71535  0.70525  0.70990  114059.0  143087.0\n",
       "2022-05-04  0.71005  0.72700  0.70925  0.72370  117416.0  151039.0\n",
       "\n",
       "[16028 rows x 6 columns]"
      ]
     },
     "execution_count": 111,
     "metadata": {},
     "output_type": "execute_result"
    }
   ],
   "source": [
    "df"
   ]
  },
  {
   "cell_type": "code",
   "execution_count": 94,
   "metadata": {},
   "outputs": [
    {
     "data": {
      "text/plain": [
       "date\n",
       "1959-08-03     True\n",
       "1959-08-04     True\n",
       "1959-08-05     True\n",
       "1959-08-06     True\n",
       "1959-08-07     True\n",
       "              ...  \n",
       "2022-04-28    False\n",
       "2022-04-29    False\n",
       "2022-05-02    False\n",
       "2022-05-03    False\n",
       "2022-05-04    False\n",
       "Length: 16028, dtype: bool"
      ]
     },
     "execution_count": 94,
     "metadata": {},
     "output_type": "execute_result"
    }
   ],
   "source": [
    "mask"
   ]
  },
  {
   "cell_type": "code",
   "execution_count": 101,
   "metadata": {},
   "outputs": [
    {
     "data": {
      "text/html": [
       "<div>\n",
       "<style scoped>\n",
       "    .dataframe tbody tr th:only-of-type {\n",
       "        vertical-align: middle;\n",
       "    }\n",
       "\n",
       "    .dataframe tbody tr th {\n",
       "        vertical-align: top;\n",
       "    }\n",
       "\n",
       "    .dataframe thead th {\n",
       "        text-align: right;\n",
       "    }\n",
       "</style>\n",
       "<table border=\"1\" class=\"dataframe\">\n",
       "  <thead>\n",
       "    <tr style=\"text-align: right;\">\n",
       "      <th>field</th>\n",
       "      <th>open</th>\n",
       "      <th>high</th>\n",
       "      <th>low</th>\n",
       "      <th>close</th>\n",
       "      <th>volume</th>\n",
       "      <th>oi</th>\n",
       "    </tr>\n",
       "    <tr>\n",
       "      <th>date</th>\n",
       "      <th></th>\n",
       "      <th></th>\n",
       "      <th></th>\n",
       "      <th></th>\n",
       "      <th></th>\n",
       "      <th></th>\n",
       "    </tr>\n",
       "  </thead>\n",
       "  <tbody>\n",
       "    <tr>\n",
       "      <th>1987-01-13</th>\n",
       "      <td>0.01070</td>\n",
       "      <td>0.01180</td>\n",
       "      <td>0.00680</td>\n",
       "      <td>0.00700</td>\n",
       "      <td>1854</td>\n",
       "      <td>915</td>\n",
       "    </tr>\n",
       "    <tr>\n",
       "      <th>1987-01-14</th>\n",
       "      <td>-0.00300</td>\n",
       "      <td>-0.00190</td>\n",
       "      <td>-0.00640</td>\n",
       "      <td>-0.00530</td>\n",
       "      <td>1446</td>\n",
       "      <td>930</td>\n",
       "    </tr>\n",
       "    <tr>\n",
       "      <th>1987-01-15</th>\n",
       "      <td>0.00480</td>\n",
       "      <td>0.00490</td>\n",
       "      <td>0.00350</td>\n",
       "      <td>0.00370</td>\n",
       "      <td>539</td>\n",
       "      <td>786</td>\n",
       "    </tr>\n",
       "    <tr>\n",
       "      <th>1987-01-16</th>\n",
       "      <td>0.00560</td>\n",
       "      <td>0.00680</td>\n",
       "      <td>0.00560</td>\n",
       "      <td>0.00650</td>\n",
       "      <td>537</td>\n",
       "      <td>964</td>\n",
       "    </tr>\n",
       "    <tr>\n",
       "      <th>1987-01-19</th>\n",
       "      <td>0.00640</td>\n",
       "      <td>0.00980</td>\n",
       "      <td>0.00640</td>\n",
       "      <td>0.00830</td>\n",
       "      <td>506</td>\n",
       "      <td>866</td>\n",
       "    </tr>\n",
       "    <tr>\n",
       "      <th>...</th>\n",
       "      <td>...</td>\n",
       "      <td>...</td>\n",
       "      <td>...</td>\n",
       "      <td>...</td>\n",
       "      <td>...</td>\n",
       "      <td>...</td>\n",
       "    </tr>\n",
       "    <tr>\n",
       "      <th>2022-04-28</th>\n",
       "      <td>0.71290</td>\n",
       "      <td>0.71660</td>\n",
       "      <td>0.70595</td>\n",
       "      <td>0.70995</td>\n",
       "      <td>112019</td>\n",
       "      <td>144283</td>\n",
       "    </tr>\n",
       "    <tr>\n",
       "      <th>2022-04-29</th>\n",
       "      <td>0.71035</td>\n",
       "      <td>0.71845</td>\n",
       "      <td>0.70610</td>\n",
       "      <td>0.70870</td>\n",
       "      <td>124501</td>\n",
       "      <td>144179</td>\n",
       "    </tr>\n",
       "    <tr>\n",
       "      <th>2022-05-02</th>\n",
       "      <td>0.70710</td>\n",
       "      <td>0.70870</td>\n",
       "      <td>0.70355</td>\n",
       "      <td>0.70415</td>\n",
       "      <td>91807</td>\n",
       "      <td>140428</td>\n",
       "    </tr>\n",
       "    <tr>\n",
       "      <th>2022-05-03</th>\n",
       "      <td>0.70570</td>\n",
       "      <td>0.71535</td>\n",
       "      <td>0.70525</td>\n",
       "      <td>0.70990</td>\n",
       "      <td>114059</td>\n",
       "      <td>143087</td>\n",
       "    </tr>\n",
       "    <tr>\n",
       "      <th>2022-05-04</th>\n",
       "      <td>0.71005</td>\n",
       "      <td>0.72700</td>\n",
       "      <td>0.70925</td>\n",
       "      <td>0.72370</td>\n",
       "      <td>117416</td>\n",
       "      <td>151039</td>\n",
       "    </tr>\n",
       "  </tbody>\n",
       "</table>\n",
       "<p>8916 rows × 6 columns</p>\n",
       "</div>"
      ],
      "text/plain": [
       "field          open     high      low    close  volume      oi\n",
       "date                                                          \n",
       "1987-01-13  0.01070  0.01180  0.00680  0.00700    1854     915\n",
       "1987-01-14 -0.00300 -0.00190 -0.00640 -0.00530    1446     930\n",
       "1987-01-15  0.00480  0.00490  0.00350  0.00370     539     786\n",
       "1987-01-16  0.00560  0.00680  0.00560  0.00650     537     964\n",
       "1987-01-19  0.00640  0.00980  0.00640  0.00830     506     866\n",
       "...             ...      ...      ...      ...     ...     ...\n",
       "2022-04-28  0.71290  0.71660  0.70595  0.70995  112019  144283\n",
       "2022-04-29  0.71035  0.71845  0.70610  0.70870  124501  144179\n",
       "2022-05-02  0.70710  0.70870  0.70355  0.70415   91807  140428\n",
       "2022-05-03  0.70570  0.71535  0.70525  0.70990  114059  143087\n",
       "2022-05-04  0.71005  0.72700  0.70925  0.72370  117416  151039\n",
       "\n",
       "[8916 rows x 6 columns]"
      ]
     },
     "execution_count": 101,
     "metadata": {},
     "output_type": "execute_result"
    }
   ],
   "source": [
    "instruments['AD'].quotes()"
   ]
  },
  {
   "cell_type": "code",
   "execution_count": 49,
   "metadata": {},
   "outputs": [],
   "source": [
    "quote = trader.quotes"
   ]
  },
  {
   "cell_type": "code",
   "execution_count": 52,
   "metadata": {},
   "outputs": [],
   "source": [
    "quote.MA(window=30, inplace=True)"
   ]
  },
  {
   "cell_type": "code",
   "execution_count": 65,
   "metadata": {},
   "outputs": [],
   "source": [
    "df=Quotes(quote['AD'], type='single')"
   ]
  },
  {
   "cell_type": "code",
   "execution_count": 67,
   "metadata": {},
   "outputs": [],
   "source": [
    "df.MA(window=10, inplace=True)"
   ]
  },
  {
   "cell_type": "code",
   "execution_count": 68,
   "metadata": {},
   "outputs": [
    {
     "data": {
      "text/html": [
       "<div>\n",
       "<style scoped>\n",
       "    .dataframe tbody tr th:only-of-type {\n",
       "        vertical-align: middle;\n",
       "    }\n",
       "\n",
       "    .dataframe tbody tr th {\n",
       "        vertical-align: top;\n",
       "    }\n",
       "\n",
       "    .dataframe thead th {\n",
       "        text-align: right;\n",
       "    }\n",
       "</style>\n",
       "<table border=\"1\" class=\"dataframe\">\n",
       "  <thead>\n",
       "    <tr style=\"text-align: right;\">\n",
       "      <th>field</th>\n",
       "      <th>open</th>\n",
       "      <th>high</th>\n",
       "      <th>low</th>\n",
       "      <th>close</th>\n",
       "      <th>volume</th>\n",
       "      <th>oi</th>\n",
       "      <th>ma30</th>\n",
       "      <th>ma10</th>\n",
       "    </tr>\n",
       "    <tr>\n",
       "      <th>date</th>\n",
       "      <th></th>\n",
       "      <th></th>\n",
       "      <th></th>\n",
       "      <th></th>\n",
       "      <th></th>\n",
       "      <th></th>\n",
       "      <th></th>\n",
       "      <th></th>\n",
       "    </tr>\n",
       "  </thead>\n",
       "  <tbody>\n",
       "    <tr>\n",
       "      <th>1959-08-03</th>\n",
       "      <td>NaN</td>\n",
       "      <td>NaN</td>\n",
       "      <td>NaN</td>\n",
       "      <td>NaN</td>\n",
       "      <td>NaN</td>\n",
       "      <td>NaN</td>\n",
       "      <td>NaN</td>\n",
       "      <td>NaN</td>\n",
       "    </tr>\n",
       "    <tr>\n",
       "      <th>1959-08-04</th>\n",
       "      <td>NaN</td>\n",
       "      <td>NaN</td>\n",
       "      <td>NaN</td>\n",
       "      <td>NaN</td>\n",
       "      <td>NaN</td>\n",
       "      <td>NaN</td>\n",
       "      <td>NaN</td>\n",
       "      <td>NaN</td>\n",
       "    </tr>\n",
       "    <tr>\n",
       "      <th>1959-08-05</th>\n",
       "      <td>NaN</td>\n",
       "      <td>NaN</td>\n",
       "      <td>NaN</td>\n",
       "      <td>NaN</td>\n",
       "      <td>NaN</td>\n",
       "      <td>NaN</td>\n",
       "      <td>NaN</td>\n",
       "      <td>NaN</td>\n",
       "    </tr>\n",
       "    <tr>\n",
       "      <th>1959-08-06</th>\n",
       "      <td>NaN</td>\n",
       "      <td>NaN</td>\n",
       "      <td>NaN</td>\n",
       "      <td>NaN</td>\n",
       "      <td>NaN</td>\n",
       "      <td>NaN</td>\n",
       "      <td>NaN</td>\n",
       "      <td>NaN</td>\n",
       "    </tr>\n",
       "    <tr>\n",
       "      <th>1959-08-07</th>\n",
       "      <td>NaN</td>\n",
       "      <td>NaN</td>\n",
       "      <td>NaN</td>\n",
       "      <td>NaN</td>\n",
       "      <td>NaN</td>\n",
       "      <td>NaN</td>\n",
       "      <td>NaN</td>\n",
       "      <td>NaN</td>\n",
       "    </tr>\n",
       "    <tr>\n",
       "      <th>...</th>\n",
       "      <td>...</td>\n",
       "      <td>...</td>\n",
       "      <td>...</td>\n",
       "      <td>...</td>\n",
       "      <td>...</td>\n",
       "      <td>...</td>\n",
       "      <td>...</td>\n",
       "      <td>...</td>\n",
       "    </tr>\n",
       "    <tr>\n",
       "      <th>2022-04-28</th>\n",
       "      <td>0.71290</td>\n",
       "      <td>0.71660</td>\n",
       "      <td>0.70595</td>\n",
       "      <td>0.70995</td>\n",
       "      <td>112019.0</td>\n",
       "      <td>144283.0</td>\n",
       "      <td>0.741827</td>\n",
       "      <td>0.727695</td>\n",
       "    </tr>\n",
       "    <tr>\n",
       "      <th>2022-04-29</th>\n",
       "      <td>0.71035</td>\n",
       "      <td>0.71845</td>\n",
       "      <td>0.70610</td>\n",
       "      <td>0.70870</td>\n",
       "      <td>124501.0</td>\n",
       "      <td>144179.0</td>\n",
       "      <td>0.740832</td>\n",
       "      <td>0.724340</td>\n",
       "    </tr>\n",
       "    <tr>\n",
       "      <th>2022-05-02</th>\n",
       "      <td>0.70710</td>\n",
       "      <td>0.70870</td>\n",
       "      <td>0.70355</td>\n",
       "      <td>0.70415</td>\n",
       "      <td>91807.0</td>\n",
       "      <td>140428.0</td>\n",
       "      <td>0.739580</td>\n",
       "      <td>0.721195</td>\n",
       "    </tr>\n",
       "    <tr>\n",
       "      <th>2022-05-03</th>\n",
       "      <td>0.70570</td>\n",
       "      <td>0.71535</td>\n",
       "      <td>0.70525</td>\n",
       "      <td>0.70990</td>\n",
       "      <td>114059.0</td>\n",
       "      <td>143087.0</td>\n",
       "      <td>0.738575</td>\n",
       "      <td>0.718380</td>\n",
       "    </tr>\n",
       "    <tr>\n",
       "      <th>2022-05-04</th>\n",
       "      <td>0.71005</td>\n",
       "      <td>0.72700</td>\n",
       "      <td>0.70925</td>\n",
       "      <td>0.72370</td>\n",
       "      <td>117416.0</td>\n",
       "      <td>151039.0</td>\n",
       "      <td>0.737803</td>\n",
       "      <td>0.716285</td>\n",
       "    </tr>\n",
       "  </tbody>\n",
       "</table>\n",
       "<p>15987 rows × 8 columns</p>\n",
       "</div>"
      ],
      "text/plain": [
       "field          open     high      low    close    volume        oi      ma30  \\\n",
       "date                                                                           \n",
       "1959-08-03      NaN      NaN      NaN      NaN       NaN       NaN       NaN   \n",
       "1959-08-04      NaN      NaN      NaN      NaN       NaN       NaN       NaN   \n",
       "1959-08-05      NaN      NaN      NaN      NaN       NaN       NaN       NaN   \n",
       "1959-08-06      NaN      NaN      NaN      NaN       NaN       NaN       NaN   \n",
       "1959-08-07      NaN      NaN      NaN      NaN       NaN       NaN       NaN   \n",
       "...             ...      ...      ...      ...       ...       ...       ...   \n",
       "2022-04-28  0.71290  0.71660  0.70595  0.70995  112019.0  144283.0  0.741827   \n",
       "2022-04-29  0.71035  0.71845  0.70610  0.70870  124501.0  144179.0  0.740832   \n",
       "2022-05-02  0.70710  0.70870  0.70355  0.70415   91807.0  140428.0  0.739580   \n",
       "2022-05-03  0.70570  0.71535  0.70525  0.70990  114059.0  143087.0  0.738575   \n",
       "2022-05-04  0.71005  0.72700  0.70925  0.72370  117416.0  151039.0  0.737803   \n",
       "\n",
       "field           ma10  \n",
       "date                  \n",
       "1959-08-03       NaN  \n",
       "1959-08-04       NaN  \n",
       "1959-08-05       NaN  \n",
       "1959-08-06       NaN  \n",
       "1959-08-07       NaN  \n",
       "...              ...  \n",
       "2022-04-28  0.727695  \n",
       "2022-04-29  0.724340  \n",
       "2022-05-02  0.721195  \n",
       "2022-05-03  0.718380  \n",
       "2022-05-04  0.716285  \n",
       "\n",
       "[15987 rows x 8 columns]"
      ]
     },
     "execution_count": 68,
     "metadata": {},
     "output_type": "execute_result"
    }
   ],
   "source": [
    "df"
   ]
  },
  {
   "cell_type": "code",
   "execution_count": 73,
   "metadata": {},
   "outputs": [
    {
     "ename": "AttributeError",
     "evalue": "'Index' object has no attribute 'levels'",
     "output_type": "error",
     "traceback": [
      "\u001b[1;31m---------------------------------------------------------------------------\u001b[0m",
      "\u001b[1;31mAttributeError\u001b[0m                            Traceback (most recent call last)",
      "Cell \u001b[1;32mIn [73], line 1\u001b[0m\n\u001b[1;32m----> 1\u001b[0m \u001b[43mdf\u001b[49m\u001b[38;5;241;43m.\u001b[39;49m\u001b[43mcolumns\u001b[49m\u001b[38;5;241;43m.\u001b[39;49m\u001b[43mlevels\u001b[49m[\u001b[38;5;241m0\u001b[39m]\n",
      "\u001b[1;31mAttributeError\u001b[0m: 'Index' object has no attribute 'levels'"
     ]
    }
   ],
   "source": [
    "df.columns.levels"
   ]
  },
  {
   "cell_type": "code",
   "execution_count": 75,
   "metadata": {},
   "outputs": [],
   "source": [
    "f=quote.columns"
   ]
  },
  {
   "cell_type": "code",
   "execution_count": 88,
   "metadata": {},
   "outputs": [
    {
     "data": {
      "text/plain": [
       "2"
      ]
     },
     "execution_count": 88,
     "metadata": {},
     "output_type": "execute_result"
    }
   ],
   "source": [
    "len(f.names)"
   ]
  },
  {
   "cell_type": "code",
   "execution_count": 81,
   "metadata": {},
   "outputs": [],
   "source": [
    "d =df.columns"
   ]
  },
  {
   "cell_type": "code",
   "execution_count": 87,
   "metadata": {},
   "outputs": [
    {
     "data": {
      "text/plain": [
       "1"
      ]
     },
     "execution_count": 87,
     "metadata": {},
     "output_type": "execute_result"
    }
   ],
   "source": [
    "len(d.names)"
   ]
  },
  {
   "cell_type": "code",
   "execution_count": null,
   "metadata": {},
   "outputs": [],
   "source": []
  }
 ],
 "metadata": {
  "kernelspec": {
   "display_name": "Python 3 (ipykernel)",
   "language": "python",
   "name": "python3"
  },
  "language_info": {
   "codemirror_mode": {
    "name": "ipython",
    "version": 3
   },
   "file_extension": ".py",
   "mimetype": "text/x-python",
   "name": "python",
   "nbconvert_exporter": "python",
   "pygments_lexer": "ipython3",
   "version": "3.8.15"
  }
 },
 "nbformat": 4,
 "nbformat_minor": 2
}
