{
 "cells": [
  {
   "cell_type": "code",
   "execution_count": 2,
   "metadata": {},
   "outputs": [],
   "source": [
    "import sys, os #imp\n",
    "sys.path.append('..')\n",
    "import pandas as pd\n",
    "import yaml\n",
    "import backtesting as bt\n",
    "import matplotlib.pyplot as plt\n",
    "import numpy as np\n",
    "from tools.instruments import instruments\n",
    "from tools.display import highchart"
   ]
  },
  {
   "cell_type": "code",
   "execution_count": 3,
   "metadata": {},
   "outputs": [],
   "source": [
    "%load_ext autoreload\n",
    "%aimport backtesting.system\n",
    "%aimport backtesting.trader\n",
    "%aimport tools.quotes\n",
    "%aimport tools.instruments\n",
    "%aimport backtesting.trades\n",
    "%aimport tools.display\n",
    "%autoreload 2"
   ]
  },
  {
   "cell_type": "code",
   "execution_count": 34,
   "metadata": {},
   "outputs": [
    {
     "name": "stdout",
     "output_type": "stream",
     "text": [
      "{'name': 'testSystem', 'description': '시스템 설명', 'sectors': None, 'instruments': ['AD', 'C', 'W', 'NQ'], 'from_date': '2021-01-01', 'to_date': None, 'principal': 100000, 'heat_system': 'DefaultHeat', 'max_system_heat': 0.3, 'max_sector_heat': 0.3, 'max_trade_heat': 0.3, 'max_lots': 1, 'commission': 5.98, 'skid': 20, 'allow_pyramiding': False, 'metrics': [['trendup', 'TREND', 'period=50', \"direction='up'\", 'threshold=0.7'], ['min50', 'MIN', 'period=50']], 'entry_rule': {'long': 'trendup>3', 'short': None}, 'exit_rule': {'long': 'low<min50', 'short': None}, 'stop_rule': {'long': 'min50', 'short': None}}\n"
     ]
    }
   ],
   "source": [
    "with open('systems/sample.yaml', encoding='utf-8') as f:\n",
    "    system1 = yaml.load(f, Loader=yaml.FullLoader)\n",
    "    print(system1)"
   ]
  },
  {
   "cell_type": "code",
   "execution_count": 35,
   "metadata": {
    "scrolled": true
   },
   "outputs": [
    {
     "name": "stdout",
     "output_type": "stream",
     "text": [
      "매매시작\n",
      "거래일: 2021-01-04 00:00:00, 시스템: testSystem\n",
      "거래일: 2021-01-05 00:00:00, 시스템: testSystem\n",
      "거래일: 2021-01-06 00:00:00, 시스템: testSystem\n",
      "거래일: 2021-01-07 00:00:00, 시스템: testSystem\n",
      "거래일: 2021-01-08 00:00:00, 시스템: testSystem\n",
      "거래일: 2021-01-11 00:00:00, 시스템: testSystem\n",
      "거래일: 2021-01-12 00:00:00, 시스템: testSystem\n",
      "거래일: 2021-01-13 00:00:00, 시스템: testSystem\n",
      "거래일: 2021-01-14 00:00:00, 시스템: testSystem\n",
      "거래일: 2021-01-15 00:00:00, 시스템: testSystem\n",
      "거래일: 2021-01-18 00:00:00, 시스템: testSystem\n",
      "거래일: 2021-01-19 00:00:00, 시스템: testSystem\n",
      "거래일: 2021-01-20 00:00:00, 시스템: testSystem\n",
      "거래일: 2021-01-21 00:00:00, 시스템: testSystem\n",
      "거래일: 2021-01-22 00:00:00, 시스템: testSystem\n",
      "거래일: 2021-01-25 00:00:00, 시스템: testSystem\n",
      "거래일: 2021-01-26 00:00:00, 시스템: testSystem\n",
      "거래일: 2021-01-27 00:00:00, 시스템: testSystem\n",
      "거래일: 2021-01-28 00:00:00, 시스템: testSystem\n",
      "거래일: 2021-01-29 00:00:00, 시스템: testSystem\n",
      "거래일: 2021-02-01 00:00:00, 시스템: testSystem\n",
      "거래일: 2021-02-02 00:00:00, 시스템: testSystem\n",
      "거래일: 2021-02-03 00:00:00, 시스템: testSystem\n",
      "거래일: 2021-02-04 00:00:00, 시스템: testSystem\n",
      "거래일: 2021-02-05 00:00:00, 시스템: testSystem\n",
      "거래일: 2021-02-08 00:00:00, 시스템: testSystem\n",
      "거래일: 2021-02-09 00:00:00, 시스템: testSystem\n",
      "거래일: 2021-02-10 00:00:00, 시스템: testSystem\n",
      "거래일: 2021-02-11 00:00:00, 시스템: testSystem\n",
      "거래일: 2021-02-12 00:00:00, 시스템: testSystem\n",
      "거래일: 2021-02-15 00:00:00, 시스템: testSystem\n",
      "거래일: 2021-02-16 00:00:00, 시스템: testSystem\n",
      "거래일: 2021-02-17 00:00:00, 시스템: testSystem\n",
      "거래일: 2021-02-18 00:00:00, 시스템: testSystem\n",
      "거래일: 2021-02-19 00:00:00, 시스템: testSystem\n",
      "거래일: 2021-02-22 00:00:00, 시스템: testSystem\n",
      "거래일: 2021-02-23 00:00:00, 시스템: testSystem\n",
      "거래일: 2021-02-24 00:00:00, 시스템: testSystem\n",
      "거래일: 2021-02-25 00:00:00, 시스템: testSystem\n",
      "거래일: 2021-02-26 00:00:00, 시스템: testSystem\n",
      "거래일: 2021-03-01 00:00:00, 시스템: testSystem\n",
      "거래일: 2021-03-02 00:00:00, 시스템: testSystem\n",
      "거래일: 2021-03-03 00:00:00, 시스템: testSystem\n",
      "거래일: 2021-03-04 00:00:00, 시스템: testSystem\n",
      "거래일: 2021-03-05 00:00:00, 시스템: testSystem\n",
      "거래일: 2021-03-08 00:00:00, 시스템: testSystem\n",
      "거래일: 2021-03-09 00:00:00, 시스템: testSystem\n",
      "거래일: 2021-03-10 00:00:00, 시스템: testSystem\n",
      "거래일: 2021-03-11 00:00:00, 시스템: testSystem\n",
      "거래일: 2021-03-12 00:00:00, 시스템: testSystem\n",
      "거래일: 2021-03-15 00:00:00, 시스템: testSystem\n",
      "거래일: 2021-03-16 00:00:00, 시스템: testSystem\n",
      "거래일: 2021-03-17 00:00:00, 시스템: testSystem\n",
      "거래일: 2021-03-18 00:00:00, 시스템: testSystem\n",
      "거래일: 2021-03-19 00:00:00, 시스템: testSystem\n",
      "거래일: 2021-03-22 00:00:00, 시스템: testSystem\n",
      "거래일: 2021-03-23 00:00:00, 시스템: testSystem\n",
      "거래일: 2021-03-24 00:00:00, 시스템: testSystem\n",
      "거래일: 2021-03-25 00:00:00, 시스템: testSystem\n",
      "거래일: 2021-03-26 00:00:00, 시스템: testSystem\n",
      "거래일: 2021-03-29 00:00:00, 시스템: testSystem\n",
      "거래일: 2021-03-30 00:00:00, 시스템: testSystem\n",
      "거래일: 2021-03-31 00:00:00, 시스템: testSystem\n",
      "거래일: 2021-04-01 00:00:00, 시스템: testSystem\n",
      "거래일: 2021-04-02 00:00:00, 시스템: testSystem\n",
      "거래일: 2021-04-05 00:00:00, 시스템: testSystem\n",
      "거래일: 2021-04-06 00:00:00, 시스템: testSystem\n",
      "거래일: 2021-04-07 00:00:00, 시스템: testSystem\n",
      "거래일: 2021-04-08 00:00:00, 시스템: testSystem\n",
      "거래일: 2021-04-09 00:00:00, 시스템: testSystem\n",
      "거래일: 2021-04-12 00:00:00, 시스템: testSystem\n",
      "거래일: 2021-04-13 00:00:00, 시스템: testSystem\n",
      "거래일: 2021-04-14 00:00:00, 시스템: testSystem\n",
      "거래일: 2021-04-15 00:00:00, 시스템: testSystem\n",
      "거래일: 2021-04-16 00:00:00, 시스템: testSystem\n",
      "거래일: 2021-04-19 00:00:00, 시스템: testSystem\n",
      "거래일: 2021-04-20 00:00:00, 시스템: testSystem\n",
      "거래일: 2021-04-21 00:00:00, 시스템: testSystem\n",
      "거래일: 2021-04-22 00:00:00, 시스템: testSystem\n",
      "거래일: 2021-04-23 00:00:00, 시스템: testSystem\n",
      "거래일: 2021-04-26 00:00:00, 시스템: testSystem\n",
      "거래일: 2021-04-27 00:00:00, 시스템: testSystem\n",
      "거래일: 2021-04-28 00:00:00, 시스템: testSystem\n",
      "거래일: 2021-04-29 00:00:00, 시스템: testSystem\n",
      "거래일: 2021-04-30 00:00:00, 시스템: testSystem\n",
      "거래일: 2021-05-03 00:00:00, 시스템: testSystem\n",
      "거래일: 2021-05-04 00:00:00, 시스템: testSystem\n",
      "거래일: 2021-05-05 00:00:00, 시스템: testSystem\n",
      "거래일: 2021-05-06 00:00:00, 시스템: testSystem\n",
      "거래일: 2021-05-07 00:00:00, 시스템: testSystem\n",
      "거래일: 2021-05-10 00:00:00, 시스템: testSystem\n",
      "거래일: 2021-05-11 00:00:00, 시스템: testSystem\n",
      "거래일: 2021-05-12 00:00:00, 시스템: testSystem\n",
      "거래일: 2021-05-13 00:00:00, 시스템: testSystem\n",
      "거래일: 2021-05-14 00:00:00, 시스템: testSystem\n",
      "거래일: 2021-05-17 00:00:00, 시스템: testSystem\n",
      "거래일: 2021-05-18 00:00:00, 시스템: testSystem\n",
      "거래일: 2021-05-19 00:00:00, 시스템: testSystem\n",
      "거래일: 2021-05-20 00:00:00, 시스템: testSystem\n",
      "거래일: 2021-05-21 00:00:00, 시스템: testSystem\n",
      "거래일: 2021-05-24 00:00:00, 시스템: testSystem\n",
      "거래일: 2021-05-25 00:00:00, 시스템: testSystem\n",
      "거래일: 2021-05-26 00:00:00, 시스템: testSystem\n",
      "거래일: 2021-05-27 00:00:00, 시스템: testSystem\n",
      "거래일: 2021-05-28 00:00:00, 시스템: testSystem\n",
      "거래일: 2021-05-31 00:00:00, 시스템: testSystem\n",
      "거래일: 2021-06-01 00:00:00, 시스템: testSystem\n",
      "거래일: 2021-06-02 00:00:00, 시스템: testSystem\n",
      "거래일: 2021-06-03 00:00:00, 시스템: testSystem\n",
      "거래일: 2021-06-04 00:00:00, 시스템: testSystem\n",
      "거래일: 2021-06-07 00:00:00, 시스템: testSystem\n",
      "거래일: 2021-06-08 00:00:00, 시스템: testSystem\n",
      "거래일: 2021-06-09 00:00:00, 시스템: testSystem\n",
      "거래일: 2021-06-10 00:00:00, 시스템: testSystem\n",
      "거래일: 2021-06-11 00:00:00, 시스템: testSystem\n",
      "거래일: 2021-06-14 00:00:00, 시스템: testSystem\n",
      "거래일: 2021-06-15 00:00:00, 시스템: testSystem\n",
      "거래일: 2021-06-16 00:00:00, 시스템: testSystem\n",
      "거래일: 2021-06-17 00:00:00, 시스템: testSystem\n",
      "거래일: 2021-06-18 00:00:00, 시스템: testSystem\n",
      "거래일: 2021-06-21 00:00:00, 시스템: testSystem\n",
      "거래일: 2021-06-22 00:00:00, 시스템: testSystem\n",
      "거래일: 2021-06-23 00:00:00, 시스템: testSystem\n",
      "거래일: 2021-06-24 00:00:00, 시스템: testSystem\n",
      "거래일: 2021-06-25 00:00:00, 시스템: testSystem\n",
      "거래일: 2021-06-28 00:00:00, 시스템: testSystem\n",
      "거래일: 2021-06-29 00:00:00, 시스템: testSystem\n",
      "거래일: 2021-06-30 00:00:00, 시스템: testSystem\n",
      "거래일: 2021-07-01 00:00:00, 시스템: testSystem\n",
      "거래일: 2021-07-02 00:00:00, 시스템: testSystem\n",
      "거래일: 2021-07-05 00:00:00, 시스템: testSystem\n",
      "거래일: 2021-07-06 00:00:00, 시스템: testSystem\n",
      "거래일: 2021-07-07 00:00:00, 시스템: testSystem\n",
      "거래일: 2021-07-08 00:00:00, 시스템: testSystem\n",
      "거래일: 2021-07-09 00:00:00, 시스템: testSystem\n",
      "거래일: 2021-07-12 00:00:00, 시스템: testSystem\n",
      "거래일: 2021-07-13 00:00:00, 시스템: testSystem\n",
      "거래일: 2021-07-14 00:00:00, 시스템: testSystem\n",
      "거래일: 2021-07-15 00:00:00, 시스템: testSystem\n",
      "거래일: 2021-07-16 00:00:00, 시스템: testSystem\n",
      "거래일: 2021-07-19 00:00:00, 시스템: testSystem\n",
      "거래일: 2021-07-20 00:00:00, 시스템: testSystem\n",
      "거래일: 2021-07-21 00:00:00, 시스템: testSystem\n",
      "거래일: 2021-07-22 00:00:00, 시스템: testSystem\n",
      "거래일: 2021-07-23 00:00:00, 시스템: testSystem\n",
      "거래일: 2021-07-26 00:00:00, 시스템: testSystem\n",
      "거래일: 2021-07-27 00:00:00, 시스템: testSystem\n",
      "거래일: 2021-07-28 00:00:00, 시스템: testSystem\n",
      "거래일: 2021-07-29 00:00:00, 시스템: testSystem\n",
      "거래일: 2021-07-30 00:00:00, 시스템: testSystem\n",
      "거래일: 2021-08-02 00:00:00, 시스템: testSystem\n",
      "거래일: 2021-08-03 00:00:00, 시스템: testSystem\n",
      "거래일: 2021-08-04 00:00:00, 시스템: testSystem\n",
      "거래일: 2021-08-05 00:00:00, 시스템: testSystem\n",
      "거래일: 2021-08-06 00:00:00, 시스템: testSystem\n",
      "거래일: 2021-08-09 00:00:00, 시스템: testSystem\n",
      "거래일: 2021-08-10 00:00:00, 시스템: testSystem\n",
      "거래일: 2021-08-11 00:00:00, 시스템: testSystem\n",
      "거래일: 2021-08-12 00:00:00, 시스템: testSystem\n",
      "거래일: 2021-08-13 00:00:00, 시스템: testSystem\n",
      "거래일: 2021-08-16 00:00:00, 시스템: testSystem\n",
      "거래일: 2021-08-17 00:00:00, 시스템: testSystem\n",
      "거래일: 2021-08-18 00:00:00, 시스템: testSystem\n",
      "거래일: 2021-08-19 00:00:00, 시스템: testSystem\n",
      "거래일: 2021-08-20 00:00:00, 시스템: testSystem\n",
      "거래일: 2021-08-23 00:00:00, 시스템: testSystem\n",
      "거래일: 2021-08-24 00:00:00, 시스템: testSystem\n",
      "거래일: 2021-08-25 00:00:00, 시스템: testSystem\n",
      "거래일: 2021-08-26 00:00:00, 시스템: testSystem\n",
      "거래일: 2021-08-27 00:00:00, 시스템: testSystem\n",
      "거래일: 2021-08-30 00:00:00, 시스템: testSystem\n",
      "거래일: 2021-08-31 00:00:00, 시스템: testSystem\n",
      "거래일: 2021-09-01 00:00:00, 시스템: testSystem\n",
      "거래일: 2021-09-02 00:00:00, 시스템: testSystem\n",
      "거래일: 2021-09-03 00:00:00, 시스템: testSystem\n",
      "거래일: 2021-09-06 00:00:00, 시스템: testSystem\n",
      "거래일: 2021-09-07 00:00:00, 시스템: testSystem\n",
      "거래일: 2021-09-08 00:00:00, 시스템: testSystem\n",
      "거래일: 2021-09-09 00:00:00, 시스템: testSystem\n",
      "거래일: 2021-09-10 00:00:00, 시스템: testSystem\n",
      "거래일: 2021-09-13 00:00:00, 시스템: testSystem\n",
      "거래일: 2021-09-14 00:00:00, 시스템: testSystem\n",
      "거래일: 2021-09-15 00:00:00, 시스템: testSystem\n",
      "거래일: 2021-09-16 00:00:00, 시스템: testSystem\n",
      "거래일: 2021-09-17 00:00:00, 시스템: testSystem\n",
      "거래일: 2021-09-20 00:00:00, 시스템: testSystem\n",
      "거래일: 2021-09-21 00:00:00, 시스템: testSystem\n",
      "거래일: 2021-09-22 00:00:00, 시스템: testSystem\n",
      "거래일: 2021-09-23 00:00:00, 시스템: testSystem\n",
      "거래일: 2021-09-24 00:00:00, 시스템: testSystem\n",
      "거래일: 2021-09-27 00:00:00, 시스템: testSystem\n",
      "거래일: 2021-09-28 00:00:00, 시스템: testSystem\n",
      "거래일: 2021-09-29 00:00:00, 시스템: testSystem\n",
      "거래일: 2021-09-30 00:00:00, 시스템: testSystem\n",
      "거래일: 2021-10-01 00:00:00, 시스템: testSystem\n",
      "거래일: 2021-10-04 00:00:00, 시스템: testSystem\n",
      "거래일: 2021-10-05 00:00:00, 시스템: testSystem\n",
      "거래일: 2021-10-06 00:00:00, 시스템: testSystem\n",
      "거래일: 2021-10-07 00:00:00, 시스템: testSystem\n",
      "거래일: 2021-10-08 00:00:00, 시스템: testSystem\n",
      "거래일: 2021-10-11 00:00:00, 시스템: testSystem\n",
      "거래일: 2021-10-12 00:00:00, 시스템: testSystem\n",
      "거래일: 2021-10-13 00:00:00, 시스템: testSystem\n",
      "거래일: 2021-10-14 00:00:00, 시스템: testSystem\n",
      "거래일: 2021-10-15 00:00:00, 시스템: testSystem\n",
      "거래일: 2021-10-18 00:00:00, 시스템: testSystem\n",
      "거래일: 2021-10-19 00:00:00, 시스템: testSystem\n",
      "거래일: 2021-10-20 00:00:00, 시스템: testSystem\n",
      "거래일: 2021-10-21 00:00:00, 시스템: testSystem\n",
      "거래일: 2021-10-22 00:00:00, 시스템: testSystem\n",
      "거래일: 2021-10-25 00:00:00, 시스템: testSystem\n",
      "거래일: 2021-10-26 00:00:00, 시스템: testSystem\n",
      "거래일: 2021-10-27 00:00:00, 시스템: testSystem\n",
      "거래일: 2021-10-28 00:00:00, 시스템: testSystem\n",
      "거래일: 2021-10-29 00:00:00, 시스템: testSystem\n",
      "거래일: 2021-11-01 00:00:00, 시스템: testSystem\n",
      "거래일: 2021-11-02 00:00:00, 시스템: testSystem\n",
      "거래일: 2021-11-03 00:00:00, 시스템: testSystem\n",
      "거래일: 2021-11-04 00:00:00, 시스템: testSystem\n",
      "거래일: 2021-11-05 00:00:00, 시스템: testSystem\n",
      "거래일: 2021-11-08 00:00:00, 시스템: testSystem\n",
      "거래일: 2021-11-09 00:00:00, 시스템: testSystem\n",
      "거래일: 2021-11-10 00:00:00, 시스템: testSystem\n",
      "거래일: 2021-11-11 00:00:00, 시스템: testSystem\n",
      "거래일: 2021-11-12 00:00:00, 시스템: testSystem\n",
      "거래일: 2021-11-15 00:00:00, 시스템: testSystem\n",
      "거래일: 2021-11-16 00:00:00, 시스템: testSystem\n",
      "거래일: 2021-11-17 00:00:00, 시스템: testSystem\n",
      "거래일: 2021-11-18 00:00:00, 시스템: testSystem\n",
      "거래일: 2021-11-19 00:00:00, 시스템: testSystem\n",
      "거래일: 2021-11-22 00:00:00, 시스템: testSystem\n",
      "거래일: 2021-11-23 00:00:00, 시스템: testSystem\n",
      "거래일: 2021-11-24 00:00:00, 시스템: testSystem\n",
      "거래일: 2021-11-25 00:00:00, 시스템: testSystem\n",
      "거래일: 2021-11-26 00:00:00, 시스템: testSystem\n",
      "거래일: 2021-11-29 00:00:00, 시스템: testSystem\n",
      "거래일: 2021-11-30 00:00:00, 시스템: testSystem\n",
      "거래일: 2021-12-01 00:00:00, 시스템: testSystem\n",
      "거래일: 2021-12-02 00:00:00, 시스템: testSystem\n",
      "거래일: 2021-12-03 00:00:00, 시스템: testSystem\n",
      "거래일: 2021-12-06 00:00:00, 시스템: testSystem\n",
      "거래일: 2021-12-07 00:00:00, 시스템: testSystem\n",
      "거래일: 2021-12-08 00:00:00, 시스템: testSystem\n",
      "거래일: 2021-12-09 00:00:00, 시스템: testSystem\n",
      "거래일: 2021-12-10 00:00:00, 시스템: testSystem\n",
      "거래일: 2021-12-13 00:00:00, 시스템: testSystem\n",
      "거래일: 2021-12-14 00:00:00, 시스템: testSystem\n",
      "거래일: 2021-12-15 00:00:00, 시스템: testSystem\n",
      "거래일: 2021-12-16 00:00:00, 시스템: testSystem\n",
      "거래일: 2021-12-17 00:00:00, 시스템: testSystem\n",
      "거래일: 2021-12-20 00:00:00, 시스템: testSystem\n",
      "거래일: 2021-12-21 00:00:00, 시스템: testSystem\n",
      "거래일: 2021-12-22 00:00:00, 시스템: testSystem\n",
      "거래일: 2021-12-23 00:00:00, 시스템: testSystem\n",
      "거래일: 2021-12-24 00:00:00, 시스템: testSystem\n",
      "거래일: 2021-12-27 00:00:00, 시스템: testSystem\n",
      "거래일: 2021-12-28 00:00:00, 시스템: testSystem\n",
      "거래일: 2021-12-29 00:00:00, 시스템: testSystem\n",
      "거래일: 2021-12-30 00:00:00, 시스템: testSystem\n",
      "거래일: 2021-12-31 00:00:00, 시스템: testSystem\n",
      "거래일: 2022-01-03 00:00:00, 시스템: testSystem\n",
      "거래일: 2022-01-04 00:00:00, 시스템: testSystem\n",
      "거래일: 2022-01-05 00:00:00, 시스템: testSystem\n",
      "거래일: 2022-01-06 00:00:00, 시스템: testSystem\n",
      "거래일: 2022-01-07 00:00:00, 시스템: testSystem\n",
      "거래일: 2022-01-10 00:00:00, 시스템: testSystem\n",
      "거래일: 2022-01-11 00:00:00, 시스템: testSystem\n",
      "거래일: 2022-01-12 00:00:00, 시스템: testSystem\n",
      "거래일: 2022-01-13 00:00:00, 시스템: testSystem\n",
      "거래일: 2022-01-14 00:00:00, 시스템: testSystem\n",
      "거래일: 2022-01-17 00:00:00, 시스템: testSystem\n",
      "거래일: 2022-01-18 00:00:00, 시스템: testSystem\n",
      "거래일: 2022-01-19 00:00:00, 시스템: testSystem\n",
      "거래일: 2022-01-20 00:00:00, 시스템: testSystem\n",
      "거래일: 2022-01-21 00:00:00, 시스템: testSystem\n",
      "거래일: 2022-01-24 00:00:00, 시스템: testSystem\n",
      "거래일: 2022-01-25 00:00:00, 시스템: testSystem\n",
      "거래일: 2022-01-26 00:00:00, 시스템: testSystem\n",
      "거래일: 2022-01-27 00:00:00, 시스템: testSystem\n",
      "거래일: 2022-01-28 00:00:00, 시스템: testSystem\n",
      "거래일: 2022-01-31 00:00:00, 시스템: testSystem\n",
      "거래일: 2022-02-01 00:00:00, 시스템: testSystem\n",
      "거래일: 2022-02-02 00:00:00, 시스템: testSystem\n",
      "거래일: 2022-02-03 00:00:00, 시스템: testSystem\n",
      "거래일: 2022-02-04 00:00:00, 시스템: testSystem\n",
      "거래일: 2022-02-07 00:00:00, 시스템: testSystem\n",
      "거래일: 2022-02-08 00:00:00, 시스템: testSystem\n",
      "거래일: 2022-02-09 00:00:00, 시스템: testSystem\n",
      "거래일: 2022-02-10 00:00:00, 시스템: testSystem\n",
      "거래일: 2022-02-11 00:00:00, 시스템: testSystem\n",
      "거래일: 2022-02-14 00:00:00, 시스템: testSystem\n",
      "거래일: 2022-02-15 00:00:00, 시스템: testSystem\n",
      "거래일: 2022-02-16 00:00:00, 시스템: testSystem\n",
      "거래일: 2022-02-17 00:00:00, 시스템: testSystem\n",
      "거래일: 2022-02-18 00:00:00, 시스템: testSystem\n",
      "거래일: 2022-02-21 00:00:00, 시스템: testSystem\n",
      "거래일: 2022-02-22 00:00:00, 시스템: testSystem\n",
      "거래일: 2022-02-23 00:00:00, 시스템: testSystem\n",
      "거래일: 2022-02-24 00:00:00, 시스템: testSystem\n",
      "거래일: 2022-02-25 00:00:00, 시스템: testSystem\n",
      "거래일: 2022-02-28 00:00:00, 시스템: testSystem\n",
      "거래일: 2022-03-01 00:00:00, 시스템: testSystem\n",
      "거래일: 2022-03-02 00:00:00, 시스템: testSystem\n",
      "거래일: 2022-03-03 00:00:00, 시스템: testSystem\n",
      "거래일: 2022-03-04 00:00:00, 시스템: testSystem\n",
      "거래일: 2022-03-07 00:00:00, 시스템: testSystem\n",
      "거래일: 2022-03-08 00:00:00, 시스템: testSystem\n",
      "거래일: 2022-03-09 00:00:00, 시스템: testSystem\n",
      "거래일: 2022-03-10 00:00:00, 시스템: testSystem\n",
      "거래일: 2022-03-11 00:00:00, 시스템: testSystem\n",
      "거래일: 2022-03-14 00:00:00, 시스템: testSystem\n",
      "거래일: 2022-03-15 00:00:00, 시스템: testSystem\n",
      "거래일: 2022-03-16 00:00:00, 시스템: testSystem\n",
      "거래일: 2022-03-17 00:00:00, 시스템: testSystem\n",
      "거래일: 2022-03-18 00:00:00, 시스템: testSystem\n",
      "거래일: 2022-03-21 00:00:00, 시스템: testSystem\n",
      "거래일: 2022-03-22 00:00:00, 시스템: testSystem\n",
      "거래일: 2022-03-23 00:00:00, 시스템: testSystem\n",
      "거래일: 2022-03-24 00:00:00, 시스템: testSystem\n",
      "거래일: 2022-03-25 00:00:00, 시스템: testSystem\n",
      "거래일: 2022-03-28 00:00:00, 시스템: testSystem\n",
      "거래일: 2022-03-29 00:00:00, 시스템: testSystem\n",
      "거래일: 2022-03-30 00:00:00, 시스템: testSystem\n",
      "거래일: 2022-03-31 00:00:00, 시스템: testSystem\n",
      "거래일: 2022-04-01 00:00:00, 시스템: testSystem\n"
     ]
    },
    {
     "name": "stdout",
     "output_type": "stream",
     "text": [
      "거래일: 2022-04-04 00:00:00, 시스템: testSystem\n",
      "거래일: 2022-04-05 00:00:00, 시스템: testSystem\n",
      "거래일: 2022-04-06 00:00:00, 시스템: testSystem\n",
      "거래일: 2022-04-07 00:00:00, 시스템: testSystem\n",
      "거래일: 2022-04-08 00:00:00, 시스템: testSystem\n",
      "거래일: 2022-04-11 00:00:00, 시스템: testSystem\n",
      "거래일: 2022-04-12 00:00:00, 시스템: testSystem\n",
      "거래일: 2022-04-13 00:00:00, 시스템: testSystem\n",
      "거래일: 2022-04-14 00:00:00, 시스템: testSystem\n",
      "거래일: 2022-04-18 00:00:00, 시스템: testSystem\n",
      "거래일: 2022-04-19 00:00:00, 시스템: testSystem\n",
      "거래일: 2022-04-20 00:00:00, 시스템: testSystem\n",
      "거래일: 2022-04-21 00:00:00, 시스템: testSystem\n",
      "거래일: 2022-04-22 00:00:00, 시스템: testSystem\n",
      "거래일: 2022-04-25 00:00:00, 시스템: testSystem\n",
      "거래일: 2022-04-26 00:00:00, 시스템: testSystem\n",
      "거래일: 2022-04-27 00:00:00, 시스템: testSystem\n",
      "거래일: 2022-04-28 00:00:00, 시스템: testSystem\n",
      "거래일: 2022-04-29 00:00:00, 시스템: testSystem\n",
      "거래일: 2022-05-02 00:00:00, 시스템: testSystem\n",
      "거래일: 2022-05-03 00:00:00, 시스템: testSystem\n",
      "거래일: 2022-05-04 00:00:00, 시스템: testSystem\n",
      "매매종료\n"
     ]
    }
   ],
   "source": [
    "trader = bt.Trader(systems=[system1])\n",
    "system = trader.systems[0]\n",
    "trader.run()"
   ]
  },
  {
   "cell_type": "code",
   "execution_count": 36,
   "metadata": {},
   "outputs": [],
   "source": [
    "system.create_report()"
   ]
  },
  {
   "cell_type": "code",
   "execution_count": 16,
   "metadata": {},
   "outputs": [],
   "source": [
    "trades = system.trades.get()"
   ]
  },
  {
   "cell_type": "code",
   "execution_count": 24,
   "metadata": {},
   "outputs": [
    {
     "data": {
      "text/plain": [
       "'STOP'"
      ]
     },
     "execution_count": 24,
     "metadata": {},
     "output_type": "execute_result"
    }
   ],
   "source": [
    "trades[0].exittype"
   ]
  },
  {
   "cell_type": "code",
   "execution_count": 17,
   "metadata": {},
   "outputs": [
    {
     "data": {
      "text/plain": [
       "'WIN'"
      ]
     },
     "execution_count": 17,
     "metadata": {},
     "output_type": "execute_result"
    }
   ],
   "source": [
    "trades[0].result"
   ]
  },
  {
   "cell_type": "code",
   "execution_count": 100,
   "metadata": {},
   "outputs": [
    {
     "data": {
      "text/plain": [
       "1999-03-16    0\n",
       "1999-03-17    0\n",
       "1999-03-18    0\n",
       "1999-03-19    0\n",
       "1999-03-22    0\n",
       "             ..\n",
       "2022-04-28    0\n",
       "2022-04-29    0\n",
       "2022-05-02    0\n",
       "2022-05-03    0\n",
       "2022-05-04    0\n",
       "Name: trendup50, Length: 5833, dtype: int32"
      ]
     },
     "execution_count": 100,
     "metadata": {},
     "output_type": "execute_result"
    }
   ],
   "source": [
    "instruments['W'].quotes().TREND(direction='up',period=50,threshold=0.5)"
   ]
  },
  {
   "cell_type": "code",
   "execution_count": 5,
   "metadata": {},
   "outputs": [
    {
     "data": {
      "text/plain": [
       "{'currency': ['AD', 'BP', 'CD', 'DX', 'EC', 'JY', 'MP', 'NE', 'SF'],\n",
       " 'grain': ['BO', 'C', 'KW', 'O', 'S', 'SM', 'W'],\n",
       " 'tropical': ['CC', 'KC', 'OJ', 'SB'],\n",
       " 'petroleum': ['CL', 'G', 'HO', 'NG', 'RB'],\n",
       " 'fiber': ['CT'],\n",
       " 'interest-rate': ['ED', 'FF', 'FV', 'TU', 'TY', 'US'],\n",
       " 'equity': ['ES', 'MD', 'NK', 'NQ', 'RTY', 'SP'],\n",
       " 'metal': ['GC', 'HG', 'PA', 'PL', 'SI'],\n",
       " 'meat': ['LC', 'LN']}"
      ]
     },
     "execution_count": 5,
     "metadata": {},
     "output_type": "execute_result"
    }
   ],
   "source": [
    "instruments.sectors(instruments.db_symbols())"
   ]
  },
  {
   "cell_type": "code",
   "execution_count": 1,
   "metadata": {},
   "outputs": [],
   "source": [
    "from itertools import groupby"
   ]
  },
  {
   "cell_type": "code",
   "execution_count": 5,
   "metadata": {},
   "outputs": [],
   "source": [
    "data =[0,0,0,1,0,1,1]"
   ]
  },
  {
   "cell_type": "code",
   "execution_count": 8,
   "metadata": {},
   "outputs": [
    {
     "data": {
      "text/plain": [
       "[array([<itertools._grouper object at 0x0000024ED8C6DAF0>], dtype=object),\n",
       " array([<itertools._grouper object at 0x0000024ED8C6D0D0>], dtype=object),\n",
       " array([<itertools._grouper object at 0x0000024ED8C6DE20>], dtype=object),\n",
       " array([<itertools._grouper object at 0x0000024ED8C6D4C0>], dtype=object)]"
      ]
     },
     "execution_count": 8,
     "metadata": {},
     "output_type": "execute_result"
    }
   ],
   "source": [
    "[np.array(v).cumsum() for k,v in groupby(data)]"
   ]
  },
  {
   "cell_type": "code",
   "execution_count": 9,
   "metadata": {},
   "outputs": [
    {
     "ename": "NameError",
     "evalue": "name 'v' is not defined",
     "output_type": "error",
     "traceback": [
      "\u001b[1;31m---------------------------------------------------------------------------\u001b[0m",
      "\u001b[1;31mNameError\u001b[0m                                 Traceback (most recent call last)",
      "Cell \u001b[1;32mIn[9], line 1\u001b[0m\n\u001b[1;32m----> 1\u001b[0m \u001b[43mv\u001b[49m\n",
      "\u001b[1;31mNameError\u001b[0m: name 'v' is not defined"
     ]
    }
   ],
   "source": [
    "v"
   ]
  },
  {
   "cell_type": "code",
   "execution_count": 61,
   "metadata": {},
   "outputs": [
    {
     "data": {
      "text/plain": [
       "[['uptrend', 'TREND', \"direction='up'\", 'period=50'],\n",
       " ['downtrend', 'TREND', \"direction='down'\", 'period=50'],\n",
       " ['min30', 'MIN', 'period=50']]"
      ]
     },
     "execution_count": 61,
     "metadata": {},
     "output_type": "execute_result"
    }
   ],
   "source": [
    "metrics"
   ]
  },
  {
   "cell_type": "code",
   "execution_count": 67,
   "metadata": {},
   "outputs": [],
   "source": [
    "d = {}\n",
    "for metric in metrics:\n",
    "    d[metric[0]] = [k for k,v in axes.items() if metric[1] in v][0]"
   ]
  },
  {
   "cell_type": "code",
   "execution_count": 68,
   "metadata": {},
   "outputs": [
    {
     "data": {
      "text/plain": [
       "{'uptrend': 'trend', 'downtrend': 'trend', 'min30': 'ohlc'}"
      ]
     },
     "execution_count": 68,
     "metadata": {},
     "output_type": "execute_result"
    }
   ],
   "source": [
    "d"
   ]
  },
  {
   "cell_type": "code",
   "execution_count": 3,
   "metadata": {},
   "outputs": [
    {
     "ename": "NameError",
     "evalue": "name 'df' is not defined",
     "output_type": "error",
     "traceback": [
      "\u001b[1;31m---------------------------------------------------------------------------\u001b[0m",
      "\u001b[1;31mNameError\u001b[0m                                 Traceback (most recent call last)",
      "Cell \u001b[1;32mIn[3], line 1\u001b[0m\n\u001b[1;32m----> 1\u001b[0m s \u001b[38;5;241m=\u001b[39m (\u001b[43mdf\u001b[49m\u001b[38;5;241m.\u001b[39mvalues \u001b[38;5;241m==\u001b[39m data)\n",
      "\u001b[1;31mNameError\u001b[0m: name 'df' is not defined"
     ]
    }
   ],
   "source": [
    "s = (df.values == data)"
   ]
  },
  {
   "cell_type": "code",
   "execution_count": null,
   "metadata": {},
   "outputs": [],
   "source": []
  },
  {
   "cell_type": "code",
   "execution_count": null,
   "metadata": {},
   "outputs": [],
   "source": []
  }
 ],
 "metadata": {
  "kernelspec": {
   "display_name": "Python 3 (ipykernel)",
   "language": "python",
   "name": "python3"
  },
  "language_info": {
   "codemirror_mode": {
    "name": "ipython",
    "version": 3
   },
   "file_extension": ".py",
   "mimetype": "text/x-python",
   "name": "python",
   "nbconvert_exporter": "python",
   "pygments_lexer": "ipython3",
   "version": "3.9.16"
  }
 },
 "nbformat": 4,
 "nbformat_minor": 2
}
