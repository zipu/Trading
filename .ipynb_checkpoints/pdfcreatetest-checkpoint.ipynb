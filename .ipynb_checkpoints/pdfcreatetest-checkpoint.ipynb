{
 "cells": [
  {
   "cell_type": "code",
   "execution_count": 4,
   "id": "91361f4c",
   "metadata": {},
   "outputs": [],
   "source": [
    "import os\n",
    "from reportlab.pdfgen import canvas\n",
    "from reportlab.lib.pagesizes import letter,A4\n",
    "from reportlab.pdfbase import pdfmetrics\n",
    "from reportlab.pdfbase.ttfonts import TTFont\n"
   ]
  },
  {
   "cell_type": "code",
   "execution_count": 59,
   "id": "b7154a15",
   "metadata": {},
   "outputs": [],
   "source": [
    "import matplotlib.pyplot as plt\n",
    "import yaml"
   ]
  },
  {
   "cell_type": "code",
   "execution_count": 60,
   "id": "c92fb7d1",
   "metadata": {},
   "outputs": [
    {
     "name": "stdout",
     "output_type": "stream",
     "text": [
      "{'name': None, 'description': '시스템 설명', 'quotes_style': 'bo', 'sectors': 'default', 'instruments': None, 'from_date': '2016-08-01', 'to_date': None, 'principal': 1000000, 'heat_system': 'DefaultHeat', 'max_system_heat': 0.3, 'max_sector_heat': 0.3, 'max_trade_heat': 0.1, 'max_lots': 1, 'commission': 5.98, 'skid': 0.25, 'metrics': [['ema30', 'EMA', 'window=30'], ['ema5', 'EMA', 'window=5'], ['min30', 'MIN', 'window=30'], ['max300', 'MAX', 'window=300']], 'entry_rule': {'long': 'ema5>ema30', 'short': None}, 'exit_rule': {'long': 'ema5<ema30', 'short': None}, 'stop_rule': {'long': 'min30', 'short': None}}\n"
     ]
    }
   ],
   "source": [
    "with open('03.전략연구/systems/system2.yaml', encoding='utf-8') as f:\n",
    "    system1 = yaml.load(f, Loader=yaml.FullLoader)\n",
    "    print(system1)"
   ]
  },
  {
   "cell_type": "code",
   "execution_count": 62,
   "id": "586f1b09",
   "metadata": {},
   "outputs": [],
   "source": [
    "font = 'Malgun Gothic'\n",
    "fontdir = os.path.join(\"c:\\\\windows\",'fonts','malgun.ttf')\n",
    "pdfmetrics.registerFont(TTFont(fontname, fontdir))"
   ]
  },
  {
   "cell_type": "code",
   "execution_count": 56,
   "id": "fb528ec8",
   "metadata": {},
   "outputs": [
    {
     "data": {
      "text/plain": [
       "(595.2755905511812, 841.8897637795277)"
      ]
     },
     "execution_count": 56,
     "metadata": {},
     "output_type": "execute_result"
    }
   ],
   "source": [
    "A4"
   ]
  },
  {
   "cell_type": "code",
   "execution_count": 63,
   "id": "ffe9c692",
   "metadata": {},
   "outputs": [],
   "source": [
    "p = canvas.Canvas('hello.pdf', pagesize=A4)"
   ]
  },
  {
   "cell_type": "markdown",
   "id": "e4c3ba70",
   "metadata": {},
   "source": [
    "### Page 1. 시스템 설명"
   ]
  },
  {
   "cell_type": "code",
   "execution_count": 78,
   "id": "b7e6ebc4",
   "metadata": {},
   "outputs": [],
   "source": [
    "p = canvas.Canvas('hello.pdf', pagesize=A4)\n",
    "p.setFont(fontname,15)\n",
    "\n",
    "\n",
    "p.drawString(30, 700, f\"시스템 이름: {system1['name']}\")\n",
    "p.drawString(30, 680, f\"시스템 설명: {system1['description']}\")\n",
    "style = 'Backward Panama Adjusted Method'\n",
    "p.drawString(30, 660, f\"데이터 타입: {style}\")\n",
    "p.drawString(30, 640, f\"거래기간: {system1['from_date']} ~ {system1['to_date'] if system1['to_date'] else ''}\")\n"
   ]
  },
  {
   "cell_type": "code",
   "execution_count": 79,
   "id": "1abf2d09",
   "metadata": {},
   "outputs": [],
   "source": [
    "p.save() "
   ]
  },
  {
   "cell_type": "code",
   "execution_count": 54,
   "id": "56bf8a7b",
   "metadata": {},
   "outputs": [
    {
     "data": {
      "image/png": "[encoded data removed]",
      "text/plain": [
       "<Figure size 432x288 with 1 Axes>"
      ]
     },
     "metadata": {
      "needs_background": "light"
     },
     "output_type": "display_data"
    }
   ],
   "source": [
    "ax = plt.subplot()\n",
    "ax.plot([1,2,3],[1,4,9])\n",
    "plt.savefig('test.jpg')"
   ]
  },
  {
   "cell_type": "code",
   "execution_count": null,
   "id": "4debfb8b",
   "metadata": {},
   "outputs": [],
   "source": [
    "ax.sa"
   ]
  },
  {
   "cell_type": "code",
   "execution_count": 53,
   "id": "3473c247",
   "metadata": {},
   "outputs": [
    {
     "data": {
      "text/plain": [
       "<Figure size 432x288 with 0 Axes>"
      ]
     },
     "metadata": {},
     "output_type": "display_data"
    }
   ],
   "source": [
    "plt.savefig('test.jpg')\n"
   ]
  },
  {
   "cell_type": "code",
   "execution_count": 32,
   "id": "da30f29c",
   "metadata": {},
   "outputs": [
    {
     "data": {
      "text/plain": [
       "'c:\\\\windows\\\\fonts\\\\malgun.ttf'"
      ]
     },
     "execution_count": 32,
     "metadata": {},
     "output_type": "execute_result"
    }
   ],
   "source": [
    "os.path.join(\"c:\\\\windows\",'fonts','malgun.ttf')"
   ]
  },
  {
   "cell_type": "code",
   "execution_count": 24,
   "id": "32e9be87",
   "metadata": {},
   "outputs": [
    {
     "name": "stdout",
     "output_type": "stream",
     "text": [
      "['8514fix.fon', '8514fixe.fon', '8514fixg.fon', '8514fixr.fon', '8514fixt.fon', '8514oem.fon', '8514oeme.fon', '8514oemg.fon', '8514oemr.fon', '8514oemt.fon', '8514sys.fon', '8514syse.fon', '8514sysg.fon', '8514sysr.fon', '8514syst.fon', '85775.fon', '85855.fon', '85f1255.fon', '85f1256.fon', '85f1257.fon', '85f874.fon', '85s1255.fon', '85s1256.fon', '85s1257.fon', '85s874.fon', 'ahn_b.ttf', 'ahn_l.ttf', 'ahn_m.ttf', 'ALGER.TTF', 'ANTQUAB.TTF', 'ANTQUABI.TTF', 'ANTQUAI.TTF', 'app775.fon', 'app850.fon', 'app852.fon', 'app855.fon', 'app857.fon', 'app866.fon', 'app932.fon', 'app936.fon', 'app949.fon', 'app950.fon', 'arial.ttf', 'arialbd.ttf', 'arialbi.ttf', 'ariali.ttf', 'ARIALN.TTF', 'ARIALNB.TTF', 'ARIALNBI.TTF', 'ARIALNI.TTF', 'ARIALUNI.TTF', 'ariblk.ttf', 'bahnschrift.ttf', 'BASKVILL.TTF', 'batang.ttc', 'BAUHS93.TTF', 'BELL.TTF', 'BELLB.TTF', 'BELLI.TTF', 'BERNHC.TTF', 'BKANT.TTF', 'BOD_PSTC.TTF', 'BOOKOS.TTF', 'BOOKOSB.TTF', 'BOOKOSBI.TTF', 'BOOKOSI.TTF', 'BRITANIC.TTF', 'BRLNSB.TTF', 'BRLNSDB.TTF', 'BRLNSR.TTF', 'BROADW.TTF', 'BRUSHSCI.TTF', 'BSSYM7.TTF', 'c8514fix.fon', 'c8514oem.fon', 'c8514sys.fon', 'calibri.ttf', 'calibrib.ttf', 'calibrii.ttf', 'calibril.ttf', 'calibrili.ttf', 'calibriz.ttf', 'CALIFB.TTF', 'CALIFI.TTF', 'CALIFR.TTF', 'cambria.ttc', 'cambriab.ttf', 'cambriai.ttf', 'cambriaz.ttf', 'Candara.ttf', 'Candarab.ttf', 'Candarai.ttf', 'Candaral.ttf', 'Candarali.ttf', 'Candaraz.ttf', 'CENTAUR.TTF', 'CENTURY.TTF', 'cga40737.fon', 'cga40850.fon', 'cga40852.fon', 'cga40857.fon', 'cga40866.fon', 'cga40869.fon', 'cga40woa.fon', 'cga80737.fon', 'cga80850.fon', 'cga80852.fon', 'cga80857.fon', 'cga80866.fon', 'cga80869.fon', 'cga80woa.fon', 'CHILLER.TTF', 'COLONNA.TTF', 'comic.ttf', 'comicbd.ttf', 'comici.ttf', 'comicz.ttf', 'consola.ttf', 'consolab.ttf', 'consolai.ttf', 'consolaz.ttf', 'constan.ttf', 'constanb.ttf', 'constani.ttf', 'constanz.ttf', 'COOPBL.TTF', 'corbel.ttf', 'corbelb.ttf', 'corbeli.ttf', 'corbell.ttf', 'corbelli.ttf', 'corbelz.ttf', 'coue1255.fon', 'coue1256.fon', 'coue1257.fon', 'couf1255.fon', 'couf1256.fon', 'couf1257.fon', 'cour.ttf', 'courbd.ttf', 'courbi.ttf', 'coure.fon', 'couree.fon', 'coureg.fon', 'courer.fon', 'couret.fon', 'courf.fon', 'courfe.fon', 'courfg.fon', 'courfr.fon', 'courft.fon', 'couri.ttf', 'cvgafix.fon', 'cvgasys.fon', 'Deng.ttf', 'Dengb.ttf', 'Dengl.ttf', 'desktop.ini', 'dos737.fon', 'dos869.fon', 'dosapp.fon', 'ebrima.ttf', 'ebrimabd.ttf', 'ega40737.fon', 'ega40850.fon', 'ega40852.fon', 'ega40857.fon', 'ega40866.fon', 'ega40869.fon', 'ega40woa.fon', 'ega80737.fon', 'ega80850.fon', 'ega80852.fon', 'ega80857.fon', 'ega80866.fon', 'ega80869.fon', 'ega80woa.fon', 'euclid.ttf', 'euclidb.ttf', 'euclidbi.ttf', 'euclidi.ttf', 'eucsym.ttf', 'eucsymb.ttf', 'eucsymbi.ttf', 'eucsymi.ttf', 'euextra.ttf', 'euextrab.ttf', 'eufrak.ttf', 'eufrakb.ttf', 'eumat1.ttf', 'eumat1b.ttf', 'eumat2.ttf', 'eumat2b.ttf', 'fences.ttf', 'fms_metadata.xml', 'framd.ttf', 'framdit.ttf', 'FREESCPT.TTF', 'FTLTLT.TTF', 'FZSong_Super.TTF', 'Gabriola.ttf', 'gadugi.ttf', 'gadugib.ttf', 'GARA.TTF', 'GARABD.TTF', 'GARAIT.TTF', 'georgia.ttf', 'georgiab.ttf', 'georgiai.ttf', 'georgiaz.ttf', 'GOTHIC.TTF', 'GOTHICB.TTF', 'GOTHICBI.TTF', 'GOTHICI.TTF', 'gulim.ttc', 'H2GPRM.TTF', 'H2GSRB.TTF', 'H2GTRE.TTF', 'H2GTRM.TTF', 'H2HDRM.TTF', 'H2MJRE.TTF', 'H2MJSM.TTF', 'H2MKPB.TTF', 'H2PORL.TTF', 'H2PORM.TTF', 'H2SA1M.TTF', 'h8514fix.fon', 'h8514oem.fon', 'h8514sys.fon', 'HARLOWSI.TTF', 'HARNGTON.TTF', 'HBATANG.TTF', 'HDOTUM.TTF', 'himalaya.ttf', 'HMFMMUEX.TTC', 'HMFMOLD.TTF', 'HMFMPYUN.TTF', 'HMKMAMI.TTF', 'HMKMMAG.TTF', 'HMKMRHD.TTF', 'holomdl2.ttf', 'HTOWERT.TTF', 'HTOWERTI.TTF', 'hvgafix.fon', 'hvgasys.fon', 'HYBDAL.TTF', 'HYBDAM.TTF', 'HYBSRB.TTF', 'HYCYSM.TTF', 'HYDNKB.TTF', 'HYDNKM.TTF', 'HYGPRM.TTF', 'HYGSRB.TTF', 'HYGTRE.TTF', 'HYHWPEQ.TTF', 'HYKANB.TTF', 'HYKANM.TTF', 'HYMJRE.TTF', 'HYMPRL.TTF', 'HYNAMB.TTF', 'HYNAML.TTF', 'HYNAMM.TTF', 'HYPORM.TTF', 'HYSANB.TTF', 'HYSNRL.TTF', 'HYSUPB.TTF', 'HYSUPM.TTF', 'HYTBRB.TTF', 'HYWULB.TTF', 'HYWULM.TTF', 'impact.ttf', 'INFROMAN.TTF', 'Inkfree.ttf', 'ITCKRIST.TTF', 'j8514fix.fon', 'j8514oem.fon', 'j8514sys.fon', 'javatext.ttf', 'JOKERMAN.TTF', 'jsmalle.fon', 'jsmallf.fon', 'JUICE___.TTF', 'jvgafix.fon', 'jvgasys.fon', 'KUNSTLER.TTF', 'LATINWD.TTF', 'LBRITE.TTF', 'LBRITED.TTF', 'LBRITEDI.TTF', 'LBRITEI.TTF', 'LCALLIG.TTF', 'LeelaUIb.ttf', 'LeelawUI.ttf', 'LeelUIsl.ttf', 'LFAX.TTF', 'LFAXD.TTF', 'LFAXDI.TTF', 'LFAXI.TTF', 'LHANDW.TTF', 'lucon.ttf', 'l_10646.ttf', 'MAGNETOB.TTF', 'malgun.ttf', 'malgunbd.ttf', 'malgunsl.ttf', 'marlett.ttf', 'MATURASC.TTF', 'micross.ttf', 'mingliub.ttc', 'MISTRAL.TTF', 'mmrtext.ttf', 'mmrtextb.ttf', 'MOD20.TTF', 'modern.fon', 'monbaiti.ttf', 'msgothic.ttc', 'msjh.ttc', 'msjhbd.ttc', 'msjhl.ttc', 'msyh.ttc', 'msyhbd.ttc', 'msyhl.ttc', 'msyi.ttf', 'MTCORSVA.TTF', 'mtextra.ttf', 'mvboli.ttf', 'NGULIM.TTF', 'NIAGENG.TTF', 'NIAGSOL.TTF', 'Nirmala.ttf', 'NirmalaB.ttf', 'NirmalaS.ttf', 'ntailu.ttf', 'ntailub.ttf', 'OLDENGL.TTF', 'ONYX.TTF', 'pala.ttf', 'palab.ttf', 'palabi.ttf', 'palai.ttf', 'PARCHM.TTF', 'phagspa.ttf', 'phagspab.ttf', 'PLAYBILL.TTF', 'POORICH.TTF', 'RAVIE.TTF', 'REFSAN.TTF', 'REFSPCL.TTF', 'roman.fon', 's8514fix.fon', 's8514oem.fon', 's8514sys.fon', 'script.fon', 'segmdl2.ttf', 'segoepr.ttf', 'segoeprb.ttf', 'segoesc.ttf', 'segoescb.ttf', 'segoeui.ttf', 'segoeuib.ttf', 'segoeuii.ttf', 'segoeuil.ttf', 'segoeuisl.ttf', 'segoeuiz.ttf', 'seguibl.ttf', 'seguibli.ttf', 'seguiemj.ttf', 'seguihis.ttf', 'seguili.ttf', 'seguisb.ttf', 'seguisbi.ttf', 'seguisli.ttf', 'seguisym.ttf', 'sere1255.fon', 'sere1256.fon', 'sere1257.fon', 'serf1255.fon', 'serf1256.fon', 'serf1257.fon', 'serife.fon', 'serifee.fon', 'serifeg.fon', 'serifer.fon', 'serifet.fon', 'seriff.fon', 'seriffe.fon', 'seriffg.fon', 'seriffr.fon', 'serifft.fon', 'SHOWG.TTF', 'simfang.ttf', 'simhei.ttf', 'simkai.ttf', 'simsun.ttc', 'simsunb.ttf', 'Sitka.ttc', 'SitkaB.ttc', 'SitkaI.ttc', 'SitkaZ.ttc', 'smae1255.fon', 'smae1256.fon', 'smae1257.fon', 'smaf1255.fon', 'smaf1256.fon', 'smaf1257.fon', 'smalle.fon', 'smallee.fon', 'smalleg.fon', 'smaller.fon', 'smallet.fon', 'smallf.fon', 'smallfe.fon', 'smallfg.fon', 'smallfr.fon', 'smallft.fon', 'SNAP____.TTF', 'ssee1255.fon', 'ssee1256.fon', 'ssee1257.fon', 'ssee874.fon', 'ssef1255.fon', 'ssef1256.fon', 'ssef1257.fon', 'ssef874.fon', 'sserife.fon', 'sserifee.fon', 'sserifeg.fon', 'sserifer.fon', 'sserifet.fon', 'sseriff.fon', 'sseriffe.fon', 'sseriffg.fon', 'sseriffr.fon', 'sserifft.fon', 'StaticCache.dat', 'STENCIL.TTF', 'svgafix.fon', 'svgasys.fon', 'sylfaen.ttf', 'symbol.ttf', 'tahoma.ttf', 'tahomabd.ttf', 'taile.ttf', 'taileb.ttf', 'TEMPSITC.TTF', 'times.ttf', 'timesbd.ttf', 'timesbi.ttf', 'timesi.ttf', 'trebuc.ttf', 'trebucbd.ttf', 'trebucbi.ttf', 'trebucit.ttf', 'UNI_HSR.TTF', 'verdana.ttf', 'verdanab.ttf', 'verdanai.ttf', 'verdanaz.ttf', 'vga737.fon', 'vga775.fon', 'vga850.fon', 'vga852.fon', 'vga855.fon', 'vga857.fon', 'vga860.fon', 'vga861.fon', 'vga863.fon', 'vga865.fon', 'vga866.fon', 'vga869.fon', 'vga932.fon', 'vga936.fon', 'vga949.fon', 'vga950.fon', 'vgaf1255.fon', 'vgaf1256.fon', 'vgaf1257.fon', 'vgaf874.fon', 'vgafix.fon', 'vgafixe.fon', 'vgafixg.fon', 'vgafixr.fon', 'vgafixt.fon', 'vgaoem.fon', 'vgas1255.fon', 'vgas1256.fon', 'vgas1257.fon', 'vgas874.fon', 'vgasys.fon', 'vgasyse.fon', 'vgasysg.fon', 'vgasysr.fon', 'vgasyst.fon', 'VINERITC.TTF', 'VIVALDII.TTF', 'VLADIMIR.TTF', 'webdings.ttf', 'wingding.ttf', 'WINGDNG2.TTF', 'WINGDNG3.TTF', 'YuGothB.ttc', 'YuGothL.ttc', 'YuGothM.ttc', 'YuGothR.ttc', 'ZWAdobeF.TTF']\n"
     ]
    }
   ],
   "source": [
    "print(os.listdir(r'C:\\Windows\\fonts'))"
   ]
  },
  {
   "cell_type": "code",
   "execution_count": null,
   "id": "918cafd1",
   "metadata": {},
   "outputs": [],
   "source": []
  }
 ],
 "metadata": {
  "kernelspec": {
   "display_name": "Python 3 (ipykernel)",
   "language": "python",
   "name": "python3"
  },
  "language_info": {
   "codemirror_mode": {
    "name": "ipython",
    "version": 3
   },
   "file_extension": ".py",
   "mimetype": "text/x-python",
   "name": "python",
   "nbconvert_exporter": "python",
   "pygments_lexer": "ipython3",
   "version": "3.8.5"
  }
 },
 "nbformat": 4,
 "nbformat_minor": 5
}
