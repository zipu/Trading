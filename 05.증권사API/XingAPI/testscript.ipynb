{
 "cells": [
  {
   "cell_type": "code",
   "execution_count": 1,
   "metadata": {},
   "outputs": [],
   "source": [
    "import logging\n",
    "logger = logging.getLogger()\n",
    "logger.setLevel(logging.DEBUG)\n",
    "from models import Products, Product, Contract, OHLC\n",
    "import pickle\n",
    "import tables as tb\n",
    "import numpy as np\n",
    "import pandas as pd"
   ]
  },
  {
   "cell_type": "markdown",
   "metadata": {},
   "source": [
    "### 1. Create Products Object from 'products.pkl'"
   ]
  },
  {
   "cell_type": "code",
   "execution_count": 17,
   "metadata": {},
   "outputs": [],
   "source": [
    "products = pickle.load(open('products.pkl', 'rb')) #파일 로드"
   ]
  },
  {
   "cell_type": "code",
   "execution_count": 18,
   "metadata": {},
   "outputs": [
    {
     "ename": "AttributeError",
     "evalue": "'Product' object has no attribute 'active'",
     "output_type": "error",
     "traceback": [
      "\u001b[1;31m---------------------------------------------------------------------------\u001b[0m",
      "\u001b[1;31mAttributeError\u001b[0m                            Traceback (most recent call last)",
      "\u001b[1;32m<ipython-input-18-dfab283aceb4>\u001b[0m in \u001b[0;36m<module>\u001b[1;34m\u001b[0m\n\u001b[1;32m----> 1\u001b[1;33m \u001b[0mproducts\u001b[0m\u001b[1;33m[\u001b[0m\u001b[1;34m'LC'\u001b[0m\u001b[1;33m]\u001b[0m\u001b[1;33m.\u001b[0m\u001b[0mactive\u001b[0m\u001b[1;33m\u001b[0m\u001b[1;33m\u001b[0m\u001b[0m\n\u001b[0m",
      "\u001b[1;31mAttributeError\u001b[0m: 'Product' object has no attribute 'active'"
     ]
    }
   ],
   "source": [
    "products['LC'].active"
   ]
  },
  {
   "cell_type": "code",
   "execution_count": 3,
   "metadata": {},
   "outputs": [
    {
     "name": "stdout",
     "output_type": "stream",
     "text": [
      "Updating Continuous Futures Data on Australian Dollar[AD]\n",
      "Updating Continuous Futures Data on British Pound[BP]\n",
      "Updating Continuous Futures Data on Brazilian Real[BR]\n",
      "Updating Continuous Futures Data on ICE Cocoa[CC]\n",
      "ICE Cocoa[CC] Data has been changed up by 29.0 at 2019-02-06\n",
      "Updating Continuous Futures Data on Canadian Dollar[CD]\n",
      "Updating Continuous Futures Data on Crude Oil (WTI)[CL]\n",
      "Updating Continuous Futures Data on ICE Cotton[CT]\n",
      "Updating Continuous Futures Data on Renminbi_USD/CNH[CUS]\n",
      "Renminbi_USD/CNH[CUS] Data has been changed up by 0.0043 at 2018-12-04\n",
      "Updating Continuous Futures Data on US Dollar Index[DX]\n",
      "The product E-mini Euro FX is excepted for ohlc data\n",
      "Updating Continuous Futures Data on Eurodollar[ED]\n",
      "Eurodollar[ED] Data has been changed up by 0.0069 at 2018-12-27\n",
      "Eurodollar[ED] Data has been changed up by 0.0213 at 2019-01-02\n",
      "Updating Continuous Futures Data on E-mini S&P MidCap 400[EMD]\n",
      "Updating Continuous Futures Data on E-mini S&P 500[ES]\n",
      "Updating Continuous Futures Data on Long-term Euro-BTP[FBTP]\n",
      "Updating Continuous Futures Data on Feeder Cattle[FC]\n",
      "Updating Continuous Futures Data on DAX[FDAX]\n",
      "The product Mini-DAX is excepted for ohlc data\n",
      "Updating Continuous Futures Data on DJ Euro Stoxx 50[FESX]\n",
      "Updating Continuous Futures Data on Euro Bund[FGBL]\n",
      "Updating Continuous Futures Data on Euro Bobl[FGBM]\n",
      "Updating Continuous Futures Data on Euro Schatz[FGBS]\n",
      "The product Mid-Term Euro-OAT is excepted for ohlc data\n",
      "Updating Continuous Futures Data on Euro-OAT[FOAT]\n",
      "Updating Continuous Futures Data on VSTOXX[FVS]\n",
      "Updating Continuous Futures Data on Gold[GC]\n",
      "Updating Continuous Futures Data on H-Share[HCEI]\n",
      "H-Share[HCEI] Data has been changed up by 38.0 at 2019-01-10\n",
      "The product CES China 120 is excepted for ohlc data\n",
      "Updating Continuous Futures Data on Copper[HG]\n",
      "The product Mini H-Shares is excepted for ohlc data\n",
      "The product Mini Hang Seng is excepted for ohlc data\n",
      "Updating Continuous Futures Data on Heating Oil[HO]\n",
      "Updating Continuous Futures Data on Hang Seng[HSI]\n",
      "Hang Seng[HSI] Data has been changed up by 18.0 at 2019-01-14\n",
      "The product E-mini Japanese Yen is excepted for ohlc data\n",
      "Updating Continuous Futures Data on Japanese Yen[JY]\n",
      "Updating Continuous Futures Data on ICE Coffee[KC]\n",
      "Updating Continuous Futures Data on Live Cattle[LC]\n",
      "Live Cattle[LC] Data has been changed up by 1.025 at 2019-01-15\n",
      "Updating Continuous Futures Data on Lean Hogs[LH]\n",
      "Lean Hogs[LH] Data has been changed up by 4.394 at 2019-01-18\n",
      "The product E-micro AUD/USD is excepted for ohlc data\n",
      "The product E-micro GBP/USD is excepted for ohlc data\n",
      "The product E-micro EUR/USD is excepted for ohlc data\n",
      "The product E-micro CAD/USD is excepted for ohlc data\n",
      "The product E-micro Gold is excepted for ohlc data\n",
      "The product E-micro JPY/USD is excepted for ohlc data\n",
      "The product Mexican Peso is excepted for ohlc data\n",
      "Updating Continuous Futures Data on New Zealand Dollar[NE]\n",
      "Updating Continuous Futures Data on Natural Gas[NG]\n",
      "Updating Continuous Futures Data on Nikkei 225 Yen-based[NIY]\n",
      "Updating Continuous Futures Data on Nikkei 225 Dollar-based[NKD]\n",
      "Updating Continuous Futures Data on E-mini NASDAQ 100[NQ]\n",
      "Updating Continuous Futures Data on ICE ORANGE JUICE[OJ]\n",
      "Updating Continuous Futures Data on Palladium[PA]\n",
      "Updating Continuous Futures Data on Platinum[PL]\n",
      "The product E-mini Copper is excepted for ohlc data\n",
      "The product miNY Natural Gas is excepted for ohlc data\n",
      "The product miNY Crude Oil is excepted for ohlc data\n",
      "Updating Continuous Futures Data on RBOB Gasoline[RB]\n",
      "Updating Continuous Futures Data on E-mini Russell 2000[RTY]\n",
      "Updating Continuous Futures Data on Euro/Yen Cross[RY]\n",
      "Updating Continuous Futures Data on ICE Sugar[SB]\n",
      "The product SGX MSCI China is excepted for ohlc data\n",
      "Updating Continuous Futures Data on SGX FTSE China A50[SCN]\n",
      "SGX FTSE China A50[SCN] Data has been changed up by 14.4 at 2018-12-06\n",
      "Updating Continuous Futures Data on Swiss Franc[SF]\n",
      "Updating Continuous Futures Data on Silver[SI]\n",
      "Updating Continuous Futures Data on SGX Nifty[SIN]\n",
      "Updating Continuous Futures Data on SGX INR/USD FX[SIU]\n",
      "The product SGX KRW/USD FX is excepted for ohlc data\n",
      "The product SGX Mini Nikkei 225 is excepted for ohlc data\n",
      "The product SGX USD Nikkei 225 is excepted for ohlc data\n",
      "Updating Continuous Futures Data on SIMSCI[SSG]\n",
      "Updating Continuous Futures Data on SGX Nikkei 225[SSI]\n",
      "Updating Continuous Futures Data on MSCI Taiwan[STW]\n",
      "MSCI Taiwan[STW] Data has been changed up by 1.2 at 2018-12-25\n",
      "The product SGX USD/CNH FX is excepted for ohlc data\n",
      "Updating Continuous Futures Data on Euro FX[URO]\n",
      "Updating Continuous Futures Data on VIX[VX]\n",
      "VIX[VX] Data has been changed up by 0.461 at 2019-02-06\n",
      "The product Mini Corn is excepted for ohlc data\n",
      "The product Mini Soybean is excepted for ohlc data\n",
      "The product Mini Wheat is excepted for ohlc data\n",
      "The product Mini Gold is excepted for ohlc data\n",
      "The product Mini Silver is excepted for ohlc data\n",
      "Updating Continuous Futures Data on Mini Dow[YM]\n",
      "Updating Continuous Futures Data on 30Year U.S. T-Bond[ZB]\n",
      "Updating Continuous Futures Data on Corn[ZC]\n",
      "Updating Continuous Futures Data on 5Year U.S. T-Note[ZF]\n",
      "Updating Continuous Futures Data on Soybean Oil[ZL]\n",
      "Updating Continuous Futures Data on Soybean Meal[ZM]\n",
      "Updating Continuous Futures Data on 10Year U.S. T-Note[ZN]\n",
      "Updating Continuous Futures Data on Oats[ZO]\n",
      "Updating Continuous Futures Data on Rough Rice[ZR]\n",
      "Updating Continuous Futures Data on Soybeans[ZS]\n",
      "Updating Continuous Futures Data on 2Year U.S.T-Note[ZT]\n",
      "Updating Continuous Futures Data on Wheat[ZW]\n"
     ]
    }
   ],
   "source": [
    "products.create_ohlc()"
   ]
  },
  {
   "cell_type": "code",
   "execution_count": 14,
   "metadata": {},
   "outputs": [],
   "source": [
    "for product in products.values():\n",
    "    if hasattr(product, 'active'):\n",
    "        del product.active"
   ]
  },
  {
   "cell_type": "code",
   "execution_count": 7,
   "metadata": {},
   "outputs": [],
   "source": [
    "db = tb.open_file('futures.db', mode='r')"
   ]
  },
  {
   "cell_type": "code",
   "execution_count": 15,
   "metadata": {},
   "outputs": [],
   "source": [
    "with open('products.pkl', 'wb') as f:\n",
    "    pickle.dump(products, f,protocol=pickle.HIGHEST_PROTOCOL)\n",
    "    "
   ]
  },
  {
   "cell_type": "code",
   "execution_count": 16,
   "metadata": {},
   "outputs": [],
   "source": [
    "del products"
   ]
  },
  {
   "cell_type": "code",
   "execution_count": 7,
   "metadata": {},
   "outputs": [
    {
     "data": {
      "text/plain": [
       "{'name': 'Live Cattle',\n",
       " 'symbol': 'LC',\n",
       " 'currency': 'USD',\n",
       " 'exchange symbol': 'CME',\n",
       " 'exchange': '시카고상업거래소',\n",
       " 'market': 'MEATS',\n",
       " 'notation': ' 10',\n",
       " 'unit': '0.025000000',\n",
       " 'price per unit': '10.000000000',\n",
       " 'regulator factor': '0.0100000000',\n",
       " 'opening time': '23:30:00',\n",
       " 'closing time': '04:05:00',\n",
       " 'decimal length': 3,\n",
       " 'initial margin': '1650.00',\n",
       " 'maintanance margin': '1650.00',\n",
       " 'is tratable': True,\n",
       " 'last update': '2019-02-11 14:30:24',\n",
       " 'contracts': ['LCJ19', 'LCM19', 'LCQ19'],\n",
       " 'emini': False,\n",
       " 'parent': None,\n",
       " 'is exception': False}"
      ]
     },
     "execution_count": 7,
     "metadata": {},
     "output_type": "execute_result"
    }
   ],
   "source": [
    "product.info()"
   ]
  },
  {
   "cell_type": "code",
   "execution_count": 14,
   "metadata": {},
   "outputs": [
    {
     "data": {
      "text/plain": [
       "numpy.datetime64('2019-01-14')"
      ]
     },
     "execution_count": 14,
     "metadata": {},
     "output_type": "execute_result"
    }
   ],
   "source": [
    "np.int32(17910).astype('M8[D]')"
   ]
  },
  {
   "cell_type": "code",
   "execution_count": 8,
   "metadata": {},
   "outputs": [
    {
     "data": {
      "text/plain": [
       "array([(17868, 122.775, 122.875, 121.5  , 121.625, 14223),\n",
       "       (17869, 121.7  , 122.975, 121.45 , 122.9  , 17321),\n",
       "       (17870, 122.75 , 124.025, 122.65 , 123.875, 13194),\n",
       "       (17871, 123.45 , 124.025, 122.925, 123.475, 14157),\n",
       "       (17872, 123.425, 123.85 , 122.575, 123.625, 12465),\n",
       "       (17875, 123.725, 123.95 , 123.   , 123.6  , 13980),\n",
       "       (17876, 123.45 , 124.7  , 122.95 , 124.525, 15511),\n",
       "       (17877, 124.5  , 125.   , 124.025, 124.9  , 16094),\n",
       "       (17878, 124.9  , 125.15 , 124.65 , 124.8  , 14743),\n",
       "       (17879, 124.525, 125.125, 124.275, 124.5  , 11779),\n",
       "       (17882, 124.075, 124.275, 123.4  , 123.85 , 10605),\n",
       "       (17883, 123.9  , 125.15 , 123.65 , 124.6  , 14140),\n",
       "       (17884, 124.3  , 124.875, 124.275, 124.575,  8815),\n",
       "       (17885, 124.425, 124.775, 123.825, 124.575, 11410),\n",
       "       (17886, 124.575, 125.075, 124.4  , 124.825, 11425),\n",
       "       (17889, 124.475, 125.4  , 124.45 , 125.225,  9179),\n",
       "       (17891, 125.475, 125.6  , 124.9  , 125.25 , 12154),\n",
       "       (17892, 125.425, 126.675, 125.375, 126.   , 22110),\n",
       "       (17893, 126.3  , 126.725, 126.075, 126.4  , 16137),\n",
       "       (17896, 126.875, 126.95 , 126.175, 126.25 , 19403),\n",
       "       (17898, 126.35 , 126.45 , 125.55 , 125.775, 20268),\n",
       "       (17899, 125.85 , 126.05 , 124.575, 125.4  , 17375),\n",
       "       (17900, 125.325, 125.425, 123.9  , 124.   , 16922),\n",
       "       (17903, 123.9  , 125.375, 123.5  , 125.075, 20151),\n",
       "       (17904, 125.175, 126.4  , 124.4  , 126.15 , 43482),\n",
       "       (17905, 126.15 , 126.25 , 125.625, 125.8  , 33655),\n",
       "       (17906, 125.725, 126.225, 125.65 , 125.925, 31969),\n",
       "       (17907, 126.1  , 126.675, 125.75 , 126.375, 33331),\n",
       "       (17910, 126.4  , 126.775, 125.975, 126.675, 30810),\n",
       "       (17911, 126.575, 127.65 , 126.325, 127.425, 36772),\n",
       "       (17912, 127.45 , 127.8  , 126.95 , 127.725, 31037),\n",
       "       (17913, 127.525, 127.525, 126.175, 126.9  , 23403),\n",
       "       (17914, 127.   , 127.525, 126.425, 127.375, 23246),\n",
       "       (17918, 126.7  , 126.975, 125.65 , 126.075, 23553),\n",
       "       (17919, 126.2  , 126.575, 125.475, 126.5  , 20040),\n",
       "       (17920, 126.475, 126.6  , 125.975, 126.475, 16540),\n",
       "       (17921, 126.325, 127.425, 125.875, 126.85 , 26888),\n",
       "       (17924, 126.725, 127.55 , 126.4  , 127.375, 20197),\n",
       "       (17925, 127.375, 127.9  , 127.175, 127.8  , 22152),\n",
       "       (17926, 127.85 , 128.15 , 127.7  , 128.05 , 17945),\n",
       "       (17927, 128.075, 129.475, 126.125, 126.3  , 46899),\n",
       "       (17928, 126.025, 126.7  , 125.75 , 126.275, 25195),\n",
       "       (17931, 126.725, 127.725, 126.25 , 127.   , 29492),\n",
       "       (17932, 126.825, 127.75 , 126.8  , 127.625, 20850),\n",
       "       (17933, 127.575, 127.85 , 126.775, 127.15 , 19308),\n",
       "       (17934, 127.   , 127.55 , 126.625, 126.825, 20548),\n",
       "       (17935, 127.25 , 128.1  , 127.   , 127.925, 21716)],\n",
       "      dtype=[('date', '<i4'), ('open', '<f8'), ('high', '<f8'), ('low', '<f8'), ('close', '<f8'), ('volume', '<u8')])"
      ]
     },
     "execution_count": 8,
     "metadata": {},
     "output_type": "execute_result"
    }
   ],
   "source": [
    "product['LCJ19'].ohlc()"
   ]
  },
  {
   "cell_type": "code",
   "execution_count": 20,
   "metadata": {},
   "outputs": [
    {
     "data": {
      "text/plain": [
       "array([(17868, 121.3  , 121.425, 119.825, 120.175, 28458),\n",
       "       (17869, 120.075, 121.75 , 119.975, 121.65 , 33453),\n",
       "       (17870, 121.65 , 122.55 , 121.175, 122.375, 22868),\n",
       "       (17871, 122.1  , 122.325, 121.375, 121.8  , 23536),\n",
       "       (17872, 121.8  , 122.   , 120.6  , 121.525, 23885),\n",
       "       (17875, 121.7  , 121.9  , 120.775, 121.2  , 20183),\n",
       "       (17876, 121.05 , 122.5  , 120.475, 122.15 , 25364),\n",
       "       (17877, 122.25 , 123.   , 121.7  , 122.9  , 23626),\n",
       "       (17878, 123.   , 123.275, 122.675, 122.85 , 20273),\n",
       "       (17879, 122.55 , 123.225, 122.225, 122.4  , 22654),\n",
       "       (17882, 122.075, 122.2  , 121.1  , 121.55 , 18263),\n",
       "       (17883, 121.55 , 123.075, 121.35 , 122.575, 20450),\n",
       "       (17884, 122.125, 122.675, 122.   , 122.25 , 12992),\n",
       "       (17885, 122.15 , 122.8  , 121.55 , 122.35 , 19402),\n",
       "       (17886, 122.4  , 123.   , 122.375, 122.7  , 17691),\n",
       "       (17889, 122.375, 123.   , 122.3  , 122.775, 12989),\n",
       "       (17891, 123.2  , 123.5  , 122.725, 122.75 , 17741),\n",
       "       (17892, 123.025, 124.9  , 123.   , 123.95 , 33366),\n",
       "       (17893, 124.225, 124.775, 124.025, 124.175, 21975),\n",
       "       (17896, 124.875, 124.95 , 123.825, 123.875, 25737),\n",
       "       (17898, 124.   , 124.2  , 123.375, 123.525, 28542),\n",
       "       (17899, 123.65 , 123.875, 122.35 , 123.225, 27921),\n",
       "       (17900, 123.225, 123.3  , 121.75 , 121.925, 27113),\n",
       "       (17903, 121.8  , 123.4  , 121.425, 123.2  , 31156),\n",
       "       (17904, 123.2  , 125.475, 122.875, 125.3  , 54520),\n",
       "       (17905, 125.1  , 125.4  , 124.725, 124.8  , 36056),\n",
       "       (17906, 124.65 , 125.15 , 124.575, 124.875, 37428),\n",
       "       (17907, 125.025, 125.65 , 124.725, 124.975, 40412),\n",
       "       (17910, 125.025, 125.625, 124.775, 125.425, 29887),\n",
       "       (17911, 125.45 , 127.1  , 125.25 , 126.95 , 36144),\n",
       "       (17912, 127.175, 127.95 , 126.725, 127.825, 27181),\n",
       "       (17913, 127.625, 127.7  , 126.25 , 127.1  , 15444),\n",
       "       (17914, 127.075, 127.175, 126.225, 126.525, 19082),\n",
       "       (17918, 125.85 , 126.025, 124.85 , 125.125, 16797),\n",
       "       (17919, 125.125, 125.625, 124.7  , 125.55 , 10335),\n",
       "       (17920, 125.55 , 125.625, 124.925, 125.35 , 10467),\n",
       "       (17921, 125.25 , 126.35 , 125.   , 126.05 , 14139),\n",
       "       (17924, 125.95 , 126.6  , 125.575, 126.4  , 10084),\n",
       "       (17925, 126.525, 126.725, 126.1  , 126.475, 10472),\n",
       "       (17926, 126.6  , 126.625, 126.05 , 126.15 ,  9842),\n",
       "       (17927, 126.15 , 127.125, 124.725, 124.8  , 16336),\n",
       "       (17928, 125.   , 125.725, 124.85 , 125.45 ,  9094),\n",
       "       (17931, 125.95 , 126.65 , 125.5  , 125.65 ,  8273)],\n",
       "      dtype=[('date', '<i4'), ('open', '<f8'), ('high', '<f8'), ('low', '<f8'), ('close', '<f8'), ('volume', '<u8')])"
      ]
     },
     "execution_count": 20,
     "metadata": {},
     "output_type": "execute_result"
    }
   ],
   "source": [
    "product['LCG19'].ohlc()"
   ]
  },
  {
   "cell_type": "code",
   "execution_count": 17,
   "metadata": {
    "scrolled": false
   },
   "outputs": [
    {
     "data": {
      "text/plain": [
       "'Live Cattle(2019.04)'"
      ]
     },
     "execution_count": 17,
     "metadata": {},
     "output_type": "execute_result"
    }
   ],
   "source": [
    "product['LCJ19'].info()"
   ]
  },
  {
   "cell_type": "code",
   "execution_count": 19,
   "metadata": {},
   "outputs": [
    {
     "name": "stdout",
     "output_type": "stream",
     "text": [
      "Live Cattle(2019.02) LCG19\n",
      "Live Cattle(2019.04) LCJ19\n",
      "Live Cattle(2019.06) LCM19\n",
      "Live Cattle(2019.08) LCQ19\n"
     ]
    }
   ],
   "source": [
    "for p in product.values():\n",
    "    print(p.name, p.symbol)"
   ]
  },
  {
   "cell_type": "code",
   "execution_count": 10,
   "metadata": {},
   "outputs": [],
   "source": [
    "with open('products.pkl', \"wb\") as f:\n",
    "    pickle.dump(products, f, protocol=pickle.HIGHEST_PROTOCOL)"
   ]
  },
  {
   "cell_type": "code",
   "execution_count": 7,
   "metadata": {},
   "outputs": [
    {
     "data": {
      "text/plain": [
       "['BRH19', 'BRJ19', 'BRK19']"
      ]
     },
     "execution_count": 7,
     "metadata": {},
     "output_type": "execute_result"
    }
   ],
   "source": [
    "list(product.keys())"
   ]
  },
  {
   "cell_type": "code",
   "execution_count": 6,
   "metadata": {},
   "outputs": [],
   "source": [
    "b=product['BRJ19'].ohlc()"
   ]
  },
  {
   "cell_type": "code",
   "execution_count": 12,
   "metadata": {},
   "outputs": [
    {
     "data": {
      "text/plain": [
       "array([0, 0, 0, 0, 0, 0, 0, 0, 0, 0, 0, 0, 0, 0, 0, 0, 0, 0, 0, 0, 0, 0,\n",
       "       0, 0, 0, 0, 0, 0, 0, 0, 0, 0, 0, 0], dtype=uint64)"
      ]
     },
     "execution_count": 12,
     "metadata": {},
     "output_type": "execute_result"
    }
   ],
   "source": [
    "b[b['date']<17918]['volume']"
   ]
  },
  {
   "cell_type": "code",
   "execution_count": 40,
   "metadata": {},
   "outputs": [],
   "source": [
    "db = tb.open_file(Products.OHLCFILE, mode='a')"
   ]
  },
  {
   "cell_type": "code",
   "execution_count": 47,
   "metadata": {},
   "outputs": [],
   "source": [
    "df = pd.DataFrame(db.root['ZW'].read())"
   ]
  },
  {
   "cell_type": "code",
   "execution_count": 48,
   "metadata": {},
   "outputs": [],
   "source": [
    "df.set_index('date', inplace=True)\n",
    "df.index = df.index.astype('M8[D]')"
   ]
  },
  {
   "cell_type": "code",
   "execution_count": 49,
   "metadata": {},
   "outputs": [
    {
     "data": {
      "text/html": [
       "<div>\n",
       "<style scoped>\n",
       "    .dataframe tbody tr th:only-of-type {\n",
       "        vertical-align: middle;\n",
       "    }\n",
       "\n",
       "    .dataframe tbody tr th {\n",
       "        vertical-align: top;\n",
       "    }\n",
       "\n",
       "    .dataframe thead th {\n",
       "        text-align: right;\n",
       "    }\n",
       "</style>\n",
       "<table border=\"1\" class=\"dataframe\">\n",
       "  <thead>\n",
       "    <tr style=\"text-align: right;\">\n",
       "      <th></th>\n",
       "      <th>open</th>\n",
       "      <th>high</th>\n",
       "      <th>low</th>\n",
       "      <th>close</th>\n",
       "      <th>volume</th>\n",
       "    </tr>\n",
       "    <tr>\n",
       "      <th>date</th>\n",
       "      <th></th>\n",
       "      <th></th>\n",
       "      <th></th>\n",
       "      <th></th>\n",
       "      <th></th>\n",
       "    </tr>\n",
       "  </thead>\n",
       "  <tbody>\n",
       "    <tr>\n",
       "      <th>2018-12-03</th>\n",
       "      <td>526.00</td>\n",
       "      <td>529.50</td>\n",
       "      <td>517.00</td>\n",
       "      <td>521.25</td>\n",
       "      <td>59962</td>\n",
       "    </tr>\n",
       "    <tr>\n",
       "      <th>2018-12-04</th>\n",
       "      <td>519.50</td>\n",
       "      <td>523.25</td>\n",
       "      <td>516.00</td>\n",
       "      <td>522.50</td>\n",
       "      <td>43909</td>\n",
       "    </tr>\n",
       "    <tr>\n",
       "      <th>2018-12-05</th>\n",
       "      <td>521.75</td>\n",
       "      <td>522.00</td>\n",
       "      <td>513.50</td>\n",
       "      <td>518.00</td>\n",
       "      <td>39564</td>\n",
       "    </tr>\n",
       "    <tr>\n",
       "      <th>2018-12-06</th>\n",
       "      <td>518.00</td>\n",
       "      <td>518.50</td>\n",
       "      <td>510.00</td>\n",
       "      <td>515.50</td>\n",
       "      <td>44394</td>\n",
       "    </tr>\n",
       "    <tr>\n",
       "      <th>2018-12-07</th>\n",
       "      <td>517.00</td>\n",
       "      <td>532.00</td>\n",
       "      <td>515.25</td>\n",
       "      <td>531.25</td>\n",
       "      <td>82011</td>\n",
       "    </tr>\n",
       "    <tr>\n",
       "      <th>2018-12-10</th>\n",
       "      <td>529.75</td>\n",
       "      <td>531.00</td>\n",
       "      <td>524.50</td>\n",
       "      <td>525.25</td>\n",
       "      <td>48084</td>\n",
       "    </tr>\n",
       "    <tr>\n",
       "      <th>2018-12-11</th>\n",
       "      <td>525.00</td>\n",
       "      <td>529.00</td>\n",
       "      <td>517.50</td>\n",
       "      <td>521.00</td>\n",
       "      <td>56132</td>\n",
       "    </tr>\n",
       "    <tr>\n",
       "      <th>2018-12-12</th>\n",
       "      <td>522.00</td>\n",
       "      <td>528.75</td>\n",
       "      <td>521.75</td>\n",
       "      <td>526.50</td>\n",
       "      <td>48921</td>\n",
       "    </tr>\n",
       "    <tr>\n",
       "      <th>2018-12-13</th>\n",
       "      <td>527.25</td>\n",
       "      <td>538.50</td>\n",
       "      <td>527.25</td>\n",
       "      <td>536.00</td>\n",
       "      <td>74719</td>\n",
       "    </tr>\n",
       "    <tr>\n",
       "      <th>2018-12-14</th>\n",
       "      <td>536.00</td>\n",
       "      <td>538.00</td>\n",
       "      <td>527.75</td>\n",
       "      <td>530.00</td>\n",
       "      <td>47819</td>\n",
       "    </tr>\n",
       "    <tr>\n",
       "      <th>2018-12-17</th>\n",
       "      <td>533.25</td>\n",
       "      <td>537.50</td>\n",
       "      <td>530.00</td>\n",
       "      <td>535.25</td>\n",
       "      <td>34446</td>\n",
       "    </tr>\n",
       "    <tr>\n",
       "      <th>2018-12-18</th>\n",
       "      <td>534.00</td>\n",
       "      <td>536.00</td>\n",
       "      <td>530.00</td>\n",
       "      <td>532.75</td>\n",
       "      <td>37312</td>\n",
       "    </tr>\n",
       "    <tr>\n",
       "      <th>2018-12-19</th>\n",
       "      <td>532.75</td>\n",
       "      <td>533.00</td>\n",
       "      <td>521.50</td>\n",
       "      <td>522.50</td>\n",
       "      <td>47363</td>\n",
       "    </tr>\n",
       "    <tr>\n",
       "      <th>2018-12-20</th>\n",
       "      <td>524.00</td>\n",
       "      <td>527.75</td>\n",
       "      <td>521.25</td>\n",
       "      <td>523.50</td>\n",
       "      <td>43760</td>\n",
       "    </tr>\n",
       "    <tr>\n",
       "      <th>2018-12-21</th>\n",
       "      <td>522.00</td>\n",
       "      <td>524.00</td>\n",
       "      <td>512.25</td>\n",
       "      <td>514.00</td>\n",
       "      <td>59834</td>\n",
       "    </tr>\n",
       "    <tr>\n",
       "      <th>2018-12-24</th>\n",
       "      <td>512.00</td>\n",
       "      <td>518.00</td>\n",
       "      <td>511.00</td>\n",
       "      <td>516.50</td>\n",
       "      <td>21194</td>\n",
       "    </tr>\n",
       "    <tr>\n",
       "      <th>2018-12-26</th>\n",
       "      <td>516.25</td>\n",
       "      <td>520.75</td>\n",
       "      <td>509.00</td>\n",
       "      <td>510.00</td>\n",
       "      <td>30797</td>\n",
       "    </tr>\n",
       "    <tr>\n",
       "      <th>2018-12-27</th>\n",
       "      <td>511.50</td>\n",
       "      <td>513.00</td>\n",
       "      <td>507.25</td>\n",
       "      <td>510.50</td>\n",
       "      <td>30626</td>\n",
       "    </tr>\n",
       "    <tr>\n",
       "      <th>2018-12-28</th>\n",
       "      <td>511.75</td>\n",
       "      <td>514.00</td>\n",
       "      <td>509.50</td>\n",
       "      <td>511.50</td>\n",
       "      <td>23190</td>\n",
       "    </tr>\n",
       "    <tr>\n",
       "      <th>2018-12-31</th>\n",
       "      <td>512.75</td>\n",
       "      <td>513.50</td>\n",
       "      <td>503.00</td>\n",
       "      <td>503.25</td>\n",
       "      <td>36551</td>\n",
       "    </tr>\n",
       "    <tr>\n",
       "      <th>2019-01-02</th>\n",
       "      <td>502.75</td>\n",
       "      <td>510.75</td>\n",
       "      <td>501.25</td>\n",
       "      <td>506.75</td>\n",
       "      <td>42649</td>\n",
       "    </tr>\n",
       "    <tr>\n",
       "      <th>2019-01-03</th>\n",
       "      <td>506.75</td>\n",
       "      <td>516.00</td>\n",
       "      <td>506.00</td>\n",
       "      <td>513.75</td>\n",
       "      <td>46638</td>\n",
       "    </tr>\n",
       "    <tr>\n",
       "      <th>2019-01-04</th>\n",
       "      <td>513.75</td>\n",
       "      <td>518.75</td>\n",
       "      <td>513.00</td>\n",
       "      <td>517.00</td>\n",
       "      <td>41760</td>\n",
       "    </tr>\n",
       "    <tr>\n",
       "      <th>2019-01-07</th>\n",
       "      <td>518.00</td>\n",
       "      <td>518.50</td>\n",
       "      <td>513.50</td>\n",
       "      <td>516.75</td>\n",
       "      <td>38861</td>\n",
       "    </tr>\n",
       "    <tr>\n",
       "      <th>2019-01-08</th>\n",
       "      <td>516.50</td>\n",
       "      <td>524.50</td>\n",
       "      <td>513.75</td>\n",
       "      <td>517.75</td>\n",
       "      <td>66422</td>\n",
       "    </tr>\n",
       "    <tr>\n",
       "      <th>2019-01-09</th>\n",
       "      <td>519.75</td>\n",
       "      <td>523.75</td>\n",
       "      <td>518.25</td>\n",
       "      <td>520.00</td>\n",
       "      <td>50716</td>\n",
       "    </tr>\n",
       "    <tr>\n",
       "      <th>2019-01-10</th>\n",
       "      <td>519.50</td>\n",
       "      <td>520.25</td>\n",
       "      <td>512.00</td>\n",
       "      <td>513.75</td>\n",
       "      <td>53146</td>\n",
       "    </tr>\n",
       "    <tr>\n",
       "      <th>2019-01-11</th>\n",
       "      <td>513.75</td>\n",
       "      <td>523.75</td>\n",
       "      <td>512.75</td>\n",
       "      <td>519.50</td>\n",
       "      <td>66720</td>\n",
       "    </tr>\n",
       "    <tr>\n",
       "      <th>2019-01-14</th>\n",
       "      <td>520.00</td>\n",
       "      <td>523.50</td>\n",
       "      <td>513.25</td>\n",
       "      <td>514.25</td>\n",
       "      <td>44070</td>\n",
       "    </tr>\n",
       "    <tr>\n",
       "      <th>2019-01-15</th>\n",
       "      <td>514.75</td>\n",
       "      <td>518.25</td>\n",
       "      <td>508.00</td>\n",
       "      <td>511.00</td>\n",
       "      <td>54336</td>\n",
       "    </tr>\n",
       "    <tr>\n",
       "      <th>2019-01-16</th>\n",
       "      <td>511.00</td>\n",
       "      <td>516.75</td>\n",
       "      <td>511.00</td>\n",
       "      <td>512.50</td>\n",
       "      <td>41068</td>\n",
       "    </tr>\n",
       "    <tr>\n",
       "      <th>2019-01-17</th>\n",
       "      <td>511.50</td>\n",
       "      <td>522.50</td>\n",
       "      <td>509.00</td>\n",
       "      <td>517.75</td>\n",
       "      <td>63323</td>\n",
       "    </tr>\n",
       "    <tr>\n",
       "      <th>2019-01-18</th>\n",
       "      <td>519.75</td>\n",
       "      <td>522.75</td>\n",
       "      <td>515.25</td>\n",
       "      <td>517.75</td>\n",
       "      <td>46812</td>\n",
       "    </tr>\n",
       "    <tr>\n",
       "      <th>2019-01-22</th>\n",
       "      <td>518.00</td>\n",
       "      <td>526.00</td>\n",
       "      <td>514.25</td>\n",
       "      <td>521.25</td>\n",
       "      <td>73695</td>\n",
       "    </tr>\n",
       "    <tr>\n",
       "      <th>2019-01-23</th>\n",
       "      <td>522.50</td>\n",
       "      <td>527.00</td>\n",
       "      <td>521.75</td>\n",
       "      <td>526.00</td>\n",
       "      <td>42002</td>\n",
       "    </tr>\n",
       "    <tr>\n",
       "      <th>2019-01-24</th>\n",
       "      <td>527.00</td>\n",
       "      <td>529.00</td>\n",
       "      <td>521.00</td>\n",
       "      <td>521.50</td>\n",
       "      <td>48425</td>\n",
       "    </tr>\n",
       "    <tr>\n",
       "      <th>2019-01-25</th>\n",
       "      <td>520.50</td>\n",
       "      <td>523.00</td>\n",
       "      <td>516.75</td>\n",
       "      <td>520.00</td>\n",
       "      <td>48835</td>\n",
       "    </tr>\n",
       "    <tr>\n",
       "      <th>2019-01-28</th>\n",
       "      <td>520.75</td>\n",
       "      <td>523.50</td>\n",
       "      <td>516.00</td>\n",
       "      <td>518.75</td>\n",
       "      <td>41835</td>\n",
       "    </tr>\n",
       "    <tr>\n",
       "      <th>2019-01-29</th>\n",
       "      <td>517.75</td>\n",
       "      <td>522.00</td>\n",
       "      <td>510.75</td>\n",
       "      <td>513.25</td>\n",
       "      <td>72224</td>\n",
       "    </tr>\n",
       "    <tr>\n",
       "      <th>2019-01-30</th>\n",
       "      <td>513.25</td>\n",
       "      <td>518.00</td>\n",
       "      <td>511.75</td>\n",
       "      <td>516.75</td>\n",
       "      <td>44727</td>\n",
       "    </tr>\n",
       "    <tr>\n",
       "      <th>2019-01-31</th>\n",
       "      <td>517.75</td>\n",
       "      <td>520.00</td>\n",
       "      <td>513.50</td>\n",
       "      <td>516.50</td>\n",
       "      <td>53150</td>\n",
       "    </tr>\n",
       "    <tr>\n",
       "      <th>2019-02-01</th>\n",
       "      <td>515.75</td>\n",
       "      <td>526.50</td>\n",
       "      <td>515.25</td>\n",
       "      <td>524.25</td>\n",
       "      <td>80178</td>\n",
       "    </tr>\n",
       "    <tr>\n",
       "      <th>2019-02-04</th>\n",
       "      <td>524.75</td>\n",
       "      <td>529.00</td>\n",
       "      <td>521.25</td>\n",
       "      <td>525.75</td>\n",
       "      <td>70133</td>\n",
       "    </tr>\n",
       "    <tr>\n",
       "      <th>2019-02-05</th>\n",
       "      <td>525.25</td>\n",
       "      <td>528.25</td>\n",
       "      <td>520.50</td>\n",
       "      <td>527.25</td>\n",
       "      <td>70115</td>\n",
       "    </tr>\n",
       "    <tr>\n",
       "      <th>2019-02-06</th>\n",
       "      <td>527.00</td>\n",
       "      <td>531.25</td>\n",
       "      <td>524.25</td>\n",
       "      <td>526.00</td>\n",
       "      <td>68638</td>\n",
       "    </tr>\n",
       "    <tr>\n",
       "      <th>2019-02-07</th>\n",
       "      <td>525.25</td>\n",
       "      <td>525.25</td>\n",
       "      <td>512.50</td>\n",
       "      <td>513.25</td>\n",
       "      <td>105092</td>\n",
       "    </tr>\n",
       "  </tbody>\n",
       "</table>\n",
       "</div>"
      ],
      "text/plain": [
       "              open    high     low   close  volume\n",
       "date                                              \n",
       "2018-12-03  526.00  529.50  517.00  521.25   59962\n",
       "2018-12-04  519.50  523.25  516.00  522.50   43909\n",
       "2018-12-05  521.75  522.00  513.50  518.00   39564\n",
       "2018-12-06  518.00  518.50  510.00  515.50   44394\n",
       "2018-12-07  517.00  532.00  515.25  531.25   82011\n",
       "2018-12-10  529.75  531.00  524.50  525.25   48084\n",
       "2018-12-11  525.00  529.00  517.50  521.00   56132\n",
       "2018-12-12  522.00  528.75  521.75  526.50   48921\n",
       "2018-12-13  527.25  538.50  527.25  536.00   74719\n",
       "2018-12-14  536.00  538.00  527.75  530.00   47819\n",
       "2018-12-17  533.25  537.50  530.00  535.25   34446\n",
       "2018-12-18  534.00  536.00  530.00  532.75   37312\n",
       "2018-12-19  532.75  533.00  521.50  522.50   47363\n",
       "2018-12-20  524.00  527.75  521.25  523.50   43760\n",
       "2018-12-21  522.00  524.00  512.25  514.00   59834\n",
       "2018-12-24  512.00  518.00  511.00  516.50   21194\n",
       "2018-12-26  516.25  520.75  509.00  510.00   30797\n",
       "2018-12-27  511.50  513.00  507.25  510.50   30626\n",
       "2018-12-28  511.75  514.00  509.50  511.50   23190\n",
       "2018-12-31  512.75  513.50  503.00  503.25   36551\n",
       "2019-01-02  502.75  510.75  501.25  506.75   42649\n",
       "2019-01-03  506.75  516.00  506.00  513.75   46638\n",
       "2019-01-04  513.75  518.75  513.00  517.00   41760\n",
       "2019-01-07  518.00  518.50  513.50  516.75   38861\n",
       "2019-01-08  516.50  524.50  513.75  517.75   66422\n",
       "2019-01-09  519.75  523.75  518.25  520.00   50716\n",
       "2019-01-10  519.50  520.25  512.00  513.75   53146\n",
       "2019-01-11  513.75  523.75  512.75  519.50   66720\n",
       "2019-01-14  520.00  523.50  513.25  514.25   44070\n",
       "2019-01-15  514.75  518.25  508.00  511.00   54336\n",
       "2019-01-16  511.00  516.75  511.00  512.50   41068\n",
       "2019-01-17  511.50  522.50  509.00  517.75   63323\n",
       "2019-01-18  519.75  522.75  515.25  517.75   46812\n",
       "2019-01-22  518.00  526.00  514.25  521.25   73695\n",
       "2019-01-23  522.50  527.00  521.75  526.00   42002\n",
       "2019-01-24  527.00  529.00  521.00  521.50   48425\n",
       "2019-01-25  520.50  523.00  516.75  520.00   48835\n",
       "2019-01-28  520.75  523.50  516.00  518.75   41835\n",
       "2019-01-29  517.75  522.00  510.75  513.25   72224\n",
       "2019-01-30  513.25  518.00  511.75  516.75   44727\n",
       "2019-01-31  517.75  520.00  513.50  516.50   53150\n",
       "2019-02-01  515.75  526.50  515.25  524.25   80178\n",
       "2019-02-04  524.75  529.00  521.25  525.75   70133\n",
       "2019-02-05  525.25  528.25  520.50  527.25   70115\n",
       "2019-02-06  527.00  531.25  524.25  526.00   68638\n",
       "2019-02-07  525.25  525.25  512.50  513.25  105092"
      ]
     },
     "execution_count": 49,
     "metadata": {},
     "output_type": "execute_result"
    }
   ],
   "source": [
    "df"
   ]
  },
  {
   "cell_type": "code",
   "execution_count": 50,
   "metadata": {},
   "outputs": [],
   "source": [
    "db.close()"
   ]
  },
  {
   "cell_type": "code",
   "execution_count": 52,
   "metadata": {},
   "outputs": [
    {
     "data": {
      "text/plain": [
       "'Wheat(2019.03)'"
      ]
     },
     "execution_count": 52,
     "metadata": {},
     "output_type": "execute_result"
    }
   ],
   "source": [
    "product.active.name"
   ]
  },
  {
   "cell_type": "code",
   "execution_count": 67,
   "metadata": {
    "scrolled": true
   },
   "outputs": [],
   "source": [
    "for k in a:\n",
    "    if k.name == 'ADH19':\n",
    "        break"
   ]
  },
  {
   "cell_type": "code",
   "execution_count": 77,
   "metadata": {},
   "outputs": [],
   "source": [
    "while next(a).name =='ADH19': pass"
   ]
  },
  {
   "cell_type": "code",
   "execution_count": 74,
   "metadata": {},
   "outputs": [
    {
     "ename": "StopIteration",
     "evalue": "",
     "output_type": "error",
     "traceback": [
      "\u001b[1;31m---------------------------------------------------------------------------\u001b[0m",
      "\u001b[1;31mStopIteration\u001b[0m                             Traceback (most recent call last)",
      "\u001b[1;32m<ipython-input-74-15841f3f11d4>\u001b[0m in \u001b[0;36m<module>\u001b[1;34m\u001b[0m\n\u001b[1;32m----> 1\u001b[1;33m \u001b[0mnext\u001b[0m\u001b[1;33m(\u001b[0m\u001b[0ma\u001b[0m\u001b[1;33m)\u001b[0m\u001b[1;33m\u001b[0m\u001b[1;33m\u001b[0m\u001b[0m\n\u001b[0m",
      "\u001b[1;31mStopIteration\u001b[0m: "
     ]
    }
   ],
   "source": [
    "next(a)"
   ]
  },
  {
   "cell_type": "code",
   "execution_count": 47,
   "metadata": {},
   "outputs": [],
   "source": [
    "a=('1','2','3','4','5','6')"
   ]
  },
  {
   "cell_type": "code",
   "execution_count": 48,
   "metadata": {},
   "outputs": [
    {
     "data": {
      "text/plain": [
       "5.0"
      ]
     },
     "execution_count": 48,
     "metadata": {},
     "output_type": "execute_result"
    }
   ],
   "source": [
    "max(map(float, a[1:-1]))"
   ]
  },
  {
   "cell_type": "code",
   "execution_count": 71,
   "metadata": {},
   "outputs": [],
   "source": [
    "def t():\n",
    "    return 'hihi'"
   ]
  },
  {
   "cell_type": "code",
   "execution_count": 72,
   "metadata": {},
   "outputs": [],
   "source": [
    "class Test:\n",
    "    ABC = t()"
   ]
  },
  {
   "cell_type": "code",
   "execution_count": 73,
   "metadata": {},
   "outputs": [
    {
     "data": {
      "text/plain": [
       "'hihi'"
      ]
     },
     "execution_count": 73,
     "metadata": {},
     "output_type": "execute_result"
    }
   ],
   "source": [
    "Test.ABC"
   ]
  },
  {
   "cell_type": "code",
   "execution_count": 174,
   "metadata": {},
   "outputs": [
    {
     "data": {
      "text/plain": [
       "True"
      ]
     },
     "execution_count": 174,
     "metadata": {},
     "output_type": "execute_result"
    }
   ],
   "source": [
    "c == b"
   ]
  },
  {
   "cell_type": "code",
   "execution_count": 62,
   "metadata": {},
   "outputs": [
    {
     "data": {
      "text/plain": [
       "-934967803"
      ]
     },
     "execution_count": 62,
     "metadata": {},
     "output_type": "execute_result"
    }
   ],
   "source": [
    "b.astype('int32')"
   ]
  },
  {
   "cell_type": "code",
   "execution_count": 60,
   "metadata": {},
   "outputs": [
    {
     "data": {
      "text/plain": [
       "numpy.datetime64('2019-02-04T23:23:37.718277')"
      ]
     },
     "execution_count": 60,
     "metadata": {},
     "output_type": "execute_result"
    }
   ],
   "source": [
    "np.int64(1549322617718277).astype(\"M8[us]\")"
   ]
  },
  {
   "cell_type": "code",
   "execution_count": 68,
   "metadata": {},
   "outputs": [],
   "source": [
    "a=np.datetime64('2018-01-01')"
   ]
  },
  {
   "cell_type": "code",
   "execution_count": 73,
   "metadata": {},
   "outputs": [
    {
     "data": {
      "text/plain": [
       "17532"
      ]
     },
     "execution_count": 73,
     "metadata": {},
     "output_type": "execute_result"
    }
   ],
   "source": [
    "a.astype('int64')"
   ]
  },
  {
   "cell_type": "code",
   "execution_count": 97,
   "metadata": {},
   "outputs": [
    {
     "data": {
      "text/plain": [
       "1514764800000000"
      ]
     },
     "execution_count": 97,
     "metadata": {},
     "output_type": "execute_result"
    }
   ],
   "source": [
    "np.datetime64(datetime(2018,1,1)).astype('M8[us]').astype('int64')"
   ]
  },
  {
   "cell_type": "code",
   "execution_count": 86,
   "metadata": {},
   "outputs": [
    {
     "data": {
      "text/plain": [
       "1514764800"
      ]
     },
     "execution_count": 86,
     "metadata": {},
     "output_type": "execute_result"
    }
   ],
   "source": [
    "a.astype('M8[s]').astype(\"int64\")"
   ]
  },
  {
   "cell_type": "code",
   "execution_count": 103,
   "metadata": {},
   "outputs": [
    {
     "data": {
      "text/plain": [
       "1514764800.0"
      ]
     },
     "execution_count": 103,
     "metadata": {},
     "output_type": "execute_result"
    }
   ],
   "source": [
    "datetime(2018,1,1,8).timestamp()"
   ]
  },
  {
   "cell_type": "code",
   "execution_count": 98,
   "metadata": {},
   "outputs": [
    {
     "data": {
      "text/plain": [
       "datetime.datetime(2018, 1, 1, 0, 0)"
      ]
     },
     "execution_count": 98,
     "metadata": {},
     "output_type": "execute_result"
    }
   ],
   "source": [
    "datetime.fromtimestamp(1514736000.0)"
   ]
  },
  {
   "cell_type": "code",
   "execution_count": 102,
   "metadata": {},
   "outputs": [
    {
     "data": {
      "text/plain": [
       "numpy.datetime64('2017-12-31T16:00:00')"
      ]
     },
     "execution_count": 102,
     "metadata": {},
     "output_type": "execute_result"
    }
   ],
   "source": [
    "np.int32(1514736000).astype('M8[s]')"
   ]
  },
  {
   "cell_type": "code",
   "execution_count": 107,
   "metadata": {},
   "outputs": [
    {
     "ename": "AttributeError",
     "evalue": "'getset_descriptor' object has no attribute 'timezone'",
     "output_type": "error",
     "traceback": [
      "\u001b[1;31m---------------------------------------------------------------------------\u001b[0m",
      "\u001b[1;31mAttributeError\u001b[0m                            Traceback (most recent call last)",
      "\u001b[1;32m<ipython-input-107-5f752adc7b6d>\u001b[0m in \u001b[0;36m<module>\u001b[1;34m\u001b[0m\n\u001b[1;32m----> 1\u001b[1;33m \u001b[0mdatetime\u001b[0m\u001b[1;33m.\u001b[0m\u001b[0mtzinfo\u001b[0m\u001b[1;33m.\u001b[0m\u001b[0mtimezone\u001b[0m\u001b[1;33m\u001b[0m\u001b[1;33m\u001b[0m\u001b[0m\n\u001b[0m",
      "\u001b[1;31mAttributeError\u001b[0m: 'getset_descriptor' object has no attribute 'timezone'"
     ]
    }
   ],
   "source": [
    "datetime.tzinfo.timezone"
   ]
  },
  {
   "cell_type": "code",
   "execution_count": 132,
   "metadata": {
    "scrolled": true
   },
   "outputs": [
    {
     "data": {
      "text/plain": [
       "1549295691.115751"
      ]
     },
     "execution_count": 132,
     "metadata": {},
     "output_type": "execute_result"
    }
   ],
   "source": [
    "datetime.now().timestamp()"
   ]
  },
  {
   "cell_type": "code",
   "execution_count": 133,
   "metadata": {},
   "outputs": [
    {
     "data": {
      "text/plain": [
       "1549266891.263207"
      ]
     },
     "execution_count": 133,
     "metadata": {},
     "output_type": "execute_result"
    }
   ],
   "source": [
    "datetime.utcnow().timestamp()"
   ]
  },
  {
   "cell_type": "code",
   "execution_count": 142,
   "metadata": {},
   "outputs": [
    {
     "data": {
      "text/plain": [
       "numpy.datetime64('2019-02-04T23:56:47')"
      ]
     },
     "execution_count": 142,
     "metadata": {},
     "output_type": "execute_result"
    }
   ],
   "source": [
    "np.datetime64(datetime.now()).astype('M8[s]')"
   ]
  },
  {
   "cell_type": "code",
   "execution_count": 135,
   "metadata": {},
   "outputs": [
    {
     "data": {
      "text/plain": [
       "1549295691"
      ]
     },
     "execution_count": 135,
     "metadata": {},
     "output_type": "execute_result"
    }
   ],
   "source": [
    "np.datetime64(datetime.utcnow()).astype('M8[s]').astype('uint64')"
   ]
  },
  {
   "cell_type": "code",
   "execution_count": 136,
   "metadata": {},
   "outputs": [
    {
     "data": {
      "text/plain": [
       "datetime.datetime(2019, 2, 5, 7, 52, 45)"
      ]
     },
     "execution_count": 136,
     "metadata": {},
     "output_type": "execute_result"
    }
   ],
   "source": [
    "datetime.fromtimestamp(1549324365)"
   ]
  },
  {
   "cell_type": "code",
   "execution_count": 137,
   "metadata": {},
   "outputs": [
    {
     "data": {
      "text/plain": [
       "datetime.datetime(2019, 2, 4, 23, 52, 45, 51167)"
      ]
     },
     "execution_count": 137,
     "metadata": {},
     "output_type": "execute_result"
    }
   ],
   "source": [
    "datetime.fromtimestamp(1549295565.051167)"
   ]
  },
  {
   "cell_type": "code",
   "execution_count": 138,
   "metadata": {},
   "outputs": [
    {
     "data": {
      "text/plain": [
       "datetime.datetime(2019, 2, 4, 15, 52, 45, 194717)"
      ]
     },
     "execution_count": 138,
     "metadata": {},
     "output_type": "execute_result"
    }
   ],
   "source": [
    "datetime.fromtimestamp(1549266765.194717)"
   ]
  },
  {
   "cell_type": "code",
   "execution_count": 139,
   "metadata": {},
   "outputs": [
    {
     "data": {
      "text/plain": [
       "datetime.datetime(2019, 2, 4, 23, 54, 51)"
      ]
     },
     "execution_count": 139,
     "metadata": {},
     "output_type": "execute_result"
    }
   ],
   "source": [
    "datetime.fromtimestamp(1549295691)"
   ]
  },
  {
   "cell_type": "code",
   "execution_count": 14,
   "metadata": {},
   "outputs": [],
   "source": [
    "from collections import OrderedDict\n",
    "class Test(OrderedDict):\n",
    "    def __init__(self, name):\n",
    "        self.name = name"
   ]
  },
  {
   "cell_type": "code",
   "execution_count": 15,
   "metadata": {},
   "outputs": [],
   "source": [
    "a = Test('yosep')"
   ]
  },
  {
   "cell_type": "code",
   "execution_count": 16,
   "metadata": {},
   "outputs": [],
   "source": [
    "with open('test.pkl', 'wb') as f:\n",
    "    pickle.dump(a,f)"
   ]
  },
  {
   "cell_type": "code",
   "execution_count": 17,
   "metadata": {},
   "outputs": [],
   "source": [
    "del a"
   ]
  },
  {
   "cell_type": "code",
   "execution_count": 18,
   "metadata": {},
   "outputs": [
    {
     "ename": "TypeError",
     "evalue": "__init__() missing 1 required positional argument: 'name'",
     "output_type": "error",
     "traceback": [
      "\u001b[1;31m---------------------------------------------------------------------------\u001b[0m",
      "\u001b[1;31mTypeError\u001b[0m                                 Traceback (most recent call last)",
      "\u001b[1;32m<ipython-input-18-6fb1745ba026>\u001b[0m in \u001b[0;36m<module>\u001b[1;34m\u001b[0m\n\u001b[0;32m      1\u001b[0m \u001b[1;32mwith\u001b[0m \u001b[0mopen\u001b[0m\u001b[1;33m(\u001b[0m\u001b[1;34m'test.pkl'\u001b[0m\u001b[1;33m,\u001b[0m \u001b[1;34m'rb'\u001b[0m\u001b[1;33m)\u001b[0m \u001b[1;32mas\u001b[0m \u001b[0mf\u001b[0m\u001b[1;33m:\u001b[0m\u001b[1;33m\u001b[0m\u001b[1;33m\u001b[0m\u001b[0m\n\u001b[1;32m----> 2\u001b[1;33m     \u001b[0ma\u001b[0m \u001b[1;33m=\u001b[0m \u001b[0mpickle\u001b[0m\u001b[1;33m.\u001b[0m\u001b[0mload\u001b[0m\u001b[1;33m(\u001b[0m\u001b[0mf\u001b[0m\u001b[1;33m)\u001b[0m\u001b[1;33m\u001b[0m\u001b[1;33m\u001b[0m\u001b[0m\n\u001b[0m",
      "\u001b[1;31mTypeError\u001b[0m: __init__() missing 1 required positional argument: 'name'"
     ]
    }
   ],
   "source": [
    "with open('test.pkl', 'rb') as f:\n",
    "    a = pickle.load(f)"
   ]
  },
  {
   "cell_type": "code",
   "execution_count": 12,
   "metadata": {},
   "outputs": [
    {
     "data": {
      "text/plain": [
       "{}"
      ]
     },
     "execution_count": 12,
     "metadata": {},
     "output_type": "execute_result"
    }
   ],
   "source": [
    "a"
   ]
  },
  {
   "cell_type": "code",
   "execution_count": 13,
   "metadata": {},
   "outputs": [
    {
     "data": {
      "text/plain": [
       "'yosep'"
      ]
     },
     "execution_count": 13,
     "metadata": {},
     "output_type": "execute_result"
    }
   ],
   "source": [
    "a.name"
   ]
  },
  {
   "cell_type": "code",
   "execution_count": null,
   "metadata": {},
   "outputs": [],
   "source": []
  }
 ],
 "metadata": {
  "kernelspec": {
   "display_name": "Python 3",
   "language": "python",
   "name": "python3"
  },
  "language_info": {
   "codemirror_mode": {
    "name": "ipython",
    "version": 3
   },
   "file_extension": ".py",
   "mimetype": "text/x-python",
   "name": "python",
   "nbconvert_exporter": "python",
   "pygments_lexer": "ipython3",
   "version": "3.7.1"
  }
 },
 "nbformat": 4,
 "nbformat_minor": 2
}
