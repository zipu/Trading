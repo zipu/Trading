{
 "cells": [
  {
   "cell_type": "code",
   "execution_count": 1,
   "id": "677b86a8",
   "metadata": {},
   "outputs": [],
   "source": [
    "%matplotlib inline\n",
    "import sys, os\n",
    "sys.path.append('../..')\n",
    "import matplotlib.pyplot as plt\n",
    "import numpy as np\n",
    "import pandas as pd\n",
    "import h5py"
   ]
  },
  {
   "cell_type": "code",
   "execution_count": 22,
   "id": "4b1e5bbf",
   "metadata": {},
   "outputs": [],
   "source": [
    "from sktime.base import load\n",
    "#from sklearn.model_selection import GridSearchCV\n",
    "#from sktime.classification.feature_based import TSFreshClassifier\n",
    "from sktime.classification.deep_learning.cnn import CNNClassifier"
   ]
  },
  {
   "cell_type": "code",
   "execution_count": 23,
   "id": "79578e71",
   "metadata": {},
   "outputs": [],
   "source": [
    "period = 20\n",
    "filepath = os.path.join('..','..','data','trend index','training set', f'trend_{period}day.hdf')\n",
    "file = h5py.File(filepath, mode='r')"
   ]
  },
  {
   "cell_type": "code",
   "execution_count": 24,
   "id": "ad74517b",
   "metadata": {},
   "outputs": [
    {
     "name": "stdout",
     "output_type": "stream",
     "text": [
      "(1139, 4, 20)\n",
      "(1139,)\n"
     ]
    }
   ],
   "source": [
    "ohlc  = file['ohlc'][:]\n",
    "trend = file['trend'][:]\n",
    "# shuffling\n",
    "idx = np.random.permutation(len(ohlc))\n",
    "ohlc = ohlc[idx]\n",
    "trend = trend[idx]\n",
    "\n",
    "print(ohlc.shape)\n",
    "print(trend.shape)\n"
   ]
  },
  {
   "cell_type": "code",
   "execution_count": 25,
   "id": "03130edc",
   "metadata": {},
   "outputs": [],
   "source": [
    "file.close()"
   ]
  },
  {
   "cell_type": "markdown",
   "id": "db6ab7ee",
   "metadata": {},
   "source": [
    "### 1. Train data & Test data 생성 (7:3)"
   ]
  },
  {
   "cell_type": "code",
   "execution_count": 26,
   "id": "b4a556dd",
   "metadata": {},
   "outputs": [
    {
     "name": "stdout",
     "output_type": "stream",
     "text": [
      "(797, 4, 20)\n",
      "(342, 4, 20)\n"
     ]
    }
   ],
   "source": [
    "idx = int(len(ohlc)*0.7)\n",
    "ohlc_train = ohlc[:idx]\n",
    "trend_train = trend[:idx]\n",
    "\n",
    "ohlc_test = ohlc[idx:]\n",
    "trend_test = trend[idx:]\n",
    "\n",
    "print(ohlc_train.shape)\n",
    "print(ohlc_test.shape)"
   ]
  },
  {
   "cell_type": "markdown",
   "id": "eeb80e14",
   "metadata": {},
   "source": [
    "### 2. 훈련 모델 생성 및 훈련"
   ]
  },
  {
   "cell_type": "code",
   "execution_count": 30,
   "id": "3b7d537b",
   "metadata": {
    "scrolled": true
   },
   "outputs": [
    {
     "name": "stdout",
     "output_type": "stream",
     "text": [
      "Model: \"model_5\"\n",
      "_________________________________________________________________\n",
      " Layer (type)                Output Shape              Param #   \n",
      "=================================================================\n",
      " input_6 (InputLayer)        [(None, 20, 4)]           0         \n",
      "                                                                 \n",
      " conv1d_10 (Conv1D)          (None, 20, 6)             174       \n",
      "                                                                 \n",
      " average_pooling1d_10 (Avera  (None, 6, 6)             0         \n",
      " gePooling1D)                                                    \n",
      "                                                                 \n",
      " conv1d_11 (Conv1D)          (None, 6, 12)             516       \n",
      "                                                                 \n",
      " average_pooling1d_11 (Avera  (None, 2, 12)            0         \n",
      " gePooling1D)                                                    \n",
      "                                                                 \n",
      " flatten_5 (Flatten)         (None, 24)                0         \n",
      "                                                                 \n",
      " dense_5 (Dense)             (None, 3)                 75        \n",
      "                                                                 \n",
      "=================================================================\n",
      "Total params: 765\n",
      "Trainable params: 765\n",
      "Non-trainable params: 0\n",
      "_________________________________________________________________\n",
      "Epoch 1/100\n"
     ]
    },
    {
     "name": "stderr",
     "output_type": "stream",
     "text": [
      "C:\\Users\\yosep\\python\\miniconda3\\lib\\site-packages\\sklearn\\preprocessing\\_encoders.py:868: FutureWarning: `sparse` was renamed to `sparse_output` in version 1.2 and will be removed in 1.4. `sparse_output` is ignored unless you leave `sparse` to its default value.\n",
      "  warnings.warn(\n"
     ]
    },
    {
     "name": "stdout",
     "output_type": "stream",
     "text": [
      "200/200 [==============================] - 1s 822us/step - loss: 0.1684 - accuracy: 0.5910\n",
      "Epoch 2/100\n",
      "200/200 [==============================] - 0s 837us/step - loss: 0.1339 - accuracy: 0.7365\n",
      "Epoch 3/100\n",
      "200/200 [==============================] - 0s 817us/step - loss: 0.1101 - accuracy: 0.7967\n",
      "Epoch 4/100\n",
      "200/200 [==============================] - 0s 837us/step - loss: 0.0992 - accuracy: 0.8068\n",
      "Epoch 5/100\n",
      "200/200 [==============================] - 0s 837us/step - loss: 0.0866 - accuracy: 0.8243\n",
      "Epoch 6/100\n",
      "200/200 [==============================] - 0s 832us/step - loss: 0.0804 - accuracy: 0.8419\n",
      "Epoch 7/100\n",
      "200/200 [==============================] - 0s 837us/step - loss: 0.0760 - accuracy: 0.8444\n",
      "Epoch 8/100\n",
      "200/200 [==============================] - 0s 842us/step - loss: 0.0690 - accuracy: 0.8620\n",
      "Epoch 9/100\n",
      "200/200 [==============================] - 0s 837us/step - loss: 0.0670 - accuracy: 0.8708\n",
      "Epoch 10/100\n",
      "200/200 [==============================] - 0s 842us/step - loss: 0.0661 - accuracy: 0.8657\n",
      "Epoch 11/100\n",
      "200/200 [==============================] - 0s 837us/step - loss: 0.0632 - accuracy: 0.8783\n",
      "Epoch 12/100\n",
      "200/200 [==============================] - 0s 830us/step - loss: 0.0653 - accuracy: 0.8557\n",
      "Epoch 13/100\n",
      "200/200 [==============================] - 0s 827us/step - loss: 0.0604 - accuracy: 0.8833\n",
      "Epoch 14/100\n",
      "200/200 [==============================] - 0s 842us/step - loss: 0.0574 - accuracy: 0.8770\n",
      "Epoch 15/100\n",
      "200/200 [==============================] - 0s 832us/step - loss: 0.0578 - accuracy: 0.8833\n",
      "Epoch 16/100\n",
      "200/200 [==============================] - 0s 847us/step - loss: 0.0572 - accuracy: 0.8770\n",
      "Epoch 17/100\n",
      "200/200 [==============================] - 0s 947us/step - loss: 0.0557 - accuracy: 0.8808\n",
      "Epoch 18/100\n",
      "200/200 [==============================] - 0s 832us/step - loss: 0.0541 - accuracy: 0.8908\n",
      "Epoch 19/100\n",
      "200/200 [==============================] - 0s 832us/step - loss: 0.0534 - accuracy: 0.8896\n",
      "Epoch 20/100\n",
      "200/200 [==============================] - 0s 832us/step - loss: 0.0545 - accuracy: 0.8946\n",
      "Epoch 21/100\n",
      "200/200 [==============================] - 0s 847us/step - loss: 0.0516 - accuracy: 0.8959\n",
      "Epoch 22/100\n",
      "200/200 [==============================] - 0s 832us/step - loss: 0.0509 - accuracy: 0.9109\n",
      "Epoch 23/100\n",
      "200/200 [==============================] - 0s 832us/step - loss: 0.0519 - accuracy: 0.8959\n",
      "Epoch 24/100\n",
      "200/200 [==============================] - 0s 837us/step - loss: 0.0498 - accuracy: 0.9059\n",
      "Epoch 25/100\n",
      "200/200 [==============================] - 0s 832us/step - loss: 0.0486 - accuracy: 0.9072\n",
      "Epoch 26/100\n",
      "200/200 [==============================] - 0s 827us/step - loss: 0.0484 - accuracy: 0.9046\n",
      "Epoch 27/100\n",
      "200/200 [==============================] - 0s 832us/step - loss: 0.0494 - accuracy: 0.8996\n",
      "Epoch 28/100\n",
      "200/200 [==============================] - 0s 837us/step - loss: 0.0486 - accuracy: 0.9046\n",
      "Epoch 29/100\n",
      "200/200 [==============================] - 0s 842us/step - loss: 0.0473 - accuracy: 0.9159\n",
      "Epoch 30/100\n",
      "200/200 [==============================] - 0s 832us/step - loss: 0.0490 - accuracy: 0.8959\n",
      "Epoch 31/100\n",
      "200/200 [==============================] - 0s 832us/step - loss: 0.0478 - accuracy: 0.9021\n",
      "Epoch 32/100\n",
      "200/200 [==============================] - 0s 832us/step - loss: 0.0470 - accuracy: 0.9097\n",
      "Epoch 33/100\n",
      "200/200 [==============================] - 0s 832us/step - loss: 0.0443 - accuracy: 0.9159\n",
      "Epoch 34/100\n",
      "200/200 [==============================] - 0s 832us/step - loss: 0.0438 - accuracy: 0.9097\n",
      "Epoch 35/100\n",
      "200/200 [==============================] - 0s 832us/step - loss: 0.0427 - accuracy: 0.9222\n",
      "Epoch 36/100\n",
      "200/200 [==============================] - 0s 822us/step - loss: 0.0402 - accuracy: 0.9197\n",
      "Epoch 37/100\n",
      "200/200 [==============================] - 0s 837us/step - loss: 0.0415 - accuracy: 0.9184\n",
      "Epoch 38/100\n",
      "200/200 [==============================] - 0s 827us/step - loss: 0.0397 - accuracy: 0.9310\n",
      "Epoch 39/100\n",
      "200/200 [==============================] - 0s 832us/step - loss: 0.0413 - accuracy: 0.9184\n",
      "Epoch 40/100\n",
      "200/200 [==============================] - 0s 832us/step - loss: 0.0394 - accuracy: 0.9285\n",
      "Epoch 41/100\n",
      "200/200 [==============================] - 0s 832us/step - loss: 0.0395 - accuracy: 0.9260\n",
      "Epoch 42/100\n",
      "200/200 [==============================] - 0s 822us/step - loss: 0.0403 - accuracy: 0.9197\n",
      "Epoch 43/100\n",
      "200/200 [==============================] - 0s 832us/step - loss: 0.0377 - accuracy: 0.9235\n",
      "Epoch 44/100\n",
      "200/200 [==============================] - 0s 827us/step - loss: 0.0394 - accuracy: 0.9210\n",
      "Epoch 45/100\n",
      "200/200 [==============================] - 0s 832us/step - loss: 0.0371 - accuracy: 0.9297\n",
      "Epoch 46/100\n",
      "200/200 [==============================] - 0s 832us/step - loss: 0.0359 - accuracy: 0.9272\n",
      "Epoch 47/100\n",
      "200/200 [==============================] - 0s 837us/step - loss: 0.0381 - accuracy: 0.9235\n",
      "Epoch 48/100\n",
      "200/200 [==============================] - 0s 832us/step - loss: 0.0377 - accuracy: 0.9260\n",
      "Epoch 49/100\n",
      "200/200 [==============================] - 0s 832us/step - loss: 0.0370 - accuracy: 0.9247\n",
      "Epoch 50/100\n",
      "200/200 [==============================] - 0s 832us/step - loss: 0.0354 - accuracy: 0.9348\n",
      "Epoch 51/100\n",
      "200/200 [==============================] - 0s 832us/step - loss: 0.0327 - accuracy: 0.9448\n",
      "Epoch 52/100\n",
      "200/200 [==============================] - 0s 837us/step - loss: 0.0329 - accuracy: 0.9423\n",
      "Epoch 53/100\n",
      "200/200 [==============================] - 0s 832us/step - loss: 0.0372 - accuracy: 0.9272\n",
      "Epoch 54/100\n",
      "200/200 [==============================] - 0s 827us/step - loss: 0.0336 - accuracy: 0.9410\n",
      "Epoch 55/100\n",
      "200/200 [==============================] - 0s 832us/step - loss: 0.0327 - accuracy: 0.9410\n",
      "Epoch 56/100\n",
      "200/200 [==============================] - 0s 837us/step - loss: 0.0323 - accuracy: 0.9423\n",
      "Epoch 57/100\n",
      "200/200 [==============================] - 0s 832us/step - loss: 0.0324 - accuracy: 0.9385\n",
      "Epoch 58/100\n",
      "200/200 [==============================] - 0s 832us/step - loss: 0.0311 - accuracy: 0.9473\n",
      "Epoch 59/100\n",
      "200/200 [==============================] - 0s 862us/step - loss: 0.0338 - accuracy: 0.9285\n",
      "Epoch 60/100\n",
      "200/200 [==============================] - 0s 837us/step - loss: 0.0309 - accuracy: 0.9423\n",
      "Epoch 61/100\n",
      "200/200 [==============================] - 0s 842us/step - loss: 0.0300 - accuracy: 0.9548\n",
      "Epoch 62/100\n",
      "200/200 [==============================] - 0s 832us/step - loss: 0.0299 - accuracy: 0.9410\n",
      "Epoch 63/100\n",
      "200/200 [==============================] - 0s 832us/step - loss: 0.0294 - accuracy: 0.9435\n",
      "Epoch 64/100\n",
      "200/200 [==============================] - 0s 837us/step - loss: 0.0282 - accuracy: 0.9473\n",
      "Epoch 65/100\n",
      "200/200 [==============================] - 0s 837us/step - loss: 0.0258 - accuracy: 0.9523\n",
      "Epoch 66/100\n",
      "200/200 [==============================] - 0s 832us/step - loss: 0.0285 - accuracy: 0.9498\n",
      "Epoch 67/100\n",
      "200/200 [==============================] - 0s 842us/step - loss: 0.0291 - accuracy: 0.9460\n",
      "Epoch 68/100\n",
      "200/200 [==============================] - 0s 832us/step - loss: 0.0266 - accuracy: 0.9523\n",
      "Epoch 69/100\n",
      "200/200 [==============================] - 0s 837us/step - loss: 0.0283 - accuracy: 0.9435\n",
      "Epoch 70/100\n",
      "200/200 [==============================] - 0s 832us/step - loss: 0.0252 - accuracy: 0.9611\n",
      "Epoch 71/100\n",
      "200/200 [==============================] - 0s 832us/step - loss: 0.0269 - accuracy: 0.9486\n",
      "Epoch 72/100\n",
      "200/200 [==============================] - 0s 847us/step - loss: 0.0267 - accuracy: 0.9561\n",
      "Epoch 73/100\n",
      "200/200 [==============================] - 0s 832us/step - loss: 0.0233 - accuracy: 0.9573\n",
      "Epoch 74/100\n",
      "200/200 [==============================] - 0s 832us/step - loss: 0.0238 - accuracy: 0.9624\n",
      "Epoch 75/100\n",
      "200/200 [==============================] - 0s 832us/step - loss: 0.0262 - accuracy: 0.9486\n",
      "Epoch 76/100\n",
      "200/200 [==============================] - 0s 837us/step - loss: 0.0263 - accuracy: 0.9448\n",
      "Epoch 77/100\n",
      "200/200 [==============================] - 0s 832us/step - loss: 0.0225 - accuracy: 0.9649\n",
      "Epoch 78/100\n",
      "200/200 [==============================] - 0s 837us/step - loss: 0.0250 - accuracy: 0.9561\n",
      "Epoch 79/100\n",
      "200/200 [==============================] - 0s 837us/step - loss: 0.0234 - accuracy: 0.9611\n"
     ]
    },
    {
     "name": "stdout",
     "output_type": "stream",
     "text": [
      "Epoch 80/100\n",
      "200/200 [==============================] - 0s 832us/step - loss: 0.0215 - accuracy: 0.9699\n",
      "Epoch 81/100\n",
      "200/200 [==============================] - 0s 832us/step - loss: 0.0206 - accuracy: 0.9711\n",
      "Epoch 82/100\n",
      "200/200 [==============================] - 0s 832us/step - loss: 0.0233 - accuracy: 0.9598\n",
      "Epoch 83/100\n",
      "200/200 [==============================] - 0s 837us/step - loss: 0.0210 - accuracy: 0.9649\n",
      "Epoch 84/100\n",
      "200/200 [==============================] - 0s 832us/step - loss: 0.0209 - accuracy: 0.9611\n",
      "Epoch 85/100\n",
      "200/200 [==============================] - 0s 832us/step - loss: 0.0216 - accuracy: 0.9636\n",
      "Epoch 86/100\n",
      "200/200 [==============================] - 0s 832us/step - loss: 0.0228 - accuracy: 0.9649\n",
      "Epoch 87/100\n",
      "200/200 [==============================] - 0s 832us/step - loss: 0.0196 - accuracy: 0.9674\n",
      "Epoch 88/100\n",
      "200/200 [==============================] - 0s 842us/step - loss: 0.0182 - accuracy: 0.9749\n",
      "Epoch 89/100\n",
      "200/200 [==============================] - 0s 837us/step - loss: 0.0190 - accuracy: 0.9649\n",
      "Epoch 90/100\n",
      "200/200 [==============================] - 0s 832us/step - loss: 0.0186 - accuracy: 0.9711\n",
      "Epoch 91/100\n",
      "200/200 [==============================] - 0s 837us/step - loss: 0.0179 - accuracy: 0.9686\n",
      "Epoch 92/100\n",
      "200/200 [==============================] - 0s 832us/step - loss: 0.0164 - accuracy: 0.9711\n",
      "Epoch 93/100\n",
      "200/200 [==============================] - 0s 832us/step - loss: 0.0181 - accuracy: 0.9711\n",
      "Epoch 94/100\n",
      "200/200 [==============================] - 0s 837us/step - loss: 0.0167 - accuracy: 0.9737\n",
      "Epoch 95/100\n",
      "200/200 [==============================] - 0s 827us/step - loss: 0.0196 - accuracy: 0.9661\n",
      "Epoch 96/100\n",
      "200/200 [==============================] - 0s 832us/step - loss: 0.0166 - accuracy: 0.9724\n",
      "Epoch 97/100\n",
      "200/200 [==============================] - 0s 862us/step - loss: 0.0148 - accuracy: 0.9774\n",
      "Epoch 98/100\n",
      "200/200 [==============================] - 0s 827us/step - loss: 0.0148 - accuracy: 0.9787\n",
      "Epoch 99/100\n",
      "200/200 [==============================] - 0s 842us/step - loss: 0.0154 - accuracy: 0.9799\n",
      "Epoch 100/100\n",
      "200/200 [==============================] - 0s 842us/step - loss: 0.0144 - accuracy: 0.9787\n"
     ]
    },
    {
     "data": {
      "text/html": [
       "<style>#sk-eaabb821-444e-4090-9fd6-1f0a62c3bbf9 {color: black;background-color: white;}#sk-eaabb821-444e-4090-9fd6-1f0a62c3bbf9 pre{padding: 0;}#sk-eaabb821-444e-4090-9fd6-1f0a62c3bbf9 div.sk-toggleable {background-color: white;}#sk-eaabb821-444e-4090-9fd6-1f0a62c3bbf9 label.sk-toggleable__label {cursor: pointer;display: block;width: 100%;margin-bottom: 0;padding: 0.3em;box-sizing: border-box;text-align: center;}#sk-eaabb821-444e-4090-9fd6-1f0a62c3bbf9 label.sk-toggleable__label-arrow:before {content: \"▸\";float: left;margin-right: 0.25em;color: #696969;}#sk-eaabb821-444e-4090-9fd6-1f0a62c3bbf9 label.sk-toggleable__label-arrow:hover:before {color: black;}#sk-eaabb821-444e-4090-9fd6-1f0a62c3bbf9 div.sk-estimator:hover label.sk-toggleable__label-arrow:before {color: black;}#sk-eaabb821-444e-4090-9fd6-1f0a62c3bbf9 div.sk-toggleable__content {max-height: 0;max-width: 0;overflow: hidden;text-align: left;background-color: #f0f8ff;}#sk-eaabb821-444e-4090-9fd6-1f0a62c3bbf9 div.sk-toggleable__content pre {margin: 0.2em;color: black;border-radius: 0.25em;background-color: #f0f8ff;}#sk-eaabb821-444e-4090-9fd6-1f0a62c3bbf9 input.sk-toggleable__control:checked~div.sk-toggleable__content {max-height: 200px;max-width: 100%;overflow: auto;}#sk-eaabb821-444e-4090-9fd6-1f0a62c3bbf9 input.sk-toggleable__control:checked~label.sk-toggleable__label-arrow:before {content: \"▾\";}#sk-eaabb821-444e-4090-9fd6-1f0a62c3bbf9 div.sk-estimator input.sk-toggleable__control:checked~label.sk-toggleable__label {background-color: #d4ebff;}#sk-eaabb821-444e-4090-9fd6-1f0a62c3bbf9 div.sk-label input.sk-toggleable__control:checked~label.sk-toggleable__label {background-color: #d4ebff;}#sk-eaabb821-444e-4090-9fd6-1f0a62c3bbf9 input.sk-hidden--visually {border: 0;clip: rect(1px 1px 1px 1px);clip: rect(1px, 1px, 1px, 1px);height: 1px;margin: -1px;overflow: hidden;padding: 0;position: absolute;width: 1px;}#sk-eaabb821-444e-4090-9fd6-1f0a62c3bbf9 div.sk-estimator {font-family: monospace;background-color: #f0f8ff;border: 1px dotted black;border-radius: 0.25em;box-sizing: border-box;margin-bottom: 0.5em;}#sk-eaabb821-444e-4090-9fd6-1f0a62c3bbf9 div.sk-estimator:hover {background-color: #d4ebff;}#sk-eaabb821-444e-4090-9fd6-1f0a62c3bbf9 div.sk-parallel-item::after {content: \"\";width: 100%;border-bottom: 1px solid gray;flex-grow: 1;}#sk-eaabb821-444e-4090-9fd6-1f0a62c3bbf9 div.sk-label:hover label.sk-toggleable__label {background-color: #d4ebff;}#sk-eaabb821-444e-4090-9fd6-1f0a62c3bbf9 div.sk-serial::before {content: \"\";position: absolute;border-left: 1px solid gray;box-sizing: border-box;top: 2em;bottom: 0;left: 50%;}#sk-eaabb821-444e-4090-9fd6-1f0a62c3bbf9 div.sk-serial {display: flex;flex-direction: column;align-items: center;background-color: white;padding-right: 0.2em;padding-left: 0.2em;}#sk-eaabb821-444e-4090-9fd6-1f0a62c3bbf9 div.sk-item {z-index: 1;}#sk-eaabb821-444e-4090-9fd6-1f0a62c3bbf9 div.sk-parallel {display: flex;align-items: stretch;justify-content: center;background-color: white;}#sk-eaabb821-444e-4090-9fd6-1f0a62c3bbf9 div.sk-parallel::before {content: \"\";position: absolute;border-left: 1px solid gray;box-sizing: border-box;top: 2em;bottom: 0;left: 50%;}#sk-eaabb821-444e-4090-9fd6-1f0a62c3bbf9 div.sk-parallel-item {display: flex;flex-direction: column;position: relative;background-color: white;}#sk-eaabb821-444e-4090-9fd6-1f0a62c3bbf9 div.sk-parallel-item:first-child::after {align-self: flex-end;width: 50%;}#sk-eaabb821-444e-4090-9fd6-1f0a62c3bbf9 div.sk-parallel-item:last-child::after {align-self: flex-start;width: 50%;}#sk-eaabb821-444e-4090-9fd6-1f0a62c3bbf9 div.sk-parallel-item:only-child::after {width: 0;}#sk-eaabb821-444e-4090-9fd6-1f0a62c3bbf9 div.sk-dashed-wrapped {border: 1px dashed gray;margin: 0 0.4em 0.5em 0.4em;box-sizing: border-box;padding-bottom: 0.4em;background-color: white;position: relative;}#sk-eaabb821-444e-4090-9fd6-1f0a62c3bbf9 div.sk-label label {font-family: monospace;font-weight: bold;background-color: white;display: inline-block;line-height: 1.2em;}#sk-eaabb821-444e-4090-9fd6-1f0a62c3bbf9 div.sk-label-container {position: relative;z-index: 2;text-align: center;}#sk-eaabb821-444e-4090-9fd6-1f0a62c3bbf9 div.sk-container {/* jupyter's `normalize.less` sets `[hidden] { display: none; }` but bootstrap.min.css set `[hidden] { display: none !important; }` so we also need the `!important` here to be able to override the default hidden behavior on the sphinx rendered scikit-learn.org. See: https://github.com/scikit-learn/scikit-learn/issues/21755 */display: inline-block !important;position: relative;}#sk-eaabb821-444e-4090-9fd6-1f0a62c3bbf9 div.sk-text-repr-fallback {display: none;}</style><div id='sk-eaabb821-444e-4090-9fd6-1f0a62c3bbf9' class=\"sk-top-container\"><div class=\"sk-text-repr-fallback\"><pre>CNNClassifier(batch_size=4, n_epochs=100, verbose=True)</pre><b>Please rerun this cell to show the HTML repr or trust the notebook.</b></div><div class=\"sk-container\" hidden><div class='sk-item'><div class=\"sk-estimator sk-toggleable\"><input class=\"sk-toggleable__control sk-hidden--visually\" id=UUID('60094694-cebc-4ed3-a113-f506bd4475ee') type=\"checkbox\" checked><label for=UUID('60094694-cebc-4ed3-a113-f506bd4475ee') class='sk-toggleable__label sk-toggleable__label-arrow'>CNNClassifier</label><div class=\"sk-toggleable__content\"><pre>CNNClassifier(batch_size=4, n_epochs=100, verbose=True)</pre></div></div></div></div></div>"
      ],
      "text/plain": [
       "CNNClassifier(batch_size=4, n_epochs=100, verbose=True)"
      ]
     },
     "execution_count": 30,
     "metadata": {},
     "output_type": "execute_result"
    }
   ],
   "source": [
    "network = CNNClassifier(n_epochs=100,batch_size=4, verbose=True)\n",
    "#network = TSFreshClassifier(verbose=True)\n",
    "network.fit(ohlc_train, trend_train)"
   ]
  },
  {
   "cell_type": "code",
   "execution_count": 31,
   "id": "78bd7748",
   "metadata": {},
   "outputs": [
    {
     "name": "stdout",
     "output_type": "stream",
     "text": [
      "86/86 [==============================] - 0s 587us/step\n"
     ]
    },
    {
     "data": {
      "text/plain": [
       "0.8538011695906432"
      ]
     },
     "execution_count": 31,
     "metadata": {},
     "output_type": "execute_result"
    }
   ],
   "source": [
    "network.score(ohlc_test, trend_test)"
   ]
  },
  {
   "cell_type": "code",
   "execution_count": 32,
   "id": "7905b6b9",
   "metadata": {},
   "outputs": [
    {
     "name": "stdout",
     "output_type": "stream",
     "text": [
      "86/86 [==============================] - 0s 597us/step\n"
     ]
    },
    {
     "data": {
      "text/plain": [
       "array([[1.4869191e-01, 8.5112846e-01, 1.7967998e-04],\n",
       "       [1.9814562e-02, 9.8002923e-01, 1.5622462e-04],\n",
       "       [9.7562754e-01, 2.4264438e-02, 1.0794546e-04],\n",
       "       ...,\n",
       "       [7.1589113e-08, 3.1556992e-04, 9.9968439e-01],\n",
       "       [3.5212142e-05, 9.8508006e-01, 1.4884687e-02],\n",
       "       [9.9963862e-01, 2.7490128e-04, 8.6455628e-05]], dtype=float32)"
      ]
     },
     "execution_count": 32,
     "metadata": {},
     "output_type": "execute_result"
    }
   ],
   "source": [
    "network.predict_proba(ohlc_test)"
   ]
  },
  {
   "cell_type": "markdown",
   "id": "49bdec91",
   "metadata": {},
   "source": [
    "### 4. 검증"
   ]
  },
  {
   "cell_type": "code",
   "execution_count": 33,
   "id": "19244a6a",
   "metadata": {},
   "outputs": [],
   "source": [
    "from tools.instruments import instruments\n",
    "from tools.datatools import norm\n",
    "from tools.display import highchart\n",
    "quotes = instruments.quotes(fields='ohlc')\n",
    "symbols = list(quotes.columns.levels[0])"
   ]
  },
  {
   "cell_type": "code",
   "execution_count": 34,
   "id": "bcbc262d",
   "metadata": {},
   "outputs": [],
   "source": [
    "%load_ext autoreload\n",
    "%aimport tools.datatools\n",
    "%aimport tools.display\n",
    "%autoreload 2"
   ]
  },
  {
   "cell_type": "code",
   "execution_count": 37,
   "id": "62467dcb",
   "metadata": {},
   "outputs": [
    {
     "name": "stdout",
     "output_type": "stream",
     "text": [
      "1/1 [==============================] - 0s 15ms/step\n",
      "[[0. 1. 0.]]\n"
     ]
    },
    {
     "data": {
      "text/html": [
       "\n",
       "        <iframe\n",
       "            width=\"900\"\n",
       "            height=\"700\"\n",
       "            src=\"../../temp/temporary_chart.html\"\n",
       "            frameborder=\"0\"\n",
       "            allowfullscreen\n",
       "            \n",
       "        ></iframe>\n",
       "        "
      ],
      "text/plain": [
       "<IPython.lib.display.IFrame at 0x1e0f74494f0>"
      ]
     },
     "metadata": {},
     "output_type": "display_data"
    }
   ],
   "source": [
    "symbol = np.random.choice(symbols)\n",
    "quote = quotes['W'].dropna()\n",
    "idx = 500#np.random.randint(0,len(quote)-51)\n",
    "ohlc = quote.iloc[idx:idx+period]\n",
    "data = norm(ohlc.values)\n",
    "data = np.moveaxis(np.array([data]),1,2 )\n",
    "print(network.predict_proba(data).round(2))\n",
    "highchart([{'data':ohlc, 'type':'candlestick'}])"
   ]
  },
  {
   "cell_type": "markdown",
   "id": "1f831284",
   "metadata": {},
   "source": [
    "### 3.모델을 파일로 저장"
   ]
  },
  {
   "cell_type": "code",
   "execution_count": 63,
   "id": "d065764f",
   "metadata": {},
   "outputs": [
    {
     "name": "stderr",
     "output_type": "stream",
     "text": [
      "WARNING:absl:Found untraced functions such as _jit_compiled_convolution_op, _jit_compiled_convolution_op while saving (showing 2 of 2). These functions will not be directly callable after loading.\n"
     ]
    },
    {
     "name": "stdout",
     "output_type": "stream",
     "text": [
      "INFO:tensorflow:Assets written to: ..\\..\\data\\trend index\\models\\trend_50day\\keras\\assets\n"
     ]
    },
    {
     "name": "stderr",
     "output_type": "stream",
     "text": [
      "INFO:tensorflow:Assets written to: ..\\..\\data\\trend index\\models\\trend_50day\\keras\\assets\n"
     ]
    },
    {
     "data": {
      "text/plain": [
       "<zipfile.ZipFile filename='..\\\\..\\\\data\\\\trend index\\\\models\\\\trend_50day.zip' mode='r'>"
      ]
     },
     "execution_count": 63,
     "metadata": {},
     "output_type": "execute_result"
    }
   ],
   "source": [
    "savepath = os.path.join('..','..','data','trend index','models', f'trend_{period}day')\n",
    "network.save(savepath)"
   ]
  },
  {
   "cell_type": "code",
   "execution_count": null,
   "id": "0e5bfe4a",
   "metadata": {},
   "outputs": [],
   "source": []
  }
 ],
 "metadata": {
  "kernelspec": {
   "display_name": "Python 3 (ipykernel)",
   "language": "python",
   "name": "python3"
  },
  "language_info": {
   "codemirror_mode": {
    "name": "ipython",
    "version": 3
   },
   "file_extension": ".py",
   "mimetype": "text/x-python",
   "name": "python",
   "nbconvert_exporter": "python",
   "pygments_lexer": "ipython3",
   "version": "3.9.16"
  }
 },
 "nbformat": 4,
 "nbformat_minor": 5
}
