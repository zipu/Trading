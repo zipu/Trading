{
 "cells": [
  {
   "cell_type": "code",
   "execution_count": 1,
   "id": "677b86a8",
   "metadata": {},
   "outputs": [],
   "source": [
    "%matplotlib inline\n",
    "import sys, os\n",
    "sys.path.append('../..')\n",
    "import matplotlib.pyplot as plt\n",
    "import numpy as np\n",
    "import pandas as pd\n",
    "import h5py"
   ]
  },
  {
   "cell_type": "code",
   "execution_count": 2,
   "id": "4b1e5bbf",
   "metadata": {},
   "outputs": [],
   "source": [
    "from sktime.base import load\n",
    "#from sklearn.model_selection import GridSearchCV\n",
    "#from sktime.classification.feature_based import TSFreshClassifier\n",
    "from sktime.classification.deep_learning.cnn import CNNClassifier"
   ]
  },
  {
   "cell_type": "code",
   "execution_count": 3,
   "id": "79578e71",
   "metadata": {},
   "outputs": [],
   "source": [
    "period = 200\n",
    "filepath = os.path.join('..','..','data','trend index','training set', f'trend_{period}day.hdf')\n",
    "file = h5py.File(filepath, mode='r')"
   ]
  },
  {
   "cell_type": "code",
   "execution_count": 4,
   "id": "ad74517b",
   "metadata": {},
   "outputs": [
    {
     "name": "stdout",
     "output_type": "stream",
     "text": [
      "(1008, 4, 200)\n",
      "(1008,)\n"
     ]
    }
   ],
   "source": [
    "ohlc  = file['ohlc'][:]\n",
    "trend = file['trend'][:]\n",
    "# shuffling\n",
    "idx = np.random.permutation(len(ohlc))\n",
    "ohlc = ohlc[idx]\n",
    "trend = trend[idx]\n",
    "\n",
    "print(ohlc.shape)\n",
    "print(trend.shape)\n"
   ]
  },
  {
   "cell_type": "code",
   "execution_count": 5,
   "id": "03130edc",
   "metadata": {},
   "outputs": [],
   "source": [
    "file.close()"
   ]
  },
  {
   "cell_type": "markdown",
   "id": "db6ab7ee",
   "metadata": {},
   "source": [
    "### 1. Train data & Test data 생성 (7:3)"
   ]
  },
  {
   "cell_type": "code",
   "execution_count": 6,
   "id": "b4a556dd",
   "metadata": {},
   "outputs": [
    {
     "name": "stdout",
     "output_type": "stream",
     "text": [
      "(705, 4, 200)\n",
      "(303, 4, 200)\n"
     ]
    }
   ],
   "source": [
    "idx = int(len(ohlc)*0.7)\n",
    "ohlc_train = ohlc[:idx]\n",
    "trend_train = trend[:idx]\n",
    "\n",
    "ohlc_test = ohlc[idx:]\n",
    "trend_test = trend[idx:]\n",
    "\n",
    "print(ohlc_train.shape)\n",
    "print(ohlc_test.shape)"
   ]
  },
  {
   "cell_type": "markdown",
   "id": "eeb80e14",
   "metadata": {},
   "source": [
    "### 2. 훈련 모델 생성 및 훈련"
   ]
  },
  {
   "cell_type": "code",
   "execution_count": 21,
   "id": "51c40337",
   "metadata": {},
   "outputs": [],
   "source": [
    "from sktime.transformations.series.impute import Imputer"
   ]
  },
  {
   "cell_type": "code",
   "execution_count": 23,
   "id": "26a35b89",
   "metadata": {},
   "outputs": [],
   "source": [
    "transformer = Imputer(method=\"drift\")"
   ]
  },
  {
   "cell_type": "code",
   "execution_count": 26,
   "id": "32355efd",
   "metadata": {},
   "outputs": [
    {
     "data": {
      "text/html": [
       "<style>#sk-c9ccd2e3-d0ba-43a2-b2e2-3ef47ba276b1 {color: black;background-color: white;}#sk-c9ccd2e3-d0ba-43a2-b2e2-3ef47ba276b1 pre{padding: 0;}#sk-c9ccd2e3-d0ba-43a2-b2e2-3ef47ba276b1 div.sk-toggleable {background-color: white;}#sk-c9ccd2e3-d0ba-43a2-b2e2-3ef47ba276b1 label.sk-toggleable__label {cursor: pointer;display: block;width: 100%;margin-bottom: 0;padding: 0.3em;box-sizing: border-box;text-align: center;}#sk-c9ccd2e3-d0ba-43a2-b2e2-3ef47ba276b1 label.sk-toggleable__label-arrow:before {content: \"▸\";float: left;margin-right: 0.25em;color: #696969;}#sk-c9ccd2e3-d0ba-43a2-b2e2-3ef47ba276b1 label.sk-toggleable__label-arrow:hover:before {color: black;}#sk-c9ccd2e3-d0ba-43a2-b2e2-3ef47ba276b1 div.sk-estimator:hover label.sk-toggleable__label-arrow:before {color: black;}#sk-c9ccd2e3-d0ba-43a2-b2e2-3ef47ba276b1 div.sk-toggleable__content {max-height: 0;max-width: 0;overflow: hidden;text-align: left;background-color: #f0f8ff;}#sk-c9ccd2e3-d0ba-43a2-b2e2-3ef47ba276b1 div.sk-toggleable__content pre {margin: 0.2em;color: black;border-radius: 0.25em;background-color: #f0f8ff;}#sk-c9ccd2e3-d0ba-43a2-b2e2-3ef47ba276b1 input.sk-toggleable__control:checked~div.sk-toggleable__content {max-height: 200px;max-width: 100%;overflow: auto;}#sk-c9ccd2e3-d0ba-43a2-b2e2-3ef47ba276b1 input.sk-toggleable__control:checked~label.sk-toggleable__label-arrow:before {content: \"▾\";}#sk-c9ccd2e3-d0ba-43a2-b2e2-3ef47ba276b1 div.sk-estimator input.sk-toggleable__control:checked~label.sk-toggleable__label {background-color: #d4ebff;}#sk-c9ccd2e3-d0ba-43a2-b2e2-3ef47ba276b1 div.sk-label input.sk-toggleable__control:checked~label.sk-toggleable__label {background-color: #d4ebff;}#sk-c9ccd2e3-d0ba-43a2-b2e2-3ef47ba276b1 input.sk-hidden--visually {border: 0;clip: rect(1px 1px 1px 1px);clip: rect(1px, 1px, 1px, 1px);height: 1px;margin: -1px;overflow: hidden;padding: 0;position: absolute;width: 1px;}#sk-c9ccd2e3-d0ba-43a2-b2e2-3ef47ba276b1 div.sk-estimator {font-family: monospace;background-color: #f0f8ff;border: 1px dotted black;border-radius: 0.25em;box-sizing: border-box;margin-bottom: 0.5em;}#sk-c9ccd2e3-d0ba-43a2-b2e2-3ef47ba276b1 div.sk-estimator:hover {background-color: #d4ebff;}#sk-c9ccd2e3-d0ba-43a2-b2e2-3ef47ba276b1 div.sk-parallel-item::after {content: \"\";width: 100%;border-bottom: 1px solid gray;flex-grow: 1;}#sk-c9ccd2e3-d0ba-43a2-b2e2-3ef47ba276b1 div.sk-label:hover label.sk-toggleable__label {background-color: #d4ebff;}#sk-c9ccd2e3-d0ba-43a2-b2e2-3ef47ba276b1 div.sk-serial::before {content: \"\";position: absolute;border-left: 1px solid gray;box-sizing: border-box;top: 2em;bottom: 0;left: 50%;}#sk-c9ccd2e3-d0ba-43a2-b2e2-3ef47ba276b1 div.sk-serial {display: flex;flex-direction: column;align-items: center;background-color: white;padding-right: 0.2em;padding-left: 0.2em;}#sk-c9ccd2e3-d0ba-43a2-b2e2-3ef47ba276b1 div.sk-item {z-index: 1;}#sk-c9ccd2e3-d0ba-43a2-b2e2-3ef47ba276b1 div.sk-parallel {display: flex;align-items: stretch;justify-content: center;background-color: white;}#sk-c9ccd2e3-d0ba-43a2-b2e2-3ef47ba276b1 div.sk-parallel::before {content: \"\";position: absolute;border-left: 1px solid gray;box-sizing: border-box;top: 2em;bottom: 0;left: 50%;}#sk-c9ccd2e3-d0ba-43a2-b2e2-3ef47ba276b1 div.sk-parallel-item {display: flex;flex-direction: column;position: relative;background-color: white;}#sk-c9ccd2e3-d0ba-43a2-b2e2-3ef47ba276b1 div.sk-parallel-item:first-child::after {align-self: flex-end;width: 50%;}#sk-c9ccd2e3-d0ba-43a2-b2e2-3ef47ba276b1 div.sk-parallel-item:last-child::after {align-self: flex-start;width: 50%;}#sk-c9ccd2e3-d0ba-43a2-b2e2-3ef47ba276b1 div.sk-parallel-item:only-child::after {width: 0;}#sk-c9ccd2e3-d0ba-43a2-b2e2-3ef47ba276b1 div.sk-dashed-wrapped {border: 1px dashed gray;margin: 0 0.4em 0.5em 0.4em;box-sizing: border-box;padding-bottom: 0.4em;background-color: white;position: relative;}#sk-c9ccd2e3-d0ba-43a2-b2e2-3ef47ba276b1 div.sk-label label {font-family: monospace;font-weight: bold;background-color: white;display: inline-block;line-height: 1.2em;}#sk-c9ccd2e3-d0ba-43a2-b2e2-3ef47ba276b1 div.sk-label-container {position: relative;z-index: 2;text-align: center;}#sk-c9ccd2e3-d0ba-43a2-b2e2-3ef47ba276b1 div.sk-container {/* jupyter's `normalize.less` sets `[hidden] { display: none; }` but bootstrap.min.css set `[hidden] { display: none !important; }` so we also need the `!important` here to be able to override the default hidden behavior on the sphinx rendered scikit-learn.org. See: https://github.com/scikit-learn/scikit-learn/issues/21755 */display: inline-block !important;position: relative;}#sk-c9ccd2e3-d0ba-43a2-b2e2-3ef47ba276b1 div.sk-text-repr-fallback {display: none;}</style><div id='sk-c9ccd2e3-d0ba-43a2-b2e2-3ef47ba276b1' class=\"sk-top-container\"><div class=\"sk-text-repr-fallback\"><pre>Imputer()</pre><b>Please rerun this cell to show the HTML repr or trust the notebook.</b></div><div class=\"sk-container\" hidden><div class='sk-item'><div class=\"sk-estimator sk-toggleable\"><input class=\"sk-toggleable__control sk-hidden--visually\" id=UUID('8ff1dc45-844f-49f2-a756-b28481a867a8') type=\"checkbox\" checked><label for=UUID('8ff1dc45-844f-49f2-a756-b28481a867a8') class='sk-toggleable__label sk-toggleable__label-arrow'>Imputer</label><div class=\"sk-toggleable__content\"><pre>Imputer()</pre></div></div></div></div></div>"
      ],
      "text/plain": [
       "Imputer()"
      ]
     },
     "execution_count": 26,
     "metadata": {},
     "output_type": "execute_result"
    }
   ],
   "source": [
    "transformer.fit([ohlc_train[0]])"
   ]
  },
  {
   "cell_type": "code",
   "execution_count": null,
   "id": "615207ff",
   "metadata": {},
   "outputs": [],
   "source": []
  },
  {
   "cell_type": "code",
   "execution_count": null,
   "id": "c60dd2c0",
   "metadata": {},
   "outputs": [],
   "source": []
  },
  {
   "cell_type": "code",
   "execution_count": 20,
   "id": "3b7d537b",
   "metadata": {
    "scrolled": true
   },
   "outputs": [
    {
     "ename": "type",
     "evalue": "Data seen by CNNClassifier instance has missing values, but this CNNClassifier instance cannot handle missing values. Calls with missing values may result in error or unreliable results.",
     "output_type": "error",
     "traceback": [
      "\u001b[1;31m---------------------------------------------------------------------------\u001b[0m",
      "\u001b[1;31mValueError\u001b[0m                                Traceback (most recent call last)",
      "Cell \u001b[1;32mIn[20], line 3\u001b[0m\n\u001b[0;32m      1\u001b[0m network \u001b[38;5;241m=\u001b[39m CNNClassifier(n_epochs\u001b[38;5;241m=\u001b[39m\u001b[38;5;241m10\u001b[39m,batch_size\u001b[38;5;241m=\u001b[39m\u001b[38;5;241m4\u001b[39m, verbose\u001b[38;5;241m=\u001b[39m\u001b[38;5;28;01mTrue\u001b[39;00m)\n\u001b[0;32m      2\u001b[0m \u001b[38;5;66;03m#network = TSFreshClassifier(verbose=True)\u001b[39;00m\n\u001b[1;32m----> 3\u001b[0m \u001b[43mnetwork\u001b[49m\u001b[38;5;241;43m.\u001b[39;49m\u001b[43mfit\u001b[49m\u001b[43m(\u001b[49m\u001b[43mohlc_train\u001b[49m\u001b[43m,\u001b[49m\u001b[43m \u001b[49m\u001b[43mtrend_train\u001b[49m\u001b[43m)\u001b[49m\n",
      "File \u001b[1;32m~\\python\\miniconda3\\lib\\site-packages\\sktime\\classification\\base.py:174\u001b[0m, in \u001b[0;36mBaseClassifier.fit\u001b[1;34m(self, X, y)\u001b[0m\n\u001b[0;32m    171\u001b[0m \u001b[38;5;28mself\u001b[39m\u001b[38;5;241m.\u001b[39m_X_metadata \u001b[38;5;241m=\u001b[39m X_metadata\n\u001b[0;32m    173\u001b[0m \u001b[38;5;66;03m# Check this classifier can handle characteristics\u001b[39;00m\n\u001b[1;32m--> 174\u001b[0m \u001b[38;5;28;43mself\u001b[39;49m\u001b[38;5;241;43m.\u001b[39;49m\u001b[43m_check_capabilities\u001b[49m\u001b[43m(\u001b[49m\u001b[43mmissing\u001b[49m\u001b[43m,\u001b[49m\u001b[43m \u001b[49m\u001b[43mmultivariate\u001b[49m\u001b[43m,\u001b[49m\u001b[43m \u001b[49m\u001b[43munequal\u001b[49m\u001b[43m)\u001b[49m\n\u001b[0;32m    176\u001b[0m \u001b[38;5;66;03m# remember class labels\u001b[39;00m\n\u001b[0;32m    177\u001b[0m \u001b[38;5;28mself\u001b[39m\u001b[38;5;241m.\u001b[39mclasses_ \u001b[38;5;241m=\u001b[39m np\u001b[38;5;241m.\u001b[39munique(y)\n",
      "File \u001b[1;32m~\\python\\miniconda3\\lib\\site-packages\\sktime\\classification\\base.py:665\u001b[0m, in \u001b[0;36mBaseClassifier._check_capabilities\u001b[1;34m(self, missing, multivariate, unequal)\u001b[0m\n\u001b[0;32m    663\u001b[0m     warn(msg)\n\u001b[0;32m    664\u001b[0m \u001b[38;5;28;01melse\u001b[39;00m:\n\u001b[1;32m--> 665\u001b[0m     \u001b[38;5;28;01mraise\u001b[39;00m \u001b[38;5;167;01mValueError\u001b[39;00m(msg)\n",
      "\u001b[1;31mValueError\u001b[0m: Data seen by CNNClassifier instance has missing values, but this CNNClassifier instance cannot handle missing values. Calls with missing values may result in error or unreliable results."
     ]
    }
   ],
   "source": [
    "network = CNNClassifier(n_epochs=10,batch_size=4, verbose=True)\n",
    "#network = TSFreshClassifier(verbose=True)\n",
    "network.fit(ohlc_train, trend_train)"
   ]
  },
  {
   "cell_type": "code",
   "execution_count": 10,
   "id": "78bd7748",
   "metadata": {},
   "outputs": [
    {
     "name": "stdout",
     "output_type": "stream",
     "text": [
      "76/76 [==============================] - 0s 696us/step\n"
     ]
    },
    {
     "data": {
      "text/plain": [
       "0.8316831683168316"
      ]
     },
     "execution_count": 10,
     "metadata": {},
     "output_type": "execute_result"
    }
   ],
   "source": [
    "network.score(ohlc_test, trend_test)"
   ]
  },
  {
   "cell_type": "code",
   "execution_count": 11,
   "id": "7905b6b9",
   "metadata": {},
   "outputs": [
    {
     "name": "stdout",
     "output_type": "stream",
     "text": [
      "76/76 [==============================] - 0s 700us/step\n"
     ]
    },
    {
     "data": {
      "text/plain": [
       "array([[8.10072676e-21, 3.81799042e-02, 9.61820126e-01],\n",
       "       [2.39082538e-02, 9.76091743e-01, 1.24802668e-16],\n",
       "       [9.99096870e-01, 9.03171953e-04, 1.81466582e-12],\n",
       "       [9.48157310e-01, 5.18427081e-02, 2.48431827e-18],\n",
       "       [9.99944746e-01, 5.52708116e-05, 7.94344688e-23],\n",
       "       [1.34985685e-16, 9.95744348e-01, 4.25562914e-03],\n",
       "       [9.99942601e-01, 5.74048245e-05, 6.98000211e-15],\n",
       "       [7.32752056e-17, 2.53798004e-04, 9.99746263e-01],\n",
       "       [2.28354323e-15, 9.99999940e-01, 4.94050703e-08],\n",
       "       [3.04217011e-01, 6.95783019e-01, 9.04828546e-15],\n",
       "       [4.95415106e-02, 9.50458467e-01, 1.01190689e-13],\n",
       "       [1.39994216e-09, 9.94732022e-01, 5.26795862e-03],\n",
       "       [3.93378332e-06, 9.99996066e-01, 7.50782357e-14],\n",
       "       [2.86800777e-16, 1.09749519e-04, 9.99890268e-01],\n",
       "       [1.95947081e-09, 3.32747586e-02, 9.66725230e-01],\n",
       "       [7.92874235e-24, 3.81129881e-04, 9.99618888e-01],\n",
       "       [7.08022764e-18, 1.55504349e-05, 9.99984443e-01],\n",
       "       [2.04499418e-04, 9.99795496e-01, 7.96565924e-09],\n",
       "       [9.99971509e-01, 2.85260703e-05, 8.23529075e-19],\n",
       "       [5.55072546e-01, 4.44927454e-01, 8.88390327e-13],\n",
       "       [2.97982510e-08, 1.00000000e+00, 4.94936514e-12],\n",
       "       [5.39633123e-21, 3.30870847e-07, 9.99999642e-01],\n",
       "       [2.06819666e-11, 5.16958416e-01, 4.83041614e-01],\n",
       "       [9.99958634e-01, 4.13096132e-05, 5.65959781e-16],\n",
       "       [8.48300278e-01, 1.51699752e-01, 6.78887849e-11],\n",
       "       [5.16265914e-07, 9.99999464e-01, 1.40650191e-09],\n",
       "       [4.21069046e-09, 9.99999583e-01, 4.26074138e-07],\n",
       "       [3.76833744e-14, 2.85928138e-04, 9.99714077e-01],\n",
       "       [9.98040438e-01, 1.95955858e-03, 4.76819834e-11],\n",
       "       [9.00796271e-10, 7.98363209e-01, 2.01636747e-01],\n",
       "       [4.56364767e-18, 1.61207666e-07, 9.99999821e-01],\n",
       "       [9.92180109e-01, 7.81989750e-03, 6.35747361e-18],\n",
       "       [1.12106964e-08, 9.99993205e-01, 6.76568243e-06],\n",
       "       [5.13111913e-17, 1.67245336e-04, 9.99832749e-01],\n",
       "       [4.52066597e-04, 9.99547958e-01, 2.56667604e-10],\n",
       "       [3.36512675e-12, 9.98418927e-01, 1.58105511e-03],\n",
       "       [7.27778077e-15, 9.99999106e-01, 9.00503267e-07],\n",
       "       [9.56185758e-01, 4.38142754e-02, 1.98442852e-13],\n",
       "       [9.99599695e-01, 4.00238670e-04, 1.47389530e-16],\n",
       "       [6.59946042e-10, 9.99999940e-01, 3.08121955e-08],\n",
       "       [1.01036435e-13, 1.24357830e-04, 9.99875605e-01],\n",
       "       [4.30936259e-11, 9.99753475e-01, 2.46480544e-04],\n",
       "       [2.17490143e-13, 3.24211874e-06, 9.99996781e-01],\n",
       "       [1.34783218e-11, 1.72373075e-02, 9.82762694e-01],\n",
       "       [1.54055489e-14, 9.99990225e-01, 9.75300190e-06],\n",
       "       [2.61479989e-04, 9.99738455e-01, 5.05439530e-08],\n",
       "       [9.99590755e-01, 4.09212458e-04, 1.50147051e-15],\n",
       "       [9.99845028e-01, 1.54213674e-04, 7.36631932e-07],\n",
       "       [1.13091075e-20, 2.85860384e-03, 9.97141361e-01],\n",
       "       [6.78807616e-01, 3.21192384e-01, 7.80613394e-19],\n",
       "       [1.39162735e-08, 9.99999940e-01, 7.82840814e-08],\n",
       "       [9.99998629e-01, 1.38541964e-06, 6.84799880e-15],\n",
       "       [2.34501390e-03, 9.97654974e-01, 9.02408438e-14],\n",
       "       [2.35866394e-13, 9.34264681e-05, 9.99906540e-01],\n",
       "       [5.46415971e-19, 9.99904454e-01, 9.54902716e-05],\n",
       "       [2.26149382e-06, 9.99997735e-01, 1.06815650e-08],\n",
       "       [9.78224205e-25, 9.11856303e-04, 9.99088109e-01],\n",
       "       [5.39706609e-15, 9.99989271e-01, 1.07328124e-05],\n",
       "       [3.00378433e-05, 9.99969959e-01, 4.55237367e-12],\n",
       "       [8.20029585e-04, 9.99179959e-01, 4.33401551e-14],\n",
       "       [9.15783690e-04, 9.99084234e-01, 7.23104909e-12],\n",
       "       [8.69891859e-14, 4.89888305e-04, 9.99510109e-01],\n",
       "       [1.35069910e-20, 6.26875988e-07, 9.99999404e-01],\n",
       "       [6.96811080e-01, 3.03188950e-01, 6.64555379e-13],\n",
       "       [1.92873590e-02, 9.80712593e-01, 1.86552733e-16],\n",
       "       [1.71040110e-02, 9.82895970e-01, 9.89480308e-14],\n",
       "       [7.33538449e-01, 2.66461611e-01, 3.51913238e-17],\n",
       "       [1.20074355e-18, 4.12481197e-04, 9.99587536e-01],\n",
       "       [1.94281893e-06, 9.99997973e-01, 3.90573121e-08],\n",
       "       [5.09846151e-01, 4.90153819e-01, 1.61975002e-08],\n",
       "       [9.99975026e-01, 2.50326939e-05, 1.66467565e-18],\n",
       "       [3.75210926e-16, 6.44283546e-07, 9.99999404e-01],\n",
       "       [8.56045901e-09, 9.99999285e-01, 7.15810870e-07],\n",
       "       [1.49262452e-03, 9.98507321e-01, 6.19321554e-08],\n",
       "       [9.97524083e-01, 2.47597229e-03, 1.80730116e-14],\n",
       "       [3.37935001e-01, 6.62064970e-01, 1.44328075e-16],\n",
       "       [9.75660741e-01, 2.43392549e-02, 9.11910322e-21],\n",
       "       [8.74782324e-01, 1.25217646e-01, 2.74848146e-17],\n",
       "       [7.46521646e-15, 1.00000000e+00, 1.08022902e-09],\n",
       "       [3.23202045e-07, 9.99999642e-01, 5.42188303e-08],\n",
       "       [1.18614426e-02, 9.88138556e-01, 1.97677534e-11],\n",
       "       [1.29496511e-13, 2.30912521e-01, 7.69087493e-01],\n",
       "       [2.46698859e-17, 6.27043471e-03, 9.93729532e-01],\n",
       "       [9.99850690e-01, 1.49289714e-04, 5.85176916e-12],\n",
       "       [9.99946237e-01, 5.37704582e-05, 4.85647234e-17],\n",
       "       [4.49954093e-12, 9.99798357e-01, 2.01637449e-04],\n",
       "       [7.00004771e-03, 9.92999971e-01, 1.36447069e-11],\n",
       "       [3.38721134e-18, 1.04888771e-02, 9.89511192e-01],\n",
       "       [1.89736579e-02, 9.81026351e-01, 7.14111062e-13],\n",
       "       [1.13752616e-18, 1.46473630e-03, 9.98535275e-01],\n",
       "       [1.10298756e-15, 4.97593859e-08, 9.99999940e-01],\n",
       "       [1.80982314e-16, 2.63471097e-01, 7.36528873e-01],\n",
       "       [4.93899626e-13, 2.21192158e-06, 9.99997795e-01],\n",
       "       [1.10423762e-18, 1.48814607e-07, 9.99999881e-01],\n",
       "       [9.72486261e-20, 9.62253332e-01, 3.77466343e-02],\n",
       "       [4.79207985e-04, 9.99520838e-01, 2.30697232e-12],\n",
       "       [1.12749852e-01, 8.87250125e-01, 3.71530058e-17],\n",
       "       [9.99043167e-01, 9.56886914e-04, 3.43333319e-25],\n",
       "       [2.48104868e-07, 9.99903738e-01, 9.60382458e-05],\n",
       "       [8.90285241e-12, 9.95447993e-01, 4.55201603e-03],\n",
       "       [9.99985039e-01, 1.49658672e-05, 2.29633673e-12],\n",
       "       [3.43894756e-18, 5.26949989e-05, 9.99947309e-01],\n",
       "       [1.28070591e-03, 9.98719275e-01, 8.31336474e-16],\n",
       "       [9.92045701e-01, 7.95427244e-03, 4.83924150e-17],\n",
       "       [9.99153614e-01, 8.46386363e-04, 6.17902625e-20],\n",
       "       [1.91444589e-04, 9.95966852e-01, 3.84169677e-03],\n",
       "       [9.78286088e-01, 2.17138827e-02, 1.20648136e-11],\n",
       "       [2.96604165e-11, 9.87585485e-01, 1.24145495e-02],\n",
       "       [1.25492736e-08, 9.99999940e-01, 7.11339112e-08],\n",
       "       [4.61706724e-20, 8.09484918e-05, 9.99919057e-01],\n",
       "       [4.74723993e-13, 6.51020229e-01, 3.48979801e-01],\n",
       "       [9.99330103e-01, 6.69889734e-04, 1.69592174e-14],\n",
       "       [1.33676349e-17, 1.72506213e-06, 9.99998271e-01],\n",
       "       [6.43905415e-11, 1.41034862e-02, 9.85896528e-01],\n",
       "       [2.37706296e-12, 2.01958325e-03, 9.97980416e-01],\n",
       "       [6.79885686e-17, 3.90117901e-04, 9.99609947e-01],\n",
       "       [3.59091402e-12, 1.76769085e-04, 9.99823213e-01],\n",
       "       [1.80696836e-03, 9.98192966e-01, 1.27333921e-10],\n",
       "       [2.78929491e-07, 9.99999702e-01, 2.82806278e-10],\n",
       "       [4.10188133e-10, 9.87728417e-01, 1.22716194e-02],\n",
       "       [1.84251425e-09, 1.00000000e+00, 5.25533617e-09],\n",
       "       [9.99354362e-01, 6.45642926e-04, 1.05674436e-19],\n",
       "       [5.79693967e-14, 2.26790726e-05, 9.99977350e-01],\n",
       "       [9.45107937e-01, 5.48920892e-02, 7.97604059e-20],\n",
       "       [1.02229924e-13, 2.67584287e-02, 9.73241568e-01],\n",
       "       [5.21517610e-14, 9.99737382e-01, 2.62648187e-04],\n",
       "       [1.57788449e-09, 9.99998093e-01, 1.90339279e-06],\n",
       "       [7.41691539e-13, 1.19978654e-06, 9.99998808e-01],\n",
       "       [1.43691670e-10, 9.68906939e-01, 3.10930442e-02],\n",
       "       [4.28141019e-15, 9.95702803e-01, 4.29723412e-03],\n",
       "       [1.72568447e-15, 1.00000000e+00, 7.92588009e-11],\n",
       "       [2.38880714e-19, 2.85635124e-08, 1.00000000e+00],\n",
       "       [9.99927998e-01, 7.20195821e-05, 1.94010271e-15],\n",
       "       [9.69407916e-01, 3.05920653e-02, 1.82602304e-19],\n",
       "       [3.34657026e-17, 4.51258493e-05, 9.99954879e-01],\n",
       "       [1.59013258e-14, 9.99715686e-01, 2.84281297e-04],\n",
       "       [1.60688008e-11, 9.99989808e-01, 1.02245012e-05],\n",
       "       [9.99965131e-01, 3.48960384e-05, 2.33174830e-16],\n",
       "       [9.99880672e-01, 1.19313627e-04, 2.10897924e-22],\n",
       "       [7.36090700e-09, 9.99990940e-01, 9.08285438e-06],\n",
       "       [5.16031773e-10, 9.99965847e-01, 3.41826380e-05],\n",
       "       [6.32790912e-13, 1.60963384e-06, 9.99998391e-01],\n",
       "       [9.25485611e-01, 7.45144635e-02, 1.75785450e-12],\n",
       "       [1.64052867e-14, 1.73450481e-08, 1.00000000e+00],\n",
       "       [2.46655520e-14, 9.99686122e-01, 3.13863362e-04],\n",
       "       [1.05430299e-05, 9.99989450e-01, 6.73273037e-09],\n",
       "       [9.99791622e-01, 2.08391924e-04, 2.36109648e-18],\n",
       "       [7.22380832e-07, 9.99999225e-01, 5.01152790e-08],\n",
       "       [9.02671349e-18, 3.93522423e-05, 9.99960661e-01],\n",
       "       [3.05911519e-13, 5.57781994e-01, 4.42218035e-01],\n",
       "       [1.01522589e-02, 9.89847779e-01, 4.19359235e-11],\n",
       "       [8.78097881e-16, 3.00797701e-01, 6.99202359e-01],\n",
       "       [1.90607510e-17, 3.20205581e-03, 9.96797979e-01],\n",
       "       [1.16710075e-09, 9.49297071e-01, 5.07029109e-02],\n",
       "       [1.83538019e-23, 7.88636029e-01, 2.11364061e-01],\n",
       "       [1.37972038e-11, 9.08265352e-01, 9.17346627e-02],\n",
       "       [3.36295868e-20, 9.99973297e-01, 2.66910720e-05],\n",
       "       [3.15486189e-18, 9.99219477e-01, 7.80508097e-04],\n",
       "       [1.39854342e-13, 1.53269440e-07, 9.99999821e-01],\n",
       "       [6.98299220e-13, 9.99958277e-01, 4.17413794e-05],\n",
       "       [9.46559851e-07, 9.99999046e-01, 1.77463881e-12],\n",
       "       [1.97977377e-12, 2.54198821e-05, 9.99974608e-01],\n",
       "       [9.92444438e-06, 9.99990046e-01, 3.96082268e-17],\n",
       "       [9.99802113e-01, 1.97846326e-04, 1.12550249e-20],\n",
       "       [2.74459044e-19, 6.94178283e-01, 3.05821717e-01],\n",
       "       [1.48738845e-05, 9.99985099e-01, 2.86567686e-10],\n",
       "       [6.92170822e-13, 9.99999344e-01, 6.84919200e-07],\n",
       "       [9.99481738e-01, 5.18295623e-04, 8.23788526e-21],\n",
       "       [7.57547498e-01, 2.42452517e-01, 1.60743772e-19],\n",
       "       [1.95389748e-06, 9.99992669e-01, 5.37472988e-06],\n",
       "       [8.06904922e-04, 9.99193072e-01, 9.20546076e-17],\n",
       "       [6.47970219e-12, 9.99876559e-01, 1.23415462e-04],\n",
       "       [2.44181153e-18, 1.46517694e-01, 8.53482306e-01],\n",
       "       [1.09838846e-10, 1.00000000e+00, 2.42479548e-09],\n",
       "       [8.56058627e-12, 2.73750622e-08, 1.00000000e+00],\n",
       "       [7.33003321e-20, 1.30099088e-05, 9.99987006e-01],\n",
       "       [3.38916014e-17, 9.87417936e-01, 1.25820991e-02],\n",
       "       [1.61465687e-12, 9.99782741e-01, 2.17302659e-04],\n",
       "       [9.99772489e-01, 2.27461074e-04, 3.84393335e-21],\n",
       "       [9.99852896e-01, 1.47109051e-04, 1.00664902e-11],\n",
       "       [3.22864607e-17, 7.63229489e-01, 2.36770526e-01],\n",
       "       [3.21373236e-15, 5.46892068e-07, 9.99999464e-01],\n",
       "       [6.68693442e-16, 9.95744586e-01, 4.25544847e-03],\n",
       "       [2.90073478e-03, 9.97099340e-01, 3.32593376e-17],\n",
       "       [9.61833894e-01, 3.81661132e-02, 1.79783365e-16],\n",
       "       [2.43893078e-06, 9.99997616e-01, 1.08508869e-10],\n",
       "       [3.03186859e-12, 1.62460003e-03, 9.98375356e-01],\n",
       "       [6.14340799e-14, 1.15686879e-01, 8.84313107e-01],\n",
       "       [4.29833014e-09, 9.96570706e-01, 3.42931412e-03],\n",
       "       [2.00074181e-01, 7.99925804e-01, 8.06711054e-09],\n",
       "       [6.37606721e-12, 1.92476239e-03, 9.98075247e-01],\n",
       "       [1.76289766e-14, 9.97758269e-01, 2.24173605e-03],\n",
       "       [6.39931202e-01, 3.60068887e-01, 5.74018033e-14],\n",
       "       [3.31705951e-06, 9.99996662e-01, 8.60301330e-10],\n",
       "       [7.67130476e-16, 8.67966504e-04, 9.99132037e-01],\n",
       "       [8.82572122e-03, 9.91174340e-01, 5.54941162e-12],\n",
       "       [4.57229176e-12, 6.91451579e-02, 9.30854797e-01],\n",
       "       [5.03857400e-09, 1.00000000e+00, 8.09283485e-09],\n",
       "       [2.87796820e-06, 9.99997139e-01, 9.61294866e-09],\n",
       "       [4.66489285e-01, 5.33510745e-01, 3.45685411e-15],\n",
       "       [1.19240056e-12, 1.00000000e+00, 4.50969019e-11],\n",
       "       [4.87777001e-20, 5.30433636e-06, 9.99994695e-01],\n",
       "       [1.70610803e-09, 3.41884489e-03, 9.96581197e-01],\n",
       "       [7.10829778e-14, 4.43728089e-01, 5.56271970e-01],\n",
       "       [9.16080691e-17, 7.65552791e-03, 9.92344499e-01],\n",
       "       [1.24792821e-16, 5.05118878e-05, 9.99949515e-01],\n",
       "       [2.96753043e-16, 1.38731048e-05, 9.99986112e-01],\n",
       "       [3.68619553e-08, 9.99999702e-01, 2.25378869e-07],\n",
       "       [8.13597813e-02, 9.18640256e-01, 4.60389258e-15],\n",
       "       [1.00601850e-04, 9.99899447e-01, 3.55148398e-12],\n",
       "       [1.97334042e-08, 9.99802470e-01, 1.97565794e-04],\n",
       "       [2.94750399e-23, 4.91621962e-04, 9.99508440e-01],\n",
       "       [5.29091202e-14, 2.89507967e-04, 9.99710441e-01],\n",
       "       [1.91748744e-13, 2.36622236e-05, 9.99976337e-01],\n",
       "       [5.47723846e-19, 1.80558418e-05, 9.99981940e-01],\n",
       "       [7.19472676e-11, 9.89437163e-01, 1.05628064e-02],\n",
       "       [3.71795761e-23, 2.28555393e-04, 9.99771476e-01],\n",
       "       [1.23869545e-12, 9.46611047e-01, 5.33889532e-02],\n",
       "       [4.37932073e-08, 3.05599533e-02, 9.69439983e-01],\n",
       "       [9.99998808e-01, 1.23505947e-06, 4.36240373e-19],\n",
       "       [3.69112553e-12, 4.12963256e-02, 9.58703637e-01],\n",
       "       [9.99643743e-01, 3.56208504e-04, 2.43849585e-17],\n",
       "       [9.99999344e-01, 7.14625173e-07, 2.26746845e-15],\n",
       "       [4.08250670e-14, 2.98299827e-04, 9.99701738e-01],\n",
       "       [4.95244706e-16, 4.38830602e-06, 9.99995589e-01],\n",
       "       [1.33612886e-07, 9.99938011e-01, 6.18355116e-05],\n",
       "       [5.46715979e-04, 9.99453306e-01, 6.17482248e-13],\n",
       "       [1.15107183e-13, 2.04917706e-06, 9.99997973e-01],\n",
       "       [9.99559462e-01, 4.40523523e-04, 2.50051368e-21],\n",
       "       [9.98469174e-01, 1.53087766e-03, 2.52668667e-11],\n",
       "       [1.26364222e-20, 3.98796052e-01, 6.01203978e-01],\n",
       "       [9.99787509e-01, 2.12456813e-04, 5.14838247e-20],\n",
       "       [1.43554052e-18, 5.08998210e-06, 9.99994874e-01],\n",
       "       [3.94052759e-12, 9.99904037e-01, 9.59474928e-05],\n",
       "       [5.17138124e-01, 4.82861847e-01, 5.61652824e-18],\n",
       "       [6.81485891e-01, 3.18514138e-01, 1.92271909e-18],\n",
       "       [9.98938203e-01, 1.06180960e-03, 1.80346461e-23],\n",
       "       [5.99472405e-05, 9.99940038e-01, 2.96860545e-13],\n",
       "       [4.25233674e-16, 1.29372045e-01, 8.70627940e-01],\n",
       "       [2.34459057e-01, 7.65540898e-01, 5.17721149e-15],\n",
       "       [9.99988735e-01, 1.13247743e-05, 1.04949122e-12],\n",
       "       [1.86798766e-01, 8.13201249e-01, 4.53180652e-14],\n",
       "       [9.99128103e-01, 8.71915719e-04, 5.40894291e-21],\n",
       "       [6.31326245e-08, 9.99996305e-01, 3.63894969e-06],\n",
       "       [4.37062053e-10, 9.99922574e-01, 7.74017535e-05],\n",
       "       [3.30492776e-19, 4.13988209e-06, 9.99995887e-01],\n",
       "       [5.31231500e-02, 9.46876824e-01, 8.07293902e-12],\n",
       "       [2.09726510e-03, 9.97902751e-01, 2.70295258e-10],\n",
       "       [1.44228122e-15, 9.11183292e-07, 9.99999046e-01],\n",
       "       [2.18667740e-11, 9.99999881e-01, 1.37350511e-07],\n",
       "       [3.65416557e-01, 6.34583414e-01, 1.60803060e-09],\n",
       "       [4.42875015e-16, 3.99572849e-01, 6.00427151e-01],\n",
       "       [4.74196230e-22, 8.80171180e-01, 1.19828865e-01],\n",
       "       [8.08056733e-09, 9.99999404e-01, 6.11546511e-07],\n",
       "       [3.38724144e-12, 1.21681616e-01, 8.78318369e-01],\n",
       "       [1.51117970e-16, 4.39685941e-01, 5.60314000e-01],\n",
       "       [7.37275085e-12, 9.99999702e-01, 2.82013900e-07],\n",
       "       [6.75068819e-08, 9.99997795e-01, 2.12823352e-06],\n",
       "       [1.47391847e-14, 9.62168351e-02, 9.03783202e-01],\n",
       "       [4.88267792e-13, 1.14364065e-02, 9.88563597e-01],\n",
       "       [1.09684100e-17, 2.89701802e-06, 9.99997079e-01],\n",
       "       [1.05090337e-02, 9.89490986e-01, 1.77680145e-11],\n",
       "       [2.02533493e-11, 6.14427269e-01, 3.85572642e-01],\n",
       "       [2.39026351e-11, 9.99644458e-01, 3.55543249e-04],\n",
       "       [5.91945333e-15, 6.33563519e-01, 3.66436481e-01],\n",
       "       [5.03039580e-16, 3.66291195e-01, 6.33708835e-01],\n",
       "       [9.98987079e-01, 1.01293868e-03, 2.85513635e-20],\n",
       "       [1.94240850e-14, 1.31100297e-01, 8.68899643e-01],\n",
       "       [9.96603668e-01, 3.39633552e-03, 8.18584892e-13],\n",
       "       [9.99993682e-01, 6.30994191e-06, 8.45249050e-18],\n",
       "       [2.61291233e-13, 1.00000000e+00, 1.36670204e-08],\n",
       "       [5.54284334e-01, 4.45715636e-01, 7.06645506e-12],\n",
       "       [3.20789542e-17, 9.70936239e-01, 2.90637985e-02],\n",
       "       [6.78875814e-19, 1.77689930e-04, 9.99822259e-01],\n",
       "       [1.69141572e-02, 9.83085811e-01, 8.63792631e-12],\n",
       "       [2.03516072e-04, 9.99796450e-01, 2.80694218e-10],\n",
       "       [1.34095155e-13, 9.03565168e-01, 9.64348540e-02],\n",
       "       [3.10197447e-06, 9.99996901e-01, 6.53672186e-11],\n",
       "       [9.99970436e-01, 2.92549030e-05, 2.83896867e-07],\n",
       "       [9.00544667e-21, 1.15808609e-06, 9.99998868e-01],\n",
       "       [2.42471443e-09, 9.99868035e-01, 1.31913243e-04],\n",
       "       [1.12836872e-10, 9.99658167e-01, 3.41782958e-04],\n",
       "       [2.95939944e-22, 5.80114021e-04, 9.99419928e-01],\n",
       "       [6.00282846e-09, 7.46105373e-01, 2.53894597e-01],\n",
       "       [8.77789617e-01, 1.22210361e-01, 7.92261493e-19],\n",
       "       [5.39803179e-04, 9.99460280e-01, 3.74603924e-11],\n",
       "       [9.90226984e-01, 9.77301784e-03, 8.05728995e-15],\n",
       "       [4.56490840e-19, 2.26364080e-02, 9.77363646e-01],\n",
       "       [3.34880355e-20, 9.29487109e-01, 7.05128834e-02],\n",
       "       [9.99803662e-01, 1.96325040e-04, 5.08143324e-16],\n",
       "       [1.33570307e-03, 9.98664320e-01, 2.32437752e-18],\n",
       "       [8.51460916e-11, 4.87515777e-01, 5.12484252e-01],\n",
       "       [4.54035968e-01, 5.45964062e-01, 1.72505454e-09],\n",
       "       [5.48152093e-05, 9.99945223e-01, 8.50349746e-09],\n",
       "       [3.96850719e-10, 9.99997258e-01, 2.72353532e-06],\n",
       "       [2.27125074e-08, 1.00000000e+00, 5.59794815e-11],\n",
       "       [5.69414258e-01, 4.30585802e-01, 4.32688624e-18],\n",
       "       [9.97954965e-01, 2.04509124e-03, 1.36511546e-15],\n",
       "       [1.80606676e-07, 9.77583766e-01, 2.24160794e-02],\n",
       "       [9.99809563e-01, 1.90459206e-04, 1.82621916e-13],\n",
       "       [1.57281164e-07, 9.99999762e-01, 3.60987826e-08],\n",
       "       [2.59286503e-06, 9.99997377e-01, 4.65319827e-09],\n",
       "       [2.20695332e-01, 7.79304683e-01, 2.07083274e-11]], dtype=float32)"
      ]
     },
     "execution_count": 11,
     "metadata": {},
     "output_type": "execute_result"
    }
   ],
   "source": [
    "network.predict_proba(ohlc_test)"
   ]
  },
  {
   "cell_type": "markdown",
   "id": "49bdec91",
   "metadata": {},
   "source": [
    "### 4. 검증"
   ]
  },
  {
   "cell_type": "code",
   "execution_count": 12,
   "id": "19244a6a",
   "metadata": {},
   "outputs": [],
   "source": [
    "from tools.instruments import instruments\n",
    "from tools.datatools import norm\n",
    "from tools.display import highchart\n",
    "quotes = instruments.quotes(fields='ohlc')\n",
    "symbols = list(quotes.columns.levels[0])"
   ]
  },
  {
   "cell_type": "code",
   "execution_count": 13,
   "id": "bcbc262d",
   "metadata": {},
   "outputs": [],
   "source": [
    "%load_ext autoreload\n",
    "%aimport tools.datatools\n",
    "%aimport tools.display\n",
    "%autoreload 2"
   ]
  },
  {
   "cell_type": "code",
   "execution_count": 18,
   "id": "62467dcb",
   "metadata": {},
   "outputs": [
    {
     "name": "stdout",
     "output_type": "stream",
     "text": [
      "1/1 [==============================] - 0s 15ms/step\n",
      "[[0. 1. 0.]]\n"
     ]
    },
    {
     "data": {
      "text/html": [
       "\n",
       "        <iframe\n",
       "            width=\"900\"\n",
       "            height=\"700\"\n",
       "            src=\"../../temp/temporary_chart.html\"\n",
       "            frameborder=\"0\"\n",
       "            allowfullscreen\n",
       "            \n",
       "        ></iframe>\n",
       "        "
      ],
      "text/plain": [
       "<IPython.lib.display.IFrame at 0x27136cb6af0>"
      ]
     },
     "metadata": {},
     "output_type": "display_data"
    }
   ],
   "source": [
    "symbol = np.random.choice(symbols)\n",
    "quote = quotes[W'].dropna()\n",
    "idx = 500#np.random.randint(0,len(quote)-51)\n",
    "ohlc = quote.iloc[idx:idx+period]\n",
    "data = norm(ohlc.values)\n",
    "data = np.moveaxis(np.array([data]),1,2 )\n",
    "print(network.predict_proba(data).round(2))\n",
    "highchart([{'data':ohlc, 'type':'candlestick'}])"
   ]
  },
  {
   "cell_type": "markdown",
   "id": "1f831284",
   "metadata": {},
   "source": [
    "### 3.모델을 파일로 저장"
   ]
  },
  {
   "cell_type": "code",
   "execution_count": 63,
   "id": "d065764f",
   "metadata": {},
   "outputs": [
    {
     "name": "stderr",
     "output_type": "stream",
     "text": [
      "WARNING:absl:Found untraced functions such as _jit_compiled_convolution_op, _jit_compiled_convolution_op while saving (showing 2 of 2). These functions will not be directly callable after loading.\n"
     ]
    },
    {
     "name": "stdout",
     "output_type": "stream",
     "text": [
      "INFO:tensorflow:Assets written to: ..\\..\\data\\trend index\\models\\trend_50day\\keras\\assets\n"
     ]
    },
    {
     "name": "stderr",
     "output_type": "stream",
     "text": [
      "INFO:tensorflow:Assets written to: ..\\..\\data\\trend index\\models\\trend_50day\\keras\\assets\n"
     ]
    },
    {
     "data": {
      "text/plain": [
       "<zipfile.ZipFile filename='..\\\\..\\\\data\\\\trend index\\\\models\\\\trend_50day.zip' mode='r'>"
      ]
     },
     "execution_count": 63,
     "metadata": {},
     "output_type": "execute_result"
    }
   ],
   "source": [
    "savepath = os.path.join('..','..','data','trend index','models', f'trend_{period}day')\n",
    "network.save(savepath)"
   ]
  },
  {
   "cell_type": "code",
   "execution_count": null,
   "id": "0e5bfe4a",
   "metadata": {},
   "outputs": [],
   "source": []
  }
 ],
 "metadata": {
  "kernelspec": {
   "display_name": "Python 3 (ipykernel)",
   "language": "python",
   "name": "python3"
  },
  "language_info": {
   "codemirror_mode": {
    "name": "ipython",
    "version": 3
   },
   "file_extension": ".py",
   "mimetype": "text/x-python",
   "name": "python",
   "nbconvert_exporter": "python",
   "pygments_lexer": "ipython3",
   "version": "3.9.16"
  }
 },
 "nbformat": 4,
 "nbformat_minor": 5
}
