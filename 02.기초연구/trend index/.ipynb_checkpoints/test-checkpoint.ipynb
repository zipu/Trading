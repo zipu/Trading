{
 "cells": [
  {
   "cell_type": "code",
   "execution_count": 1,
   "id": "551c9a34",
   "metadata": {},
   "outputs": [],
   "source": [
    "%matplotlib inline\n",
    "import sys, os\n",
    "sys.path.append('../../')\n",
    "import h5py\n",
    "import numpy as np\n",
    "import pandas as pd\n",
    "from datetime import datetime\n",
    "import matplotlib.pyplot as plt\n",
    "from tools.instruments import instruments\n",
    "from tools.display import highchart\n",
    "from IPython.display import clear_output\n",
    "import time"
   ]
  },
  {
   "cell_type": "code",
   "execution_count": 5,
   "id": "f7d3919c",
   "metadata": {},
   "outputs": [],
   "source": [
    "%load_ext autoreload\n",
    "%aimport tools.quotes\n",
    "%aimport tools.instruments\n",
    "%autoreload 2"
   ]
  },
  {
   "cell_type": "code",
   "execution_count": 3,
   "id": "32939c9c",
   "metadata": {},
   "outputs": [],
   "source": [
    "dbpath = os.path.join('..','..','data','trend index','trend_index.hdf')\n",
    "db = h5py.File(dbpath, 'r')"
   ]
  },
  {
   "cell_type": "code",
   "execution_count": 4,
   "id": "81a4aaad",
   "metadata": {},
   "outputs": [
    {
     "data": {
      "text/plain": [
       "(5843, 4)"
      ]
     },
     "execution_count": 4,
     "metadata": {},
     "output_type": "execute_result"
    }
   ],
   "source": [
    "db['AD']['trend50'].shape"
   ]
  },
  {
   "cell_type": "code",
   "execution_count": 6,
   "id": "bb2c3fcf",
   "metadata": {},
   "outputs": [],
   "source": [
    "quotes = instruments.quotes(fields='ohlc')"
   ]
  },
  {
   "cell_type": "code",
   "execution_count": null,
   "id": "c1164b8d",
   "metadata": {},
   "outputs": [
    {
     "name": "stdout",
     "output_type": "stream",
     "text": [
      "AD\n",
      "확률 생성중\n"
     ]
    },
    {
     "name": "stderr",
     "output_type": "stream",
     "text": [
      "Feature Extraction:  15%|████████▍                                                | 5222/35468 [03:39<21:25, 23.53it/s]"
     ]
    }
   ],
   "source": [
    "symbols = list(quotes.columns.levels[0])\n",
    "for symbol in symbols:\n",
    "    savefile = h5py.File(savefilepath, 'a')\n",
    "    print(symbol)\n",
    "    quote = quotes[symbol].dropna()\n",
    "    df = quote.reset_index()\n",
    "    data=[]\n",
    "    dates = []\n",
    "    for i in range(period, len(quote)+1):\n",
    "        window = quote.iloc[i-period:i]\n",
    "        window = (window - window.mean())/window.std().mean()\n",
    "        window.reset_index(inplace=True)\n",
    "        dates.append(window['date'].max())\n",
    "        data.append(window[['open','high','low','close']].values.tolist())\n",
    "    print(\"확률 생성중\")\n",
    "    data = np.moveaxis(np.array(data), 1,2)\n",
    "    prob = model.predict_proba(data)\n",
    "    trend = pd.DataFrame(data = prob, columns =['down','no','up'], index=dates)\n",
    "    \n",
    "    if symbol not in savefile.keys():\n",
    "        savefile.create_group(symbol)\n",
    "    \n",
    "    trend.insert(0,'date', trend.index.values.astype('M8[s]').astype('i'))\n",
    "    arr = np.array(trend.values.tolist())\n",
    "    savefile[symbol].create_dataset(f\"trend{period}\", arr.shape, data=arr)\n",
    "    savefile.close()\n",
    "    "
   ]
  },
  {
   "cell_type": "code",
   "execution_count": 137,
   "id": "cf29dd7b",
   "metadata": {},
   "outputs": [],
   "source": [
    "savefile.close()"
   ]
  },
  {
   "cell_type": "code",
   "execution_count": 54,
   "id": "f2fc01ef",
   "metadata": {},
   "outputs": [
    {
     "data": {
      "text/html": [
       "\n",
       "        <iframe\n",
       "            width=\"900\"\n",
       "            height=\"700\"\n",
       "            src=\"../../temp/temporary_chart.html\"\n",
       "            frameborder=\"0\"\n",
       "            allowfullscreen\n",
       "            \n",
       "        ></iframe>\n",
       "        "
      ],
      "text/plain": [
       "<IPython.lib.display.IFrame at 0x284b6f31bb0>"
      ]
     },
     "metadata": {},
     "output_type": "display_data"
    }
   ],
   "source": [
    "highchart([\n",
    "    {'data':ad, 'type':'candlestick'},\n",
    "    {'data':trend['up'], 'type':'line','yaxis':'22'},\n",
    "    {'data':trend['down'], 'type':'line','yaxis':'22'},\n",
    "    {'data':trend['no'], 'type':'line','yaxis':'22'}\n",
    "])"
   ]
  },
  {
   "cell_type": "code",
   "execution_count": null,
   "id": "4cfc7765",
   "metadata": {},
   "outputs": [],
   "source": []
  }
 ],
 "metadata": {
  "kernelspec": {
   "display_name": "Python 3 (ipykernel)",
   "language": "python",
   "name": "python3"
  },
  "language_info": {
   "codemirror_mode": {
    "name": "ipython",
    "version": 3
   },
   "file_extension": ".py",
   "mimetype": "text/x-python",
   "name": "python",
   "nbconvert_exporter": "python",
   "pygments_lexer": "ipython3",
   "version": "3.10.10"
  }
 },
 "nbformat": 4,
 "nbformat_minor": 5
}
