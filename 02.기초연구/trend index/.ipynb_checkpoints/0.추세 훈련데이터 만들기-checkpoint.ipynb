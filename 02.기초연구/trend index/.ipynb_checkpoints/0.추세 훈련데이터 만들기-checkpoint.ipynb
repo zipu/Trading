{
 "cells": [
  {
   "cell_type": "code",
   "execution_count": 1,
   "metadata": {},
   "outputs": [],
   "source": [
    "import sys, os\n",
    "sys.path.append('../..')\n",
    "from tools import ML\n",
    "from tools.instruments import instruments\n",
    "from tools.display import ohlc_chart, highchart\n",
    "import h5py\n",
    "import matplotlib.pyplot as plt\n",
    "import numpy as np\n",
    "from IPython.display import clear_output\n",
    "import time"
   ]
  },
  {
   "cell_type": "code",
   "execution_count": 2,
   "metadata": {},
   "outputs": [],
   "source": [
    "%load_ext autoreload\n",
    "%aimport tools.ML\n",
    "%aimport tools.display\n",
    "%autoreload 2"
   ]
  },
  {
   "cell_type": "markdown",
   "metadata": {},
   "source": [
    "### 0. Parameters"
   ]
  },
  {
   "cell_type": "code",
   "execution_count": 49,
   "metadata": {},
   "outputs": [],
   "source": [
    "window = 50\n",
    "filepath = os.path.join('..','..','data','trend index','training set', 'trend_50day.hdf')\n",
    "training_period = '2009-12-31'"
   ]
  },
  {
   "cell_type": "markdown",
   "metadata": {},
   "source": [
    "### 1. Gathering Data"
   ]
  },
  {
   "cell_type": "code",
   "execution_count": 4,
   "metadata": {},
   "outputs": [],
   "source": [
    "quotes = instruments.quotes(fields='ohlc')[:training_period].copy()\n",
    "symbols = list(quotes.columns.levels[0])"
   ]
  },
  {
   "cell_type": "code",
   "execution_count": 50,
   "metadata": {},
   "outputs": [
    {
     "ename": "ValueError",
     "evalue": "low >= high",
     "output_type": "error",
     "traceback": [
      "\u001b[1;31m---------------------------------------------------------------------------\u001b[0m",
      "\u001b[1;31mValueError\u001b[0m                                Traceback (most recent call last)",
      "Cell \u001b[1;32mIn [50], line 20\u001b[0m\n\u001b[0;32m     16\u001b[0m quote \u001b[38;5;241m=\u001b[39m quotes[symbol]\u001b[38;5;241m.\u001b[39mdropna()\n\u001b[0;32m     17\u001b[0m \u001b[38;5;66;03m#print(instruments[symbol].name)\u001b[39;00m\n\u001b[0;32m     18\u001b[0m \n\u001b[0;32m     19\u001b[0m \u001b[38;5;66;03m# 10세트 데이터 랜덤 선택\u001b[39;00m\n\u001b[1;32m---> 20\u001b[0m indexes \u001b[38;5;241m=\u001b[39m \u001b[43mnp\u001b[49m\u001b[38;5;241;43m.\u001b[39;49m\u001b[43mrandom\u001b[49m\u001b[38;5;241;43m.\u001b[39;49m\u001b[43mrandint\u001b[49m\u001b[43m(\u001b[49m\u001b[38;5;241;43m0\u001b[39;49m\u001b[43m,\u001b[49m\u001b[43m \u001b[49m\u001b[38;5;28;43mlen\u001b[39;49m\u001b[43m(\u001b[49m\u001b[43mquote\u001b[49m\u001b[43m)\u001b[49m\u001b[38;5;241;43m-\u001b[39;49m\u001b[43mwindow\u001b[49m\u001b[43m,\u001b[49m\u001b[43m \u001b[49m\u001b[38;5;241;43m10\u001b[39;49m\u001b[43m)\u001b[49m\n\u001b[0;32m     21\u001b[0m \u001b[38;5;28;01mfor\u001b[39;00m index \u001b[38;5;129;01min\u001b[39;00m indexes:\n\u001b[0;32m     22\u001b[0m     \u001b[38;5;66;03m# 데이터 셋 선택 및 규격확\u001b[39;00m\n\u001b[0;32m     23\u001b[0m     data \u001b[38;5;241m=\u001b[39m quote\u001b[38;5;241m.\u001b[39miloc[index:index\u001b[38;5;241m+\u001b[39mwindow]\n",
      "File \u001b[1;32mmtrand.pyx:744\u001b[0m, in \u001b[0;36mnumpy.random.mtrand.RandomState.randint\u001b[1;34m()\u001b[0m\n",
      "File \u001b[1;32m_bounded_integers.pyx:1346\u001b[0m, in \u001b[0;36mnumpy.random._bounded_integers._rand_int32\u001b[1;34m()\u001b[0m\n",
      "\u001b[1;31mValueError\u001b[0m: low >= high"
     ]
    }
   ],
   "source": [
    "file = h5py.File(filepath, mode='a')\n",
    "\n",
    "num_dim = 4 #open, high, low, close\n",
    "if 'train' not in file.keys():\n",
    "        file.create_dataset('train', (0, window, num_dim), maxshape=(None, window, num_dim), dtype='float32', compression='gzip')\n",
    "        file.create_dataset('trend', (0,), maxshape=(None,), dtype='i')\n",
    "        file.create_dataset('guess', (0,), maxshape=(None,), dtype='i')\n",
    "        \n",
    "Train, Trend, Guess  = file['train'], file['trend'], file['guess']\n",
    "\n",
    "\n",
    "while True:\n",
    "    # 상품 랜덤 선택\n",
    "    symbol = np.random.choice(symbols)\n",
    "    name = instruments[symbol].name\n",
    "    quote = quotes[symbol].dropna()\n",
    "    #print(instruments[symbol].name)\n",
    "    \n",
    "    # 10세트 데이터 랜덤 선택. quote 없으면 넘어감\n",
    "    if len(quote) > window+100:\n",
    "        indexes = np.random.randint(0, len(quote)-window, 10)\n",
    "    else:\n",
    "        continue\n",
    "        \n",
    "    for index in indexes:\n",
    "        # 데이터 셋 선택 및 규격확\n",
    "        data = quote.iloc[index:index+window]\n",
    "        train_data = (data - data.mean())/data.std().mean()\n",
    "        highchart([{ 'data':data, 'name':name, 'type':'candlestick'}], height=600)\n",
    "        \n",
    "        time.sleep(0.1)\n",
    "        trend = input(\"추세? 하락(-1), 없음(0), 상승(1): \")\n",
    "        guess = input(\"예측? 하락(-1), 관망(0), 상승(1): \")\n",
    "        if (trend not in ['-1','0','1']) or (guess not in ['-1','0','1']):\n",
    "            print(f\"You pressed trend:{trend} and guess: {guess}\")\n",
    "            break\n",
    "        else:\n",
    "            size = Train.shape[0]\n",
    "            Train.resize(size+1, axis=0)\n",
    "            Trend.resize(size+1, axis=0)\n",
    "            Guess.resize(size+1, axis=0)\n",
    "\n",
    "            Train[size] = data.values\n",
    "            Trend[size] = int(trend)\n",
    "            Guess[size] = int(guess)\n",
    "\n",
    "        clear_output(wait=True)\n",
    "    \n",
    "    if (trend not in ['-1','0','1']) or (guess not in ['-1','0','1']):\n",
    "            break\n",
    "file.close()"
   ]
  },
  {
   "cell_type": "markdown",
   "metadata": {
    "collapsed": true
   },
   "source": [
    "### 2. Verification"
   ]
  },
  {
   "cell_type": "code",
   "execution_count": 7,
   "metadata": {
    "collapsed": true
   },
   "outputs": [],
   "source": [
    "from collections import Counter"
   ]
  },
  {
   "cell_type": "code",
   "execution_count": 8,
   "metadata": {
    "collapsed": true
   },
   "outputs": [],
   "source": [
    "file = open_file('h5py', filepath, mode='r')"
   ]
  },
  {
   "cell_type": "code",
   "execution_count": 9,
   "metadata": {},
   "outputs": [
    {
     "name": "stdout",
     "output_type": "stream",
     "text": [
      "(791, 10, 4)\n",
      "(791,)\n"
     ]
    }
   ],
   "source": [
    "print(file['X'].shape)\n",
    "print(file['Y'].shape)"
   ]
  },
  {
   "cell_type": "code",
   "execution_count": 10,
   "metadata": {},
   "outputs": [
    {
     "data": {
      "text/plain": [
       "Counter({0: 187, 1: 396, 2: 208})"
      ]
     },
     "execution_count": 10,
     "metadata": {},
     "output_type": "execute_result"
    }
   ],
   "source": [
    "Y = file['Y']\n",
    "Counter(Y)"
   ]
  },
  {
   "cell_type": "code",
   "execution_count": 11,
   "metadata": {
    "collapsed": true
   },
   "outputs": [],
   "source": [
    "file.close()"
   ]
  },
  {
   "cell_type": "code",
   "execution_count": null,
   "metadata": {
    "collapsed": true
   },
   "outputs": [],
   "source": []
  }
 ],
 "metadata": {
  "kernelspec": {
   "display_name": "Python 3 (ipykernel)",
   "language": "python",
   "name": "python3"
  },
  "language_info": {
   "codemirror_mode": {
    "name": "ipython",
    "version": 3
   },
   "file_extension": ".py",
   "mimetype": "text/x-python",
   "name": "python",
   "nbconvert_exporter": "python",
   "pygments_lexer": "ipython3",
   "version": "3.8.15"
  }
 },
 "nbformat": 4,
 "nbformat_minor": 2
}
