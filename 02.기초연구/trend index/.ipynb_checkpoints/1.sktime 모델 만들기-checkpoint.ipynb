{
 "cells": [
  {
   "cell_type": "code",
   "execution_count": 3,
   "id": "677b86a8",
   "metadata": {},
   "outputs": [],
   "source": [
    "%matplotlib inline\n",
    "import sys, os\n",
    "sys.path.append('../..')\n",
    "import matplotlib.pyplot as plt\n",
    "import numpy as np\n",
    "import pandas as pd\n",
    "import h5py"
   ]
  },
  {
   "cell_type": "code",
   "execution_count": 1,
   "id": "4b1e5bbf",
   "metadata": {},
   "outputs": [],
   "source": [
    "from sklearn.model_selection import GridSearchCV\n",
    "from sktime.classification.feature_based import TSFreshClassifier"
   ]
  },
  {
   "cell_type": "code",
   "execution_count": 4,
   "id": "79578e71",
   "metadata": {},
   "outputs": [],
   "source": [
    "period = 50\n",
    "filepath = os.path.join('..','..','data','trend index','training set', f'trend_{period}day.hdf')\n",
    "file = h5py.File(filepath, mode='r')"
   ]
  },
  {
   "cell_type": "code",
   "execution_count": 5,
   "id": "ad74517b",
   "metadata": {},
   "outputs": [
    {
     "name": "stdout",
     "output_type": "stream",
     "text": [
      "(422, 4, 50)\n",
      "(422,)\n",
      "(422,)\n"
     ]
    }
   ],
   "source": [
    "ohlc  = file['ohlc'][:]\n",
    "trend = file['trend'][:]  \n",
    "guess = file['expect'][:]\n",
    "\n",
    "print(ohlc.shape)\n",
    "print(trend.shape)\n",
    "print(guess.shape)"
   ]
  },
  {
   "cell_type": "markdown",
   "id": "df5801da",
   "metadata": {},
   "source": [
    "### 1. Train data & Test data 생성 (7:3)"
   ]
  },
  {
   "cell_type": "code",
   "execution_count": 61,
   "id": "b4a556dd",
   "metadata": {},
   "outputs": [],
   "source": [
    "idx = int(len(ohlc)*0.7)\n",
    "ohlc_train = ohlc[:idx]\n",
    "trend_train = trend[:idx]\n",
    "_train = guess[:idx]\n",
    "\n",
    "ohlc_test = ohlc[idx:]\n",
    "trend_test = trend[idx:]\n",
    "guess_test = guess[idx:]"
   ]
  },
  {
   "cell_type": "code",
   "execution_count": 74,
   "id": "3b7d537b",
   "metadata": {
    "scrolled": true
   },
   "outputs": [
    {
     "name": "stderr",
     "output_type": "stream",
     "text": [
      "Feature Extraction: 100%|██████████████████████████████████████████████████████████| 1180/1180 [00:52<00:00, 22.29it/s]\n"
     ]
    },
    {
     "data": {
      "text/html": [
       "<style>#sk-5423e811-c477-4853-a952-37e0365f4130 {color: black;background-color: white;}#sk-5423e811-c477-4853-a952-37e0365f4130 pre{padding: 0;}#sk-5423e811-c477-4853-a952-37e0365f4130 div.sk-toggleable {background-color: white;}#sk-5423e811-c477-4853-a952-37e0365f4130 label.sk-toggleable__label {cursor: pointer;display: block;width: 100%;margin-bottom: 0;padding: 0.3em;box-sizing: border-box;text-align: center;}#sk-5423e811-c477-4853-a952-37e0365f4130 label.sk-toggleable__label-arrow:before {content: \"▸\";float: left;margin-right: 0.25em;color: #696969;}#sk-5423e811-c477-4853-a952-37e0365f4130 label.sk-toggleable__label-arrow:hover:before {color: black;}#sk-5423e811-c477-4853-a952-37e0365f4130 div.sk-estimator:hover label.sk-toggleable__label-arrow:before {color: black;}#sk-5423e811-c477-4853-a952-37e0365f4130 div.sk-toggleable__content {max-height: 0;max-width: 0;overflow: hidden;text-align: left;background-color: #f0f8ff;}#sk-5423e811-c477-4853-a952-37e0365f4130 div.sk-toggleable__content pre {margin: 0.2em;color: black;border-radius: 0.25em;background-color: #f0f8ff;}#sk-5423e811-c477-4853-a952-37e0365f4130 input.sk-toggleable__control:checked~div.sk-toggleable__content {max-height: 200px;max-width: 100%;overflow: auto;}#sk-5423e811-c477-4853-a952-37e0365f4130 input.sk-toggleable__control:checked~label.sk-toggleable__label-arrow:before {content: \"▾\";}#sk-5423e811-c477-4853-a952-37e0365f4130 div.sk-estimator input.sk-toggleable__control:checked~label.sk-toggleable__label {background-color: #d4ebff;}#sk-5423e811-c477-4853-a952-37e0365f4130 div.sk-label input.sk-toggleable__control:checked~label.sk-toggleable__label {background-color: #d4ebff;}#sk-5423e811-c477-4853-a952-37e0365f4130 input.sk-hidden--visually {border: 0;clip: rect(1px 1px 1px 1px);clip: rect(1px, 1px, 1px, 1px);height: 1px;margin: -1px;overflow: hidden;padding: 0;position: absolute;width: 1px;}#sk-5423e811-c477-4853-a952-37e0365f4130 div.sk-estimator {font-family: monospace;background-color: #f0f8ff;border: 1px dotted black;border-radius: 0.25em;box-sizing: border-box;margin-bottom: 0.5em;}#sk-5423e811-c477-4853-a952-37e0365f4130 div.sk-estimator:hover {background-color: #d4ebff;}#sk-5423e811-c477-4853-a952-37e0365f4130 div.sk-parallel-item::after {content: \"\";width: 100%;border-bottom: 1px solid gray;flex-grow: 1;}#sk-5423e811-c477-4853-a952-37e0365f4130 div.sk-label:hover label.sk-toggleable__label {background-color: #d4ebff;}#sk-5423e811-c477-4853-a952-37e0365f4130 div.sk-serial::before {content: \"\";position: absolute;border-left: 1px solid gray;box-sizing: border-box;top: 2em;bottom: 0;left: 50%;}#sk-5423e811-c477-4853-a952-37e0365f4130 div.sk-serial {display: flex;flex-direction: column;align-items: center;background-color: white;padding-right: 0.2em;padding-left: 0.2em;}#sk-5423e811-c477-4853-a952-37e0365f4130 div.sk-item {z-index: 1;}#sk-5423e811-c477-4853-a952-37e0365f4130 div.sk-parallel {display: flex;align-items: stretch;justify-content: center;background-color: white;}#sk-5423e811-c477-4853-a952-37e0365f4130 div.sk-parallel::before {content: \"\";position: absolute;border-left: 1px solid gray;box-sizing: border-box;top: 2em;bottom: 0;left: 50%;}#sk-5423e811-c477-4853-a952-37e0365f4130 div.sk-parallel-item {display: flex;flex-direction: column;position: relative;background-color: white;}#sk-5423e811-c477-4853-a952-37e0365f4130 div.sk-parallel-item:first-child::after {align-self: flex-end;width: 50%;}#sk-5423e811-c477-4853-a952-37e0365f4130 div.sk-parallel-item:last-child::after {align-self: flex-start;width: 50%;}#sk-5423e811-c477-4853-a952-37e0365f4130 div.sk-parallel-item:only-child::after {width: 0;}#sk-5423e811-c477-4853-a952-37e0365f4130 div.sk-dashed-wrapped {border: 1px dashed gray;margin: 0 0.4em 0.5em 0.4em;box-sizing: border-box;padding-bottom: 0.4em;background-color: white;position: relative;}#sk-5423e811-c477-4853-a952-37e0365f4130 div.sk-label label {font-family: monospace;font-weight: bold;background-color: white;display: inline-block;line-height: 1.2em;}#sk-5423e811-c477-4853-a952-37e0365f4130 div.sk-label-container {position: relative;z-index: 2;text-align: center;}#sk-5423e811-c477-4853-a952-37e0365f4130 div.sk-container {/* jupyter's `normalize.less` sets `[hidden] { display: none; }` but bootstrap.min.css set `[hidden] { display: none !important; }` so we also need the `!important` here to be able to override the default hidden behavior on the sphinx rendered scikit-learn.org. See: https://github.com/scikit-learn/scikit-learn/issues/21755 */display: inline-block !important;position: relative;}#sk-5423e811-c477-4853-a952-37e0365f4130 div.sk-text-repr-fallback {display: none;}</style><div id='sk-5423e811-c477-4853-a952-37e0365f4130' class=\"sk-top-container\"><div class=\"sk-text-repr-fallback\"><pre>TSFreshClassifier(default_fc_parameters=&#x27;comprehensive&#x27;, verbose=True)</pre><b>Please rerun this cell to show the HTML repr or trust the notebook.</b></div><div class=\"sk-container\" hidden><div class='sk-item'><div class=\"sk-estimator sk-toggleable\"><input class=\"sk-toggleable__control sk-hidden--visually\" id=UUID('e686b562-429a-445b-b0af-d877a13c33ba') type=\"checkbox\" checked><label for=UUID('e686b562-429a-445b-b0af-d877a13c33ba') class='sk-toggleable__label sk-toggleable__label-arrow'>TSFreshClassifier</label><div class=\"sk-toggleable__content\"><pre>TSFreshClassifier(default_fc_parameters=&#x27;comprehensive&#x27;, verbose=True)</pre></div></div></div></div></div>"
      ],
      "text/plain": [
       "TSFreshClassifier(default_fc_parameters='comprehensive', verbose=True)"
      ]
     },
     "execution_count": 74,
     "metadata": {},
     "output_type": "execute_result"
    }
   ],
   "source": [
    "network =  TSFreshClassifier(, verbose=True) #estimator=RandomForestClassifier(n_estimators=5),\n",
    "#network = CNNClassifier(n_epochs=200, batch_size=4, verbose=True)\n",
    "network.fit(ohlc_train, trend_train)\n",
    "#network.score(X_test, y_test)"
   ]
  },
  {
   "cell_type": "code",
   "execution_count": 75,
   "id": "78bd7748",
   "metadata": {},
   "outputs": [
    {
     "name": "stderr",
     "output_type": "stream",
     "text": [
      "Feature Extraction: 100%|████████████████████████████████████████████████████████████| 508/508 [00:22<00:00, 22.71it/s]\n"
     ]
    },
    {
     "data": {
      "text/plain": [
       "0.905511811023622"
      ]
     },
     "execution_count": 75,
     "metadata": {},
     "output_type": "execute_result"
    }
   ],
   "source": [
    "network.score(ohlc_test, trend_test)"
   ]
  },
  {
   "cell_type": "code",
   "execution_count": 76,
   "id": "7905b6b9",
   "metadata": {},
   "outputs": [
    {
     "name": "stderr",
     "output_type": "stream",
     "text": [
      "Feature Extraction: 100%|████████████████████████████████████████████████████████████| 508/508 [00:22<00:00, 23.04it/s]\n"
     ]
    },
    {
     "data": {
      "text/plain": [
       "array([[0.075, 0.92 , 0.005],\n",
       "       [0.06 , 0.93 , 0.01 ],\n",
       "       [0.675, 0.32 , 0.005],\n",
       "       [0.39 , 0.6  , 0.01 ],\n",
       "       [0.175, 0.815, 0.01 ],\n",
       "       [0.005, 0.505, 0.49 ],\n",
       "       [0.185, 0.805, 0.01 ],\n",
       "       [0.   , 0.005, 0.995],\n",
       "       [0.245, 0.73 , 0.025],\n",
       "       [0.12 , 0.87 , 0.01 ],\n",
       "       [0.03 , 0.965, 0.005],\n",
       "       [0.63 , 0.37 , 0.   ],\n",
       "       [0.59 , 0.41 , 0.   ],\n",
       "       [0.005, 0.405, 0.59 ],\n",
       "       [0.855, 0.145, 0.   ],\n",
       "       [0.   , 0.06 , 0.94 ],\n",
       "       [0.02 , 0.87 , 0.11 ],\n",
       "       [0.78 , 0.22 , 0.   ],\n",
       "       [0.045, 0.815, 0.14 ],\n",
       "       [0.   , 0.12 , 0.88 ],\n",
       "       [0.565, 0.43 , 0.005],\n",
       "       [0.   , 0.115, 0.885],\n",
       "       [0.735, 0.26 , 0.005],\n",
       "       [0.885, 0.115, 0.   ],\n",
       "       [0.035, 0.86 , 0.105],\n",
       "       [0.005, 0.025, 0.97 ],\n",
       "       [0.415, 0.585, 0.   ],\n",
       "       [0.115, 0.84 , 0.045],\n",
       "       [0.06 , 0.895, 0.045],\n",
       "       [0.305, 0.67 , 0.025],\n",
       "       [0.05 , 0.425, 0.525],\n",
       "       [0.   , 0.06 , 0.94 ],\n",
       "       [0.125, 0.82 , 0.055],\n",
       "       [0.015, 0.805, 0.18 ],\n",
       "       [0.935, 0.065, 0.   ],\n",
       "       [0.165, 0.785, 0.05 ],\n",
       "       [0.09 , 0.805, 0.105],\n",
       "       [0.97 , 0.03 , 0.   ],\n",
       "       [0.   , 0.05 , 0.95 ],\n",
       "       [0.455, 0.53 , 0.015],\n",
       "       [0.915, 0.085, 0.   ],\n",
       "       [0.   , 0.26 , 0.74 ],\n",
       "       [0.13 , 0.8  , 0.07 ],\n",
       "       [0.   , 0.21 , 0.79 ],\n",
       "       [0.81 , 0.19 , 0.   ],\n",
       "       [0.425, 0.54 , 0.035],\n",
       "       [0.02 , 0.57 , 0.41 ],\n",
       "       [0.03 , 0.69 , 0.28 ],\n",
       "       [0.335, 0.65 , 0.015],\n",
       "       [0.   , 0.285, 0.715],\n",
       "       [0.505, 0.49 , 0.005],\n",
       "       [0.015, 0.98 , 0.005],\n",
       "       [0.025, 0.87 , 0.105],\n",
       "       [0.055, 0.94 , 0.005],\n",
       "       [0.065, 0.935, 0.   ],\n",
       "       [0.   , 0.015, 0.985],\n",
       "       [0.62 , 0.355, 0.025],\n",
       "       [0.   , 0.005, 0.995],\n",
       "       [0.   , 0.07 , 0.93 ],\n",
       "       [0.005, 0.1  , 0.895],\n",
       "       [0.   , 0.415, 0.585],\n",
       "       [0.035, 0.945, 0.02 ],\n",
       "       [0.38 , 0.61 , 0.01 ],\n",
       "       [0.   , 0.01 , 0.99 ],\n",
       "       [0.78 , 0.215, 0.005],\n",
       "       [0.   , 0.005, 0.995],\n",
       "       [0.695, 0.305, 0.   ],\n",
       "       [0.   , 0.205, 0.795],\n",
       "       [0.05 , 0.92 , 0.03 ],\n",
       "       [0.2  , 0.785, 0.015],\n",
       "       [0.   , 0.255, 0.745],\n",
       "       [0.   , 0.165, 0.835],\n",
       "       [0.83 , 0.17 , 0.   ],\n",
       "       [0.945, 0.055, 0.   ],\n",
       "       [0.   , 0.38 , 0.62 ],\n",
       "       [0.   , 0.155, 0.845],\n",
       "       [0.   , 0.25 , 0.75 ],\n",
       "       [0.505, 0.49 , 0.005],\n",
       "       [0.14 , 0.825, 0.035],\n",
       "       [0.99 , 0.01 , 0.   ],\n",
       "       [0.085, 0.62 , 0.295],\n",
       "       [0.   , 0.2  , 0.8  ],\n",
       "       [0.   , 0.045, 0.955],\n",
       "       [0.045, 0.725, 0.23 ],\n",
       "       [0.955, 0.045, 0.   ],\n",
       "       [0.99 , 0.01 , 0.   ],\n",
       "       [0.   , 0.565, 0.435],\n",
       "       [0.16 , 0.815, 0.025],\n",
       "       [0.32 , 0.665, 0.015],\n",
       "       [0.   , 0.07 , 0.93 ],\n",
       "       [0.03 , 0.965, 0.005],\n",
       "       [0.06 , 0.54 , 0.4  ],\n",
       "       [0.94 , 0.055, 0.005],\n",
       "       [0.   , 0.035, 0.965],\n",
       "       [0.   , 0.34 , 0.66 ],\n",
       "       [0.   , 0.055, 0.945],\n",
       "       [0.105, 0.87 , 0.025],\n",
       "       [0.735, 0.265, 0.   ],\n",
       "       [0.045, 0.7  , 0.255],\n",
       "       [0.03 , 0.86 , 0.11 ],\n",
       "       [0.7  , 0.3  , 0.   ],\n",
       "       [0.015, 0.715, 0.27 ],\n",
       "       [0.015, 0.905, 0.08 ],\n",
       "       [0.845, 0.155, 0.   ],\n",
       "       [0.025, 0.97 , 0.005],\n",
       "       [0.435, 0.555, 0.01 ],\n",
       "       [0.   , 0.115, 0.885],\n",
       "       [0.99 , 0.01 , 0.   ],\n",
       "       [0.   , 0.005, 0.995],\n",
       "       [0.   , 0.1  , 0.9  ],\n",
       "       [0.04 , 0.23 , 0.73 ],\n",
       "       [0.01 , 0.285, 0.705],\n",
       "       [0.   , 0.015, 0.985],\n",
       "       [0.1  , 0.895, 0.005],\n",
       "       [0.05 , 0.94 , 0.01 ],\n",
       "       [0.875, 0.125, 0.   ],\n",
       "       [0.075, 0.915, 0.01 ],\n",
       "       [0.   , 0.01 , 0.99 ],\n",
       "       [0.1  , 0.88 , 0.02 ],\n",
       "       [0.   , 0.015, 0.985],\n",
       "       [0.005, 0.385, 0.61 ],\n",
       "       [0.015, 0.51 , 0.475],\n",
       "       [0.   , 0.34 , 0.66 ],\n",
       "       [0.82 , 0.17 , 0.01 ],\n",
       "       [0.635, 0.36 , 0.005],\n",
       "       [0.98 , 0.02 , 0.   ],\n",
       "       [0.445, 0.545, 0.01 ]])"
      ]
     },
     "execution_count": 76,
     "metadata": {},
     "output_type": "execute_result"
    }
   ],
   "source": [
    "network.predict_proba(ohlc_test)"
   ]
  },
  {
   "cell_type": "code",
   "execution_count": 77,
   "id": "d065764f",
   "metadata": {},
   "outputs": [
    {
     "data": {
      "text/plain": [
       "<zipfile.ZipFile filename='model.zip' mode='r'>"
      ]
     },
     "execution_count": 77,
     "metadata": {},
     "output_type": "execute_result"
    }
   ],
   "source": [
    "network.save('model')"
   ]
  },
  {
   "cell_type": "code",
   "execution_count": 83,
   "id": "5d638914",
   "metadata": {},
   "outputs": [],
   "source": [
    "network = TSFreshClassifier(verbose=True)"
   ]
  },
  {
   "cell_type": "code",
   "execution_count": 87,
   "id": "c4663ff1",
   "metadata": {},
   "outputs": [],
   "source": [
    "clt = network.load_from_path('model.zip')"
   ]
  },
  {
   "cell_type": "code",
   "execution_count": 88,
   "id": "7bc22c78",
   "metadata": {},
   "outputs": [
    {
     "name": "stderr",
     "output_type": "stream",
     "text": [
      "Feature Extraction: 100%|████████████████████████████████████████████████████████████| 508/508 [00:22<00:00, 22.94it/s]\n"
     ]
    },
    {
     "data": {
      "text/plain": [
       "array([[0.075, 0.92 , 0.005],\n",
       "       [0.06 , 0.93 , 0.01 ],\n",
       "       [0.675, 0.32 , 0.005],\n",
       "       [0.39 , 0.6  , 0.01 ],\n",
       "       [0.175, 0.815, 0.01 ],\n",
       "       [0.005, 0.505, 0.49 ],\n",
       "       [0.185, 0.805, 0.01 ],\n",
       "       [0.   , 0.005, 0.995],\n",
       "       [0.245, 0.73 , 0.025],\n",
       "       [0.12 , 0.87 , 0.01 ],\n",
       "       [0.03 , 0.965, 0.005],\n",
       "       [0.63 , 0.37 , 0.   ],\n",
       "       [0.59 , 0.41 , 0.   ],\n",
       "       [0.005, 0.405, 0.59 ],\n",
       "       [0.855, 0.145, 0.   ],\n",
       "       [0.   , 0.06 , 0.94 ],\n",
       "       [0.02 , 0.87 , 0.11 ],\n",
       "       [0.78 , 0.22 , 0.   ],\n",
       "       [0.045, 0.815, 0.14 ],\n",
       "       [0.   , 0.12 , 0.88 ],\n",
       "       [0.565, 0.43 , 0.005],\n",
       "       [0.   , 0.115, 0.885],\n",
       "       [0.735, 0.26 , 0.005],\n",
       "       [0.885, 0.115, 0.   ],\n",
       "       [0.035, 0.86 , 0.105],\n",
       "       [0.005, 0.025, 0.97 ],\n",
       "       [0.415, 0.585, 0.   ],\n",
       "       [0.115, 0.84 , 0.045],\n",
       "       [0.06 , 0.895, 0.045],\n",
       "       [0.305, 0.67 , 0.025],\n",
       "       [0.05 , 0.425, 0.525],\n",
       "       [0.   , 0.06 , 0.94 ],\n",
       "       [0.125, 0.82 , 0.055],\n",
       "       [0.015, 0.805, 0.18 ],\n",
       "       [0.935, 0.065, 0.   ],\n",
       "       [0.165, 0.785, 0.05 ],\n",
       "       [0.09 , 0.805, 0.105],\n",
       "       [0.97 , 0.03 , 0.   ],\n",
       "       [0.   , 0.05 , 0.95 ],\n",
       "       [0.455, 0.53 , 0.015],\n",
       "       [0.915, 0.085, 0.   ],\n",
       "       [0.   , 0.26 , 0.74 ],\n",
       "       [0.13 , 0.8  , 0.07 ],\n",
       "       [0.   , 0.21 , 0.79 ],\n",
       "       [0.81 , 0.19 , 0.   ],\n",
       "       [0.425, 0.54 , 0.035],\n",
       "       [0.02 , 0.57 , 0.41 ],\n",
       "       [0.03 , 0.69 , 0.28 ],\n",
       "       [0.335, 0.65 , 0.015],\n",
       "       [0.   , 0.285, 0.715],\n",
       "       [0.505, 0.49 , 0.005],\n",
       "       [0.015, 0.98 , 0.005],\n",
       "       [0.025, 0.87 , 0.105],\n",
       "       [0.055, 0.94 , 0.005],\n",
       "       [0.065, 0.935, 0.   ],\n",
       "       [0.   , 0.015, 0.985],\n",
       "       [0.62 , 0.355, 0.025],\n",
       "       [0.   , 0.005, 0.995],\n",
       "       [0.   , 0.07 , 0.93 ],\n",
       "       [0.005, 0.1  , 0.895],\n",
       "       [0.   , 0.415, 0.585],\n",
       "       [0.035, 0.945, 0.02 ],\n",
       "       [0.38 , 0.61 , 0.01 ],\n",
       "       [0.   , 0.01 , 0.99 ],\n",
       "       [0.78 , 0.215, 0.005],\n",
       "       [0.   , 0.005, 0.995],\n",
       "       [0.695, 0.305, 0.   ],\n",
       "       [0.   , 0.205, 0.795],\n",
       "       [0.05 , 0.92 , 0.03 ],\n",
       "       [0.2  , 0.785, 0.015],\n",
       "       [0.   , 0.255, 0.745],\n",
       "       [0.   , 0.165, 0.835],\n",
       "       [0.83 , 0.17 , 0.   ],\n",
       "       [0.945, 0.055, 0.   ],\n",
       "       [0.   , 0.38 , 0.62 ],\n",
       "       [0.   , 0.155, 0.845],\n",
       "       [0.   , 0.25 , 0.75 ],\n",
       "       [0.505, 0.49 , 0.005],\n",
       "       [0.14 , 0.825, 0.035],\n",
       "       [0.99 , 0.01 , 0.   ],\n",
       "       [0.085, 0.62 , 0.295],\n",
       "       [0.   , 0.2  , 0.8  ],\n",
       "       [0.   , 0.045, 0.955],\n",
       "       [0.045, 0.725, 0.23 ],\n",
       "       [0.955, 0.045, 0.   ],\n",
       "       [0.99 , 0.01 , 0.   ],\n",
       "       [0.   , 0.565, 0.435],\n",
       "       [0.16 , 0.815, 0.025],\n",
       "       [0.32 , 0.665, 0.015],\n",
       "       [0.   , 0.07 , 0.93 ],\n",
       "       [0.03 , 0.965, 0.005],\n",
       "       [0.06 , 0.54 , 0.4  ],\n",
       "       [0.94 , 0.055, 0.005],\n",
       "       [0.   , 0.035, 0.965],\n",
       "       [0.   , 0.34 , 0.66 ],\n",
       "       [0.   , 0.055, 0.945],\n",
       "       [0.105, 0.87 , 0.025],\n",
       "       [0.735, 0.265, 0.   ],\n",
       "       [0.045, 0.7  , 0.255],\n",
       "       [0.03 , 0.86 , 0.11 ],\n",
       "       [0.7  , 0.3  , 0.   ],\n",
       "       [0.015, 0.715, 0.27 ],\n",
       "       [0.015, 0.905, 0.08 ],\n",
       "       [0.845, 0.155, 0.   ],\n",
       "       [0.025, 0.97 , 0.005],\n",
       "       [0.435, 0.555, 0.01 ],\n",
       "       [0.   , 0.115, 0.885],\n",
       "       [0.99 , 0.01 , 0.   ],\n",
       "       [0.   , 0.005, 0.995],\n",
       "       [0.   , 0.1  , 0.9  ],\n",
       "       [0.04 , 0.23 , 0.73 ],\n",
       "       [0.01 , 0.285, 0.705],\n",
       "       [0.   , 0.015, 0.985],\n",
       "       [0.1  , 0.895, 0.005],\n",
       "       [0.05 , 0.94 , 0.01 ],\n",
       "       [0.875, 0.125, 0.   ],\n",
       "       [0.075, 0.915, 0.01 ],\n",
       "       [0.   , 0.01 , 0.99 ],\n",
       "       [0.1  , 0.88 , 0.02 ],\n",
       "       [0.   , 0.015, 0.985],\n",
       "       [0.005, 0.385, 0.61 ],\n",
       "       [0.015, 0.51 , 0.475],\n",
       "       [0.   , 0.34 , 0.66 ],\n",
       "       [0.82 , 0.17 , 0.01 ],\n",
       "       [0.635, 0.36 , 0.005],\n",
       "       [0.98 , 0.02 , 0.   ],\n",
       "       [0.445, 0.545, 0.01 ]])"
      ]
     },
     "execution_count": 88,
     "metadata": {},
     "output_type": "execute_result"
    }
   ],
   "source": [
    "clt.predict_proba(ohlc_test)"
   ]
  },
  {
   "cell_type": "code",
   "execution_count": 86,
   "id": "2dbfb390",
   "metadata": {},
   "outputs": [
    {
     "ename": "NotFittedError",
     "evalue": "This instance of TSFreshClassifier has not been fitted yet; please call `fit` first.",
     "output_type": "error",
     "traceback": [
      "\u001b[1;31m---------------------------------------------------------------------------\u001b[0m",
      "\u001b[1;31mNotFittedError\u001b[0m                            Traceback (most recent call last)",
      "Cell \u001b[1;32mIn[86], line 1\u001b[0m\n\u001b[1;32m----> 1\u001b[0m \u001b[43mnetwork\u001b[49m\u001b[38;5;241;43m.\u001b[39;49m\u001b[43mpredict_proba\u001b[49m\u001b[43m(\u001b[49m\u001b[43mohlc_test\u001b[49m\u001b[43m)\u001b[49m\n",
      "File \u001b[1;32mC:\\python\\miniconda3\\lib\\site-packages\\sktime\\classification\\base.py:263\u001b[0m, in \u001b[0;36mBaseClassifier.predict_proba\u001b[1;34m(self, X)\u001b[0m\n\u001b[0;32m    241\u001b[0m \u001b[38;5;28;01mdef\u001b[39;00m \u001b[38;5;21mpredict_proba\u001b[39m(\u001b[38;5;28mself\u001b[39m, X) \u001b[38;5;241m-\u001b[39m\u001b[38;5;241m>\u001b[39m np\u001b[38;5;241m.\u001b[39mndarray:\n\u001b[0;32m    242\u001b[0m \u001b[38;5;250m    \u001b[39m\u001b[38;5;124;03m\"\"\"Predicts labels probabilities for sequences in X.\u001b[39;00m\n\u001b[0;32m    243\u001b[0m \n\u001b[0;32m    244\u001b[0m \u001b[38;5;124;03m    Parameters\u001b[39;00m\n\u001b[1;32m   (...)\u001b[0m\n\u001b[0;32m    261\u001b[0m \u001b[38;5;124;03m        (i, j)-th entry is predictive probability that i-th instance is of class j\u001b[39;00m\n\u001b[0;32m    262\u001b[0m \u001b[38;5;124;03m    \"\"\"\u001b[39;00m\n\u001b[1;32m--> 263\u001b[0m     \u001b[38;5;28;43mself\u001b[39;49m\u001b[38;5;241;43m.\u001b[39;49m\u001b[43mcheck_is_fitted\u001b[49m\u001b[43m(\u001b[49m\u001b[43m)\u001b[49m\n\u001b[0;32m    265\u001b[0m     \u001b[38;5;66;03m# boilerplate input checks for predict-like methods\u001b[39;00m\n\u001b[0;32m    266\u001b[0m     X \u001b[38;5;241m=\u001b[39m \u001b[38;5;28mself\u001b[39m\u001b[38;5;241m.\u001b[39m_check_convert_X_for_predict(X)\n",
      "File \u001b[1;32mC:\\python\\miniconda3\\lib\\site-packages\\sktime\\base\\_base.py:378\u001b[0m, in \u001b[0;36mBaseEstimator.check_is_fitted\u001b[1;34m(self)\u001b[0m\n\u001b[0;32m    370\u001b[0m \u001b[38;5;250m\u001b[39m\u001b[38;5;124;03m\"\"\"Check if the estimator has been fitted.\u001b[39;00m\n\u001b[0;32m    371\u001b[0m \n\u001b[0;32m    372\u001b[0m \u001b[38;5;124;03mRaises\u001b[39;00m\n\u001b[1;32m   (...)\u001b[0m\n\u001b[0;32m    375\u001b[0m \u001b[38;5;124;03m    If the estimator has not been fitted yet.\u001b[39;00m\n\u001b[0;32m    376\u001b[0m \u001b[38;5;124;03m\"\"\"\u001b[39;00m\n\u001b[0;32m    377\u001b[0m \u001b[38;5;28;01mif\u001b[39;00m \u001b[38;5;129;01mnot\u001b[39;00m \u001b[38;5;28mself\u001b[39m\u001b[38;5;241m.\u001b[39mis_fitted:\n\u001b[1;32m--> 378\u001b[0m     \u001b[38;5;28;01mraise\u001b[39;00m NotFittedError(\n\u001b[0;32m    379\u001b[0m         \u001b[38;5;124mf\u001b[39m\u001b[38;5;124m\"\u001b[39m\u001b[38;5;124mThis instance of \u001b[39m\u001b[38;5;132;01m{\u001b[39;00m\u001b[38;5;28mself\u001b[39m\u001b[38;5;241m.\u001b[39m\u001b[38;5;18m__class__\u001b[39m\u001b[38;5;241m.\u001b[39m\u001b[38;5;18m__name__\u001b[39m\u001b[38;5;132;01m}\u001b[39;00m\u001b[38;5;124m has not \u001b[39m\u001b[38;5;124m\"\u001b[39m\n\u001b[0;32m    380\u001b[0m         \u001b[38;5;124mf\u001b[39m\u001b[38;5;124m\"\u001b[39m\u001b[38;5;124mbeen fitted yet; please call `fit` first.\u001b[39m\u001b[38;5;124m\"\u001b[39m\n\u001b[0;32m    381\u001b[0m     )\n",
      "\u001b[1;31mNotFittedError\u001b[0m: This instance of TSFreshClassifier has not been fitted yet; please call `fit` first."
     ]
    }
   ],
   "source": [
    "network.predict_proba(ohlc_test)"
   ]
  },
  {
   "cell_type": "code",
   "execution_count": 45,
   "id": "16e82658",
   "metadata": {},
   "outputs": [
    {
     "data": {
      "text/plain": [
       "117"
      ]
     },
     "execution_count": 45,
     "metadata": {},
     "output_type": "execute_result"
    }
   ],
   "source": [
    "list(trend_test==arr).count(True)"
   ]
  },
  {
   "cell_type": "code",
   "execution_count": 81,
   "id": "5e9491cd",
   "metadata": {},
   "outputs": [
    {
     "ename": "ValueError",
     "evalue": "Data seen by TimeSeriesForestClassifier instance has multivariate series, but this TimeSeriesForestClassifier instance cannot handle multivariate series. Calls with multivariate series may result in error or unreliable results.",
     "output_type": "error",
     "traceback": [
      "\u001b[1;31m---------------------------------------------------------------------------\u001b[0m",
      "\u001b[1;31mValueError\u001b[0m                                Traceback (most recent call last)",
      "Cell \u001b[1;32mIn[81], line 7\u001b[0m\n\u001b[0;32m      4\u001b[0m \u001b[38;5;28;01mfrom\u001b[39;00m \u001b[38;5;21;01msklearn\u001b[39;00m\u001b[38;5;21;01m.\u001b[39;00m\u001b[38;5;21;01mmetrics\u001b[39;00m \u001b[38;5;28;01mimport\u001b[39;00m accuracy_score\n\u001b[0;32m      6\u001b[0m classifier \u001b[38;5;241m=\u001b[39m TimeSeriesForestClassifier()\n\u001b[1;32m----> 7\u001b[0m \u001b[43mclassifier\u001b[49m\u001b[38;5;241;43m.\u001b[39;49m\u001b[43mfit\u001b[49m\u001b[43m(\u001b[49m\u001b[43mohlc_train\u001b[49m\u001b[43m,\u001b[49m\u001b[43m \u001b[49m\u001b[43mtrend_train\u001b[49m\u001b[43m)\u001b[49m\n\u001b[0;32m      8\u001b[0m y_pred \u001b[38;5;241m=\u001b[39m classifier\u001b[38;5;241m.\u001b[39mpredict(ohlc_test)\n\u001b[0;32m      9\u001b[0m accuracy_score(ohlc_test, y_pred)\n",
      "File \u001b[1;32mC:\\python\\miniconda3\\lib\\site-packages\\sktime\\classification\\interval_based\\_tsf.py:112\u001b[0m, in \u001b[0;36mTimeSeriesForestClassifier.fit\u001b[1;34m(self, X, y, **kwargs)\u001b[0m\n\u001b[0;32m    104\u001b[0m \u001b[38;5;28;01mdef\u001b[39;00m \u001b[38;5;21mfit\u001b[39m(\u001b[38;5;28mself\u001b[39m, X, y, \u001b[38;5;241m*\u001b[39m\u001b[38;5;241m*\u001b[39mkwargs):\n\u001b[0;32m    105\u001b[0m \u001b[38;5;250m    \u001b[39m\u001b[38;5;124;03m\"\"\"Wrap fit to call BaseClassifier.fit.\u001b[39;00m\n\u001b[0;32m    106\u001b[0m \n\u001b[0;32m    107\u001b[0m \u001b[38;5;124;03m    This is a fix to get around the problem with multiple inheritance. The problem\u001b[39;00m\n\u001b[1;32m   (...)\u001b[0m\n\u001b[0;32m    110\u001b[0m \u001b[38;5;124;03m    hacky.\u001b[39;00m\n\u001b[0;32m    111\u001b[0m \u001b[38;5;124;03m    \"\"\"\u001b[39;00m\n\u001b[1;32m--> 112\u001b[0m     \u001b[38;5;28;01mreturn\u001b[39;00m \u001b[43mBaseClassifier\u001b[49m\u001b[38;5;241;43m.\u001b[39;49m\u001b[43mfit\u001b[49m\u001b[43m(\u001b[49m\u001b[38;5;28;43mself\u001b[39;49m\u001b[43m,\u001b[49m\u001b[43m \u001b[49m\u001b[43mX\u001b[49m\u001b[38;5;241;43m=\u001b[39;49m\u001b[43mX\u001b[49m\u001b[43m,\u001b[49m\u001b[43m \u001b[49m\u001b[43my\u001b[49m\u001b[38;5;241;43m=\u001b[39;49m\u001b[43my\u001b[49m\u001b[43m,\u001b[49m\u001b[43m \u001b[49m\u001b[38;5;241;43m*\u001b[39;49m\u001b[38;5;241;43m*\u001b[39;49m\u001b[43mkwargs\u001b[49m\u001b[43m)\u001b[49m\n",
      "File \u001b[1;32mC:\\python\\miniconda3\\lib\\site-packages\\sktime\\classification\\base.py:174\u001b[0m, in \u001b[0;36mBaseClassifier.fit\u001b[1;34m(self, X, y)\u001b[0m\n\u001b[0;32m    171\u001b[0m \u001b[38;5;28mself\u001b[39m\u001b[38;5;241m.\u001b[39m_X_metadata \u001b[38;5;241m=\u001b[39m X_metadata\n\u001b[0;32m    173\u001b[0m \u001b[38;5;66;03m# Check this classifier can handle characteristics\u001b[39;00m\n\u001b[1;32m--> 174\u001b[0m \u001b[38;5;28;43mself\u001b[39;49m\u001b[38;5;241;43m.\u001b[39;49m\u001b[43m_check_capabilities\u001b[49m\u001b[43m(\u001b[49m\u001b[43mmissing\u001b[49m\u001b[43m,\u001b[49m\u001b[43m \u001b[49m\u001b[43mmultivariate\u001b[49m\u001b[43m,\u001b[49m\u001b[43m \u001b[49m\u001b[43munequal\u001b[49m\u001b[43m)\u001b[49m\n\u001b[0;32m    176\u001b[0m \u001b[38;5;66;03m# remember class labels\u001b[39;00m\n\u001b[0;32m    177\u001b[0m \u001b[38;5;28mself\u001b[39m\u001b[38;5;241m.\u001b[39mclasses_ \u001b[38;5;241m=\u001b[39m np\u001b[38;5;241m.\u001b[39munique(y)\n",
      "File \u001b[1;32mC:\\python\\miniconda3\\lib\\site-packages\\sktime\\classification\\base.py:665\u001b[0m, in \u001b[0;36mBaseClassifier._check_capabilities\u001b[1;34m(self, missing, multivariate, unequal)\u001b[0m\n\u001b[0;32m    663\u001b[0m     warn(msg)\n\u001b[0;32m    664\u001b[0m \u001b[38;5;28;01melse\u001b[39;00m:\n\u001b[1;32m--> 665\u001b[0m     \u001b[38;5;28;01mraise\u001b[39;00m \u001b[38;5;167;01mValueError\u001b[39;00m(msg)\n",
      "\u001b[1;31mValueError\u001b[0m: Data seen by TimeSeriesForestClassifier instance has multivariate series, but this TimeSeriesForestClassifier instance cannot handle multivariate series. Calls with multivariate series may result in error or unreliable results."
     ]
    }
   ],
   "source": [
    "from sktime.classification.interval_based import TimeSeriesForestClassifier\n",
    "from sktime.datasets import load_arrow_head\n",
    "from sklearn.model_selection import train_test_split\n",
    "from sklearn.metrics import accuracy_score\n",
    "\n",
    "classifier = TimeSeriesForestClassifier()\n",
    "classifier.fit(ohlc_train, trend_train)\n",
    "y_pred = classifier.predict(ohlc_test)\n",
    "accuracy_score(ohlc_test, y_pred)\n"
   ]
  },
  {
   "cell_type": "code",
   "execution_count": 63,
   "id": "424b3029",
   "metadata": {},
   "outputs": [
    {
     "ename": "ValueError",
     "evalue": "Invalid parameter avg_pool_size for object TSFreshClassifier(). Check the list of available parameters with `object.get_params().keys()`.",
     "output_type": "error",
     "traceback": [
      "\u001b[1;31m---------------------------------------------------------------------------\u001b[0m",
      "\u001b[1;31mValueError\u001b[0m                                Traceback (most recent call last)",
      "Cell \u001b[1;32mIn[63], line 3\u001b[0m\n\u001b[0;32m      1\u001b[0m param_grid \u001b[38;5;241m=\u001b[39m {\u001b[38;5;124m\"\u001b[39m\u001b[38;5;124mkernel_size\u001b[39m\u001b[38;5;124m\"\u001b[39m: [\u001b[38;5;241m7\u001b[39m,\u001b[38;5;241m11\u001b[39m], \u001b[38;5;124m\"\u001b[39m\u001b[38;5;124mavg_pool_size\u001b[39m\u001b[38;5;124m\"\u001b[39m: [\u001b[38;5;241m3\u001b[39m,\u001b[38;5;241m7\u001b[39m]}\n\u001b[0;32m      2\u001b[0m grid \u001b[38;5;241m=\u001b[39m GridSearchCV(network, param_grid\u001b[38;5;241m=\u001b[39mparam_grid, cv\u001b[38;5;241m=\u001b[39m\u001b[38;5;241m5\u001b[39m)\n\u001b[1;32m----> 3\u001b[0m \u001b[43mgrid\u001b[49m\u001b[38;5;241;43m.\u001b[39;49m\u001b[43mfit\u001b[49m\u001b[43m(\u001b[49m\u001b[43mohlc_train\u001b[49m\u001b[43m,\u001b[49m\u001b[43m \u001b[49m\u001b[43mtrend_train\u001b[49m\u001b[43m)\u001b[49m\n\u001b[0;32m      5\u001b[0m \u001b[38;5;28mprint\u001b[39m(\u001b[38;5;124m\"\u001b[39m\u001b[38;5;124mBest cross-validation accuracy: \u001b[39m\u001b[38;5;132;01m{:.2f}\u001b[39;00m\u001b[38;5;124m\"\u001b[39m\u001b[38;5;241m.\u001b[39mformat(grid\u001b[38;5;241m.\u001b[39mbest_score_))\n\u001b[0;32m      6\u001b[0m \u001b[38;5;28mprint\u001b[39m(\u001b[38;5;124m\"\u001b[39m\u001b[38;5;124mTest set score: \u001b[39m\u001b[38;5;132;01m{:.2f}\u001b[39;00m\u001b[38;5;124m\"\u001b[39m\u001b[38;5;241m.\u001b[39mformat(grid\u001b[38;5;241m.\u001b[39mscore(ohlc_test, trend_test)))\n",
      "File \u001b[1;32mC:\\python\\miniconda3\\lib\\site-packages\\sklearn\\model_selection\\_search.py:874\u001b[0m, in \u001b[0;36mBaseSearchCV.fit\u001b[1;34m(self, X, y, groups, **fit_params)\u001b[0m\n\u001b[0;32m    868\u001b[0m     results \u001b[38;5;241m=\u001b[39m \u001b[38;5;28mself\u001b[39m\u001b[38;5;241m.\u001b[39m_format_results(\n\u001b[0;32m    869\u001b[0m         all_candidate_params, n_splits, all_out, all_more_results\n\u001b[0;32m    870\u001b[0m     )\n\u001b[0;32m    872\u001b[0m     \u001b[38;5;28;01mreturn\u001b[39;00m results\n\u001b[1;32m--> 874\u001b[0m \u001b[38;5;28;43mself\u001b[39;49m\u001b[38;5;241;43m.\u001b[39;49m\u001b[43m_run_search\u001b[49m\u001b[43m(\u001b[49m\u001b[43mevaluate_candidates\u001b[49m\u001b[43m)\u001b[49m\n\u001b[0;32m    876\u001b[0m \u001b[38;5;66;03m# multimetric is determined here because in the case of a callable\u001b[39;00m\n\u001b[0;32m    877\u001b[0m \u001b[38;5;66;03m# self.scoring the return type is only known after calling\u001b[39;00m\n\u001b[0;32m    878\u001b[0m first_test_score \u001b[38;5;241m=\u001b[39m all_out[\u001b[38;5;241m0\u001b[39m][\u001b[38;5;124m\"\u001b[39m\u001b[38;5;124mtest_scores\u001b[39m\u001b[38;5;124m\"\u001b[39m]\n",
      "File \u001b[1;32mC:\\python\\miniconda3\\lib\\site-packages\\sklearn\\model_selection\\_search.py:1388\u001b[0m, in \u001b[0;36mGridSearchCV._run_search\u001b[1;34m(self, evaluate_candidates)\u001b[0m\n\u001b[0;32m   1386\u001b[0m \u001b[38;5;28;01mdef\u001b[39;00m \u001b[38;5;21m_run_search\u001b[39m(\u001b[38;5;28mself\u001b[39m, evaluate_candidates):\n\u001b[0;32m   1387\u001b[0m \u001b[38;5;250m    \u001b[39m\u001b[38;5;124;03m\"\"\"Search all candidates in param_grid\"\"\"\u001b[39;00m\n\u001b[1;32m-> 1388\u001b[0m     \u001b[43mevaluate_candidates\u001b[49m\u001b[43m(\u001b[49m\u001b[43mParameterGrid\u001b[49m\u001b[43m(\u001b[49m\u001b[38;5;28;43mself\u001b[39;49m\u001b[38;5;241;43m.\u001b[39;49m\u001b[43mparam_grid\u001b[49m\u001b[43m)\u001b[49m\u001b[43m)\u001b[49m\n",
      "File \u001b[1;32mC:\\python\\miniconda3\\lib\\site-packages\\sklearn\\model_selection\\_search.py:821\u001b[0m, in \u001b[0;36mBaseSearchCV.fit.<locals>.evaluate_candidates\u001b[1;34m(candidate_params, cv, more_results)\u001b[0m\n\u001b[0;32m    813\u001b[0m \u001b[38;5;28;01mif\u001b[39;00m \u001b[38;5;28mself\u001b[39m\u001b[38;5;241m.\u001b[39mverbose \u001b[38;5;241m>\u001b[39m \u001b[38;5;241m0\u001b[39m:\n\u001b[0;32m    814\u001b[0m     \u001b[38;5;28mprint\u001b[39m(\n\u001b[0;32m    815\u001b[0m         \u001b[38;5;124m\"\u001b[39m\u001b[38;5;124mFitting \u001b[39m\u001b[38;5;132;01m{0}\u001b[39;00m\u001b[38;5;124m folds for each of \u001b[39m\u001b[38;5;132;01m{1}\u001b[39;00m\u001b[38;5;124m candidates,\u001b[39m\u001b[38;5;124m\"\u001b[39m\n\u001b[0;32m    816\u001b[0m         \u001b[38;5;124m\"\u001b[39m\u001b[38;5;124m totalling \u001b[39m\u001b[38;5;132;01m{2}\u001b[39;00m\u001b[38;5;124m fits\u001b[39m\u001b[38;5;124m\"\u001b[39m\u001b[38;5;241m.\u001b[39mformat(\n\u001b[0;32m    817\u001b[0m             n_splits, n_candidates, n_candidates \u001b[38;5;241m*\u001b[39m n_splits\n\u001b[0;32m    818\u001b[0m         )\n\u001b[0;32m    819\u001b[0m     )\n\u001b[1;32m--> 821\u001b[0m out \u001b[38;5;241m=\u001b[39m \u001b[43mparallel\u001b[49m\u001b[43m(\u001b[49m\n\u001b[0;32m    822\u001b[0m \u001b[43m    \u001b[49m\u001b[43mdelayed\u001b[49m\u001b[43m(\u001b[49m\u001b[43m_fit_and_score\u001b[49m\u001b[43m)\u001b[49m\u001b[43m(\u001b[49m\n\u001b[0;32m    823\u001b[0m \u001b[43m        \u001b[49m\u001b[43mclone\u001b[49m\u001b[43m(\u001b[49m\u001b[43mbase_estimator\u001b[49m\u001b[43m)\u001b[49m\u001b[43m,\u001b[49m\n\u001b[0;32m    824\u001b[0m \u001b[43m        \u001b[49m\u001b[43mX\u001b[49m\u001b[43m,\u001b[49m\n\u001b[0;32m    825\u001b[0m \u001b[43m        \u001b[49m\u001b[43my\u001b[49m\u001b[43m,\u001b[49m\n\u001b[0;32m    826\u001b[0m \u001b[43m        \u001b[49m\u001b[43mtrain\u001b[49m\u001b[38;5;241;43m=\u001b[39;49m\u001b[43mtrain\u001b[49m\u001b[43m,\u001b[49m\n\u001b[0;32m    827\u001b[0m \u001b[43m        \u001b[49m\u001b[43mtest\u001b[49m\u001b[38;5;241;43m=\u001b[39;49m\u001b[43mtest\u001b[49m\u001b[43m,\u001b[49m\n\u001b[0;32m    828\u001b[0m \u001b[43m        \u001b[49m\u001b[43mparameters\u001b[49m\u001b[38;5;241;43m=\u001b[39;49m\u001b[43mparameters\u001b[49m\u001b[43m,\u001b[49m\n\u001b[0;32m    829\u001b[0m \u001b[43m        \u001b[49m\u001b[43msplit_progress\u001b[49m\u001b[38;5;241;43m=\u001b[39;49m\u001b[43m(\u001b[49m\u001b[43msplit_idx\u001b[49m\u001b[43m,\u001b[49m\u001b[43m \u001b[49m\u001b[43mn_splits\u001b[49m\u001b[43m)\u001b[49m\u001b[43m,\u001b[49m\n\u001b[0;32m    830\u001b[0m \u001b[43m        \u001b[49m\u001b[43mcandidate_progress\u001b[49m\u001b[38;5;241;43m=\u001b[39;49m\u001b[43m(\u001b[49m\u001b[43mcand_idx\u001b[49m\u001b[43m,\u001b[49m\u001b[43m \u001b[49m\u001b[43mn_candidates\u001b[49m\u001b[43m)\u001b[49m\u001b[43m,\u001b[49m\n\u001b[0;32m    831\u001b[0m \u001b[43m        \u001b[49m\u001b[38;5;241;43m*\u001b[39;49m\u001b[38;5;241;43m*\u001b[39;49m\u001b[43mfit_and_score_kwargs\u001b[49m\u001b[43m,\u001b[49m\n\u001b[0;32m    832\u001b[0m \u001b[43m    \u001b[49m\u001b[43m)\u001b[49m\n\u001b[0;32m    833\u001b[0m \u001b[43m    \u001b[49m\u001b[38;5;28;43;01mfor\u001b[39;49;00m\u001b[43m \u001b[49m\u001b[43m(\u001b[49m\u001b[43mcand_idx\u001b[49m\u001b[43m,\u001b[49m\u001b[43m \u001b[49m\u001b[43mparameters\u001b[49m\u001b[43m)\u001b[49m\u001b[43m,\u001b[49m\u001b[43m \u001b[49m\u001b[43m(\u001b[49m\u001b[43msplit_idx\u001b[49m\u001b[43m,\u001b[49m\u001b[43m \u001b[49m\u001b[43m(\u001b[49m\u001b[43mtrain\u001b[49m\u001b[43m,\u001b[49m\u001b[43m \u001b[49m\u001b[43mtest\u001b[49m\u001b[43m)\u001b[49m\u001b[43m)\u001b[49m\u001b[43m \u001b[49m\u001b[38;5;129;43;01min\u001b[39;49;00m\u001b[43m \u001b[49m\u001b[43mproduct\u001b[49m\u001b[43m(\u001b[49m\n\u001b[0;32m    834\u001b[0m \u001b[43m        \u001b[49m\u001b[38;5;28;43menumerate\u001b[39;49m\u001b[43m(\u001b[49m\u001b[43mcandidate_params\u001b[49m\u001b[43m)\u001b[49m\u001b[43m,\u001b[49m\u001b[43m \u001b[49m\u001b[38;5;28;43menumerate\u001b[39;49m\u001b[43m(\u001b[49m\u001b[43mcv\u001b[49m\u001b[38;5;241;43m.\u001b[39;49m\u001b[43msplit\u001b[49m\u001b[43m(\u001b[49m\u001b[43mX\u001b[49m\u001b[43m,\u001b[49m\u001b[43m \u001b[49m\u001b[43my\u001b[49m\u001b[43m,\u001b[49m\u001b[43m \u001b[49m\u001b[43mgroups\u001b[49m\u001b[43m)\u001b[49m\u001b[43m)\u001b[49m\n\u001b[0;32m    835\u001b[0m \u001b[43m    \u001b[49m\u001b[43m)\u001b[49m\n\u001b[0;32m    836\u001b[0m \u001b[43m\u001b[49m\u001b[43m)\u001b[49m\n\u001b[0;32m    838\u001b[0m \u001b[38;5;28;01mif\u001b[39;00m \u001b[38;5;28mlen\u001b[39m(out) \u001b[38;5;241m<\u001b[39m \u001b[38;5;241m1\u001b[39m:\n\u001b[0;32m    839\u001b[0m     \u001b[38;5;28;01mraise\u001b[39;00m \u001b[38;5;167;01mValueError\u001b[39;00m(\n\u001b[0;32m    840\u001b[0m         \u001b[38;5;124m\"\u001b[39m\u001b[38;5;124mNo fits were performed. \u001b[39m\u001b[38;5;124m\"\u001b[39m\n\u001b[0;32m    841\u001b[0m         \u001b[38;5;124m\"\u001b[39m\u001b[38;5;124mWas the CV iterator empty? \u001b[39m\u001b[38;5;124m\"\u001b[39m\n\u001b[0;32m    842\u001b[0m         \u001b[38;5;124m\"\u001b[39m\u001b[38;5;124mWere there no candidates?\u001b[39m\u001b[38;5;124m\"\u001b[39m\n\u001b[0;32m    843\u001b[0m     )\n",
      "File \u001b[1;32mC:\\python\\miniconda3\\lib\\site-packages\\sklearn\\utils\\parallel.py:63\u001b[0m, in \u001b[0;36mParallel.__call__\u001b[1;34m(self, iterable)\u001b[0m\n\u001b[0;32m     58\u001b[0m config \u001b[38;5;241m=\u001b[39m get_config()\n\u001b[0;32m     59\u001b[0m iterable_with_config \u001b[38;5;241m=\u001b[39m (\n\u001b[0;32m     60\u001b[0m     (_with_config(delayed_func, config), args, kwargs)\n\u001b[0;32m     61\u001b[0m     \u001b[38;5;28;01mfor\u001b[39;00m delayed_func, args, kwargs \u001b[38;5;129;01min\u001b[39;00m iterable\n\u001b[0;32m     62\u001b[0m )\n\u001b[1;32m---> 63\u001b[0m \u001b[38;5;28;01mreturn\u001b[39;00m \u001b[38;5;28;43msuper\u001b[39;49m\u001b[43m(\u001b[49m\u001b[43m)\u001b[49m\u001b[38;5;241;43m.\u001b[39;49m\u001b[38;5;21;43m__call__\u001b[39;49m\u001b[43m(\u001b[49m\u001b[43miterable_with_config\u001b[49m\u001b[43m)\u001b[49m\n",
      "File \u001b[1;32mC:\\python\\miniconda3\\lib\\site-packages\\joblib\\parallel.py:1855\u001b[0m, in \u001b[0;36mParallel.__call__\u001b[1;34m(self, iterable)\u001b[0m\n\u001b[0;32m   1853\u001b[0m     output \u001b[38;5;241m=\u001b[39m \u001b[38;5;28mself\u001b[39m\u001b[38;5;241m.\u001b[39m_get_sequential_output(iterable)\n\u001b[0;32m   1854\u001b[0m     \u001b[38;5;28mnext\u001b[39m(output)\n\u001b[1;32m-> 1855\u001b[0m     \u001b[38;5;28;01mreturn\u001b[39;00m output \u001b[38;5;28;01mif\u001b[39;00m \u001b[38;5;28mself\u001b[39m\u001b[38;5;241m.\u001b[39mreturn_generator \u001b[38;5;28;01melse\u001b[39;00m \u001b[38;5;28;43mlist\u001b[39;49m\u001b[43m(\u001b[49m\u001b[43moutput\u001b[49m\u001b[43m)\u001b[49m\n\u001b[0;32m   1857\u001b[0m \u001b[38;5;66;03m# Let's create an ID that uniquely identifies the current call. If the\u001b[39;00m\n\u001b[0;32m   1858\u001b[0m \u001b[38;5;66;03m# call is interrupted early and that the same instance is immediately\u001b[39;00m\n\u001b[0;32m   1859\u001b[0m \u001b[38;5;66;03m# re-used, this id will be used to prevent workers that were\u001b[39;00m\n\u001b[0;32m   1860\u001b[0m \u001b[38;5;66;03m# concurrently finalizing a task from the previous call to run the\u001b[39;00m\n\u001b[0;32m   1861\u001b[0m \u001b[38;5;66;03m# callback.\u001b[39;00m\n\u001b[0;32m   1862\u001b[0m \u001b[38;5;28;01mwith\u001b[39;00m \u001b[38;5;28mself\u001b[39m\u001b[38;5;241m.\u001b[39m_lock:\n",
      "File \u001b[1;32mC:\\python\\miniconda3\\lib\\site-packages\\joblib\\parallel.py:1784\u001b[0m, in \u001b[0;36mParallel._get_sequential_output\u001b[1;34m(self, iterable)\u001b[0m\n\u001b[0;32m   1782\u001b[0m \u001b[38;5;28mself\u001b[39m\u001b[38;5;241m.\u001b[39mn_dispatched_batches \u001b[38;5;241m+\u001b[39m\u001b[38;5;241m=\u001b[39m \u001b[38;5;241m1\u001b[39m\n\u001b[0;32m   1783\u001b[0m \u001b[38;5;28mself\u001b[39m\u001b[38;5;241m.\u001b[39mn_dispatched_tasks \u001b[38;5;241m+\u001b[39m\u001b[38;5;241m=\u001b[39m \u001b[38;5;241m1\u001b[39m\n\u001b[1;32m-> 1784\u001b[0m res \u001b[38;5;241m=\u001b[39m \u001b[43mfunc\u001b[49m\u001b[43m(\u001b[49m\u001b[38;5;241;43m*\u001b[39;49m\u001b[43margs\u001b[49m\u001b[43m,\u001b[49m\u001b[43m \u001b[49m\u001b[38;5;241;43m*\u001b[39;49m\u001b[38;5;241;43m*\u001b[39;49m\u001b[43mkwargs\u001b[49m\u001b[43m)\u001b[49m\n\u001b[0;32m   1785\u001b[0m \u001b[38;5;28mself\u001b[39m\u001b[38;5;241m.\u001b[39mn_completed_tasks \u001b[38;5;241m+\u001b[39m\u001b[38;5;241m=\u001b[39m \u001b[38;5;241m1\u001b[39m\n\u001b[0;32m   1786\u001b[0m \u001b[38;5;28mself\u001b[39m\u001b[38;5;241m.\u001b[39mprint_progress()\n",
      "File \u001b[1;32mC:\\python\\miniconda3\\lib\\site-packages\\sklearn\\utils\\parallel.py:123\u001b[0m, in \u001b[0;36m_FuncWrapper.__call__\u001b[1;34m(self, *args, **kwargs)\u001b[0m\n\u001b[0;32m    121\u001b[0m     config \u001b[38;5;241m=\u001b[39m {}\n\u001b[0;32m    122\u001b[0m \u001b[38;5;28;01mwith\u001b[39;00m config_context(\u001b[38;5;241m*\u001b[39m\u001b[38;5;241m*\u001b[39mconfig):\n\u001b[1;32m--> 123\u001b[0m     \u001b[38;5;28;01mreturn\u001b[39;00m \u001b[38;5;28;43mself\u001b[39;49m\u001b[38;5;241;43m.\u001b[39;49m\u001b[43mfunction\u001b[49m\u001b[43m(\u001b[49m\u001b[38;5;241;43m*\u001b[39;49m\u001b[43margs\u001b[49m\u001b[43m,\u001b[49m\u001b[43m \u001b[49m\u001b[38;5;241;43m*\u001b[39;49m\u001b[38;5;241;43m*\u001b[39;49m\u001b[43mkwargs\u001b[49m\u001b[43m)\u001b[49m\n",
      "File \u001b[1;32mC:\\python\\miniconda3\\lib\\site-packages\\sklearn\\model_selection\\_validation.py:674\u001b[0m, in \u001b[0;36m_fit_and_score\u001b[1;34m(estimator, X, y, scorer, train, test, verbose, parameters, fit_params, return_train_score, return_parameters, return_n_test_samples, return_times, return_estimator, split_progress, candidate_progress, error_score)\u001b[0m\n\u001b[0;32m    671\u001b[0m     \u001b[38;5;28;01mfor\u001b[39;00m k, v \u001b[38;5;129;01min\u001b[39;00m parameters\u001b[38;5;241m.\u001b[39mitems():\n\u001b[0;32m    672\u001b[0m         cloned_parameters[k] \u001b[38;5;241m=\u001b[39m clone(v, safe\u001b[38;5;241m=\u001b[39m\u001b[38;5;28;01mFalse\u001b[39;00m)\n\u001b[1;32m--> 674\u001b[0m     estimator \u001b[38;5;241m=\u001b[39m \u001b[43mestimator\u001b[49m\u001b[38;5;241;43m.\u001b[39;49m\u001b[43mset_params\u001b[49m\u001b[43m(\u001b[49m\u001b[38;5;241;43m*\u001b[39;49m\u001b[38;5;241;43m*\u001b[39;49m\u001b[43mcloned_parameters\u001b[49m\u001b[43m)\u001b[49m\n\u001b[0;32m    676\u001b[0m start_time \u001b[38;5;241m=\u001b[39m time\u001b[38;5;241m.\u001b[39mtime()\n\u001b[0;32m    678\u001b[0m X_train, y_train \u001b[38;5;241m=\u001b[39m _safe_split(estimator, X, y, train)\n",
      "File \u001b[1;32mC:\\python\\miniconda3\\lib\\site-packages\\skbase\\base\\_base.py:397\u001b[0m, in \u001b[0;36mBaseObject.set_params\u001b[1;34m(self, **params)\u001b[0m\n\u001b[0;32m    395\u001b[0m key, delim, sub_key \u001b[38;5;241m=\u001b[39m key\u001b[38;5;241m.\u001b[39mpartition(\u001b[38;5;124m\"\u001b[39m\u001b[38;5;124m__\u001b[39m\u001b[38;5;124m\"\u001b[39m)\n\u001b[0;32m    396\u001b[0m \u001b[38;5;28;01mif\u001b[39;00m key \u001b[38;5;129;01mnot\u001b[39;00m \u001b[38;5;129;01min\u001b[39;00m valid_params:\n\u001b[1;32m--> 397\u001b[0m     \u001b[38;5;28;01mraise\u001b[39;00m \u001b[38;5;167;01mValueError\u001b[39;00m(\n\u001b[0;32m    398\u001b[0m         \u001b[38;5;124m\"\u001b[39m\u001b[38;5;124mInvalid parameter \u001b[39m\u001b[38;5;132;01m%s\u001b[39;00m\u001b[38;5;124m for object \u001b[39m\u001b[38;5;132;01m%s\u001b[39;00m\u001b[38;5;124m. \u001b[39m\u001b[38;5;124m\"\u001b[39m\n\u001b[0;32m    399\u001b[0m         \u001b[38;5;124m\"\u001b[39m\u001b[38;5;124mCheck the list of available parameters \u001b[39m\u001b[38;5;124m\"\u001b[39m\n\u001b[0;32m    400\u001b[0m         \u001b[38;5;124m\"\u001b[39m\u001b[38;5;124mwith `object.get_params().keys()`.\u001b[39m\u001b[38;5;124m\"\u001b[39m \u001b[38;5;241m%\u001b[39m (key, \u001b[38;5;28mself\u001b[39m)\n\u001b[0;32m    401\u001b[0m     )\n\u001b[0;32m    403\u001b[0m \u001b[38;5;28;01mif\u001b[39;00m delim:\n\u001b[0;32m    404\u001b[0m     nested_params[key][sub_key] \u001b[38;5;241m=\u001b[39m value\n",
      "\u001b[1;31mValueError\u001b[0m: Invalid parameter avg_pool_size for object TSFreshClassifier(). Check the list of available parameters with `object.get_params().keys()`."
     ]
    }
   ],
   "source": [
    "param_grid = {\"kernel_size\": [7,11], \"avg_pool_size\": [3,7]}\n",
    "grid = GridSearchCV(network, param_grid=param_grid, cv=5)\n",
    "grid.fit(ohlc_train, trend_train)\n",
    "\n",
    "print(\"Best cross-validation accuracy: {:.2f}\".format(grid.best_score_))\n",
    "print(\"Test set score: {:.2f}\".format(grid.score(ohlc_test, trend_test)))\n",
    "print(\"Best parameters: {}\".format(grid.best_params_))"
   ]
  },
  {
   "cell_type": "code",
   "execution_count": 32,
   "id": "3e45cae4",
   "metadata": {},
   "outputs": [],
   "source": [
    "from sktime.classification.interval_based import TimeSeriesForestClassifier\n",
    "from sktime.datasets import load_arrow_head\n",
    "from sklearn.model_selection import train_test_split\n",
    "from sklearn.metrics import accuracy_score\n",
    "\n",
    "X, y = load_arrow_head()\n",
    "X_train, X_test, y_train, y_test = train_test_split(X, y)"
   ]
  },
  {
   "cell_type": "code",
   "execution_count": 79,
   "id": "1594bf69",
   "metadata": {},
   "outputs": [
    {
     "data": {
      "text/plain": [
       "(295, 4, 50)"
      ]
     },
     "execution_count": 79,
     "metadata": {},
     "output_type": "execute_result"
    }
   ],
   "source": [
    "ohlc_train.shape"
   ]
  },
  {
   "cell_type": "code",
   "execution_count": 80,
   "id": "8127ef67",
   "metadata": {},
   "outputs": [
    {
     "data": {
      "text/plain": [
       "(127, 4, 50)"
      ]
     },
     "execution_count": 80,
     "metadata": {},
     "output_type": "execute_result"
    }
   ],
   "source": [
    "ohlc_test.shape"
   ]
  },
  {
   "cell_type": "code",
   "execution_count": 18,
   "id": "eaeb7300",
   "metadata": {},
   "outputs": [
    {
     "name": "stdout",
     "output_type": "stream",
     "text": [
      "(36, 1, 251) (36,) (175, 1, 251) (175,)\n"
     ]
    },
    {
     "data": {
      "text/plain": [
       "[<matplotlib.lines.Line2D at 0x276265995b0>]"
      ]
     },
     "execution_count": 18,
     "metadata": {},
     "output_type": "execute_result"
    },
    {
     "data": {
      "image/png": "[encoded data removed]",
      "text/plain": [
       "<Figure size 640x480 with 1 Axes>"
      ]
     },
     "metadata": {},
     "output_type": "display_data"
    }
   ],
   "source": [
    "# Load all arrow head\n",
    "arrow_X, arrow_y = load_arrow_head(return_type=\"numpy3d\")\n",
    "# Load default train/test splits from sktime/datasets/data\n",
    "arrow_train_X, arrow_train_y = load_arrow_head(split=\"train\", return_type=\"numpy3d\")\n",
    "arrow_test_X, arrow_test_y = load_arrow_head(split=\"test\", return_type=\"numpy3d\")\n",
    "print(arrow_train_X.shape, arrow_train_y.shape, arrow_test_X.shape, arrow_test_y.shape)\n",
    "plt.title(\"First instance in ArrowHead data\")\n",
    "plt.plot(arrow_train_X[0, 0])"
   ]
  },
  {
   "cell_type": "code",
   "execution_count": 19,
   "id": "edbb39c5",
   "metadata": {},
   "outputs": [],
   "source": [
    "motions_X, motions_Y = load_basic_motions(return_type=\"numpy3d\")"
   ]
  },
  {
   "cell_type": "code",
   "execution_count": 21,
   "id": "4046fbe2",
   "metadata": {},
   "outputs": [
    {
     "data": {
      "text/plain": [
       "(80, 6, 100)"
      ]
     },
     "execution_count": 21,
     "metadata": {},
     "output_type": "execute_result"
    }
   ],
   "source": [
    "motions_X.shape"
   ]
  },
  {
   "cell_type": "code",
   "execution_count": 25,
   "id": "3c2ac7b8",
   "metadata": {},
   "outputs": [
    {
     "data": {
      "text/plain": [
       "array([[ 7.910600e-02,  7.910600e-02, -9.034970e-01,  1.116125e+00,\n",
       "         1.638200e+00,  1.003448e+00,  2.877400e-02,  3.005000e-02,\n",
       "        -1.204850e-01, -1.204850e-01,  6.674960e-01, -3.128150e-01,\n",
       "        -3.206400e-02,  4.626540e-01,  4.626540e-01,  5.072600e-01,\n",
       "         3.817740e-01, -1.731090e-01,  7.556600e-02,  1.826020e-01,\n",
       "         2.413390e-01,  1.288280e-01, -5.551000e-03, -2.343810e-01,\n",
       "        -6.006100e-02,  1.343050e-01, -1.192170e-01, -1.184150e-01,\n",
       "        -3.485700e-02, -1.527360e-01, -3.027500e-01, -2.582840e-01,\n",
       "        -1.530460e-01, -1.839760e-01, -1.609710e-01, -2.415540e-01,\n",
       "        -1.260500e-01, -4.755800e-02, -1.806560e-01, -2.233210e-01,\n",
       "        -2.695440e-01, -1.322180e-01, -2.475980e-01, -1.671510e-01,\n",
       "        -2.267870e-01, -2.267870e-01, -2.211940e-01, -1.245250e-01,\n",
       "        -2.153840e-01, -2.923420e-01, -2.096000e-01, -3.502830e-01,\n",
       "        -2.123050e-01, -1.019160e-01, -1.254740e-01, -1.713080e-01,\n",
       "        -3.927370e-01, -3.337020e-01, -4.904700e-02, -1.613840e-01,\n",
       "        -3.329130e-01, -3.235730e-01, -2.607460e-01, -3.860390e-01,\n",
       "         7.395600e-02,  1.322800e-02, -1.349010e-01, -1.144470e-01,\n",
       "        -1.517360e-01, -2.653120e-01, -2.653120e-01, -1.925060e-01,\n",
       "         6.082000e-03,  6.082000e-03, -5.663500e-02, -2.093980e-01,\n",
       "        -1.602160e-01, -1.358510e-01, -2.798800e-01, -1.814340e-01,\n",
       "        -1.298740e-01, -4.172500e-02, -1.765480e-01, -2.577860e-01,\n",
       "        -2.577860e-01, -2.397070e-01, -2.163720e-01, -8.794000e-02,\n",
       "        -2.272590e-01, -1.433740e-01, -3.089630e-01, -2.699680e-01,\n",
       "        -1.910180e-01, -2.442400e-01, -2.092000e-01, -1.679180e-01,\n",
       "        -2.276700e-01, -1.932710e-01, -1.932710e-01, -2.051500e-01],\n",
       "       [ 3.940320e-01,  3.940320e-01, -3.666397e+00, -6.561010e-01,\n",
       "         1.405135e+00,  2.220504e+00,  3.248704e+00,  3.020615e+00,\n",
       "         1.957117e+00,  1.957117e+00, -1.956176e+00, -3.138694e+00,\n",
       "        -2.905234e+00, -1.249818e+00, -1.249818e+00,  9.029840e-01,\n",
       "         2.535184e+00,  2.947793e+00,  2.535360e+00,  1.058201e+00,\n",
       "         9.782500e-02, -1.498574e+00, -1.912198e+00, -1.189464e+00,\n",
       "         4.835800e-02,  1.049725e+00,  1.632314e+00,  1.497473e+00,\n",
       "         7.729370e-01,  2.082210e-01, -1.244390e-01, -3.240370e-01,\n",
       "        -4.404940e-01, -9.376000e-02,  2.721780e-01,  4.105780e-01,\n",
       "         6.309900e-01,  3.040980e-01,  4.526310e-01,  5.536900e-02,\n",
       "        -1.954260e-01, -1.080850e-01,  5.122000e-02,  4.950860e-01,\n",
       "         5.824790e-01,  5.824790e-01,  5.353990e-01,  2.546730e-01,\n",
       "         4.514700e-02,  1.266480e-01, -1.176300e-02, -6.780200e-02,\n",
       "         6.254300e-02,  4.119100e-02,  2.925360e-01,  5.665930e-01,\n",
       "         4.028800e-01, -9.530900e-02, -6.713820e-01, -2.991120e-01,\n",
       "         2.649130e-01,  9.793250e-01,  5.857940e-01, -2.867320e-01,\n",
       "        -6.849110e-01, -7.023810e-01,  6.329700e-02,  6.859510e-01,\n",
       "         1.384099e+00,  1.393837e+00,  1.393837e+00, -5.261920e-01,\n",
       "        -1.453164e+00, -1.453164e+00, -1.491239e+00, -5.881880e-01,\n",
       "         5.423800e-01,  9.769720e-01,  1.021334e+00,  5.461160e-01,\n",
       "        -4.861000e-03, -4.852680e-01, -2.691330e-01, -1.626420e-01,\n",
       "        -1.626420e-01,  4.260150e-01,  5.450450e-01,  3.058030e-01,\n",
       "         7.209700e-02, -7.118600e-02, -1.246470e-01, -6.524100e-02,\n",
       "        -3.247700e-02,  1.526390e-01,  3.387000e-01,  2.240850e-01,\n",
       "         1.183920e-01,  5.522700e-02,  5.522700e-02, -3.390000e-03],\n",
       "       [ 5.514440e-01,  5.514440e-01, -2.828440e-01,  3.331180e-01,\n",
       "         3.938750e-01,  3.076500e-02, -3.135290e-01, -1.581368e+00,\n",
       "        -1.046431e+00, -1.046431e+00,  5.279990e-01,  1.025005e+00,\n",
       "         6.903800e-01,  1.044100e-02,  1.044100e-02, -3.184850e-01,\n",
       "        -3.399220e-01, -6.027180e-01, -5.372570e-01,  3.200500e-02,\n",
       "         3.850680e-01,  8.088220e-01,  9.452140e-01,  3.180300e-01,\n",
       "        -1.637240e-01, -3.677030e-01, -5.047330e-01, -2.936170e-01,\n",
       "         8.929000e-03,  4.387560e-01,  4.355760e-01,  3.744930e-01,\n",
       "         5.710500e-02, -7.031400e-02, -2.067310e-01, -6.270700e-02,\n",
       "         3.438400e-02, -1.983500e-02,  1.470440e-01,  1.540540e-01,\n",
       "         2.239950e-01,  3.445300e-02, -1.403650e-01, -1.045810e-01,\n",
       "        -1.108290e-01, -1.108290e-01,  1.114170e-01,  9.201600e-02,\n",
       "         7.504500e-02,  9.800500e-02,  1.791580e-01,  1.191410e-01,\n",
       "        -1.005710e-01, -2.179360e-01, -1.645870e-01,  1.223300e-02,\n",
       "         2.448410e-01,  3.483750e-01,  1.541060e-01, -3.542400e-02,\n",
       "        -2.548280e-01, -2.355350e-01, -3.600000e-03,  1.548360e-01,\n",
       "         4.253220e-01,  6.962800e-02,  4.360000e-03, -2.410980e-01,\n",
       "        -4.099350e-01, -3.775900e-01, -3.775900e-01,  2.596870e-01,\n",
       "         7.337380e-01,  7.337380e-01,  2.617850e-01, -1.873120e-01,\n",
       "        -4.548730e-01, -3.860070e-01, -1.169380e-01,  2.546600e-02,\n",
       "         2.074660e-01,  1.479200e-01,  4.136400e-02, -1.369430e-01,\n",
       "        -1.369430e-01, -1.269090e-01, -1.976400e-02,  4.661000e-02,\n",
       "         1.183450e-01,  4.398300e-02, -1.326560e-01, -7.248000e-02,\n",
       "        -3.931600e-02,  4.918600e-02,  8.210500e-02,  3.988900e-02,\n",
       "        -8.859400e-02, -4.153000e-02, -4.153000e-02, -1.511300e-02],\n",
       "       [ 3.515650e-01,  3.515650e-01, -9.588100e-02,  1.624657e+00,\n",
       "         1.187864e+00,  1.004091e+00,  3.409120e-01, -3.116150e-01,\n",
       "        -3.489020e-01, -3.489020e-01, -2.263870e-01, -1.012080e-01,\n",
       "        -7.990000e-03,  3.995100e-02,  3.995100e-02,  3.515650e-01,\n",
       "         3.781990e-01,  7.990100e-02,  2.397000e-02, -1.944260e-01,\n",
       "        -1.890990e-01, -1.624660e-01, -8.789100e-02, -2.530200e-01,\n",
       "        -1.358320e-01, -1.864400e-02,  6.392100e-02,  2.610100e-01,\n",
       "         1.598020e-01, -2.130700e-02, -2.130700e-01, -8.256500e-02,\n",
       "        -4.794100e-02, -2.130700e-02, -2.929700e-02,  2.663400e-02,\n",
       "         1.890990e-01,  1.198520e-01,  9.588100e-02,  7.723800e-02,\n",
       "         1.091980e-01,  5.326700e-02, -2.663000e-03,  1.012080e-01,\n",
       "         2.130700e-02,  2.130700e-02,  6.392100e-02,  6.392100e-02,\n",
       "         3.595550e-01,  3.861890e-01,  1.970900e-01, -5.406650e-01,\n",
       "        -2.397040e-01, -3.062880e-01, -8.522800e-02, -9.321800e-02,\n",
       "         7.990000e-03,  6.392100e-02, -3.462400e-02, -1.464860e-01,\n",
       "        -1.411590e-01, -1.171880e-01, -1.251790e-01,  1.837730e-01,\n",
       "         3.116150e-01,  7.990100e-02,  1.544760e-01,  0.000000e+00,\n",
       "        -3.968430e-01, -4.394560e-01, -4.394560e-01, -3.462400e-02,\n",
       "         3.089510e-01,  3.089510e-01, -2.210600e-01, -1.491490e-01,\n",
       "        -1.651290e-01,  1.784460e-01,  1.890990e-01,  1.917630e-01,\n",
       "         1.944260e-01, -3.995100e-02, -2.663400e-02,  4.527700e-02,\n",
       "         4.527700e-02,  1.331700e-02,  5.327000e-03,  6.125800e-02,\n",
       "        -4.261400e-02, -7.723800e-02, -1.864400e-02,  1.331700e-02,\n",
       "         1.065300e-02,  3.728700e-02,  0.000000e+00,  3.995100e-02,\n",
       "        -2.929700e-02,  0.000000e+00,  0.000000e+00, -7.990000e-03],\n",
       "       [ 2.397000e-02,  2.397000e-02, -3.196050e-01, -5.699620e-01,\n",
       "        -2.716640e-01, -4.794100e-02,  1.624660e-01, -1.331700e-02,\n",
       "        -1.438220e-01, -1.438220e-01, -3.116150e-01, -5.593100e-02,\n",
       "         1.917630e-01,  2.130700e-01,  2.130700e-01,  1.970900e-01,\n",
       "         1.171880e-01,  7.990000e-03, -1.624660e-01, -2.423670e-01,\n",
       "        -2.530200e-01, -1.784460e-01,  2.663000e-03,  2.476940e-01,\n",
       "         2.849810e-01,  1.518120e-01,  4.261400e-02, -1.518120e-01,\n",
       "        -2.024160e-01, -1.251790e-01, -6.658400e-02,  7.990100e-02,\n",
       "         1.278420e-01,  6.924800e-02,  3.728700e-02, -4.794100e-02,\n",
       "        -5.060400e-02, -3.462400e-02, -3.196000e-02, -1.065300e-02,\n",
       "         7.990000e-03,  6.924800e-02,  2.929700e-02,  0.000000e+00,\n",
       "        -3.462400e-02, -3.462400e-02, -6.392100e-02, -1.598000e-02,\n",
       "        -5.327000e-03, -1.065300e-02, -1.065300e-02, -2.663400e-02,\n",
       "         4.794100e-02, -1.065300e-02, -5.060400e-02, -8.522800e-02,\n",
       "        -1.038720e-01,  0.000000e+00,  6.392100e-02,  6.658400e-02,\n",
       "         7.723800e-02, -5.327000e-03, -4.794100e-02, -9.055500e-02,\n",
       "        -7.990000e-03,  2.929700e-02,  1.038720e-01,  1.145250e-01,\n",
       "         1.171880e-01,  2.663000e-03,  2.663000e-03, -1.331690e-01,\n",
       "        -8.789100e-02, -8.789100e-02,  1.704560e-01,  1.784460e-01,\n",
       "         9.588100e-02, -4.261400e-02, -7.191100e-02, -7.990100e-02,\n",
       "        -5.060400e-02,  0.000000e+00,  4.794100e-02,  3.462400e-02,\n",
       "         3.462400e-02, -2.130700e-02, -3.196000e-02, -7.990000e-03,\n",
       "        -2.663000e-03,  4.794100e-02,  3.462400e-02, -2.663000e-03,\n",
       "        -2.663400e-02, -3.995100e-02, -1.331700e-02, -1.065300e-02,\n",
       "         5.327000e-03, -1.331700e-02, -1.331700e-02, -1.065300e-02],\n",
       "       [ 6.338830e-01,  6.338830e-01,  9.721310e-01,  1.209171e+00,\n",
       "         1.739182e+00,  1.499479e+00,  4.288030e-01, -2.823180e-01,\n",
       "        -9.268540e-01, -9.268540e-01, -1.267765e+00, -6.631800e-01,\n",
       "         1.438220e-01,  1.025398e+00,  1.025398e+00,  1.395607e+00,\n",
       "         1.201181e+00,  3.542290e-01, -2.183970e-01, -8.655960e-01,\n",
       "        -1.049369e+00, -8.522790e-01, -3.648820e-01,  3.808620e-01,\n",
       "         6.924770e-01,  6.898140e-01,  4.474470e-01,  4.527700e-02,\n",
       "        -2.929710e-01, -2.743270e-01, -1.997530e-01, -2.104060e-01,\n",
       "         5.327000e-03,  1.784460e-01,  2.237230e-01,  1.225150e-01,\n",
       "         2.929700e-02, -5.593100e-02, -7.990100e-02, -1.651290e-01,\n",
       "        -1.757830e-01,  2.929700e-02,  1.651290e-01,  1.571390e-01,\n",
       "         1.171880e-01,  1.171880e-01, -5.060400e-02, -1.251790e-01,\n",
       "        -1.944260e-01, -1.890990e-01, -1.145250e-01,  1.091980e-01,\n",
       "         1.305050e-01,  1.251790e-01,  8.789100e-02, -5.327000e-03,\n",
       "        -2.237230e-01, -3.675450e-01, -1.784460e-01,  1.704560e-01,\n",
       "         3.382480e-01,  2.237230e-01, -1.917630e-01, -4.234760e-01,\n",
       "        -3.302580e-01,  1.864360e-01,  3.036240e-01,  3.462380e-01,\n",
       "         3.755360e-01, -2.663000e-03, -2.663000e-03, -7.404180e-01,\n",
       "        -6.578530e-01, -6.578530e-01,  1.171880e-01,  4.873970e-01,\n",
       "         5.406650e-01,  2.423670e-01, -5.859400e-02, -2.476940e-01,\n",
       "        -2.982980e-01, -1.917630e-01,  5.859400e-02,  1.598020e-01,\n",
       "         1.598020e-01,  1.438220e-01,  3.196000e-02, -1.145250e-01,\n",
       "        -1.305050e-01, -1.091980e-01, -3.995100e-02, -2.663000e-03,\n",
       "         4.794100e-02,  7.191100e-02,  6.392100e-02, -2.130700e-02,\n",
       "        -4.261400e-02, -6.392100e-02, -6.392100e-02, -3.196000e-02]])"
      ]
     },
     "execution_count": 25,
     "metadata": {},
     "output_type": "execute_result"
    }
   ],
   "source": [
    "motions_X[0]"
   ]
  },
  {
   "cell_type": "code",
   "execution_count": null,
   "id": "0e5bfe4a",
   "metadata": {},
   "outputs": [],
   "source": []
  }
 ],
 "metadata": {
  "kernelspec": {
   "display_name": "Python 3 (ipykernel)",
   "language": "python",
   "name": "python3"
  },
  "language_info": {
   "codemirror_mode": {
    "name": "ipython",
    "version": 3
   },
   "file_extension": ".py",
   "mimetype": "text/x-python",
   "name": "python",
   "nbconvert_exporter": "python",
   "pygments_lexer": "ipython3",
   "version": "3.8.15"
  }
 },
 "nbformat": 4,
 "nbformat_minor": 5
}
