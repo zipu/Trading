{
 "cells": [
  {
   "cell_type": "code",
   "execution_count": 1,
   "id": "551c9a34",
   "metadata": {},
   "outputs": [],
   "source": [
    "%matplotlib inline\n",
    "import sys, os\n",
    "sys.path.append('../../')\n",
    "import h5py\n",
    "import numpy as np\n",
    "import pandas as pd\n",
    "from datetime import datetime\n",
    "import matplotlib.pyplot as plt\n",
    "from decimal import Decimal\n",
    "#from tools import OHLC, Density\n",
    "#from tools import open_file, products\n",
    "from tools.instruments import instruments\n",
    "from tools.display import highchart\n",
    "from tools.datatools import norm\n",
    "from IPython.display import clear_output\n",
    "import time"
   ]
  },
  {
   "cell_type": "code",
   "execution_count": 2,
   "id": "67f34d60",
   "metadata": {},
   "outputs": [],
   "source": [
    "from sktime.base import load\n",
    "from sktime.classification.deep_learning.cnn import CNNClassifier"
   ]
  },
  {
   "cell_type": "markdown",
   "id": "b99f7ea2",
   "metadata": {},
   "source": [
    "* 모델 로드"
   ]
  },
  {
   "cell_type": "code",
   "execution_count": 3,
   "id": "f2139018",
   "metadata": {},
   "outputs": [],
   "source": [
    "period  = 200\n",
    "modelfile = os.path.join('..','..','data','trend index','models',f'trend_{period}day')\n",
    "model = load(modelfile)"
   ]
  },
  {
   "cell_type": "code",
   "execution_count": 4,
   "id": "32939c9c",
   "metadata": {},
   "outputs": [],
   "source": [
    "savefilepath = os.path.join('..','..','data','trend index','trend_index.hdf')\n",
    "#savefile = h5py.File(savefilepath, 'a')"
   ]
  },
  {
   "cell_type": "code",
   "execution_count": 5,
   "id": "bb2c3fcf",
   "metadata": {},
   "outputs": [],
   "source": [
    "quotes = instruments.quotes(fields='ohlc')"
   ]
  },
  {
   "cell_type": "code",
   "execution_count": 6,
   "id": "c1164b8d",
   "metadata": {},
   "outputs": [
    {
     "name": "stdout",
     "output_type": "stream",
     "text": [
      "AD\n",
      "확률 생성중\n",
      "2180/2180 [==============================] - 2s 698us/step\n",
      "BO\n",
      "확률 생성중\n",
      "3824/3824 [==============================] - 3s 724us/step\n",
      "BP\n",
      "확률 생성중\n",
      "2908/2908 [==============================] - 2s 702us/step\n",
      "C\n",
      "확률 생성중\n",
      "3878/3878 [==============================] - 3s 699us/step\n",
      "CC\n",
      "확률 생성중\n",
      "3232/3232 [==============================] - 2s 707us/step\n",
      "CD\n",
      "확률 생성중\n",
      "2797/2797 [==============================] - 2s 701us/step\n",
      "CL\n",
      "확률 생성중\n",
      "2408/2408 [==============================] - 2s 739us/step\n",
      "CT\n",
      "확률 생성중\n",
      "3114/3114 [==============================] - 2s 785us/step\n",
      "DX\n",
      "확률 생성중\n",
      "1455/1455 [==============================] - 1s 768us/step\n",
      "EC\n",
      "확률 생성중\n",
      "1424/1424 [==============================] - 1s 795us/step\n",
      "ES\n",
      "확률 생성중\n",
      "1524/1524 [==============================] - 1s 760us/step\n",
      "FV\n",
      "확률 생성중\n",
      "2087/2087 [==============================] - 1s 701us/step\n",
      "GC\n",
      "확률 생성중\n",
      "2927/2927 [==============================] - 2s 715us/step\n",
      "HG\n",
      "확률 생성중\n",
      "3884/3884 [==============================] - 3s 704us/step\n",
      "HO\n",
      "확률 생성중\n",
      "2621/2621 [==============================] - 2s 728us/step\n",
      "JY\n",
      "확률 생성중\n",
      "2812/2812 [==============================] - 2s 802us/step\n",
      "KC\n",
      "확률 생성중\n",
      "2998/2998 [==============================] - 2s 741us/step\n",
      "LC\n",
      "확률 생성중\n",
      "3558/3558 [==============================] - 3s 760us/step\n",
      "LN\n",
      "확률 생성중\n",
      "3255/3255 [==============================] - 2s 734us/step\n",
      "MD\n",
      "확률 생성중\n",
      "1854/1854 [==============================] - 2s 809us/step\n",
      "NE\n",
      "확률 생성중\n",
      "1062/1062 [==============================] - 1s 763us/step\n",
      "NG\n",
      "확률 생성중\n",
      "1968/1968 [==============================] - 2s 768us/step\n",
      "NK\n",
      "확률 생성중\n",
      "1942/1942 [==============================] - 1s 754us/step\n",
      "NQ\n",
      "확률 생성중\n",
      "1404/1404 [==============================] - 1s 698us/step\n",
      "O\n",
      "확률 생성중\n",
      "380/380 [==============================] - 0s 733us/step\n",
      "OJ\n",
      "확률 생성중\n",
      "3413/3413 [==============================] - 2s 706us/step\n",
      "PA\n",
      "확률 생성중\n",
      "2804/2804 [==============================] - 2s 705us/step\n",
      "PL\n",
      "확률 생성중\n",
      "3251/3251 [==============================] - 2s 751us/step\n",
      "RB\n",
      "확률 생성중\n",
      "1612/1612 [==============================] - 1s 744us/step\n",
      "RTY\n",
      "확률 생성중\n",
      "433/433 [==============================] - 0s 763us/step\n",
      "S\n",
      "확률 생성중\n",
      "3258/3258 [==============================] - 2s 702us/step\n",
      "SB\n",
      "확률 생성중\n",
      "3602/3602 [==============================] - 3s 748us/step\n",
      "SF\n",
      "확률 생성중\n",
      "2907/2907 [==============================] - 2s 697us/step\n",
      "SI\n",
      "확률 생성중\n",
      "3609/3609 [==============================] - 3s 742us/step\n",
      "SM\n",
      "확률 생성중\n",
      "3635/3635 [==============================] - 3s 709us/step\n",
      "TU\n",
      "확률 생성중\n",
      "1954/1954 [==============================] - 1s 703us/step\n",
      "TY\n",
      "확률 생성중\n",
      "2470/2470 [==============================] - 2s 693us/step\n",
      "US\n",
      "확률 생성중\n",
      "2758/2758 [==============================] - 2s 702us/step\n",
      "W\n",
      "확률 생성중\n",
      "3894/3894 [==============================] - 3s 694us/step\n"
     ]
    }
   ],
   "source": [
    "symbols = list(quotes.columns.levels[0])\n",
    "for symbol in symbols:\n",
    "    savefile = h5py.File(savefilepath, 'a')\n",
    "    print(symbol)\n",
    "    quote = quotes[symbol].dropna()\n",
    "    data=[]\n",
    "    dates = []\n",
    "    for group in quote.rolling(period):\n",
    "        if len(group) != period:\n",
    "            continue\n",
    "        \n",
    "        dates.append(group.index.values.max())\n",
    "        data.append(group.values)\n",
    "        \n",
    "    dates = np.array(dates).astype('M8[s]').astype('int64').reshape((len(dates), 1))\n",
    "    data = np.array(list(map(norm, data)))\n",
    "    data = np.moveaxis(data, 1, 2)\n",
    "    \n",
    "    print(\"확률 생성중\")\n",
    "    trend = model.predict_proba(data)\n",
    "    arr = np.concatenate((dates,trend), axis=1)\n",
    "    \n",
    "    if symbol not in savefile.keys():\n",
    "        savefile.create_group(symbol)\n",
    "    \n",
    "    savefile[symbol].create_dataset(f\"trend{period}\", arr.shape, data=arr)\n",
    "    savefile.close()\n",
    "    "
   ]
  },
  {
   "cell_type": "markdown",
   "id": "a43f7dcc",
   "metadata": {},
   "source": [
    "### Verification"
   ]
  },
  {
   "cell_type": "code",
   "execution_count": 7,
   "id": "2cdc367d",
   "metadata": {},
   "outputs": [],
   "source": [
    "savefilepath = os.path.join('..','..','data','trend index','trend_index.hdf')"
   ]
  },
  {
   "cell_type": "code",
   "execution_count": 8,
   "id": "6590d558",
   "metadata": {},
   "outputs": [],
   "source": [
    "file=h5py.File(savefilepath, mode='r')"
   ]
  },
  {
   "cell_type": "code",
   "execution_count": 9,
   "id": "1296f6a2",
   "metadata": {},
   "outputs": [],
   "source": [
    "symbol = 'GC'\n",
    "quote = instruments[symbol].quotes(fields='ohlc')\n",
    "data = file[symbol]['trend50'][:]\n",
    "u = pd.DataFrame(data=data[:,3], index=data[:,0].astype('M8[s]'), columns=['up'])#quote.TREND(direction='up', period=50, threshold=0.7)"
   ]
  },
  {
   "cell_type": "code",
   "execution_count": 10,
   "id": "f2fc01ef",
   "metadata": {
    "scrolled": false
   },
   "outputs": [
    {
     "data": {
      "text/html": [
       "\n",
       "        <iframe\n",
       "            width=\"900\"\n",
       "            height=\"700\"\n",
       "            src=\"../../temp/temporary_chart.html\"\n",
       "            frameborder=\"0\"\n",
       "            allowfullscreen\n",
       "            \n",
       "        ></iframe>\n",
       "        "
      ],
      "text/plain": [
       "<IPython.lib.display.IFrame at 0x25d86f22160>"
      ]
     },
     "metadata": {},
     "output_type": "display_data"
    }
   ],
   "source": [
    "highchart([\n",
    "    {'data':quote, 'type':'candlestick'},\n",
    "    {'data':u, 'type':'line','yaxis':'22', 'name':'uptrend'}\n",
    "   # {'data':s, 'type':'line','yaxis':'22'},\n",
    "   # {'data':d, 'type':'line','yaxis':'22'}\n",
    "])"
   ]
  },
  {
   "cell_type": "code",
   "execution_count": null,
   "id": "4cfc7765",
   "metadata": {},
   "outputs": [],
   "source": []
  }
 ],
 "metadata": {
  "kernelspec": {
   "display_name": "Python 3 (ipykernel)",
   "language": "python",
   "name": "python3"
  },
  "language_info": {
   "codemirror_mode": {
    "name": "ipython",
    "version": 3
   },
   "file_extension": ".py",
   "mimetype": "text/x-python",
   "name": "python",
   "nbconvert_exporter": "python",
   "pygments_lexer": "ipython3",
   "version": "3.9.16"
  }
 },
 "nbformat": 4,
 "nbformat_minor": 5
}
