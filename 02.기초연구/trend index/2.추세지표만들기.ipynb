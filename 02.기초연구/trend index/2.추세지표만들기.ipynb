{
 "cells": [
  {
   "cell_type": "code",
   "execution_count": 1,
   "id": "551c9a34",
   "metadata": {},
   "outputs": [],
   "source": [
    "%matplotlib inline\n",
    "import sys, os\n",
    "sys.path.append('../../')\n",
    "import h5py\n",
    "import numpy as np\n",
    "import pandas as pd\n",
    "from datetime import datetime\n",
    "import matplotlib.pyplot as plt\n",
    "from decimal import Decimal\n",
    "#from tools import OHLC, Density\n",
    "#from tools import open_file, products\n",
    "from tools.instruments import instruments\n",
    "from tools.display import highchart\n",
    "from tools.datatools import norm\n",
    "from IPython.display import clear_output\n",
    "import time"
   ]
  },
  {
   "cell_type": "code",
   "execution_count": 2,
   "id": "67f34d60",
   "metadata": {},
   "outputs": [],
   "source": [
    "from sktime.base import load\n",
    "from sktime.classification.deep_learning.cnn import CNNClassifier"
   ]
  },
  {
   "cell_type": "markdown",
   "id": "b99f7ea2",
   "metadata": {},
   "source": [
    "* 모델 로드"
   ]
  },
  {
   "cell_type": "code",
   "execution_count": 3,
   "id": "f2139018",
   "metadata": {},
   "outputs": [
    {
     "ename": "type",
     "evalue": "The given save location: ..\\..\\data\\trend index\\models\\trend_50day\nwas not found",
     "output_type": "error",
     "traceback": [
      "\u001b[1;31m---------------------------------------------------------------------------\u001b[0m",
      "\u001b[1;31mFileNotFoundError\u001b[0m                         Traceback (most recent call last)",
      "Cell \u001b[1;32mIn[3], line 3\u001b[0m\n\u001b[0;32m      1\u001b[0m period  \u001b[38;5;241m=\u001b[39m \u001b[38;5;241m50\u001b[39m\n\u001b[0;32m      2\u001b[0m modelfile \u001b[38;5;241m=\u001b[39m os\u001b[38;5;241m.\u001b[39mpath\u001b[38;5;241m.\u001b[39mjoin(\u001b[38;5;124m'\u001b[39m\u001b[38;5;124m..\u001b[39m\u001b[38;5;124m'\u001b[39m,\u001b[38;5;124m'\u001b[39m\u001b[38;5;124m..\u001b[39m\u001b[38;5;124m'\u001b[39m,\u001b[38;5;124m'\u001b[39m\u001b[38;5;124mdata\u001b[39m\u001b[38;5;124m'\u001b[39m,\u001b[38;5;124m'\u001b[39m\u001b[38;5;124mtrend index\u001b[39m\u001b[38;5;124m'\u001b[39m,\u001b[38;5;124m'\u001b[39m\u001b[38;5;124mmodels\u001b[39m\u001b[38;5;124m'\u001b[39m,\u001b[38;5;124mf\u001b[39m\u001b[38;5;124m'\u001b[39m\u001b[38;5;124mtrend_\u001b[39m\u001b[38;5;132;01m{\u001b[39;00mperiod\u001b[38;5;132;01m}\u001b[39;00m\u001b[38;5;124mday\u001b[39m\u001b[38;5;124m'\u001b[39m)\n\u001b[1;32m----> 3\u001b[0m model \u001b[38;5;241m=\u001b[39m \u001b[43mload\u001b[49m\u001b[43m(\u001b[49m\u001b[43mmodelfile\u001b[49m\u001b[43m)\u001b[49m\n",
      "File \u001b[1;32m~\\miniconda3\\lib\\site-packages\\sktime\\base\\_serialize.py:97\u001b[0m, in \u001b[0;36mload\u001b[1;34m(serial)\u001b[0m\n\u001b[0;32m     95\u001b[0m path \u001b[38;5;241m=\u001b[39m Path(serial \u001b[38;5;241m+\u001b[39m \u001b[38;5;124m\"\u001b[39m\u001b[38;5;124m.zip\u001b[39m\u001b[38;5;124m\"\u001b[39m) \u001b[38;5;28;01mif\u001b[39;00m \u001b[38;5;28misinstance\u001b[39m(serial, \u001b[38;5;28mstr\u001b[39m) \u001b[38;5;28;01melse\u001b[39;00m serial\n\u001b[0;32m     96\u001b[0m \u001b[38;5;28;01mif\u001b[39;00m \u001b[38;5;129;01mnot\u001b[39;00m path\u001b[38;5;241m.\u001b[39mexists():\n\u001b[1;32m---> 97\u001b[0m     \u001b[38;5;28;01mraise\u001b[39;00m \u001b[38;5;167;01mFileNotFoundError\u001b[39;00m(\u001b[38;5;124mf\u001b[39m\u001b[38;5;124m\"\u001b[39m\u001b[38;5;124mThe given save location: \u001b[39m\u001b[38;5;132;01m{\u001b[39;00mserial\u001b[38;5;132;01m}\u001b[39;00m\u001b[38;5;130;01m\\n\u001b[39;00m\u001b[38;5;124mwas not found\u001b[39m\u001b[38;5;124m\"\u001b[39m)\n\u001b[0;32m     98\u001b[0m \u001b[38;5;28;01mwith\u001b[39;00m ZipFile(path) \u001b[38;5;28;01mas\u001b[39;00m file:\n\u001b[0;32m     99\u001b[0m     \u001b[38;5;28mcls\u001b[39m \u001b[38;5;241m=\u001b[39m pickle\u001b[38;5;241m.\u001b[39mloads(file\u001b[38;5;241m.\u001b[39mopen(\u001b[38;5;124m\"\u001b[39m\u001b[38;5;124m_metadata\u001b[39m\u001b[38;5;124m\"\u001b[39m, \u001b[38;5;124m\"\u001b[39m\u001b[38;5;124mr\u001b[39m\u001b[38;5;124m\"\u001b[39m)\u001b[38;5;241m.\u001b[39mread())\n",
      "\u001b[1;31mFileNotFoundError\u001b[0m: The given save location: ..\\..\\data\\trend index\\models\\trend_50day\nwas not found"
     ]
    }
   ],
   "source": [
    "period  = 50\n",
    "modelfile = os.path.join('..','..','data','trend index','models',f'trend_{period}day')\n",
    "model = load(modelfile)"
   ]
  },
  {
   "cell_type": "code",
   "execution_count": 59,
   "id": "32939c9c",
   "metadata": {},
   "outputs": [],
   "source": [
    "savefilepath = os.path.join('..','..','data','trend index','trend_index.hdf')\n",
    "#savefile = h5py.File(savefilepath, 'a')"
   ]
  },
  {
   "cell_type": "code",
   "execution_count": 72,
   "id": "bb2c3fcf",
   "metadata": {},
   "outputs": [],
   "source": [
    "quotes = instruments.quotes(fields='ohlc')"
   ]
  },
  {
   "cell_type": "code",
   "execution_count": 74,
   "id": "c1164b8d",
   "metadata": {},
   "outputs": [
    {
     "name": "stdout",
     "output_type": "stream",
     "text": [
      "AD\n",
      "확률 생성중\n",
      "2956/2956 [==============================] - 2s 618us/step\n",
      "BO\n",
      "확률 생성중\n",
      "5148/5148 [==============================] - 3s 659us/step\n",
      "BP\n",
      "확률 생성중\n",
      "3927/3927 [==============================] - 3s 656us/step\n",
      "C\n",
      "확률 생성중\n",
      "5220/5220 [==============================] - 3s 617us/step\n",
      "CC\n",
      "확률 생성중\n",
      "4359/4359 [==============================] - 3s 638us/step\n",
      "CD\n",
      "확률 생성중\n",
      "3779/3779 [==============================] - 2s 610us/step\n",
      "CL\n",
      "확률 생성중\n",
      "3260/3260 [==============================] - 2s 620us/step\n",
      "CT\n",
      "확률 생성중\n",
      "4201/4201 [==============================] - 3s 646us/step\n",
      "DX\n",
      "확률 생성중\n",
      "1990/1990 [==============================] - 1s 656us/step\n",
      "EC\n",
      "확률 생성중\n",
      "1948/1948 [==============================] - 1s 671us/step\n",
      "ES\n",
      "확률 생성중\n",
      "2082/2082 [==============================] - 1s 706us/step\n",
      "FV\n",
      "확률 생성중\n",
      "2832/2832 [==============================] - 2s 691us/step\n",
      "GC\n",
      "확률 생성중\n",
      "3952/3952 [==============================] - 3s 650us/step\n",
      "HG\n",
      "확률 생성중\n",
      "5229/5229 [==============================] - 3s 635us/step\n",
      "HO\n",
      "확률 생성중\n",
      "3544/3544 [==============================] - 2s 615us/step\n",
      "JY\n",
      "확률 생성중\n",
      "3800/3800 [==============================] - 2s 646us/step\n",
      "KC\n",
      "확률 생성중\n",
      "4047/4047 [==============================] - 3s 662us/step\n",
      "LC\n",
      "확률 생성중\n",
      "4794/4794 [==============================] - 3s 607us/step\n",
      "LN\n",
      "확률 생성중\n",
      "4390/4390 [==============================] - 3s 605us/step\n",
      "MD\n",
      "확률 생성중\n",
      "2522/2522 [==============================] - 2s 665us/step\n",
      "NE\n",
      "확률 생성중\n",
      "1465/1465 [==============================] - 1s 661us/step\n",
      "NG\n",
      "확률 생성중\n",
      "2674/2674 [==============================] - 2s 659us/step\n",
      "NK\n",
      "확률 생성중\n",
      "2640/2640 [==============================] - 2s 609us/step\n",
      "NQ\n",
      "확률 생성중\n",
      "1922/1922 [==============================] - 1s 618us/step\n",
      "O\n",
      "확률 생성중\n",
      "557/557 [==============================] - 0s 642us/step\n",
      "OJ\n",
      "확률 생성중\n",
      "4600/4600 [==============================] - 3s 610us/step\n",
      "PA\n",
      "확률 생성중\n",
      "3788/3788 [==============================] - 3s 658us/step\n",
      "PL\n",
      "확률 생성중\n",
      "4385/4385 [==============================] - 3s 613us/step\n",
      "RB\n",
      "확률 생성중\n",
      "2200/2200 [==============================] - 1s 606us/step\n",
      "RTY\n",
      "확률 생성중\n",
      "628/628 [==============================] - 0s 666us/step\n",
      "S\n",
      "확률 생성중\n",
      "4394/4394 [==============================] - 3s 615us/step\n",
      "SB\n",
      "확률 생성중\n",
      "4853/4853 [==============================] - 3s 607us/step\n",
      "SF\n",
      "확률 생성중\n",
      "3926/3926 [==============================] - 2s 612us/step\n",
      "SI\n",
      "확률 생성중\n",
      "4862/4862 [==============================] - 3s 666us/step\n",
      "SM\n",
      "확률 생성중\n",
      "4896/4896 [==============================] - 3s 664us/step\n",
      "TU\n",
      "확률 생성중\n",
      "2655/2655 [==============================] - 2s 656us/step\n",
      "TY\n",
      "확률 생성중\n",
      "3343/3343 [==============================] - 2s 659us/step\n",
      "US\n",
      "확률 생성중\n",
      "3727/3727 [==============================] - 2s 653us/step\n",
      "W\n",
      "확률 생성중\n",
      "5242/5242 [==============================] - 3s 619us/step\n"
     ]
    }
   ],
   "source": [
    "symbols = list(quotes.columns.levels[0])\n",
    "for symbol in symbols:\n",
    "    savefile = h5py.File(savefilepath, 'a')\n",
    "    print(symbol)\n",
    "    quote = quotes[symbol].dropna()\n",
    "    data=[]\n",
    "    dates = []\n",
    "    for group in quote.rolling(period):\n",
    "        if len(group) != period:\n",
    "            continue\n",
    "        \n",
    "        dates.append(group.index.values.max())\n",
    "        data.append(group.values)\n",
    "        \n",
    "    dates = np.array(dates).astype('M8[s]').astype('int64').reshape((len(dates), 1))\n",
    "    data = np.array(list(map(norm, data)))\n",
    "    data = np.moveaxis(data, 1, 2)\n",
    "    \n",
    "    print(\"확률 생성중\")\n",
    "    trend = model.predict_proba(data)\n",
    "    arr = np.concatenate((dates,trend), axis=1)\n",
    "    \n",
    "    if symbol not in savefile.keys():\n",
    "        savefile.create_group(symbol)\n",
    "    \n",
    "    savefile[symbol].create_dataset(f\"trend{period}\", arr.shape, data=arr)\n",
    "    savefile.close()\n",
    "    "
   ]
  },
  {
   "cell_type": "markdown",
   "id": "a43f7dcc",
   "metadata": {},
   "source": [
    "### Verification"
   ]
  },
  {
   "cell_type": "code",
   "execution_count": 77,
   "id": "441211d1",
   "metadata": {},
   "outputs": [],
   "source": [
    "quote = instruments['GC'].quotes(fields='ohlc')\n",
    "u = quote.TREND(direction='up', period=50)\n",
    "s = quote.TREND(direction='side', period=50)\n",
    "d = quote.TREND(direction='down', period=50)"
   ]
  },
  {
   "cell_type": "code",
   "execution_count": 78,
   "id": "f2fc01ef",
   "metadata": {},
   "outputs": [
    {
     "data": {
      "text/html": [
       "\n",
       "        <iframe\n",
       "            width=\"900\"\n",
       "            height=\"700\"\n",
       "            src=\"../../temp/temporary_chart.html\"\n",
       "            frameborder=\"0\"\n",
       "            allowfullscreen\n",
       "            \n",
       "        ></iframe>\n",
       "        "
      ],
      "text/plain": [
       "<IPython.lib.display.IFrame at 0x242036b1e20>"
      ]
     },
     "metadata": {},
     "output_type": "display_data"
    }
   ],
   "source": [
    "highchart([\n",
    "    {'data':quote, 'type':'candlestick'},\n",
    "    {'data':u, 'type':'line','yaxis':'22'},\n",
    "    {'data':s, 'type':'line','yaxis':'22'},\n",
    "    {'data':d, 'type':'line','yaxis':'22'}\n",
    "])"
   ]
  },
  {
   "cell_type": "code",
   "execution_count": null,
   "id": "4cfc7765",
   "metadata": {},
   "outputs": [],
   "source": []
  }
 ],
 "metadata": {
  "kernelspec": {
   "display_name": "Python 3 (ipykernel)",
   "language": "python",
   "name": "python3"
  },
  "language_info": {
   "codemirror_mode": {
    "name": "ipython",
    "version": 3
   },
   "file_extension": ".py",
   "mimetype": "text/x-python",
   "name": "python",
   "nbconvert_exporter": "python",
   "pygments_lexer": "ipython3",
   "version": "3.9.12"
  }
 },
 "nbformat": 4,
 "nbformat_minor": 5
}
