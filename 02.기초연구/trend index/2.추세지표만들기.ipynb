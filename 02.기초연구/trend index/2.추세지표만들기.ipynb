{
 "cells": [
  {
   "cell_type": "code",
   "execution_count": 1,
   "id": "551c9a34",
   "metadata": {},
   "outputs": [],
   "source": [
    "%matplotlib inline\n",
    "import sys, os\n",
    "sys.path.append('../../')\n",
    "import h5py\n",
    "import numpy as np\n",
    "import pandas as pd\n",
    "from datetime import datetime\n",
    "import matplotlib.pyplot as plt\n",
    "from decimal import Decimal\n",
    "#from tools import OHLC, Density\n",
    "#from tools import open_file, products\n",
    "from tools.instruments import instruments\n",
    "from tools.display import highchart\n",
    "from tools.datatools import norm\n",
    "from IPython.display import clear_output\n",
    "import time"
   ]
  },
  {
   "cell_type": "code",
   "execution_count": 2,
   "id": "67f34d60",
   "metadata": {},
   "outputs": [],
   "source": [
    "from sktime.base import load\n",
    "from sktime.classification.deep_learning.cnn import CNNClassifier"
   ]
  },
  {
   "cell_type": "markdown",
   "id": "b99f7ea2",
   "metadata": {},
   "source": [
    "* 모델 로드"
   ]
  },
  {
   "cell_type": "code",
   "execution_count": 3,
   "id": "f2139018",
   "metadata": {},
   "outputs": [],
   "source": [
    "period  = 100\n",
    "modelfile = os.path.join('..','..','data','trend index','models',f'trend_{period}day')\n",
    "model = load(modelfile)"
   ]
  },
  {
   "cell_type": "code",
   "execution_count": 4,
   "id": "32939c9c",
   "metadata": {},
   "outputs": [],
   "source": [
    "savefilepath = os.path.join('..','..','data','trend index','trend_index.hdf')\n",
    "#savefile = h5py.File(savefilepath, 'a')"
   ]
  },
  {
   "cell_type": "code",
   "execution_count": 5,
   "id": "bb2c3fcf",
   "metadata": {},
   "outputs": [],
   "source": [
    "quotes = instruments.quotes(fields='ohlc')"
   ]
  },
  {
   "cell_type": "code",
   "execution_count": 6,
   "id": "c1164b8d",
   "metadata": {},
   "outputs": [
    {
     "name": "stdout",
     "output_type": "stream",
     "text": [
      "AD\n",
      "확률 생성중\n",
      "2205/2205 [==============================] - 1s 638us/step\n",
      "BO\n",
      "확률 생성중\n",
      "3849/3849 [==============================] - 2s 636us/step\n",
      "BP\n",
      "확률 생성중\n",
      "2933/2933 [==============================] - 2s 634us/step\n",
      "C\n",
      "확률 생성중\n",
      "3903/3903 [==============================] - 2s 634us/step\n",
      "CC\n",
      "확률 생성중\n",
      "3257/3257 [==============================] - 2s 641us/step\n",
      "CD\n",
      "확률 생성중\n",
      "2822/2822 [==============================] - 2s 632us/step\n",
      "CL\n",
      "확률 생성중\n",
      "2433/2433 [==============================] - 2s 637us/step\n",
      "CT\n",
      "확률 생성중\n",
      "3139/3139 [==============================] - 2s 645us/step\n",
      "DX\n",
      "확률 생성중\n",
      "1480/1480 [==============================] - 1s 652us/step\n",
      "EC\n",
      "확률 생성중\n",
      "1449/1449 [==============================] - 1s 633us/step\n",
      "ES\n",
      "확률 생성중\n",
      "1549/1549 [==============================] - 1s 694us/step\n",
      "FV\n",
      "확률 생성중\n",
      "2112/2112 [==============================] - 1s 686us/step\n",
      "GC\n",
      "확률 생성중\n",
      "2952/2952 [==============================] - 2s 634us/step\n",
      "HG\n",
      "확률 생성중\n",
      "3909/3909 [==============================] - 3s 653us/step\n",
      "HO\n",
      "확률 생성중\n",
      "2646/2646 [==============================] - 2s 627us/step\n",
      "JY\n",
      "확률 생성중\n",
      "2837/2837 [==============================] - 2s 707us/step\n",
      "KC\n",
      "확률 생성중\n",
      "3023/3023 [==============================] - 2s 625us/step\n",
      "LC\n",
      "확률 생성중\n",
      "3583/3583 [==============================] - 2s 675us/step\n",
      "LN\n",
      "확률 생성중\n",
      "3280/3280 [==============================] - 2s 643us/step\n",
      "MD\n",
      "확률 생성중\n",
      "1879/1879 [==============================] - 1s 692us/step\n",
      "NE\n",
      "확률 생성중\n",
      "1087/1087 [==============================] - 1s 689us/step\n",
      "NG\n",
      "확률 생성중\n",
      "1993/1993 [==============================] - 1s 698us/step\n",
      "NK\n",
      "확률 생성중\n",
      "1967/1967 [==============================] - 1s 696us/step\n",
      "NQ\n",
      "확률 생성중\n",
      "1429/1429 [==============================] - 1s 625us/step\n",
      "O\n",
      "확률 생성중\n",
      "405/405 [==============================] - 0s 686us/step\n",
      "OJ\n",
      "확률 생성중\n",
      "3438/3438 [==============================] - 2s 657us/step\n",
      "PA\n",
      "확률 생성중\n",
      "2829/2829 [==============================] - 2s 681us/step\n",
      "PL\n",
      "확률 생성중\n",
      "3276/3276 [==============================] - 2s 675us/step\n",
      "RB\n",
      "확률 생성중\n",
      "1637/1637 [==============================] - 1s 681us/step\n",
      "RTY\n",
      "확률 생성중\n",
      "458/458 [==============================] - 0s 685us/step\n",
      "S\n",
      "확률 생성중\n",
      "3283/3283 [==============================] - 2s 636us/step\n",
      "SB\n",
      "확률 생성중\n",
      "3627/3627 [==============================] - 2s 679us/step\n",
      "SF\n",
      "확률 생성중\n",
      "2932/2932 [==============================] - 2s 637us/step\n",
      "SI\n",
      "확률 생성중\n",
      "3634/3634 [==============================] - 2s 678us/step\n",
      "SM\n",
      "확률 생성중\n",
      "3660/3660 [==============================] - 2s 636us/step\n",
      "TU\n",
      "확률 생성중\n",
      "1979/1979 [==============================] - 1s 641us/step\n",
      "TY\n",
      "확률 생성중\n",
      "2495/2495 [==============================] - 2s 676us/step\n",
      "US\n",
      "확률 생성중\n",
      "2783/2783 [==============================] - 2s 629us/step\n",
      "W\n",
      "확률 생성중\n",
      "3919/3919 [==============================] - 2s 634us/step\n"
     ]
    }
   ],
   "source": [
    "symbols = list(quotes.columns.levels[0])\n",
    "for symbol in symbols:\n",
    "    savefile = h5py.File(savefilepath, 'a')\n",
    "    print(symbol)\n",
    "    quote = quotes[symbol].dropna()\n",
    "    data=[]\n",
    "    dates = []\n",
    "    for group in quote.rolling(period):\n",
    "        if len(group) != period:\n",
    "            continue\n",
    "        \n",
    "        dates.append(group.index.values.max())\n",
    "        data.append(group.values)\n",
    "        \n",
    "    dates = np.array(dates).astype('M8[s]').astype('int64').reshape((len(dates), 1))\n",
    "    data = np.array(list(map(norm, data)))\n",
    "    data = np.moveaxis(data, 1, 2)\n",
    "    \n",
    "    print(\"확률 생성중\")\n",
    "    trend = model.predict_proba(data)\n",
    "    arr = np.concatenate((dates,trend), axis=1)\n",
    "    \n",
    "    if symbol not in savefile.keys():\n",
    "        savefile.create_group(symbol)\n",
    "    \n",
    "    savefile[symbol].create_dataset(f\"trend{period}\", arr.shape, data=arr)\n",
    "    savefile.close()\n",
    "    "
   ]
  },
  {
   "cell_type": "markdown",
   "id": "a43f7dcc",
   "metadata": {},
   "source": [
    "### Verification"
   ]
  },
  {
   "cell_type": "code",
   "execution_count": 7,
   "id": "2cdc367d",
   "metadata": {},
   "outputs": [],
   "source": [
    "savefilepath = os.path.join('..','..','data','trend index','trend_index.hdf')"
   ]
  },
  {
   "cell_type": "code",
   "execution_count": 8,
   "id": "6590d558",
   "metadata": {},
   "outputs": [],
   "source": [
    "file=h5py.File(savefilepath, mode='r')"
   ]
  },
  {
   "cell_type": "code",
   "execution_count": 9,
   "id": "1296f6a2",
   "metadata": {},
   "outputs": [],
   "source": [
    "symbol = 'GC'\n",
    "quote = instruments[symbol].quotes(fields='ohlc')\n",
    "data = file[symbol]['trend50'][:]\n",
    "u = pd.DataFrame(data=data[:,3], index=data[:,0].astype('M8[s]'), columns=['up'])#quote.TREND(direction='up', period=50, threshold=0.7)"
   ]
  },
  {
   "cell_type": "code",
   "execution_count": 10,
   "id": "f2fc01ef",
   "metadata": {
    "scrolled": false
   },
   "outputs": [
    {
     "data": {
      "text/html": [
       "\n",
       "        <iframe\n",
       "            width=\"900\"\n",
       "            height=\"700\"\n",
       "            src=\"../../temp/temporary_chart.html\"\n",
       "            frameborder=\"0\"\n",
       "            allowfullscreen\n",
       "            \n",
       "        ></iframe>\n",
       "        "
      ],
      "text/plain": [
       "<IPython.lib.display.IFrame at 0x1b4dfe6eeb0>"
      ]
     },
     "metadata": {},
     "output_type": "display_data"
    }
   ],
   "source": [
    "highchart([\n",
    "    {'data':quote, 'type':'candlestick'},\n",
    "    {'data':u, 'type':'line','yaxis':'22', 'name':'uptrend'}\n",
    "   # {'data':s, 'type':'line','yaxis':'22'},\n",
    "   # {'data':d, 'type':'line','yaxis':'22'}\n",
    "])"
   ]
  },
  {
   "cell_type": "code",
   "execution_count": null,
   "id": "218a53b2",
   "metadata": {},
   "outputs": [],
   "source": []
  }
 ],
 "metadata": {
  "kernelspec": {
   "display_name": "Python 3 (ipykernel)",
   "language": "python",
   "name": "python3"
  },
  "language_info": {
   "codemirror_mode": {
    "name": "ipython",
    "version": 3
   },
   "file_extension": ".py",
   "mimetype": "text/x-python",
   "name": "python",
   "nbconvert_exporter": "python",
   "pygments_lexer": "ipython3",
   "version": "3.9.16"
  }
 },
 "nbformat": 4,
 "nbformat_minor": 5
}
