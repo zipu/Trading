{
 "cells": [
  {
   "cell_type": "code",
   "execution_count": 1,
   "id": "551c9a34",
   "metadata": {},
   "outputs": [],
   "source": [
    "%matplotlib inline\n",
    "import sys, os\n",
    "sys.path.append('../../')\n",
    "import h5py\n",
    "import numpy as np\n",
    "import pandas as pd\n",
    "from datetime import datetime\n",
    "import matplotlib.pyplot as plt\n",
    "from decimal import Decimal\n",
    "#from tools import OHLC, Density\n",
    "#from tools import open_file, products\n",
    "from tools.instruments import instruments\n",
    "from tools.display import highchart\n",
    "from tools.datatools import norm\n",
    "from IPython.display import clear_output\n",
    "import time"
   ]
  },
  {
   "cell_type": "code",
   "execution_count": 2,
   "id": "67f34d60",
   "metadata": {},
   "outputs": [],
   "source": [
    "from sktime.base import load\n",
    "from sktime.classification.deep_learning.cnn import CNNClassifier"
   ]
  },
  {
   "cell_type": "markdown",
   "id": "b99f7ea2",
   "metadata": {},
   "source": [
    "* 모델 로드"
   ]
  },
  {
   "cell_type": "code",
   "execution_count": 3,
   "id": "f2139018",
   "metadata": {},
   "outputs": [],
   "source": [
    "period  = 20\n",
    "modelfile = os.path.join('..','..','data','trend index','models',f'trend_{period}day')\n",
    "model = load(modelfile)"
   ]
  },
  {
   "cell_type": "code",
   "execution_count": 4,
   "id": "32939c9c",
   "metadata": {},
   "outputs": [],
   "source": [
    "savefilepath = os.path.join('..','..','data','trend index','trend_index.hdf')\n",
    "#savefile = h5py.File(savefilepath, 'a')"
   ]
  },
  {
   "cell_type": "code",
   "execution_count": 5,
   "id": "bb2c3fcf",
   "metadata": {},
   "outputs": [],
   "source": [
    "quotes = instruments.quotes(fields='ohlc')"
   ]
  },
  {
   "cell_type": "code",
   "execution_count": 6,
   "id": "c1164b8d",
   "metadata": {},
   "outputs": [
    {
     "name": "stdout",
     "output_type": "stream",
     "text": [
      "AD\n",
      "확률 생성중\n",
      "2225/2225 [==============================] - 1s 597us/step\n",
      "BO\n",
      "확률 생성중\n",
      "3869/3869 [==============================] - 2s 613us/step\n",
      "BP\n",
      "확률 생성중\n",
      "2953/2953 [==============================] - 2s 596us/step\n",
      "C\n",
      "확률 생성중\n",
      "3923/3923 [==============================] - 2s 585us/step\n",
      "CC\n",
      "확률 생성중\n",
      "3277/3277 [==============================] - 2s 595us/step\n",
      "CD\n",
      "확률 생성중\n",
      "2842/2842 [==============================] - 2s 588us/step\n",
      "CL\n",
      "확률 생성중\n",
      "2453/2453 [==============================] - 1s 588us/step\n",
      "CT\n",
      "확률 생성중\n",
      "3159/3159 [==============================] - 2s 586us/step\n",
      "DX\n",
      "확률 생성중\n",
      "1500/1500 [==============================] - 1s 597us/step\n",
      "EC\n",
      "확률 생성중\n",
      "1469/1469 [==============================] - 1s 596us/step\n",
      "ES\n",
      "확률 생성중\n",
      "1569/1569 [==============================] - 1s 638us/step\n",
      "FV\n",
      "확률 생성중\n",
      "2132/2132 [==============================] - 1s 597us/step\n",
      "GC\n",
      "확률 생성중\n",
      "2972/2972 [==============================] - 2s 584us/step\n",
      "HG\n",
      "확률 생성중\n",
      "3929/3929 [==============================] - 2s 583us/step\n",
      "HO\n",
      "확률 생성중\n",
      "2666/2666 [==============================] - 2s 585us/step\n",
      "JY\n",
      "확률 생성중\n",
      "2857/2857 [==============================] - 2s 636us/step\n",
      "KC\n",
      "확률 생성중\n",
      "3043/3043 [==============================] - 2s 592us/step\n",
      "LC\n",
      "확률 생성중\n",
      "3603/3603 [==============================] - 2s 590us/step\n",
      "LN\n",
      "확률 생성중\n",
      "3300/3300 [==============================] - 2s 587us/step\n",
      "MD\n",
      "확률 생성중\n",
      "1899/1899 [==============================] - 1s 641us/step\n",
      "NE\n",
      "확률 생성중\n",
      "1107/1107 [==============================] - 1s 595us/step\n",
      "NG\n",
      "확률 생성중\n",
      "2013/2013 [==============================] - 1s 636us/step\n",
      "NK\n",
      "확률 생성중\n",
      "1987/1987 [==============================] - 1s 638us/step\n",
      "NQ\n",
      "확률 생성중\n",
      "1449/1449 [==============================] - 1s 589us/step\n",
      "O\n",
      "확률 생성중\n",
      "425/425 [==============================] - 0s 655us/step\n",
      "OJ\n",
      "확률 생성중\n",
      "3458/3458 [==============================] - 2s 583us/step\n",
      "PA\n",
      "확률 생성중\n",
      "2849/2849 [==============================] - 2s 584us/step\n",
      "PL\n",
      "확률 생성중\n",
      "3296/3296 [==============================] - 2s 638us/step\n",
      "RB\n",
      "확률 생성중\n",
      "1657/1657 [==============================] - 1s 648us/step\n",
      "RTY\n",
      "확률 생성중\n",
      "478/478 [==============================] - 0s 647us/step\n",
      "S\n",
      "확률 생성중\n",
      "3303/3303 [==============================] - 2s 589us/step\n",
      "SB\n",
      "확률 생성중\n",
      "3647/3647 [==============================] - 2s 642us/step\n",
      "SF\n",
      "확률 생성중\n",
      "2952/2952 [==============================] - 2s 597us/step\n",
      "SI\n",
      "확률 생성중\n",
      "3654/3654 [==============================] - 2s 642us/step\n",
      "SM\n",
      "확률 생성중\n",
      "3680/3680 [==============================] - 2s 595us/step\n",
      "TU\n",
      "확률 생성중\n",
      "1999/1999 [==============================] - 1s 594us/step\n",
      "TY\n",
      "확률 생성중\n",
      "2515/2515 [==============================] - 2s 592us/step\n",
      "US\n",
      "확률 생성중\n",
      "2803/2803 [==============================] - 2s 595us/step\n",
      "W\n",
      "확률 생성중\n",
      "3939/3939 [==============================] - 2s 594us/step\n"
     ]
    }
   ],
   "source": [
    "symbols = list(quotes.columns.levels[0])\n",
    "for symbol in symbols:\n",
    "    savefile = h5py.File(savefilepath, 'a')\n",
    "    print(symbol)\n",
    "    quote = quotes[symbol].dropna()\n",
    "    data=[]\n",
    "    dates = []\n",
    "    for group in quote.rolling(period):\n",
    "        if len(group) != period:\n",
    "            continue\n",
    "        \n",
    "        dates.append(group.index.values.max())\n",
    "        data.append(group.values)\n",
    "        \n",
    "    dates = np.array(dates).astype('M8[s]').astype('int64').reshape((len(dates), 1))\n",
    "    data = np.array(list(map(norm, data)))\n",
    "    data = np.moveaxis(data, 1, 2)\n",
    "    \n",
    "    print(\"확률 생성중\")\n",
    "    trend = model.predict_proba(data)\n",
    "    arr = np.concatenate((dates,trend), axis=1)\n",
    "    \n",
    "    if symbol not in savefile.keys():\n",
    "        savefile.create_group(symbol)\n",
    "    \n",
    "    savefile[symbol].create_dataset(f\"trend{period}\", arr.shape, data=arr)\n",
    "    savefile.close()\n",
    "    "
   ]
  },
  {
   "cell_type": "markdown",
   "id": "a43f7dcc",
   "metadata": {},
   "source": [
    "### Verification"
   ]
  },
  {
   "cell_type": "code",
   "execution_count": 3,
   "id": "2cdc367d",
   "metadata": {},
   "outputs": [],
   "source": [
    "savefilepath = os.path.join('..','..','data','trend index','trend_index.hdf')"
   ]
  },
  {
   "cell_type": "code",
   "execution_count": 4,
   "id": "6590d558",
   "metadata": {},
   "outputs": [],
   "source": [
    "file=h5py.File(savefilepath, mode='r')"
   ]
  },
  {
   "cell_type": "code",
   "execution_count": 26,
   "id": "1296f6a2",
   "metadata": {},
   "outputs": [],
   "source": [
    "symbol = 'GC'\n",
    "quote = instruments[symbol].quotes(fields='ohlc')\n",
    "data = file[symbol]['trend50'][:]\n",
    "u = pd.DataFrame(data=data[:,3], index=data[:,0].astype('M8[s]'), columns=['up'])#quote.TREND(direction='up', period=50, threshold=0.7)"
   ]
  },
  {
   "cell_type": "code",
   "execution_count": 29,
   "id": "f2fc01ef",
   "metadata": {
    "scrolled": false
   },
   "outputs": [
    {
     "data": {
      "text/html": [
       "\n",
       "        <iframe\n",
       "            width=\"900\"\n",
       "            height=\"700\"\n",
       "            src=\"../../temp/temporary_chart.html\"\n",
       "            frameborder=\"0\"\n",
       "            allowfullscreen\n",
       "            \n",
       "        ></iframe>\n",
       "        "
      ],
      "text/plain": [
       "<IPython.lib.display.IFrame at 0x177ee597820>"
      ]
     },
     "metadata": {},
     "output_type": "display_data"
    }
   ],
   "source": [
    "highchart([\n",
    "    {'data':quote, 'type':'candlestick'},\n",
    "    {'data':u, 'type':'line','yaxis':'22', 'name':'uptrend'}\n",
    "   # {'data':s, 'type':'line','yaxis':'22'},\n",
    "   # {'data':d, 'type':'line','yaxis':'22'}\n",
    "])"
   ]
  },
  {
   "cell_type": "code",
   "execution_count": null,
   "id": "4cfc7765",
   "metadata": {},
   "outputs": [],
   "source": []
  }
 ],
 "metadata": {
  "kernelspec": {
   "display_name": "Python 3 (ipykernel)",
   "language": "python",
   "name": "python3"
  },
  "language_info": {
   "codemirror_mode": {
    "name": "ipython",
    "version": 3
   },
   "file_extension": ".py",
   "mimetype": "text/x-python",
   "name": "python",
   "nbconvert_exporter": "python",
   "pygments_lexer": "ipython3",
   "version": "3.9.16"
  }
 },
 "nbformat": 4,
 "nbformat_minor": 5
}
