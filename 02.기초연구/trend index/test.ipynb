{
 "cells": [
  {
   "cell_type": "code",
   "execution_count": 1,
   "id": "551c9a34",
   "metadata": {},
   "outputs": [],
   "source": [
    "%matplotlib inline\n",
    "import sys, os\n",
    "sys.path.append('../../')\n",
    "import h5py\n",
    "import numpy as np\n",
    "import pandas as pd\n",
    "from datetime import datetime\n",
    "import matplotlib.pyplot as plt\n",
    "from tools.instruments import instruments\n",
    "from tools.display import highchart\n",
    "from IPython.display import clear_output\n",
    "import time"
   ]
  },
  {
   "cell_type": "code",
   "execution_count": 2,
   "id": "e8f057ce",
   "metadata": {},
   "outputs": [],
   "source": [
    "%load_ext autoreload\n",
    "%aimport tools.quotes\n",
    "%aimport tools.instruments\n",
    "%autoreload 2"
   ]
  },
  {
   "cell_type": "code",
   "execution_count": 3,
   "id": "32939c9c",
   "metadata": {},
   "outputs": [],
   "source": [
    "filepath = os.path.join('..','..','data','trend index','training set', f'trend_50day.hdf')\n",
    "file = h5py.File(filepath, mode='a')"
   ]
  },
  {
   "cell_type": "code",
   "execution_count": 6,
   "id": "b2790d11",
   "metadata": {},
   "outputs": [],
   "source": [
    "del file['expect']"
   ]
  },
  {
   "cell_type": "code",
   "execution_count": 23,
   "id": "7e631ccf",
   "metadata": {},
   "outputs": [],
   "source": [
    "dataset = []\n",
    "for data in ohlc:\n",
    "    data = pd.DataFrame(data)\n",
    "    normed = (data-data.mean())/data.std().mean()\n",
    "    dataset.append(normed.values)"
   ]
  },
  {
   "cell_type": "code",
   "execution_count": 29,
   "id": "9a58c579",
   "metadata": {},
   "outputs": [],
   "source": [
    "arr = np.moveaxis(np.array(dataset),1,2)"
   ]
  },
  {
   "cell_type": "code",
   "execution_count": 30,
   "id": "ab9a1657",
   "metadata": {},
   "outputs": [
    {
     "data": {
      "text/plain": [
       "(422, 4, 50)"
      ]
     },
     "execution_count": 30,
     "metadata": {},
     "output_type": "execute_result"
    }
   ],
   "source": [
    "arr.shape"
   ]
  },
  {
   "cell_type": "code",
   "execution_count": 32,
   "id": "369a9115",
   "metadata": {},
   "outputs": [],
   "source": [
    "del file['ohlc']"
   ]
  },
  {
   "cell_type": "code",
   "execution_count": 33,
   "id": "dbcca536",
   "metadata": {},
   "outputs": [
    {
     "data": {
      "text/plain": [
       "<HDF5 dataset \"ohlc\": shape (422, 4, 50), type \"<f4\">"
      ]
     },
     "execution_count": 33,
     "metadata": {},
     "output_type": "execute_result"
    }
   ],
   "source": [
    "file.create_dataset('ohlc', arr.shape, data=arr)"
   ]
  },
  {
   "cell_type": "code",
   "execution_count": 34,
   "id": "87c1ed8d",
   "metadata": {},
   "outputs": [
    {
     "data": {
      "text/plain": [
       "(422,)"
      ]
     },
     "execution_count": 34,
     "metadata": {},
     "output_type": "execute_result"
    }
   ],
   "source": [
    "file['trend'].shape"
   ]
  },
  {
   "cell_type": "code",
   "execution_count": 35,
   "id": "a0fdd2d7",
   "metadata": {},
   "outputs": [],
   "source": [
    "file.close()"
   ]
  },
  {
   "cell_type": "code",
   "execution_count": 21,
   "id": "ee2dc8b0",
   "metadata": {
    "scrolled": true
   },
   "outputs": [
    {
     "data": {
      "text/html": [
       "<div>\n",
       "<style scoped>\n",
       "    .dataframe tbody tr th:only-of-type {\n",
       "        vertical-align: middle;\n",
       "    }\n",
       "\n",
       "    .dataframe tbody tr th {\n",
       "        vertical-align: top;\n",
       "    }\n",
       "\n",
       "    .dataframe thead th {\n",
       "        text-align: right;\n",
       "    }\n",
       "</style>\n",
       "<table border=\"1\" class=\"dataframe\">\n",
       "  <thead>\n",
       "    <tr style=\"text-align: right;\">\n",
       "      <th></th>\n",
       "      <th>0</th>\n",
       "      <th>1</th>\n",
       "      <th>2</th>\n",
       "      <th>3</th>\n",
       "    </tr>\n",
       "  </thead>\n",
       "  <tbody>\n",
       "    <tr>\n",
       "      <th>0</th>\n",
       "      <td>9.215424e+08</td>\n",
       "      <td>0.135</td>\n",
       "      <td>0.815</td>\n",
       "      <td>0.050</td>\n",
       "    </tr>\n",
       "    <tr>\n",
       "      <th>1</th>\n",
       "      <td>9.216288e+08</td>\n",
       "      <td>0.110</td>\n",
       "      <td>0.860</td>\n",
       "      <td>0.030</td>\n",
       "    </tr>\n",
       "    <tr>\n",
       "      <th>2</th>\n",
       "      <td>9.217152e+08</td>\n",
       "      <td>0.135</td>\n",
       "      <td>0.835</td>\n",
       "      <td>0.030</td>\n",
       "    </tr>\n",
       "    <tr>\n",
       "      <th>3</th>\n",
       "      <td>9.218016e+08</td>\n",
       "      <td>0.120</td>\n",
       "      <td>0.860</td>\n",
       "      <td>0.020</td>\n",
       "    </tr>\n",
       "    <tr>\n",
       "      <th>4</th>\n",
       "      <td>9.220608e+08</td>\n",
       "      <td>0.125</td>\n",
       "      <td>0.835</td>\n",
       "      <td>0.040</td>\n",
       "    </tr>\n",
       "    <tr>\n",
       "      <th>...</th>\n",
       "      <td>...</td>\n",
       "      <td>...</td>\n",
       "      <td>...</td>\n",
       "      <td>...</td>\n",
       "    </tr>\n",
       "    <tr>\n",
       "      <th>5838</th>\n",
       "      <td>1.651104e+09</td>\n",
       "      <td>0.180</td>\n",
       "      <td>0.630</td>\n",
       "      <td>0.190</td>\n",
       "    </tr>\n",
       "    <tr>\n",
       "      <th>5839</th>\n",
       "      <td>1.651190e+09</td>\n",
       "      <td>0.240</td>\n",
       "      <td>0.660</td>\n",
       "      <td>0.100</td>\n",
       "    </tr>\n",
       "    <tr>\n",
       "      <th>5840</th>\n",
       "      <td>1.651450e+09</td>\n",
       "      <td>0.370</td>\n",
       "      <td>0.560</td>\n",
       "      <td>0.070</td>\n",
       "    </tr>\n",
       "    <tr>\n",
       "      <th>5841</th>\n",
       "      <td>1.651536e+09</td>\n",
       "      <td>0.315</td>\n",
       "      <td>0.620</td>\n",
       "      <td>0.065</td>\n",
       "    </tr>\n",
       "    <tr>\n",
       "      <th>5842</th>\n",
       "      <td>1.651622e+09</td>\n",
       "      <td>0.275</td>\n",
       "      <td>0.665</td>\n",
       "      <td>0.060</td>\n",
       "    </tr>\n",
       "  </tbody>\n",
       "</table>\n",
       "<p>5843 rows × 4 columns</p>\n",
       "</div>"
      ],
      "text/plain": [
       "                 0      1      2      3\n",
       "0     9.215424e+08  0.135  0.815  0.050\n",
       "1     9.216288e+08  0.110  0.860  0.030\n",
       "2     9.217152e+08  0.135  0.835  0.030\n",
       "3     9.218016e+08  0.120  0.860  0.020\n",
       "4     9.220608e+08  0.125  0.835  0.040\n",
       "...            ...    ...    ...    ...\n",
       "5838  1.651104e+09  0.180  0.630  0.190\n",
       "5839  1.651190e+09  0.240  0.660  0.100\n",
       "5840  1.651450e+09  0.370  0.560  0.070\n",
       "5841  1.651536e+09  0.315  0.620  0.065\n",
       "5842  1.651622e+09  0.275  0.665  0.060\n",
       "\n",
       "[5843 rows x 4 columns]"
      ]
     },
     "execution_count": 21,
     "metadata": {},
     "output_type": "execute_result"
    }
   ],
   "source": [
    "pd.DataFrame(arr)"
   ]
  },
  {
   "cell_type": "code",
   "execution_count": 26,
   "id": "d424eccb",
   "metadata": {},
   "outputs": [],
   "source": [
    "trend = pd.DataFrame(data = arr[:,[1,2,3]], index = arr[:,0].astype('M8[s]'), columns=['down50', 'side50', 'up50'])"
   ]
  },
  {
   "cell_type": "code",
   "execution_count": 27,
   "id": "ee730a2c",
   "metadata": {},
   "outputs": [
    {
     "data": {
      "text/html": [
       "<div>\n",
       "<style scoped>\n",
       "    .dataframe tbody tr th:only-of-type {\n",
       "        vertical-align: middle;\n",
       "    }\n",
       "\n",
       "    .dataframe tbody tr th {\n",
       "        vertical-align: top;\n",
       "    }\n",
       "\n",
       "    .dataframe thead th {\n",
       "        text-align: right;\n",
       "    }\n",
       "</style>\n",
       "<table border=\"1\" class=\"dataframe\">\n",
       "  <thead>\n",
       "    <tr style=\"text-align: right;\">\n",
       "      <th></th>\n",
       "      <th>down50</th>\n",
       "      <th>side50</th>\n",
       "      <th>up50</th>\n",
       "    </tr>\n",
       "  </thead>\n",
       "  <tbody>\n",
       "    <tr>\n",
       "      <th>1999-03-16</th>\n",
       "      <td>0.135</td>\n",
       "      <td>0.815</td>\n",
       "      <td>0.050</td>\n",
       "    </tr>\n",
       "    <tr>\n",
       "      <th>1999-03-17</th>\n",
       "      <td>0.110</td>\n",
       "      <td>0.860</td>\n",
       "      <td>0.030</td>\n",
       "    </tr>\n",
       "    <tr>\n",
       "      <th>1999-03-18</th>\n",
       "      <td>0.135</td>\n",
       "      <td>0.835</td>\n",
       "      <td>0.030</td>\n",
       "    </tr>\n",
       "    <tr>\n",
       "      <th>1999-03-19</th>\n",
       "      <td>0.120</td>\n",
       "      <td>0.860</td>\n",
       "      <td>0.020</td>\n",
       "    </tr>\n",
       "    <tr>\n",
       "      <th>1999-03-22</th>\n",
       "      <td>0.125</td>\n",
       "      <td>0.835</td>\n",
       "      <td>0.040</td>\n",
       "    </tr>\n",
       "    <tr>\n",
       "      <th>...</th>\n",
       "      <td>...</td>\n",
       "      <td>...</td>\n",
       "      <td>...</td>\n",
       "    </tr>\n",
       "    <tr>\n",
       "      <th>2022-04-28</th>\n",
       "      <td>0.180</td>\n",
       "      <td>0.630</td>\n",
       "      <td>0.190</td>\n",
       "    </tr>\n",
       "    <tr>\n",
       "      <th>2022-04-29</th>\n",
       "      <td>0.240</td>\n",
       "      <td>0.660</td>\n",
       "      <td>0.100</td>\n",
       "    </tr>\n",
       "    <tr>\n",
       "      <th>2022-05-02</th>\n",
       "      <td>0.370</td>\n",
       "      <td>0.560</td>\n",
       "      <td>0.070</td>\n",
       "    </tr>\n",
       "    <tr>\n",
       "      <th>2022-05-03</th>\n",
       "      <td>0.315</td>\n",
       "      <td>0.620</td>\n",
       "      <td>0.065</td>\n",
       "    </tr>\n",
       "    <tr>\n",
       "      <th>2022-05-04</th>\n",
       "      <td>0.275</td>\n",
       "      <td>0.665</td>\n",
       "      <td>0.060</td>\n",
       "    </tr>\n",
       "  </tbody>\n",
       "</table>\n",
       "<p>5843 rows × 3 columns</p>\n",
       "</div>"
      ],
      "text/plain": [
       "            down50  side50   up50\n",
       "1999-03-16   0.135   0.815  0.050\n",
       "1999-03-17   0.110   0.860  0.030\n",
       "1999-03-18   0.135   0.835  0.030\n",
       "1999-03-19   0.120   0.860  0.020\n",
       "1999-03-22   0.125   0.835  0.040\n",
       "...            ...     ...    ...\n",
       "2022-04-28   0.180   0.630  0.190\n",
       "2022-04-29   0.240   0.660  0.100\n",
       "2022-05-02   0.370   0.560  0.070\n",
       "2022-05-03   0.315   0.620  0.065\n",
       "2022-05-04   0.275   0.665  0.060\n",
       "\n",
       "[5843 rows x 3 columns]"
      ]
     },
     "execution_count": 27,
     "metadata": {},
     "output_type": "execute_result"
    }
   ],
   "source": [
    "trend"
   ]
  },
  {
   "cell_type": "code",
   "execution_count": 48,
   "id": "bb2c3fcf",
   "metadata": {},
   "outputs": [],
   "source": [
    "quotes = instruments.quotes(fields='ohlc')"
   ]
  },
  {
   "cell_type": "code",
   "execution_count": 54,
   "id": "dc427e58",
   "metadata": {},
   "outputs": [],
   "source": [
    "s=instruments['W'].quotes()"
   ]
  },
  {
   "cell_type": "code",
   "execution_count": 58,
   "id": "adc630e8",
   "metadata": {},
   "outputs": [],
   "source": [
    "s.TREND(direction='up', period=50, inplace=True)"
   ]
  },
  {
   "cell_type": "code",
   "execution_count": 59,
   "id": "d3e45ecd",
   "metadata": {},
   "outputs": [
    {
     "data": {
      "text/html": [
       "<div>\n",
       "<style scoped>\n",
       "    .dataframe tbody tr th:only-of-type {\n",
       "        vertical-align: middle;\n",
       "    }\n",
       "\n",
       "    .dataframe tbody tr th {\n",
       "        vertical-align: top;\n",
       "    }\n",
       "\n",
       "    .dataframe thead th {\n",
       "        text-align: right;\n",
       "    }\n",
       "</style>\n",
       "<table border=\"1\" class=\"dataframe\">\n",
       "  <thead>\n",
       "    <tr style=\"text-align: right;\">\n",
       "      <th>field</th>\n",
       "      <th>open</th>\n",
       "      <th>high</th>\n",
       "      <th>low</th>\n",
       "      <th>close</th>\n",
       "      <th>volume</th>\n",
       "      <th>oi</th>\n",
       "      <th>trendup50</th>\n",
       "    </tr>\n",
       "    <tr>\n",
       "      <th>date</th>\n",
       "      <th></th>\n",
       "      <th></th>\n",
       "      <th></th>\n",
       "      <th></th>\n",
       "      <th></th>\n",
       "      <th></th>\n",
       "      <th></th>\n",
       "    </tr>\n",
       "  </thead>\n",
       "  <tbody>\n",
       "    <tr>\n",
       "      <th>1959-10-01</th>\n",
       "      <td>1803.395020</td>\n",
       "      <td>1803.994873</td>\n",
       "      <td>1802.895020</td>\n",
       "      <td>1803.294922</td>\n",
       "      <td>3525</td>\n",
       "      <td>44311</td>\n",
       "      <td>NaN</td>\n",
       "    </tr>\n",
       "    <tr>\n",
       "      <th>1959-10-02</th>\n",
       "      <td>1803.294922</td>\n",
       "      <td>1803.694946</td>\n",
       "      <td>1802.895020</td>\n",
       "      <td>1803.594971</td>\n",
       "      <td>3004</td>\n",
       "      <td>44177</td>\n",
       "      <td>NaN</td>\n",
       "    </tr>\n",
       "    <tr>\n",
       "      <th>1959-10-05</th>\n",
       "      <td>1803.494873</td>\n",
       "      <td>1803.994873</td>\n",
       "      <td>1802.994873</td>\n",
       "      <td>1802.994873</td>\n",
       "      <td>1339</td>\n",
       "      <td>44088</td>\n",
       "      <td>NaN</td>\n",
       "    </tr>\n",
       "    <tr>\n",
       "      <th>1959-10-06</th>\n",
       "      <td>1802.994873</td>\n",
       "      <td>1803.895020</td>\n",
       "      <td>1802.994873</td>\n",
       "      <td>1803.895020</td>\n",
       "      <td>2321</td>\n",
       "      <td>43892</td>\n",
       "      <td>NaN</td>\n",
       "    </tr>\n",
       "    <tr>\n",
       "      <th>1959-10-07</th>\n",
       "      <td>1803.895020</td>\n",
       "      <td>1804.294922</td>\n",
       "      <td>1803.694946</td>\n",
       "      <td>1804.294922</td>\n",
       "      <td>1915</td>\n",
       "      <td>43432</td>\n",
       "      <td>NaN</td>\n",
       "    </tr>\n",
       "    <tr>\n",
       "      <th>...</th>\n",
       "      <td>...</td>\n",
       "      <td>...</td>\n",
       "      <td>...</td>\n",
       "      <td>...</td>\n",
       "      <td>...</td>\n",
       "      <td>...</td>\n",
       "      <td>...</td>\n",
       "    </tr>\n",
       "    <tr>\n",
       "      <th>2022-04-28</th>\n",
       "      <td>1088.000000</td>\n",
       "      <td>1106.500000</td>\n",
       "      <td>1081.000000</td>\n",
       "      <td>1085.750000</td>\n",
       "      <td>28123</td>\n",
       "      <td>179732</td>\n",
       "      <td>0.305</td>\n",
       "    </tr>\n",
       "    <tr>\n",
       "      <th>2022-04-29</th>\n",
       "      <td>1085.000000</td>\n",
       "      <td>1102.500000</td>\n",
       "      <td>1054.250000</td>\n",
       "      <td>1055.750000</td>\n",
       "      <td>36624</td>\n",
       "      <td>179341</td>\n",
       "      <td>0.205</td>\n",
       "    </tr>\n",
       "    <tr>\n",
       "      <th>2022-05-02</th>\n",
       "      <td>1049.000000</td>\n",
       "      <td>1071.500000</td>\n",
       "      <td>1034.250000</td>\n",
       "      <td>1055.500000</td>\n",
       "      <td>39695</td>\n",
       "      <td>179240</td>\n",
       "      <td>0.195</td>\n",
       "    </tr>\n",
       "    <tr>\n",
       "      <th>2022-05-03</th>\n",
       "      <td>1056.250000</td>\n",
       "      <td>1068.750000</td>\n",
       "      <td>1044.000000</td>\n",
       "      <td>1045.500000</td>\n",
       "      <td>29749</td>\n",
       "      <td>177551</td>\n",
       "      <td>0.145</td>\n",
       "    </tr>\n",
       "    <tr>\n",
       "      <th>2022-05-04</th>\n",
       "      <td>1047.000000</td>\n",
       "      <td>1089.000000</td>\n",
       "      <td>1042.250000</td>\n",
       "      <td>1076.500000</td>\n",
       "      <td>42332</td>\n",
       "      <td>177503</td>\n",
       "      <td>0.100</td>\n",
       "    </tr>\n",
       "  </tbody>\n",
       "</table>\n",
       "<p>15773 rows × 7 columns</p>\n",
       "</div>"
      ],
      "text/plain": [
       "field              open         high          low        close  volume  \\\n",
       "date                                                                     \n",
       "1959-10-01  1803.395020  1803.994873  1802.895020  1803.294922    3525   \n",
       "1959-10-02  1803.294922  1803.694946  1802.895020  1803.594971    3004   \n",
       "1959-10-05  1803.494873  1803.994873  1802.994873  1802.994873    1339   \n",
       "1959-10-06  1802.994873  1803.895020  1802.994873  1803.895020    2321   \n",
       "1959-10-07  1803.895020  1804.294922  1803.694946  1804.294922    1915   \n",
       "...                 ...          ...          ...          ...     ...   \n",
       "2022-04-28  1088.000000  1106.500000  1081.000000  1085.750000   28123   \n",
       "2022-04-29  1085.000000  1102.500000  1054.250000  1055.750000   36624   \n",
       "2022-05-02  1049.000000  1071.500000  1034.250000  1055.500000   39695   \n",
       "2022-05-03  1056.250000  1068.750000  1044.000000  1045.500000   29749   \n",
       "2022-05-04  1047.000000  1089.000000  1042.250000  1076.500000   42332   \n",
       "\n",
       "field           oi  trendup50  \n",
       "date                           \n",
       "1959-10-01   44311        NaN  \n",
       "1959-10-02   44177        NaN  \n",
       "1959-10-05   44088        NaN  \n",
       "1959-10-06   43892        NaN  \n",
       "1959-10-07   43432        NaN  \n",
       "...            ...        ...  \n",
       "2022-04-28  179732      0.305  \n",
       "2022-04-29  179341      0.205  \n",
       "2022-05-02  179240      0.195  \n",
       "2022-05-03  177551      0.145  \n",
       "2022-05-04  177503      0.100  \n",
       "\n",
       "[15773 rows x 7 columns]"
      ]
     },
     "execution_count": 59,
     "metadata": {},
     "output_type": "execute_result"
    }
   ],
   "source": [
    "s"
   ]
  },
  {
   "cell_type": "code",
   "execution_count": 47,
   "id": "a04b864a",
   "metadata": {},
   "outputs": [
    {
     "ename": "NameError",
     "evalue": "name 'quote' is not defined",
     "output_type": "error",
     "traceback": [
      "\u001b[1;31m---------------------------------------------------------------------------\u001b[0m",
      "\u001b[1;31mNameError\u001b[0m                                 Traceback (most recent call last)",
      "Cell \u001b[1;32mIn[47], line 1\u001b[0m\n\u001b[1;32m----> 1\u001b[0m \u001b[43mquote\u001b[49m\n",
      "\u001b[1;31mNameError\u001b[0m: name 'quote' is not defined"
     ]
    }
   ],
   "source": [
    "quote"
   ]
  },
  {
   "cell_type": "code",
   "execution_count": 40,
   "id": "f5a654d8",
   "metadata": {},
   "outputs": [
    {
     "data": {
      "text/html": [
       "<div>\n",
       "<style scoped>\n",
       "    .dataframe tbody tr th:only-of-type {\n",
       "        vertical-align: middle;\n",
       "    }\n",
       "\n",
       "    .dataframe tbody tr th {\n",
       "        vertical-align: top;\n",
       "    }\n",
       "\n",
       "    .dataframe thead th {\n",
       "        text-align: right;\n",
       "    }\n",
       "</style>\n",
       "<table border=\"1\" class=\"dataframe\">\n",
       "  <thead>\n",
       "    <tr style=\"text-align: right;\">\n",
       "      <th></th>\n",
       "      <th>open</th>\n",
       "      <th>high</th>\n",
       "      <th>low</th>\n",
       "      <th>close</th>\n",
       "      <th>down50</th>\n",
       "      <th>side50</th>\n",
       "      <th>up50</th>\n",
       "    </tr>\n",
       "    <tr>\n",
       "      <th>date</th>\n",
       "      <th></th>\n",
       "      <th></th>\n",
       "      <th></th>\n",
       "      <th></th>\n",
       "      <th></th>\n",
       "      <th></th>\n",
       "      <th></th>\n",
       "    </tr>\n",
       "  </thead>\n",
       "  <tbody>\n",
       "    <tr>\n",
       "      <th>1999-03-16</th>\n",
       "      <td>0.26790</td>\n",
       "      <td>0.26890</td>\n",
       "      <td>0.26420</td>\n",
       "      <td>0.26800</td>\n",
       "      <td>0.135</td>\n",
       "      <td>0.815</td>\n",
       "      <td>0.050</td>\n",
       "    </tr>\n",
       "    <tr>\n",
       "      <th>1999-03-17</th>\n",
       "      <td>0.26700</td>\n",
       "      <td>0.26960</td>\n",
       "      <td>0.26640</td>\n",
       "      <td>0.26780</td>\n",
       "      <td>0.110</td>\n",
       "      <td>0.860</td>\n",
       "      <td>0.030</td>\n",
       "    </tr>\n",
       "    <tr>\n",
       "      <th>1999-03-18</th>\n",
       "      <td>0.27150</td>\n",
       "      <td>0.27210</td>\n",
       "      <td>0.26820</td>\n",
       "      <td>0.26890</td>\n",
       "      <td>0.135</td>\n",
       "      <td>0.835</td>\n",
       "      <td>0.030</td>\n",
       "    </tr>\n",
       "    <tr>\n",
       "      <th>1999-03-19</th>\n",
       "      <td>0.27070</td>\n",
       "      <td>0.27220</td>\n",
       "      <td>0.26970</td>\n",
       "      <td>0.27030</td>\n",
       "      <td>0.120</td>\n",
       "      <td>0.860</td>\n",
       "      <td>0.020</td>\n",
       "    </tr>\n",
       "    <tr>\n",
       "      <th>1999-03-22</th>\n",
       "      <td>0.27300</td>\n",
       "      <td>0.27670</td>\n",
       "      <td>0.27220</td>\n",
       "      <td>0.27610</td>\n",
       "      <td>0.125</td>\n",
       "      <td>0.835</td>\n",
       "      <td>0.040</td>\n",
       "    </tr>\n",
       "    <tr>\n",
       "      <th>...</th>\n",
       "      <td>...</td>\n",
       "      <td>...</td>\n",
       "      <td>...</td>\n",
       "      <td>...</td>\n",
       "      <td>...</td>\n",
       "      <td>...</td>\n",
       "      <td>...</td>\n",
       "    </tr>\n",
       "    <tr>\n",
       "      <th>2022-04-28</th>\n",
       "      <td>0.71290</td>\n",
       "      <td>0.71660</td>\n",
       "      <td>0.70595</td>\n",
       "      <td>0.70995</td>\n",
       "      <td>0.180</td>\n",
       "      <td>0.630</td>\n",
       "      <td>0.190</td>\n",
       "    </tr>\n",
       "    <tr>\n",
       "      <th>2022-04-29</th>\n",
       "      <td>0.71035</td>\n",
       "      <td>0.71845</td>\n",
       "      <td>0.70610</td>\n",
       "      <td>0.70870</td>\n",
       "      <td>0.240</td>\n",
       "      <td>0.660</td>\n",
       "      <td>0.100</td>\n",
       "    </tr>\n",
       "    <tr>\n",
       "      <th>2022-05-02</th>\n",
       "      <td>0.70710</td>\n",
       "      <td>0.70870</td>\n",
       "      <td>0.70355</td>\n",
       "      <td>0.70415</td>\n",
       "      <td>0.370</td>\n",
       "      <td>0.560</td>\n",
       "      <td>0.070</td>\n",
       "    </tr>\n",
       "    <tr>\n",
       "      <th>2022-05-03</th>\n",
       "      <td>0.70570</td>\n",
       "      <td>0.71535</td>\n",
       "      <td>0.70525</td>\n",
       "      <td>0.70990</td>\n",
       "      <td>0.315</td>\n",
       "      <td>0.620</td>\n",
       "      <td>0.065</td>\n",
       "    </tr>\n",
       "    <tr>\n",
       "      <th>2022-05-04</th>\n",
       "      <td>0.71005</td>\n",
       "      <td>0.72700</td>\n",
       "      <td>0.70925</td>\n",
       "      <td>0.72370</td>\n",
       "      <td>0.275</td>\n",
       "      <td>0.665</td>\n",
       "      <td>0.060</td>\n",
       "    </tr>\n",
       "  </tbody>\n",
       "</table>\n",
       "<p>5843 rows × 7 columns</p>\n",
       "</div>"
      ],
      "text/plain": [
       "               open     high      low    close  down50  side50   up50\n",
       "date                                                                 \n",
       "1999-03-16  0.26790  0.26890  0.26420  0.26800   0.135   0.815  0.050\n",
       "1999-03-17  0.26700  0.26960  0.26640  0.26780   0.110   0.860  0.030\n",
       "1999-03-18  0.27150  0.27210  0.26820  0.26890   0.135   0.835  0.030\n",
       "1999-03-19  0.27070  0.27220  0.26970  0.27030   0.120   0.860  0.020\n",
       "1999-03-22  0.27300  0.27670  0.27220  0.27610   0.125   0.835  0.040\n",
       "...             ...      ...      ...      ...     ...     ...    ...\n",
       "2022-04-28  0.71290  0.71660  0.70595  0.70995   0.180   0.630  0.190\n",
       "2022-04-29  0.71035  0.71845  0.70610  0.70870   0.240   0.660  0.100\n",
       "2022-05-02  0.70710  0.70870  0.70355  0.70415   0.370   0.560  0.070\n",
       "2022-05-03  0.70570  0.71535  0.70525  0.70990   0.315   0.620  0.065\n",
       "2022-05-04  0.71005  0.72700  0.70925  0.72370   0.275   0.665  0.060\n",
       "\n",
       "[5843 rows x 7 columns]"
      ]
     },
     "execution_count": 40,
     "metadata": {},
     "output_type": "execute_result"
    }
   ],
   "source": [
    "q.join(trend).dropna()"
   ]
  },
  {
   "cell_type": "code",
   "execution_count": 41,
   "id": "e46e224e",
   "metadata": {},
   "outputs": [
    {
     "data": {
      "text/plain": [
       "1"
      ]
     },
     "execution_count": 41,
     "metadata": {},
     "output_type": "execute_result"
    }
   ],
   "source": [
    "[1,2,3].index(2)"
   ]
  },
  {
   "cell_type": "code",
   "execution_count": null,
   "id": "c1164b8d",
   "metadata": {},
   "outputs": [
    {
     "name": "stdout",
     "output_type": "stream",
     "text": [
      "AD\n",
      "확률 생성중\n"
     ]
    },
    {
     "name": "stderr",
     "output_type": "stream",
     "text": [
      "Feature Extraction:  15%|████████▍                                                | 5222/35468 [03:39<21:25, 23.53it/s]"
     ]
    }
   ],
   "source": [
    "symbols = list(quotes.columns.levels[0])\n",
    "for symbol in symbols:\n",
    "    savefile = h5py.File(savefilepath, 'a')\n",
    "    print(symbol)\n",
    "    quote = quotes[symbol].dropna()\n",
    "    df = quote.reset_index()\n",
    "    data=[]\n",
    "    dates = []\n",
    "    for i in range(period, len(quote)+1):\n",
    "        window = quote.iloc[i-period:i]\n",
    "        window = (window - window.mean())/window.std().mean()\n",
    "        window.reset_index(inplace=True)\n",
    "        dates.append(window['date'].max())\n",
    "        data.append(window[['open','high','low','close']].values.tolist())\n",
    "    print(\"확률 생성중\")\n",
    "    data = np.moveaxis(np.array(data), 1,2)\n",
    "    prob = model.predict_proba(data)\n",
    "    trend = pd.DataFrame(data = prob, columns =['down','no','up'], index=dates)\n",
    "    \n",
    "    if symbol not in savefile.keys():\n",
    "        savefile.create_group(symbol)\n",
    "    \n",
    "    trend.insert(0,'date', trend.index.values.astype('M8[s]').astype('i'))\n",
    "    arr = np.array(trend.values.tolist())\n",
    "    savefile[symbol].create_dataset(f\"trend{period}\", arr.shape, data=arr)\n",
    "    savefile.close()\n",
    "    "
   ]
  },
  {
   "cell_type": "code",
   "execution_count": 137,
   "id": "cf29dd7b",
   "metadata": {},
   "outputs": [],
   "source": [
    "savefile.close()"
   ]
  },
  {
   "cell_type": "code",
   "execution_count": 54,
   "id": "f2fc01ef",
   "metadata": {},
   "outputs": [
    {
     "data": {
      "text/html": [
       "\n",
       "        <iframe\n",
       "            width=\"900\"\n",
       "            height=\"700\"\n",
       "            src=\"../../temp/temporary_chart.html\"\n",
       "            frameborder=\"0\"\n",
       "            allowfullscreen\n",
       "            \n",
       "        ></iframe>\n",
       "        "
      ],
      "text/plain": [
       "<IPython.lib.display.IFrame at 0x284b6f31bb0>"
      ]
     },
     "metadata": {},
     "output_type": "display_data"
    }
   ],
   "source": [
    "highchart([\n",
    "    {'data':ad, 'type':'candlestick'},\n",
    "    {'data':trend['up'], 'type':'line','yaxis':'22'},\n",
    "    {'data':trend['down'], 'type':'line','yaxis':'22'},\n",
    "    {'data':trend['no'], 'type':'line','yaxis':'22'}\n",
    "])"
   ]
  },
  {
   "cell_type": "code",
   "execution_count": null,
   "id": "4cfc7765",
   "metadata": {},
   "outputs": [],
   "source": []
  }
 ],
 "metadata": {
  "kernelspec": {
   "display_name": "Python 3 (ipykernel)",
   "language": "python",
   "name": "python3"
  },
  "language_info": {
   "codemirror_mode": {
    "name": "ipython",
    "version": 3
   },
   "file_extension": ".py",
   "mimetype": "text/x-python",
   "name": "python",
   "nbconvert_exporter": "python",
   "pygments_lexer": "ipython3",
   "version": "3.9.16"
  }
 },
 "nbformat": 4,
 "nbformat_minor": 5
}
