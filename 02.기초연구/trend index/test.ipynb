{
 "cells": [
  {
   "cell_type": "code",
   "execution_count": 1,
   "id": "551c9a34",
   "metadata": {},
   "outputs": [],
   "source": [
    "%matplotlib inline\n",
    "import sys, os\n",
    "sys.path.append('../../')\n",
    "import h5py\n",
    "import numpy as np\n",
    "import pandas as pd\n",
    "from datetime import datetime\n",
    "import matplotlib.pyplot as plt\n",
    "from tools.instruments import instruments\n",
    "from tools.quotes import Quotes\n",
    "from tools.display import highchart\n",
    "from IPython.display import clear_output\n",
    "import time"
   ]
  },
  {
   "cell_type": "code",
   "execution_count": 2,
   "id": "e8f057ce",
   "metadata": {},
   "outputs": [],
   "source": [
    "%load_ext autoreload\n",
    "%aimport tools.quotes\n",
    "%aimport tools.instruments\n",
    "%autoreload 2"
   ]
  },
  {
   "cell_type": "code",
   "execution_count": 6,
   "id": "5e622432",
   "metadata": {},
   "outputs": [],
   "source": [
    "s = instruments['NQ'].quotes(fields='ohlc')"
   ]
  },
  {
   "cell_type": "code",
   "execution_count": 7,
   "id": "adc630e8",
   "metadata": {},
   "outputs": [],
   "source": [
    "u=s.TREND(direction='up', period=50)\n",
    "d=s.TREND(direction='down', period=50)\n",
    "n=s.TREND(direction='side', period=50)"
   ]
  },
  {
   "cell_type": "code",
   "execution_count": 8,
   "id": "a04b864a",
   "metadata": {},
   "outputs": [
    {
     "data": {
      "text/html": [
       "\n",
       "        <iframe\n",
       "            width=\"900\"\n",
       "            height=\"700\"\n",
       "            src=\"../../temp/temporary_chart.html\"\n",
       "            frameborder=\"0\"\n",
       "            allowfullscreen\n",
       "            \n",
       "        ></iframe>\n",
       "        "
      ],
      "text/plain": [
       "<IPython.lib.display.IFrame at 0x157feb30940>"
      ]
     },
     "metadata": {},
     "output_type": "display_data"
    }
   ],
   "source": [
    "highchart([\n",
    "    {'data': s, 'type':'candlestick'},\n",
    "    {'data':u, 'type': 'line', 'yaxis':'b'},\n",
    "    {'data':d, 'type':'line', 'yaxis': 'b'},\n",
    "    {'data':n, 'type':'line', 'yaxis': 'b'}\n",
    "])"
   ]
  },
  {
   "cell_type": "code",
   "execution_count": 73,
   "id": "959b3c32",
   "metadata": {},
   "outputs": [],
   "source": [
    "s = s.join(t, how='left').sort_index(axis=1, level=0, sort_remaining=False)"
   ]
  },
  {
   "cell_type": "code",
   "execution_count": 75,
   "id": "bd353fbe",
   "metadata": {},
   "outputs": [
    {
     "data": {
      "text/plain": [
       "pandas.core.frame.DataFrame"
      ]
     },
     "execution_count": 75,
     "metadata": {},
     "output_type": "execute_result"
    }
   ],
   "source": [
    "type(s)"
   ]
  }
 ],
 "metadata": {
  "kernelspec": {
   "display_name": "Python 3 (ipykernel)",
   "language": "python",
   "name": "python3"
  },
  "language_info": {
   "codemirror_mode": {
    "name": "ipython",
    "version": 3
   },
   "file_extension": ".py",
   "mimetype": "text/x-python",
   "name": "python",
   "nbconvert_exporter": "python",
   "pygments_lexer": "ipython3",
   "version": "3.9.16"
  }
 },
 "nbformat": 4,
 "nbformat_minor": 5
}
