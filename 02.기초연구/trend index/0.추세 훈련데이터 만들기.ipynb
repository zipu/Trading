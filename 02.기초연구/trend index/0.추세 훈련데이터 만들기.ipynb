{
 "cells": [
  {
   "cell_type": "markdown",
   "metadata": {},
   "source": [
    "### 추세\n",
    "- 추세라는 것은 시장의 현재 방향성을 주관적 정의에 따라 구분한 것으로 절대적이지 않음\n",
    "- 나는 추세를 1)상승추세 2)횡보추세 3)하락추세 세가지로 분류함\n",
    "- 각 추세는 기본적으로 아래의 기준으로 정의함\n",
    "#### 1. 상승추세\n",
    "- 대충 봤을때 누가 보더라도 상승추세라고 말할 수 있는 패턴\n",
    "- 주어진 타임 프레임에서 종가 > 시가 이어야 함\n",
    "- 양의 기울기를 가진 채널을 따라 저점과 고점을 높혀가는 패턴은 베스트\n",
    "- 횡보 -> 급등 -> 횡보 의 경우 급등구간이 처음 2/3 이전에 발생해야 함\n",
    "\n",
    "#### 2. 하락추세\n",
    "- 대충 봤을때 누가 보더라도 하락추세라고 말할 수 있는 패턴\n",
    "- 주어진 타임 프레임에서 종가 < 시가 이어야 함\n",
    "- 음의 기울기를 가진 채널을 따라 저점과 고점을 낮춰가는 패턴은 베스트\n",
    "- 횡보후 마지막 1/3 구간에서 급락하는 경우도 하락 추세로 분류 \n",
    "\n",
    "#### 3. 횡보추세\n",
    "- 상승추세와 하락추세가 아니면 횡보"
   ]
  },
  {
   "cell_type": "code",
   "execution_count": 1,
   "metadata": {},
   "outputs": [],
   "source": [
    "import sys, os\n",
    "sys.path.append('../..')\n",
    "from tools import ML\n",
    "from tools.instruments import instruments\n",
    "from tools.display import ohlc_chart, highchart\n",
    "from tools.datatools import norm\n",
    "import h5py\n",
    "import matplotlib.pyplot as plt\n",
    "import numpy as np\n",
    "from IPython.display import clear_output\n",
    "import time"
   ]
  },
  {
   "cell_type": "code",
   "execution_count": 2,
   "metadata": {},
   "outputs": [],
   "source": [
    "%load_ext autoreload\n",
    "%aimport tools.ML\n",
    "%aimport tools.display\n",
    "%autoreload 2"
   ]
  },
  {
   "cell_type": "markdown",
   "metadata": {},
   "source": [
    "### 0. Parameters"
   ]
  },
  {
   "cell_type": "code",
   "execution_count": 3,
   "metadata": {},
   "outputs": [],
   "source": [
    "period= 200\n",
    "filepath = os.path.join('..','..','data','trend index','training set', f'trend_{period}day.hdf')\n",
    "training_period = '2009-12-31'"
   ]
  },
  {
   "cell_type": "markdown",
   "metadata": {},
   "source": [
    "### 1. Gathering Data"
   ]
  },
  {
   "cell_type": "code",
   "execution_count": 8,
   "metadata": {},
   "outputs": [],
   "source": [
    "quotes = instruments.quotes(fields='ohlc')[:training_period].copy()\n",
    "symbols = list(quotes.columns.levels[0])"
   ]
  },
  {
   "cell_type": "code",
   "execution_count": null,
   "metadata": {
    "scrolled": false
   },
   "outputs": [
    {
     "data": {
      "text/html": [
       "\n",
       "        <iframe\n",
       "            width=\"900\"\n",
       "            height=\"700\"\n",
       "            src=\"../../temp/temporary_chart.html\"\n",
       "            frameborder=\"0\"\n",
       "            allowfullscreen\n",
       "            \n",
       "        ></iframe>\n",
       "        "
      ],
      "text/plain": [
       "<IPython.lib.display.IFrame at 0x2125e780040>"
      ]
     },
     "metadata": {},
     "output_type": "display_data"
    },
    {
     "name": "stdout",
     "output_type": "stream",
     "text": [
      "data length: 1002\n"
     ]
    }
   ],
   "source": [
    "file = h5py.File(filepath, mode='a')\n",
    "\n",
    "num_dim = 4 #open, high, low, close\n",
    "if 'ohlc' not in file.keys():\n",
    "        file.create_dataset('ohlc', (0, num_dim, period), maxshape=(None, num_dim, period), dtype='float32', compression='gzip')\n",
    "        file.create_dataset('trend', (0,), maxshape=(None,), dtype='i')\n",
    "        \n",
    "Train, Trend  = file['ohlc'], file['trend']\n",
    "\n",
    "size = len(Train)\n",
    "while True:\n",
    "    # 상품 랜덤 선택\n",
    "    symbol = np.random.choice(symbols)\n",
    "    name = instruments[symbol].name\n",
    "    quote = quotes[symbol].dropna()\n",
    "    #print(instruments[symbol].name)\n",
    "    \n",
    "    # 10세트 데이터 랜덤 선택. quote 없으면 넘어감\n",
    "    if len(quote) > period+100:\n",
    "        indexes = np.random.randint(0, len(quote)-period, 10)\n",
    "    else:\n",
    "        continue\n",
    "        \n",
    "    for index in indexes:\n",
    "        # 데이터 셋 선택 및 규격확\n",
    "        data = quote.iloc[index:index+period]\n",
    "        ohlc = norm(data.values)#(data - data.mean())/data.std().mean()\n",
    "        highchart([{ 'data':data, 'name':name, 'type':'candlestick'}], height=600)\n",
    "        \n",
    "        time.sleep(0.1)\n",
    "        print(f\"data length: {size}\")\n",
    "        trend = input(\"추세? 하락(-1), 없음(0), 상승(1): \")\n",
    "        if (trend not in ['-1','0','1']):\n",
    "            print(f\"You pressed trend:{trend}\")\n",
    "            break\n",
    "        else:\n",
    "            size = Train.shape[0]\n",
    "            \n",
    "            Train.resize(size+1, axis=0)\n",
    "            Trend.resize(size+1, axis=0)\n",
    "            #sktime 에 사용되는 데이터 구조가 (데이터 갯수, num_dims, period) 라서 변경함\n",
    "            Train[size] = np.moveaxis(ohlc, 0, 1) \n",
    "            Trend[size] = int(trend)\n",
    "\n",
    "        clear_output(wait=True)\n",
    "    \n",
    "    if (trend not in ['-1','0','1']):\n",
    "            break\n",
    "file.close()"
   ]
  },
  {
   "cell_type": "code",
   "execution_count": 47,
   "metadata": {},
   "outputs": [],
   "source": [
    "file.close()"
   ]
  },
  {
   "cell_type": "markdown",
   "metadata": {
    "collapsed": true
   },
   "source": [
    "### 2. Verification"
   ]
  },
  {
   "cell_type": "code",
   "execution_count": 48,
   "metadata": {},
   "outputs": [],
   "source": [
    "from collections import Counter"
   ]
  },
  {
   "cell_type": "code",
   "execution_count": 49,
   "metadata": {},
   "outputs": [],
   "source": [
    "file = h5py.File(filepath, mode='r')"
   ]
  },
  {
   "cell_type": "code",
   "execution_count": 50,
   "metadata": {},
   "outputs": [
    {
     "name": "stdout",
     "output_type": "stream",
     "text": [
      "(1006, 4, 50)\n",
      "(1006,)\n"
     ]
    }
   ],
   "source": [
    "print(file['ohlc'].shape)\n",
    "print(file['trend'].shape)"
   ]
  },
  {
   "cell_type": "code",
   "execution_count": 51,
   "metadata": {},
   "outputs": [
    {
     "data": {
      "text/plain": [
       "Counter({1: 293, -1: 259, 0: 454})"
      ]
     },
     "execution_count": 51,
     "metadata": {},
     "output_type": "execute_result"
    }
   ],
   "source": [
    "Y = file['trend']\n",
    "Counter(Y)"
   ]
  },
  {
   "cell_type": "code",
   "execution_count": 52,
   "metadata": {},
   "outputs": [],
   "source": [
    "file.close()"
   ]
  },
  {
   "cell_type": "code",
   "execution_count": null,
   "metadata": {},
   "outputs": [],
   "source": []
  }
 ],
 "metadata": {
  "kernelspec": {
   "display_name": "Python 3 (ipykernel)",
   "language": "python",
   "name": "python3"
  },
  "language_info": {
   "codemirror_mode": {
    "name": "ipython",
    "version": 3
   },
   "file_extension": ".py",
   "mimetype": "text/x-python",
   "name": "python",
   "nbconvert_exporter": "python",
   "pygments_lexer": "ipython3",
   "version": "3.9.16"
  }
 },
 "nbformat": 4,
 "nbformat_minor": 2
}
