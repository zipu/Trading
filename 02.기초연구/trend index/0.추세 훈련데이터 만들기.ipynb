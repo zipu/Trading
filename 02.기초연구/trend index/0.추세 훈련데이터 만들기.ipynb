{
 "cells": [
  {
   "cell_type": "code",
   "execution_count": 1,
   "metadata": {},
   "outputs": [],
   "source": [
    "import sys, os\n",
    "sys.path.append('../..')\n",
    "from tools import ML\n",
    "from tools.instruments import instruments\n",
    "from tools.display import ohlc_chart, highchart\n",
    "import h5py\n",
    "import matplotlib.pyplot as plt\n",
    "import numpy as np\n",
    "from IPython.display import clear_output\n",
    "import time"
   ]
  },
  {
   "cell_type": "code",
   "execution_count": 2,
   "metadata": {},
   "outputs": [],
   "source": [
    "%load_ext autoreload\n",
    "%aimport tools.ML\n",
    "%aimport tools.display\n",
    "%autoreload 2"
   ]
  },
  {
   "cell_type": "markdown",
   "metadata": {},
   "source": [
    "### 0. Parameters"
   ]
  },
  {
   "cell_type": "code",
   "execution_count": 5,
   "metadata": {},
   "outputs": [],
   "source": [
    "period= 50\n",
    "filepath = os.path.join('..','..','data','trend index','training set', 'trend_50day.hdf')\n",
    "training_period = '2009-12-31'"
   ]
  },
  {
   "cell_type": "code",
   "execution_count": 20,
   "metadata": {},
   "outputs": [],
   "source": [
    "file = h5py.File(filepath, mode='r')\n",
    "file2 = h5py.File('emp', mode='r')"
   ]
  },
  {
   "cell_type": "code",
   "execution_count": 21,
   "metadata": {},
   "outputs": [
    {
     "data": {
      "text/plain": [
       "(422, 4, 50)"
      ]
     },
     "execution_count": 21,
     "metadata": {},
     "output_type": "execute_result"
    }
   ],
   "source": [
    "file2['ohlc'].shape"
   ]
  },
  {
   "cell_type": "code",
   "execution_count": 22,
   "metadata": {},
   "outputs": [
    {
     "data": {
      "text/plain": [
       "(422, 50, 4)"
      ]
     },
     "execution_count": 22,
     "metadata": {},
     "output_type": "execute_result"
    }
   ],
   "source": [
    "file['train'].shape"
   ]
  },
  {
   "cell_type": "code",
   "execution_count": 10,
   "metadata": {},
   "outputs": [],
   "source": [
    "ohlc = np.moveaxis(ohlc, 1, 2)"
   ]
  },
  {
   "cell_type": "code",
   "execution_count": 12,
   "metadata": {},
   "outputs": [
    {
     "data": {
      "text/plain": [
       "(422, 4, 50)"
      ]
     },
     "execution_count": 12,
     "metadata": {},
     "output_type": "execute_result"
    }
   ],
   "source": [
    "ohlc.shape"
   ]
  },
  {
   "cell_type": "code",
   "execution_count": 18,
   "metadata": {},
   "outputs": [
    {
     "data": {
      "text/plain": [
       "<HDF5 dataset \"expect\": shape (422,), type \"<i4\">"
      ]
     },
     "execution_count": 18,
     "metadata": {},
     "output_type": "execute_result"
    }
   ],
   "source": [
    "file2.create_dataset('expect', ohlc.shape, data=ohlc)"
   ]
  },
  {
   "cell_type": "code",
   "execution_count": 19,
   "metadata": {},
   "outputs": [],
   "source": [
    "file2.close()"
   ]
  },
  {
   "cell_type": "code",
   "execution_count": null,
   "metadata": {},
   "outputs": [],
   "source": []
  },
  {
   "cell_type": "markdown",
   "metadata": {},
   "source": [
    "### 1. Gathering Data"
   ]
  },
  {
   "cell_type": "code",
   "execution_count": 4,
   "metadata": {},
   "outputs": [],
   "source": [
    "quotes = instruments.quotes(fields='ohlc')[:training_period].copy()\n",
    "symbols = list(quotes.columns.levels[0])"
   ]
  },
  {
   "cell_type": "code",
   "execution_count": 66,
   "metadata": {},
   "outputs": [
    {
     "data": {
      "text/html": [
       "\n",
       "        <iframe\n",
       "            width=\"900\"\n",
       "            height=\"700\"\n",
       "            src=\"../../temp/temporary_chart.html\"\n",
       "            frameborder=\"0\"\n",
       "            allowfullscreen\n",
       "            \n",
       "        ></iframe>\n",
       "        "
      ],
      "text/plain": [
       "<IPython.lib.display.IFrame at 0x29851ed9f70>"
      ]
     },
     "metadata": {},
     "output_type": "display_data"
    },
    {
     "name": "stdout",
     "output_type": "stream",
     "text": [
      "추세? 하락(-1), 없음(0), 상승(1): x\n",
      "예측? 하락(-1), 관망(0), 상승(1): x\n",
      "You pressed trend:x and guess: x\n"
     ]
    }
   ],
   "source": [
    "file = h5py.File(filepath, mode='a')\n",
    "\n",
    "num_dim = 4 #open, high, low, close\n",
    "if 'train' not in file.keys():\n",
    "        file.create_dataset('train', (0, window, num_dim), maxshape=(None, window, num_dim), dtype='float32', compression='gzip')\n",
    "        file.create_dataset('trend', (0,), maxshape=(None,), dtype='i')\n",
    "        file.create_dataset('guess', (0,), maxshape=(None,), dtype='i')\n",
    "        \n",
    "Train, Trend, Guess  = file['train'], file['trend'], file['guess']\n",
    "\n",
    "\n",
    "while True:\n",
    "    # 상품 랜덤 선택\n",
    "    symbol = np.random.choice(symbols)\n",
    "    name = instruments[symbol].name\n",
    "    quote = quotes[symbol].dropna()\n",
    "    #print(instruments[symbol].name)\n",
    "    \n",
    "    # 10세트 데이터 랜덤 선택. quote 없으면 넘어감\n",
    "    if len(quote) > window+100:\n",
    "        indexes = np.random.randint(0, len(quote)-window, 10)\n",
    "    else:\n",
    "        continue\n",
    "        \n",
    "    for index in indexes:\n",
    "        # 데이터 셋 선택 및 규격확\n",
    "        data = quote.iloc[index:index+window]\n",
    "        train_data = (data - data.mean())/data.std().mean()\n",
    "        highchart([{ 'data':data, 'name':name, 'type':'candlestick'}], height=600)\n",
    "        \n",
    "        time.sleep(0.1)\n",
    "        trend = input(\"추세? 하락(-1), 없음(0), 상승(1): \")\n",
    "        guess = input(\"예측? 하락(-1), 관망(0), 상승(1): \")\n",
    "        if (trend not in ['-1','0','1']) or (guess not in ['-1','0','1']):\n",
    "            print(f\"You pressed trend:{trend} and guess: {guess}\")\n",
    "            break\n",
    "        else:\n",
    "            size = Train.shape[0]\n",
    "            Train.resize(size+1, axis=0)\n",
    "            Trend.resize(size+1, axis=0)\n",
    "            Guess.resize(size+1, axis=0)\n",
    "\n",
    "            Train[size] = data.values\n",
    "            Trend[size] = int(trend)\n",
    "            Guess[size] = int(guess)\n",
    "\n",
    "        clear_output(wait=True)\n",
    "    \n",
    "    if (trend not in ['-1','0','1']) or (guess not in ['-1','0','1']):\n",
    "            break\n",
    "file.close()"
   ]
  },
  {
   "cell_type": "markdown",
   "metadata": {
    "collapsed": true
   },
   "source": [
    "### 2. Verification"
   ]
  },
  {
   "cell_type": "code",
   "execution_count": 67,
   "metadata": {},
   "outputs": [],
   "source": [
    "from collections import Counter"
   ]
  },
  {
   "cell_type": "code",
   "execution_count": 69,
   "metadata": {},
   "outputs": [],
   "source": [
    "file = h5py.File(filepath, mode='r')"
   ]
  },
  {
   "cell_type": "code",
   "execution_count": 70,
   "metadata": {},
   "outputs": [
    {
     "name": "stdout",
     "output_type": "stream",
     "text": [
      "(422, 50, 4)\n",
      "(422,)\n",
      "(422,)\n"
     ]
    }
   ],
   "source": [
    "print(file['train'].shape)\n",
    "print(file['trend'].shape)\n",
    "print(file['guess'].shape)"
   ]
  },
  {
   "cell_type": "code",
   "execution_count": 71,
   "metadata": {},
   "outputs": [
    {
     "data": {
      "text/plain": [
       "Counter({0: 178, -1: 103, 1: 141})"
      ]
     },
     "execution_count": 71,
     "metadata": {},
     "output_type": "execute_result"
    }
   ],
   "source": [
    "Y = file['trend']\n",
    "Counter(Y)"
   ]
  },
  {
   "cell_type": "code",
   "execution_count": 72,
   "metadata": {},
   "outputs": [],
   "source": [
    "file.close()"
   ]
  }
 ],
 "metadata": {
  "kernelspec": {
   "display_name": "Python 3 (ipykernel)",
   "language": "python",
   "name": "python3"
  },
  "language_info": {
   "codemirror_mode": {
    "name": "ipython",
    "version": 3
   },
   "file_extension": ".py",
   "mimetype": "text/x-python",
   "name": "python",
   "nbconvert_exporter": "python",
   "pygments_lexer": "ipython3",
   "version": "3.8.15"
  }
 },
 "nbformat": 4,
 "nbformat_minor": 2
}
