{
 "cells": [
  {
   "cell_type": "code",
   "execution_count": 69,
   "metadata": {},
   "outputs": [],
   "source": [
    "import sys, os\n",
    "sys.path.append('../..')\n",
    "from tools import ML\n",
    "from tools.instruments import instruments\n",
    "from tools.display import ohlc_chart, highchart\n",
    "import h5py\n",
    "import matplotlib.pyplot as plt\n",
    "import numpy as np\n",
    "from IPython.display import clear_output\n",
    "import time"
   ]
  },
  {
   "cell_type": "code",
   "execution_count": 2,
   "metadata": {},
   "outputs": [],
   "source": [
    "%load_ext autoreload\n",
    "%aimport tools.ML\n",
    "%aimport tools.display\n",
    "%autoreload 2"
   ]
  },
  {
   "cell_type": "markdown",
   "metadata": {},
   "source": [
    "### 0. Parameters"
   ]
  },
  {
   "cell_type": "code",
   "execution_count": 16,
   "metadata": {},
   "outputs": [],
   "source": [
    "window = 50\n",
    "filepath = os.path.join('..','..','data','trend index','training set', 'trend_50day.hdf')"
   ]
  },
  {
   "cell_type": "markdown",
   "metadata": {},
   "source": [
    "### 1. Gathering Data"
   ]
  },
  {
   "cell_type": "code",
   "execution_count": 76,
   "metadata": {},
   "outputs": [],
   "source": [
    "file = h5py.File(filepath, mode='a')"
   ]
  },
  {
   "cell_type": "code",
   "execution_count": 65,
   "metadata": {},
   "outputs": [],
   "source": [
    "quotes = instruments.quotes(fields='ohlc').copy()\n",
    "symbols = list(quotes.columns.levels[0])"
   ]
  },
  {
   "cell_type": "code",
   "execution_count": null,
   "metadata": {},
   "outputs": [
    {
     "data": {
      "text/html": [
       "\n",
       "        <iframe\n",
       "            width=\"900\"\n",
       "            height=\"600\"\n",
       "            src=\"../../temp/20230704012156.html\"\n",
       "            frameborder=\"0\"\n",
       "            allowfullscreen\n",
       "            \n",
       "        ></iframe>\n",
       "        "
      ],
      "text/plain": [
       "<IPython.lib.display.IFrame at 0x187597f3b80>"
      ]
     },
     "metadata": {},
     "output_type": "display_data"
    },
    {
     "name": "stdout",
     "output_type": "stream",
     "text": [
      "추세? 하락(-1), 없음(0), 상승(1): 0\n"
     ]
    }
   ],
   "source": [
    "file = h5py.File(filepath, mode='a')\n",
    "\n",
    "num_dim = 4 #open, high, low, close\n",
    "if 'train' not in file.keys():\n",
    "        file.create_dataset('train', (0, window, num_dim), maxshape=(None, window, num_dim), dtype='float32', compression='gzip')\n",
    "        file.create_dataset('trend', (0,), maxshape=(None,), dtype='i')\n",
    "        file.create_dataset('guess', (0,), maxshape=(None,), dtype='i')\n",
    "        \n",
    "Train, Trend, Guess  = file['train'], file['trend'], file['guess']\n",
    "\n",
    "\n",
    "while True:\n",
    "    # 상품 랜덤 선택\n",
    "    symbol = np.random.choice(symbols)\n",
    "    name = instruments[symbol].name\n",
    "    quote = quotes[symbol].dropna()\n",
    "    #print(instruments[symbol].name)\n",
    "    \n",
    "    # 10세트 데이터 랜덤 선택\n",
    "    indexes = np.random.randint(0, len(quote)-window, 10)\n",
    "    for index in indexes:\n",
    "        # 데이터 셋 선택 및 규격확\n",
    "        data = quote.iloc[index:index+window]\n",
    "        train_data = (data - data.mean())/data.std().mean()\n",
    "        highchart([{ 'data':data, 'name':name, 'type':'candlestick'}], height=500)\n",
    "        \n",
    "        time.sleep(0.1)\n",
    "        trend = input(\"추세? 하락(-1), 없음(0), 상승(1): \")\n",
    "        guess = input(\"예측? 하락(-1), 관망(0), 상승(1): \")\n",
    "        if (trend not in ['-1','0','1']) or (guess not in ['-1','0','1']):\n",
    "            print(f\"You pressed trend:{trend} and guess: {guess}\")\n",
    "            break\n",
    "        else:\n",
    "            size = Train.shape[0]\n",
    "            Train.resize(size+1, axis=0)\n",
    "            Trend.resize(size+1, axis=0)\n",
    "            Guess.resize(size+1, axis=0)\n",
    "\n",
    "            Train[size] = data.values\n",
    "            Trend[size] = int(trend)\n",
    "            Guess[size] = int(guess)\n",
    "\n",
    "        clear_output(wait=True)\n",
    "    \n",
    "    if (trend not in ['-1','0','1']) or (guess not in ['-1','0','1']):\n",
    "            break\n",
    "file.close()"
   ]
  },
  {
   "cell_type": "markdown",
   "metadata": {
    "collapsed": true
   },
   "source": [
    "### 2. Verification"
   ]
  },
  {
   "cell_type": "code",
   "execution_count": 7,
   "metadata": {
    "collapsed": true
   },
   "outputs": [],
   "source": [
    "from collections import Counter"
   ]
  },
  {
   "cell_type": "code",
   "execution_count": 8,
   "metadata": {
    "collapsed": true
   },
   "outputs": [],
   "source": [
    "file = open_file('h5py', filepath, mode='r')"
   ]
  },
  {
   "cell_type": "code",
   "execution_count": 9,
   "metadata": {},
   "outputs": [
    {
     "name": "stdout",
     "output_type": "stream",
     "text": [
      "(791, 10, 4)\n",
      "(791,)\n"
     ]
    }
   ],
   "source": [
    "print(file['X'].shape)\n",
    "print(file['Y'].shape)"
   ]
  },
  {
   "cell_type": "code",
   "execution_count": 10,
   "metadata": {},
   "outputs": [
    {
     "data": {
      "text/plain": [
       "Counter({0: 187, 1: 396, 2: 208})"
      ]
     },
     "execution_count": 10,
     "metadata": {},
     "output_type": "execute_result"
    }
   ],
   "source": [
    "Y = file['Y']\n",
    "Counter(Y)"
   ]
  },
  {
   "cell_type": "code",
   "execution_count": 11,
   "metadata": {
    "collapsed": true
   },
   "outputs": [],
   "source": [
    "file.close()"
   ]
  },
  {
   "cell_type": "code",
   "execution_count": null,
   "metadata": {
    "collapsed": true
   },
   "outputs": [],
   "source": []
  }
 ],
 "metadata": {
  "kernelspec": {
   "display_name": "Python 3 (ipykernel)",
   "language": "python",
   "name": "python3"
  },
  "language_info": {
   "codemirror_mode": {
    "name": "ipython",
    "version": 3
   },
   "file_extension": ".py",
   "mimetype": "text/x-python",
   "name": "python",
   "nbconvert_exporter": "python",
   "pygments_lexer": "ipython3",
   "version": "3.9.12"
  }
 },
 "nbformat": 4,
 "nbformat_minor": 2
}
