{
 "cells": [
  {
   "cell_type": "code",
   "execution_count": 57,
   "id": "7083a51d",
   "metadata": {},
   "outputs": [],
   "source": [
    "%matplotlib inline\n",
    "import sys\n",
    "sys.path.append('../../')\n",
    "import h5py\n",
    "import numpy as np\n",
    "import matplotlib.pyplot as plt\n",
    "import time\n",
    "from IPython.display import clear_output"
   ]
  },
  {
   "cell_type": "code",
   "execution_count": 52,
   "id": "9b773fe4",
   "metadata": {},
   "outputs": [],
   "source": [
    "from tools.instruments import instruments\n",
    "from tools.datatools import norm"
   ]
  },
  {
   "cell_type": "code",
   "execution_count": 14,
   "id": "b03654d9",
   "metadata": {},
   "outputs": [],
   "source": [
    "tdops_50 = h5py.File('../../data/tdop/tdop_decay_50.hdf','r')\n",
    "tdops_7 = h5py.File('../../data/tdop/tdop_decay_7.hdf','r')"
   ]
  },
  {
   "cell_type": "code",
   "execution_count": 161,
   "id": "3e0a71fa",
   "metadata": {},
   "outputs": [],
   "source": [
    "P = instruments['W']\n",
    "quotes = P.quotes()"
   ]
  },
  {
   "cell_type": "code",
   "execution_count": 163,
   "id": "bd7473da",
   "metadata": {},
   "outputs": [
    {
     "data": {
      "text/html": [
       "<div>\n",
       "<style scoped>\n",
       "    .dataframe tbody tr th:only-of-type {\n",
       "        vertical-align: middle;\n",
       "    }\n",
       "\n",
       "    .dataframe tbody tr th {\n",
       "        vertical-align: top;\n",
       "    }\n",
       "\n",
       "    .dataframe thead th {\n",
       "        text-align: right;\n",
       "    }\n",
       "</style>\n",
       "<table border=\"1\" class=\"dataframe\">\n",
       "  <thead>\n",
       "    <tr style=\"text-align: right;\">\n",
       "      <th>field</th>\n",
       "      <th>open</th>\n",
       "      <th>high</th>\n",
       "      <th>low</th>\n",
       "      <th>close</th>\n",
       "      <th>volume</th>\n",
       "      <th>oi</th>\n",
       "    </tr>\n",
       "    <tr>\n",
       "      <th>date</th>\n",
       "      <th></th>\n",
       "      <th></th>\n",
       "      <th></th>\n",
       "      <th></th>\n",
       "      <th></th>\n",
       "      <th></th>\n",
       "    </tr>\n",
       "  </thead>\n",
       "  <tbody>\n",
       "    <tr>\n",
       "      <th>1959-10-01</th>\n",
       "      <td>1803.395020</td>\n",
       "      <td>1803.994873</td>\n",
       "      <td>1802.895020</td>\n",
       "      <td>1803.294922</td>\n",
       "      <td>3525</td>\n",
       "      <td>44311</td>\n",
       "    </tr>\n",
       "    <tr>\n",
       "      <th>1959-10-02</th>\n",
       "      <td>1803.294922</td>\n",
       "      <td>1803.694946</td>\n",
       "      <td>1802.895020</td>\n",
       "      <td>1803.594971</td>\n",
       "      <td>3004</td>\n",
       "      <td>44177</td>\n",
       "    </tr>\n",
       "    <tr>\n",
       "      <th>1959-10-05</th>\n",
       "      <td>1803.494873</td>\n",
       "      <td>1803.994873</td>\n",
       "      <td>1802.994873</td>\n",
       "      <td>1802.994873</td>\n",
       "      <td>1339</td>\n",
       "      <td>44088</td>\n",
       "    </tr>\n",
       "    <tr>\n",
       "      <th>1959-10-06</th>\n",
       "      <td>1802.994873</td>\n",
       "      <td>1803.895020</td>\n",
       "      <td>1802.994873</td>\n",
       "      <td>1803.895020</td>\n",
       "      <td>2321</td>\n",
       "      <td>43892</td>\n",
       "    </tr>\n",
       "    <tr>\n",
       "      <th>1959-10-07</th>\n",
       "      <td>1803.895020</td>\n",
       "      <td>1804.294922</td>\n",
       "      <td>1803.694946</td>\n",
       "      <td>1804.294922</td>\n",
       "      <td>1915</td>\n",
       "      <td>43432</td>\n",
       "    </tr>\n",
       "    <tr>\n",
       "      <th>...</th>\n",
       "      <td>...</td>\n",
       "      <td>...</td>\n",
       "      <td>...</td>\n",
       "      <td>...</td>\n",
       "      <td>...</td>\n",
       "      <td>...</td>\n",
       "    </tr>\n",
       "    <tr>\n",
       "      <th>2022-04-28</th>\n",
       "      <td>1088.000000</td>\n",
       "      <td>1106.500000</td>\n",
       "      <td>1081.000000</td>\n",
       "      <td>1085.750000</td>\n",
       "      <td>28123</td>\n",
       "      <td>179732</td>\n",
       "    </tr>\n",
       "    <tr>\n",
       "      <th>2022-04-29</th>\n",
       "      <td>1085.000000</td>\n",
       "      <td>1102.500000</td>\n",
       "      <td>1054.250000</td>\n",
       "      <td>1055.750000</td>\n",
       "      <td>36624</td>\n",
       "      <td>179341</td>\n",
       "    </tr>\n",
       "    <tr>\n",
       "      <th>2022-05-02</th>\n",
       "      <td>1049.000000</td>\n",
       "      <td>1071.500000</td>\n",
       "      <td>1034.250000</td>\n",
       "      <td>1055.500000</td>\n",
       "      <td>39695</td>\n",
       "      <td>179240</td>\n",
       "    </tr>\n",
       "    <tr>\n",
       "      <th>2022-05-03</th>\n",
       "      <td>1056.250000</td>\n",
       "      <td>1068.750000</td>\n",
       "      <td>1044.000000</td>\n",
       "      <td>1045.500000</td>\n",
       "      <td>29749</td>\n",
       "      <td>177551</td>\n",
       "    </tr>\n",
       "    <tr>\n",
       "      <th>2022-05-04</th>\n",
       "      <td>1047.000000</td>\n",
       "      <td>1089.000000</td>\n",
       "      <td>1042.250000</td>\n",
       "      <td>1076.500000</td>\n",
       "      <td>42332</td>\n",
       "      <td>177503</td>\n",
       "    </tr>\n",
       "  </tbody>\n",
       "</table>\n",
       "<p>15773 rows × 6 columns</p>\n",
       "</div>"
      ],
      "text/plain": [
       "field              open         high          low        close  volume      oi\n",
       "date                                                                          \n",
       "1959-10-01  1803.395020  1803.994873  1802.895020  1803.294922    3525   44311\n",
       "1959-10-02  1803.294922  1803.694946  1802.895020  1803.594971    3004   44177\n",
       "1959-10-05  1803.494873  1803.994873  1802.994873  1802.994873    1339   44088\n",
       "1959-10-06  1802.994873  1803.895020  1802.994873  1803.895020    2321   43892\n",
       "1959-10-07  1803.895020  1804.294922  1803.694946  1804.294922    1915   43432\n",
       "...                 ...          ...          ...          ...     ...     ...\n",
       "2022-04-28  1088.000000  1106.500000  1081.000000  1085.750000   28123  179732\n",
       "2022-04-29  1085.000000  1102.500000  1054.250000  1055.750000   36624  179341\n",
       "2022-05-02  1049.000000  1071.500000  1034.250000  1055.500000   39695  179240\n",
       "2022-05-03  1056.250000  1068.750000  1044.000000  1045.500000   29749  177551\n",
       "2022-05-04  1047.000000  1089.000000  1042.250000  1076.500000   42332  177503\n",
       "\n",
       "[15773 rows x 6 columns]"
      ]
     },
     "execution_count": 163,
     "metadata": {},
     "output_type": "execute_result"
    }
   ],
   "source": [
    "quotes[:]"
   ]
  },
  {
   "cell_type": "code",
   "execution_count": 112,
   "id": "adc18303",
   "metadata": {
    "scrolled": true
   },
   "outputs": [
    {
     "data": {
      "text/plain": [
       "(array([], dtype=int64),)"
      ]
     },
     "execution_count": 112,
     "metadata": {},
     "output_type": "execute_result"
    }
   ],
   "source": [
    "np.where(np.isclose(prices, 157.3))"
   ]
  },
  {
   "cell_type": "code",
   "execution_count": 166,
   "id": "3d1891a8",
   "metadata": {},
   "outputs": [
    {
     "data": {
      "image/png": "[encoded data removed]",
      "text/plain": [
       "<Figure size 900x600 with 1 Axes>"
      ]
     },
     "metadata": {},
     "output_type": "display_data"
    }
   ],
   "source": [
    "dates = tdops_50[P.symbol]['dates'][:]\n",
    "prices = tdops_50[P.symbol]['prices'][:]\n",
    "end = len(dates)\n",
    "start = len(dates)-750\n",
    "\n",
    "for idx in range(start, end, 1):\n",
    "    tdop_50 = tdops_50[P.symbol]['tdop'][idx]\n",
    "    tdop_7 = tdops_7[P.symbol]['tdop'][idx]\n",
    "    date = dates[idx]\n",
    "    close = quotes[quotes.index == dates[idx].astype('M8[s]')]['close'][0]\n",
    "    close_idx = np.where(np.isclose(prices, close))[0][0]\n",
    "    \n",
    "    #tdop1 = tdops1[idx]\n",
    "    #tdop2 = tdops2[idx]\n",
    "    #atr = int(ohlc.loc[date].ATR/pinfo['tick_unit'] )\n",
    "    \n",
    "    #tdop2 = norm(tdop2, ntype='minmax')\n",
    "    #tdop1 = norm(tdop1, ntype='minmax')\n",
    "    normtdop_50 = norm(tdop_50, ntype='minmax')\n",
    "    normtdop_7 = norm(tdop_7, ntype='minmax')\n",
    "    \n",
    "    #top = tdop.argmax()\n",
    "    #top2 = tdop2.argmax()\n",
    "    x=prices #np.arange(len(tdop1))\n",
    "    \n",
    "    #cond1 = np.where(tdop1>0.001)[0]\n",
    "    #cond2 = np.where(tdop2>0.001)[0]\n",
    "    \n",
    "    #left1 = cond1.min()\n",
    "    #right1 = cond1.max()\n",
    "    #left2 = cond2.min()\n",
    "    #right2 = cond2.max()\n",
    "    \n",
    "    #sp1 = split(np.where(tdop1>10)[0], tdop1.argmax())[0]\n",
    "    #sp2 = split(np.where(tdop2>10)[0], tdop2.argmax())[0]\n",
    "    \n",
    "    plt.figure().set_size_inches(9,6)\n",
    "    plt.title(date.astype('M8[s]'))\n",
    "    plt.plot(prices, normtdop_50)\n",
    "    plt.plot(prices, normtdop_7)\n",
    "    plt.scatter(close,0,color='red')\n",
    "    #plt.scatter(close,normtdop_7[close_idx],color='purple')\n",
    "    \n",
    "    #plt.scatter(x[left1], tdop1[left1], color='red')\n",
    "    #plt.scatter(x[right1], tdop1[right1], color='red')\n",
    "    #plt.scatter(x[left2], tdop1[left2], color='blue')\n",
    "    #plt.scatter(x[right2], tdop1[right2], color='blue')\n",
    "    #plt.plot(x[sp1],tdop1[sp1])\n",
    "    #plt.plot(x[sp2], tdop2[sp2])\n",
    "    \n",
    "    #plt.axes().axvline(pidx, color='black')\n",
    "    plt.show()\n",
    "    time.sleep(0.3)\n",
    "    clear_output(wait=True)"
   ]
  },
  {
   "cell_type": "code",
   "execution_count": 76,
   "id": "dc780c5f",
   "metadata": {},
   "outputs": [
    {
     "data": {
      "text/plain": [
       "<matplotlib.collections.LineCollection at 0x1943d241ca0>"
      ]
     },
     "execution_count": 76,
     "metadata": {},
     "output_type": "execute_result"
    },
    {
     "data": {
      "image/png": "[encoded data removed]",
      "text/plain": [
       "<Figure size 640x480 with 1 Axes>"
      ]
     },
     "metadata": {},
     "output_type": "display_data"
    }
   ],
   "source": [
    "plt.vlines(1.8, 0, 1, color='gray', linestyle='solid')"
   ]
  },
  {
   "cell_type": "code",
   "execution_count": 62,
   "id": "82ebf0dd",
   "metadata": {},
   "outputs": [
    {
     "data": {
      "text/plain": [
       "-0.0064"
      ]
     },
     "execution_count": 62,
     "metadata": {},
     "output_type": "execute_result"
    }
   ],
   "source": [
    "tdops_50['AD']['prices'][:].min()"
   ]
  },
  {
   "cell_type": "code",
   "execution_count": 63,
   "id": "b0bc7b22",
   "metadata": {},
   "outputs": [
    {
     "data": {
      "text/plain": [
       "0.99575"
      ]
     },
     "execution_count": 63,
     "metadata": {},
     "output_type": "execute_result"
    }
   ],
   "source": [
    "tdops_50['AD']['prices'][:].max()"
   ]
  },
  {
   "cell_type": "code",
   "execution_count": 64,
   "id": "1139e9db",
   "metadata": {},
   "outputs": [
    {
     "data": {
      "text/plain": [
       "-0.0064"
      ]
     },
     "execution_count": 64,
     "metadata": {},
     "output_type": "execute_result"
    }
   ],
   "source": [
    "tdops_7['AD']['prices'][:].min()"
   ]
  },
  {
   "cell_type": "code",
   "execution_count": 65,
   "id": "edc5e323",
   "metadata": {},
   "outputs": [
    {
     "data": {
      "text/plain": [
       "0.99575"
      ]
     },
     "execution_count": 65,
     "metadata": {},
     "output_type": "execute_result"
    }
   ],
   "source": [
    "tdops_7['AD']['prices'][:].max()"
   ]
  },
  {
   "cell_type": "code",
   "execution_count": 67,
   "id": "d723e200",
   "metadata": {},
   "outputs": [
    {
     "data": {
      "text/plain": [
       "-0.0064"
      ]
     },
     "execution_count": 67,
     "metadata": {},
     "output_type": "execute_result"
    }
   ],
   "source": [
    "tdops_50['AD']['prices'][:][0]"
   ]
  },
  {
   "cell_type": "code",
   "execution_count": 68,
   "id": "0e76e15c",
   "metadata": {},
   "outputs": [
    {
     "data": {
      "text/plain": [
       "-0.0064"
      ]
     },
     "execution_count": 68,
     "metadata": {},
     "output_type": "execute_result"
    }
   ],
   "source": [
    "tdops_7['AD']['prices'][:][0]"
   ]
  },
  {
   "cell_type": "code",
   "execution_count": 42,
   "id": "0dcb8b33",
   "metadata": {},
   "outputs": [
    {
     "data": {
      "text/plain": [
       "'[-0.0064  -0.00635 -0.0063  ...  0.99565  0.9957   0.99575]'"
      ]
     },
     "execution_count": 42,
     "metadata": {},
     "output_type": "execute_result"
    }
   ],
   "source": [
    "str(prices)"
   ]
  },
  {
   "cell_type": "code",
   "execution_count": null,
   "id": "5d367272",
   "metadata": {},
   "outputs": [],
   "source": []
  }
 ],
 "metadata": {
  "kernelspec": {
   "display_name": "Python 3 (ipykernel)",
   "language": "python",
   "name": "python3"
  },
  "language_info": {
   "codemirror_mode": {
    "name": "ipython",
    "version": 3
   },
   "file_extension": ".py",
   "mimetype": "text/x-python",
   "name": "python",
   "nbconvert_exporter": "python",
   "pygments_lexer": "ipython3",
   "version": "3.8.15"
  }
 },
 "nbformat": 4,
 "nbformat_minor": 5
}
