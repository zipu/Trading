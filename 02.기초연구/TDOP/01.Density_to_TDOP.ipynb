{
 "cells": [
  {
   "cell_type": "markdown",
   "metadata": {},
   "source": [
    "#### TDOP"
   ]
  },
  {
   "cell_type": "markdown",
   "metadata": {},
   "source": [
    "- TDOP(Trade Density Over Price) 는 각 가격의 날짜별 density에 시간 가중치를 두어 합산한 값"
   ]
  },
  {
   "cell_type": "code",
   "execution_count": 5,
   "metadata": {},
   "outputs": [],
   "source": [
    "%matplotlib inline\n",
    "import sys, os\n",
    "sys.path.append('../../')\n",
    "import numpy as np\n",
    "import pandas as pd\n",
    "import matplotlib.pyplot as plt\n",
    "#from tools import open_file, load_products, dataframe\n",
    "from datetime import datetime, timedelta\n",
    "from tools import TDOP\n",
    "from tools.instruments import instruments\n",
    "import h5py"
   ]
  },
  {
   "cell_type": "markdown",
   "metadata": {},
   "source": [
    "### 0. Load data"
   ]
  },
  {
   "cell_type": "code",
   "execution_count": 6,
   "metadata": {},
   "outputs": [],
   "source": [
    "DBPATH = os.path.join('..','..','data','tdop')"
   ]
  },
  {
   "cell_type": "code",
   "execution_count": 7,
   "metadata": {},
   "outputs": [],
   "source": [
    "density_file = os.path.join(DBPATH,'density.hdf')\n",
    "density = h5py.File(density_file, 'r') #density table"
   ]
  },
  {
   "cell_type": "markdown",
   "metadata": {},
   "source": [
    "### 1. Generate TDOPS"
   ]
  },
  {
   "cell_type": "code",
   "execution_count": 11,
   "metadata": {},
   "outputs": [],
   "source": [
    "decayfactor = 50\n",
    "tdopfilepath = os.path.join(DBPATH, f'tdop_decay_{decayfactor}.hdf')\n",
    "tdopfile = h5py.File(tdopfilepath, 'w')"
   ]
  },
  {
   "cell_type": "code",
   "execution_count": 12,
   "metadata": {},
   "outputs": [
    {
     "name": "stdout",
     "output_type": "stream",
     "text": [
      "processing: W at 2022-05-04T00:00:00 (39/40)                          "
     ]
    }
   ],
   "source": [
    "length = len(density)\n",
    "for cnt, symbol in enumerate(list(density)):\n",
    "    #if symbol != 'AD':\n",
    "    #    continue\n",
    "    P = instruments[symbol]\n",
    "    #for ohlc in raw_daily.values():\n",
    "    #    if ohlc.attrs['symbol'] == symbol:\n",
    "    #        dateindex = ohlc.value[:,0].astype('M8[s]')\n",
    "    \n",
    "    #dates = density[symbol][:,0]#P.quotes().index.astype('M8[s]')\n",
    "    \n",
    "    print('\\r processing: %s (%s/%s)                             '%(symbol,cnt,length), end='', flush=True)\n",
    "    x, priceindex, values, dates = TDOP.get_factors(density[symbol][:], P)\n",
    "    #dates = []\n",
    "    prices = []\n",
    "    tdops = []\n",
    "    dateindex = np.unique(dates) \n",
    "    for now in dateindex:\n",
    "        print(f\"\\rprocessing: {symbol} at {now} ({cnt}/{length})                        \", end='', flush=True)\n",
    "        #x, y, date = create_tdop(grp.Density, pinfo, decayfactor=1, now=now, period=2)\n",
    "        y = TDOP.create_tdop(priceindex, values, dates, now=now, period=None, decayfactor=decayfactor)\n",
    "        #dates.append(now)\n",
    "        tdops.append(y)\n",
    "    #dates = dates.astype('int64')\n",
    "    prices = np.array(x)\n",
    "    tdops = np.array(tdops)\n",
    "    \n",
    "    group = tdopfile.create_group(symbol)\n",
    "    group.create_dataset(\"dates\", dateindex.shape, data=dateindex.astype('int64'))\n",
    "    group.create_dataset(\"prices\", prices.shape, data=prices)\n",
    "    group.create_dataset(\"tdop\", tdops.shape, data=tdops, compression=\"gzip\")\n",
    "    tdopfile.flush()"
   ]
  },
  {
   "cell_type": "code",
   "execution_count": 13,
   "metadata": {},
   "outputs": [],
   "source": [
    "tdopfile.close()"
   ]
  },
  {
   "cell_type": "markdown",
   "metadata": {},
   "source": [
    "### Verification"
   ]
  },
  {
   "cell_type": "code",
   "execution_count": 51,
   "metadata": {},
   "outputs": [],
   "source": [
    "tdopfile = h5py.File(tdopfilepath, 'r')"
   ]
  },
  {
   "cell_type": "code",
   "execution_count": 55,
   "metadata": {},
   "outputs": [],
   "source": [
    "a=tdopfile['AD']"
   ]
  },
  {
   "cell_type": "code",
   "execution_count": 60,
   "metadata": {},
   "outputs": [
    {
     "data": {
      "text/plain": [
       "[<matplotlib.lines.Line2D at 0x187af085070>]"
      ]
     },
     "execution_count": 60,
     "metadata": {},
     "output_type": "execute_result"
    },
    {
     "data": {
      "image/png": "[encoded data removed]",
      "text/plain": [
       "<Figure size 640x480 with 1 Axes>"
      ]
     },
     "metadata": {},
     "output_type": "display_data"
    }
   ],
   "source": [
    "plt.plot(a['prices'][:],a['tdop'][-100])\n",
    "#plt.axes().set_xlim([1000,4000])"
   ]
  },
  {
   "cell_type": "code",
   "execution_count": 61,
   "metadata": {},
   "outputs": [],
   "source": [
    "tdopfile.close()"
   ]
  },
  {
   "cell_type": "code",
   "execution_count": 55,
   "metadata": {},
   "outputs": [
    {
     "name": "stdout",
     "output_type": "stream",
     "text": [
      "AD\n",
      "BP\n",
      "CC\n",
      "CD\n",
      "CL\n",
      "CT\n",
      "DX\n",
      "ED\n",
      "FBTP\n",
      "FDAX\n",
      "FESX\n",
      "FGBL\n",
      "FGBM\n",
      "FGBS\n",
      "GC\n",
      "HG\n",
      "HO\n",
      "JY\n",
      "KC\n",
      "LC\n",
      "LCO\n",
      "LGO\n",
      "LH\n",
      "NE\n",
      "NG\n",
      "NKD\n",
      "OJ\n",
      "PA\n",
      "PL\n",
      "SB\n",
      "SF\n",
      "SI\n",
      "URO\n",
      "WTCL\n",
      "ZB\n",
      "ZC\n",
      "ZF\n",
      "ZL\n",
      "ZM\n",
      "ZN\n",
      "ZO\n",
      "ZR\n",
      "ZS\n",
      "ZT\n",
      "ZW\n"
     ]
    }
   ],
   "source": [
    "for gp in raw_density.iter_nodes('/'):\n",
    "    print(gp._v_name)"
   ]
  },
  {
   "cell_type": "code",
   "execution_count": 29,
   "metadata": {},
   "outputs": [],
   "source": [
    "df = pd.DataFrame(density['AD'[:]])\n",
    "df.columns = ['date','price','value']\n",
    "df['date'] = df['date'].astype('datetime64[s]')"
   ]
  },
  {
   "cell_type": "code",
   "execution_count": 35,
   "metadata": {},
   "outputs": [
    {
     "data": {
      "text/html": [
       "<div>\n",
       "<style scoped>\n",
       "    .dataframe tbody tr th:only-of-type {\n",
       "        vertical-align: middle;\n",
       "    }\n",
       "\n",
       "    .dataframe tbody tr th {\n",
       "        vertical-align: top;\n",
       "    }\n",
       "\n",
       "    .dataframe thead th {\n",
       "        text-align: right;\n",
       "    }\n",
       "</style>\n",
       "<table border=\"1\" class=\"dataframe\">\n",
       "  <thead>\n",
       "    <tr style=\"text-align: right;\">\n",
       "      <th></th>\n",
       "      <th>value</th>\n",
       "    </tr>\n",
       "    <tr>\n",
       "      <th>price</th>\n",
       "      <th></th>\n",
       "    </tr>\n",
       "  </thead>\n",
       "  <tbody>\n",
       "    <tr>\n",
       "      <th>-0.00640</th>\n",
       "      <td>15.890110</td>\n",
       "    </tr>\n",
       "    <tr>\n",
       "      <th>-0.00635</th>\n",
       "      <td>15.890110</td>\n",
       "    </tr>\n",
       "    <tr>\n",
       "      <th>-0.00630</th>\n",
       "      <td>15.890110</td>\n",
       "    </tr>\n",
       "    <tr>\n",
       "      <th>-0.00625</th>\n",
       "      <td>15.890110</td>\n",
       "    </tr>\n",
       "    <tr>\n",
       "      <th>-0.00620</th>\n",
       "      <td>15.890110</td>\n",
       "    </tr>\n",
       "    <tr>\n",
       "      <th>...</th>\n",
       "      <td>...</td>\n",
       "    </tr>\n",
       "    <tr>\n",
       "      <th>0.99555</th>\n",
       "      <td>592.107784</td>\n",
       "    </tr>\n",
       "    <tr>\n",
       "      <th>0.99560</th>\n",
       "      <td>592.107784</td>\n",
       "    </tr>\n",
       "    <tr>\n",
       "      <th>0.99565</th>\n",
       "      <td>592.107784</td>\n",
       "    </tr>\n",
       "    <tr>\n",
       "      <th>0.99570</th>\n",
       "      <td>592.107784</td>\n",
       "    </tr>\n",
       "    <tr>\n",
       "      <th>0.99575</th>\n",
       "      <td>592.107784</td>\n",
       "    </tr>\n",
       "  </tbody>\n",
       "</table>\n",
       "<p>302917 rows × 1 columns</p>\n",
       "</div>"
      ],
      "text/plain": [
       "               value\n",
       "price               \n",
       "-0.00640   15.890110\n",
       "-0.00635   15.890110\n",
       "-0.00630   15.890110\n",
       "-0.00625   15.890110\n",
       "-0.00620   15.890110\n",
       "...              ...\n",
       " 0.99555  592.107784\n",
       " 0.99560  592.107784\n",
       " 0.99565  592.107784\n",
       " 0.99570  592.107784\n",
       " 0.99575  592.107784\n",
       "\n",
       "[302917 rows x 1 columns]"
      ]
     },
     "execution_count": 35,
     "metadata": {},
     "output_type": "execute_result"
    }
   ],
   "source": [
    "df[['price','value']].groupby('price').sum()"
   ]
  },
  {
   "cell_type": "code",
   "execution_count": 53,
   "metadata": {},
   "outputs": [
    {
     "data": {
      "text/plain": [
       "array([ 0.01175, -0.0064 , -0.00635, -0.0063 , -0.00625, -0.0062 ,\n",
       "       -0.00615, -0.0061 , -0.00605, -0.006  , -0.00595])"
      ]
     },
     "execution_count": 53,
     "metadata": {},
     "output_type": "execute_result"
    }
   ],
   "source": [
    "df['price'].unique()[99:110]"
   ]
  },
  {
   "cell_type": "code",
   "execution_count": 51,
   "metadata": {},
   "outputs": [
    {
     "data": {
      "text/plain": [
       "<AxesSubplot: >"
      ]
     },
     "execution_count": 51,
     "metadata": {},
     "output_type": "execute_result"
    },
    {
     "data": {
      "image/png": "[encoded data removed]",
      "text/plain": [
       "<Figure size 640x480 with 1 Axes>"
      ]
     },
     "metadata": {},
     "output_type": "display_data"
    }
   ],
   "source": [
    "df.price.iloc[:2000].plot()"
   ]
  },
  {
   "cell_type": "code",
   "execution_count": 44,
   "metadata": {},
   "outputs": [
    {
     "data": {
      "text/plain": [
       "(array([100], dtype=int64),)"
      ]
     },
     "execution_count": 44,
     "metadata": {},
     "output_type": "execute_result"
    }
   ],
   "source": [
    "np.where(df.price.min()==df.price)"
   ]
  },
  {
   "cell_type": "code",
   "execution_count": 47,
   "metadata": {},
   "outputs": [
    {
     "data": {
      "text/html": [
       "<div>\n",
       "<style scoped>\n",
       "    .dataframe tbody tr th:only-of-type {\n",
       "        vertical-align: middle;\n",
       "    }\n",
       "\n",
       "    .dataframe tbody tr th {\n",
       "        vertical-align: top;\n",
       "    }\n",
       "\n",
       "    .dataframe thead th {\n",
       "        text-align: right;\n",
       "    }\n",
       "</style>\n",
       "<table border=\"1\" class=\"dataframe\">\n",
       "  <thead>\n",
       "    <tr style=\"text-align: right;\">\n",
       "      <th></th>\n",
       "      <th>date</th>\n",
       "      <th>price</th>\n",
       "      <th>value</th>\n",
       "    </tr>\n",
       "  </thead>\n",
       "  <tbody>\n",
       "    <tr>\n",
       "      <th>90</th>\n",
       "      <td>1987-01-13</td>\n",
       "      <td>0.01130</td>\n",
       "      <td>18.356436</td>\n",
       "    </tr>\n",
       "    <tr>\n",
       "      <th>91</th>\n",
       "      <td>1987-01-13</td>\n",
       "      <td>0.01135</td>\n",
       "      <td>18.356436</td>\n",
       "    </tr>\n",
       "    <tr>\n",
       "      <th>92</th>\n",
       "      <td>1987-01-13</td>\n",
       "      <td>0.01140</td>\n",
       "      <td>18.356436</td>\n",
       "    </tr>\n",
       "    <tr>\n",
       "      <th>93</th>\n",
       "      <td>1987-01-13</td>\n",
       "      <td>0.01145</td>\n",
       "      <td>18.356436</td>\n",
       "    </tr>\n",
       "    <tr>\n",
       "      <th>94</th>\n",
       "      <td>1987-01-13</td>\n",
       "      <td>0.01150</td>\n",
       "      <td>18.356436</td>\n",
       "    </tr>\n",
       "    <tr>\n",
       "      <th>95</th>\n",
       "      <td>1987-01-13</td>\n",
       "      <td>0.01155</td>\n",
       "      <td>18.356436</td>\n",
       "    </tr>\n",
       "    <tr>\n",
       "      <th>96</th>\n",
       "      <td>1987-01-13</td>\n",
       "      <td>0.01160</td>\n",
       "      <td>18.356436</td>\n",
       "    </tr>\n",
       "    <tr>\n",
       "      <th>97</th>\n",
       "      <td>1987-01-13</td>\n",
       "      <td>0.01165</td>\n",
       "      <td>18.356436</td>\n",
       "    </tr>\n",
       "    <tr>\n",
       "      <th>98</th>\n",
       "      <td>1987-01-13</td>\n",
       "      <td>0.01170</td>\n",
       "      <td>18.356436</td>\n",
       "    </tr>\n",
       "    <tr>\n",
       "      <th>99</th>\n",
       "      <td>1987-01-13</td>\n",
       "      <td>0.01175</td>\n",
       "      <td>18.356436</td>\n",
       "    </tr>\n",
       "    <tr>\n",
       "      <th>100</th>\n",
       "      <td>1987-01-14</td>\n",
       "      <td>-0.00640</td>\n",
       "      <td>15.890110</td>\n",
       "    </tr>\n",
       "    <tr>\n",
       "      <th>101</th>\n",
       "      <td>1987-01-14</td>\n",
       "      <td>-0.00635</td>\n",
       "      <td>15.890110</td>\n",
       "    </tr>\n",
       "    <tr>\n",
       "      <th>102</th>\n",
       "      <td>1987-01-14</td>\n",
       "      <td>-0.00630</td>\n",
       "      <td>15.890110</td>\n",
       "    </tr>\n",
       "    <tr>\n",
       "      <th>103</th>\n",
       "      <td>1987-01-14</td>\n",
       "      <td>-0.00625</td>\n",
       "      <td>15.890110</td>\n",
       "    </tr>\n",
       "    <tr>\n",
       "      <th>104</th>\n",
       "      <td>1987-01-14</td>\n",
       "      <td>-0.00620</td>\n",
       "      <td>15.890110</td>\n",
       "    </tr>\n",
       "    <tr>\n",
       "      <th>105</th>\n",
       "      <td>1987-01-14</td>\n",
       "      <td>-0.00615</td>\n",
       "      <td>15.890110</td>\n",
       "    </tr>\n",
       "    <tr>\n",
       "      <th>106</th>\n",
       "      <td>1987-01-14</td>\n",
       "      <td>-0.00610</td>\n",
       "      <td>15.890110</td>\n",
       "    </tr>\n",
       "    <tr>\n",
       "      <th>107</th>\n",
       "      <td>1987-01-14</td>\n",
       "      <td>-0.00605</td>\n",
       "      <td>15.890110</td>\n",
       "    </tr>\n",
       "    <tr>\n",
       "      <th>108</th>\n",
       "      <td>1987-01-14</td>\n",
       "      <td>-0.00600</td>\n",
       "      <td>15.890110</td>\n",
       "    </tr>\n",
       "    <tr>\n",
       "      <th>109</th>\n",
       "      <td>1987-01-14</td>\n",
       "      <td>-0.00595</td>\n",
       "      <td>15.890110</td>\n",
       "    </tr>\n",
       "  </tbody>\n",
       "</table>\n",
       "</div>"
      ],
      "text/plain": [
       "          date    price      value\n",
       "90  1987-01-13  0.01130  18.356436\n",
       "91  1987-01-13  0.01135  18.356436\n",
       "92  1987-01-13  0.01140  18.356436\n",
       "93  1987-01-13  0.01145  18.356436\n",
       "94  1987-01-13  0.01150  18.356436\n",
       "95  1987-01-13  0.01155  18.356436\n",
       "96  1987-01-13  0.01160  18.356436\n",
       "97  1987-01-13  0.01165  18.356436\n",
       "98  1987-01-13  0.01170  18.356436\n",
       "99  1987-01-13  0.01175  18.356436\n",
       "100 1987-01-14 -0.00640  15.890110\n",
       "101 1987-01-14 -0.00635  15.890110\n",
       "102 1987-01-14 -0.00630  15.890110\n",
       "103 1987-01-14 -0.00625  15.890110\n",
       "104 1987-01-14 -0.00620  15.890110\n",
       "105 1987-01-14 -0.00615  15.890110\n",
       "106 1987-01-14 -0.00610  15.890110\n",
       "107 1987-01-14 -0.00605  15.890110\n",
       "108 1987-01-14 -0.00600  15.890110\n",
       "109 1987-01-14 -0.00595  15.890110"
      ]
     },
     "execution_count": 47,
     "metadata": {},
     "output_type": "execute_result"
    }
   ],
   "source": [
    "df.iloc[90:110]"
   ]
  },
  {
   "cell_type": "code",
   "execution_count": null,
   "metadata": {},
   "outputs": [],
   "source": []
  }
 ],
 "metadata": {
  "kernelspec": {
   "display_name": "Python 3 (ipykernel)",
   "language": "python",
   "name": "python3"
  },
  "language_info": {
   "codemirror_mode": {
    "name": "ipython",
    "version": 3
   },
   "file_extension": ".py",
   "mimetype": "text/x-python",
   "name": "python",
   "nbconvert_exporter": "python",
   "pygments_lexer": "ipython3",
   "version": "3.8.15"
  }
 },
 "nbformat": 4,
 "nbformat_minor": 2
}
