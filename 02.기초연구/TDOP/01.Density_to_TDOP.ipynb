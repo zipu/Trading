{
 "cells": [
  {
   "cell_type": "code",
   "execution_count": 4,
   "metadata": {},
   "outputs": [],
   "source": [
    "%matplotlib inline\n",
    "import sys, os\n",
    "sys.path.append('../../')\n",
    "import numpy as np\n",
    "import pandas as pd\n",
    "import matplotlib.pyplot as plt\n",
    "#from tools import open_file, load_products, dataframe\n",
    "from datetime import datetime, timedelta\n",
    "from tools import TDOP\n",
    "from tools.instruments import instruments\n",
    "import h5py"
   ]
  },
  {
   "cell_type": "markdown",
   "metadata": {},
   "source": [
    "### 0. Load data"
   ]
  },
  {
   "cell_type": "code",
   "execution_count": 5,
   "metadata": {},
   "outputs": [],
   "source": [
    "DBPATH = os.path.join('..','..','data','tdop')"
   ]
  },
  {
   "cell_type": "code",
   "execution_count": 6,
   "metadata": {},
   "outputs": [],
   "source": [
    "density_file = os.path.join(DBPATH,'density.hdf')\n",
    "density = h5py.File(density_file, 'r') #density table"
   ]
  },
  {
   "cell_type": "markdown",
   "metadata": {},
   "source": [
    "### 1. Generate TDOPS"
   ]
  },
  {
   "cell_type": "code",
   "execution_count": 11,
   "metadata": {},
   "outputs": [],
   "source": [
    "decayfactor = 50\n",
    "tdopfilepath = os.path.join(DBPATH, f'tdop_decay_{decayfactor}.hdf')\n",
    "tdopfile = h5py.File(tdopfilepath, 'w')"
   ]
  },
  {
   "cell_type": "code",
   "execution_count": 12,
   "metadata": {},
   "outputs": [
    {
     "name": "stdout",
     "output_type": "stream",
     "text": [
      "processing: W at 2022-05-04T00:00:00 (39/40)                          "
     ]
    }
   ],
   "source": [
    "length = len(density)\n",
    "for cnt, symbol in enumerate(list(density)):\n",
    "    #if symbol != 'AD':\n",
    "    #    continue\n",
    "    P = instruments[symbol]\n",
    "    #for ohlc in raw_daily.values():\n",
    "    #    if ohlc.attrs['symbol'] == symbol:\n",
    "    #        dateindex = ohlc.value[:,0].astype('M8[s]')\n",
    "    \n",
    "    #dates = density[symbol][:,0]#P.quotes().index.astype('M8[s]')\n",
    "    \n",
    "    print('\\r processing: %s (%s/%s)                             '%(symbol,cnt,length), end='', flush=True)\n",
    "    x, priceindex, values, dates = TDOP.get_factors(density[symbol][:], P)\n",
    "    #dates = []\n",
    "    prices = []\n",
    "    tdops = []\n",
    "    dateindex = np.unique(dates) \n",
    "    for now in dateindex:\n",
    "        print(f\"\\rprocessing: {symbol} at {now} ({cnt}/{length})                        \", end='', flush=True)\n",
    "        #x, y, date = create_tdop(grp.Density, pinfo, decayfactor=1, now=now, period=2)\n",
    "        y = TDOP.create_tdop(priceindex, values, dates, now=now, period=None, decayfactor=decayfactor)\n",
    "        #dates.append(now)\n",
    "        tdops.append(y)\n",
    "    #dates = dates.astype('int64')\n",
    "    prices = np.array(x)\n",
    "    tdops = np.array(tdops)\n",
    "    \n",
    "    group = tdopfile.create_group(symbol)\n",
    "    group.create_dataset(\"dates\", dateindex.shape, data=dateindex.astype('int64'))\n",
    "    group.create_dataset(\"prices\", prices.shape, data=prices)\n",
    "    group.create_dataset(\"tdop\", tdops.shape, data=tdops, compression=\"gzip\")\n",
    "    tdopfile.flush()"
   ]
  },
  {
   "cell_type": "code",
   "execution_count": 13,
   "metadata": {},
   "outputs": [],
   "source": [
    "tdopfile.close()"
   ]
  },
  {
   "cell_type": "markdown",
   "metadata": {},
   "source": [
    "### Verification"
   ]
  },
  {
   "cell_type": "code",
   "execution_count": 51,
   "metadata": {},
   "outputs": [],
   "source": [
    "tdopfile = h5py.File(tdopfilepath, 'r')"
   ]
  },
  {
   "cell_type": "code",
   "execution_count": 55,
   "metadata": {},
   "outputs": [],
   "source": [
    "a=tdopfile['AD']"
   ]
  },
  {
   "cell_type": "code",
   "execution_count": 60,
   "metadata": {},
   "outputs": [
    {
     "data": {
      "text/plain": [
       "[<matplotlib.lines.Line2D at 0x187af085070>]"
      ]
     },
     "execution_count": 60,
     "metadata": {},
     "output_type": "execute_result"
    },
    {
     "data": {
      "image/png": "[encoded data removed]",
      "text/plain": [
       "<Figure size 640x480 with 1 Axes>"
      ]
     },
     "metadata": {},
     "output_type": "display_data"
    }
   ],
   "source": [
    "plt.plot(a['prices'][:],a['tdop'][-100])\n",
    "#plt.axes().set_xlim([1000,4000])"
   ]
  },
  {
   "cell_type": "code",
   "execution_count": 61,
   "metadata": {},
   "outputs": [],
   "source": [
    "tdopfile.close()"
   ]
  },
  {
   "cell_type": "code",
   "execution_count": 55,
   "metadata": {},
   "outputs": [
    {
     "name": "stdout",
     "output_type": "stream",
     "text": [
      "AD\n",
      "BP\n",
      "CC\n",
      "CD\n",
      "CL\n",
      "CT\n",
      "DX\n",
      "ED\n",
      "FBTP\n",
      "FDAX\n",
      "FESX\n",
      "FGBL\n",
      "FGBM\n",
      "FGBS\n",
      "GC\n",
      "HG\n",
      "HO\n",
      "JY\n",
      "KC\n",
      "LC\n",
      "LCO\n",
      "LGO\n",
      "LH\n",
      "NE\n",
      "NG\n",
      "NKD\n",
      "OJ\n",
      "PA\n",
      "PL\n",
      "SB\n",
      "SF\n",
      "SI\n",
      "URO\n",
      "WTCL\n",
      "ZB\n",
      "ZC\n",
      "ZF\n",
      "ZL\n",
      "ZM\n",
      "ZN\n",
      "ZO\n",
      "ZR\n",
      "ZS\n",
      "ZT\n",
      "ZW\n"
     ]
    }
   ],
   "source": [
    "for gp in raw_density.iter_nodes('/'):\n",
    "    print(gp._v_name)"
   ]
  },
  {
   "cell_type": "code",
   "execution_count": null,
   "metadata": {
    "collapsed": true
   },
   "outputs": [],
   "source": []
  }
 ],
 "metadata": {
  "kernelspec": {
   "display_name": "Python 3 (ipykernel)",
   "language": "python",
   "name": "python3"
  },
  "language_info": {
   "codemirror_mode": {
    "name": "ipython",
    "version": 3
   },
   "file_extension": ".py",
   "mimetype": "text/x-python",
   "name": "python",
   "nbconvert_exporter": "python",
   "pygments_lexer": "ipython3",
   "version": "3.8.15"
  }
 },
 "nbformat": 4,
 "nbformat_minor": 2
}
