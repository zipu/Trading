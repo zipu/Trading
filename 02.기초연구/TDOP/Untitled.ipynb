{
 "cells": [
  {
   "cell_type": "code",
   "execution_count": 2,
   "id": "5bc73858",
   "metadata": {},
   "outputs": [],
   "source": [
    "%matplotlib inline\n",
    "import sys, os\n",
    "sys.path.append('../../')\n",
    "import h5py\n",
    "import numpy as np\n",
    "import pandas as pd\n",
    "from datetime import datetime\n",
    "import matplotlib.pyplot as plt\n",
    "from decimal import Decimal\n",
    "#from tools import OHLC, Density\n",
    "#from tools import open_file, products\n",
    "from tools.instruments import instruments"
   ]
  },
  {
   "cell_type": "code",
   "execution_count": 3,
   "id": "222a8951",
   "metadata": {},
   "outputs": [],
   "source": [
    "filepath = os.path.join(os.getcwd(), '..','..','data','tdop','density.hdf')\n",
    "tdopfile = h5py.File(filepath, 'r')"
   ]
  },
  {
   "cell_type": "code",
   "execution_count": 4,
   "id": "9f468db5",
   "metadata": {},
   "outputs": [],
   "source": [
    "ad = tdopfile['AD']"
   ]
  },
  {
   "cell_type": "code",
   "execution_count": 5,
   "id": "bf513be5",
   "metadata": {},
   "outputs": [],
   "source": [
    "ad = pd.DataFrame(ad, columns=['date','price','value'])"
   ]
  },
  {
   "cell_type": "code",
   "execution_count": 7,
   "id": "bff051ca",
   "metadata": {},
   "outputs": [],
   "source": [
    "ad['date'] = ad['date'].astype('datetime64[s]')"
   ]
  },
  {
   "cell_type": "code",
   "execution_count": 12,
   "id": "531e2bcf",
   "metadata": {},
   "outputs": [],
   "source": [
    "for day in ad.groupby('price'):\n",
    "    day"
   ]
  },
  {
   "cell_type": "code",
   "execution_count": 20,
   "id": "ed53bfbe",
   "metadata": {},
   "outputs": [],
   "source": [
    "grouped = ad.groupby('date')"
   ]
  },
  {
   "cell_type": "code",
   "execution_count": 23,
   "id": "02f9c328",
   "metadata": {},
   "outputs": [],
   "source": [
    "grouped.ewm?"
   ]
  },
  {
   "cell_type": "code",
   "execution_count": null,
   "id": "e29656b3",
   "metadata": {},
   "outputs": [],
   "source": []
  }
 ],
 "metadata": {
  "kernelspec": {
   "display_name": "Python 3 (ipykernel)",
   "language": "python",
   "name": "python3"
  },
  "language_info": {
   "codemirror_mode": {
    "name": "ipython",
    "version": 3
   },
   "file_extension": ".py",
   "mimetype": "text/x-python",
   "name": "python",
   "nbconvert_exporter": "python",
   "pygments_lexer": "ipython3",
   "version": "3.9.12"
  }
 },
 "nbformat": 4,
 "nbformat_minor": 5
}
