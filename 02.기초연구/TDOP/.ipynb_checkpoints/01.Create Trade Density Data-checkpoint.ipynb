{
 "cells": [
  {
   "cell_type": "code",
   "execution_count": 316,
   "id": "5bc73858",
   "metadata": {},
   "outputs": [],
   "source": [
    "%matplotlib inline\n",
    "import sys, os\n",
    "sys.path.append('../../')\n",
    "import h5py\n",
    "import numpy as np\n",
    "import pandas as pd\n",
    "from datetime import datetime\n",
    "import matplotlib.pyplot as plt\n",
    "from decimal import Decimal\n",
    "#from tools import OHLC, Density\n",
    "#from tools import open_file, products\n",
    "from tools.instruments import instruments\n",
    "from IPython.display import clear_output\n",
    "import time"
   ]
  },
  {
   "cell_type": "code",
   "execution_count": 3,
   "id": "8c8f0aa7",
   "metadata": {},
   "outputs": [
    {
     "name": "stdout",
     "output_type": "stream",
     "text": [
      "The autoreload extension is already loaded. To reload it, use:\n",
      "  %reload_ext autoreload\n"
     ]
    }
   ],
   "source": [
    "%load_ext autoreload\n",
    "%aimport tools.TDOP\n",
    "%autoreload 2"
   ]
  },
  {
   "cell_type": "code",
   "execution_count": 487,
   "id": "6391e30e",
   "metadata": {},
   "outputs": [],
   "source": [
    "quotes = ad.quotes()[['high','low','volume']].dropna()\n",
    "ticks = (quotes['high']-quotes['low'])/ad.tickunit + 1\n",
    "\n",
    "quotes['density'] = quotes['volume']/ticks"
   ]
  },
  {
   "cell_type": "code",
   "execution_count": 488,
   "id": "35656ce5",
   "metadata": {},
   "outputs": [],
   "source": [
    "m = quotes['low'].min() - ad.tickunit*100\n",
    "M = quotes['high'].max() + ad.tickunit*100000"
   ]
  },
  {
   "cell_type": "code",
   "execution_count": 489,
   "id": "31357d35",
   "metadata": {},
   "outputs": [],
   "source": [
    "priceindex = np.array([i.round(ad.decimal_places) for i in np.arange(m,M,ad.tickunit)])"
   ]
  },
  {
   "cell_type": "code",
   "execution_count": 490,
   "id": "3b73e52f",
   "metadata": {},
   "outputs": [
    {
     "name": "stdout",
     "output_type": "stream",
     "text": [
      ";;\n",
      "CPU times: total: 1.08 s\n",
      "Wall time: 1.07 s\n"
     ]
    },
    {
     "name": "stderr",
     "output_type": "stream",
     "text": [
      "<timed exec>:10: RuntimeWarning: invalid value encountered in add\n"
     ]
    }
   ],
   "source": [
    "%%time\n",
    "alpha = 0.01\n",
    "S = np.full((len(priceindex),), 0)\n",
    "tol  = ad.tickunit/3\n",
    "densities = []\n",
    "x = []\n",
    "for date, quote in quotes.iterrows():\n",
    "    lower = quote['low'] - tol\n",
    "    upper = quote['high'] + tol\n",
    "    X = np.where( (lower < priceindex) & (priceindex < upper), quote['density'], 0)\n",
    "    Y = S + alpha*(X-S)\n",
    "    if np.isnan(S).any():\n",
    "        print(\";;\")\n",
    "        break\n",
    "    S=Y\n",
    "    #S.name = date\n",
    "    densities.append(S)\n",
    "    x.append(X)"
   ]
  },
  {
   "cell_type": "code",
   "execution_count": 471,
   "id": "60c07e81",
   "metadata": {},
   "outputs": [
    {
     "data": {
      "text/plain": [
       "array([[11190],\n",
       "       [11191],\n",
       "       [11192],\n",
       "       [11193],\n",
       "       [11194],\n",
       "       [11195],\n",
       "       [11196],\n",
       "       [11197],\n",
       "       [11198],\n",
       "       [11199],\n",
       "       [11200],\n",
       "       [11201],\n",
       "       [11202],\n",
       "       [11203],\n",
       "       [11204],\n",
       "       [11205],\n",
       "       [11206],\n",
       "       [11207],\n",
       "       [11208],\n",
       "       [11209],\n",
       "       [11210],\n",
       "       [11211],\n",
       "       [11212],\n",
       "       [11213],\n",
       "       [11214],\n",
       "       [11215],\n",
       "       [11216],\n",
       "       [11217],\n",
       "       [11218],\n",
       "       [11219],\n",
       "       [11220],\n",
       "       [11221],\n",
       "       [11222],\n",
       "       [11223],\n",
       "       [11224],\n",
       "       [11225],\n",
       "       [11226],\n",
       "       [11227],\n",
       "       [11228],\n",
       "       [11229],\n",
       "       [11230],\n",
       "       [11231],\n",
       "       [11232],\n",
       "       [11233],\n",
       "       [11234],\n",
       "       [11235],\n",
       "       [11236],\n",
       "       [11237],\n",
       "       [11238],\n",
       "       [11239],\n",
       "       [11240],\n",
       "       [11241],\n",
       "       [11242],\n",
       "       [11243],\n",
       "       [11244],\n",
       "       [11245],\n",
       "       [11246],\n",
       "       [11247],\n",
       "       [11248],\n",
       "       [11249],\n",
       "       [11250],\n",
       "       [11251],\n",
       "       [11252],\n",
       "       [11253],\n",
       "       [11254],\n",
       "       [11255],\n",
       "       [11256],\n",
       "       [11257],\n",
       "       [11258],\n",
       "       [11259],\n",
       "       [11260],\n",
       "       [11261],\n",
       "       [11262],\n",
       "       [11263],\n",
       "       [11264],\n",
       "       [11265],\n",
       "       [11266],\n",
       "       [11267],\n",
       "       [11268],\n",
       "       [11269],\n",
       "       [11270],\n",
       "       [11271],\n",
       "       [11272],\n",
       "       [11273],\n",
       "       [11274],\n",
       "       [11275],\n",
       "       [11276],\n",
       "       [11277],\n",
       "       [11278],\n",
       "       [11279],\n",
       "       [11280],\n",
       "       [11281],\n",
       "       [11282],\n",
       "       [11283],\n",
       "       [11284],\n",
       "       [11285],\n",
       "       [11286],\n",
       "       [11287],\n",
       "       [11288],\n",
       "       [11289],\n",
       "       [11290],\n",
       "       [11291],\n",
       "       [11292],\n",
       "       [11293],\n",
       "       [11294],\n",
       "       [11295],\n",
       "       [11296],\n",
       "       [11297],\n",
       "       [11298],\n",
       "       [11299],\n",
       "       [11300],\n",
       "       [11301],\n",
       "       [11302],\n",
       "       [11303],\n",
       "       [11304],\n",
       "       [11305],\n",
       "       [11306],\n",
       "       [11307],\n",
       "       [11308],\n",
       "       [11309],\n",
       "       [11310],\n",
       "       [11311],\n",
       "       [11312],\n",
       "       [11313],\n",
       "       [11314],\n",
       "       [11315],\n",
       "       [11316],\n",
       "       [11317],\n",
       "       [11318]], dtype=int64)"
      ]
     },
     "execution_count": 471,
     "metadata": {},
     "output_type": "execute_result"
    }
   ],
   "source": [
    "np.argwhere(np.isnan(Y))"
   ]
  },
  {
   "cell_type": "code",
   "execution_count": 482,
   "id": "052c056e",
   "metadata": {},
   "outputs": [
    {
     "data": {
      "text/plain": [
       "array([0.00037572, 0.00037572, 0.00037572, 0.00037572, 0.00037572,\n",
       "              inf,        inf,        inf,        inf,        inf])"
      ]
     },
     "execution_count": 482,
     "metadata": {},
     "output_type": "execute_result"
    }
   ],
   "source": [
    "densities[-2][11185:11195]"
   ]
  },
  {
   "cell_type": "code",
   "execution_count": 491,
   "id": "744aba1a",
   "metadata": {
    "scrolled": true
   },
   "outputs": [
    {
     "data": {
      "text/plain": [
       "inf"
      ]
     },
     "execution_count": 491,
     "metadata": {},
     "output_type": "execute_result"
    }
   ],
   "source": [
    "quotes['density'].max()"
   ]
  },
  {
   "cell_type": "code",
   "execution_count": 435,
   "id": "15c098ab",
   "metadata": {},
   "outputs": [],
   "source": [
    "for density in densities:\n",
    "    if np.isnan(density).any():\n",
    "        d = density"
   ]
  },
  {
   "cell_type": "code",
   "execution_count": 448,
   "id": "518173c9",
   "metadata": {},
   "outputs": [],
   "source": [
    "for x in densities:\n",
    "    if np.isnan(x).any():\n",
    "        print('hi')\n",
    "        "
   ]
  },
  {
   "cell_type": "code",
   "execution_count": 452,
   "id": "b93d7b32",
   "metadata": {},
   "outputs": [
    {
     "data": {
      "text/plain": [
       "(120145,)"
      ]
     },
     "execution_count": 452,
     "metadata": {},
     "output_type": "execute_result"
    }
   ],
   "source": [
    "S.shape"
   ]
  },
  {
   "cell_type": "code",
   "execution_count": 453,
   "id": "5a3819b0",
   "metadata": {},
   "outputs": [
    {
     "data": {
      "text/plain": [
       "(120145,)"
      ]
     },
     "execution_count": 453,
     "metadata": {},
     "output_type": "execute_result"
    }
   ],
   "source": [
    "X.shape"
   ]
  },
  {
   "cell_type": "code",
   "execution_count": 454,
   "id": "8d5fd8c3",
   "metadata": {},
   "outputs": [
    {
     "data": {
      "text/plain": [
       "array([0., 0., 0., ..., 0., 0., 0.])"
      ]
     },
     "execution_count": 454,
     "metadata": {},
     "output_type": "execute_result"
    }
   ],
   "source": [
    "S + alpha*(X-S)"
   ]
  },
  {
   "cell_type": "code",
   "execution_count": null,
   "id": "1723224b",
   "metadata": {},
   "outputs": [],
   "source": []
  },
  {
   "cell_type": "code",
   "execution_count": 439,
   "id": "c517db2f",
   "metadata": {},
   "outputs": [
    {
     "data": {
      "text/plain": [
       "array([[ 7870],\n",
       "       [ 7871],\n",
       "       [ 7872],\n",
       "       ...,\n",
       "       [18868],\n",
       "       [18869],\n",
       "       [18870]], dtype=int64)"
      ]
     },
     "execution_count": 439,
     "metadata": {},
     "output_type": "execute_result"
    }
   ],
   "source": [
    "np.argwhere(np.isnan(d))"
   ]
  },
  {
   "cell_type": "code",
   "execution_count": 445,
   "id": "cbd87f22",
   "metadata": {},
   "outputs": [
    {
     "data": {
      "text/plain": [
       "False"
      ]
     },
     "execution_count": 445,
     "metadata": {},
     "output_type": "execute_result"
    }
   ],
   "source": [
    "quotes['density'].isna().any()"
   ]
  },
  {
   "cell_type": "code",
   "execution_count": 393,
   "id": "8db680d1",
   "metadata": {},
   "outputs": [
    {
     "data": {
      "text/plain": [
       "array([-0.0114 , -0.01135, -0.0113 , ...,  5.9957 ,  5.99575,  5.9958 ])"
      ]
     },
     "execution_count": 393,
     "metadata": {},
     "output_type": "execute_result"
    }
   ],
   "source": [
    "priceindex"
   ]
  },
  {
   "cell_type": "code",
   "execution_count": 412,
   "id": "22aa6251",
   "metadata": {},
   "outputs": [],
   "source": [
    "quotes['high'] = quotes['high'].apply(lambda x: f\"{x:.{ad.decimal_places}f}\")\n",
    "quotes['low'] = quotes['low'].apply(lambda x: f\"{x:.{ad.decimal_places}f}\")"
   ]
  },
  {
   "cell_type": "code",
   "execution_count": 413,
   "id": "936a1899",
   "metadata": {},
   "outputs": [],
   "source": [
    "index = [f\"{i:.{ad.decimal_places}f}\" for i in np.arange(m,M,ad.tickunit)]"
   ]
  },
  {
   "cell_type": "code",
   "execution_count": 414,
   "id": "cdde5588",
   "metadata": {},
   "outputs": [
    {
     "name": "stdout",
     "output_type": "stream",
     "text": [
      "CPU times: total: 3min 6s\n",
      "Wall time: 3min 29s\n"
     ]
    }
   ],
   "source": [
    "%%time\n",
    "S=pd.DataFrame(index=index, data=0, columns=[\"value\"])\n",
    "X=pd.DataFrame(index=index, data=0, columns=[\"value\"])\n",
    "alpha = 0.01\n",
    "densities = []\n",
    "for date, quote in quotes.iterrows():\n",
    "    X['value'] = 0 \n",
    "    X[quote['low']:quote['high']] = quote['density']\n",
    "    S = S + alpha*(X-S)\n",
    "    S.name = date\n",
    "    densities.append(S)"
   ]
  },
  {
   "cell_type": "code",
   "execution_count": 415,
   "id": "e512dacb",
   "metadata": {},
   "outputs": [
    {
     "data": {
      "text/html": [
       "<div>\n",
       "<style scoped>\n",
       "    .dataframe tbody tr th:only-of-type {\n",
       "        vertical-align: middle;\n",
       "    }\n",
       "\n",
       "    .dataframe tbody tr th {\n",
       "        vertical-align: top;\n",
       "    }\n",
       "\n",
       "    .dataframe thead th {\n",
       "        text-align: right;\n",
       "    }\n",
       "</style>\n",
       "<table border=\"1\" class=\"dataframe\">\n",
       "  <thead>\n",
       "    <tr style=\"text-align: right;\">\n",
       "      <th></th>\n",
       "      <th>value</th>\n",
       "    </tr>\n",
       "  </thead>\n",
       "  <tbody>\n",
       "    <tr>\n",
       "      <th>-0.01140</th>\n",
       "      <td>0.0</td>\n",
       "    </tr>\n",
       "    <tr>\n",
       "      <th>-0.01135</th>\n",
       "      <td>0.0</td>\n",
       "    </tr>\n",
       "    <tr>\n",
       "      <th>-0.01130</th>\n",
       "      <td>0.0</td>\n",
       "    </tr>\n",
       "    <tr>\n",
       "      <th>-0.01125</th>\n",
       "      <td>0.0</td>\n",
       "    </tr>\n",
       "    <tr>\n",
       "      <th>-0.01120</th>\n",
       "      <td>0.0</td>\n",
       "    </tr>\n",
       "    <tr>\n",
       "      <th>...</th>\n",
       "      <td>...</td>\n",
       "    </tr>\n",
       "    <tr>\n",
       "      <th>5.99560</th>\n",
       "      <td>0.0</td>\n",
       "    </tr>\n",
       "    <tr>\n",
       "      <th>5.99565</th>\n",
       "      <td>0.0</td>\n",
       "    </tr>\n",
       "    <tr>\n",
       "      <th>5.99570</th>\n",
       "      <td>0.0</td>\n",
       "    </tr>\n",
       "    <tr>\n",
       "      <th>5.99575</th>\n",
       "      <td>0.0</td>\n",
       "    </tr>\n",
       "    <tr>\n",
       "      <th>5.99580</th>\n",
       "      <td>0.0</td>\n",
       "    </tr>\n",
       "  </tbody>\n",
       "</table>\n",
       "<p>120145 rows × 1 columns</p>\n",
       "</div>"
      ],
      "text/plain": [
       "          value\n",
       "-0.01140    0.0\n",
       "-0.01135    0.0\n",
       "-0.01130    0.0\n",
       "-0.01125    0.0\n",
       "-0.01120    0.0\n",
       "...         ...\n",
       "5.99560     0.0\n",
       "5.99565     0.0\n",
       "5.99570     0.0\n",
       "5.99575     0.0\n",
       "5.99580     0.0\n",
       "\n",
       "[120145 rows x 1 columns]"
      ]
     },
     "execution_count": 415,
     "metadata": {},
     "output_type": "execute_result"
    }
   ],
   "source": [
    "densities[0]"
   ]
  },
  {
   "cell_type": "code",
   "execution_count": 366,
   "id": "06a57a6c",
   "metadata": {},
   "outputs": [],
   "source": [
    "a=np.array([1,2,3,4,5])"
   ]
  },
  {
   "cell_type": "code",
   "execution_count": 379,
   "id": "b2fde9ee",
   "metadata": {},
   "outputs": [],
   "source": [
    "a=np.array([10,1,6,2,3,4])"
   ]
  },
  {
   "cell_type": "code",
   "execution_count": 382,
   "id": "d87a4641",
   "metadata": {},
   "outputs": [
    {
     "data": {
      "text/plain": [
       "array([100,   1,  60,  20,  30,  40])"
      ]
     },
     "execution_count": 382,
     "metadata": {},
     "output_type": "execute_result"
    }
   ],
   "source": [
    "np.where(a==1, a, a*10)"
   ]
  },
  {
   "cell_type": "code",
   "execution_count": 353,
   "id": "8e64aeee",
   "metadata": {},
   "outputs": [
    {
     "data": {
      "image/png": "[encoded data removed]",
      "text/plain": [
       "<Figure size 640x480 with 1 Axes>"
      ]
     },
     "metadata": {},
     "output_type": "display_data"
    },
    {
     "ename": "KeyboardInterrupt",
     "evalue": "",
     "output_type": "error",
     "traceback": [
      "\u001b[1;31m---------------------------------------------------------------------------\u001b[0m",
      "\u001b[1;31mKeyboardInterrupt\u001b[0m                         Traceback (most recent call last)",
      "Cell \u001b[1;32mIn [353], line 7\u001b[0m\n\u001b[0;32m      5\u001b[0m plt\u001b[38;5;241m.\u001b[39mplot(x, density[\u001b[38;5;124m'\u001b[39m\u001b[38;5;124mvalue\u001b[39m\u001b[38;5;124m'\u001b[39m]\u001b[38;5;241m.\u001b[39mvalues)\n\u001b[0;32m      6\u001b[0m plt\u001b[38;5;241m.\u001b[39mshow()\n\u001b[1;32m----> 7\u001b[0m \u001b[43mtime\u001b[49m\u001b[38;5;241;43m.\u001b[39;49m\u001b[43msleep\u001b[49m\u001b[43m(\u001b[49m\u001b[38;5;241;43m0.1\u001b[39;49m\u001b[43m)\u001b[49m\n\u001b[0;32m      8\u001b[0m clear_output(wait\u001b[38;5;241m=\u001b[39m\u001b[38;5;28;01mTrue\u001b[39;00m)\n",
      "\u001b[1;31mKeyboardInterrupt\u001b[0m: "
     ]
    }
   ],
   "source": [
    "x = density.index.astype('float64')\n",
    "for density in densities:\n",
    "    plt.title(density.name)\n",
    "    plt.scatter(closes.loc[density.name]  ,0,color='red')\n",
    "    plt.plot(x, density['value'].values)\n",
    "    plt.show()\n",
    "    time.sleep(0.1)\n",
    "    clear_output(wait=True)"
   ]
  },
  {
   "cell_type": "code",
   "execution_count": 349,
   "id": "a0d246e5",
   "metadata": {},
   "outputs": [
    {
     "data": {
      "text/plain": [
       "[<matplotlib.lines.Line2D at 0x297a3cbe670>]"
      ]
     },
     "execution_count": 349,
     "metadata": {},
     "output_type": "execute_result"
    },
    {
     "data": {
      "image/png": "[encoded data removed]",
      "text/plain": [
       "<Figure size 640x480 with 1 Axes>"
      ]
     },
     "metadata": {},
     "output_type": "display_data"
    }
   ],
   "source": [
    "plt.plot(density.index.astype('float64'), density['value'].values)"
   ]
  },
  {
   "cell_type": "code",
   "execution_count": 348,
   "id": "c1ea67b6",
   "metadata": {},
   "outputs": [
    {
     "data": {
      "text/plain": [
       "Float64Index([ 0.1122, 0.11225,  0.1123, 0.11235,  0.1124, 0.11245,  0.1125,\n",
       "              0.11255,  0.1126, 0.11265,\n",
       "              ...\n",
       "               0.9958, 0.99585,  0.9959, 0.99595,   0.996, 0.99605,  0.9961,\n",
       "              0.99615,  0.9962, 0.99625],\n",
       "             dtype='float64', length=17682)"
      ]
     },
     "execution_count": 348,
     "metadata": {},
     "output_type": "execute_result"
    }
   ],
   "source": [
    "density.index.astype('float64')"
   ]
  },
  {
   "cell_type": "code",
   "execution_count": null,
   "id": "7f7c62e7",
   "metadata": {},
   "outputs": [],
   "source": []
  }
 ],
 "metadata": {
  "kernelspec": {
   "display_name": "Python 3 (ipykernel)",
   "language": "python",
   "name": "python3"
  },
  "language_info": {
   "codemirror_mode": {
    "name": "ipython",
    "version": 3
   },
   "file_extension": ".py",
   "mimetype": "text/x-python",
   "name": "python",
   "nbconvert_exporter": "python",
   "pygments_lexer": "ipython3",
   "version": "3.8.15"
  }
 },
 "nbformat": 4,
 "nbformat_minor": 5
}
