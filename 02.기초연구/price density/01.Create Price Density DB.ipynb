{
 "cells": [
  {
   "cell_type": "code",
   "execution_count": 10,
   "id": "5bc73858",
   "metadata": {},
   "outputs": [],
   "source": [
    "%matplotlib inline\n",
    "import sys, os\n",
    "sys.path.append('../../')\n",
    "import h5py\n",
    "import numpy as np\n",
    "import pandas as pd\n",
    "from datetime import datetime\n",
    "import matplotlib.pyplot as plt\n",
    "from decimal import Decimal\n",
    "#from tools import OHLC, Density\n",
    "#from tools import open_file, products\n",
    "from tools.instruments import instruments\n",
    "from IPython.display import clear_output\n",
    "import time\n",
    "import math"
   ]
  },
  {
   "cell_type": "code",
   "execution_count": 2,
   "id": "ea52636d",
   "metadata": {},
   "outputs": [],
   "source": [
    "%load_ext autoreload\n",
    "%aimport tools.TDOP\n",
    "%autoreload 2"
   ]
  },
  {
   "cell_type": "markdown",
   "id": "6fb705da",
   "metadata": {},
   "source": [
    "### 환경 설정"
   ]
  },
  {
   "cell_type": "code",
   "execution_count": 12,
   "id": "e953eb83",
   "metadata": {},
   "outputs": [],
   "source": [
    "Tau = 50 #time constant"
   ]
  },
  {
   "cell_type": "code",
   "execution_count": 15,
   "id": "8bf3ba34",
   "metadata": {},
   "outputs": [],
   "source": [
    "filepath = os.path.join(os.getcwd(), '..','..','data','price density',f'density_Tau_{Tau}.hdf')\n",
    "#file = h5py.File(filepath, 'w')"
   ]
  },
  {
   "cell_type": "code",
   "execution_count": 16,
   "id": "b2c6f615",
   "metadata": {},
   "outputs": [
    {
     "name": "stdout",
     "output_type": "stream",
     "text": [
      "AD (1/39)\n",
      "BO (2/39)\n",
      "BP (3/39)\n",
      "C (4/39)\n",
      "CC (5/39)\n",
      "CD (6/39)\n",
      "CL (7/39)\n",
      "CT (8/39)\n",
      "DX (9/39)\n",
      "EC (10/39)\n",
      "ES (11/39)\n",
      "FV (12/39)\n",
      "GC (13/39)\n",
      "HG (14/39)\n",
      "HO (15/39)\n",
      "JY (16/39)\n",
      "KC (17/39)\n",
      "LC (18/39)\n",
      "LN (19/39)\n",
      "MD (20/39)\n",
      "NE (21/39)\n",
      "NG (22/39)\n",
      "NK (23/39)\n",
      "NQ (24/39)\n",
      "O (25/39)\n",
      "OJ (26/39)\n",
      "PA (27/39)\n",
      "PL (28/39)\n",
      "RB (29/39)\n",
      "RTY (30/39)\n",
      "S (31/39)\n",
      "SB (32/39)\n",
      "SF (33/39)\n",
      "SI (34/39)\n",
      "SM (35/39)\n",
      "TU (36/39)\n",
      "TY (37/39)\n",
      "US (38/39)\n",
      "W (39/39)\n"
     ]
    }
   ],
   "source": [
    "db_symbols = instruments.quotes().columns.levels[0].tolist()\n",
    "tradables = instruments.filter(tradable=True)\n",
    "products = [ins for ins in tradables if ins.symbol in db_symbols]\n",
    "\n",
    "for cnt, ins in enumerate(products):\n",
    "    print(f\"{ins.symbol} ({cnt+1}/{len(products)})\")\n",
    "    file = h5py.File(filepath, 'a')\n",
    "    #ins = instruments['MP']\n",
    "    quotes = ins.quotes()[['high','low','volume']].dropna()\n",
    "    #최고가 = 최저가인 경우 이상하다고 판단하여 거래량을 0으로 만듬\n",
    "    quotes.loc[quotes[quotes['high']==quotes['low']].index, 'volume']=0\n",
    "    ticks = (quotes['high']-quotes['low'])/ins.tickunit + 1\n",
    "    quotes['density'] = quotes['volume']/ticks\n",
    "\n",
    "    m = quotes['low'].min() - ins.tickunit*100\n",
    "    M = quotes['high'].max() + ins.tickunit*100\n",
    "    priceindex = np.array([i.round(ins.decimal_places) for i in np.arange(m,M,ins.tickunit)])\n",
    "\n",
    "    S = np.full((len(priceindex),), 0)\n",
    "    tol  = ins.tickunit/3 #float 처리용 tolerance\n",
    "    densities = []\n",
    "    last_date = quotes.index[0] - pd.Timedelta(days=1)\n",
    "    for date, quote in quotes.iterrows():\n",
    "        dt = (date-last_date).days\n",
    "        lower = quote['low'] - tol\n",
    "        upper = quote['high'] + tol\n",
    "        X = np.where( (lower < priceindex) & (priceindex < upper), quote['density'], 0)\n",
    "        S = S + (1-pow(math.e, -dt/Tau))*(X-S) #exponential lag\n",
    "        densities.append(S)\n",
    "        last_date = date\n",
    "    densities = np.array(densities)\n",
    "\n",
    "\n",
    "    group = file.create_group(ins.symbol)\n",
    "    dates = quotes.index.values\n",
    "    group.create_dataset(\"dates\", dates.shape, data=dates.astype('int64'))\n",
    "    group.create_dataset(\"priceindex\", priceindex.shape, data=priceindex)\n",
    "    group.create_dataset(\"density\", densities.shape, data=densities, compression=\"gzip\")\n",
    "    file.flush()\n",
    "    file.close()"
   ]
  },
  {
   "cell_type": "code",
   "execution_count": 170,
   "id": "597afa2d",
   "metadata": {},
   "outputs": [],
   "source": [
    "file.close()"
   ]
  },
  {
   "cell_type": "markdown",
   "id": "7e764a18",
   "metadata": {},
   "source": [
    "### Verification"
   ]
  },
  {
   "cell_type": "code",
   "execution_count": 17,
   "id": "1ce073be",
   "metadata": {},
   "outputs": [],
   "source": [
    "file = h5py.File(filepath, 'r')\n",
    "symbol = 'W'\n",
    "TD = file[symbol]"
   ]
  },
  {
   "cell_type": "code",
   "execution_count": 18,
   "id": "f8cf2faa",
   "metadata": {},
   "outputs": [],
   "source": [
    "ad = instruments[symbol]\n",
    "priceindex = TD['priceindex'][:]\n",
    "dates = TD['dates'][:].astype('M8[ns]')\n",
    "densities = TD['density']\n",
    "quotes = ad.quotes()"
   ]
  },
  {
   "cell_type": "code",
   "execution_count": 19,
   "id": "87d2cc35",
   "metadata": {},
   "outputs": [
    {
     "data": {
      "text/plain": [
       "(15773, 7468)"
      ]
     },
     "execution_count": 19,
     "metadata": {},
     "output_type": "execute_result"
    }
   ],
   "source": [
    "densities.shape"
   ]
  },
  {
   "cell_type": "code",
   "execution_count": 20,
   "id": "80f0b4d0",
   "metadata": {},
   "outputs": [
    {
     "data": {
      "text/plain": [
       "(15773,)"
      ]
     },
     "execution_count": 20,
     "metadata": {},
     "output_type": "execute_result"
    }
   ],
   "source": [
    "dates.shape"
   ]
  },
  {
   "cell_type": "code",
   "execution_count": 21,
   "id": "07f3a518",
   "metadata": {},
   "outputs": [
    {
     "data": {
      "text/plain": [
       "(7468,)"
      ]
     },
     "execution_count": 21,
     "metadata": {},
     "output_type": "execute_result"
    }
   ],
   "source": [
    "priceindex.shape"
   ]
  },
  {
   "cell_type": "code",
   "execution_count": 22,
   "id": "01c68ac1",
   "metadata": {},
   "outputs": [
    {
     "data": {
      "image/png": "[encoded data removed]",
      "text/plain": [
       "<Figure size 640x480 with 1 Axes>"
      ]
     },
     "metadata": {},
     "output_type": "display_data"
    },
    {
     "ename": "KeyboardInterrupt",
     "evalue": "",
     "output_type": "error",
     "traceback": [
      "\u001b[1;31m---------------------------------------------------------------------------\u001b[0m",
      "\u001b[1;31mKeyboardInterrupt\u001b[0m                         Traceback (most recent call last)",
      "Cell \u001b[1;32mIn [22], line 8\u001b[0m\n\u001b[0;32m      6\u001b[0m plt\u001b[38;5;241m.\u001b[39mplot(priceindex, densities[i])\n\u001b[0;32m      7\u001b[0m plt\u001b[38;5;241m.\u001b[39mshow()\n\u001b[1;32m----> 8\u001b[0m \u001b[43mtime\u001b[49m\u001b[38;5;241;43m.\u001b[39;49m\u001b[43msleep\u001b[49m\u001b[43m(\u001b[49m\u001b[38;5;241;43m0.1\u001b[39;49m\u001b[43m)\u001b[49m\n\u001b[0;32m      9\u001b[0m clear_output(wait\u001b[38;5;241m=\u001b[39m\u001b[38;5;28;01mTrue\u001b[39;00m)\n",
      "\u001b[1;31mKeyboardInterrupt\u001b[0m: "
     ]
    }
   ],
   "source": [
    "for i, date in enumerate(dates):\n",
    "    if i< 13880:\n",
    "        continue\n",
    "    plt.title(date)\n",
    "    plt.scatter(quotes.loc[date].close  ,0,color='red')\n",
    "    plt.plot(priceindex, densities[i])\n",
    "    plt.show()\n",
    "    time.sleep(0.1)\n",
    "    clear_output(wait=True)"
   ]
  },
  {
   "cell_type": "code",
   "execution_count": 9,
   "id": "c33d5542",
   "metadata": {},
   "outputs": [
    {
     "data": {
      "text/plain": [
       "0.9900498337491681"
      ]
     },
     "execution_count": 9,
     "metadata": {},
     "output_type": "execute_result"
    }
   ],
   "source": [
    "pow(math.e, -0.01)"
   ]
  },
  {
   "cell_type": "code",
   "execution_count": null,
   "id": "83840831",
   "metadata": {},
   "outputs": [],
   "source": []
  }
 ],
 "metadata": {
  "kernelspec": {
   "display_name": "Python 3 (ipykernel)",
   "language": "python",
   "name": "python3"
  },
  "language_info": {
   "codemirror_mode": {
    "name": "ipython",
    "version": 3
   },
   "file_extension": ".py",
   "mimetype": "text/x-python",
   "name": "python",
   "nbconvert_exporter": "python",
   "pygments_lexer": "ipython3",
   "version": "3.8.15"
  }
 },
 "nbformat": 4,
 "nbformat_minor": 5
}
