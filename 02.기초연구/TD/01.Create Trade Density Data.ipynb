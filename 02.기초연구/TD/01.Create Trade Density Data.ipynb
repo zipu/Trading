{
 "cells": [
  {
   "cell_type": "code",
   "execution_count": 1,
   "id": "5bc73858",
   "metadata": {},
   "outputs": [],
   "source": [
    "%matplotlib inline\n",
    "import sys, os\n",
    "sys.path.append('../../')\n",
    "import h5py\n",
    "import numpy as np\n",
    "import pandas as pd\n",
    "from datetime import datetime\n",
    "import matplotlib.pyplot as plt\n",
    "from decimal import Decimal\n",
    "#from tools import OHLC, Density\n",
    "#from tools import open_file, products\n",
    "from tools.instruments import instruments\n",
    "from IPython.display import clear_output\n",
    "import time"
   ]
  },
  {
   "cell_type": "code",
   "execution_count": 3,
   "id": "ea52636d",
   "metadata": {},
   "outputs": [
    {
     "name": "stdout",
     "output_type": "stream",
     "text": [
      "The autoreload extension is already loaded. To reload it, use:\n",
      "  %reload_ext autoreload\n"
     ]
    }
   ],
   "source": [
    "%load_ext autoreload\n",
    "%aimport tools.TDOP\n",
    "%autoreload 2"
   ]
  },
  {
   "cell_type": "markdown",
   "id": "6fb705da",
   "metadata": {},
   "source": [
    "### 환경 설정"
   ]
  },
  {
   "cell_type": "code",
   "execution_count": 2,
   "id": "e953eb83",
   "metadata": {},
   "outputs": [],
   "source": [
    "T = 50 #time constant"
   ]
  },
  {
   "cell_type": "code",
   "execution_count": 127,
   "id": "8bf3ba34",
   "metadata": {},
   "outputs": [],
   "source": [
    "filepath = os.path.join(os.getcwd(), '..','..','data','TD',f'density_TC_{T}.hdf')\n",
    "#file = h5py.File(filepath, 'w')"
   ]
  },
  {
   "cell_type": "code",
   "execution_count": null,
   "id": "b2c6f615",
   "metadata": {},
   "outputs": [
    {
     "name": "stdout",
     "output_type": "stream",
     "text": [
      "AD (1/39)\n",
      "BO (2/39)\n",
      "BP (3/39)\n",
      "C (4/39)\n",
      "CC (5/39)\n",
      "CD (6/39)\n",
      "CL (7/39)\n",
      "CT (8/39)\n",
      "DX (9/39)\n",
      "EC (10/39)\n",
      "ES (11/39)\n",
      "FV (12/39)\n",
      "GC (13/39)\n",
      "HG (14/39)\n",
      "HO (15/39)\n",
      "JY (16/39)\n",
      "KC (17/39)\n",
      "LC (18/39)\n",
      "LN (19/39)\n",
      "MD (20/39)\n",
      "NE (21/39)\n",
      "NG (22/39)\n",
      "NK (23/39)\n",
      "NQ (24/39)\n",
      "O (25/39)\n",
      "OJ (26/39)\n",
      "PA (27/39)\n",
      "PL (28/39)\n",
      "RB (29/39)\n",
      "RTY (30/39)\n",
      "S (31/39)\n",
      "SB (32/39)\n",
      "SF (33/39)\n",
      "SI (34/39)\n"
     ]
    }
   ],
   "source": [
    "db_symbols = instruments.quotes().columns.levels[0].tolist()\n",
    "tradables = instruments.filter(tradable=True)\n",
    "products = [ins for ins in tradables if ins.symbol in db_symbols]\n",
    "\n",
    "for cnt, ins in enumerate(products):\n",
    "    print(f\"{ins.symbol} ({cnt+1}/{len(products)})\")\n",
    "    file = h5py.File(filepath, 'a')\n",
    "    #ins = instruments['MP']\n",
    "    quotes = ins.quotes()[['high','low','volume']].dropna()\n",
    "    #최고가 = 최저가인 경우 이상하다고 판단하여 거래량을 0으로 만듬\n",
    "    quotes.loc[quotes[quotes['high']==quotes['low']].index, 'volume']=0\n",
    "    ticks = (quotes['high']-quotes['low'])/ins.tickunit + 1\n",
    "    quotes['density'] = quotes['volume']/ticks\n",
    "\n",
    "    m = quotes['low'].min() - ins.tickunit*100\n",
    "    M = quotes['high'].max() + ins.tickunit*100\n",
    "    priceindex = np.array([i.round(ins.decimal_places) for i in np.arange(m,M,ins.tickunit)])\n",
    "\n",
    "    S = np.full((len(priceindex),), 0)\n",
    "    tol  = ins.tickunit/3 #float 처리용 tolerance\n",
    "    densities = []\n",
    "    last_date = quotes.index[0] - pd.Timedelta(days=1)\n",
    "    for date, quote in quotes.iterrows():\n",
    "        dt = (date-last_date).days\n",
    "        lower = quote['low'] - tol\n",
    "        upper = quote['high'] + tol\n",
    "        X = np.where( (lower < priceindex) & (priceindex < upper), quote['density'], 0)\n",
    "        S = S + (X-S)*dt/T #exponential lag\n",
    "        densities.append(S)\n",
    "        last_date = date\n",
    "    densities = np.array(densities)\n",
    "\n",
    "\n",
    "    group = file.create_group(ins.symbol)\n",
    "    dates = quotes.index.values\n",
    "    group.create_dataset(\"dates\", dates.shape, data=dates.astype('int64'))\n",
    "    group.create_dataset(\"priceindex\", priceindex.shape, data=priceindex)\n",
    "    group.create_dataset(\"density\", densities.shape, data=densities, compression=\"gzip\")\n",
    "    file.flush()\n",
    "    file.close()"
   ]
  },
  {
   "cell_type": "code",
   "execution_count": 170,
   "id": "597afa2d",
   "metadata": {},
   "outputs": [],
   "source": [
    "file.close()"
   ]
  },
  {
   "cell_type": "markdown",
   "id": "7e764a18",
   "metadata": {},
   "source": [
    "### Verification"
   ]
  },
  {
   "cell_type": "code",
   "execution_count": 164,
   "id": "1ce073be",
   "metadata": {},
   "outputs": [],
   "source": [
    "file = h5py.File(filepath, 'r')\n",
    "TD = file['AD']"
   ]
  },
  {
   "cell_type": "code",
   "execution_count": 165,
   "id": "f8cf2faa",
   "metadata": {},
   "outputs": [],
   "source": [
    "ad = instruments['AD']\n",
    "priceindex = TD['priceindex'][:]\n",
    "dates = TD['dates'][:].astype('M8[ns]')\n",
    "densities = TD['density']\n",
    "quotes = ad.quotes()"
   ]
  },
  {
   "cell_type": "code",
   "execution_count": 166,
   "id": "87d2cc35",
   "metadata": {},
   "outputs": [
    {
     "data": {
      "text/plain": [
       "(8916, 20245)"
      ]
     },
     "execution_count": 166,
     "metadata": {},
     "output_type": "execute_result"
    }
   ],
   "source": [
    "densities.shape"
   ]
  },
  {
   "cell_type": "code",
   "execution_count": 167,
   "id": "80f0b4d0",
   "metadata": {},
   "outputs": [
    {
     "data": {
      "text/plain": [
       "(8916,)"
      ]
     },
     "execution_count": 167,
     "metadata": {},
     "output_type": "execute_result"
    }
   ],
   "source": [
    "dates.shape"
   ]
  },
  {
   "cell_type": "code",
   "execution_count": 168,
   "id": "07f3a518",
   "metadata": {},
   "outputs": [
    {
     "data": {
      "text/plain": [
       "(20245,)"
      ]
     },
     "execution_count": 168,
     "metadata": {},
     "output_type": "execute_result"
    }
   ],
   "source": [
    "priceindex.shape"
   ]
  },
  {
   "cell_type": "code",
   "execution_count": 169,
   "id": "01c68ac1",
   "metadata": {},
   "outputs": [
    {
     "data": {
      "image/png": "[encoded data removed]",
      "text/plain": [
       "<Figure size 640x480 with 1 Axes>"
      ]
     },
     "metadata": {},
     "output_type": "display_data"
    },
    {
     "ename": "KeyboardInterrupt",
     "evalue": "",
     "output_type": "error",
     "traceback": [
      "\u001b[1;31m---------------------------------------------------------------------------\u001b[0m",
      "\u001b[1;31mKeyboardInterrupt\u001b[0m                         Traceback (most recent call last)",
      "Cell \u001b[1;32mIn [169], line 8\u001b[0m\n\u001b[0;32m      6\u001b[0m plt\u001b[38;5;241m.\u001b[39mplot(priceindex, densities[i])\n\u001b[0;32m      7\u001b[0m plt\u001b[38;5;241m.\u001b[39mshow()\n\u001b[1;32m----> 8\u001b[0m \u001b[43mtime\u001b[49m\u001b[38;5;241;43m.\u001b[39;49m\u001b[43msleep\u001b[49m\u001b[43m(\u001b[49m\u001b[38;5;241;43m1\u001b[39;49m\u001b[43m)\u001b[49m\n\u001b[0;32m      9\u001b[0m clear_output(wait\u001b[38;5;241m=\u001b[39m\u001b[38;5;28;01mTrue\u001b[39;00m)\n",
      "\u001b[1;31mKeyboardInterrupt\u001b[0m: "
     ]
    }
   ],
   "source": [
    "for i, date in enumerate(dates):\n",
    "    if i< 6880:\n",
    "        continue\n",
    "    plt.title(date)\n",
    "    plt.scatter(quotes.loc[date].close  ,0,color='red')\n",
    "    plt.plot(priceindex, densities[i])\n",
    "    plt.show()\n",
    "    time.sleep(1)\n",
    "    clear_output(wait=True)"
   ]
  },
  {
   "cell_type": "code",
   "execution_count": 158,
   "id": "ef646b8e",
   "metadata": {},
   "outputs": [],
   "source": [
    "quotes.loc[quotes[quotes['high']==quotes['low']].index, 'volume']=0"
   ]
  },
  {
   "cell_type": "code",
   "execution_count": 155,
   "id": "3c6a6d6f",
   "metadata": {},
   "outputs": [],
   "source": [
    "quotes.loc['2014-04-16','volume'] = 0"
   ]
  },
  {
   "cell_type": "code",
   "execution_count": 159,
   "id": "85fcd5e4",
   "metadata": {},
   "outputs": [
    {
     "data": {
      "text/html": [
       "<div>\n",
       "<style scoped>\n",
       "    .dataframe tbody tr th:only-of-type {\n",
       "        vertical-align: middle;\n",
       "    }\n",
       "\n",
       "    .dataframe tbody tr th {\n",
       "        vertical-align: top;\n",
       "    }\n",
       "\n",
       "    .dataframe thead th {\n",
       "        text-align: right;\n",
       "    }\n",
       "</style>\n",
       "<table border=\"1\" class=\"dataframe\">\n",
       "  <thead>\n",
       "    <tr style=\"text-align: right;\">\n",
       "      <th>field</th>\n",
       "      <th>open</th>\n",
       "      <th>high</th>\n",
       "      <th>low</th>\n",
       "      <th>close</th>\n",
       "      <th>volume</th>\n",
       "      <th>oi</th>\n",
       "    </tr>\n",
       "    <tr>\n",
       "      <th>date</th>\n",
       "      <th></th>\n",
       "      <th></th>\n",
       "      <th></th>\n",
       "      <th></th>\n",
       "      <th></th>\n",
       "      <th></th>\n",
       "    </tr>\n",
       "  </thead>\n",
       "  <tbody>\n",
       "    <tr>\n",
       "      <th>2014-04-16</th>\n",
       "      <td>0.89730</td>\n",
       "      <td>0.90050</td>\n",
       "      <td>0.89490</td>\n",
       "      <td>0.90000</td>\n",
       "      <td>67407</td>\n",
       "      <td>98487</td>\n",
       "    </tr>\n",
       "    <tr>\n",
       "      <th>2014-04-17</th>\n",
       "      <td>0.89860</td>\n",
       "      <td>0.90080</td>\n",
       "      <td>0.89380</td>\n",
       "      <td>0.89440</td>\n",
       "      <td>54643</td>\n",
       "      <td>100920</td>\n",
       "    </tr>\n",
       "    <tr>\n",
       "      <th>2014-04-18</th>\n",
       "      <td>0.89440</td>\n",
       "      <td>0.89440</td>\n",
       "      <td>0.89440</td>\n",
       "      <td>0.89440</td>\n",
       "      <td>0</td>\n",
       "      <td>100920</td>\n",
       "    </tr>\n",
       "    <tr>\n",
       "      <th>2014-04-21</th>\n",
       "      <td>0.89490</td>\n",
       "      <td>0.89640</td>\n",
       "      <td>0.89330</td>\n",
       "      <td>0.89480</td>\n",
       "      <td>26109</td>\n",
       "      <td>101045</td>\n",
       "    </tr>\n",
       "    <tr>\n",
       "      <th>2014-04-22</th>\n",
       "      <td>0.89420</td>\n",
       "      <td>0.89970</td>\n",
       "      <td>0.89410</td>\n",
       "      <td>0.89800</td>\n",
       "      <td>54142</td>\n",
       "      <td>103186</td>\n",
       "    </tr>\n",
       "    <tr>\n",
       "      <th>...</th>\n",
       "      <td>...</td>\n",
       "      <td>...</td>\n",
       "      <td>...</td>\n",
       "      <td>...</td>\n",
       "      <td>...</td>\n",
       "      <td>...</td>\n",
       "    </tr>\n",
       "    <tr>\n",
       "      <th>2022-04-28</th>\n",
       "      <td>0.71290</td>\n",
       "      <td>0.71660</td>\n",
       "      <td>0.70595</td>\n",
       "      <td>0.70995</td>\n",
       "      <td>112019</td>\n",
       "      <td>144283</td>\n",
       "    </tr>\n",
       "    <tr>\n",
       "      <th>2022-04-29</th>\n",
       "      <td>0.71035</td>\n",
       "      <td>0.71845</td>\n",
       "      <td>0.70610</td>\n",
       "      <td>0.70870</td>\n",
       "      <td>124501</td>\n",
       "      <td>144179</td>\n",
       "    </tr>\n",
       "    <tr>\n",
       "      <th>2022-05-02</th>\n",
       "      <td>0.70710</td>\n",
       "      <td>0.70870</td>\n",
       "      <td>0.70355</td>\n",
       "      <td>0.70415</td>\n",
       "      <td>91807</td>\n",
       "      <td>140428</td>\n",
       "    </tr>\n",
       "    <tr>\n",
       "      <th>2022-05-03</th>\n",
       "      <td>0.70570</td>\n",
       "      <td>0.71535</td>\n",
       "      <td>0.70525</td>\n",
       "      <td>0.70990</td>\n",
       "      <td>114059</td>\n",
       "      <td>143087</td>\n",
       "    </tr>\n",
       "    <tr>\n",
       "      <th>2022-05-04</th>\n",
       "      <td>0.71005</td>\n",
       "      <td>0.72700</td>\n",
       "      <td>0.70925</td>\n",
       "      <td>0.72370</td>\n",
       "      <td>117416</td>\n",
       "      <td>151039</td>\n",
       "    </tr>\n",
       "  </tbody>\n",
       "</table>\n",
       "<p>2033 rows × 6 columns</p>\n",
       "</div>"
      ],
      "text/plain": [
       "field          open     high      low    close  volume      oi\n",
       "date                                                          \n",
       "2014-04-16  0.89730  0.90050  0.89490  0.90000   67407   98487\n",
       "2014-04-17  0.89860  0.90080  0.89380  0.89440   54643  100920\n",
       "2014-04-18  0.89440  0.89440  0.89440  0.89440       0  100920\n",
       "2014-04-21  0.89490  0.89640  0.89330  0.89480   26109  101045\n",
       "2014-04-22  0.89420  0.89970  0.89410  0.89800   54142  103186\n",
       "...             ...      ...      ...      ...     ...     ...\n",
       "2022-04-28  0.71290  0.71660  0.70595  0.70995  112019  144283\n",
       "2022-04-29  0.71035  0.71845  0.70610  0.70870  124501  144179\n",
       "2022-05-02  0.70710  0.70870  0.70355  0.70415   91807  140428\n",
       "2022-05-03  0.70570  0.71535  0.70525  0.70990  114059  143087\n",
       "2022-05-04  0.71005  0.72700  0.70925  0.72370  117416  151039\n",
       "\n",
       "[2033 rows x 6 columns]"
      ]
     },
     "execution_count": 159,
     "metadata": {},
     "output_type": "execute_result"
    }
   ],
   "source": [
    "quotes.loc['2014-04-16':]"
   ]
  },
  {
   "cell_type": "code",
   "execution_count": 160,
   "id": "bf902cdf",
   "metadata": {},
   "outputs": [
    {
     "data": {
      "text/html": [
       "<div>\n",
       "<style scoped>\n",
       "    .dataframe tbody tr th:only-of-type {\n",
       "        vertical-align: middle;\n",
       "    }\n",
       "\n",
       "    .dataframe tbody tr th {\n",
       "        vertical-align: top;\n",
       "    }\n",
       "\n",
       "    .dataframe thead th {\n",
       "        text-align: right;\n",
       "    }\n",
       "</style>\n",
       "<table border=\"1\" class=\"dataframe\">\n",
       "  <thead>\n",
       "    <tr style=\"text-align: right;\">\n",
       "      <th>field</th>\n",
       "      <th>open</th>\n",
       "      <th>high</th>\n",
       "      <th>low</th>\n",
       "      <th>close</th>\n",
       "      <th>volume</th>\n",
       "      <th>oi</th>\n",
       "    </tr>\n",
       "    <tr>\n",
       "      <th>date</th>\n",
       "      <th></th>\n",
       "      <th></th>\n",
       "      <th></th>\n",
       "      <th></th>\n",
       "      <th></th>\n",
       "      <th></th>\n",
       "    </tr>\n",
       "  </thead>\n",
       "  <tbody>\n",
       "    <tr>\n",
       "      <th>1987-12-16</th>\n",
       "      <td>0.1159</td>\n",
       "      <td>0.1159</td>\n",
       "      <td>0.1159</td>\n",
       "      <td>0.1159</td>\n",
       "      <td>0</td>\n",
       "      <td>487</td>\n",
       "    </tr>\n",
       "    <tr>\n",
       "      <th>1987-12-24</th>\n",
       "      <td>0.1164</td>\n",
       "      <td>0.1164</td>\n",
       "      <td>0.1164</td>\n",
       "      <td>0.1164</td>\n",
       "      <td>0</td>\n",
       "      <td>491</td>\n",
       "    </tr>\n",
       "    <tr>\n",
       "      <th>2013-03-29</th>\n",
       "      <td>0.9780</td>\n",
       "      <td>0.9780</td>\n",
       "      <td>0.9780</td>\n",
       "      <td>0.9780</td>\n",
       "      <td>0</td>\n",
       "      <td>200298</td>\n",
       "    </tr>\n",
       "    <tr>\n",
       "      <th>2014-04-18</th>\n",
       "      <td>0.8944</td>\n",
       "      <td>0.8944</td>\n",
       "      <td>0.8944</td>\n",
       "      <td>0.8944</td>\n",
       "      <td>0</td>\n",
       "      <td>100920</td>\n",
       "    </tr>\n",
       "  </tbody>\n",
       "</table>\n",
       "</div>"
      ],
      "text/plain": [
       "field         open    high     low   close  volume      oi\n",
       "date                                                      \n",
       "1987-12-16  0.1159  0.1159  0.1159  0.1159       0     487\n",
       "1987-12-24  0.1164  0.1164  0.1164  0.1164       0     491\n",
       "2013-03-29  0.9780  0.9780  0.9780  0.9780       0  200298\n",
       "2014-04-18  0.8944  0.8944  0.8944  0.8944       0  100920"
      ]
     },
     "execution_count": 160,
     "metadata": {},
     "output_type": "execute_result"
    }
   ],
   "source": [
    "quotes[quotes['high']==quotes['low']]"
   ]
  },
  {
   "cell_type": "code",
   "execution_count": 126,
   "id": "469829b8",
   "metadata": {},
   "outputs": [
    {
     "data": {
      "text/plain": [
       "1"
      ]
     },
     "execution_count": 126,
     "metadata": {},
     "output_type": "execute_result"
    }
   ],
   "source": [
    "(a-b).days"
   ]
  },
  {
   "cell_type": "code",
   "execution_count": 124,
   "id": "ee5f65d7",
   "metadata": {},
   "outputs": [
    {
     "data": {
      "text/plain": [
       "Timestamp('1987-01-13 00:00:00')"
      ]
     },
     "execution_count": 124,
     "metadata": {},
     "output_type": "execute_result"
    }
   ],
   "source": [
    "a"
   ]
  },
  {
   "cell_type": "code",
   "execution_count": 77,
   "id": "012d34c8",
   "metadata": {},
   "outputs": [],
   "source": [
    "d = quotes['high']- quotes['low']"
   ]
  },
  {
   "cell_type": "code",
   "execution_count": 79,
   "id": "3316874c",
   "metadata": {},
   "outputs": [
    {
     "data": {
      "text/plain": [
       "<AxesSubplot:xlabel='date'>"
      ]
     },
     "execution_count": 79,
     "metadata": {},
     "output_type": "execute_result"
    },
    {
     "data": {
      "image/png": "[encoded data removed]",
      "text/plain": [
       "<Figure size 640x480 with 1 Axes>"
      ]
     },
     "metadata": {},
     "output_type": "display_data"
    }
   ],
   "source": [
    "d['2013-03-01':'2013-04-30'].plot()"
   ]
  },
  {
   "cell_type": "code",
   "execution_count": 142,
   "id": "a81efba5",
   "metadata": {},
   "outputs": [],
   "source": [
    "quotes.loc[quotes[quotes['high']==quotes['low']].index].loc['volume'] = 0 "
   ]
  },
  {
   "cell_type": "code",
   "execution_count": null,
   "id": "951efc4e",
   "metadata": {},
   "outputs": [],
   "source": []
  }
 ],
 "metadata": {
  "kernelspec": {
   "display_name": "Python 3 (ipykernel)",
   "language": "python",
   "name": "python3"
  },
  "language_info": {
   "codemirror_mode": {
    "name": "ipython",
    "version": 3
   },
   "file_extension": ".py",
   "mimetype": "text/x-python",
   "name": "python",
   "nbconvert_exporter": "python",
   "pygments_lexer": "ipython3",
   "version": "3.8.15"
  }
 },
 "nbformat": 4,
 "nbformat_minor": 5
}
