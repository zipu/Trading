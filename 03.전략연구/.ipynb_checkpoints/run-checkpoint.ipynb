{
 "cells": [
  {
   "cell_type": "code",
   "execution_count": 1,
   "metadata": {},
   "outputs": [],
   "source": [
    "import sys, os #imp\n",
    "sys.path.append('..')\n",
    "import pandas as pd\n",
    "import yaml\n",
    "import backtesting as bt\n",
    "import matplotlib.pyplot as plt\n",
    "import numpy as np\n",
    "from tools.instruments import instruments\n",
    "from tools.display import highchart"
   ]
  },
  {
   "cell_type": "code",
   "execution_count": 2,
   "metadata": {},
   "outputs": [],
   "source": [
    "%load_ext autoreload\n",
    "%aimport backtesting.system\n",
    "%aimport backtesting.trader\n",
    "%aimport tools.quotes\n",
    "%aimport tools.instruments\n",
    "%aimport backtesting.trades\n",
    "%aimport tools.display\n",
    "%autoreload 2"
   ]
  },
  {
   "cell_type": "code",
   "execution_count": 15,
   "metadata": {},
   "outputs": [
    {
     "name": "stdout",
     "output_type": "stream",
     "text": [
      "{'name': 'Trend Follow', 'description': '50일 추세추종 전략\\n', 'sectors': None, 'instruments': None, 'from_date': '2021-01-01', 'to_date': None, 'principal': 100000, 'heat_system': 'DefaultHeat', 'max_system_heat': 0.3, 'max_sector_heat': 0.1, 'max_trade_heat': 0.02, 'max_lots': 10, 'commission': 2.99, 'skid': 5, 'allow_pyramiding': False, 'metrics': [['uptrend', 'TREND', \"direction='up'\", 'period=20', 'threshold=0.7'], ['min50', 'MIN', 'period=50']], 'entry_rule': {'long': 'uptrend==3', 'short': None}, 'exit_rule': {'long': 'close<min50#uptrend>20', 'short': None}, 'stop_rule': {'long': 'min50', 'short': None}}\n"
     ]
    }
   ],
   "source": [
    "with open('systems/trendfollow.yaml', encoding='utf-8') as f:\n",
    "    system1 = yaml.load(f, Loader=yaml.FullLoader)\n",
    "    print(system1)"
   ]
  },
  {
   "cell_type": "code",
   "execution_count": 16,
   "metadata": {},
   "outputs": [
    {
     "ename": "UndefinedVariableError",
     "evalue": "name 'min50' is not defined",
     "output_type": "error",
     "traceback": [
      "\u001b[1;31m---------------------------------------------------------------------------\u001b[0m",
      "\u001b[1;31mKeyError\u001b[0m                                  Traceback (most recent call last)",
      "File \u001b[1;32m~\\python\\miniconda3\\lib\\site-packages\\pandas\\core\\computation\\scope.py:233\u001b[0m, in \u001b[0;36mScope.resolve\u001b[1;34m(self, key, is_local)\u001b[0m\n\u001b[0;32m    232\u001b[0m \u001b[38;5;28;01mif\u001b[39;00m \u001b[38;5;28mself\u001b[39m\u001b[38;5;241m.\u001b[39mhas_resolvers:\n\u001b[1;32m--> 233\u001b[0m     \u001b[38;5;28;01mreturn\u001b[39;00m \u001b[38;5;28;43mself\u001b[39;49m\u001b[38;5;241;43m.\u001b[39;49m\u001b[43mresolvers\u001b[49m\u001b[43m[\u001b[49m\u001b[43mkey\u001b[49m\u001b[43m]\u001b[49m\n\u001b[0;32m    235\u001b[0m \u001b[38;5;66;03m# if we're here that means that we have no locals and we also have\u001b[39;00m\n\u001b[0;32m    236\u001b[0m \u001b[38;5;66;03m# no resolvers\u001b[39;00m\n",
      "File \u001b[1;32m~\\python\\miniconda3\\lib\\collections\\__init__.py:941\u001b[0m, in \u001b[0;36mChainMap.__getitem__\u001b[1;34m(self, key)\u001b[0m\n\u001b[0;32m    940\u001b[0m         \u001b[38;5;28;01mpass\u001b[39;00m\n\u001b[1;32m--> 941\u001b[0m \u001b[38;5;28;01mreturn\u001b[39;00m \u001b[38;5;28;43mself\u001b[39;49m\u001b[38;5;241;43m.\u001b[39;49m\u001b[38;5;21;43m__missing__\u001b[39;49m\u001b[43m(\u001b[49m\u001b[43mkey\u001b[49m\u001b[43m)\u001b[49m\n",
      "File \u001b[1;32m~\\python\\miniconda3\\lib\\collections\\__init__.py:933\u001b[0m, in \u001b[0;36mChainMap.__missing__\u001b[1;34m(self, key)\u001b[0m\n\u001b[0;32m    932\u001b[0m \u001b[38;5;28;01mdef\u001b[39;00m \u001b[38;5;21m__missing__\u001b[39m(\u001b[38;5;28mself\u001b[39m, key):\n\u001b[1;32m--> 933\u001b[0m     \u001b[38;5;28;01mraise\u001b[39;00m \u001b[38;5;167;01mKeyError\u001b[39;00m(key)\n",
      "\u001b[1;31mKeyError\u001b[0m: 'min50'",
      "\nDuring handling of the above exception, another exception occurred:\n",
      "\u001b[1;31mKeyError\u001b[0m                                  Traceback (most recent call last)",
      "File \u001b[1;32m~\\python\\miniconda3\\lib\\site-packages\\pandas\\core\\computation\\scope.py:244\u001b[0m, in \u001b[0;36mScope.resolve\u001b[1;34m(self, key, is_local)\u001b[0m\n\u001b[0;32m    240\u001b[0m \u001b[38;5;28;01mtry\u001b[39;00m:\n\u001b[0;32m    241\u001b[0m     \u001b[38;5;66;03m# last ditch effort we look in temporaries\u001b[39;00m\n\u001b[0;32m    242\u001b[0m     \u001b[38;5;66;03m# these are created when parsing indexing expressions\u001b[39;00m\n\u001b[0;32m    243\u001b[0m     \u001b[38;5;66;03m# e.g., df[df > 0]\u001b[39;00m\n\u001b[1;32m--> 244\u001b[0m     \u001b[38;5;28;01mreturn\u001b[39;00m \u001b[38;5;28;43mself\u001b[39;49m\u001b[38;5;241;43m.\u001b[39;49m\u001b[43mtemps\u001b[49m\u001b[43m[\u001b[49m\u001b[43mkey\u001b[49m\u001b[43m]\u001b[49m\n\u001b[0;32m    245\u001b[0m \u001b[38;5;28;01mexcept\u001b[39;00m \u001b[38;5;167;01mKeyError\u001b[39;00m \u001b[38;5;28;01mas\u001b[39;00m err:\n",
      "\u001b[1;31mKeyError\u001b[0m: 'min50'",
      "\nThe above exception was the direct cause of the following exception:\n",
      "\u001b[1;31mUndefinedVariableError\u001b[0m                    Traceback (most recent call last)",
      "Cell \u001b[1;32mIn[16], line 3\u001b[0m\n\u001b[0;32m      1\u001b[0m \u001b[38;5;28;01mfor\u001b[39;00m p \u001b[38;5;129;01min\u001b[39;00m np\u001b[38;5;241m.\u001b[39marange(\u001b[38;5;241m5\u001b[39m, \u001b[38;5;241m70\u001b[39m, \u001b[38;5;241m5\u001b[39m):\n\u001b[0;32m      2\u001b[0m     system1[\u001b[38;5;124m'\u001b[39m\u001b[38;5;124mmetrics\u001b[39m\u001b[38;5;124m'\u001b[39m][\u001b[38;5;241m-\u001b[39m\u001b[38;5;241m1\u001b[39m] \u001b[38;5;241m=\u001b[39m [\u001b[38;5;124m'\u001b[39m\u001b[38;5;124mpd\u001b[39m\u001b[38;5;124m'\u001b[39m,\u001b[38;5;124m'\u001b[39m\u001b[38;5;124mPD\u001b[39m\u001b[38;5;124m'\u001b[39m, \u001b[38;5;124mf\u001b[39m\u001b[38;5;124m'\u001b[39m\u001b[38;5;124mpercentile=\u001b[39m\u001b[38;5;132;01m{\u001b[39;00mp\u001b[38;5;132;01m}\u001b[39;00m\u001b[38;5;124m'\u001b[39m, \u001b[38;5;124m'\u001b[39m\u001b[38;5;124mtau=1\u001b[39m\u001b[38;5;124m'\u001b[39m]\n\u001b[1;32m----> 3\u001b[0m     trader \u001b[38;5;241m=\u001b[39m \u001b[43mbt\u001b[49m\u001b[38;5;241;43m.\u001b[39;49m\u001b[43mTrader\u001b[49m\u001b[43m(\u001b[49m\u001b[43msystems\u001b[49m\u001b[38;5;241;43m=\u001b[39;49m\u001b[43m[\u001b[49m\u001b[43msystem1\u001b[49m\u001b[43m]\u001b[49m\u001b[43m)\u001b[49m\n\u001b[0;32m      4\u001b[0m     system \u001b[38;5;241m=\u001b[39m trader\u001b[38;5;241m.\u001b[39msystems[\u001b[38;5;241m0\u001b[39m]\n\u001b[0;32m      5\u001b[0m     trader\u001b[38;5;241m.\u001b[39mrun()\n",
      "File \u001b[1;32m~\\Documents\\projects\\Trading\\03.전략연구\\..\\backtesting\\trader.py:39\u001b[0m, in \u001b[0;36mTrader.__init__\u001b[1;34m(self, systems, db)\u001b[0m\n\u001b[0;32m     37\u001b[0m \u001b[38;5;66;03m#시스템 등록\u001b[39;00m\n\u001b[0;32m     38\u001b[0m \u001b[38;5;28mself\u001b[39m\u001b[38;5;241m.\u001b[39msystems \u001b[38;5;241m=\u001b[39m []\n\u001b[1;32m---> 39\u001b[0m \u001b[38;5;28;43mself\u001b[39;49m\u001b[38;5;241;43m.\u001b[39;49m\u001b[43madd_systems\u001b[49m\u001b[43m(\u001b[49m\u001b[43msystems\u001b[49m\u001b[43m)\u001b[49m\n",
      "File \u001b[1;32m~\\Documents\\projects\\Trading\\03.전략연구\\..\\backtesting\\trader.py:79\u001b[0m, in \u001b[0;36mTrader.add_systems\u001b[1;34m(self, systems)\u001b[0m\n\u001b[0;32m     73\u001b[0m     systems \u001b[38;5;241m=\u001b[39m [systems]\n\u001b[0;32m     75\u001b[0m \u001b[38;5;28;01mfor\u001b[39;00m \u001b[38;5;28mid\u001b[39m, system \u001b[38;5;129;01min\u001b[39;00m \u001b[38;5;28menumerate\u001b[39m(systems):\n\u001b[0;32m     76\u001b[0m     \u001b[38;5;66;03m#quotes = Quotes(self.quotes[system['instruments']])\u001b[39;00m\n\u001b[0;32m     77\u001b[0m     \u001b[38;5;66;03m#print(quotes)\u001b[39;00m\n\u001b[0;32m     78\u001b[0m     \u001b[38;5;28mself\u001b[39m\u001b[38;5;241m.\u001b[39msystems\u001b[38;5;241m.\u001b[39mappend(\n\u001b[1;32m---> 79\u001b[0m             \u001b[43mSystem\u001b[49m\u001b[43m(\u001b[49m\u001b[43msystem\u001b[49m\u001b[43m,\u001b[49m\u001b[43m \u001b[49m\u001b[38;5;28;43mself\u001b[39;49m\u001b[38;5;241;43m.\u001b[39;49m\u001b[43mquotes\u001b[49m\u001b[43m,\u001b[49m\u001b[43m \u001b[49m\u001b[38;5;28;43mid\u001b[39;49m\u001b[43m)\u001b[49m\n\u001b[0;32m     80\u001b[0m         )\n",
      "File \u001b[1;32m~\\Documents\\projects\\Trading\\03.전략연구\\..\\backtesting\\system.py:125\u001b[0m, in \u001b[0;36mSystem.__init__\u001b[1;34m(self, abstract, quotes, id)\u001b[0m\n\u001b[0;32m    123\u001b[0m \u001b[38;5;28mself\u001b[39m\u001b[38;5;241m.\u001b[39mexit_rule \u001b[38;5;241m=\u001b[39m abstract[\u001b[38;5;124m'\u001b[39m\u001b[38;5;124mexit_rule\u001b[39m\u001b[38;5;124m'\u001b[39m]\n\u001b[0;32m    124\u001b[0m \u001b[38;5;28;01mif\u001b[39;00m \u001b[38;5;28mself\u001b[39m\u001b[38;5;241m.\u001b[39mexit_rule[\u001b[38;5;124m'\u001b[39m\u001b[38;5;124mlong\u001b[39m\u001b[38;5;124m'\u001b[39m]:\n\u001b[1;32m--> 125\u001b[0m     \u001b[38;5;28;43mself\u001b[39;49m\u001b[38;5;241;43m.\u001b[39;49m\u001b[43mcreate_signal\u001b[49m\u001b[43m(\u001b[49m\u001b[38;5;28;43mself\u001b[39;49m\u001b[38;5;241;43m.\u001b[39;49m\u001b[43mexit_rule\u001b[49m\u001b[43m[\u001b[49m\u001b[38;5;124;43m'\u001b[39;49m\u001b[38;5;124;43mlong\u001b[39;49m\u001b[38;5;124;43m'\u001b[39;49m\u001b[43m]\u001b[49m\u001b[43m,\u001b[49m\u001b[43m \u001b[49m\u001b[38;5;124;43m'\u001b[39;49m\u001b[38;5;124;43mexit_long\u001b[39;49m\u001b[38;5;124;43m'\u001b[39;49m\u001b[43m,\u001b[49m\u001b[43m \u001b[49m\u001b[43mdf\u001b[49m\u001b[43m)\u001b[49m\n\u001b[0;32m    126\u001b[0m \u001b[38;5;28;01mif\u001b[39;00m \u001b[38;5;28mself\u001b[39m\u001b[38;5;241m.\u001b[39mexit_rule[\u001b[38;5;124m'\u001b[39m\u001b[38;5;124mshort\u001b[39m\u001b[38;5;124m'\u001b[39m]:\n\u001b[0;32m    127\u001b[0m     \u001b[38;5;28mself\u001b[39m\u001b[38;5;241m.\u001b[39mcreate_signal(\u001b[38;5;28mself\u001b[39m\u001b[38;5;241m.\u001b[39mexit_rule[\u001b[38;5;124m'\u001b[39m\u001b[38;5;124mshort\u001b[39m\u001b[38;5;124m'\u001b[39m], \u001b[38;5;124m'\u001b[39m\u001b[38;5;124mexit_short\u001b[39m\u001b[38;5;124m'\u001b[39m, df)\n",
      "File \u001b[1;32m~\\Documents\\projects\\Trading\\03.전략연구\\..\\backtesting\\system.py:224\u001b[0m, in \u001b[0;36mSystem.create_signal\u001b[1;34m(self, rules, name, quotes)\u001b[0m\n\u001b[0;32m    214\u001b[0m \u001b[38;5;66;03m#fields = df.columns.to_list()\u001b[39;00m\n\u001b[0;32m    215\u001b[0m \n\u001b[0;32m    216\u001b[0m \u001b[38;5;66;03m# ex) 조건이 ma5>ma20 인경우\u001b[39;00m\n\u001b[1;32m   (...)\u001b[0m\n\u001b[0;32m    221\u001b[0m \u001b[38;5;66;03m#self.quotes[symbol,'buy_signal'] = eval(rule)\u001b[39;00m\n\u001b[0;32m    222\u001b[0m \u001b[38;5;66;03m#signal = eval(condition)\u001b[39;00m\n\u001b[0;32m    223\u001b[0m signal \u001b[38;5;241m=\u001b[39m pd\u001b[38;5;241m.\u001b[39mSeries(data\u001b[38;5;241m=\u001b[39m\u001b[38;5;28;01mFalse\u001b[39;00m, index\u001b[38;5;241m=\u001b[39mdf\u001b[38;5;241m.\u001b[39mindex)\n\u001b[1;32m--> 224\u001b[0m signal\u001b[38;5;241m.\u001b[39mloc[\u001b[43mdf\u001b[49m\u001b[38;5;241;43m.\u001b[39;49m\u001b[43mquery\u001b[49m\u001b[43m(\u001b[49m\u001b[43mrules\u001b[49m\u001b[43m)\u001b[49m\u001b[38;5;241m.\u001b[39mindex] \u001b[38;5;241m=\u001b[39m \u001b[38;5;28;01mTrue\u001b[39;00m\n\u001b[0;32m    225\u001b[0m signal\u001b[38;5;241m.\u001b[39mname \u001b[38;5;241m=\u001b[39m (symbol, name)\n\u001b[0;32m    226\u001b[0m signals\u001b[38;5;241m.\u001b[39mappend(signal)\n",
      "File \u001b[1;32m~\\python\\miniconda3\\lib\\site-packages\\pandas\\core\\frame.py:4440\u001b[0m, in \u001b[0;36mDataFrame.query\u001b[1;34m(self, expr, inplace, **kwargs)\u001b[0m\n\u001b[0;32m   4438\u001b[0m kwargs[\u001b[38;5;124m\"\u001b[39m\u001b[38;5;124mlevel\u001b[39m\u001b[38;5;124m\"\u001b[39m] \u001b[38;5;241m=\u001b[39m kwargs\u001b[38;5;241m.\u001b[39mpop(\u001b[38;5;124m\"\u001b[39m\u001b[38;5;124mlevel\u001b[39m\u001b[38;5;124m\"\u001b[39m, \u001b[38;5;241m0\u001b[39m) \u001b[38;5;241m+\u001b[39m \u001b[38;5;241m1\u001b[39m\n\u001b[0;32m   4439\u001b[0m kwargs[\u001b[38;5;124m\"\u001b[39m\u001b[38;5;124mtarget\u001b[39m\u001b[38;5;124m\"\u001b[39m] \u001b[38;5;241m=\u001b[39m \u001b[38;5;28;01mNone\u001b[39;00m\n\u001b[1;32m-> 4440\u001b[0m res \u001b[38;5;241m=\u001b[39m \u001b[38;5;28mself\u001b[39m\u001b[38;5;241m.\u001b[39meval(expr, \u001b[38;5;241m*\u001b[39m\u001b[38;5;241m*\u001b[39mkwargs)\n\u001b[0;32m   4442\u001b[0m \u001b[38;5;28;01mtry\u001b[39;00m:\n\u001b[0;32m   4443\u001b[0m     result \u001b[38;5;241m=\u001b[39m \u001b[38;5;28mself\u001b[39m\u001b[38;5;241m.\u001b[39mloc[res]\n",
      "File \u001b[1;32m~\\python\\miniconda3\\lib\\site-packages\\pandas\\core\\frame.py:4566\u001b[0m, in \u001b[0;36mDataFrame.eval\u001b[1;34m(self, expr, inplace, **kwargs)\u001b[0m\n\u001b[0;32m   4563\u001b[0m     kwargs[\u001b[38;5;124m\"\u001b[39m\u001b[38;5;124mtarget\u001b[39m\u001b[38;5;124m\"\u001b[39m] \u001b[38;5;241m=\u001b[39m \u001b[38;5;28mself\u001b[39m\n\u001b[0;32m   4564\u001b[0m kwargs[\u001b[38;5;124m\"\u001b[39m\u001b[38;5;124mresolvers\u001b[39m\u001b[38;5;124m\"\u001b[39m] \u001b[38;5;241m=\u001b[39m \u001b[38;5;28mtuple\u001b[39m(kwargs\u001b[38;5;241m.\u001b[39mget(\u001b[38;5;124m\"\u001b[39m\u001b[38;5;124mresolvers\u001b[39m\u001b[38;5;124m\"\u001b[39m, ())) \u001b[38;5;241m+\u001b[39m resolvers\n\u001b[1;32m-> 4566\u001b[0m \u001b[38;5;28;01mreturn\u001b[39;00m _eval(expr, inplace\u001b[38;5;241m=\u001b[39minplace, \u001b[38;5;241m*\u001b[39m\u001b[38;5;241m*\u001b[39mkwargs)\n",
      "File \u001b[1;32m~\\python\\miniconda3\\lib\\site-packages\\pandas\\core\\computation\\eval.py:336\u001b[0m, in \u001b[0;36meval\u001b[1;34m(expr, parser, engine, local_dict, global_dict, resolvers, level, target, inplace)\u001b[0m\n\u001b[0;32m    327\u001b[0m \u001b[38;5;66;03m# get our (possibly passed-in) scope\u001b[39;00m\n\u001b[0;32m    328\u001b[0m env \u001b[38;5;241m=\u001b[39m ensure_scope(\n\u001b[0;32m    329\u001b[0m     level \u001b[38;5;241m+\u001b[39m \u001b[38;5;241m1\u001b[39m,\n\u001b[0;32m    330\u001b[0m     global_dict\u001b[38;5;241m=\u001b[39mglobal_dict,\n\u001b[1;32m   (...)\u001b[0m\n\u001b[0;32m    333\u001b[0m     target\u001b[38;5;241m=\u001b[39mtarget,\n\u001b[0;32m    334\u001b[0m )\n\u001b[1;32m--> 336\u001b[0m parsed_expr \u001b[38;5;241m=\u001b[39m \u001b[43mExpr\u001b[49m\u001b[43m(\u001b[49m\u001b[43mexpr\u001b[49m\u001b[43m,\u001b[49m\u001b[43m \u001b[49m\u001b[43mengine\u001b[49m\u001b[38;5;241;43m=\u001b[39;49m\u001b[43mengine\u001b[49m\u001b[43m,\u001b[49m\u001b[43m \u001b[49m\u001b[43mparser\u001b[49m\u001b[38;5;241;43m=\u001b[39;49m\u001b[43mparser\u001b[49m\u001b[43m,\u001b[49m\u001b[43m \u001b[49m\u001b[43menv\u001b[49m\u001b[38;5;241;43m=\u001b[39;49m\u001b[43menv\u001b[49m\u001b[43m)\u001b[49m\n\u001b[0;32m    338\u001b[0m \u001b[38;5;28;01mif\u001b[39;00m engine \u001b[38;5;241m==\u001b[39m \u001b[38;5;124m\"\u001b[39m\u001b[38;5;124mnumexpr\u001b[39m\u001b[38;5;124m\"\u001b[39m \u001b[38;5;129;01mand\u001b[39;00m (\n\u001b[0;32m    339\u001b[0m     is_extension_array_dtype(parsed_expr\u001b[38;5;241m.\u001b[39mterms\u001b[38;5;241m.\u001b[39mreturn_type)\n\u001b[0;32m    340\u001b[0m     \u001b[38;5;129;01mor\u001b[39;00m \u001b[38;5;28mgetattr\u001b[39m(parsed_expr\u001b[38;5;241m.\u001b[39mterms, \u001b[38;5;124m\"\u001b[39m\u001b[38;5;124moperand_types\u001b[39m\u001b[38;5;124m\"\u001b[39m, \u001b[38;5;28;01mNone\u001b[39;00m) \u001b[38;5;129;01mis\u001b[39;00m \u001b[38;5;129;01mnot\u001b[39;00m \u001b[38;5;28;01mNone\u001b[39;00m\n\u001b[1;32m   (...)\u001b[0m\n\u001b[0;32m    344\u001b[0m     )\n\u001b[0;32m    345\u001b[0m ):\n\u001b[0;32m    346\u001b[0m     warnings\u001b[38;5;241m.\u001b[39mwarn(\n\u001b[0;32m    347\u001b[0m         \u001b[38;5;124m\"\u001b[39m\u001b[38;5;124mEngine has switched to \u001b[39m\u001b[38;5;124m'\u001b[39m\u001b[38;5;124mpython\u001b[39m\u001b[38;5;124m'\u001b[39m\u001b[38;5;124m because numexpr does not support \u001b[39m\u001b[38;5;124m\"\u001b[39m\n\u001b[0;32m    348\u001b[0m         \u001b[38;5;124m\"\u001b[39m\u001b[38;5;124mextension array dtypes. Please set your engine to python manually.\u001b[39m\u001b[38;5;124m\"\u001b[39m,\n\u001b[0;32m    349\u001b[0m         \u001b[38;5;167;01mRuntimeWarning\u001b[39;00m,\n\u001b[0;32m    350\u001b[0m         stacklevel\u001b[38;5;241m=\u001b[39mfind_stack_level(),\n\u001b[0;32m    351\u001b[0m     )\n",
      "File \u001b[1;32m~\\python\\miniconda3\\lib\\site-packages\\pandas\\core\\computation\\expr.py:809\u001b[0m, in \u001b[0;36mExpr.__init__\u001b[1;34m(self, expr, engine, parser, env, level)\u001b[0m\n\u001b[0;32m    807\u001b[0m \u001b[38;5;28mself\u001b[39m\u001b[38;5;241m.\u001b[39mparser \u001b[38;5;241m=\u001b[39m parser\n\u001b[0;32m    808\u001b[0m \u001b[38;5;28mself\u001b[39m\u001b[38;5;241m.\u001b[39m_visitor \u001b[38;5;241m=\u001b[39m PARSERS[parser](\u001b[38;5;28mself\u001b[39m\u001b[38;5;241m.\u001b[39menv, \u001b[38;5;28mself\u001b[39m\u001b[38;5;241m.\u001b[39mengine, \u001b[38;5;28mself\u001b[39m\u001b[38;5;241m.\u001b[39mparser)\n\u001b[1;32m--> 809\u001b[0m \u001b[38;5;28mself\u001b[39m\u001b[38;5;241m.\u001b[39mterms \u001b[38;5;241m=\u001b[39m \u001b[38;5;28;43mself\u001b[39;49m\u001b[38;5;241;43m.\u001b[39;49m\u001b[43mparse\u001b[49m\u001b[43m(\u001b[49m\u001b[43m)\u001b[49m\n",
      "File \u001b[1;32m~\\python\\miniconda3\\lib\\site-packages\\pandas\\core\\computation\\expr.py:828\u001b[0m, in \u001b[0;36mExpr.parse\u001b[1;34m(self)\u001b[0m\n\u001b[0;32m    824\u001b[0m \u001b[38;5;28;01mdef\u001b[39;00m \u001b[38;5;21mparse\u001b[39m(\u001b[38;5;28mself\u001b[39m):\n\u001b[0;32m    825\u001b[0m \u001b[38;5;250m    \u001b[39m\u001b[38;5;124;03m\"\"\"\u001b[39;00m\n\u001b[0;32m    826\u001b[0m \u001b[38;5;124;03m    Parse an expression.\u001b[39;00m\n\u001b[0;32m    827\u001b[0m \u001b[38;5;124;03m    \"\"\"\u001b[39;00m\n\u001b[1;32m--> 828\u001b[0m     \u001b[38;5;28;01mreturn\u001b[39;00m \u001b[38;5;28;43mself\u001b[39;49m\u001b[38;5;241;43m.\u001b[39;49m\u001b[43m_visitor\u001b[49m\u001b[38;5;241;43m.\u001b[39;49m\u001b[43mvisit\u001b[49m\u001b[43m(\u001b[49m\u001b[38;5;28;43mself\u001b[39;49m\u001b[38;5;241;43m.\u001b[39;49m\u001b[43mexpr\u001b[49m\u001b[43m)\u001b[49m\n",
      "File \u001b[1;32m~\\python\\miniconda3\\lib\\site-packages\\pandas\\core\\computation\\expr.py:415\u001b[0m, in \u001b[0;36mBaseExprVisitor.visit\u001b[1;34m(self, node, **kwargs)\u001b[0m\n\u001b[0;32m    413\u001b[0m method \u001b[38;5;241m=\u001b[39m \u001b[38;5;124mf\u001b[39m\u001b[38;5;124m\"\u001b[39m\u001b[38;5;124mvisit_\u001b[39m\u001b[38;5;132;01m{\u001b[39;00m\u001b[38;5;28mtype\u001b[39m(node)\u001b[38;5;241m.\u001b[39m\u001b[38;5;18m__name__\u001b[39m\u001b[38;5;132;01m}\u001b[39;00m\u001b[38;5;124m\"\u001b[39m\n\u001b[0;32m    414\u001b[0m visitor \u001b[38;5;241m=\u001b[39m \u001b[38;5;28mgetattr\u001b[39m(\u001b[38;5;28mself\u001b[39m, method)\n\u001b[1;32m--> 415\u001b[0m \u001b[38;5;28;01mreturn\u001b[39;00m visitor(node, \u001b[38;5;241m*\u001b[39m\u001b[38;5;241m*\u001b[39mkwargs)\n",
      "File \u001b[1;32m~\\python\\miniconda3\\lib\\site-packages\\pandas\\core\\computation\\expr.py:421\u001b[0m, in \u001b[0;36mBaseExprVisitor.visit_Module\u001b[1;34m(self, node, **kwargs)\u001b[0m\n\u001b[0;32m    419\u001b[0m     \u001b[38;5;28;01mraise\u001b[39;00m \u001b[38;5;167;01mSyntaxError\u001b[39;00m(\u001b[38;5;124m\"\u001b[39m\u001b[38;5;124monly a single expression is allowed\u001b[39m\u001b[38;5;124m\"\u001b[39m)\n\u001b[0;32m    420\u001b[0m expr \u001b[38;5;241m=\u001b[39m node\u001b[38;5;241m.\u001b[39mbody[\u001b[38;5;241m0\u001b[39m]\n\u001b[1;32m--> 421\u001b[0m \u001b[38;5;28;01mreturn\u001b[39;00m \u001b[38;5;28mself\u001b[39m\u001b[38;5;241m.\u001b[39mvisit(expr, \u001b[38;5;241m*\u001b[39m\u001b[38;5;241m*\u001b[39mkwargs)\n",
      "File \u001b[1;32m~\\python\\miniconda3\\lib\\site-packages\\pandas\\core\\computation\\expr.py:415\u001b[0m, in \u001b[0;36mBaseExprVisitor.visit\u001b[1;34m(self, node, **kwargs)\u001b[0m\n\u001b[0;32m    413\u001b[0m method \u001b[38;5;241m=\u001b[39m \u001b[38;5;124mf\u001b[39m\u001b[38;5;124m\"\u001b[39m\u001b[38;5;124mvisit_\u001b[39m\u001b[38;5;132;01m{\u001b[39;00m\u001b[38;5;28mtype\u001b[39m(node)\u001b[38;5;241m.\u001b[39m\u001b[38;5;18m__name__\u001b[39m\u001b[38;5;132;01m}\u001b[39;00m\u001b[38;5;124m\"\u001b[39m\n\u001b[0;32m    414\u001b[0m visitor \u001b[38;5;241m=\u001b[39m \u001b[38;5;28mgetattr\u001b[39m(\u001b[38;5;28mself\u001b[39m, method)\n\u001b[1;32m--> 415\u001b[0m \u001b[38;5;28;01mreturn\u001b[39;00m visitor(node, \u001b[38;5;241m*\u001b[39m\u001b[38;5;241m*\u001b[39mkwargs)\n",
      "File \u001b[1;32m~\\python\\miniconda3\\lib\\site-packages\\pandas\\core\\computation\\expr.py:424\u001b[0m, in \u001b[0;36mBaseExprVisitor.visit_Expr\u001b[1;34m(self, node, **kwargs)\u001b[0m\n\u001b[0;32m    423\u001b[0m \u001b[38;5;28;01mdef\u001b[39;00m \u001b[38;5;21mvisit_Expr\u001b[39m(\u001b[38;5;28mself\u001b[39m, node, \u001b[38;5;241m*\u001b[39m\u001b[38;5;241m*\u001b[39mkwargs):\n\u001b[1;32m--> 424\u001b[0m     \u001b[38;5;28;01mreturn\u001b[39;00m \u001b[38;5;28mself\u001b[39m\u001b[38;5;241m.\u001b[39mvisit(node\u001b[38;5;241m.\u001b[39mvalue, \u001b[38;5;241m*\u001b[39m\u001b[38;5;241m*\u001b[39mkwargs)\n",
      "File \u001b[1;32m~\\python\\miniconda3\\lib\\site-packages\\pandas\\core\\computation\\expr.py:415\u001b[0m, in \u001b[0;36mBaseExprVisitor.visit\u001b[1;34m(self, node, **kwargs)\u001b[0m\n\u001b[0;32m    413\u001b[0m method \u001b[38;5;241m=\u001b[39m \u001b[38;5;124mf\u001b[39m\u001b[38;5;124m\"\u001b[39m\u001b[38;5;124mvisit_\u001b[39m\u001b[38;5;132;01m{\u001b[39;00m\u001b[38;5;28mtype\u001b[39m(node)\u001b[38;5;241m.\u001b[39m\u001b[38;5;18m__name__\u001b[39m\u001b[38;5;132;01m}\u001b[39;00m\u001b[38;5;124m\"\u001b[39m\n\u001b[0;32m    414\u001b[0m visitor \u001b[38;5;241m=\u001b[39m \u001b[38;5;28mgetattr\u001b[39m(\u001b[38;5;28mself\u001b[39m, method)\n\u001b[1;32m--> 415\u001b[0m \u001b[38;5;28;01mreturn\u001b[39;00m visitor(node, \u001b[38;5;241m*\u001b[39m\u001b[38;5;241m*\u001b[39mkwargs)\n",
      "File \u001b[1;32m~\\python\\miniconda3\\lib\\site-packages\\pandas\\core\\computation\\expr.py:719\u001b[0m, in \u001b[0;36mBaseExprVisitor.visit_Compare\u001b[1;34m(self, node, **kwargs)\u001b[0m\n\u001b[0;32m    717\u001b[0m     op \u001b[38;5;241m=\u001b[39m \u001b[38;5;28mself\u001b[39m\u001b[38;5;241m.\u001b[39mtranslate_In(ops[\u001b[38;5;241m0\u001b[39m])\n\u001b[0;32m    718\u001b[0m     binop \u001b[38;5;241m=\u001b[39m ast\u001b[38;5;241m.\u001b[39mBinOp(op\u001b[38;5;241m=\u001b[39mop, left\u001b[38;5;241m=\u001b[39mnode\u001b[38;5;241m.\u001b[39mleft, right\u001b[38;5;241m=\u001b[39mcomps[\u001b[38;5;241m0\u001b[39m])\n\u001b[1;32m--> 719\u001b[0m     \u001b[38;5;28;01mreturn\u001b[39;00m \u001b[38;5;28;43mself\u001b[39;49m\u001b[38;5;241;43m.\u001b[39;49m\u001b[43mvisit\u001b[49m\u001b[43m(\u001b[49m\u001b[43mbinop\u001b[49m\u001b[43m)\u001b[49m\n\u001b[0;32m    721\u001b[0m \u001b[38;5;66;03m# recursive case: we have a chained comparison, a CMP b CMP c, etc.\u001b[39;00m\n\u001b[0;32m    722\u001b[0m left \u001b[38;5;241m=\u001b[39m node\u001b[38;5;241m.\u001b[39mleft\n",
      "File \u001b[1;32m~\\python\\miniconda3\\lib\\site-packages\\pandas\\core\\computation\\expr.py:415\u001b[0m, in \u001b[0;36mBaseExprVisitor.visit\u001b[1;34m(self, node, **kwargs)\u001b[0m\n\u001b[0;32m    413\u001b[0m method \u001b[38;5;241m=\u001b[39m \u001b[38;5;124mf\u001b[39m\u001b[38;5;124m\"\u001b[39m\u001b[38;5;124mvisit_\u001b[39m\u001b[38;5;132;01m{\u001b[39;00m\u001b[38;5;28mtype\u001b[39m(node)\u001b[38;5;241m.\u001b[39m\u001b[38;5;18m__name__\u001b[39m\u001b[38;5;132;01m}\u001b[39;00m\u001b[38;5;124m\"\u001b[39m\n\u001b[0;32m    414\u001b[0m visitor \u001b[38;5;241m=\u001b[39m \u001b[38;5;28mgetattr\u001b[39m(\u001b[38;5;28mself\u001b[39m, method)\n\u001b[1;32m--> 415\u001b[0m \u001b[38;5;28;01mreturn\u001b[39;00m visitor(node, \u001b[38;5;241m*\u001b[39m\u001b[38;5;241m*\u001b[39mkwargs)\n",
      "File \u001b[1;32m~\\python\\miniconda3\\lib\\site-packages\\pandas\\core\\computation\\expr.py:535\u001b[0m, in \u001b[0;36mBaseExprVisitor.visit_BinOp\u001b[1;34m(self, node, **kwargs)\u001b[0m\n\u001b[0;32m    534\u001b[0m \u001b[38;5;28;01mdef\u001b[39;00m \u001b[38;5;21mvisit_BinOp\u001b[39m(\u001b[38;5;28mself\u001b[39m, node, \u001b[38;5;241m*\u001b[39m\u001b[38;5;241m*\u001b[39mkwargs):\n\u001b[1;32m--> 535\u001b[0m     op, op_class, left, right \u001b[38;5;241m=\u001b[39m \u001b[38;5;28;43mself\u001b[39;49m\u001b[38;5;241;43m.\u001b[39;49m\u001b[43m_maybe_transform_eq_ne\u001b[49m\u001b[43m(\u001b[49m\u001b[43mnode\u001b[49m\u001b[43m)\u001b[49m\n\u001b[0;32m    536\u001b[0m     left, right \u001b[38;5;241m=\u001b[39m \u001b[38;5;28mself\u001b[39m\u001b[38;5;241m.\u001b[39m_maybe_downcast_constants(left, right)\n\u001b[0;32m    537\u001b[0m     \u001b[38;5;28;01mreturn\u001b[39;00m \u001b[38;5;28mself\u001b[39m\u001b[38;5;241m.\u001b[39m_maybe_evaluate_binop(op, op_class, left, right)\n",
      "File \u001b[1;32m~\\python\\miniconda3\\lib\\site-packages\\pandas\\core\\computation\\expr.py:457\u001b[0m, in \u001b[0;36mBaseExprVisitor._maybe_transform_eq_ne\u001b[1;34m(self, node, left, right)\u001b[0m\n\u001b[0;32m    455\u001b[0m     left \u001b[38;5;241m=\u001b[39m \u001b[38;5;28mself\u001b[39m\u001b[38;5;241m.\u001b[39mvisit(node\u001b[38;5;241m.\u001b[39mleft, side\u001b[38;5;241m=\u001b[39m\u001b[38;5;124m\"\u001b[39m\u001b[38;5;124mleft\u001b[39m\u001b[38;5;124m\"\u001b[39m)\n\u001b[0;32m    456\u001b[0m \u001b[38;5;28;01mif\u001b[39;00m right \u001b[38;5;129;01mis\u001b[39;00m \u001b[38;5;28;01mNone\u001b[39;00m:\n\u001b[1;32m--> 457\u001b[0m     right \u001b[38;5;241m=\u001b[39m \u001b[38;5;28;43mself\u001b[39;49m\u001b[38;5;241;43m.\u001b[39;49m\u001b[43mvisit\u001b[49m\u001b[43m(\u001b[49m\u001b[43mnode\u001b[49m\u001b[38;5;241;43m.\u001b[39;49m\u001b[43mright\u001b[49m\u001b[43m,\u001b[49m\u001b[43m \u001b[49m\u001b[43mside\u001b[49m\u001b[38;5;241;43m=\u001b[39;49m\u001b[38;5;124;43m\"\u001b[39;49m\u001b[38;5;124;43mright\u001b[39;49m\u001b[38;5;124;43m\"\u001b[39;49m\u001b[43m)\u001b[49m\n\u001b[0;32m    458\u001b[0m op, op_class, left, right \u001b[38;5;241m=\u001b[39m \u001b[38;5;28mself\u001b[39m\u001b[38;5;241m.\u001b[39m_rewrite_membership_op(node, left, right)\n\u001b[0;32m    459\u001b[0m \u001b[38;5;28;01mreturn\u001b[39;00m op, op_class, left, right\n",
      "File \u001b[1;32m~\\python\\miniconda3\\lib\\site-packages\\pandas\\core\\computation\\expr.py:415\u001b[0m, in \u001b[0;36mBaseExprVisitor.visit\u001b[1;34m(self, node, **kwargs)\u001b[0m\n\u001b[0;32m    413\u001b[0m method \u001b[38;5;241m=\u001b[39m \u001b[38;5;124mf\u001b[39m\u001b[38;5;124m\"\u001b[39m\u001b[38;5;124mvisit_\u001b[39m\u001b[38;5;132;01m{\u001b[39;00m\u001b[38;5;28mtype\u001b[39m(node)\u001b[38;5;241m.\u001b[39m\u001b[38;5;18m__name__\u001b[39m\u001b[38;5;132;01m}\u001b[39;00m\u001b[38;5;124m\"\u001b[39m\n\u001b[0;32m    414\u001b[0m visitor \u001b[38;5;241m=\u001b[39m \u001b[38;5;28mgetattr\u001b[39m(\u001b[38;5;28mself\u001b[39m, method)\n\u001b[1;32m--> 415\u001b[0m \u001b[38;5;28;01mreturn\u001b[39;00m visitor(node, \u001b[38;5;241m*\u001b[39m\u001b[38;5;241m*\u001b[39mkwargs)\n",
      "File \u001b[1;32m~\\python\\miniconda3\\lib\\site-packages\\pandas\\core\\computation\\expr.py:548\u001b[0m, in \u001b[0;36mBaseExprVisitor.visit_Name\u001b[1;34m(self, node, **kwargs)\u001b[0m\n\u001b[0;32m    547\u001b[0m \u001b[38;5;28;01mdef\u001b[39;00m \u001b[38;5;21mvisit_Name\u001b[39m(\u001b[38;5;28mself\u001b[39m, node, \u001b[38;5;241m*\u001b[39m\u001b[38;5;241m*\u001b[39mkwargs):\n\u001b[1;32m--> 548\u001b[0m     \u001b[38;5;28;01mreturn\u001b[39;00m \u001b[38;5;28mself\u001b[39m\u001b[38;5;241m.\u001b[39mterm_type(node\u001b[38;5;241m.\u001b[39mid, \u001b[38;5;28mself\u001b[39m\u001b[38;5;241m.\u001b[39menv, \u001b[38;5;241m*\u001b[39m\u001b[38;5;241m*\u001b[39mkwargs)\n",
      "File \u001b[1;32m~\\python\\miniconda3\\lib\\site-packages\\pandas\\core\\computation\\ops.py:86\u001b[0m, in \u001b[0;36mTerm.__init__\u001b[1;34m(self, name, env, side, encoding)\u001b[0m\n\u001b[0;32m     84\u001b[0m tname \u001b[38;5;241m=\u001b[39m \u001b[38;5;28mstr\u001b[39m(name)\n\u001b[0;32m     85\u001b[0m \u001b[38;5;28mself\u001b[39m\u001b[38;5;241m.\u001b[39mis_local \u001b[38;5;241m=\u001b[39m tname\u001b[38;5;241m.\u001b[39mstartswith(LOCAL_TAG) \u001b[38;5;129;01mor\u001b[39;00m tname \u001b[38;5;129;01min\u001b[39;00m DEFAULT_GLOBALS\n\u001b[1;32m---> 86\u001b[0m \u001b[38;5;28mself\u001b[39m\u001b[38;5;241m.\u001b[39m_value \u001b[38;5;241m=\u001b[39m \u001b[38;5;28;43mself\u001b[39;49m\u001b[38;5;241;43m.\u001b[39;49m\u001b[43m_resolve_name\u001b[49m\u001b[43m(\u001b[49m\u001b[43m)\u001b[49m\n\u001b[0;32m     87\u001b[0m \u001b[38;5;28mself\u001b[39m\u001b[38;5;241m.\u001b[39mencoding \u001b[38;5;241m=\u001b[39m encoding\n",
      "File \u001b[1;32m~\\python\\miniconda3\\lib\\site-packages\\pandas\\core\\computation\\ops.py:110\u001b[0m, in \u001b[0;36mTerm._resolve_name\u001b[1;34m(self)\u001b[0m\n\u001b[0;32m    105\u001b[0m \u001b[38;5;28;01mif\u001b[39;00m local_name \u001b[38;5;129;01min\u001b[39;00m \u001b[38;5;28mself\u001b[39m\u001b[38;5;241m.\u001b[39menv\u001b[38;5;241m.\u001b[39mscope \u001b[38;5;129;01mand\u001b[39;00m \u001b[38;5;28misinstance\u001b[39m(\n\u001b[0;32m    106\u001b[0m     \u001b[38;5;28mself\u001b[39m\u001b[38;5;241m.\u001b[39menv\u001b[38;5;241m.\u001b[39mscope[local_name], \u001b[38;5;28mtype\u001b[39m\n\u001b[0;32m    107\u001b[0m ):\n\u001b[0;32m    108\u001b[0m     is_local \u001b[38;5;241m=\u001b[39m \u001b[38;5;28;01mFalse\u001b[39;00m\n\u001b[1;32m--> 110\u001b[0m res \u001b[38;5;241m=\u001b[39m \u001b[38;5;28;43mself\u001b[39;49m\u001b[38;5;241;43m.\u001b[39;49m\u001b[43menv\u001b[49m\u001b[38;5;241;43m.\u001b[39;49m\u001b[43mresolve\u001b[49m\u001b[43m(\u001b[49m\u001b[43mlocal_name\u001b[49m\u001b[43m,\u001b[49m\u001b[43m \u001b[49m\u001b[43mis_local\u001b[49m\u001b[38;5;241;43m=\u001b[39;49m\u001b[43mis_local\u001b[49m\u001b[43m)\u001b[49m\n\u001b[0;32m    111\u001b[0m \u001b[38;5;28mself\u001b[39m\u001b[38;5;241m.\u001b[39mupdate(res)\n\u001b[0;32m    113\u001b[0m \u001b[38;5;28;01mif\u001b[39;00m \u001b[38;5;28mhasattr\u001b[39m(res, \u001b[38;5;124m\"\u001b[39m\u001b[38;5;124mndim\u001b[39m\u001b[38;5;124m\"\u001b[39m) \u001b[38;5;129;01mand\u001b[39;00m res\u001b[38;5;241m.\u001b[39mndim \u001b[38;5;241m>\u001b[39m \u001b[38;5;241m2\u001b[39m:\n",
      "File \u001b[1;32m~\\python\\miniconda3\\lib\\site-packages\\pandas\\core\\computation\\scope.py:246\u001b[0m, in \u001b[0;36mScope.resolve\u001b[1;34m(self, key, is_local)\u001b[0m\n\u001b[0;32m    244\u001b[0m     \u001b[38;5;28;01mreturn\u001b[39;00m \u001b[38;5;28mself\u001b[39m\u001b[38;5;241m.\u001b[39mtemps[key]\n\u001b[0;32m    245\u001b[0m \u001b[38;5;28;01mexcept\u001b[39;00m \u001b[38;5;167;01mKeyError\u001b[39;00m \u001b[38;5;28;01mas\u001b[39;00m err:\n\u001b[1;32m--> 246\u001b[0m     \u001b[38;5;28;01mraise\u001b[39;00m UndefinedVariableError(key, is_local) \u001b[38;5;28;01mfrom\u001b[39;00m \u001b[38;5;21;01merr\u001b[39;00m\n",
      "\u001b[1;31mUndefinedVariableError\u001b[0m: name 'min50' is not defined"
     ]
    }
   ],
   "source": [
    "\n",
    "for p in np.arange(5, 70, 5):\n",
    "    system1['metrics'][-1] = ['pd','PD', f'percentile={p}', 'tau=1']\n",
    "    trader = bt.Trader(systems=[system1])\n",
    "    system = trader.systems[0]\n",
    "    trader.run()\n",
    "    #systems.append(system)\n",
    "    system.create_report()"
   ]
  },
  {
   "cell_type": "code",
   "execution_count": 140,
   "metadata": {},
   "outputs": [],
   "source": [
    "system.create_report()"
   ]
  },
  {
   "cell_type": "code",
   "execution_count": 17,
   "metadata": {},
   "outputs": [
    {
     "name": "stdout",
     "output_type": "stream",
     "text": [
      "{'name': 'Trend Follow', 'description': '50일 추세추종 전략\\n', 'sectors': None, 'instruments': None, 'from_date': '2021-01-01', 'to_date': None, 'principal': 100000, 'heat_system': 'DefaultHeat', 'max_system_heat': 0.3, 'max_sector_heat': 0.1, 'max_trade_heat': 0.02, 'max_lots': 10, 'commission': 2.99, 'skid': 5, 'allow_pyramiding': False, 'metrics': [['uptrend', 'TREND', \"direction='up'\", 'period=20', 'threshold=0.7'], ['min50', 'MIN', 'period=50']], 'entry_rule': {'long': 'uptrend==3', 'short': None}, 'exit_rule': {'long': 'close<min50', 'short': None}, 'stop_rule': {'long': 'min50', 'short': None}}\n"
     ]
    }
   ],
   "source": [
    "with open('systems/trendfollow.yaml', encoding='utf-8') as f:\n",
    "    system1 = yaml.load(f, Loader=yaml.FullLoader)\n",
    "    print(system1)"
   ]
  },
  {
   "cell_type": "code",
   "execution_count": 18,
   "metadata": {},
   "outputs": [
    {
     "name": "stdout",
     "output_type": "stream",
     "text": [
      "매매시작\n",
      "거래일: 2021-01-04 00:00:00, 시스템: Trend Follow\n",
      "거래일: 2021-01-05 00:00:00, 시스템: Trend Follow\n",
      "거래일: 2021-01-06 00:00:00, 시스템: Trend Follow\n",
      "거래일: 2021-01-07 00:00:00, 시스템: Trend Follow\n",
      "거래일: 2021-01-08 00:00:00, 시스템: Trend Follow\n",
      "거래일: 2021-01-11 00:00:00, 시스템: Trend Follow\n",
      "거래일: 2021-01-12 00:00:00, 시스템: Trend Follow\n",
      "거래일: 2021-01-13 00:00:00, 시스템: Trend Follow\n",
      "거래일: 2021-01-14 00:00:00, 시스템: Trend Follow\n",
      "거래일: 2021-01-15 00:00:00, 시스템: Trend Follow\n",
      "거래일: 2021-01-18 00:00:00, 시스템: Trend Follow\n",
      "거래일: 2021-01-19 00:00:00, 시스템: Trend Follow\n",
      "거래일: 2021-01-20 00:00:00, 시스템: Trend Follow\n",
      "거래일: 2021-01-21 00:00:00, 시스템: Trend Follow\n",
      "거래일: 2021-01-22 00:00:00, 시스템: Trend Follow\n",
      "거래일: 2021-01-25 00:00:00, 시스템: Trend Follow\n",
      "거래일: 2021-01-26 00:00:00, 시스템: Trend Follow\n",
      "거래일: 2021-01-27 00:00:00, 시스템: Trend Follow\n",
      "거래일: 2021-01-28 00:00:00, 시스템: Trend Follow\n",
      "거래일: 2021-01-29 00:00:00, 시스템: Trend Follow\n",
      "거래일: 2021-02-01 00:00:00, 시스템: Trend Follow\n",
      "거래일: 2021-02-02 00:00:00, 시스템: Trend Follow\n",
      "거래일: 2021-02-03 00:00:00, 시스템: Trend Follow\n",
      "거래일: 2021-02-04 00:00:00, 시스템: Trend Follow\n",
      "거래일: 2021-02-05 00:00:00, 시스템: Trend Follow\n",
      "거래일: 2021-02-08 00:00:00, 시스템: Trend Follow\n",
      "거래일: 2021-02-09 00:00:00, 시스템: Trend Follow\n",
      "거래일: 2021-02-10 00:00:00, 시스템: Trend Follow\n",
      "거래일: 2021-02-11 00:00:00, 시스템: Trend Follow\n",
      "거래일: 2021-02-12 00:00:00, 시스템: Trend Follow\n",
      "거래일: 2021-02-15 00:00:00, 시스템: Trend Follow\n",
      "거래일: 2021-02-16 00:00:00, 시스템: Trend Follow\n",
      "거래일: 2021-02-17 00:00:00, 시스템: Trend Follow\n",
      "거래일: 2021-02-18 00:00:00, 시스템: Trend Follow\n",
      "거래일: 2021-02-19 00:00:00, 시스템: Trend Follow\n",
      "거래일: 2021-02-22 00:00:00, 시스템: Trend Follow\n",
      "거래일: 2021-02-23 00:00:00, 시스템: Trend Follow\n",
      "거래일: 2021-02-24 00:00:00, 시스템: Trend Follow\n",
      "거래일: 2021-02-25 00:00:00, 시스템: Trend Follow\n",
      "거래일: 2021-02-26 00:00:00, 시스템: Trend Follow\n",
      "거래일: 2021-03-01 00:00:00, 시스템: Trend Follow\n",
      "거래일: 2021-03-02 00:00:00, 시스템: Trend Follow\n",
      "거래일: 2021-03-03 00:00:00, 시스템: Trend Follow\n",
      "거래일: 2021-03-04 00:00:00, 시스템: Trend Follow\n",
      "거래일: 2021-03-05 00:00:00, 시스템: Trend Follow\n",
      "거래일: 2021-03-08 00:00:00, 시스템: Trend Follow\n",
      "거래일: 2021-03-09 00:00:00, 시스템: Trend Follow\n",
      "거래일: 2021-03-10 00:00:00, 시스템: Trend Follow\n",
      "거래일: 2021-03-11 00:00:00, 시스템: Trend Follow\n",
      "거래일: 2021-03-12 00:00:00, 시스템: Trend Follow\n",
      "거래일: 2021-03-15 00:00:00, 시스템: Trend Follow\n",
      "거래일: 2021-03-16 00:00:00, 시스템: Trend Follow\n",
      "거래일: 2021-03-17 00:00:00, 시스템: Trend Follow\n",
      "거래일: 2021-03-18 00:00:00, 시스템: Trend Follow\n",
      "거래일: 2021-03-19 00:00:00, 시스템: Trend Follow\n",
      "거래일: 2021-03-22 00:00:00, 시스템: Trend Follow\n",
      "거래일: 2021-03-23 00:00:00, 시스템: Trend Follow\n",
      "거래일: 2021-03-24 00:00:00, 시스템: Trend Follow\n",
      "거래일: 2021-03-25 00:00:00, 시스템: Trend Follow\n",
      "거래일: 2021-03-26 00:00:00, 시스템: Trend Follow\n",
      "거래일: 2021-03-29 00:00:00, 시스템: Trend Follow\n",
      "거래일: 2021-03-30 00:00:00, 시스템: Trend Follow\n",
      "거래일: 2021-03-31 00:00:00, 시스템: Trend Follow\n",
      "거래일: 2021-04-01 00:00:00, 시스템: Trend Follow\n",
      "거래일: 2021-04-02 00:00:00, 시스템: Trend Follow\n",
      "거래일: 2021-04-05 00:00:00, 시스템: Trend Follow\n",
      "거래일: 2021-04-06 00:00:00, 시스템: Trend Follow\n",
      "거래일: 2021-04-07 00:00:00, 시스템: Trend Follow\n",
      "거래일: 2021-04-08 00:00:00, 시스템: Trend Follow\n",
      "거래일: 2021-04-09 00:00:00, 시스템: Trend Follow\n",
      "거래일: 2021-04-12 00:00:00, 시스템: Trend Follow\n",
      "거래일: 2021-04-13 00:00:00, 시스템: Trend Follow\n",
      "거래일: 2021-04-14 00:00:00, 시스템: Trend Follow\n",
      "거래일: 2021-04-15 00:00:00, 시스템: Trend Follow\n",
      "거래일: 2021-04-16 00:00:00, 시스템: Trend Follow\n",
      "거래일: 2021-04-19 00:00:00, 시스템: Trend Follow\n",
      "거래일: 2021-04-20 00:00:00, 시스템: Trend Follow\n",
      "거래일: 2021-04-21 00:00:00, 시스템: Trend Follow\n",
      "거래일: 2021-04-22 00:00:00, 시스템: Trend Follow\n",
      "거래일: 2021-04-23 00:00:00, 시스템: Trend Follow\n",
      "거래일: 2021-04-26 00:00:00, 시스템: Trend Follow\n",
      "거래일: 2021-04-27 00:00:00, 시스템: Trend Follow\n",
      "거래일: 2021-04-28 00:00:00, 시스템: Trend Follow\n",
      "거래일: 2021-04-29 00:00:00, 시스템: Trend Follow\n",
      "거래일: 2021-04-30 00:00:00, 시스템: Trend Follow\n",
      "거래일: 2021-05-03 00:00:00, 시스템: Trend Follow\n",
      "거래일: 2021-05-04 00:00:00, 시스템: Trend Follow\n",
      "거래일: 2021-05-05 00:00:00, 시스템: Trend Follow\n",
      "거래일: 2021-05-06 00:00:00, 시스템: Trend Follow\n",
      "거래일: 2021-05-07 00:00:00, 시스템: Trend Follow\n",
      "거래일: 2021-05-10 00:00:00, 시스템: Trend Follow\n",
      "거래일: 2021-05-11 00:00:00, 시스템: Trend Follow\n",
      "거래일: 2021-05-12 00:00:00, 시스템: Trend Follow\n",
      "거래일: 2021-05-13 00:00:00, 시스템: Trend Follow\n",
      "거래일: 2021-05-14 00:00:00, 시스템: Trend Follow\n",
      "거래일: 2021-05-17 00:00:00, 시스템: Trend Follow\n",
      "거래일: 2021-05-18 00:00:00, 시스템: Trend Follow\n",
      "거래일: 2021-05-19 00:00:00, 시스템: Trend Follow\n",
      "거래일: 2021-05-20 00:00:00, 시스템: Trend Follow\n",
      "거래일: 2021-05-21 00:00:00, 시스템: Trend Follow\n",
      "거래일: 2021-05-24 00:00:00, 시스템: Trend Follow\n",
      "거래일: 2021-05-25 00:00:00, 시스템: Trend Follow\n",
      "거래일: 2021-05-26 00:00:00, 시스템: Trend Follow\n",
      "거래일: 2021-05-27 00:00:00, 시스템: Trend Follow\n",
      "거래일: 2021-05-28 00:00:00, 시스템: Trend Follow\n",
      "거래일: 2021-05-31 00:00:00, 시스템: Trend Follow\n",
      "거래일: 2021-06-01 00:00:00, 시스템: Trend Follow\n",
      "거래일: 2021-06-02 00:00:00, 시스템: Trend Follow\n",
      "거래일: 2021-06-03 00:00:00, 시스템: Trend Follow\n",
      "거래일: 2021-06-04 00:00:00, 시스템: Trend Follow\n",
      "거래일: 2021-06-07 00:00:00, 시스템: Trend Follow\n",
      "거래일: 2021-06-08 00:00:00, 시스템: Trend Follow\n",
      "거래일: 2021-06-09 00:00:00, 시스템: Trend Follow\n",
      "거래일: 2021-06-10 00:00:00, 시스템: Trend Follow\n",
      "거래일: 2021-06-11 00:00:00, 시스템: Trend Follow\n",
      "거래일: 2021-06-14 00:00:00, 시스템: Trend Follow\n",
      "거래일: 2021-06-15 00:00:00, 시스템: Trend Follow\n",
      "거래일: 2021-06-16 00:00:00, 시스템: Trend Follow\n",
      "거래일: 2021-06-17 00:00:00, 시스템: Trend Follow\n",
      "거래일: 2021-06-18 00:00:00, 시스템: Trend Follow\n",
      "거래일: 2021-06-21 00:00:00, 시스템: Trend Follow\n",
      "거래일: 2021-06-22 00:00:00, 시스템: Trend Follow\n",
      "거래일: 2021-06-23 00:00:00, 시스템: Trend Follow\n",
      "거래일: 2021-06-24 00:00:00, 시스템: Trend Follow\n",
      "거래일: 2021-06-25 00:00:00, 시스템: Trend Follow\n",
      "거래일: 2021-06-28 00:00:00, 시스템: Trend Follow\n",
      "거래일: 2021-06-29 00:00:00, 시스템: Trend Follow\n",
      "거래일: 2021-06-30 00:00:00, 시스템: Trend Follow\n",
      "거래일: 2021-07-01 00:00:00, 시스템: Trend Follow\n",
      "거래일: 2021-07-02 00:00:00, 시스템: Trend Follow\n",
      "거래일: 2021-07-05 00:00:00, 시스템: Trend Follow\n",
      "거래일: 2021-07-06 00:00:00, 시스템: Trend Follow\n",
      "거래일: 2021-07-07 00:00:00, 시스템: Trend Follow\n",
      "거래일: 2021-07-08 00:00:00, 시스템: Trend Follow\n",
      "거래일: 2021-07-09 00:00:00, 시스템: Trend Follow\n",
      "거래일: 2021-07-12 00:00:00, 시스템: Trend Follow\n",
      "거래일: 2021-07-13 00:00:00, 시스템: Trend Follow\n",
      "거래일: 2021-07-14 00:00:00, 시스템: Trend Follow\n",
      "거래일: 2021-07-15 00:00:00, 시스템: Trend Follow\n",
      "거래일: 2021-07-16 00:00:00, 시스템: Trend Follow\n",
      "거래일: 2021-07-19 00:00:00, 시스템: Trend Follow\n",
      "거래일: 2021-07-20 00:00:00, 시스템: Trend Follow\n",
      "거래일: 2021-07-21 00:00:00, 시스템: Trend Follow\n",
      "거래일: 2021-07-22 00:00:00, 시스템: Trend Follow\n",
      "거래일: 2021-07-23 00:00:00, 시스템: Trend Follow\n",
      "거래일: 2021-07-26 00:00:00, 시스템: Trend Follow\n",
      "거래일: 2021-07-27 00:00:00, 시스템: Trend Follow\n",
      "거래일: 2021-07-28 00:00:00, 시스템: Trend Follow\n",
      "거래일: 2021-07-29 00:00:00, 시스템: Trend Follow\n",
      "거래일: 2021-07-30 00:00:00, 시스템: Trend Follow\n",
      "거래일: 2021-08-02 00:00:00, 시스템: Trend Follow\n",
      "거래일: 2021-08-03 00:00:00, 시스템: Trend Follow\n",
      "거래일: 2021-08-04 00:00:00, 시스템: Trend Follow\n",
      "거래일: 2021-08-05 00:00:00, 시스템: Trend Follow\n",
      "거래일: 2021-08-06 00:00:00, 시스템: Trend Follow\n",
      "거래일: 2021-08-09 00:00:00, 시스템: Trend Follow\n",
      "거래일: 2021-08-10 00:00:00, 시스템: Trend Follow\n",
      "거래일: 2021-08-11 00:00:00, 시스템: Trend Follow\n",
      "거래일: 2021-08-12 00:00:00, 시스템: Trend Follow\n",
      "거래일: 2021-08-13 00:00:00, 시스템: Trend Follow\n",
      "거래일: 2021-08-16 00:00:00, 시스템: Trend Follow\n",
      "거래일: 2021-08-17 00:00:00, 시스템: Trend Follow\n",
      "거래일: 2021-08-18 00:00:00, 시스템: Trend Follow\n",
      "거래일: 2021-08-19 00:00:00, 시스템: Trend Follow\n",
      "거래일: 2021-08-20 00:00:00, 시스템: Trend Follow\n",
      "거래일: 2021-08-23 00:00:00, 시스템: Trend Follow\n",
      "거래일: 2021-08-24 00:00:00, 시스템: Trend Follow\n",
      "거래일: 2021-08-25 00:00:00, 시스템: Trend Follow\n",
      "거래일: 2021-08-26 00:00:00, 시스템: Trend Follow\n",
      "거래일: 2021-08-27 00:00:00, 시스템: Trend Follow\n",
      "거래일: 2021-08-30 00:00:00, 시스템: Trend Follow\n",
      "거래일: 2021-08-31 00:00:00, 시스템: Trend Follow\n",
      "거래일: 2021-09-01 00:00:00, 시스템: Trend Follow\n",
      "거래일: 2021-09-02 00:00:00, 시스템: Trend Follow\n",
      "거래일: 2021-09-03 00:00:00, 시스템: Trend Follow\n",
      "거래일: 2021-09-06 00:00:00, 시스템: Trend Follow\n",
      "거래일: 2021-09-07 00:00:00, 시스템: Trend Follow\n",
      "거래일: 2021-09-08 00:00:00, 시스템: Trend Follow\n",
      "거래일: 2021-09-09 00:00:00, 시스템: Trend Follow\n",
      "거래일: 2021-09-10 00:00:00, 시스템: Trend Follow\n",
      "거래일: 2021-09-13 00:00:00, 시스템: Trend Follow\n",
      "거래일: 2021-09-14 00:00:00, 시스템: Trend Follow\n",
      "거래일: 2021-09-15 00:00:00, 시스템: Trend Follow\n",
      "거래일: 2021-09-16 00:00:00, 시스템: Trend Follow\n",
      "거래일: 2021-09-17 00:00:00, 시스템: Trend Follow\n",
      "거래일: 2021-09-20 00:00:00, 시스템: Trend Follow\n",
      "거래일: 2021-09-21 00:00:00, 시스템: Trend Follow\n",
      "거래일: 2021-09-22 00:00:00, 시스템: Trend Follow\n",
      "거래일: 2021-09-23 00:00:00, 시스템: Trend Follow\n",
      "거래일: 2021-09-24 00:00:00, 시스템: Trend Follow\n",
      "거래일: 2021-09-27 00:00:00, 시스템: Trend Follow\n",
      "거래일: 2021-09-28 00:00:00, 시스템: Trend Follow\n",
      "거래일: 2021-09-29 00:00:00, 시스템: Trend Follow\n",
      "거래일: 2021-09-30 00:00:00, 시스템: Trend Follow\n",
      "거래일: 2021-10-01 00:00:00, 시스템: Trend Follow\n",
      "거래일: 2021-10-04 00:00:00, 시스템: Trend Follow\n",
      "거래일: 2021-10-05 00:00:00, 시스템: Trend Follow\n",
      "거래일: 2021-10-06 00:00:00, 시스템: Trend Follow\n",
      "거래일: 2021-10-07 00:00:00, 시스템: Trend Follow\n",
      "거래일: 2021-10-08 00:00:00, 시스템: Trend Follow\n",
      "거래일: 2021-10-11 00:00:00, 시스템: Trend Follow\n",
      "거래일: 2021-10-12 00:00:00, 시스템: Trend Follow\n",
      "거래일: 2021-10-13 00:00:00, 시스템: Trend Follow\n"
     ]
    },
    {
     "name": "stdout",
     "output_type": "stream",
     "text": [
      "거래일: 2021-10-14 00:00:00, 시스템: Trend Follow\n",
      "거래일: 2021-10-15 00:00:00, 시스템: Trend Follow\n",
      "거래일: 2021-10-18 00:00:00, 시스템: Trend Follow\n",
      "거래일: 2021-10-19 00:00:00, 시스템: Trend Follow\n",
      "거래일: 2021-10-20 00:00:00, 시스템: Trend Follow\n",
      "거래일: 2021-10-21 00:00:00, 시스템: Trend Follow\n",
      "거래일: 2021-10-22 00:00:00, 시스템: Trend Follow\n",
      "거래일: 2021-10-25 00:00:00, 시스템: Trend Follow\n",
      "거래일: 2021-10-26 00:00:00, 시스템: Trend Follow\n",
      "거래일: 2021-10-27 00:00:00, 시스템: Trend Follow\n",
      "거래일: 2021-10-28 00:00:00, 시스템: Trend Follow\n",
      "거래일: 2021-10-29 00:00:00, 시스템: Trend Follow\n",
      "거래일: 2021-11-01 00:00:00, 시스템: Trend Follow\n",
      "거래일: 2021-11-02 00:00:00, 시스템: Trend Follow\n",
      "거래일: 2021-11-03 00:00:00, 시스템: Trend Follow\n",
      "거래일: 2021-11-04 00:00:00, 시스템: Trend Follow\n",
      "거래일: 2021-11-05 00:00:00, 시스템: Trend Follow\n",
      "거래일: 2021-11-08 00:00:00, 시스템: Trend Follow\n",
      "거래일: 2021-11-09 00:00:00, 시스템: Trend Follow\n",
      "거래일: 2021-11-10 00:00:00, 시스템: Trend Follow\n",
      "거래일: 2021-11-11 00:00:00, 시스템: Trend Follow\n",
      "거래일: 2021-11-12 00:00:00, 시스템: Trend Follow\n",
      "거래일: 2021-11-15 00:00:00, 시스템: Trend Follow\n",
      "거래일: 2021-11-16 00:00:00, 시스템: Trend Follow\n",
      "거래일: 2021-11-17 00:00:00, 시스템: Trend Follow\n",
      "거래일: 2021-11-18 00:00:00, 시스템: Trend Follow\n",
      "거래일: 2021-11-19 00:00:00, 시스템: Trend Follow\n",
      "거래일: 2021-11-22 00:00:00, 시스템: Trend Follow\n",
      "거래일: 2021-11-23 00:00:00, 시스템: Trend Follow\n",
      "거래일: 2021-11-24 00:00:00, 시스템: Trend Follow\n",
      "거래일: 2021-11-25 00:00:00, 시스템: Trend Follow\n",
      "거래일: 2021-11-26 00:00:00, 시스템: Trend Follow\n",
      "거래일: 2021-11-29 00:00:00, 시스템: Trend Follow\n",
      "거래일: 2021-11-30 00:00:00, 시스템: Trend Follow\n",
      "거래일: 2021-12-01 00:00:00, 시스템: Trend Follow\n",
      "거래일: 2021-12-02 00:00:00, 시스템: Trend Follow\n",
      "거래일: 2021-12-03 00:00:00, 시스템: Trend Follow\n",
      "거래일: 2021-12-06 00:00:00, 시스템: Trend Follow\n",
      "거래일: 2021-12-07 00:00:00, 시스템: Trend Follow\n",
      "거래일: 2021-12-08 00:00:00, 시스템: Trend Follow\n",
      "거래일: 2021-12-09 00:00:00, 시스템: Trend Follow\n",
      "거래일: 2021-12-10 00:00:00, 시스템: Trend Follow\n",
      "거래일: 2021-12-13 00:00:00, 시스템: Trend Follow\n",
      "거래일: 2021-12-14 00:00:00, 시스템: Trend Follow\n",
      "거래일: 2021-12-15 00:00:00, 시스템: Trend Follow\n",
      "거래일: 2021-12-16 00:00:00, 시스템: Trend Follow\n",
      "거래일: 2021-12-17 00:00:00, 시스템: Trend Follow\n",
      "거래일: 2021-12-20 00:00:00, 시스템: Trend Follow\n",
      "거래일: 2021-12-21 00:00:00, 시스템: Trend Follow\n",
      "거래일: 2021-12-22 00:00:00, 시스템: Trend Follow\n",
      "거래일: 2021-12-23 00:00:00, 시스템: Trend Follow\n",
      "거래일: 2021-12-24 00:00:00, 시스템: Trend Follow\n",
      "거래일: 2021-12-27 00:00:00, 시스템: Trend Follow\n",
      "거래일: 2021-12-28 00:00:00, 시스템: Trend Follow\n",
      "거래일: 2021-12-29 00:00:00, 시스템: Trend Follow\n",
      "거래일: 2021-12-30 00:00:00, 시스템: Trend Follow\n",
      "거래일: 2021-12-31 00:00:00, 시스템: Trend Follow\n",
      "거래일: 2022-01-03 00:00:00, 시스템: Trend Follow\n",
      "거래일: 2022-01-04 00:00:00, 시스템: Trend Follow\n",
      "거래일: 2022-01-05 00:00:00, 시스템: Trend Follow\n",
      "거래일: 2022-01-06 00:00:00, 시스템: Trend Follow\n",
      "거래일: 2022-01-07 00:00:00, 시스템: Trend Follow\n",
      "거래일: 2022-01-10 00:00:00, 시스템: Trend Follow\n",
      "거래일: 2022-01-11 00:00:00, 시스템: Trend Follow\n",
      "거래일: 2022-01-12 00:00:00, 시스템: Trend Follow\n",
      "거래일: 2022-01-13 00:00:00, 시스템: Trend Follow\n",
      "거래일: 2022-01-14 00:00:00, 시스템: Trend Follow\n",
      "거래일: 2022-01-17 00:00:00, 시스템: Trend Follow\n",
      "거래일: 2022-01-18 00:00:00, 시스템: Trend Follow\n",
      "거래일: 2022-01-19 00:00:00, 시스템: Trend Follow\n",
      "거래일: 2022-01-20 00:00:00, 시스템: Trend Follow\n",
      "거래일: 2022-01-21 00:00:00, 시스템: Trend Follow\n",
      "거래일: 2022-01-24 00:00:00, 시스템: Trend Follow\n",
      "거래일: 2022-01-25 00:00:00, 시스템: Trend Follow\n",
      "거래일: 2022-01-26 00:00:00, 시스템: Trend Follow\n",
      "거래일: 2022-01-27 00:00:00, 시스템: Trend Follow\n",
      "거래일: 2022-01-28 00:00:00, 시스템: Trend Follow\n",
      "거래일: 2022-01-31 00:00:00, 시스템: Trend Follow\n",
      "거래일: 2022-02-01 00:00:00, 시스템: Trend Follow\n",
      "거래일: 2022-02-02 00:00:00, 시스템: Trend Follow\n",
      "거래일: 2022-02-03 00:00:00, 시스템: Trend Follow\n",
      "거래일: 2022-02-04 00:00:00, 시스템: Trend Follow\n",
      "거래일: 2022-02-07 00:00:00, 시스템: Trend Follow\n",
      "거래일: 2022-02-08 00:00:00, 시스템: Trend Follow\n",
      "거래일: 2022-02-09 00:00:00, 시스템: Trend Follow\n",
      "거래일: 2022-02-10 00:00:00, 시스템: Trend Follow\n",
      "거래일: 2022-02-11 00:00:00, 시스템: Trend Follow\n",
      "거래일: 2022-02-14 00:00:00, 시스템: Trend Follow\n",
      "거래일: 2022-02-15 00:00:00, 시스템: Trend Follow\n",
      "거래일: 2022-02-16 00:00:00, 시스템: Trend Follow\n",
      "거래일: 2022-02-17 00:00:00, 시스템: Trend Follow\n",
      "거래일: 2022-02-18 00:00:00, 시스템: Trend Follow\n",
      "거래일: 2022-02-21 00:00:00, 시스템: Trend Follow\n",
      "거래일: 2022-02-22 00:00:00, 시스템: Trend Follow\n",
      "거래일: 2022-02-23 00:00:00, 시스템: Trend Follow\n",
      "거래일: 2022-02-24 00:00:00, 시스템: Trend Follow\n",
      "거래일: 2022-02-25 00:00:00, 시스템: Trend Follow\n",
      "거래일: 2022-02-28 00:00:00, 시스템: Trend Follow\n",
      "거래일: 2022-03-01 00:00:00, 시스템: Trend Follow\n",
      "거래일: 2022-03-02 00:00:00, 시스템: Trend Follow\n",
      "거래일: 2022-03-03 00:00:00, 시스템: Trend Follow\n",
      "거래일: 2022-03-04 00:00:00, 시스템: Trend Follow\n",
      "거래일: 2022-03-07 00:00:00, 시스템: Trend Follow\n",
      "거래일: 2022-03-08 00:00:00, 시스템: Trend Follow\n",
      "거래일: 2022-03-09 00:00:00, 시스템: Trend Follow\n",
      "거래일: 2022-03-10 00:00:00, 시스템: Trend Follow\n",
      "거래일: 2022-03-11 00:00:00, 시스템: Trend Follow\n",
      "거래일: 2022-03-14 00:00:00, 시스템: Trend Follow\n",
      "거래일: 2022-03-15 00:00:00, 시스템: Trend Follow\n",
      "거래일: 2022-03-16 00:00:00, 시스템: Trend Follow\n",
      "거래일: 2022-03-17 00:00:00, 시스템: Trend Follow\n",
      "거래일: 2022-03-18 00:00:00, 시스템: Trend Follow\n",
      "거래일: 2022-03-21 00:00:00, 시스템: Trend Follow\n",
      "거래일: 2022-03-22 00:00:00, 시스템: Trend Follow\n",
      "거래일: 2022-03-23 00:00:00, 시스템: Trend Follow\n",
      "거래일: 2022-03-24 00:00:00, 시스템: Trend Follow\n",
      "거래일: 2022-03-25 00:00:00, 시스템: Trend Follow\n",
      "거래일: 2022-03-28 00:00:00, 시스템: Trend Follow\n",
      "거래일: 2022-03-29 00:00:00, 시스템: Trend Follow\n",
      "거래일: 2022-03-30 00:00:00, 시스템: Trend Follow\n",
      "거래일: 2022-03-31 00:00:00, 시스템: Trend Follow\n",
      "거래일: 2022-04-01 00:00:00, 시스템: Trend Follow\n",
      "거래일: 2022-04-04 00:00:00, 시스템: Trend Follow\n",
      "거래일: 2022-04-05 00:00:00, 시스템: Trend Follow\n",
      "거래일: 2022-04-06 00:00:00, 시스템: Trend Follow\n",
      "거래일: 2022-04-07 00:00:00, 시스템: Trend Follow\n",
      "거래일: 2022-04-08 00:00:00, 시스템: Trend Follow\n",
      "거래일: 2022-04-11 00:00:00, 시스템: Trend Follow\n",
      "거래일: 2022-04-12 00:00:00, 시스템: Trend Follow\n",
      "거래일: 2022-04-13 00:00:00, 시스템: Trend Follow\n",
      "거래일: 2022-04-14 00:00:00, 시스템: Trend Follow\n",
      "거래일: 2022-04-18 00:00:00, 시스템: Trend Follow\n",
      "거래일: 2022-04-19 00:00:00, 시스템: Trend Follow\n",
      "거래일: 2022-04-20 00:00:00, 시스템: Trend Follow\n",
      "거래일: 2022-04-21 00:00:00, 시스템: Trend Follow\n",
      "거래일: 2022-04-22 00:00:00, 시스템: Trend Follow\n",
      "거래일: 2022-04-25 00:00:00, 시스템: Trend Follow\n",
      "거래일: 2022-04-26 00:00:00, 시스템: Trend Follow\n",
      "거래일: 2022-04-27 00:00:00, 시스템: Trend Follow\n",
      "거래일: 2022-04-28 00:00:00, 시스템: Trend Follow\n",
      "거래일: 2022-04-29 00:00:00, 시스템: Trend Follow\n",
      "거래일: 2022-05-02 00:00:00, 시스템: Trend Follow\n",
      "거래일: 2022-05-03 00:00:00, 시스템: Trend Follow\n",
      "거래일: 2022-05-04 00:00:00, 시스템: Trend Follow\n",
      "매매종료\n",
      "Unexpected exception formatting exception. Falling back to standard exception\n"
     ]
    },
    {
     "name": "stderr",
     "output_type": "stream",
     "text": [
      "Traceback (most recent call last):\n",
      "  File \"C:\\Users\\yosep\\python\\miniconda3\\lib\\site-packages\\IPython\\core\\interactiveshell.py\", line 3505, in run_code\n",
      "    exec(code_obj, self.user_global_ns, self.user_ns)\n",
      "  File \"C:\\Users\\yosep\\AppData\\Local\\Temp\\ipykernel_22524\\746492636.py\", line 4, in <module>\n",
      "    system.create_report()\n",
      "  File \"C:\\Users\\yosep\\Documents\\projects\\Trading\\03.전략연구\\..\\backtesting\\system.py\", line 910, in create_report\n",
      "    jsonobj = json.load(f)\n",
      "  File \"C:\\Users\\yosep\\python\\miniconda3\\lib\\json\\__init__.py\", line 293, in load\n",
      "    return loads(fp.read(),\n",
      "io.UnsupportedOperation: not readable\n",
      "\n",
      "During handling of the above exception, another exception occurred:\n",
      "\n",
      "Traceback (most recent call last):\n",
      "  File \"C:\\Users\\yosep\\python\\miniconda3\\lib\\site-packages\\IPython\\core\\interactiveshell.py\", line 2102, in showtraceback\n",
      "    stb = self.InteractiveTB.structured_traceback(\n",
      "  File \"C:\\Users\\yosep\\python\\miniconda3\\lib\\site-packages\\IPython\\core\\ultratb.py\", line 1310, in structured_traceback\n",
      "    return FormattedTB.structured_traceback(\n",
      "  File \"C:\\Users\\yosep\\python\\miniconda3\\lib\\site-packages\\IPython\\core\\ultratb.py\", line 1199, in structured_traceback\n",
      "    return VerboseTB.structured_traceback(\n",
      "  File \"C:\\Users\\yosep\\python\\miniconda3\\lib\\site-packages\\IPython\\core\\ultratb.py\", line 1052, in structured_traceback\n",
      "    formatted_exception = self.format_exception_as_a_whole(etype, evalue, etb, number_of_lines_of_context,\n",
      "  File \"C:\\Users\\yosep\\python\\miniconda3\\lib\\site-packages\\IPython\\core\\ultratb.py\", line 978, in format_exception_as_a_whole\n",
      "    frames.append(self.format_record(record))\n",
      "  File \"C:\\Users\\yosep\\python\\miniconda3\\lib\\site-packages\\IPython\\core\\ultratb.py\", line 878, in format_record\n",
      "    frame_info.lines, Colors, self.has_colors, lvals\n",
      "  File \"C:\\Users\\yosep\\python\\miniconda3\\lib\\site-packages\\IPython\\core\\ultratb.py\", line 712, in lines\n",
      "    return self._sd.lines\n",
      "  File \"C:\\Users\\yosep\\python\\miniconda3\\lib\\site-packages\\stack_data\\utils.py\", line 145, in cached_property_wrapper\n",
      "    value = obj.__dict__[self.func.__name__] = self.func(obj)\n",
      "  File \"C:\\Users\\yosep\\python\\miniconda3\\lib\\site-packages\\stack_data\\core.py\", line 698, in lines\n",
      "    pieces = self.included_pieces\n",
      "  File \"C:\\Users\\yosep\\python\\miniconda3\\lib\\site-packages\\stack_data\\utils.py\", line 145, in cached_property_wrapper\n",
      "    value = obj.__dict__[self.func.__name__] = self.func(obj)\n",
      "  File \"C:\\Users\\yosep\\python\\miniconda3\\lib\\site-packages\\stack_data\\core.py\", line 649, in included_pieces\n",
      "    pos = scope_pieces.index(self.executing_piece)\n",
      "  File \"C:\\Users\\yosep\\python\\miniconda3\\lib\\site-packages\\stack_data\\utils.py\", line 145, in cached_property_wrapper\n",
      "    value = obj.__dict__[self.func.__name__] = self.func(obj)\n",
      "  File \"C:\\Users\\yosep\\python\\miniconda3\\lib\\site-packages\\stack_data\\core.py\", line 628, in executing_piece\n",
      "    return only(\n",
      "  File \"C:\\Users\\yosep\\python\\miniconda3\\lib\\site-packages\\executing\\executing.py\", line 164, in only\n",
      "    raise NotOneValueFound('Expected one value, found 0')\n",
      "executing.executing.NotOneValueFound: Expected one value, found 0\n"
     ]
    }
   ],
   "source": [
    "trader = bt.Trader(systems=[system1])\n",
    "system = trader.systems[0]\n",
    "trader.run()\n",
    "system.create_report()"
   ]
  },
  {
   "cell_type": "code",
   "execution_count": 75,
   "metadata": {},
   "outputs": [],
   "source": [
    "system.create_report()"
   ]
  },
  {
   "cell_type": "code",
   "execution_count": 76,
   "metadata": {},
   "outputs": [],
   "source": [
    "jsondir = os.path.join(DATADIR, 'backtesting', 'system_performance.json')\n",
    "jsonobj = json.load(open(jsondir))"
   ]
  },
  {
   "cell_type": "code",
   "execution_count": 44,
   "metadata": {},
   "outputs": [],
   "source": [
    "open?"
   ]
  },
  {
   "cell_type": "code",
   "execution_count": 38,
   "metadata": {},
   "outputs": [],
   "source": [
    "json.load?"
   ]
  },
  {
   "cell_type": "code",
   "execution_count": 34,
   "metadata": {},
   "outputs": [
    {
     "data": {
      "text/plain": [
       "Timestamp('2022-05-04 00:00:00')"
      ]
     },
     "execution_count": 34,
     "metadata": {},
     "output_type": "execute_result"
    }
   ],
   "source": [
    "system.equity.date"
   ]
  },
  {
   "cell_type": "code",
   "execution_count": 36,
   "metadata": {},
   "outputs": [],
   "source": [
    " equity  = pd.DataFrame(system.equity.log())\\\n",
    "                    .set_index('date')\\\n",
    "                    .groupby(by='date').last()"
   ]
  },
  {
   "cell_type": "code",
   "execution_count": 46,
   "metadata": {
    "scrolled": true
   },
   "outputs": [],
   "source": [
    "open?"
   ]
  },
  {
   "cell_type": "code",
   "execution_count": 39,
   "metadata": {},
   "outputs": [
    {
     "data": {
      "text/plain": [
       "<Axes: xlabel='date'>"
      ]
     },
     "execution_count": 39,
     "metadata": {},
     "output_type": "execute_result"
    },
    {
     "data": {
      "image/png": "[encoded data removed]",
      "text/plain": [
       "<Figure size 640x480 with 1 Axes>"
      ]
     },
     "metadata": {},
     "output_type": "display_data"
    }
   ],
   "source": [
    "equity['max_capital'].plot()"
   ]
  },
  {
   "cell_type": "code",
   "execution_count": 73,
   "metadata": {},
   "outputs": [
    {
     "data": {
      "text/plain": [
       "540199.52"
      ]
     },
     "execution_count": 73,
     "metadata": {},
     "output_type": "execute_result"
    }
   ],
   "source": [
    "equity['max_capital'].iloc[-100]"
   ]
  },
  {
   "cell_type": "code",
   "execution_count": 43,
   "metadata": {},
   "outputs": [
    {
     "data": {
      "text/plain": [
       "array([100000.  , 100000.  , 100000.  , ..., 540805.02, 540805.02,\n",
       "       540805.02])"
      ]
     },
     "execution_count": 43,
     "metadata": {},
     "output_type": "execute_result"
    }
   ],
   "source": [
    "arr"
   ]
  },
  {
   "cell_type": "code",
   "execution_count": 74,
   "metadata": {},
   "outputs": [
    {
     "name": "stdout",
     "output_type": "stream",
     "text": [
      "?\n"
     ]
    }
   ],
   "source": [
    "dd = []\n",
    "for i in equity.groupby('max_capital'):\n",
    "    if i[0] == equity['max_capital'].iloc[-1000]:\n",
    "        print('?')\n",
    "        break\n",
    "    dd.append((i[1].index.max() - i[1].index.min()).days)"
   ]
  },
  {
   "cell_type": "code",
   "execution_count": 77,
   "metadata": {},
   "outputs": [
    {
     "data": {
      "text/plain": [
       "Timedelta('3499 days 00:00:00')"
      ]
     },
     "execution_count": 77,
     "metadata": {},
     "output_type": "execute_result"
    }
   ],
   "source": [
    "i[1].index.max() - i[1].index.min()"
   ]
  },
  {
   "cell_type": "code",
   "execution_count": 57,
   "metadata": {},
   "outputs": [
    {
     "data": {
      "text/plain": [
       "16"
      ]
     },
     "execution_count": 57,
     "metadata": {},
     "output_type": "execute_result"
    }
   ],
   "source": [
    "(i[1].index.max() - i[1].index.min()).days"
   ]
  },
  {
   "cell_type": "code",
   "execution_count": 58,
   "metadata": {},
   "outputs": [
    {
     "data": {
      "text/plain": [
       "540805.02"
      ]
     },
     "execution_count": 58,
     "metadata": {},
     "output_type": "execute_result"
    }
   ],
   "source": [
    "equity['max_capital'].max()"
   ]
  },
  {
   "cell_type": "code",
   "execution_count": 67,
   "metadata": {},
   "outputs": [
    {
     "data": {
      "text/plain": [
       "540805.02"
      ]
     },
     "execution_count": 67,
     "metadata": {},
     "output_type": "execute_result"
    }
   ],
   "source": [
    "equity['max_capital'].iloc[-1000:].max()"
   ]
  },
  {
   "cell_type": "code",
   "execution_count": 78,
   "metadata": {},
   "outputs": [],
   "source": [
    " win_trades = system.trades.get(result='WIN')"
   ]
  },
  {
   "cell_type": "code",
   "execution_count": 80,
   "metadata": {},
   "outputs": [
    {
     "data": {
      "text/plain": [
       "<backtesting.trades.Trade at 0x2f5da29d370>"
      ]
     },
     "execution_count": 80,
     "metadata": {},
     "output_type": "execute_result"
    }
   ],
   "source": [
    "win_trades[0]"
   ]
  },
  {
   "cell_type": "code",
   "execution_count": null,
   "metadata": {},
   "outputs": [],
   "source": []
  }
 ],
 "metadata": {
  "kernelspec": {
   "display_name": "Python 3 (ipykernel)",
   "language": "python",
   "name": "python3"
  },
  "language_info": {
   "codemirror_mode": {
    "name": "ipython",
    "version": 3
   },
   "file_extension": ".py",
   "mimetype": "text/x-python",
   "name": "python",
   "nbconvert_exporter": "python",
   "pygments_lexer": "ipython3",
   "version": "3.9.16"
  }
 },
 "nbformat": 4,
 "nbformat_minor": 2
}
