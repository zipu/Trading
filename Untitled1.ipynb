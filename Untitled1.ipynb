{
 "cells": [
  {
   "cell_type": "markdown",
   "id": "1cf1e3ce",
   "metadata": {},
   "source": [
    "## 트레이딩 시스템"
   ]
  },
  {
   "cell_type": "markdown",
   "id": "7694b6c6",
   "metadata": {},
   "source": [
    "## ver 0.1"
   ]
  },
  {
   "cell_type": "markdown",
   "id": "d2aba250",
   "metadata": {},
   "source": [
    "#### 시스템이 포함하는 것들\n",
    "1. 시장 데이터\n",
    "    - 매매에 사용되는 여러 형태의 시장 데이터를 관리 및 업데이트 하는 기능\n",
    "2. 시장 연구 \n",
    "    - 금융시장의 기본 연구 자료 \n",
    "    - 매매 전략 개발\n",
    "3. 백테스팅 "
   ]
  },
  {
   "cell_type": "code",
   "execution_count": null,
   "id": "575e9caa",
   "metadata": {},
   "outputs": [],
   "source": []
  }
 ],
 "metadata": {
  "kernelspec": {
   "display_name": "Python 3 (ipykernel)",
   "language": "python",
   "name": "python3"
  },
  "language_info": {
   "codemirror_mode": {
    "name": "ipython",
    "version": 3
   },
   "file_extension": ".py",
   "mimetype": "text/x-python",
   "name": "python",
   "nbconvert_exporter": "python",
   "pygments_lexer": "ipython3",
   "version": "3.8.15"
  }
 },
 "nbformat": 4,
 "nbformat_minor": 5
}
