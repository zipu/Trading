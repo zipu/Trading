{
 "cells": [
  {
   "cell_type": "markdown",
   "id": "2c4d8ab1",
   "metadata": {},
   "source": [
    "## Kibot.com 에서 선물일봉 데이터 만들기\n",
    " * KibotAPI 이용\n",
    " * 단순연결선물 데이터 제공"
   ]
  },
  {
   "cell_type": "code",
   "execution_count": 3,
   "id": "5312c2d1",
   "metadata": {},
   "outputs": [],
   "source": [
    "import sys\n",
    "sys.path.append('..')\n",
    "import requests\n",
    "from collections import defaultdict\n",
    "import csv\n",
    "import h5py\n",
    "import os\n",
    "import numpy as np\n",
    "import pandas as pd"
   ]
  },
  {
   "cell_type": "code",
   "execution_count": 5,
   "id": "b8d9fd34",
   "metadata": {},
   "outputs": [],
   "source": [
    "#del sys.modules['tools.instruments']\n",
    "\n",
    "from tools.instruments import instruments\n",
    "from tools.constants import DATADIR"
   ]
  },
  {
   "cell_type": "markdown",
   "id": "1f41078e",
   "metadata": {},
   "source": [
    "* 파일 경로:\n",
    " - BV: Bakcward ajusted rolled on volume"
   ]
  },
  {
   "cell_type": "code",
   "execution_count": 6,
   "id": "f7bb365d",
   "metadata": {},
   "outputs": [],
   "source": [
    "#REFPATH = os.path.join(DATADIR,'kibot','contracts-list.csv')\n",
    "CONTRACTSPATH = os.path.join(DATADIR, 'kibot','futures-contracts.hdf')\n",
    "CONTINUOUSPATH = os.path.join(DATADIR, 'kibot','futures-continuous-BV.hdf')"
   ]
  },
  {
   "cell_type": "markdown",
   "id": "7dc9899f",
   "metadata": {},
   "source": [
    "### 1. 월물 데이터 로드하여 병합하기"
   ]
  },
  {
   "cell_type": "code",
   "execution_count": 7,
   "id": "99ad1548",
   "metadata": {},
   "outputs": [],
   "source": [
    "#상품별 월물코드 불러오기 (시간순으로 정리되어 있음)\n",
    "contracts = instruments.kibot_contracts_list()"
   ]
  },
  {
   "cell_type": "code",
   "execution_count": 17,
   "id": "8f31ee35",
   "metadata": {},
   "outputs": [],
   "source": [
    " def get_quotes_by_symbol(symbol):\n",
    "    #파일 불러오기 및 월물 리스트 불러오기\n",
    "    file = h5py.File(CONTRACTSPATH, 'r')\n",
    "    contracts = instruments.kibot_contracts_list()\n",
    "    #pandas multi index naming\n",
    "    names = ['open','high','low','close','volume']\n",
    "    indexes = [\n",
    "                sum([ [contract]*5 for contract in contracts[symbol]],[]),\n",
    "                names*len(contracts[symbol])\n",
    "            ]\n",
    "\n",
    "    quotes=[]\n",
    "    for contract in contracts[symbol]:\n",
    "        df = pd.DataFrame(file[symbol][contract]['date','open','high','low','close','volume'])\n",
    "        df['date'] = df['date'].astype('M8[D]')\n",
    "        df.set_index('date', inplace=True)\n",
    "        quotes.append(df)\n",
    "\n",
    "    quotes= pd.concat(quotes, axis=1)\n",
    "    quotes.columns = indexes\n",
    "\n",
    "    #첫번째 월물의 거래량이 적어서 오류가 날 가능성이 있음\n",
    "    #첫번째 월물의 만기 두달전 부터 시작  \n",
    "    first_contract = contracts[symbol][0]\n",
    "    m = instruments.month_code(first_contract[-3])\n",
    "    m = f'{[1,2,3,4,5,6,7,8,9,10,11,12][m-3]:02d}'\n",
    "    y = '20'+str(first_contract[-2:])\n",
    "    startdate = y+'-'+m+'-'+'01'\n",
    "    quotes = quotes[startdate:]\n",
    "    \n",
    "    return quotes"
   ]
  },
  {
   "cell_type": "markdown",
   "id": "3ccd23fd",
   "metadata": {},
   "source": [
    "### 2. 연결선물데이터 만들기\n",
    "* 연결방법: Backward Panama Ajusted\n",
    "* 연결기준:\n",
    "    1. Roll on volume change: 거래량이 역전된 다음 날 기준\n",
    "    2. Roll on open interest: 미결제 약정 계약수가 역전된 다음날 기준"
   ]
  },
  {
   "cell_type": "code",
   "execution_count": 276,
   "id": "a35cd802",
   "metadata": {
    "scrolled": true
   },
   "outputs": [],
   "source": [
    "def create_continuous_futures(symbol):\n",
    "    quotes = get_quotes_by_symbol(symbol)\n",
    "    volumes = quotes.xs('volume',axis=1,level=1)\n",
    "    columns = volumes.columns\n",
    "    active = 0\n",
    "    rolls = []\n",
    "    #액티브월물, 인덱스(숫자), 가격차, 날짜\n",
    "    rolls.append((columns[active], 0, 0, quotes.index[0])) \n",
    "    \"\"\"\n",
    "    * 액티브 월물 선택 규칙\n",
    "     1. 액티브월물이 현재보다 앞선 월물로 바뀌지 않는다. \n",
    "     2. 현재 액티브월물 포함 연속된 4개의 월물중 거래량이 가장 많은 월물로 변경한다.\n",
    "     3. 연속된 4개의 월물이 모두 nan 이면 스킵한다 \n",
    "     4. 현재 액티브 월물이 nan이고 다음 3개월물 값이 있으면 그 중 거래량이 가장 많은 월물로 변경한다. \n",
    "    \"\"\"\n",
    "    for date, row in volumes.iloc[1:].iterrows():\n",
    "        flag = row[active:active+4]\n",
    "\n",
    "        # 연속된 4개월물이 모두 nan 이면 스킵 \n",
    "        # 가끔 nan + 0 이 들어있어서 그것도 스킵\n",
    "        if pd.isna(flag.max()) or flag.max() == 0:\n",
    "            #print('11111', volumes.columns[active])\n",
    "            continue\n",
    "\n",
    "        maxcol = columns.get_loc(flag.idxmax())\n",
    "        \n",
    "        # 신규월물이 액티브월물보다 앞선 월물이면 스킵\n",
    "        if maxcol <= active:\n",
    "            #print(\"%%% 앞선월물로 변경 중\", flag.idxmax(), date)\n",
    "            continue\n",
    "\n",
    "        else:\n",
    "            #print(f\"월물변경: {columns[active]} -> {columns[idxmax]} ({date}) {instruments.month_code(flag.idxmax()[-3])}\")\n",
    "            idx = volumes.index.get_loc(date) #월물 변경날 인덱스\n",
    "            \n",
    "            before_price = quotes[columns[active]].iloc[idx-1]['close']\n",
    "            after_price = quotes[columns[maxcol]].iloc[idx-1]['close'] \n",
    "            \n",
    "            if pd.isna(after_price) or pd.isna(after_price):\n",
    "                #raise ValueError('nan 값 발생', date, columns[active])\n",
    "                before_price = quotes[columns[active]].iloc[idx]['close']\n",
    "                after_price = quotes[columns[maxcol]].iloc[idx]['close']\n",
    "                    \n",
    "                if pd.isna(after_price) or pd.isna(after_price):\n",
    "                    raise ValueError('nan 값 발생', date, columns[active])\n",
    "\n",
    "            \n",
    "            diff = after_price - before_price\n",
    "            #print(quotes[columns[active]].loc[date]['close'], idx, diff)\n",
    "            active = maxcol\n",
    "            rolls.append((columns[active], idx, diff, date))\n",
    "    \n",
    "\n",
    "    # 롤오버 정보 정리하기\n",
    "    rollinfo = []\n",
    "    #diff = 0\n",
    "    for i in range(len(rolls)):\n",
    "        if i == len(rolls)-1:\n",
    "            end = None\n",
    "        else:\n",
    "            end = rolls[i+1][1]-1\n",
    "        # 월물이름, 시작인덱스(숫자), 끝인덱스(숫자), 가격차, 날짜\n",
    "        rollinfo.append((rolls[i][0], rolls[i][1], end, rolls[i][2], rolls[i][3]))\n",
    "        \n",
    "    # 데이터 합치기 \n",
    "    start = rollinfo[0]\n",
    "    df = quotes[start[0]].iloc[start[1]:start[2]]\n",
    "    for row in rollinfo[1:]:\n",
    "        df[['open','high','low','close']] = df[['open','high','low','close']]+ row[3]\n",
    "        df = pd.concat([df, quotes[row[0]].iloc[row[1]:row[2]]])\n",
    "        df.dropna(inplace=True) #nan value 포함한 행 삭제\n",
    "    return df, rollinfo"
   ]
  },
  {
   "cell_type": "markdown",
   "id": "ea5c55c7",
   "metadata": {},
   "source": [
    "### 3. 데이터 저장하기\n",
    "- data/kibot/futures-continuous-BV.hdf 에저장"
   ]
  },
  {
   "cell_type": "code",
   "execution_count": 171,
   "id": "e752d61e",
   "metadata": {},
   "outputs": [],
   "source": [
    "from numpy.lib.recfunctions import unstructured_to_structured"
   ]
  },
  {
   "cell_type": "code",
   "execution_count": 277,
   "id": "5234e69f",
   "metadata": {},
   "outputs": [],
   "source": [
    "file = h5py.File(CONTINUOUSPATH, 'w')"
   ]
  },
  {
   "cell_type": "code",
   "execution_count": 278,
   "id": "7696f4bb",
   "metadata": {},
   "outputs": [
    {
     "name": "stdout",
     "output_type": "stream",
     "text": [
      "[AD] CME Australian Dollar AUD 진행중..\n",
      "[BO] CBOT Soybean Oil 진행중..\n",
      "[BP] CME British Pound GBP 진행중..\n",
      "[C] CBOT Corn 진행중..\n",
      "[CD] CME Canadian Dollar CAD 진행중..\n",
      "[CL] NYMEX WTI Crude Oil 진행중..\n",
      "[MD] CME S&P 400 Midcap Index 진행중..\n",
      "[ES] CME S&P 500 Index E-Mini 진행중..\n",
      "[EC] CME Euro FX 진행중..\n",
      "[FV] CBOT 5-year US Treasury Note 진행중..\n",
      "[GC] NYMEX Gold 진행중..\n",
      "[LN] CME Lean Hogs 진행중..\n",
      "[HG] COMEX Copper 진행중..\n",
      "[JY] CME Japanese Yen JPY 진행중..\n",
      "[LE] CME Live Cattle 진행중..\n",
      "[NE] CME New Zealand Dollar NZD 진행중..\n",
      "[NG] NYMEX Natural Gas 진행중..\n",
      "[NK] CME Nikkei 225 진행중..\n",
      "[NQ] CME NASDAQ 100 Index Mini 진행중..\n",
      "[O] CBOT Oats 진행중..\n",
      "[PA] NYMEX Palladium 진행중..\n",
      "[PL] NYMEX Platinum 진행중..\n",
      "[RR] CBOT Rough Rice 진행중..\n",
      "[RTY] CME Russell 2000 Index Mini 진행중..\n",
      "[S] CBOT Soybeans 진행중..\n",
      "[SF] CME Swiss Franc CHF 진행중..\n",
      "[SI] NYMEX Silver 진행중..\n",
      "[SM] CBOT Soybean Meal 진행중..\n",
      "[TU] CBOT 2-year US Treasury Note 진행중..\n",
      "[TY] CBOT 10-year US Treasury Note 진행중..\n",
      "[US] CBOT 30-year US Treasury Bond 진행중..\n",
      "[VX] CBOE VIX Futures 진행중..\n",
      "[W] CBOT Wheat 진행중..\n",
      "[YM] CME E-mini Dow Jones 진행중..\n"
     ]
    }
   ],
   "source": [
    "contracts = instruments.kibot_contracts_list()\n",
    "for symbol in contracts.keys():\n",
    "    print(f\"[{symbol}] {instruments[symbol].name} 진행중..\")\n",
    "    df, rollinfo = create_continuous_futures(symbol)\n",
    "    \n",
    "    # numpy array 만들기 \n",
    "    dtypes= np.dtype([\n",
    "        ('date', 'i'),\n",
    "        ('open', 'f'),\n",
    "        ('high','f'),\n",
    "        ('low','f'),\n",
    "        ('close','f'),\n",
    "        ('volume', 'i'),\n",
    "        ('open_interest','i')\n",
    "    ])\n",
    "\n",
    "    df['open_interest'] = 0\n",
    "    date = df.index.values.astype('M8[D]').astype('i')\n",
    "    date = date.reshape((date.shape[0],1))\n",
    "    quotes = df.values\n",
    "    arr = np.hstack((date,quotes))\n",
    "    datalist = [ tuple(row) for row in arr]\n",
    "    file.create_dataset(symbol, data=np.array(datalist, dtypes))\n",
    "print(\"DONE\")"
   ]
  },
  {
   "cell_type": "code",
   "execution_count": 279,
   "id": "c7349103",
   "metadata": {},
   "outputs": [],
   "source": [
    "file.close()"
   ]
  },
  {
   "cell_type": "markdown",
   "id": "c7f6ab1e",
   "metadata": {},
   "source": [
    "### 4. 데이터 검증"
   ]
  },
  {
   "cell_type": "code",
   "execution_count": 280,
   "id": "a092800e",
   "metadata": {},
   "outputs": [],
   "source": [
    "file = h5py.File(CONTINUOUSPATH, 'r')"
   ]
  },
  {
   "cell_type": "code",
   "execution_count": 291,
   "id": "3c06a959",
   "metadata": {},
   "outputs": [],
   "source": [
    "df = pd.DataFrame(file['W'][:])"
   ]
  },
  {
   "cell_type": "code",
   "execution_count": 292,
   "id": "91a4cad8",
   "metadata": {},
   "outputs": [],
   "source": [
    "df['date'] = df['date'].astype('M8[D]')"
   ]
  },
  {
   "cell_type": "code",
   "execution_count": 293,
   "id": "377b0769",
   "metadata": {},
   "outputs": [],
   "source": [
    "df.set_index('date', inplace=True)"
   ]
  },
  {
   "cell_type": "code",
   "execution_count": 297,
   "id": "45a753a2",
   "metadata": {
    "scrolled": false
   },
   "outputs": [
    {
     "data": {
      "image/png": "[encoded data removed]",
      "text/plain": [
       "<Figure size 1080x576 with 1 Axes>"
      ]
     },
     "metadata": {
      "needs_background": "light"
     },
     "output_type": "display_data"
    }
   ],
   "source": [
    "view(df, size=(15,8))"
   ]
  },
  {
   "cell_type": "code",
   "execution_count": null,
   "id": "fa664119",
   "metadata": {},
   "outputs": [],
   "source": []
  }
 ],
 "metadata": {
  "kernelspec": {
   "display_name": "Python 3 (ipykernel)",
   "language": "python",
   "name": "python3"
  },
  "language_info": {
   "codemirror_mode": {
    "name": "ipython",
    "version": 3
   },
   "file_extension": ".py",
   "mimetype": "text/x-python",
   "name": "python",
   "nbconvert_exporter": "python",
   "pygments_lexer": "ipython3",
   "version": "3.8.5"
  }
 },
 "nbformat": 4,
 "nbformat_minor": 5
}
