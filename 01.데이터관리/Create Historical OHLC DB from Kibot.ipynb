{
 "cells": [
  {
   "cell_type": "markdown",
   "id": "2c4d8ab1",
   "metadata": {},
   "source": [
    "## Kibot.com 에서 선물일봉 데이터 만들기\n",
    " * KibotAPI 이용\n",
    " * 단순연결선물 데이터 제공"
   ]
  },
  {
   "cell_type": "markdown",
   "id": "5bce6d64",
   "metadata": {},
   "source": [
    "> 추후 월물별 데이터를 재가공하여 Ajusted continuous futures 데이터 가공계획"
   ]
  },
  {
   "cell_type": "code",
   "execution_count": 1,
   "id": "5312c2d1",
   "metadata": {},
   "outputs": [],
   "source": [
    "import sys\n",
    "sys.path.append('..')\n",
    "import requests\n",
    "import csv\n",
    "import h5py\n",
    "import os\n",
    "import numpy as np"
   ]
  },
  {
   "cell_type": "code",
   "execution_count": 2,
   "id": "114fdf7d",
   "metadata": {},
   "outputs": [],
   "source": [
    "from tools.instruments import instruments"
   ]
  },
  {
   "cell_type": "code",
   "execution_count": 3,
   "id": "59d42680",
   "metadata": {},
   "outputs": [],
   "source": [
    "DATADIR = os.path.join('.','../data/kibot','quotes.hdf')"
   ]
  },
  {
   "cell_type": "markdown",
   "id": "7dc9899f",
   "metadata": {},
   "source": [
    "### 1. Kibot에서 다운 가능한 종목 코드 불러오기 \n",
    "* 불러온 종목코드는 symbols[] 에 저장"
   ]
  },
  {
   "cell_type": "code",
   "execution_count": 4,
   "id": "f06c01fb",
   "metadata": {},
   "outputs": [],
   "source": [
    "symbols = instruments.getlist('kibot')"
   ]
  },
  {
   "cell_type": "markdown",
   "id": "0867ed95",
   "metadata": {},
   "source": [
    "### 2. Kibot.com 서버에서 데이터 다운로드"
   ]
  },
  {
   "cell_type": "code",
   "execution_count": 5,
   "id": "2271fcb4",
   "metadata": {},
   "outputs": [],
   "source": [
    "LoginURL = \"http://api.kibot.com?action=login&user=guest&password=guest\"\n",
    "DataRequestURL = \"http://api.kibot.com\"\n",
    "LogoutURL = \"http://api.kibot.com?action=logout\""
   ]
  },
  {
   "cell_type": "code",
   "execution_count": 6,
   "id": "8f9a5e9a",
   "metadata": {},
   "outputs": [],
   "source": [
    "#  연결선물일봉 데이터 다운용 쿼리\n",
    "query={\n",
    "    'action': 'history',\n",
    "    'symbol': '',\n",
    "    'interval': 'daily',\n",
    "    'type': 'futures',\n",
    "    'period': '99999',\n",
    "    'timezone': 'utc'\n",
    "}"
   ]
  },
  {
   "cell_type": "code",
   "execution_count": 7,
   "id": "51dc1194",
   "metadata": {},
   "outputs": [],
   "source": [
    "file = h5py.File(DATADIR, 'w')"
   ]
  },
  {
   "cell_type": "code",
   "execution_count": 8,
   "id": "f1297524",
   "metadata": {},
   "outputs": [],
   "source": [
    "dtypes= np.dtype([('date', 'i'), ('open', 'f'),('high','f'), ('low','f'), ('close','f'), ('volume', 'i'), ('open_interest','i')])"
   ]
  },
  {
   "cell_type": "code",
   "execution_count": 9,
   "id": "c98f3074",
   "metadata": {
    "scrolled": false
   },
   "outputs": [
    {
     "name": "stdout",
     "output_type": "stream",
     "text": [
      "서버 접속 시작\n",
      "AD 다운로드...\n",
      "BO 다운로드...\n",
      "BP 다운로드...\n",
      "CD 다운로드...\n",
      "CL 다운로드...\n",
      "EU 다운로드...\n",
      "ED 다운로드...\n",
      "ES 다운로드...\n",
      "FF 다운로드...\n",
      "FV 다운로드...\n",
      "GC 다운로드...\n",
      "HG 다운로드...\n",
      "JY 다운로드...\n",
      "LB 다운로드...\n",
      "LE 다운로드...\n",
      "HE 다운로드...\n",
      "EMD 다운로드...\n",
      "NE 다운로드...\n",
      "NG 다운로드...\n",
      "NKD 다운로드...\n",
      "NQ 다운로드...\n",
      "O 다운로드...\n",
      "PA 다운로드...\n",
      "PL 다운로드...\n",
      "RR 다운로드...\n",
      "RTY 다운로드...\n",
      "S 다운로드...\n",
      "SF 다운로드...\n",
      "SI 다운로드...\n",
      "SM 다운로드...\n",
      "TU 다운로드...\n",
      "TY 다운로드...\n",
      "US 다운로드...\n",
      "VX 다운로드...\n",
      "W 다운로드...\n",
      "YM 다운로드...\n",
      "다운로드 완료\n"
     ]
    }
   ],
   "source": [
    "# http requests session 연결 후 종목별 다운로드\n",
    "print(\"서버 접속 시작\")\n",
    "with requests.Session() as session:\n",
    "    res = session.get(LoginURL)\n",
    "    if res.status_code != 200:\n",
    "        print(res.text)\n",
    "        session.close()\n",
    "        \n",
    "    for symbol in symbols:\n",
    "        print(f\"{symbol} 다운로드...\")\n",
    "        query['symbol'] = symbol\n",
    "        ret = session.get(\"http://api.kibot.com\", params=query)\n",
    "        \n",
    "        if ret.status_code != 200:\n",
    "            print(ret.text)\n",
    "            session.close()\n",
    "        \n",
    "        datalist = []    \n",
    "        for line in ret.text.splitlines():\n",
    "            quote = line.split(',')\n",
    "            date = quote[0].split('/')\n",
    "            date=np.datetime64('-'.join([date[2],date[0],date[1]])).astype('M8[D]').astype('i')\n",
    "            datalist.append((date,quote[1],quote[2],quote[3],quote[4],quote[5],'0'))\n",
    "        file.create_dataset(instruments.filter(kibot=symbol)[0].symbol, data=np.array(datalist, dtypes))\n",
    "file.close()\n",
    "print(\"다운로드 완료\")"
   ]
  },
  {
   "cell_type": "code",
   "execution_count": 19,
   "id": "c975cb9b",
   "metadata": {},
   "outputs": [],
   "source": [
    "file.close()"
   ]
  },
  {
   "cell_type": "markdown",
   "id": "03cf19b9",
   "metadata": {},
   "source": [
    "### 3. 데이터 검증"
   ]
  },
  {
   "cell_type": "code",
   "execution_count": 10,
   "id": "8619ea51",
   "metadata": {},
   "outputs": [],
   "source": [
    "import pandas as pd"
   ]
  },
  {
   "cell_type": "code",
   "execution_count": 11,
   "id": "78800336",
   "metadata": {},
   "outputs": [],
   "source": [
    "file = h5py.File(DATADIR, 'r')"
   ]
  },
  {
   "cell_type": "code",
   "execution_count": 12,
   "id": "e14b4d8b",
   "metadata": {},
   "outputs": [],
   "source": [
    "data = file['LE'][:]"
   ]
  },
  {
   "cell_type": "code",
   "execution_count": 13,
   "id": "a6a0b0e4",
   "metadata": {
    "scrolled": true
   },
   "outputs": [
    {
     "data": {
      "text/plain": [
       "array([(11764,  72.075,  72.3  ,  71.825,  72.15 ,    10, 0),\n",
       "       (11765,  71.95 ,  72.425,  71.225,  71.225,    10, 0),\n",
       "       (11766,  70.85 ,  71.6  ,  70.75 ,  70.95 ,    10, 0), ...,\n",
       "       (19088, 133.5  , 134.625, 132.475, 134.225, 22671, 0),\n",
       "       (19089, 134.375, 134.975, 134.025, 134.1  , 20005, 0),\n",
       "       (19090, 134.05 , 135.15 , 133.375, 133.825, 18948, 0)],\n",
       "      dtype=[('date', '<i4'), ('open', '<f4'), ('high', '<f4'), ('low', '<f4'), ('close', '<f4'), ('volume', '<i4'), ('open_interest', '<i4')])"
      ]
     },
     "execution_count": 13,
     "metadata": {},
     "output_type": "execute_result"
    }
   ],
   "source": [
    "data"
   ]
  },
  {
   "cell_type": "code",
   "execution_count": 14,
   "id": "7e7522d1",
   "metadata": {
    "scrolled": true
   },
   "outputs": [],
   "source": [
    "df = pd.DataFrame(data)\n",
    "df['date'] = df['date'].astype('M8[D]')\n",
    "df.set_index('date', inplace=True)"
   ]
  },
  {
   "cell_type": "code",
   "execution_count": 15,
   "id": "4bf64b51",
   "metadata": {},
   "outputs": [
    {
     "data": {
      "text/html": [
       "<div>\n",
       "<style scoped>\n",
       "    .dataframe tbody tr th:only-of-type {\n",
       "        vertical-align: middle;\n",
       "    }\n",
       "\n",
       "    .dataframe tbody tr th {\n",
       "        vertical-align: top;\n",
       "    }\n",
       "\n",
       "    .dataframe thead th {\n",
       "        text-align: right;\n",
       "    }\n",
       "</style>\n",
       "<table border=\"1\" class=\"dataframe\">\n",
       "  <thead>\n",
       "    <tr style=\"text-align: right;\">\n",
       "      <th></th>\n",
       "      <th>open</th>\n",
       "      <th>high</th>\n",
       "      <th>low</th>\n",
       "      <th>close</th>\n",
       "      <th>volume</th>\n",
       "      <th>open_interest</th>\n",
       "    </tr>\n",
       "    <tr>\n",
       "      <th>date</th>\n",
       "      <th></th>\n",
       "      <th></th>\n",
       "      <th></th>\n",
       "      <th></th>\n",
       "      <th></th>\n",
       "      <th></th>\n",
       "    </tr>\n",
       "  </thead>\n",
       "  <tbody>\n",
       "    <tr>\n",
       "      <th>2002-03-18</th>\n",
       "      <td>72.074997</td>\n",
       "      <td>72.300003</td>\n",
       "      <td>71.824997</td>\n",
       "      <td>72.150002</td>\n",
       "      <td>10</td>\n",
       "      <td>0</td>\n",
       "    </tr>\n",
       "    <tr>\n",
       "      <th>2002-03-19</th>\n",
       "      <td>71.949997</td>\n",
       "      <td>72.425003</td>\n",
       "      <td>71.224998</td>\n",
       "      <td>71.224998</td>\n",
       "      <td>10</td>\n",
       "      <td>0</td>\n",
       "    </tr>\n",
       "    <tr>\n",
       "      <th>2002-03-20</th>\n",
       "      <td>70.849998</td>\n",
       "      <td>71.599998</td>\n",
       "      <td>70.750000</td>\n",
       "      <td>70.949997</td>\n",
       "      <td>10</td>\n",
       "      <td>0</td>\n",
       "    </tr>\n",
       "    <tr>\n",
       "      <th>2002-03-21</th>\n",
       "      <td>70.525002</td>\n",
       "      <td>70.525002</td>\n",
       "      <td>70.525002</td>\n",
       "      <td>70.525002</td>\n",
       "      <td>10</td>\n",
       "      <td>0</td>\n",
       "    </tr>\n",
       "    <tr>\n",
       "      <th>2002-03-22</th>\n",
       "      <td>69.775002</td>\n",
       "      <td>69.775002</td>\n",
       "      <td>69.775002</td>\n",
       "      <td>69.775002</td>\n",
       "      <td>10</td>\n",
       "      <td>0</td>\n",
       "    </tr>\n",
       "    <tr>\n",
       "      <th>...</th>\n",
       "      <td>...</td>\n",
       "      <td>...</td>\n",
       "      <td>...</td>\n",
       "      <td>...</td>\n",
       "      <td>...</td>\n",
       "      <td>...</td>\n",
       "    </tr>\n",
       "    <tr>\n",
       "      <th>2022-04-04</th>\n",
       "      <td>135.399994</td>\n",
       "      <td>136.350006</td>\n",
       "      <td>133.875000</td>\n",
       "      <td>134.925003</td>\n",
       "      <td>23648</td>\n",
       "      <td>0</td>\n",
       "    </tr>\n",
       "    <tr>\n",
       "      <th>2022-04-05</th>\n",
       "      <td>135.199997</td>\n",
       "      <td>135.250000</td>\n",
       "      <td>133.100006</td>\n",
       "      <td>133.324997</td>\n",
       "      <td>24475</td>\n",
       "      <td>0</td>\n",
       "    </tr>\n",
       "    <tr>\n",
       "      <th>2022-04-06</th>\n",
       "      <td>133.500000</td>\n",
       "      <td>134.625000</td>\n",
       "      <td>132.475006</td>\n",
       "      <td>134.225006</td>\n",
       "      <td>22671</td>\n",
       "      <td>0</td>\n",
       "    </tr>\n",
       "    <tr>\n",
       "      <th>2022-04-07</th>\n",
       "      <td>134.375000</td>\n",
       "      <td>134.975006</td>\n",
       "      <td>134.024994</td>\n",
       "      <td>134.100006</td>\n",
       "      <td>20005</td>\n",
       "      <td>0</td>\n",
       "    </tr>\n",
       "    <tr>\n",
       "      <th>2022-04-08</th>\n",
       "      <td>134.050003</td>\n",
       "      <td>135.149994</td>\n",
       "      <td>133.375000</td>\n",
       "      <td>133.824997</td>\n",
       "      <td>18948</td>\n",
       "      <td>0</td>\n",
       "    </tr>\n",
       "  </tbody>\n",
       "</table>\n",
       "<p>5061 rows × 6 columns</p>\n",
       "</div>"
      ],
      "text/plain": [
       "                  open        high         low       close  volume  \\\n",
       "date                                                                 \n",
       "2002-03-18   72.074997   72.300003   71.824997   72.150002      10   \n",
       "2002-03-19   71.949997   72.425003   71.224998   71.224998      10   \n",
       "2002-03-20   70.849998   71.599998   70.750000   70.949997      10   \n",
       "2002-03-21   70.525002   70.525002   70.525002   70.525002      10   \n",
       "2002-03-22   69.775002   69.775002   69.775002   69.775002      10   \n",
       "...                ...         ...         ...         ...     ...   \n",
       "2022-04-04  135.399994  136.350006  133.875000  134.925003   23648   \n",
       "2022-04-05  135.199997  135.250000  133.100006  133.324997   24475   \n",
       "2022-04-06  133.500000  134.625000  132.475006  134.225006   22671   \n",
       "2022-04-07  134.375000  134.975006  134.024994  134.100006   20005   \n",
       "2022-04-08  134.050003  135.149994  133.375000  133.824997   18948   \n",
       "\n",
       "            open_interest  \n",
       "date                       \n",
       "2002-03-18              0  \n",
       "2002-03-19              0  \n",
       "2002-03-20              0  \n",
       "2002-03-21              0  \n",
       "2002-03-22              0  \n",
       "...                   ...  \n",
       "2022-04-04              0  \n",
       "2022-04-05              0  \n",
       "2022-04-06              0  \n",
       "2022-04-07              0  \n",
       "2022-04-08              0  \n",
       "\n",
       "[5061 rows x 6 columns]"
      ]
     },
     "execution_count": 15,
     "metadata": {},
     "output_type": "execute_result"
    }
   ],
   "source": [
    "df"
   ]
  },
  {
   "cell_type": "code",
   "execution_count": 16,
   "id": "2776bfdd",
   "metadata": {},
   "outputs": [],
   "source": [
    "from tools import ohlc_chart, view"
   ]
  },
  {
   "cell_type": "code",
   "execution_count": 17,
   "id": "d9738d8f",
   "metadata": {},
   "outputs": [
    {
     "data": {
      "image/png": "[encoded data removed]",
      "text/plain": [
       "<Figure size 1080x1080 with 1 Axes>"
      ]
     },
     "metadata": {
      "needs_background": "light"
     },
     "output_type": "display_data"
    }
   ],
   "source": [
    "view(df['2020-09-08':], period='day', size=(15,15),)"
   ]
  },
  {
   "cell_type": "code",
   "execution_count": null,
   "id": "fa664119",
   "metadata": {},
   "outputs": [],
   "source": []
  }
 ],
 "metadata": {
  "kernelspec": {
   "display_name": "Python 3 (ipykernel)",
   "language": "python",
   "name": "python3"
  },
  "language_info": {
   "codemirror_mode": {
    "name": "ipython",
    "version": 3
   },
   "file_extension": ".py",
   "mimetype": "text/x-python",
   "name": "python",
   "nbconvert_exporter": "python",
   "pygments_lexer": "ipython3",
   "version": "3.8.5"
  }
 },
 "nbformat": 4,
 "nbformat_minor": 5
}
