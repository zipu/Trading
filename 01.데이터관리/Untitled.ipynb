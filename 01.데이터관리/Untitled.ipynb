{
 "cells": [
  {
   "cell_type": "code",
   "execution_count": 2,
   "id": "d8748441",
   "metadata": {},
   "outputs": [],
   "source": [
    "import csv, os"
   ]
  },
  {
   "cell_type": "code",
   "execution_count": 3,
   "id": "3d93426a",
   "metadata": {},
   "outputs": [],
   "source": [
    "import sys\n",
    "sys.path.append('..')"
   ]
  },
  {
   "cell_type": "code",
   "execution_count": 7,
   "id": "248c65c6",
   "metadata": {},
   "outputs": [],
   "source": [
    "from tools.constants import INSTRUMENTS_FILEPATH"
   ]
  },
  {
   "cell_type": "code",
   "execution_count": 4,
   "id": "2080dd5f",
   "metadata": {},
   "outputs": [],
   "source": [
    "from tools.instruments import instruments"
   ]
  },
  {
   "cell_type": "code",
   "execution_count": 5,
   "id": "73009b6a",
   "metadata": {},
   "outputs": [
    {
     "data": {
      "text/plain": [
       "종목 정보 오브젝트"
      ]
     },
     "execution_count": 5,
     "metadata": {},
     "output_type": "execute_result"
    }
   ],
   "source": [
    "os.path.getmtime(path) "
   ]
  },
  {
   "cell_type": "code",
   "execution_count": 25,
   "id": "1965b974",
   "metadata": {},
   "outputs": [],
   "source": [
    "from tools import instruments"
   ]
  },
  {
   "cell_type": "code",
   "execution_count": 3,
   "id": "7044e730",
   "metadata": {},
   "outputs": [],
   "source": [
    "import importlib"
   ]
  },
  {
   "cell_type": "code",
   "execution_count": 20,
   "id": "910131be",
   "metadata": {},
   "outputs": [],
   "source": [
    "import imp"
   ]
  },
  {
   "cell_type": "code",
   "execution_count": 26,
   "id": "8e4de7d4",
   "metadata": {},
   "outputs": [
    {
     "data": {
      "text/plain": [
       "module"
      ]
     },
     "execution_count": 26,
     "metadata": {},
     "output_type": "execute_result"
    }
   ],
   "source": [
    "type(instruments)"
   ]
  },
  {
   "cell_type": "code",
   "execution_count": 37,
   "id": "a5639ddb",
   "metadata": {},
   "outputs": [
    {
     "data": {
      "text/plain": [
       "<module 'tools.instruments' from '..\\\\tools\\\\instruments.py'>"
      ]
     },
     "execution_count": 37,
     "metadata": {},
     "output_type": "execute_result"
    }
   ],
   "source": [
    "imp.reload(instruments)"
   ]
  },
  {
   "cell_type": "code",
   "execution_count": 38,
   "id": "40adb819",
   "metadata": {},
   "outputs": [
    {
     "data": {
      "text/plain": [
       "<module 'tools.instruments' from '..\\\\tools\\\\instruments.py'>"
      ]
     },
     "execution_count": 38,
     "metadata": {},
     "output_type": "execute_result"
    }
   ],
   "source": [
    "instruments"
   ]
  },
  {
   "cell_type": "code",
   "execution_count": 34,
   "id": "19e74a0c",
   "metadata": {},
   "outputs": [
    {
     "data": {
      "text/plain": [
       "<tools.instruments.Instruments at 0x174f97a5790>"
      ]
     },
     "execution_count": 34,
     "metadata": {},
     "output_type": "execute_result"
    }
   ],
   "source": [
    "ins"
   ]
  },
  {
   "cell_type": "code",
   "execution_count": 8,
   "id": "5bee6ad7",
   "metadata": {},
   "outputs": [
    {
     "data": {
      "text/plain": [
       "'interest-rate'"
      ]
     },
     "execution_count": 8,
     "metadata": {},
     "output_type": "execute_result"
    }
   ],
   "source": [
    "ins.dict['TU'].sector"
   ]
  },
  {
   "cell_type": "code",
   "execution_count": 6,
   "id": "3b886dd6",
   "metadata": {},
   "outputs": [
    {
     "data": {
      "text/plain": [
       "'<tools.instruments.Instruments object at 0x0000022D92ABFCA0>'"
      ]
     },
     "execution_count": 6,
     "metadata": {},
     "output_type": "execute_result"
    }
   ],
   "source": [
    "repr(ins)"
   ]
  },
  {
   "cell_type": "code",
   "execution_count": null,
   "id": "a71fbd8f",
   "metadata": {},
   "outputs": [],
   "source": []
  },
  {
   "cell_type": "code",
   "execution_count": 12,
   "id": "87665f47",
   "metadata": {},
   "outputs": [],
   "source": [
    "DATADIR = os.path.join('..','data')"
   ]
  },
  {
   "cell_type": "code",
   "execution_count": null,
   "id": "75e57d32",
   "metadata": {},
   "outputs": [],
   "source": [
    "class Instrument:\n",
    "    "
   ]
  },
  {
   "cell_type": "code",
   "execution_count": 72,
   "id": "973c95ff",
   "metadata": {},
   "outputs": [],
   "source": [
    "class Instruments:\n",
    "    \"\"\"\n",
    "    종목(instrument) 정보를 나타내는 클래스\n",
    "    root/data/instruments.csv 에 저장된 내용을 오브젝트화 한다\n",
    "    \"\"\"\n",
    "    _filepath = os.path.join(DATADIR, 'instruments.csv')\n",
    "    \n",
    "    def __init__(self):\n",
    "        self.dict = dict()\n",
    "        with open(Instruments._filepath, 'r') as instrument_raw:\n",
    "            for line in csv.DictReader(instrument_raw):\n",
    "                self.dict[line['symbol']] = line\n",
    "    \n",
    "    def get(self, symbol):\n",
    "        \"\"\" \n",
    "        종목코드에 해당하는 종목 정보를 반환\n",
    "        symbol(string) : 종목코드\n",
    "        \"\"\"\n",
    "        return self.dict[symbol]\n",
    "    \n",
    "    def getlist(self, field):\n",
    "        \"\"\"\n",
    "        field(string) 값을 리스트로 반환\n",
    "        \"\"\"\n",
    "        lists = []\n",
    "        for symbol in self.dict.values():\n",
    "            if symbol[field]:\n",
    "                lists.append(symbol[field])\n",
    "                \n",
    "        return lists\n"
   ]
  },
  {
   "cell_type": "code",
   "execution_count": 73,
   "id": "8f8c5207",
   "metadata": {},
   "outputs": [],
   "source": [
    "ins = Instruments()"
   ]
  },
  {
   "cell_type": "code",
   "execution_count": 74,
   "id": "5b781ec2",
   "metadata": {},
   "outputs": [
    {
     "data": {
      "text/plain": [
       "['AD',\n",
       " 'BO',\n",
       " 'BP',\n",
       " 'CD',\n",
       " 'CL',\n",
       " 'EU',\n",
       " 'ED',\n",
       " 'ES',\n",
       " 'FF',\n",
       " 'FV',\n",
       " 'GC',\n",
       " 'HG',\n",
       " 'JY',\n",
       " 'LB',\n",
       " 'LE',\n",
       " 'HE',\n",
       " 'EMD',\n",
       " 'NE',\n",
       " 'NG',\n",
       " 'NKD',\n",
       " 'NQ',\n",
       " 'O',\n",
       " 'PA',\n",
       " 'PL',\n",
       " 'RR',\n",
       " 'RTY',\n",
       " 'S',\n",
       " 'SF',\n",
       " 'SI',\n",
       " 'SM',\n",
       " 'TU',\n",
       " 'TY',\n",
       " 'US',\n",
       " 'VX',\n",
       " 'W',\n",
       " 'YM']"
      ]
     },
     "execution_count": 74,
     "metadata": {},
     "output_type": "execute_result"
    }
   ],
   "source": [
    "ins.getlist('kibot')"
   ]
  },
  {
   "cell_type": "code",
   "execution_count": 14,
   "id": "fe2aedfe",
   "metadata": {},
   "outputs": [
    {
     "ename": "FileNotFoundError",
     "evalue": "[Errno 2] No such file or directory: 'ㅇ'",
     "output_type": "error",
     "traceback": [
      "\u001b[1;31m---------------------------------------------------------------------------\u001b[0m",
      "\u001b[1;31mFileNotFoundError\u001b[0m                         Traceback (most recent call last)",
      "\u001b[1;32m~\\AppData\\Local\\Temp/ipykernel_16608/1069316255.py\u001b[0m in \u001b[0;36m<module>\u001b[1;34m\u001b[0m\n\u001b[0;32m      1\u001b[0m \u001b[0minstruments\u001b[0m \u001b[1;33m=\u001b[0m \u001b[0mdict\u001b[0m\u001b[1;33m(\u001b[0m\u001b[1;33m)\u001b[0m\u001b[1;33m\u001b[0m\u001b[1;33m\u001b[0m\u001b[0m\n\u001b[1;32m----> 2\u001b[1;33m \u001b[1;32mwith\u001b[0m \u001b[0mopen\u001b[0m\u001b[1;33m(\u001b[0m\u001b[1;34m'ㅇ'\u001b[0m\u001b[1;33m,\u001b[0m \u001b[1;34m'r'\u001b[0m\u001b[1;33m)\u001b[0m \u001b[1;32mas\u001b[0m \u001b[0mdata\u001b[0m\u001b[1;33m:\u001b[0m\u001b[1;33m\u001b[0m\u001b[1;33m\u001b[0m\u001b[0m\n\u001b[0m\u001b[0;32m      3\u001b[0m \u001b[1;33m\u001b[0m\u001b[0m\n\u001b[0;32m      4\u001b[0m     \u001b[1;32mfor\u001b[0m \u001b[0mline\u001b[0m \u001b[1;32min\u001b[0m \u001b[0mcsv\u001b[0m\u001b[1;33m.\u001b[0m\u001b[0mDictReader\u001b[0m\u001b[1;33m(\u001b[0m\u001b[0mdata\u001b[0m\u001b[1;33m)\u001b[0m\u001b[1;33m:\u001b[0m\u001b[1;33m\u001b[0m\u001b[1;33m\u001b[0m\u001b[0m\n\u001b[0;32m      5\u001b[0m         \u001b[0mprint\u001b[0m\u001b[1;33m(\u001b[0m\u001b[0mline\u001b[0m\u001b[1;33m)\u001b[0m\u001b[1;33m\u001b[0m\u001b[1;33m\u001b[0m\u001b[0m\n",
      "\u001b[1;31mFileNotFoundError\u001b[0m: [Errno 2] No such file or directory: 'ㅇ'"
     ]
    }
   ],
   "source": [
    "instruments = dict()\n",
    "with open('ㅇ', 'r') as data:\n",
    "      \n",
    "    for line in csv.DictReader(data):\n",
    "        print(line)"
   ]
  },
  {
   "cell_type": "code",
   "execution_count": null,
   "id": "f5355e3c",
   "metadata": {},
   "outputs": [],
   "source": []
  },
  {
   "cell_type": "code",
   "execution_count": 3,
   "id": "df1b5d13",
   "metadata": {},
   "outputs": [
    {
     "data": {
      "text/plain": [
       "{'Symbol': 'Globex Symbol',\n",
       " 'AD': '6A',\n",
       " 'AL': '',\n",
       " 'ATW': '',\n",
       " 'B': '',\n",
       " 'BO': 'ZL',\n",
       " 'BP': 'B6',\n",
       " 'C': '',\n",
       " 'CC': '',\n",
       " 'CD': 'D6',\n",
       " 'CL': 'CL',\n",
       " 'CT': '',\n",
       " 'CU': '',\n",
       " 'DA': '',\n",
       " 'DX': '',\n",
       " 'EC': '6E',\n",
       " 'ED': 'GE',\n",
       " 'ES': 'ES',\n",
       " 'FBTP': '',\n",
       " 'FDAX': '',\n",
       " 'FESX': '',\n",
       " 'FF': 'ZQ',\n",
       " 'FGBL': '',\n",
       " 'FGBM': '',\n",
       " 'FGBS': '',\n",
       " 'FOAT': '',\n",
       " 'FV': 'ZF',\n",
       " 'G': '',\n",
       " 'GC': 'GC',\n",
       " 'HG': 'HG',\n",
       " 'HO': 'HO',\n",
       " 'I': '',\n",
       " 'JY': '6J',\n",
       " 'KC': '',\n",
       " 'KW': 'KE',\n",
       " 'L': '',\n",
       " 'LB': '',\n",
       " 'LC': 'LE',\n",
       " 'LN': 'HE',\n",
       " 'M': '',\n",
       " 'MD': 'MD',\n",
       " 'MP': '',\n",
       " 'MW': '',\n",
       " 'NE': '6N',\n",
       " 'NG': 'NG',\n",
       " 'NK': 'NKD',\n",
       " 'NQ': 'NQ',\n",
       " 'O': '',\n",
       " 'OJ': '',\n",
       " 'PA': 'PA',\n",
       " 'PB': '',\n",
       " 'PL': 'PL',\n",
       " 'R': '',\n",
       " 'RB': '',\n",
       " 'RF': '',\n",
       " 'RR': '',\n",
       " 'RS1': '',\n",
       " 'RTY': '',\n",
       " 'RU': '',\n",
       " 'S': 'ZS',\n",
       " 'SB': '',\n",
       " 'SF': '6S',\n",
       " 'SI': 'SI',\n",
       " 'SM': 'ZM',\n",
       " 'SP': 'SP',\n",
       " 'SXF': '',\n",
       " 'T': '',\n",
       " 'TF': '',\n",
       " 'TU': 'ZT',\n",
       " 'TY': 'ZN',\n",
       " 'US': 'ZB',\n",
       " 'VX': '',\n",
       " 'W': 'ZW',\n",
       " 'YM': '',\n",
       " 'Z': '',\n",
       " 'ZN': '',\n",
       " '': ''}"
      ]
     },
     "execution_count": 3,
     "metadata": {},
     "output_type": "execute_result"
    }
   ],
   "source": [
    "mydict"
   ]
  },
  {
   "cell_type": "code",
   "execution_count": null,
   "id": "2d321259",
   "metadata": {},
   "outputs": [],
   "source": []
  }
 ],
 "metadata": {
  "kernelspec": {
   "display_name": "Python 3 (ipykernel)",
   "language": "python",
   "name": "python3"
  },
  "language_info": {
   "codemirror_mode": {
    "name": "ipython",
    "version": 3
   },
   "file_extension": ".py",
   "mimetype": "text/x-python",
   "name": "python",
   "nbconvert_exporter": "python",
   "pygments_lexer": "ipython3",
   "version": "3.8.5"
  }
 },
 "nbformat": 4,
 "nbformat_minor": 5
}
