{
 "cells": [
  {
   "cell_type": "markdown",
   "id": "2c4d8ab1",
   "metadata": {},
   "source": [
    "## Kibot.com 에서 제공하는 선물 일별가격 다운로드"
   ]
  },
  {
   "cell_type": "code",
   "execution_count": 2,
   "id": "5312c2d1",
   "metadata": {},
   "outputs": [],
   "source": [
    "import requests"
   ]
  },
  {
   "cell_type": "code",
   "execution_count": 4,
   "id": "60dcee1c",
   "metadata": {},
   "outputs": [],
   "source": [
    "LoginURL = \"http://api.kibot.com?action=login&user=guest&password=guest\"\n",
    "DataRequestURL = \"http://api.kibot.com?action=history&symbol=msft&interval=daily&period=10\"\n",
    "LogoutURL = \"http://api.kibot.com?action=logout\""
   ]
  },
  {
   "cell_type": "code",
   "execution_count": 16,
   "id": "8f9a5e9a",
   "metadata": {},
   "outputs": [],
   "source": [
    "instrument={\n",
    "    'action': 'history',\n",
    "    'symbol': 'allsymbols',\n",
    "    'interval': 'daily',\n",
    "    'type': 'futures',\n",
    "    'period': '1'#'99999'\n",
    "}"
   ]
  },
  {
   "cell_type": "code",
   "execution_count": 5,
   "id": "c98f3074",
   "metadata": {},
   "outputs": [],
   "source": [
    "res = requests.get(LoginURL)"
   ]
  },
  {
   "cell_type": "code",
   "execution_count": 17,
   "id": "2776bfdd",
   "metadata": {},
   "outputs": [],
   "source": [
    "res = requests.get(\"http://api.kibot.com\", params=instrument)"
   ]
  },
  {
   "cell_type": "code",
   "execution_count": 18,
   "id": "d221e27f",
   "metadata": {},
   "outputs": [
    {
     "data": {
      "text/plain": [
       "'404 Symbol Not Found405 Data Not Found.\\r\\nNo data found for the specified period for ALLSYMBOLS.'"
      ]
     },
     "execution_count": 18,
     "metadata": {},
     "output_type": "execute_result"
    }
   ],
   "source": [
    "res.text"
   ]
  },
  {
   "cell_type": "code",
   "execution_count": 19,
   "id": "064c2d40",
   "metadata": {},
   "outputs": [
    {
     "data": {
      "text/plain": [
       "<Response [200]>"
      ]
     },
     "execution_count": 19,
     "metadata": {},
     "output_type": "execute_result"
    }
   ],
   "source": [
    "requests.get(LogoutURL)"
   ]
  },
  {
   "cell_type": "code",
   "execution_count": null,
   "id": "99437a5d",
   "metadata": {},
   "outputs": [],
   "source": []
  }
 ],
 "metadata": {
  "kernelspec": {
   "display_name": "Python 3 (ipykernel)",
   "language": "python",
   "name": "python3"
  },
  "language_info": {
   "codemirror_mode": {
    "name": "ipython",
    "version": 3
   },
   "file_extension": ".py",
   "mimetype": "text/x-python",
   "name": "python",
   "nbconvert_exporter": "python",
   "pygments_lexer": "ipython3",
   "version": "3.8.5"
  }
 },
 "nbformat": 4,
 "nbformat_minor": 5
}
