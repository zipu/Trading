{
 "cells": [
  {
   "cell_type": "markdown",
   "metadata": {},
   "source": [
    "### 연결선물 데이터 생성\n",
    "1. 종목(월물) 30분 OHLC 데이터: rawminute.db\n",
    "2. 차월물의 거래량이 최근 2 거래일 연속 많으면 액티브 월물 변경\n",
    "3. 가격 보정 방식: + 최근 2거래일 가격데이터의 차"
   ]
  },
  {
   "cell_type": "code",
   "execution_count": 1,
   "metadata": {},
   "outputs": [],
   "source": [
    "import os, sys, pickle\n",
    "sys.path.append('../')\n",
    "sys.path.append('../scripts')\n",
    "import tables as tb\n",
    "import numpy as np\n",
    "import pandas as pd\n",
    "import matplotlib.pyplot as plt\n",
    "from models import OHLC, Products, Product\n",
    "from tools import ohlc_chart, view"
   ]
  },
  {
   "cell_type": "code",
   "execution_count": 2,
   "metadata": {},
   "outputs": [],
   "source": [
    "\"\"\" DB 로드\"\"\"\n",
    "products = pickle.load(open('../data/products.pkl', 'rb')) #종목정보\n",
    "#db = tb.open_file('../dataohlc.db', mode='r')\n",
    "#filters = tb.Filters(complib='blosc', complevel=9)\n",
    "#db = tb.open_file('../data/ohlc.db', mode='a', filters=filters) #분데이터 db 로드"
   ]
  },
  {
   "cell_type": "code",
   "execution_count": 50,
   "metadata": {},
   "outputs": [],
   "source": [
    "def create_continuous_futures(product):\n",
    "    filters = tb.Filters(complib='blosc', complevel=9)\n",
    "    db =  tb.open_file('../data/ohlc.db', mode='a', filters=filters) #분데이터 db 로드\n",
    "    contracts = iter(product.values())\n",
    "    if not hasattr(db.root, product.symbol):\n",
    "        tbl = db.create_table(\"/\", product.symbol, OHLC, product.name)\n",
    "        active = next(contracts) #첫 월물을 액티브월물로\n",
    "        tbl.attrs['active'] = active.symbol\n",
    "        following = next(contracts, None)\n",
    "        start = min(active.rawdata()['date']).astype('M8[s]')\n",
    "    else:\n",
    "        tbl = db.root[product.symbol]\n",
    "        active = product[tbl.attrs.active]\n",
    "        while next(contracts).symbol != active.symbol: pass\n",
    "        following = next(contracts, None) #차월물\n",
    "        start = max(tbl.cols.date).astype('M8[s]')\n",
    "        \n",
    "    end = np.datetime64(product.lastupdate).astype('M8[s]')\n",
    "    \n",
    "    \n",
    "    \n",
    "    db.flush()\n",
    "    db.close()"
   ]
  },
  {
   "cell_type": "code",
   "execution_count": null,
   "metadata": {},
   "outputs": [],
   "source": [
    "def compare_volume(date, active, following):\n",
    "    dlist = []\n",
    "    ohlc1 = active.ohlc(period='day')\n",
    "    df = pd.concat([[active.ohlc(period)]])\n",
    "    for \n",
    "    "
   ]
  },
  {
   "cell_type": "code",
   "execution_count": 48,
   "metadata": {},
   "outputs": [],
   "source": [
    "create_continuous_futures(product)"
   ]
  },
  {
   "cell_type": "code",
   "execution_count": 3,
   "metadata": {},
   "outputs": [],
   "source": [
    "p = products['AD']"
   ]
  },
  {
   "cell_type": "code",
   "execution_count": 20,
   "metadata": {},
   "outputs": [
    {
     "data": {
      "text/plain": [
       "numpy.datetime64('2019-02-17T16:37:39')"
      ]
     },
     "execution_count": 20,
     "metadata": {},
     "output_type": "execute_result"
    }
   ],
   "source": [
    "np.datetime64(p.lastupdate).astype('M8[s]')"
   ]
  },
  {
   "cell_type": "code",
   "execution_count": 15,
   "metadata": {},
   "outputs": [],
   "source": [
    "start = max(p['ADH19'].rawdata()['date']).astype('M8[s]')"
   ]
  },
  {
   "cell_type": "code",
   "execution_count": 12,
   "metadata": {},
   "outputs": [],
   "source": [
    "df = p['ADH19'].ohlc()"
   ]
  },
  {
   "cell_type": "code",
   "execution_count": 17,
   "metadata": {},
   "outputs": [
    {
     "data": {
      "text/html": [
       "<div>\n",
       "<style scoped>\n",
       "    .dataframe tbody tr th:only-of-type {\n",
       "        vertical-align: middle;\n",
       "    }\n",
       "\n",
       "    .dataframe tbody tr th {\n",
       "        vertical-align: top;\n",
       "    }\n",
       "\n",
       "    .dataframe thead th {\n",
       "        text-align: right;\n",
       "    }\n",
       "</style>\n",
       "<table border=\"1\" class=\"dataframe\">\n",
       "  <thead>\n",
       "    <tr style=\"text-align: right;\">\n",
       "      <th></th>\n",
       "      <th>open</th>\n",
       "      <th>high</th>\n",
       "      <th>low</th>\n",
       "      <th>close</th>\n",
       "      <th>volume</th>\n",
       "    </tr>\n",
       "  </thead>\n",
       "  <tbody>\n",
       "  </tbody>\n",
       "</table>\n",
       "</div>"
      ],
      "text/plain": [
       "Empty DataFrame\n",
       "Columns: [open, high, low, close, volume]\n",
       "Index: []"
      ]
     },
     "execution_count": 17,
     "metadata": {},
     "output_type": "execute_result"
    }
   ],
   "source": [
    "df[df.index>start]"
   ]
  },
  {
   "cell_type": "code",
   "execution_count": 70,
   "metadata": {},
   "outputs": [],
   "source": [
    "d=pd.concat([p['ADH19'].ohlc(period='day')['volume'],p['ADM19'].ohlc(period='day')['volume'] ],keys=['a','b'], axis=1)"
   ]
  },
  {
   "cell_type": "code",
   "execution_count": 80,
   "metadata": {},
   "outputs": [
    {
     "data": {
      "text/plain": [
       "Timestamp('2019-02-08 00:30:00')"
      ]
     },
     "execution_count": 80,
     "metadata": {},
     "output_type": "execute_result"
    }
   ],
   "source": [
    "p['ADH19'].ohlc().iloc[0].name"
   ]
  },
  {
   "cell_type": "code",
   "execution_count": 38,
   "metadata": {},
   "outputs": [],
   "source": [
    "d['diff'] = d['b']-d['a']"
   ]
  },
  {
   "cell_type": "code",
   "execution_count": 48,
   "metadata": {},
   "outputs": [
    {
     "data": {
      "text/plain": [
       "2019-02-07    NaN\n",
       "2019-02-08    NaN\n",
       "2019-02-11    1.0\n",
       "2019-02-12    1.0\n",
       "2019-02-13    NaN\n",
       "2019-02-14    9.0\n",
       "2019-02-15    1.0\n",
       "Freq: B, Name: c, dtype: float64"
      ]
     },
     "execution_count": 48,
     "metadata": {},
     "output_type": "execute_result"
    }
   ],
   "source": [
    "d['c']"
   ]
  },
  {
   "cell_type": "code",
   "execution_count": 54,
   "metadata": {},
   "outputs": [],
   "source": [
    "d['diff']=(d['b'].astype('float64') - d['a'].astype('float64'))"
   ]
  },
  {
   "cell_type": "code",
   "execution_count": 58,
   "metadata": {},
   "outputs": [
    {
     "data": {
      "text/html": [
       "<div>\n",
       "<style scoped>\n",
       "    .dataframe tbody tr th:only-of-type {\n",
       "        vertical-align: middle;\n",
       "    }\n",
       "\n",
       "    .dataframe tbody tr th {\n",
       "        vertical-align: top;\n",
       "    }\n",
       "\n",
       "    .dataframe thead th {\n",
       "        text-align: right;\n",
       "    }\n",
       "</style>\n",
       "<table border=\"1\" class=\"dataframe\">\n",
       "  <thead>\n",
       "    <tr style=\"text-align: right;\">\n",
       "      <th></th>\n",
       "      <th>a</th>\n",
       "      <th>b</th>\n",
       "      <th>c</th>\n",
       "      <th>diff</th>\n",
       "      <th>d</th>\n",
       "    </tr>\n",
       "  </thead>\n",
       "  <tbody>\n",
       "    <tr>\n",
       "      <th>2019-02-07</th>\n",
       "      <td>29248</td>\n",
       "      <td>67</td>\n",
       "      <td>NaN</td>\n",
       "      <td>-29181.0</td>\n",
       "      <td>-29181.0</td>\n",
       "    </tr>\n",
       "    <tr>\n",
       "      <th>2019-02-08</th>\n",
       "      <td>95373</td>\n",
       "      <td>137</td>\n",
       "      <td>NaN</td>\n",
       "      <td>-95236.0</td>\n",
       "      <td>-95236.0</td>\n",
       "    </tr>\n",
       "    <tr>\n",
       "      <th>2019-02-11</th>\n",
       "      <td>75156</td>\n",
       "      <td>319</td>\n",
       "      <td>1.0</td>\n",
       "      <td>-74837.0</td>\n",
       "      <td>-74837.0</td>\n",
       "    </tr>\n",
       "    <tr>\n",
       "      <th>2019-02-12</th>\n",
       "      <td>82914</td>\n",
       "      <td>11</td>\n",
       "      <td>1.0</td>\n",
       "      <td>-82903.0</td>\n",
       "      <td>-82903.0</td>\n",
       "    </tr>\n",
       "    <tr>\n",
       "      <th>2019-02-13</th>\n",
       "      <td>93436</td>\n",
       "      <td>496</td>\n",
       "      <td>NaN</td>\n",
       "      <td>-92940.0</td>\n",
       "      <td>-92940.0</td>\n",
       "    </tr>\n",
       "    <tr>\n",
       "      <th>2019-02-14</th>\n",
       "      <td>92283</td>\n",
       "      <td>141</td>\n",
       "      <td>9.0</td>\n",
       "      <td>-92142.0</td>\n",
       "      <td>-92142.0</td>\n",
       "    </tr>\n",
       "    <tr>\n",
       "      <th>2019-02-15</th>\n",
       "      <td>83284</td>\n",
       "      <td>151</td>\n",
       "      <td>1.0</td>\n",
       "      <td>-83133.0</td>\n",
       "      <td>-83133.0</td>\n",
       "    </tr>\n",
       "  </tbody>\n",
       "</table>\n",
       "</div>"
      ],
      "text/plain": [
       "                a    b    c     diff        d\n",
       "2019-02-07  29248   67  NaN -29181.0 -29181.0\n",
       "2019-02-08  95373  137  NaN -95236.0 -95236.0\n",
       "2019-02-11  75156  319  1.0 -74837.0 -74837.0\n",
       "2019-02-12  82914   11  1.0 -82903.0 -82903.0\n",
       "2019-02-13  93436  496  NaN -92940.0 -92940.0\n",
       "2019-02-14  92283  141  9.0 -92142.0 -92142.0\n",
       "2019-02-15  83284  151  1.0 -83133.0 -83133.0"
      ]
     },
     "execution_count": 58,
     "metadata": {},
     "output_type": "execute_result"
    }
   ],
   "source": [
    "d"
   ]
  },
  {
   "cell_type": "code",
   "execution_count": 61,
   "metadata": {},
   "outputs": [],
   "source": [
    "d.drop(['d'], axis=1, inplace=True)"
   ]
  },
  {
   "cell_type": "code",
   "execution_count": 62,
   "metadata": {},
   "outputs": [
    {
     "data": {
      "text/html": [
       "<div>\n",
       "<style scoped>\n",
       "    .dataframe tbody tr th:only-of-type {\n",
       "        vertical-align: middle;\n",
       "    }\n",
       "\n",
       "    .dataframe tbody tr th {\n",
       "        vertical-align: top;\n",
       "    }\n",
       "\n",
       "    .dataframe thead th {\n",
       "        text-align: right;\n",
       "    }\n",
       "</style>\n",
       "<table border=\"1\" class=\"dataframe\">\n",
       "  <thead>\n",
       "    <tr style=\"text-align: right;\">\n",
       "      <th></th>\n",
       "      <th>a</th>\n",
       "      <th>b</th>\n",
       "      <th>c</th>\n",
       "      <th>diff</th>\n",
       "    </tr>\n",
       "  </thead>\n",
       "  <tbody>\n",
       "    <tr>\n",
       "      <th>2019-02-07</th>\n",
       "      <td>29248</td>\n",
       "      <td>67</td>\n",
       "      <td>NaN</td>\n",
       "      <td>-29181.0</td>\n",
       "    </tr>\n",
       "    <tr>\n",
       "      <th>2019-02-08</th>\n",
       "      <td>95373</td>\n",
       "      <td>137</td>\n",
       "      <td>NaN</td>\n",
       "      <td>-95236.0</td>\n",
       "    </tr>\n",
       "    <tr>\n",
       "      <th>2019-02-11</th>\n",
       "      <td>75156</td>\n",
       "      <td>319</td>\n",
       "      <td>1.0</td>\n",
       "      <td>-74837.0</td>\n",
       "    </tr>\n",
       "    <tr>\n",
       "      <th>2019-02-12</th>\n",
       "      <td>82914</td>\n",
       "      <td>11</td>\n",
       "      <td>1.0</td>\n",
       "      <td>-82903.0</td>\n",
       "    </tr>\n",
       "    <tr>\n",
       "      <th>2019-02-13</th>\n",
       "      <td>93436</td>\n",
       "      <td>496</td>\n",
       "      <td>NaN</td>\n",
       "      <td>-92940.0</td>\n",
       "    </tr>\n",
       "    <tr>\n",
       "      <th>2019-02-14</th>\n",
       "      <td>92283</td>\n",
       "      <td>141</td>\n",
       "      <td>9.0</td>\n",
       "      <td>-92142.0</td>\n",
       "    </tr>\n",
       "    <tr>\n",
       "      <th>2019-02-15</th>\n",
       "      <td>83284</td>\n",
       "      <td>151</td>\n",
       "      <td>1.0</td>\n",
       "      <td>-83133.0</td>\n",
       "    </tr>\n",
       "  </tbody>\n",
       "</table>\n",
       "</div>"
      ],
      "text/plain": [
       "                a    b    c     diff\n",
       "2019-02-07  29248   67  NaN -29181.0\n",
       "2019-02-08  95373  137  NaN -95236.0\n",
       "2019-02-11  75156  319  1.0 -74837.0\n",
       "2019-02-12  82914   11  1.0 -82903.0\n",
       "2019-02-13  93436  496  NaN -92940.0\n",
       "2019-02-14  92283  141  9.0 -92142.0\n",
       "2019-02-15  83284  151  1.0 -83133.0"
      ]
     },
     "execution_count": 62,
     "metadata": {},
     "output_type": "execute_result"
    }
   ],
   "source": [
    "d['e'] = d[]"
   ]
  },
  {
   "cell_type": "code",
   "execution_count": 31,
   "metadata": {},
   "outputs": [
    {
     "name": "stdout",
     "output_type": "stream",
     "text": [
      "E-mini Euro FX\n",
      "Mini-DAX\n",
      "Mid-Term Euro-OAT\n",
      "CES China 120\n",
      "Mini H-Shares\n",
      "Mini Hang Seng\n",
      "E-mini Japanese Yen\n",
      "E-micro AUD/USD\n",
      "E-micro GBP/USD\n",
      "E-micro EUR/USD\n",
      "E-micro CAD/USD\n",
      "E-micro Gold\n",
      "E-micro JPY/USD\n",
      "Mexican Peso\n",
      "E-mini Copper\n",
      "miNY Natural Gas\n",
      "miNY Crude Oil\n",
      "SGX MSCI China\n",
      "SGX KRW/USD FX\n",
      "SGX Mini Nikkei 225\n",
      "SGX USD Nikkei 225\n",
      "SGX USD/CNH FX\n",
      "Mini Corn\n",
      "Mini Soybean\n",
      "Mini Wheat\n",
      "Mini Gold\n",
      "Mini Silver\n"
     ]
    }
   ],
   "source": [
    "for p in products.values():\n",
    "    if p.symbol in Products.EXCEPTIONS:\n",
    "        print(p.name)\n",
    "        continue\n",
    "    tbl = db.create_table('/', p.symbol, OHLC, p.name)\n",
    "    tbl.cols.date.create_csindex()\n",
    "    tbl.flush()"
   ]
  },
  {
   "cell_type": "code",
   "execution_count": 32,
   "metadata": {},
   "outputs": [],
   "source": [
    "db.close()"
   ]
  },
  {
   "cell_type": "code",
   "execution_count": 5,
   "metadata": {},
   "outputs": [
    {
     "data": {
      "text/html": [
       "<div>\n",
       "<style scoped>\n",
       "    .dataframe tbody tr th:only-of-type {\n",
       "        vertical-align: middle;\n",
       "    }\n",
       "\n",
       "    .dataframe tbody tr th {\n",
       "        vertical-align: top;\n",
       "    }\n",
       "\n",
       "    .dataframe thead th {\n",
       "        text-align: right;\n",
       "    }\n",
       "</style>\n",
       "<table border=\"1\" class=\"dataframe\">\n",
       "  <thead>\n",
       "    <tr style=\"text-align: right;\">\n",
       "      <th></th>\n",
       "      <th>open</th>\n",
       "      <th>high</th>\n",
       "      <th>low</th>\n",
       "      <th>close</th>\n",
       "      <th>volume</th>\n",
       "    </tr>\n",
       "  </thead>\n",
       "  <tbody>\n",
       "    <tr>\n",
       "      <th>2019-02-07</th>\n",
       "      <td>0.7115</td>\n",
       "      <td>0.7117</td>\n",
       "      <td>0.7093</td>\n",
       "      <td>0.7107</td>\n",
       "      <td>29248</td>\n",
       "    </tr>\n",
       "    <tr>\n",
       "      <th>2019-02-08</th>\n",
       "      <td>0.7101</td>\n",
       "      <td>0.7106</td>\n",
       "      <td>0.7064</td>\n",
       "      <td>0.7092</td>\n",
       "      <td>95373</td>\n",
       "    </tr>\n",
       "    <tr>\n",
       "      <th>2019-02-11</th>\n",
       "      <td>0.7093</td>\n",
       "      <td>0.7112</td>\n",
       "      <td>0.7061</td>\n",
       "      <td>0.7066</td>\n",
       "      <td>75156</td>\n",
       "    </tr>\n",
       "    <tr>\n",
       "      <th>2019-02-12</th>\n",
       "      <td>0.7063</td>\n",
       "      <td>0.7107</td>\n",
       "      <td>0.7058</td>\n",
       "      <td>0.7100</td>\n",
       "      <td>82914</td>\n",
       "    </tr>\n",
       "    <tr>\n",
       "      <th>2019-02-13</th>\n",
       "      <td>0.7099</td>\n",
       "      <td>0.7139</td>\n",
       "      <td>0.7090</td>\n",
       "      <td>0.7094</td>\n",
       "      <td>93436</td>\n",
       "    </tr>\n",
       "    <tr>\n",
       "      <th>2019-02-14</th>\n",
       "      <td>0.7093</td>\n",
       "      <td>0.7135</td>\n",
       "      <td>0.7074</td>\n",
       "      <td>0.7107</td>\n",
       "      <td>92283</td>\n",
       "    </tr>\n",
       "    <tr>\n",
       "      <th>2019-02-15</th>\n",
       "      <td>0.7105</td>\n",
       "      <td>0.7152</td>\n",
       "      <td>0.7083</td>\n",
       "      <td>0.7143</td>\n",
       "      <td>83284</td>\n",
       "    </tr>\n",
       "  </tbody>\n",
       "</table>\n",
       "</div>"
      ],
      "text/plain": [
       "              open    high     low   close  volume\n",
       "2019-02-07  0.7115  0.7117  0.7093  0.7107   29248\n",
       "2019-02-08  0.7101  0.7106  0.7064  0.7092   95373\n",
       "2019-02-11  0.7093  0.7112  0.7061  0.7066   75156\n",
       "2019-02-12  0.7063  0.7107  0.7058  0.7100   82914\n",
       "2019-02-13  0.7099  0.7139  0.7090  0.7094   93436\n",
       "2019-02-14  0.7093  0.7135  0.7074  0.7107   92283\n",
       "2019-02-15  0.7105  0.7152  0.7083  0.7143   83284"
      ]
     },
     "execution_count": 5,
     "metadata": {},
     "output_type": "execute_result"
    }
   ],
   "source": [
    "\n",
    "products.get_contract('ADH19').ohlc(period='day')"
   ]
  },
  {
   "cell_type": "code",
   "execution_count": null,
   "metadata": {},
   "outputs": [],
   "source": []
  },
  {
   "cell_type": "code",
   "execution_count": 10,
   "metadata": {},
   "outputs": [
    {
     "data": {
      "image/png": "[encoded data removed]",
      "text/plain": [
       "<Figure size 720x432 with 1 Axes>"
      ]
     },
     "metadata": {
      "needs_background": "light"
     },
     "output_type": "display_data"
    }
   ],
   "source": [
    "view(ohlc(data, period='minute'), period='minute', colors=['r','b'])"
   ]
  },
  {
   "cell_type": "code",
   "execution_count": 26,
   "metadata": {},
   "outputs": [
    {
     "data": {
      "text/plain": [
       "<matplotlib.collections.LineCollection at 0x1b35870>"
      ]
     },
     "execution_count": 26,
     "metadata": {},
     "output_type": "execute_result"
    },
    {
     "data": {
      "image/png": "[encoded data removed]",
      "text/plain": [
       "<Figure size 432x288 with 1 Axes>"
      ]
     },
     "metadata": {
      "needs_background": "light"
     },
     "output_type": "display_data"
    }
   ],
   "source": [
    "d = ohlc(data, period='minute')\n",
    "ax = plt.subplot()\n",
    "ax.vlines(d.index, 0, d['volume'], linewidth=1)"
   ]
  },
  {
   "cell_type": "code",
   "execution_count": null,
   "metadata": {},
   "outputs": [],
   "source": []
  }
 ],
 "metadata": {
  "kernelspec": {
   "display_name": "Python 3",
   "language": "python",
   "name": "python3"
  },
  "language_info": {
   "codemirror_mode": {
    "name": "ipython",
    "version": 3
   },
   "file_extension": ".py",
   "mimetype": "text/x-python",
   "name": "python",
   "nbconvert_exporter": "python",
   "pygments_lexer": "ipython3",
   "version": "3.7.1"
  }
 },
 "nbformat": 4,
 "nbformat_minor": 2
}
