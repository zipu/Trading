{
 "cells": [
  {
   "cell_type": "code",
   "execution_count": 1,
   "id": "a7e1f88e",
   "metadata": {},
   "outputs": [],
   "source": [
    "import sys, os\n",
    "sys.path.append('..')\n",
    "from tools.instruments import instruments\n",
    "import pandas as pd\n",
    "import h5py\n",
    "import numpy as np"
   ]
  },
  {
   "cell_type": "code",
   "execution_count": 2,
   "id": "cbee820c",
   "metadata": {},
   "outputs": [],
   "source": [
    "%load_ext autoreload\n",
    "%aimport tools.instruments\n",
    "%autoreload 2"
   ]
  },
  {
   "cell_type": "code",
   "execution_count": 3,
   "id": "5a7032ea",
   "metadata": {},
   "outputs": [],
   "source": [
    "#ebest 분봉 데이터가 담긴 폴더\n",
    "dirpath = os.path.join('..','data','ebest')"
   ]
  },
  {
   "cell_type": "code",
   "execution_count": 4,
   "id": "85d89101",
   "metadata": {},
   "outputs": [],
   "source": [
    "files = [f for f in os.listdir(dirpath) if f[-3:]=='csv']"
   ]
  },
  {
   "cell_type": "code",
   "execution_count": 6,
   "id": "e11f5ef2",
   "metadata": {},
   "outputs": [],
   "source": [
    "def convert_value(number_system):\n",
    "    def convert(x):\n",
    "        p, a = x.split(\"'\")\n",
    "        return float(p)+float(a)/number_system\n",
    "    return convert"
   ]
  },
  {
   "cell_type": "code",
   "execution_count": 9,
   "id": "02027d80",
   "metadata": {},
   "outputs": [
    {
     "ename": "NameError",
     "evalue": "name 'file' is not defined",
     "output_type": "error",
     "traceback": [
      "\u001b[1;31m---------------------------------------------------------------------------\u001b[0m",
      "\u001b[1;31mNameError\u001b[0m                                 Traceback (most recent call last)",
      "Cell \u001b[1;32mIn[9], line 31\u001b[0m\n\u001b[0;32m     29\u001b[0m fileobj \u001b[38;5;241m=\u001b[39m h5py\u001b[38;5;241m.\u001b[39mFile(filename, mode\u001b[38;5;241m=\u001b[39m\u001b[38;5;124m'\u001b[39m\u001b[38;5;124ma\u001b[39m\u001b[38;5;124m'\u001b[39m)\n\u001b[0;32m     30\u001b[0m \u001b[38;5;28;01mif\u001b[39;00m \u001b[38;5;124m'\u001b[39m\u001b[38;5;124mohlc\u001b[39m\u001b[38;5;124m'\u001b[39m \u001b[38;5;129;01min\u001b[39;00m fileobj\u001b[38;5;241m.\u001b[39mkeys():\n\u001b[1;32m---> 31\u001b[0m     old \u001b[38;5;241m=\u001b[39m pd\u001b[38;5;241m.\u001b[39mDataFrame(fileobj[\u001b[38;5;124m'\u001b[39m\u001b[38;5;124mohlc\u001b[39m\u001b[38;5;124m'\u001b[39m][:], columns\u001b[38;5;241m=\u001b[39m[\u001b[38;5;124m'\u001b[39m\u001b[38;5;124mdates\u001b[39m\u001b[38;5;124m'\u001b[39m, \u001b[38;5;124m'\u001b[39m\u001b[38;5;124mopen\u001b[39m\u001b[38;5;124m'\u001b[39m,\u001b[38;5;124m'\u001b[39m\u001b[38;5;124mhigh\u001b[39m\u001b[38;5;124m'\u001b[39m,\u001b[38;5;124m'\u001b[39m\u001b[38;5;124mlow\u001b[39m\u001b[38;5;124m'\u001b[39m,\u001b[38;5;124m'\u001b[39m\u001b[38;5;124mclose\u001b[39m\u001b[38;5;124m'\u001b[39m,\u001b[38;5;124m'\u001b[39m\u001b[38;5;124mvolume\u001b[39m\u001b[38;5;124m'\u001b[39m], index \u001b[38;5;241m=\u001b[39m \u001b[43mfile\u001b[49m[\u001b[38;5;124m'\u001b[39m\u001b[38;5;124mohlc\u001b[39m\u001b[38;5;124m'\u001b[39m][:,\u001b[38;5;241m0\u001b[39m]\u001b[38;5;241m.\u001b[39mastype(\u001b[38;5;124m'\u001b[39m\u001b[38;5;124mM8[m]\u001b[39m\u001b[38;5;124m'\u001b[39m))\n\u001b[0;32m     32\u001b[0m     data \u001b[38;5;241m=\u001b[39m pd\u001b[38;5;241m.\u001b[39mconcat([old, data])\u001b[38;5;241m.\u001b[39mdrop_duplicates(\u001b[38;5;124m'\u001b[39m\u001b[38;5;124mdates\u001b[39m\u001b[38;5;124m'\u001b[39m)\n\u001b[0;32m     33\u001b[0m     \u001b[38;5;28;01mdel\u001b[39;00m fileobj[\u001b[38;5;124m'\u001b[39m\u001b[38;5;124mohlc\u001b[39m\u001b[38;5;124m'\u001b[39m]\n",
      "\u001b[1;31mNameError\u001b[0m: name 'file' is not defined"
     ]
    }
   ],
   "source": [
    "for ins in files[:]:\n",
    "    if not instruments.get(ebestname=ins[:-17]):\n",
    "        continue\n",
    "    \n",
    "    instrument = instruments.get(ebestname=ins[:-17])[0]\n",
    "    num_system = instrument.number_system\n",
    "    \n",
    "    #폴더 없으면 생성\n",
    "    savepath = os.path.join(dirpath, instrument.ebestname)\n",
    "    if not os.path.exists(savepath):\n",
    "        os.makedirs(savepath)\n",
    "    \n",
    "    \n",
    "    # 데이터를 pandas 로 정리\n",
    "    df=pd.read_csv(os.path.join(dirpath, ins), header=0, names=['date','time','open','high','low','close','diff','diff_r','volume'], encoding='cp949')\n",
    "    df['dates'] = pd.to_datetime(df['date']+df['time'], format='%Y/%m/%d%H:%M:%S')\n",
    "    df.index = df['dates']\n",
    "    df['dates'] = df['dates'].values.astype('M8[m]').astype('int64')\n",
    "    data = df[['dates','open','high','low','close','volume']]\n",
    "    if num_system != 10:\n",
    "        lamb = convert_value(num_system)\n",
    "        data.loc[:,'open'] = data['open'].apply(lamb)\n",
    "        data.loc[:,'high'] = data['high'].apply(lamb)\n",
    "        data.loc[:,'low'] = data['low'].apply(lamb)\n",
    "        data.loc[:,'close'] = data['close'].apply(lamb)\n",
    "        \n",
    "    #저장할 파일\n",
    "    filename = os.path.join(savepath, f\"{ins[:-4]}.hdf\")\n",
    "    fileobj = h5py.File(filename, mode='a')\n",
    "    if 'ohlc' in fileobj.keys():\n",
    "        old = pd.DataFrame(fileobj['ohlc'][:], columns=['dates', 'open','high','low','close','volume'], index = fileobj['ohlc'][:,0].astype('M8[m]'))\n",
    "        data = pd.concat([old, data]).drop_duplicates('dates')\n",
    "        del fileobj['ohlc']\n",
    "        \n",
    "    fileobj.create_dataset('ohlc', data=data.values.astype('float64'),  compression=\"gzip\")\n",
    "    fileobj.close()\n",
    "        \n",
    "    \n",
    "    "
   ]
  },
  {
   "cell_type": "code",
   "execution_count": 275,
   "id": "cf2cc5fd",
   "metadata": {},
   "outputs": [],
   "source": [
    "fileobj.close()"
   ]
  }
 ],
 "metadata": {
  "kernelspec": {
   "display_name": "Python 3 (ipykernel)",
   "language": "python",
   "name": "python3"
  },
  "language_info": {
   "codemirror_mode": {
    "name": "ipython",
    "version": 3
   },
   "file_extension": ".py",
   "mimetype": "text/x-python",
   "name": "python",
   "nbconvert_exporter": "python",
   "pygments_lexer": "ipython3",
   "version": "3.9.16"
  }
 },
 "nbformat": 4,
 "nbformat_minor": 5
}
