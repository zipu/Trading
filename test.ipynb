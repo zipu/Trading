{
 "cells": [
  {
   "cell_type": "code",
   "execution_count": 3,
   "metadata": {},
   "outputs": [],
   "source": [
    "import sys, os\n",
    "import matplotlib.pyplot as plt\n",
    "import pandas as pd\n",
    "import numpy as np\n",
    "from tools.instruments import instruments\n",
    "from tools.display import highchart"
   ]
  },
  {
   "cell_type": "code",
   "execution_count": 2,
   "metadata": {},
   "outputs": [],
   "source": [
    "%load_ext autoreload\n",
    "%aimport tools.instruments\n",
    "%aimport tools.quotes\n",
    "%aimport tools.display\n",
    "%autoreload 2"
   ]
  },
  {
   "cell_type": "code",
   "execution_count": 157,
   "metadata": {},
   "outputs": [],
   "source": [
    "quote = instruments['AD'].quotes()\n",
    "quote.PD(percentile=50, inplace=True)\n",
    "quote.PD(percentile=90, inplace=True)\n",
    "quote.PD(percentile=10, inplace=True)\n",
    "quote.PD(percentile=25, inplace=True)\n",
    "quote.PD(percentile=75, inplace=True)"
   ]
  },
  {
   "cell_type": "code",
   "execution_count": 191,
   "metadata": {},
   "outputs": [],
   "source": [
    "chart = []"
   ]
  },
  {
   "cell_type": "code",
   "execution_count": 192,
   "metadata": {},
   "outputs": [],
   "source": [
    "chart.append({\n",
    "    'data': quote[['open','high','low','close']],\n",
    "    'type': 'ohlc',\n",
    "})"
   ]
  },
  {
   "cell_type": "code",
   "execution_count": 199,
   "metadata": {},
   "outputs": [],
   "source": [
    "chart.append({\n",
    "    'data': quote['pd90'],\n",
    "    'type': 'line',\n",
    "})"
   ]
  },
  {
   "cell_type": "code",
   "execution_count": 194,
   "metadata": {},
   "outputs": [
    {
     "data": {
      "text/html": [
       "<div>\n",
       "<style scoped>\n",
       "    .dataframe tbody tr th:only-of-type {\n",
       "        vertical-align: middle;\n",
       "    }\n",
       "\n",
       "    .dataframe tbody tr th {\n",
       "        vertical-align: top;\n",
       "    }\n",
       "\n",
       "    .dataframe thead th {\n",
       "        text-align: right;\n",
       "    }\n",
       "</style>\n",
       "<table border=\"1\" class=\"dataframe\">\n",
       "  <thead>\n",
       "    <tr style=\"text-align: right;\">\n",
       "      <th>field</th>\n",
       "      <th>open</th>\n",
       "      <th>high</th>\n",
       "      <th>low</th>\n",
       "      <th>close</th>\n",
       "      <th>volume</th>\n",
       "      <th>oi</th>\n",
       "      <th>pd50</th>\n",
       "      <th>pd90</th>\n",
       "      <th>pd10</th>\n",
       "      <th>pd25</th>\n",
       "      <th>pd75</th>\n",
       "    </tr>\n",
       "    <tr>\n",
       "      <th>date</th>\n",
       "      <th></th>\n",
       "      <th></th>\n",
       "      <th></th>\n",
       "      <th></th>\n",
       "      <th></th>\n",
       "      <th></th>\n",
       "      <th></th>\n",
       "      <th></th>\n",
       "      <th></th>\n",
       "      <th></th>\n",
       "      <th></th>\n",
       "    </tr>\n",
       "  </thead>\n",
       "  <tbody>\n",
       "    <tr>\n",
       "      <th>1987-01-13</th>\n",
       "      <td>0.01070</td>\n",
       "      <td>0.01180</td>\n",
       "      <td>0.00680</td>\n",
       "      <td>0.00700</td>\n",
       "      <td>1854</td>\n",
       "      <td>915</td>\n",
       "      <td>0.00925</td>\n",
       "      <td>0.01125</td>\n",
       "      <td>0.00725</td>\n",
       "      <td>0.00800</td>\n",
       "      <td>0.01050</td>\n",
       "    </tr>\n",
       "    <tr>\n",
       "      <th>1987-01-14</th>\n",
       "      <td>-0.00300</td>\n",
       "      <td>-0.00190</td>\n",
       "      <td>-0.00640</td>\n",
       "      <td>-0.00530</td>\n",
       "      <td>1446</td>\n",
       "      <td>930</td>\n",
       "      <td>0.00725</td>\n",
       "      <td>0.01085</td>\n",
       "      <td>-0.00545</td>\n",
       "      <td>-0.00390</td>\n",
       "      <td>0.00950</td>\n",
       "    </tr>\n",
       "    <tr>\n",
       "      <th>1987-01-15</th>\n",
       "      <td>0.00480</td>\n",
       "      <td>0.00490</td>\n",
       "      <td>0.00350</td>\n",
       "      <td>0.00370</td>\n",
       "      <td>539</td>\n",
       "      <td>786</td>\n",
       "      <td>0.00465</td>\n",
       "      <td>0.01070</td>\n",
       "      <td>-0.00530</td>\n",
       "      <td>-0.00350</td>\n",
       "      <td>0.00915</td>\n",
       "    </tr>\n",
       "    <tr>\n",
       "      <th>1987-01-16</th>\n",
       "      <td>0.00560</td>\n",
       "      <td>0.00680</td>\n",
       "      <td>0.00560</td>\n",
       "      <td>0.00650</td>\n",
       "      <td>537</td>\n",
       "      <td>964</td>\n",
       "      <td>0.00595</td>\n",
       "      <td>0.01055</td>\n",
       "      <td>-0.00510</td>\n",
       "      <td>-0.00305</td>\n",
       "      <td>0.00875</td>\n",
       "    </tr>\n",
       "    <tr>\n",
       "      <th>1987-01-19</th>\n",
       "      <td>0.00640</td>\n",
       "      <td>0.00980</td>\n",
       "      <td>0.00640</td>\n",
       "      <td>0.00830</td>\n",
       "      <td>506</td>\n",
       "      <td>866</td>\n",
       "      <td>0.00705</td>\n",
       "      <td>0.01010</td>\n",
       "      <td>-0.00460</td>\n",
       "      <td>0.00360</td>\n",
       "      <td>0.00885</td>\n",
       "    </tr>\n",
       "    <tr>\n",
       "      <th>...</th>\n",
       "      <td>...</td>\n",
       "      <td>...</td>\n",
       "      <td>...</td>\n",
       "      <td>...</td>\n",
       "      <td>...</td>\n",
       "      <td>...</td>\n",
       "      <td>...</td>\n",
       "      <td>...</td>\n",
       "      <td>...</td>\n",
       "      <td>...</td>\n",
       "      <td>...</td>\n",
       "    </tr>\n",
       "    <tr>\n",
       "      <th>2022-04-28</th>\n",
       "      <td>0.71290</td>\n",
       "      <td>0.71660</td>\n",
       "      <td>0.70595</td>\n",
       "      <td>0.70995</td>\n",
       "      <td>112019</td>\n",
       "      <td>144283</td>\n",
       "      <td>0.72850</td>\n",
       "      <td>0.75130</td>\n",
       "      <td>0.71315</td>\n",
       "      <td>0.71835</td>\n",
       "      <td>0.74350</td>\n",
       "    </tr>\n",
       "    <tr>\n",
       "      <th>2022-04-29</th>\n",
       "      <td>0.71035</td>\n",
       "      <td>0.71845</td>\n",
       "      <td>0.70610</td>\n",
       "      <td>0.70870</td>\n",
       "      <td>124501</td>\n",
       "      <td>144179</td>\n",
       "      <td>0.72750</td>\n",
       "      <td>0.75115</td>\n",
       "      <td>0.71260</td>\n",
       "      <td>0.71775</td>\n",
       "      <td>0.74315</td>\n",
       "    </tr>\n",
       "    <tr>\n",
       "      <th>2022-05-02</th>\n",
       "      <td>0.70710</td>\n",
       "      <td>0.70870</td>\n",
       "      <td>0.70355</td>\n",
       "      <td>0.70415</td>\n",
       "      <td>91807</td>\n",
       "      <td>140428</td>\n",
       "      <td>0.72535</td>\n",
       "      <td>0.75090</td>\n",
       "      <td>0.70860</td>\n",
       "      <td>0.71605</td>\n",
       "      <td>0.74235</td>\n",
       "    </tr>\n",
       "    <tr>\n",
       "      <th>2022-05-03</th>\n",
       "      <td>0.70570</td>\n",
       "      <td>0.71535</td>\n",
       "      <td>0.70525</td>\n",
       "      <td>0.70990</td>\n",
       "      <td>114059</td>\n",
       "      <td>143087</td>\n",
       "      <td>0.72460</td>\n",
       "      <td>0.75075</td>\n",
       "      <td>0.70830</td>\n",
       "      <td>0.71540</td>\n",
       "      <td>0.74200</td>\n",
       "    </tr>\n",
       "    <tr>\n",
       "      <th>2022-05-04</th>\n",
       "      <td>0.71005</td>\n",
       "      <td>0.72700</td>\n",
       "      <td>0.70925</td>\n",
       "      <td>0.72370</td>\n",
       "      <td>117416</td>\n",
       "      <td>151039</td>\n",
       "      <td>0.72415</td>\n",
       "      <td>0.75060</td>\n",
       "      <td>0.70845</td>\n",
       "      <td>0.71530</td>\n",
       "      <td>0.74155</td>\n",
       "    </tr>\n",
       "  </tbody>\n",
       "</table>\n",
       "<p>8916 rows × 11 columns</p>\n",
       "</div>"
      ],
      "text/plain": [
       "field          open     high      low    close  volume      oi     pd50  \\\n",
       "date                                                                      \n",
       "1987-01-13  0.01070  0.01180  0.00680  0.00700    1854     915  0.00925   \n",
       "1987-01-14 -0.00300 -0.00190 -0.00640 -0.00530    1446     930  0.00725   \n",
       "1987-01-15  0.00480  0.00490  0.00350  0.00370     539     786  0.00465   \n",
       "1987-01-16  0.00560  0.00680  0.00560  0.00650     537     964  0.00595   \n",
       "1987-01-19  0.00640  0.00980  0.00640  0.00830     506     866  0.00705   \n",
       "...             ...      ...      ...      ...     ...     ...      ...   \n",
       "2022-04-28  0.71290  0.71660  0.70595  0.70995  112019  144283  0.72850   \n",
       "2022-04-29  0.71035  0.71845  0.70610  0.70870  124501  144179  0.72750   \n",
       "2022-05-02  0.70710  0.70870  0.70355  0.70415   91807  140428  0.72535   \n",
       "2022-05-03  0.70570  0.71535  0.70525  0.70990  114059  143087  0.72460   \n",
       "2022-05-04  0.71005  0.72700  0.70925  0.72370  117416  151039  0.72415   \n",
       "\n",
       "field          pd90     pd10     pd25     pd75  \n",
       "date                                            \n",
       "1987-01-13  0.01125  0.00725  0.00800  0.01050  \n",
       "1987-01-14  0.01085 -0.00545 -0.00390  0.00950  \n",
       "1987-01-15  0.01070 -0.00530 -0.00350  0.00915  \n",
       "1987-01-16  0.01055 -0.00510 -0.00305  0.00875  \n",
       "1987-01-19  0.01010 -0.00460  0.00360  0.00885  \n",
       "...             ...      ...      ...      ...  \n",
       "2022-04-28  0.75130  0.71315  0.71835  0.74350  \n",
       "2022-04-29  0.75115  0.71260  0.71775  0.74315  \n",
       "2022-05-02  0.75090  0.70860  0.71605  0.74235  \n",
       "2022-05-03  0.75075  0.70830  0.71540  0.74200  \n",
       "2022-05-04  0.75060  0.70845  0.71530  0.74155  \n",
       "\n",
       "[8916 rows x 11 columns]"
      ]
     },
     "execution_count": 194,
     "metadata": {},
     "output_type": "execute_result"
    }
   ],
   "source": [
    "quote"
   ]
  },
  {
   "cell_type": "code",
   "execution_count": 200,
   "metadata": {},
   "outputs": [],
   "source": [
    "highchart(chart, height=800)"
   ]
  },
  {
   "cell_type": "code",
   "execution_count": 65,
   "metadata": {},
   "outputs": [],
   "source": [
    "q.loc['date'] = q.index"
   ]
  },
  {
   "cell_type": "code",
   "execution_count": 174,
   "metadata": {},
   "outputs": [
    {
     "data": {
      "text/plain": [
       "True"
      ]
     },
     "execution_count": 174,
     "metadata": {},
     "output_type": "execute_result"
    }
   ],
   "source": [
    "import webbrowser\n",
    "\n",
    "# generate an URL\n",
    "url = 'https://' + 'www.google.com'\n",
    "webbrowser.open(url)"
   ]
  },
  {
   "cell_type": "code",
   "execution_count": 179,
   "metadata": {
    "scrolled": true
   },
   "outputs": [
    {
     "data": {
      "text/plain": [
       "'C:\\\\Users\\\\yosep\\\\Documents\\\\projects\\\\Trading\\\\temp'"
      ]
     },
     "execution_count": 179,
     "metadata": {},
     "output_type": "execute_result"
    }
   ],
   "source": [
    "os.path.join(os.path.abspath(os.curdir),'temp')"
   ]
  },
  {
   "cell_type": "code",
   "execution_count": 180,
   "metadata": {},
   "outputs": [
    {
     "data": {
      "text/plain": [
       "'C:\\\\Users\\\\yosep\\\\Documents\\\\projects'"
      ]
     },
     "execution_count": 180,
     "metadata": {},
     "output_type": "execute_result"
    }
   ],
   "source": [
    "os.path.abspath(os.path.join('..'))"
   ]
  },
  {
   "cell_type": "code",
   "execution_count": null,
   "metadata": {},
   "outputs": [],
   "source": []
  }
 ],
 "metadata": {
  "kernelspec": {
   "display_name": "Python 3 (ipykernel)",
   "language": "python",
   "name": "python3"
  },
  "language_info": {
   "codemirror_mode": {
    "name": "ipython",
    "version": 3
   },
   "file_extension": ".py",
   "mimetype": "text/x-python",
   "name": "python",
   "nbconvert_exporter": "python",
   "pygments_lexer": "ipython3",
   "version": "3.8.15"
  }
 },
 "nbformat": 4,
 "nbformat_minor": 2
}
