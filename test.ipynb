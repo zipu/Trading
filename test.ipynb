{
 "cells": [
  {
   "cell_type": "code",
   "execution_count": 1,
   "metadata": {},
   "outputs": [],
   "source": [
    "import sys, imp, os\n",
    "import pandas as pd\n",
    "import numpy as np\n",
    "import h5py"
   ]
  },
  {
   "cell_type": "code",
   "execution_count": 2,
   "metadata": {},
   "outputs": [],
   "source": [
    "from tools.instruments import instruments\n",
    "from tools.common import monitor_memory\n",
    "from tools.constants import DATADIR"
   ]
  },
  {
   "cell_type": "markdown",
   "metadata": {},
   "source": [
    "* 메모리사용량 체크"
   ]
  },
  {
   "cell_type": "code",
   "execution_count": 48,
   "metadata": {},
   "outputs": [],
   "source": [
    "del sys.modules['tools.common']\n",
    "del sys.modules['tools.instruments']\n",
    "from tools.common import monitor_memory\n",
    "from tools.instruments import instruments"
   ]
  },
  {
   "cell_type": "code",
   "execution_count": 59,
   "metadata": {},
   "outputs": [
    {
     "name": "stdout",
     "output_type": "stream",
     "text": [
      "[('s', 6310), ('instruments', 2), ('DATADIR', 0), ('a', 0), ('ad', 0), ('monitor_memory', 0), ('np', 0), ('pd', 0)]\n"
     ]
    }
   ],
   "source": [
    "monitor_memory(dir())"
   ]
  },
  {
   "cell_type": "code",
   "execution_count": 50,
   "metadata": {},
   "outputs": [],
   "source": [
    "ad = instruments['AD']"
   ]
  },
  {
   "cell_type": "code",
   "execution_count": 61,
   "metadata": {},
   "outputs": [
    {
     "data": {
      "text/html": [
       "<div>\n",
       "<style scoped>\n",
       "    .dataframe tbody tr th:only-of-type {\n",
       "        vertical-align: middle;\n",
       "    }\n",
       "\n",
       "    .dataframe tbody tr th {\n",
       "        vertical-align: top;\n",
       "    }\n",
       "\n",
       "    .dataframe thead tr th {\n",
       "        text-align: left;\n",
       "    }\n",
       "\n",
       "    .dataframe thead tr:last-of-type th {\n",
       "        text-align: right;\n",
       "    }\n",
       "</style>\n",
       "<table border=\"1\" class=\"dataframe\">\n",
       "  <thead>\n",
       "    <tr>\n",
       "      <th></th>\n",
       "      <th colspan=\"5\" halign=\"left\">AD</th>\n",
       "      <th colspan=\"5\" halign=\"left\">BO</th>\n",
       "      <th>...</th>\n",
       "      <th colspan=\"5\" halign=\"left\">W</th>\n",
       "      <th colspan=\"5\" halign=\"left\">YM</th>\n",
       "    </tr>\n",
       "    <tr>\n",
       "      <th></th>\n",
       "      <th>open</th>\n",
       "      <th>high</th>\n",
       "      <th>low</th>\n",
       "      <th>close</th>\n",
       "      <th>volume</th>\n",
       "      <th>open</th>\n",
       "      <th>high</th>\n",
       "      <th>low</th>\n",
       "      <th>close</th>\n",
       "      <th>volume</th>\n",
       "      <th>...</th>\n",
       "      <th>open</th>\n",
       "      <th>high</th>\n",
       "      <th>low</th>\n",
       "      <th>close</th>\n",
       "      <th>volume</th>\n",
       "      <th>open</th>\n",
       "      <th>high</th>\n",
       "      <th>low</th>\n",
       "      <th>close</th>\n",
       "      <th>volume</th>\n",
       "    </tr>\n",
       "    <tr>\n",
       "      <th>date</th>\n",
       "      <th></th>\n",
       "      <th></th>\n",
       "      <th></th>\n",
       "      <th></th>\n",
       "      <th></th>\n",
       "      <th></th>\n",
       "      <th></th>\n",
       "      <th></th>\n",
       "      <th></th>\n",
       "      <th></th>\n",
       "      <th></th>\n",
       "      <th></th>\n",
       "      <th></th>\n",
       "      <th></th>\n",
       "      <th></th>\n",
       "      <th></th>\n",
       "      <th></th>\n",
       "      <th></th>\n",
       "      <th></th>\n",
       "      <th></th>\n",
       "      <th></th>\n",
       "    </tr>\n",
       "  </thead>\n",
       "  <tbody>\n",
       "    <tr>\n",
       "      <th>1978-09-26</th>\n",
       "      <td>NaN</td>\n",
       "      <td>NaN</td>\n",
       "      <td>NaN</td>\n",
       "      <td>NaN</td>\n",
       "      <td>NaN</td>\n",
       "      <td>NaN</td>\n",
       "      <td>NaN</td>\n",
       "      <td>NaN</td>\n",
       "      <td>NaN</td>\n",
       "      <td>NaN</td>\n",
       "      <td>...</td>\n",
       "      <td>NaN</td>\n",
       "      <td>NaN</td>\n",
       "      <td>NaN</td>\n",
       "      <td>NaN</td>\n",
       "      <td>NaN</td>\n",
       "      <td>NaN</td>\n",
       "      <td>NaN</td>\n",
       "      <td>NaN</td>\n",
       "      <td>NaN</td>\n",
       "      <td>NaN</td>\n",
       "    </tr>\n",
       "    <tr>\n",
       "      <th>1978-09-27</th>\n",
       "      <td>NaN</td>\n",
       "      <td>NaN</td>\n",
       "      <td>NaN</td>\n",
       "      <td>NaN</td>\n",
       "      <td>NaN</td>\n",
       "      <td>NaN</td>\n",
       "      <td>NaN</td>\n",
       "      <td>NaN</td>\n",
       "      <td>NaN</td>\n",
       "      <td>NaN</td>\n",
       "      <td>...</td>\n",
       "      <td>NaN</td>\n",
       "      <td>NaN</td>\n",
       "      <td>NaN</td>\n",
       "      <td>NaN</td>\n",
       "      <td>NaN</td>\n",
       "      <td>NaN</td>\n",
       "      <td>NaN</td>\n",
       "      <td>NaN</td>\n",
       "      <td>NaN</td>\n",
       "      <td>NaN</td>\n",
       "    </tr>\n",
       "    <tr>\n",
       "      <th>1978-09-28</th>\n",
       "      <td>NaN</td>\n",
       "      <td>NaN</td>\n",
       "      <td>NaN</td>\n",
       "      <td>NaN</td>\n",
       "      <td>NaN</td>\n",
       "      <td>NaN</td>\n",
       "      <td>NaN</td>\n",
       "      <td>NaN</td>\n",
       "      <td>NaN</td>\n",
       "      <td>NaN</td>\n",
       "      <td>...</td>\n",
       "      <td>NaN</td>\n",
       "      <td>NaN</td>\n",
       "      <td>NaN</td>\n",
       "      <td>NaN</td>\n",
       "      <td>NaN</td>\n",
       "      <td>NaN</td>\n",
       "      <td>NaN</td>\n",
       "      <td>NaN</td>\n",
       "      <td>NaN</td>\n",
       "      <td>NaN</td>\n",
       "    </tr>\n",
       "    <tr>\n",
       "      <th>1978-09-29</th>\n",
       "      <td>NaN</td>\n",
       "      <td>NaN</td>\n",
       "      <td>NaN</td>\n",
       "      <td>NaN</td>\n",
       "      <td>NaN</td>\n",
       "      <td>NaN</td>\n",
       "      <td>NaN</td>\n",
       "      <td>NaN</td>\n",
       "      <td>NaN</td>\n",
       "      <td>NaN</td>\n",
       "      <td>...</td>\n",
       "      <td>NaN</td>\n",
       "      <td>NaN</td>\n",
       "      <td>NaN</td>\n",
       "      <td>NaN</td>\n",
       "      <td>NaN</td>\n",
       "      <td>NaN</td>\n",
       "      <td>NaN</td>\n",
       "      <td>NaN</td>\n",
       "      <td>NaN</td>\n",
       "      <td>NaN</td>\n",
       "    </tr>\n",
       "    <tr>\n",
       "      <th>1978-10-02</th>\n",
       "      <td>NaN</td>\n",
       "      <td>NaN</td>\n",
       "      <td>NaN</td>\n",
       "      <td>NaN</td>\n",
       "      <td>NaN</td>\n",
       "      <td>NaN</td>\n",
       "      <td>NaN</td>\n",
       "      <td>NaN</td>\n",
       "      <td>NaN</td>\n",
       "      <td>NaN</td>\n",
       "      <td>...</td>\n",
       "      <td>NaN</td>\n",
       "      <td>NaN</td>\n",
       "      <td>NaN</td>\n",
       "      <td>NaN</td>\n",
       "      <td>NaN</td>\n",
       "      <td>NaN</td>\n",
       "      <td>NaN</td>\n",
       "      <td>NaN</td>\n",
       "      <td>NaN</td>\n",
       "      <td>NaN</td>\n",
       "    </tr>\n",
       "    <tr>\n",
       "      <th>...</th>\n",
       "      <td>...</td>\n",
       "      <td>...</td>\n",
       "      <td>...</td>\n",
       "      <td>...</td>\n",
       "      <td>...</td>\n",
       "      <td>...</td>\n",
       "      <td>...</td>\n",
       "      <td>...</td>\n",
       "      <td>...</td>\n",
       "      <td>...</td>\n",
       "      <td>...</td>\n",
       "      <td>...</td>\n",
       "      <td>...</td>\n",
       "      <td>...</td>\n",
       "      <td>...</td>\n",
       "      <td>...</td>\n",
       "      <td>...</td>\n",
       "      <td>...</td>\n",
       "      <td>...</td>\n",
       "      <td>...</td>\n",
       "      <td>...</td>\n",
       "    </tr>\n",
       "    <tr>\n",
       "      <th>2022-04-07</th>\n",
       "      <td>0.75185</td>\n",
       "      <td>0.75265</td>\n",
       "      <td>0.74735</td>\n",
       "      <td>0.74920</td>\n",
       "      <td>76307.0</td>\n",
       "      <td>71.940002</td>\n",
       "      <td>73.260002</td>\n",
       "      <td>71.500000</td>\n",
       "      <td>73.019997</td>\n",
       "      <td>55935.0</td>\n",
       "      <td>...</td>\n",
       "      <td>1040.25</td>\n",
       "      <td>1044.50</td>\n",
       "      <td>1017.75</td>\n",
       "      <td>1020.00</td>\n",
       "      <td>50501.0</td>\n",
       "      <td>34370.0</td>\n",
       "      <td>34613.0</td>\n",
       "      <td>34093.0</td>\n",
       "      <td>34490.0</td>\n",
       "      <td>168413.0</td>\n",
       "    </tr>\n",
       "    <tr>\n",
       "      <th>2022-04-08</th>\n",
       "      <td>0.74875</td>\n",
       "      <td>0.75000</td>\n",
       "      <td>0.74340</td>\n",
       "      <td>0.74675</td>\n",
       "      <td>63501.0</td>\n",
       "      <td>73.019997</td>\n",
       "      <td>75.330002</td>\n",
       "      <td>72.669998</td>\n",
       "      <td>75.120003</td>\n",
       "      <td>45293.0</td>\n",
       "      <td>...</td>\n",
       "      <td>1020.00</td>\n",
       "      <td>1054.25</td>\n",
       "      <td>1017.00</td>\n",
       "      <td>1051.50</td>\n",
       "      <td>34010.0</td>\n",
       "      <td>34481.0</td>\n",
       "      <td>34820.0</td>\n",
       "      <td>34368.0</td>\n",
       "      <td>34613.0</td>\n",
       "      <td>154088.0</td>\n",
       "    </tr>\n",
       "    <tr>\n",
       "      <th>2022-04-11</th>\n",
       "      <td>0.74680</td>\n",
       "      <td>0.74745</td>\n",
       "      <td>0.74215</td>\n",
       "      <td>0.74365</td>\n",
       "      <td>61761.0</td>\n",
       "      <td>75.120003</td>\n",
       "      <td>75.599998</td>\n",
       "      <td>73.930000</td>\n",
       "      <td>74.300003</td>\n",
       "      <td>40791.0</td>\n",
       "      <td>...</td>\n",
       "      <td>1056.00</td>\n",
       "      <td>1091.75</td>\n",
       "      <td>1055.00</td>\n",
       "      <td>1081.25</td>\n",
       "      <td>55247.0</td>\n",
       "      <td>34636.0</td>\n",
       "      <td>34668.0</td>\n",
       "      <td>34181.0</td>\n",
       "      <td>34219.0</td>\n",
       "      <td>159044.0</td>\n",
       "    </tr>\n",
       "    <tr>\n",
       "      <th>2022-04-12</th>\n",
       "      <td>0.74280</td>\n",
       "      <td>0.75015</td>\n",
       "      <td>0.74075</td>\n",
       "      <td>0.74685</td>\n",
       "      <td>70937.0</td>\n",
       "      <td>74.300003</td>\n",
       "      <td>75.919998</td>\n",
       "      <td>74.300003</td>\n",
       "      <td>75.430000</td>\n",
       "      <td>43062.0</td>\n",
       "      <td>...</td>\n",
       "      <td>1077.75</td>\n",
       "      <td>1117.50</td>\n",
       "      <td>1075.00</td>\n",
       "      <td>1103.75</td>\n",
       "      <td>50433.0</td>\n",
       "      <td>34232.0</td>\n",
       "      <td>34582.0</td>\n",
       "      <td>34002.0</td>\n",
       "      <td>34139.0</td>\n",
       "      <td>193135.0</td>\n",
       "    </tr>\n",
       "    <tr>\n",
       "      <th>2022-04-13</th>\n",
       "      <td>0.74610</td>\n",
       "      <td>0.74820</td>\n",
       "      <td>0.73985</td>\n",
       "      <td>0.74525</td>\n",
       "      <td>79717.0</td>\n",
       "      <td>75.430000</td>\n",
       "      <td>78.750000</td>\n",
       "      <td>74.949997</td>\n",
       "      <td>78.110001</td>\n",
       "      <td>60392.0</td>\n",
       "      <td>...</td>\n",
       "      <td>1102.50</td>\n",
       "      <td>1124.25</td>\n",
       "      <td>1078.00</td>\n",
       "      <td>1113.50</td>\n",
       "      <td>53460.0</td>\n",
       "      <td>34178.0</td>\n",
       "      <td>34511.0</td>\n",
       "      <td>34052.0</td>\n",
       "      <td>34482.0</td>\n",
       "      <td>161480.0</td>\n",
       "    </tr>\n",
       "  </tbody>\n",
       "</table>\n",
       "<p>11065 rows × 180 columns</p>\n",
       "</div>"
      ],
      "text/plain": [
       "                 AD                                             BO             \\\n",
       "               open     high      low    close   volume       open       high   \n",
       "date                                                                            \n",
       "1978-09-26      NaN      NaN      NaN      NaN      NaN        NaN        NaN   \n",
       "1978-09-27      NaN      NaN      NaN      NaN      NaN        NaN        NaN   \n",
       "1978-09-28      NaN      NaN      NaN      NaN      NaN        NaN        NaN   \n",
       "1978-09-29      NaN      NaN      NaN      NaN      NaN        NaN        NaN   \n",
       "1978-10-02      NaN      NaN      NaN      NaN      NaN        NaN        NaN   \n",
       "...             ...      ...      ...      ...      ...        ...        ...   \n",
       "2022-04-07  0.75185  0.75265  0.74735  0.74920  76307.0  71.940002  73.260002   \n",
       "2022-04-08  0.74875  0.75000  0.74340  0.74675  63501.0  73.019997  75.330002   \n",
       "2022-04-11  0.74680  0.74745  0.74215  0.74365  61761.0  75.120003  75.599998   \n",
       "2022-04-12  0.74280  0.75015  0.74075  0.74685  70937.0  74.300003  75.919998   \n",
       "2022-04-13  0.74610  0.74820  0.73985  0.74525  79717.0  75.430000  78.750000   \n",
       "\n",
       "                                           ...        W                    \\\n",
       "                  low      close   volume  ...     open     high      low   \n",
       "date                                       ...                              \n",
       "1978-09-26        NaN        NaN      NaN  ...      NaN      NaN      NaN   \n",
       "1978-09-27        NaN        NaN      NaN  ...      NaN      NaN      NaN   \n",
       "1978-09-28        NaN        NaN      NaN  ...      NaN      NaN      NaN   \n",
       "1978-09-29        NaN        NaN      NaN  ...      NaN      NaN      NaN   \n",
       "1978-10-02        NaN        NaN      NaN  ...      NaN      NaN      NaN   \n",
       "...               ...        ...      ...  ...      ...      ...      ...   \n",
       "2022-04-07  71.500000  73.019997  55935.0  ...  1040.25  1044.50  1017.75   \n",
       "2022-04-08  72.669998  75.120003  45293.0  ...  1020.00  1054.25  1017.00   \n",
       "2022-04-11  73.930000  74.300003  40791.0  ...  1056.00  1091.75  1055.00   \n",
       "2022-04-12  74.300003  75.430000  43062.0  ...  1077.75  1117.50  1075.00   \n",
       "2022-04-13  74.949997  78.110001  60392.0  ...  1102.50  1124.25  1078.00   \n",
       "\n",
       "                                   YM                                       \n",
       "              close   volume     open     high      low    close    volume  \n",
       "date                                                                        \n",
       "1978-09-26      NaN      NaN      NaN      NaN      NaN      NaN       NaN  \n",
       "1978-09-27      NaN      NaN      NaN      NaN      NaN      NaN       NaN  \n",
       "1978-09-28      NaN      NaN      NaN      NaN      NaN      NaN       NaN  \n",
       "1978-09-29      NaN      NaN      NaN      NaN      NaN      NaN       NaN  \n",
       "1978-10-02      NaN      NaN      NaN      NaN      NaN      NaN       NaN  \n",
       "...             ...      ...      ...      ...      ...      ...       ...  \n",
       "2022-04-07  1020.00  50501.0  34370.0  34613.0  34093.0  34490.0  168413.0  \n",
       "2022-04-08  1051.50  34010.0  34481.0  34820.0  34368.0  34613.0  154088.0  \n",
       "2022-04-11  1081.25  55247.0  34636.0  34668.0  34181.0  34219.0  159044.0  \n",
       "2022-04-12  1103.75  50433.0  34232.0  34582.0  34002.0  34139.0  193135.0  \n",
       "2022-04-13  1113.50  53460.0  34178.0  34511.0  34052.0  34482.0  161480.0  \n",
       "\n",
       "[11065 rows x 180 columns]"
      ]
     },
     "execution_count": 61,
     "metadata": {},
     "output_type": "execute_result"
    }
   ],
   "source": [
    "instruments.quotes(fields='ohlcv')"
   ]
  },
  {
   "cell_type": "code",
   "execution_count": 91,
   "metadata": {},
   "outputs": [
    {
     "data": {
      "text/plain": [
       "array([( 9353, 0.7285), ( 9356, 0.7285), ( 9357, 0.7285), ...,\n",
       "       (19093, 0.7468), (19094, 0.7428), (19095, 0.7461)],\n",
       "      dtype={'names':['date','open'], 'formats':['<i4','<f4'], 'offsets':[0,4], 'itemsize':28})"
      ]
     },
     "execution_count": 91,
     "metadata": {},
     "output_type": "execute_result"
    }
   ],
   "source": [
    "df[['date','open']]"
   ]
  },
  {
   "cell_type": "code",
   "execution_count": 95,
   "metadata": {},
   "outputs": [],
   "source": [
    "s=np.copy(df[['date','volume']])"
   ]
  },
  {
   "cell_type": "code",
   "execution_count": 144,
   "metadata": {},
   "outputs": [],
   "source": [
    "file = h5py.File(os.path.join(DATADIR,'kibot/quotes.hdf'), 'r')"
   ]
  },
  {
   "cell_type": "code",
   "execution_count": 148,
   "metadata": {},
   "outputs": [
    {
     "data": {
      "text/plain": [
       "array([( 9353, 0.7285), ( 9356, 0.7285), ( 9357, 0.7285), ...,\n",
       "       (19093, 0.7468), (19094, 0.7428), (19095, 0.7461)],\n",
       "      dtype=[('date', '<i4'), ('open', '<f4')])"
      ]
     },
     "execution_count": 148,
     "metadata": {},
     "output_type": "execute_result"
    }
   ],
   "source": [
    "file['AD']['date','open']"
   ]
  },
  {
   "cell_type": "code",
   "execution_count": 45,
   "metadata": {},
   "outputs": [],
   "source": [
    "dtypes_old[0] = (dtypes_old[0][0], 'M8[D]')"
   ]
  },
  {
   "cell_type": "code",
   "execution_count": 131,
   "metadata": {},
   "outputs": [],
   "source": [
    "s=df[['date','open','high','low','close','open_interest']]"
   ]
  },
  {
   "cell_type": "code",
   "execution_count": 196,
   "metadata": {},
   "outputs": [
    {
     "data": {
      "text/plain": [
       "array([(18276, 0.691 , 0.6926, 0.6887, 0.6913,  70440, 0),\n",
       "       (18277, 0.6914, 0.6943, 0.6897, 0.6904,  76664, 0),\n",
       "       (18278, 0.6906, 0.6921, 0.688 , 0.6887,  69449, 0),\n",
       "       (18282, 0.6885, 0.6898, 0.6851, 0.6854, 125648, 0),\n",
       "       (18283, 0.6851, 0.6865, 0.6836, 0.6852,  87192, 0)],\n",
       "      dtype=[('date', '<i4'), ('open', '<f4'), ('high', '<f4'), ('low', '<f4'), ('close', '<f4'), ('volume', '<i4'), ('open_interest', '<i4')])"
      ]
     },
     "execution_count": 196,
     "metadata": {},
     "output_type": "execute_result"
    }
   ],
   "source": [
    "s[np.where(s['date']>18275)][:5]"
   ]
  },
  {
   "cell_type": "code",
   "execution_count": 194,
   "metadata": {},
   "outputs": [
    {
     "data": {
      "text/plain": [
       "array([(18276, 0.691 , 0.6926, 0.6887, 0.6913,  70440, 0),\n",
       "       (18277, 0.6914, 0.6943, 0.6897, 0.6904,  76664, 0),\n",
       "       (18278, 0.6906, 0.6921, 0.688 , 0.6887,  69449, 0),\n",
       "       (18282, 0.6885, 0.6898, 0.6851, 0.6854, 125648, 0),\n",
       "       (18283, 0.6851, 0.6865, 0.6836, 0.6852,  87192, 0)],\n",
       "      dtype=[('date', '<i4'), ('open', '<f4'), ('high', '<f4'), ('low', '<f4'), ('close', '<f4'), ('volume', '<i4'), ('open_interest', '<i4')])"
      ]
     },
     "execution_count": 194,
     "metadata": {},
     "output_type": "execute_result"
    }
   ],
   "source": [
    "s[np.where(s['date']>np.datetime64('2020-01-14').astype('i'))][:5]"
   ]
  },
  {
   "cell_type": "code",
   "execution_count": 189,
   "metadata": {},
   "outputs": [
    {
     "data": {
      "text/plain": [
       "array('2020-01-14', dtype='datetime64[D]')"
      ]
     },
     "execution_count": 189,
     "metadata": {},
     "output_type": "execute_result"
    }
   ],
   "source": [
    "np.array(18275).astype('M8[D]')"
   ]
  },
  {
   "cell_type": "code",
   "execution_count": 127,
   "metadata": {},
   "outputs": [],
   "source": [
    "s=s.astype([('date', '<i4'), ('open', '<f4'), ('high', '<f4'), ('low', '<f4'), ('close', '<f4'), ('open_interest', '<i4')])"
   ]
  },
  {
   "cell_type": "code",
   "execution_count": 128,
   "metadata": {},
   "outputs": [
    {
     "data": {
      "text/plain": [
       "array([( 9353, 0.7285, 0.7285 , 0.7285 , 0.7285 , 0),\n",
       "       ( 9356, 0.7285, 0.7285 , 0.7285 , 0.7285 , 0),\n",
       "       ( 9357, 0.7285, 0.7285 , 0.7285 , 0.7285 , 0), ...,\n",
       "       (19093, 0.7468, 0.74745, 0.74215, 0.74365, 0),\n",
       "       (19094, 0.7428, 0.75015, 0.74075, 0.74685, 0),\n",
       "       (19095, 0.7461, 0.7482 , 0.73985, 0.74525, 0)],\n",
       "      dtype=[('date', '<i4'), ('open', '<f4'), ('high', '<f4'), ('low', '<f4'), ('close', '<f4'), ('open_interest', '<i4')])"
      ]
     },
     "execution_count": 128,
     "metadata": {},
     "output_type": "execute_result"
    }
   ],
   "source": [
    "s"
   ]
  },
  {
   "cell_type": "code",
   "execution_count": 50,
   "metadata": {},
   "outputs": [],
   "source": [
    "df = df.astype(dtypes_new)"
   ]
  },
  {
   "cell_type": "code",
   "execution_count": 53,
   "metadata": {},
   "outputs": [
    {
     "ename": "TypeError",
     "evalue": "slice indices must be integers or None or have an __index__ method",
     "output_type": "error",
     "traceback": [
      "\u001b[1;31m---------------------------------------------------------------------------\u001b[0m",
      "\u001b[1;31mTypeError\u001b[0m                                 Traceback (most recent call last)",
      "\u001b[1;32m~\\AppData\\Local\\Temp/ipykernel_19020/1413891511.py\u001b[0m in \u001b[0;36m<module>\u001b[1;34m\u001b[0m\n\u001b[1;32m----> 1\u001b[1;33m \u001b[0mdf\u001b[0m\u001b[1;33m[\u001b[0m\u001b[1;34m'date'\u001b[0m\u001b[1;33m]\u001b[0m\u001b[1;33m[\u001b[0m\u001b[1;34m'2020-01-01'\u001b[0m\u001b[1;33m:\u001b[0m\u001b[1;34m'2020-12-12'\u001b[0m\u001b[1;33m]\u001b[0m\u001b[1;33m\u001b[0m\u001b[1;33m\u001b[0m\u001b[0m\n\u001b[0m",
      "\u001b[1;31mTypeError\u001b[0m: slice indices must be integers or None or have an __index__ method"
     ]
    }
   ],
   "source": [
    "df['date']['2020-01-01':'2020-12-12']"
   ]
  },
  {
   "cell_type": "code",
   "execution_count": 55,
   "metadata": {},
   "outputs": [
    {
     "data": {
      "text/plain": [
       "array(['1995-08-29', '1995-08-30', '1995-08-31', ..., '2022-04-11',\n",
       "       '2022-04-12', '2022-04-13'], dtype='datetime64[D]')"
      ]
     },
     "execution_count": 55,
     "metadata": {},
     "output_type": "execute_result"
    }
   ],
   "source": [
    "df['date'][12:]"
   ]
  },
  {
   "cell_type": "code",
   "execution_count": 43,
   "metadata": {},
   "outputs": [
    {
     "data": {
      "text/plain": [
       "mappingproxy({'date': (dtype('int32'), 0),\n",
       "              'open': (dtype('<f4'), 4),\n",
       "              'high': (dtype('<f4'), 8),\n",
       "              'low': (dtype('<f4'), 12),\n",
       "              'close': (dtype('<f4'), 16),\n",
       "              'volume': (dtype('int32'), 20),\n",
       "              'open_interest': (dtype('int32'), 24)})"
      ]
     },
     "execution_count": 43,
     "metadata": {},
     "output_type": "execute_result"
    }
   ],
   "source": [
    "df.dtype.fields"
   ]
  },
  {
   "cell_type": "code",
   "execution_count": 8,
   "metadata": {},
   "outputs": [],
   "source": [
    "df = ad.quotes(format='pandas')"
   ]
  },
  {
   "cell_type": "code",
   "execution_count": 13,
   "metadata": {},
   "outputs": [],
   "source": [
    "df = ad.quotes()"
   ]
  },
  {
   "cell_type": "code",
   "execution_count": 23,
   "metadata": {},
   "outputs": [],
   "source": [
    "df['date'] = df['date'].astype('M8[D]')"
   ]
  },
  {
   "cell_type": "code",
   "execution_count": 25,
   "metadata": {},
   "outputs": [
    {
     "data": {
      "text/plain": [
       "array([( 9353, 0.7285, 0.7285 , 0.7285 , 0.7285 ,     2, 0),\n",
       "       ( 9356, 0.7285, 0.7285 , 0.7285 , 0.7285 ,     2, 0),\n",
       "       ( 9357, 0.7285, 0.7285 , 0.7285 , 0.7285 ,     2, 0), ...,\n",
       "       (19093, 0.7468, 0.74745, 0.74215, 0.74365, 61761, 0),\n",
       "       (19094, 0.7428, 0.75015, 0.74075, 0.74685, 70937, 0),\n",
       "       (19095, 0.7461, 0.7482 , 0.73985, 0.74525, 79717, 0)],\n",
       "      dtype=[('date', '<i4'), ('open', '<f4'), ('high', '<f4'), ('low', '<f4'), ('close', '<f4'), ('volume', '<i4'), ('open_interest', '<i4')])"
      ]
     },
     "execution_count": 25,
     "metadata": {},
     "output_type": "execute_result"
    }
   ],
   "source": [
    "df"
   ]
  },
  {
   "cell_type": "code",
   "execution_count": 12,
   "metadata": {},
   "outputs": [
    {
     "data": {
      "text/html": [
       "<div>\n",
       "<style scoped>\n",
       "    .dataframe tbody tr th:only-of-type {\n",
       "        vertical-align: middle;\n",
       "    }\n",
       "\n",
       "    .dataframe tbody tr th {\n",
       "        vertical-align: top;\n",
       "    }\n",
       "\n",
       "    .dataframe thead th {\n",
       "        text-align: right;\n",
       "    }\n",
       "</style>\n",
       "<table border=\"1\" class=\"dataframe\">\n",
       "  <thead>\n",
       "    <tr style=\"text-align: right;\">\n",
       "      <th></th>\n",
       "      <th>open</th>\n",
       "      <th>high</th>\n",
       "      <th>low</th>\n",
       "      <th>close</th>\n",
       "      <th>volume</th>\n",
       "      <th>open_interest</th>\n",
       "    </tr>\n",
       "    <tr>\n",
       "      <th>date</th>\n",
       "      <th></th>\n",
       "      <th></th>\n",
       "      <th></th>\n",
       "      <th></th>\n",
       "      <th></th>\n",
       "      <th></th>\n",
       "    </tr>\n",
       "  </thead>\n",
       "  <tbody>\n",
       "    <tr>\n",
       "      <th>1995-08-11</th>\n",
       "      <td>-0.36670</td>\n",
       "      <td>-0.37200</td>\n",
       "      <td>-0.36210</td>\n",
       "      <td>-0.36520</td>\n",
       "      <td>-304384.0</td>\n",
       "      <td>0.0</td>\n",
       "    </tr>\n",
       "    <tr>\n",
       "      <th>1995-08-14</th>\n",
       "      <td>-0.36670</td>\n",
       "      <td>-0.37200</td>\n",
       "      <td>-0.36210</td>\n",
       "      <td>-0.36520</td>\n",
       "      <td>-304384.0</td>\n",
       "      <td>0.0</td>\n",
       "    </tr>\n",
       "    <tr>\n",
       "      <th>1995-08-15</th>\n",
       "      <td>-0.36670</td>\n",
       "      <td>-0.37200</td>\n",
       "      <td>-0.36210</td>\n",
       "      <td>-0.36520</td>\n",
       "      <td>-304384.0</td>\n",
       "      <td>0.0</td>\n",
       "    </tr>\n",
       "    <tr>\n",
       "      <th>1995-08-16</th>\n",
       "      <td>-0.36670</td>\n",
       "      <td>-0.37200</td>\n",
       "      <td>-0.36210</td>\n",
       "      <td>-0.36520</td>\n",
       "      <td>-304384.0</td>\n",
       "      <td>0.0</td>\n",
       "    </tr>\n",
       "    <tr>\n",
       "      <th>1995-08-17</th>\n",
       "      <td>-0.36670</td>\n",
       "      <td>-0.37200</td>\n",
       "      <td>-0.36210</td>\n",
       "      <td>-0.36520</td>\n",
       "      <td>-304384.0</td>\n",
       "      <td>0.0</td>\n",
       "    </tr>\n",
       "    <tr>\n",
       "      <th>...</th>\n",
       "      <td>...</td>\n",
       "      <td>...</td>\n",
       "      <td>...</td>\n",
       "      <td>...</td>\n",
       "      <td>...</td>\n",
       "      <td>...</td>\n",
       "    </tr>\n",
       "    <tr>\n",
       "      <th>2022-04-07</th>\n",
       "      <td>-0.34335</td>\n",
       "      <td>-0.34785</td>\n",
       "      <td>-0.34325</td>\n",
       "      <td>-0.34450</td>\n",
       "      <td>-228079.0</td>\n",
       "      <td>0.0</td>\n",
       "    </tr>\n",
       "    <tr>\n",
       "      <th>2022-04-08</th>\n",
       "      <td>-0.34645</td>\n",
       "      <td>-0.35050</td>\n",
       "      <td>-0.34720</td>\n",
       "      <td>-0.34695</td>\n",
       "      <td>-240885.0</td>\n",
       "      <td>0.0</td>\n",
       "    </tr>\n",
       "    <tr>\n",
       "      <th>2022-04-11</th>\n",
       "      <td>-0.34840</td>\n",
       "      <td>-0.35305</td>\n",
       "      <td>-0.34845</td>\n",
       "      <td>-0.35005</td>\n",
       "      <td>-242625.0</td>\n",
       "      <td>0.0</td>\n",
       "    </tr>\n",
       "    <tr>\n",
       "      <th>2022-04-12</th>\n",
       "      <td>-0.35240</td>\n",
       "      <td>-0.35035</td>\n",
       "      <td>-0.34985</td>\n",
       "      <td>-0.34685</td>\n",
       "      <td>-233449.0</td>\n",
       "      <td>0.0</td>\n",
       "    </tr>\n",
       "    <tr>\n",
       "      <th>2022-04-13</th>\n",
       "      <td>-0.34910</td>\n",
       "      <td>-0.35230</td>\n",
       "      <td>-0.35075</td>\n",
       "      <td>-0.34845</td>\n",
       "      <td>-224669.0</td>\n",
       "      <td>0.0</td>\n",
       "    </tr>\n",
       "  </tbody>\n",
       "</table>\n",
       "<p>6743 rows × 6 columns</p>\n",
       "</div>"
      ],
      "text/plain": [
       "               open     high      low    close    volume  open_interest\n",
       "date                                                                   \n",
       "1995-08-11 -0.36670 -0.37200 -0.36210 -0.36520 -304384.0            0.0\n",
       "1995-08-14 -0.36670 -0.37200 -0.36210 -0.36520 -304384.0            0.0\n",
       "1995-08-15 -0.36670 -0.37200 -0.36210 -0.36520 -304384.0            0.0\n",
       "1995-08-16 -0.36670 -0.37200 -0.36210 -0.36520 -304384.0            0.0\n",
       "1995-08-17 -0.36670 -0.37200 -0.36210 -0.36520 -304384.0            0.0\n",
       "...             ...      ...      ...      ...       ...            ...\n",
       "2022-04-07 -0.34335 -0.34785 -0.34325 -0.34450 -228079.0            0.0\n",
       "2022-04-08 -0.34645 -0.35050 -0.34720 -0.34695 -240885.0            0.0\n",
       "2022-04-11 -0.34840 -0.35305 -0.34845 -0.35005 -242625.0            0.0\n",
       "2022-04-12 -0.35240 -0.35035 -0.34985 -0.34685 -233449.0            0.0\n",
       "2022-04-13 -0.34910 -0.35230 -0.35075 -0.34845 -224669.0            0.0\n",
       "\n",
       "[6743 rows x 6 columns]"
      ]
     },
     "execution_count": 12,
     "metadata": {},
     "output_type": "execute_result"
    }
   ],
   "source": [
    "df - df.max()"
   ]
  },
  {
   "cell_type": "code",
   "execution_count": null,
   "metadata": {},
   "outputs": [],
   "source": []
  }
 ],
 "metadata": {
  "kernelspec": {
   "display_name": "Python 3 (ipykernel)",
   "language": "python",
   "name": "python3"
  },
  "language_info": {
   "codemirror_mode": {
    "name": "ipython",
    "version": 3
   },
   "file_extension": ".py",
   "mimetype": "text/x-python",
   "name": "python",
   "nbconvert_exporter": "python",
   "pygments_lexer": "ipython3",
   "version": "3.8.5"
  }
 },
 "nbformat": 4,
 "nbformat_minor": 2
}
