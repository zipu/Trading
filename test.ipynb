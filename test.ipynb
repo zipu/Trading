{
 "cells": [
  {
   "cell_type": "code",
   "execution_count": 7,
   "metadata": {},
   "outputs": [],
   "source": [
    "%matplotlib inline"
   ]
  },
  {
   "cell_type": "code",
   "execution_count": 1,
   "metadata": {},
   "outputs": [],
   "source": [
    "import sys, imp, os\n",
    "import pandas as pd\n",
    "import numpy as np\n",
    "import h5py\n",
    "import matplotlib.pyplot as plt\n",
    "import nasdaqdatalink as ndl\n",
    "import yaml\n",
    "\n",
    "from tools.instruments import instruments, Quotes\n",
    "from tools.constants import SRF_CONTINUOUS_BO_DB_PATH\n",
    "from tools.display import ohlc_chart, view\n",
    "import backtesting as bt\n",
    "import re"
   ]
  },
  {
   "cell_type": "code",
   "execution_count": 17,
   "metadata": {},
   "outputs": [],
   "source": [
    "del sys.modules['tools.display']"
   ]
  },
  {
   "cell_type": "code",
   "execution_count": 8,
   "metadata": {},
   "outputs": [],
   "source": [
    "del sys.modules['tools.instruments']\n",
    "del sys.modules['tools.quotes']\n",
    "del sys.modules['backtesting']\n",
    "del sys.modules['backtesting.trader']\n",
    "del sys.modules['backtesting.system']"
   ]
  },
  {
   "cell_type": "code",
   "execution_count": 2,
   "metadata": {},
   "outputs": [
    {
     "name": "stdout",
     "output_type": "stream",
     "text": [
      "{'name': 'tf05', 'description': '시스템 설명', 'quotes_style': 'bo', 'sectors': 'pre-defined', 'instruments': ['AD', 'CL', 'C', 'LC'], 'from_date': '2000-01-01', 'to_date': None, 'principal': 100000, 'max_system_heat': 0.2, 'max_sector_heat': None, 'max_trade_heat': 0.01, 'max_lots': 3, 'commission': 2.99, 'skid': 0.25, 'metrics': [['ma20', 'MA', 'window=20'], ['ma200', 'MA', 'window=200'], ['volatility', 'ATR', 'window=30'], ['min20', 'MIN', 'window=20'], ['max20', 'MAX', 'window=20']], 'entry_rule': {'long': '(ma200>ma20) | (close>min20)', 'short': None}, 'exit_rule': {'long': None, 'short': None}, 'stop_rule': {'long': 'min20', 'short': 'ma200'}}\n"
     ]
    }
   ],
   "source": [
    "with open('backtesting/system1.yaml', encoding='utf-8') as f:\n",
    "    system1 = yaml.load(f, Loader=yaml.FullLoader)\n",
    "    print(system1)"
   ]
  },
  {
   "cell_type": "code",
   "execution_count": 3,
   "metadata": {},
   "outputs": [],
   "source": [
    "trader = bt.Trader(quotes_style='bo', systems=[system1])"
   ]
  },
  {
   "cell_type": "code",
   "execution_count": 4,
   "metadata": {},
   "outputs": [],
   "source": [
    "system = trader.systems[0]"
   ]
  },
  {
   "cell_type": "code",
   "execution_count": 32,
   "metadata": {},
   "outputs": [],
   "source": [
    "a={'a':1,'b':'dd'}"
   ]
  },
  {
   "cell_type": "code",
   "execution_count": 40,
   "metadata": {},
   "outputs": [],
   "source": [
    "a['a'] += 1"
   ]
  },
  {
   "cell_type": "code",
   "execution_count": 41,
   "metadata": {},
   "outputs": [
    {
     "data": {
      "text/plain": [
       "{'a': 2, 'b': 'dd'}"
      ]
     },
     "execution_count": 41,
     "metadata": {},
     "output_type": "execute_result"
    }
   ],
   "source": [
    "a"
   ]
  },
  {
   "cell_type": "code",
   "execution_count": 39,
   "metadata": {},
   "outputs": [
    {
     "data": {
      "text/plain": [
       "[1, 'dd']"
      ]
     },
     "execution_count": 39,
     "metadata": {},
     "output_type": "execute_result"
    }
   ],
   "source": [
    "list(s)"
   ]
  },
  {
   "cell_type": "code",
   "execution_count": 2,
   "metadata": {},
   "outputs": [],
   "source": [
    "a[1] = 5"
   ]
  },
  {
   "cell_type": "code",
   "execution_count": 8,
   "metadata": {},
   "outputs": [],
   "source": [
    "a =[{'a':1},{'b':2}]"
   ]
  },
  {
   "cell_type": "code",
   "execution_count": 13,
   "metadata": {},
   "outputs": [],
   "source": [
    "def test(s):\n",
    "    s['test'] = '???'"
   ]
  },
  {
   "cell_type": "code",
   "execution_count": 14,
   "metadata": {},
   "outputs": [],
   "source": [
    "test(a[1])"
   ]
  },
  {
   "cell_type": "code",
   "execution_count": 16,
   "metadata": {},
   "outputs": [],
   "source": [
    "def defaultheat(a):\n",
    "    print(a)"
   ]
  },
  {
   "cell_type": "code",
   "execution_count": 20,
   "metadata": {},
   "outputs": [
    {
     "name": "stdout",
     "output_type": "stream",
     "text": [
      "asdf\n"
     ]
    }
   ],
   "source": [
    "test='defaultheat'\n",
    "eval(test)('asdf')"
   ]
  },
  {
   "cell_type": "code",
   "execution_count": 24,
   "metadata": {},
   "outputs": [],
   "source": [
    "from backtesting.book.heat import Heat"
   ]
  },
  {
   "cell_type": "code",
   "execution_count": 26,
   "metadata": {},
   "outputs": [],
   "source": [
    "h = Heat(1,2,3,4,'DefaultHeat')"
   ]
  },
  {
   "cell_type": "code",
   "execution_count": 29,
   "metadata": {},
   "outputs": [
    {
     "ename": "AttributeError",
     "evalue": "'Heat' object has no attribute 'system_heat'",
     "output_type": "error",
     "traceback": [
      "\u001b[1;31m---------------------------------------------------------------------------\u001b[0m",
      "\u001b[1;31mAttributeError\u001b[0m                            Traceback (most recent call last)",
      "Input \u001b[1;32mIn [29]\u001b[0m, in \u001b[0;36m<cell line: 1>\u001b[1;34m()\u001b[0m\n\u001b[1;32m----> 1\u001b[0m \u001b[43mh\u001b[49m\u001b[38;5;241;43m.\u001b[39;49m\u001b[43msystem_heat\u001b[49m()\n",
      "\u001b[1;31mAttributeError\u001b[0m: 'Heat' object has no attribute 'system_heat'"
     ]
    }
   ],
   "source": [
    "h.system_heat()"
   ]
  },
  {
   "cell_type": "code",
   "execution_count": 32,
   "metadata": {},
   "outputs": [
    {
     "ename": "SyntaxError",
     "evalue": "invalid syntax (466116102.py, line 3)",
     "output_type": "error",
     "traceback": [
      "\u001b[1;36m  Input \u001b[1;32mIn [32]\u001b[1;36m\u001b[0m\n\u001b[1;33m    return s if n==2 else s+=fib(n-1)\u001b[0m\n\u001b[1;37m                           ^\u001b[0m\n\u001b[1;31mSyntaxError\u001b[0m\u001b[1;31m:\u001b[0m invalid syntax\n"
     ]
    }
   ],
   "source": [
    "s = [1,1]\n",
    "def fib(n):\n",
    "    return s if n==2 else s+=fib(n-1)"
   ]
  },
  {
   "cell_type": "code",
   "execution_count": 31,
   "metadata": {},
   "outputs": [
    {
     "data": {
      "text/plain": [
       "[1, 1]"
      ]
     },
     "execution_count": 31,
     "metadata": {},
     "output_type": "execute_result"
    }
   ],
   "source": [
    "fib(3)"
   ]
  },
  {
   "cell_type": "code",
   "execution_count": 61,
   "metadata": {},
   "outputs": [],
   "source": [
    "condition = '(ma200>ma20) | (close>min20)'\n",
    "for field in fields: \n",
    "    condition = re.sub(f\"(?<![A-Za-z0-9])({field})(?![A-Za-z0-9])\", f\"df['{field}']\", condition)"
   ]
  },
  {
   "cell_type": "code",
   "execution_count": 62,
   "metadata": {},
   "outputs": [
    {
     "data": {
      "text/plain": [
       "\"(df['ma200']>df['ma20']) | (df['close']>df['min20'])\""
      ]
     },
     "execution_count": 62,
     "metadata": {},
     "output_type": "execute_result"
    }
   ],
   "source": [
    "condition"
   ]
  },
  {
   "cell_type": "code",
   "execution_count": 52,
   "metadata": {},
   "outputs": [
    {
     "data": {
      "text/plain": [
       "\"(ma200>df['ma20']) | (close>min20)\""
      ]
     },
     "execution_count": 52,
     "metadata": {},
     "output_type": "execute_result"
    }
   ],
   "source": [
    "t = 'ma20'\n",
    "re.sub(f\"(?<![A-Za-z0-9]){t}(?![A-Za-z0-9])\", \"df['ma20']\", '(ma200>ma20) | (close>min20)')"
   ]
  },
  {
   "cell_type": "code",
   "execution_count": 38,
   "metadata": {},
   "outputs": [
    {
     "data": {
      "text/plain": [
       "'(max20)'"
      ]
     },
     "execution_count": 38,
     "metadata": {},
     "output_type": "execute_result"
    }
   ],
   "source": [
    "f\"({field})\""
   ]
  },
  {
   "cell_type": "code",
   "execution_count": 13,
   "metadata": {},
   "outputs": [
    {
     "data": {
      "text/plain": [
       "symbol  field \n",
       "AD      open     NaN\n",
       "        high     NaN\n",
       "        low      NaN\n",
       "        close    NaN\n",
       "        volume   NaN\n",
       "                  ..\n",
       "W       high     NaN\n",
       "        low      NaN\n",
       "        close    NaN\n",
       "        volume   NaN\n",
       "        oi       NaN\n",
       "Name: 1959-08-17 00:00:00, Length: 270, dtype: float64"
      ]
     },
     "execution_count": 13,
     "metadata": {},
     "output_type": "execute_result"
    }
   ],
   "source": [
    "trader.quotes.loc[dates[10]]"
   ]
  },
  {
   "cell_type": "code",
   "execution_count": 11,
   "metadata": {},
   "outputs": [
    {
     "data": {
      "text/plain": [
       "DatetimeIndex(['1959-08-03', '1959-08-04', '1959-08-05', '1959-08-06',\n",
       "               '1959-08-07', '1959-08-10', '1959-08-11', '1959-08-12',\n",
       "               '1959-08-13', '1959-08-14',\n",
       "               ...\n",
       "               '2022-04-21', '2022-04-22', '2022-04-25', '2022-04-26',\n",
       "               '2022-04-27', '2022-04-28', '2022-04-29', '2022-05-02',\n",
       "               '2022-05-03', '2022-05-04'],\n",
       "              dtype='datetime64[ns]', name='date', length=16028, freq=None)"
      ]
     },
     "execution_count": 11,
     "metadata": {},
     "output_type": "execute_result"
    }
   ],
   "source": []
  },
  {
   "cell_type": "code",
   "execution_count": 6,
   "metadata": {},
   "outputs": [],
   "source": [
    "system = trader.systems[0]"
   ]
  },
  {
   "cell_type": "code",
   "execution_count": 17,
   "metadata": {},
   "outputs": [],
   "source": [
    "quote = trader.quotes['AD'].iloc[7000]"
   ]
  },
  {
   "cell_type": "code",
   "execution_count": 19,
   "metadata": {},
   "outputs": [
    {
     "data": {
      "text/plain": [
       "0.000800013542175293"
      ]
     },
     "execution_count": 19,
     "metadata": {},
     "output_type": "execute_result"
    }
   ],
   "source": [
    "abs(quote['open'] - quote['high'])"
   ]
  },
  {
   "cell_type": "code",
   "execution_count": 21,
   "metadata": {},
   "outputs": [
    {
     "data": {
      "text/html": [
       "<div>\n",
       "<style scoped>\n",
       "    .dataframe tbody tr th:only-of-type {\n",
       "        vertical-align: middle;\n",
       "    }\n",
       "\n",
       "    .dataframe tbody tr th {\n",
       "        vertical-align: top;\n",
       "    }\n",
       "\n",
       "    .dataframe thead th {\n",
       "        text-align: right;\n",
       "    }\n",
       "</style>\n",
       "<table border=\"1\" class=\"dataframe\">\n",
       "  <thead>\n",
       "    <tr style=\"text-align: right;\">\n",
       "      <th></th>\n",
       "      <th>enter_long</th>\n",
       "      <th>enter_short</th>\n",
       "      <th>exit_long</th>\n",
       "      <th>exit_short</th>\n",
       "      <th>stop_long</th>\n",
       "      <th>stop_short</th>\n",
       "    </tr>\n",
       "  </thead>\n",
       "  <tbody>\n",
       "    <tr>\n",
       "      <th>1959-08-03</th>\n",
       "      <td>False</td>\n",
       "      <td>NaN</td>\n",
       "      <td>NaN</td>\n",
       "      <td>NaN</td>\n",
       "      <td>False</td>\n",
       "      <td>False</td>\n",
       "    </tr>\n",
       "    <tr>\n",
       "      <th>1959-08-04</th>\n",
       "      <td>False</td>\n",
       "      <td>NaN</td>\n",
       "      <td>NaN</td>\n",
       "      <td>NaN</td>\n",
       "      <td>False</td>\n",
       "      <td>False</td>\n",
       "    </tr>\n",
       "    <tr>\n",
       "      <th>1959-08-05</th>\n",
       "      <td>False</td>\n",
       "      <td>NaN</td>\n",
       "      <td>NaN</td>\n",
       "      <td>NaN</td>\n",
       "      <td>False</td>\n",
       "      <td>False</td>\n",
       "    </tr>\n",
       "    <tr>\n",
       "      <th>1959-08-06</th>\n",
       "      <td>False</td>\n",
       "      <td>NaN</td>\n",
       "      <td>NaN</td>\n",
       "      <td>NaN</td>\n",
       "      <td>False</td>\n",
       "      <td>False</td>\n",
       "    </tr>\n",
       "    <tr>\n",
       "      <th>1959-08-07</th>\n",
       "      <td>False</td>\n",
       "      <td>NaN</td>\n",
       "      <td>NaN</td>\n",
       "      <td>NaN</td>\n",
       "      <td>False</td>\n",
       "      <td>False</td>\n",
       "    </tr>\n",
       "    <tr>\n",
       "      <th>...</th>\n",
       "      <td>...</td>\n",
       "      <td>...</td>\n",
       "      <td>...</td>\n",
       "      <td>...</td>\n",
       "      <td>...</td>\n",
       "      <td>...</td>\n",
       "    </tr>\n",
       "    <tr>\n",
       "      <th>2022-04-28</th>\n",
       "      <td>True</td>\n",
       "      <td>NaN</td>\n",
       "      <td>NaN</td>\n",
       "      <td>NaN</td>\n",
       "      <td>False</td>\n",
       "      <td>True</td>\n",
       "    </tr>\n",
       "    <tr>\n",
       "      <th>2022-04-29</th>\n",
       "      <td>True</td>\n",
       "      <td>NaN</td>\n",
       "      <td>NaN</td>\n",
       "      <td>NaN</td>\n",
       "      <td>False</td>\n",
       "      <td>True</td>\n",
       "    </tr>\n",
       "    <tr>\n",
       "      <th>2022-05-02</th>\n",
       "      <td>True</td>\n",
       "      <td>NaN</td>\n",
       "      <td>NaN</td>\n",
       "      <td>NaN</td>\n",
       "      <td>False</td>\n",
       "      <td>True</td>\n",
       "    </tr>\n",
       "    <tr>\n",
       "      <th>2022-05-03</th>\n",
       "      <td>True</td>\n",
       "      <td>NaN</td>\n",
       "      <td>NaN</td>\n",
       "      <td>NaN</td>\n",
       "      <td>False</td>\n",
       "      <td>True</td>\n",
       "    </tr>\n",
       "    <tr>\n",
       "      <th>2022-05-04</th>\n",
       "      <td>True</td>\n",
       "      <td>NaN</td>\n",
       "      <td>NaN</td>\n",
       "      <td>NaN</td>\n",
       "      <td>False</td>\n",
       "      <td>True</td>\n",
       "    </tr>\n",
       "  </tbody>\n",
       "</table>\n",
       "<p>16028 rows × 6 columns</p>\n",
       "</div>"
      ],
      "text/plain": [
       "            enter_long  enter_short  exit_long  exit_short  stop_long  \\\n",
       "1959-08-03       False          NaN        NaN         NaN      False   \n",
       "1959-08-04       False          NaN        NaN         NaN      False   \n",
       "1959-08-05       False          NaN        NaN         NaN      False   \n",
       "1959-08-06       False          NaN        NaN         NaN      False   \n",
       "1959-08-07       False          NaN        NaN         NaN      False   \n",
       "...                ...          ...        ...         ...        ...   \n",
       "2022-04-28        True          NaN        NaN         NaN      False   \n",
       "2022-04-29        True          NaN        NaN         NaN      False   \n",
       "2022-05-02        True          NaN        NaN         NaN      False   \n",
       "2022-05-03        True          NaN        NaN         NaN      False   \n",
       "2022-05-04        True          NaN        NaN         NaN      False   \n",
       "\n",
       "            stop_short  \n",
       "1959-08-03       False  \n",
       "1959-08-04       False  \n",
       "1959-08-05       False  \n",
       "1959-08-06       False  \n",
       "1959-08-07       False  \n",
       "...                ...  \n",
       "2022-04-28        True  \n",
       "2022-04-29        True  \n",
       "2022-05-02        True  \n",
       "2022-05-03        True  \n",
       "2022-05-04        True  \n",
       "\n",
       "[16028 rows x 6 columns]"
      ]
     },
     "execution_count": 21,
     "metadata": {},
     "output_type": "execute_result"
    }
   ],
   "source": [
    "system.signals['AD']"
   ]
  },
  {
   "cell_type": "code",
   "execution_count": 24,
   "metadata": {},
   "outputs": [],
   "source": [
    "date = quote.name"
   ]
  },
  {
   "cell_type": "code",
   "execution_count": 25,
   "metadata": {},
   "outputs": [
    {
     "data": {
      "text/plain": [
       "7000"
      ]
     },
     "execution_count": 25,
     "metadata": {},
     "output_type": "execute_result"
    }
   ],
   "source": [
    "trader.quotes.index.get_loc(date)"
   ]
  },
  {
   "cell_type": "code",
   "execution_count": 58,
   "metadata": {},
   "outputs": [
    {
     "data": {
      "text/plain": [
       "False"
      ]
     },
     "execution_count": 58,
     "metadata": {},
     "output_type": "execute_result"
    }
   ],
   "source": [
    "system.quotes['AD']['stop_long'].loc[date]"
   ]
  },
  {
   "cell_type": "code",
   "execution_count": 27,
   "metadata": {},
   "outputs": [
    {
     "data": {
      "text/plain": [
       "Timestamp('1987-05-11 00:00:00')"
      ]
     },
     "execution_count": 27,
     "metadata": {},
     "output_type": "execute_result"
    }
   ],
   "source": [
    "trader.quotes.iloc[6999].name"
   ]
  },
  {
   "cell_type": "code",
   "execution_count": 38,
   "metadata": {},
   "outputs": [
    {
     "data": {
      "text/plain": [
       "symbol  field \n",
       "W       open        1047.00\n",
       "        high        1089.00\n",
       "        low         1042.25\n",
       "        close       1076.50\n",
       "        volume     42332.00\n",
       "        oi        177503.00\n",
       "Name: 2022-05-04 00:00:00, dtype: float64"
      ]
     },
     "execution_count": 38,
     "metadata": {},
     "output_type": "execute_result"
    }
   ],
   "source": [
    "i[1]"
   ]
  },
  {
   "cell_type": "code",
   "execution_count": 2,
   "metadata": {},
   "outputs": [],
   "source": [
    "s=[('a',1),('b',2),('a','asdf')]"
   ]
  },
  {
   "cell_type": "code",
   "execution_count": 5,
   "metadata": {},
   "outputs": [
    {
     "data": {
      "text/plain": [
       "{'a': 'asdf', 'b': 2}"
      ]
     },
     "execution_count": 5,
     "metadata": {},
     "output_type": "execute_result"
    }
   ],
   "source": [
    "{ s[0]:s[1] for s in s}"
   ]
  },
  {
   "cell_type": "code",
   "execution_count": null,
   "metadata": {},
   "outputs": [],
   "source": []
  },
  {
   "cell_type": "code",
   "execution_count": 19,
   "metadata": {},
   "outputs": [
    {
     "data": {
      "text/html": [
       "<div>\n",
       "<style scoped>\n",
       "    .dataframe tbody tr th:only-of-type {\n",
       "        vertical-align: middle;\n",
       "    }\n",
       "\n",
       "    .dataframe tbody tr th {\n",
       "        vertical-align: top;\n",
       "    }\n",
       "\n",
       "    .dataframe thead tr th {\n",
       "        text-align: left;\n",
       "    }\n",
       "\n",
       "    .dataframe thead tr:last-of-type th {\n",
       "        text-align: right;\n",
       "    }\n",
       "</style>\n",
       "<table border=\"1\" class=\"dataframe\">\n",
       "  <thead>\n",
       "    <tr>\n",
       "      <th></th>\n",
       "      <th colspan=\"7\" halign=\"left\">AD</th>\n",
       "      <th colspan=\"3\" halign=\"left\">BO</th>\n",
       "      <th>...</th>\n",
       "      <th colspan=\"3\" halign=\"left\">US</th>\n",
       "      <th colspan=\"7\" halign=\"left\">W</th>\n",
       "    </tr>\n",
       "    <tr>\n",
       "      <th></th>\n",
       "      <th>ma</th>\n",
       "      <th>volatility</th>\n",
       "      <th>min20</th>\n",
       "      <th>max20</th>\n",
       "      <th>enter_long</th>\n",
       "      <th>stop_long</th>\n",
       "      <th>stop_short</th>\n",
       "      <th>ma</th>\n",
       "      <th>volatility</th>\n",
       "      <th>min20</th>\n",
       "      <th>...</th>\n",
       "      <th>enter_long</th>\n",
       "      <th>stop_long</th>\n",
       "      <th>stop_short</th>\n",
       "      <th>ma</th>\n",
       "      <th>volatility</th>\n",
       "      <th>min20</th>\n",
       "      <th>max20</th>\n",
       "      <th>enter_long</th>\n",
       "      <th>stop_long</th>\n",
       "      <th>stop_short</th>\n",
       "    </tr>\n",
       "    <tr>\n",
       "      <th>date</th>\n",
       "      <th></th>\n",
       "      <th></th>\n",
       "      <th></th>\n",
       "      <th></th>\n",
       "      <th></th>\n",
       "      <th></th>\n",
       "      <th></th>\n",
       "      <th></th>\n",
       "      <th></th>\n",
       "      <th></th>\n",
       "      <th></th>\n",
       "      <th></th>\n",
       "      <th></th>\n",
       "      <th></th>\n",
       "      <th></th>\n",
       "      <th></th>\n",
       "      <th></th>\n",
       "      <th></th>\n",
       "      <th></th>\n",
       "      <th></th>\n",
       "      <th></th>\n",
       "    </tr>\n",
       "  </thead>\n",
       "  <tbody>\n",
       "    <tr>\n",
       "      <th>1959-08-03</th>\n",
       "      <td>NaN</td>\n",
       "      <td>NaN</td>\n",
       "      <td>NaN</td>\n",
       "      <td>NaN</td>\n",
       "      <td>False</td>\n",
       "      <td>False</td>\n",
       "      <td>False</td>\n",
       "      <td>NaN</td>\n",
       "      <td>NaN</td>\n",
       "      <td>NaN</td>\n",
       "      <td>...</td>\n",
       "      <td>False</td>\n",
       "      <td>False</td>\n",
       "      <td>False</td>\n",
       "      <td>NaN</td>\n",
       "      <td>NaN</td>\n",
       "      <td>NaN</td>\n",
       "      <td>NaN</td>\n",
       "      <td>False</td>\n",
       "      <td>False</td>\n",
       "      <td>False</td>\n",
       "    </tr>\n",
       "    <tr>\n",
       "      <th>1959-08-04</th>\n",
       "      <td>NaN</td>\n",
       "      <td>NaN</td>\n",
       "      <td>NaN</td>\n",
       "      <td>NaN</td>\n",
       "      <td>False</td>\n",
       "      <td>False</td>\n",
       "      <td>False</td>\n",
       "      <td>NaN</td>\n",
       "      <td>NaN</td>\n",
       "      <td>NaN</td>\n",
       "      <td>...</td>\n",
       "      <td>False</td>\n",
       "      <td>False</td>\n",
       "      <td>False</td>\n",
       "      <td>NaN</td>\n",
       "      <td>NaN</td>\n",
       "      <td>NaN</td>\n",
       "      <td>NaN</td>\n",
       "      <td>False</td>\n",
       "      <td>False</td>\n",
       "      <td>False</td>\n",
       "    </tr>\n",
       "    <tr>\n",
       "      <th>1959-08-05</th>\n",
       "      <td>NaN</td>\n",
       "      <td>NaN</td>\n",
       "      <td>NaN</td>\n",
       "      <td>NaN</td>\n",
       "      <td>False</td>\n",
       "      <td>False</td>\n",
       "      <td>False</td>\n",
       "      <td>NaN</td>\n",
       "      <td>NaN</td>\n",
       "      <td>NaN</td>\n",
       "      <td>...</td>\n",
       "      <td>False</td>\n",
       "      <td>False</td>\n",
       "      <td>False</td>\n",
       "      <td>NaN</td>\n",
       "      <td>NaN</td>\n",
       "      <td>NaN</td>\n",
       "      <td>NaN</td>\n",
       "      <td>False</td>\n",
       "      <td>False</td>\n",
       "      <td>False</td>\n",
       "    </tr>\n",
       "    <tr>\n",
       "      <th>1959-08-06</th>\n",
       "      <td>NaN</td>\n",
       "      <td>NaN</td>\n",
       "      <td>NaN</td>\n",
       "      <td>NaN</td>\n",
       "      <td>False</td>\n",
       "      <td>False</td>\n",
       "      <td>False</td>\n",
       "      <td>NaN</td>\n",
       "      <td>NaN</td>\n",
       "      <td>NaN</td>\n",
       "      <td>...</td>\n",
       "      <td>False</td>\n",
       "      <td>False</td>\n",
       "      <td>False</td>\n",
       "      <td>NaN</td>\n",
       "      <td>NaN</td>\n",
       "      <td>NaN</td>\n",
       "      <td>NaN</td>\n",
       "      <td>False</td>\n",
       "      <td>False</td>\n",
       "      <td>False</td>\n",
       "    </tr>\n",
       "    <tr>\n",
       "      <th>1959-08-07</th>\n",
       "      <td>NaN</td>\n",
       "      <td>NaN</td>\n",
       "      <td>NaN</td>\n",
       "      <td>NaN</td>\n",
       "      <td>False</td>\n",
       "      <td>False</td>\n",
       "      <td>False</td>\n",
       "      <td>NaN</td>\n",
       "      <td>NaN</td>\n",
       "      <td>NaN</td>\n",
       "      <td>...</td>\n",
       "      <td>False</td>\n",
       "      <td>False</td>\n",
       "      <td>False</td>\n",
       "      <td>NaN</td>\n",
       "      <td>NaN</td>\n",
       "      <td>NaN</td>\n",
       "      <td>NaN</td>\n",
       "      <td>False</td>\n",
       "      <td>False</td>\n",
       "      <td>False</td>\n",
       "    </tr>\n",
       "    <tr>\n",
       "      <th>...</th>\n",
       "      <td>...</td>\n",
       "      <td>...</td>\n",
       "      <td>...</td>\n",
       "      <td>...</td>\n",
       "      <td>...</td>\n",
       "      <td>...</td>\n",
       "      <td>...</td>\n",
       "      <td>...</td>\n",
       "      <td>...</td>\n",
       "      <td>...</td>\n",
       "      <td>...</td>\n",
       "      <td>...</td>\n",
       "      <td>...</td>\n",
       "      <td>...</td>\n",
       "      <td>...</td>\n",
       "      <td>...</td>\n",
       "      <td>...</td>\n",
       "      <td>...</td>\n",
       "      <td>...</td>\n",
       "      <td>...</td>\n",
       "      <td>...</td>\n",
       "    </tr>\n",
       "    <tr>\n",
       "      <th>2022-04-28</th>\n",
       "      <td>0.738813</td>\n",
       "      <td>2.754602</td>\n",
       "      <td>0.70595</td>\n",
       "      <td>0.76690</td>\n",
       "      <td>True</td>\n",
       "      <td>False</td>\n",
       "      <td>True</td>\n",
       "      <td>76.194499</td>\n",
       "      <td>1.648556</td>\n",
       "      <td>67.279991</td>\n",
       "      <td>...</td>\n",
       "      <td>True</td>\n",
       "      <td>False</td>\n",
       "      <td>True</td>\n",
       "      <td>1071.9500</td>\n",
       "      <td>0.962584</td>\n",
       "      <td>985.00</td>\n",
       "      <td>1143.5</td>\n",
       "      <td>True</td>\n",
       "      <td>False</td>\n",
       "      <td>True</td>\n",
       "    </tr>\n",
       "    <tr>\n",
       "      <th>2022-04-29</th>\n",
       "      <td>0.736765</td>\n",
       "      <td>3.018141</td>\n",
       "      <td>0.70595</td>\n",
       "      <td>0.76690</td>\n",
       "      <td>True</td>\n",
       "      <td>False</td>\n",
       "      <td>True</td>\n",
       "      <td>76.984499</td>\n",
       "      <td>1.851431</td>\n",
       "      <td>67.279991</td>\n",
       "      <td>...</td>\n",
       "      <td>True</td>\n",
       "      <td>False</td>\n",
       "      <td>True</td>\n",
       "      <td>1074.3125</td>\n",
       "      <td>0.975491</td>\n",
       "      <td>985.00</td>\n",
       "      <td>1143.5</td>\n",
       "      <td>True</td>\n",
       "      <td>False</td>\n",
       "      <td>True</td>\n",
       "    </tr>\n",
       "    <tr>\n",
       "      <th>2022-05-02</th>\n",
       "      <td>0.734453</td>\n",
       "      <td>2.621814</td>\n",
       "      <td>0.70355</td>\n",
       "      <td>0.76690</td>\n",
       "      <td>True</td>\n",
       "      <td>False</td>\n",
       "      <td>True</td>\n",
       "      <td>77.506999</td>\n",
       "      <td>2.303545</td>\n",
       "      <td>69.339996</td>\n",
       "      <td>...</td>\n",
       "      <td>True</td>\n",
       "      <td>False</td>\n",
       "      <td>True</td>\n",
       "      <td>1077.7375</td>\n",
       "      <td>0.941630</td>\n",
       "      <td>987.25</td>\n",
       "      <td>1143.5</td>\n",
       "      <td>True</td>\n",
       "      <td>False</td>\n",
       "      <td>True</td>\n",
       "    </tr>\n",
       "    <tr>\n",
       "      <th>2022-05-03</th>\n",
       "      <td>0.732163</td>\n",
       "      <td>2.784565</td>\n",
       "      <td>0.70355</td>\n",
       "      <td>0.76690</td>\n",
       "      <td>True</td>\n",
       "      <td>False</td>\n",
       "      <td>True</td>\n",
       "      <td>77.982000</td>\n",
       "      <td>2.364416</td>\n",
       "      <td>69.940002</td>\n",
       "      <td>...</td>\n",
       "      <td>True</td>\n",
       "      <td>False</td>\n",
       "      <td>True</td>\n",
       "      <td>1079.3750</td>\n",
       "      <td>0.858491</td>\n",
       "      <td>1022.25</td>\n",
       "      <td>1143.5</td>\n",
       "      <td>True</td>\n",
       "      <td>False</td>\n",
       "      <td>True</td>\n",
       "    </tr>\n",
       "    <tr>\n",
       "      <th>2022-05-04</th>\n",
       "      <td>0.730338</td>\n",
       "      <td>3.448874</td>\n",
       "      <td>0.70355</td>\n",
       "      <td>0.76005</td>\n",
       "      <td>True</td>\n",
       "      <td>False</td>\n",
       "      <td>True</td>\n",
       "      <td>78.561000</td>\n",
       "      <td>2.362859</td>\n",
       "      <td>69.940002</td>\n",
       "      <td>...</td>\n",
       "      <td>True</td>\n",
       "      <td>False</td>\n",
       "      <td>True</td>\n",
       "      <td>1080.8125</td>\n",
       "      <td>0.871155</td>\n",
       "      <td>1022.25</td>\n",
       "      <td>1143.5</td>\n",
       "      <td>True</td>\n",
       "      <td>False</td>\n",
       "      <td>True</td>\n",
       "    </tr>\n",
       "  </tbody>\n",
       "</table>\n",
       "<p>16028 rows × 315 columns</p>\n",
       "</div>"
      ],
      "text/plain": [
       "                  AD                                                    \\\n",
       "                  ma volatility    min20    max20 enter_long stop_long   \n",
       "date                                                                     \n",
       "1959-08-03       NaN        NaN      NaN      NaN      False     False   \n",
       "1959-08-04       NaN        NaN      NaN      NaN      False     False   \n",
       "1959-08-05       NaN        NaN      NaN      NaN      False     False   \n",
       "1959-08-06       NaN        NaN      NaN      NaN      False     False   \n",
       "1959-08-07       NaN        NaN      NaN      NaN      False     False   \n",
       "...              ...        ...      ...      ...        ...       ...   \n",
       "2022-04-28  0.738813   2.754602  0.70595  0.76690       True     False   \n",
       "2022-04-29  0.736765   3.018141  0.70595  0.76690       True     False   \n",
       "2022-05-02  0.734453   2.621814  0.70355  0.76690       True     False   \n",
       "2022-05-03  0.732163   2.784565  0.70355  0.76690       True     False   \n",
       "2022-05-04  0.730338   3.448874  0.70355  0.76005       True     False   \n",
       "\n",
       "                              BO                        ...         US  \\\n",
       "           stop_short         ma volatility      min20  ... enter_long   \n",
       "date                                                    ...              \n",
       "1959-08-03      False        NaN        NaN        NaN  ...      False   \n",
       "1959-08-04      False        NaN        NaN        NaN  ...      False   \n",
       "1959-08-05      False        NaN        NaN        NaN  ...      False   \n",
       "1959-08-06      False        NaN        NaN        NaN  ...      False   \n",
       "1959-08-07      False        NaN        NaN        NaN  ...      False   \n",
       "...               ...        ...        ...        ...  ...        ...   \n",
       "2022-04-28       True  76.194499   1.648556  67.279991  ...       True   \n",
       "2022-04-29       True  76.984499   1.851431  67.279991  ...       True   \n",
       "2022-05-02       True  77.506999   2.303545  69.339996  ...       True   \n",
       "2022-05-03       True  77.982000   2.364416  69.940002  ...       True   \n",
       "2022-05-04       True  78.561000   2.362859  69.940002  ...       True   \n",
       "\n",
       "                                         W                              \\\n",
       "           stop_long stop_short         ma volatility    min20   max20   \n",
       "date                                                                     \n",
       "1959-08-03     False      False        NaN        NaN      NaN     NaN   \n",
       "1959-08-04     False      False        NaN        NaN      NaN     NaN   \n",
       "1959-08-05     False      False        NaN        NaN      NaN     NaN   \n",
       "1959-08-06     False      False        NaN        NaN      NaN     NaN   \n",
       "1959-08-07     False      False        NaN        NaN      NaN     NaN   \n",
       "...              ...        ...        ...        ...      ...     ...   \n",
       "2022-04-28     False       True  1071.9500   0.962584   985.00  1143.5   \n",
       "2022-04-29     False       True  1074.3125   0.975491   985.00  1143.5   \n",
       "2022-05-02     False       True  1077.7375   0.941630   987.25  1143.5   \n",
       "2022-05-03     False       True  1079.3750   0.858491  1022.25  1143.5   \n",
       "2022-05-04     False       True  1080.8125   0.871155  1022.25  1143.5   \n",
       "\n",
       "                                            \n",
       "           enter_long stop_long stop_short  \n",
       "date                                        \n",
       "1959-08-03      False     False      False  \n",
       "1959-08-04      False     False      False  \n",
       "1959-08-05      False     False      False  \n",
       "1959-08-06      False     False      False  \n",
       "1959-08-07      False     False      False  \n",
       "...               ...       ...        ...  \n",
       "2022-04-28       True     False       True  \n",
       "2022-04-29       True     False       True  \n",
       "2022-05-02       True     False       True  \n",
       "2022-05-03       True     False       True  \n",
       "2022-05-04       True     False       True  \n",
       "\n",
       "[16028 rows x 315 columns]"
      ]
     },
     "execution_count": 19,
     "metadata": {},
     "output_type": "execute_result"
    }
   ],
   "source": [
    "system.quotes"
   ]
  },
  {
   "cell_type": "code",
   "execution_count": 16,
   "metadata": {},
   "outputs": [
    {
     "data": {
      "text/plain": [
       "['AD',\n",
       " 'BO',\n",
       " 'BP',\n",
       " 'C',\n",
       " 'CC',\n",
       " 'CD',\n",
       " 'CL',\n",
       " 'CT',\n",
       " 'DX',\n",
       " 'EC',\n",
       " 'ED',\n",
       " 'ES',\n",
       " 'FF',\n",
       " 'FV',\n",
       " 'G',\n",
       " 'GC',\n",
       " 'HG',\n",
       " 'HO',\n",
       " 'JY',\n",
       " 'KC',\n",
       " 'KW',\n",
       " 'LC',\n",
       " 'LN',\n",
       " 'MD',\n",
       " 'MP',\n",
       " 'NE',\n",
       " 'NG',\n",
       " 'NK',\n",
       " 'NQ',\n",
       " 'O',\n",
       " 'OJ',\n",
       " 'PA',\n",
       " 'PL',\n",
       " 'RB',\n",
       " 'RTY',\n",
       " 'S',\n",
       " 'SB',\n",
       " 'SF',\n",
       " 'SI',\n",
       " 'SM',\n",
       " 'SP',\n",
       " 'TU',\n",
       " 'TY',\n",
       " 'US',\n",
       " 'W']"
      ]
     },
     "execution_count": 16,
     "metadata": {},
     "output_type": "execute_result"
    }
   ],
   "source": [
    "system.symbols"
   ]
  },
  {
   "cell_type": "code",
   "execution_count": 8,
   "metadata": {},
   "outputs": [
    {
     "data": {
      "image/png": "[encoded data removed]",
      "text/plain": [
       "<Figure size 720x518.4 with 3 Axes>"
      ]
     },
     "execution_count": 8,
     "metadata": {},
     "output_type": "execute_result"
    }
   ],
   "source": [
    "#del sys.modules['tools.display']\n",
    "#from tools.display import view\n",
    "date = '2022-01-01'\n",
    "metrics = system.metrics['AD'][['ma20','volatility', 'min20']][date:]\n",
    "view(instruments.quotes()['AD'][date:], metrics=metrics)"
   ]
  },
  {
   "cell_type": "code",
   "execution_count": 11,
   "metadata": {},
   "outputs": [],
   "source": [
    "signals = system.signals.iloc[1000]"
   ]
  },
  {
   "cell_type": "code",
   "execution_count": 24,
   "metadata": {},
   "outputs": [],
   "source": [
    "for symbol in system.symbols:\n",
    "    pass"
   ]
  },
  {
   "cell_type": "code",
   "execution_count": 39,
   "metadata": {},
   "outputs": [],
   "source": [
    "df = pd.DataFrame()"
   ]
  },
  {
   "cell_type": "code",
   "execution_count": 47,
   "metadata": {},
   "outputs": [],
   "source": [
    "df['AD','test'] = float('nan')"
   ]
  },
  {
   "cell_type": "code",
   "execution_count": 48,
   "metadata": {},
   "outputs": [],
   "source": [
    "d = pd.concat([system.signals, df], axis=1)"
   ]
  },
  {
   "cell_type": "code",
   "execution_count": 50,
   "metadata": {},
   "outputs": [
    {
     "data": {
      "text/plain": [
       "1959-08-03   NaN\n",
       "1959-08-04   NaN\n",
       "1959-08-05   NaN\n",
       "1959-08-06   NaN\n",
       "1959-08-07   NaN\n",
       "              ..\n",
       "2022-04-28   NaN\n",
       "2022-04-29   NaN\n",
       "2022-05-02   NaN\n",
       "2022-05-03   NaN\n",
       "2022-05-04   NaN\n",
       "Name: test, Length: 16028, dtype: float64"
      ]
     },
     "execution_count": 50,
     "metadata": {},
     "output_type": "execute_result"
    }
   ],
   "source": [
    "d['AD']['test']"
   ]
  },
  {
   "cell_type": "code",
   "execution_count": 27,
   "metadata": {},
   "outputs": [
    {
     "data": {
      "text/plain": [
       "True"
      ]
     },
     "execution_count": 27,
     "metadata": {},
     "output_type": "execute_result"
    }
   ],
   "source": [
    "signals[symbol]['enter_long'] == "
   ]
  },
  {
   "cell_type": "code",
   "execution_count": 32,
   "metadata": {},
   "outputs": [
    {
     "data": {
      "text/html": [
       "<div>\n",
       "<style scoped>\n",
       "    .dataframe tbody tr th:only-of-type {\n",
       "        vertical-align: middle;\n",
       "    }\n",
       "\n",
       "    .dataframe tbody tr th {\n",
       "        vertical-align: top;\n",
       "    }\n",
       "\n",
       "    .dataframe thead tr th {\n",
       "        text-align: left;\n",
       "    }\n",
       "\n",
       "    .dataframe thead tr:last-of-type th {\n",
       "        text-align: right;\n",
       "    }\n",
       "</style>\n",
       "<table border=\"1\" class=\"dataframe\">\n",
       "  <thead>\n",
       "    <tr>\n",
       "      <th></th>\n",
       "      <th colspan=\"3\" halign=\"left\">AD</th>\n",
       "      <th colspan=\"3\" halign=\"left\">BO</th>\n",
       "      <th colspan=\"3\" halign=\"left\">BP</th>\n",
       "      <th>C</th>\n",
       "      <th>...</th>\n",
       "      <th>TU</th>\n",
       "      <th colspan=\"3\" halign=\"left\">TY</th>\n",
       "      <th colspan=\"3\" halign=\"left\">US</th>\n",
       "      <th colspan=\"3\" halign=\"left\">W</th>\n",
       "    </tr>\n",
       "    <tr>\n",
       "      <th></th>\n",
       "      <th>enter_long</th>\n",
       "      <th>stop_long</th>\n",
       "      <th>stop_short</th>\n",
       "      <th>enter_long</th>\n",
       "      <th>stop_long</th>\n",
       "      <th>stop_short</th>\n",
       "      <th>enter_long</th>\n",
       "      <th>stop_long</th>\n",
       "      <th>stop_short</th>\n",
       "      <th>enter_long</th>\n",
       "      <th>...</th>\n",
       "      <th>stop_short</th>\n",
       "      <th>enter_long</th>\n",
       "      <th>stop_long</th>\n",
       "      <th>stop_short</th>\n",
       "      <th>enter_long</th>\n",
       "      <th>stop_long</th>\n",
       "      <th>stop_short</th>\n",
       "      <th>enter_long</th>\n",
       "      <th>stop_long</th>\n",
       "      <th>stop_short</th>\n",
       "    </tr>\n",
       "    <tr>\n",
       "      <th>date</th>\n",
       "      <th></th>\n",
       "      <th></th>\n",
       "      <th></th>\n",
       "      <th></th>\n",
       "      <th></th>\n",
       "      <th></th>\n",
       "      <th></th>\n",
       "      <th></th>\n",
       "      <th></th>\n",
       "      <th></th>\n",
       "      <th></th>\n",
       "      <th></th>\n",
       "      <th></th>\n",
       "      <th></th>\n",
       "      <th></th>\n",
       "      <th></th>\n",
       "      <th></th>\n",
       "      <th></th>\n",
       "      <th></th>\n",
       "      <th></th>\n",
       "      <th></th>\n",
       "    </tr>\n",
       "  </thead>\n",
       "  <tbody>\n",
       "    <tr>\n",
       "      <th>1959-08-03</th>\n",
       "      <td>False</td>\n",
       "      <td>False</td>\n",
       "      <td>False</td>\n",
       "      <td>False</td>\n",
       "      <td>False</td>\n",
       "      <td>False</td>\n",
       "      <td>False</td>\n",
       "      <td>False</td>\n",
       "      <td>False</td>\n",
       "      <td>False</td>\n",
       "      <td>...</td>\n",
       "      <td>False</td>\n",
       "      <td>False</td>\n",
       "      <td>False</td>\n",
       "      <td>False</td>\n",
       "      <td>False</td>\n",
       "      <td>False</td>\n",
       "      <td>False</td>\n",
       "      <td>False</td>\n",
       "      <td>False</td>\n",
       "      <td>False</td>\n",
       "    </tr>\n",
       "    <tr>\n",
       "      <th>1959-08-04</th>\n",
       "      <td>False</td>\n",
       "      <td>False</td>\n",
       "      <td>False</td>\n",
       "      <td>False</td>\n",
       "      <td>False</td>\n",
       "      <td>False</td>\n",
       "      <td>False</td>\n",
       "      <td>False</td>\n",
       "      <td>False</td>\n",
       "      <td>False</td>\n",
       "      <td>...</td>\n",
       "      <td>False</td>\n",
       "      <td>False</td>\n",
       "      <td>False</td>\n",
       "      <td>False</td>\n",
       "      <td>False</td>\n",
       "      <td>False</td>\n",
       "      <td>False</td>\n",
       "      <td>False</td>\n",
       "      <td>False</td>\n",
       "      <td>False</td>\n",
       "    </tr>\n",
       "    <tr>\n",
       "      <th>1959-08-05</th>\n",
       "      <td>False</td>\n",
       "      <td>False</td>\n",
       "      <td>False</td>\n",
       "      <td>False</td>\n",
       "      <td>False</td>\n",
       "      <td>False</td>\n",
       "      <td>False</td>\n",
       "      <td>False</td>\n",
       "      <td>False</td>\n",
       "      <td>False</td>\n",
       "      <td>...</td>\n",
       "      <td>False</td>\n",
       "      <td>False</td>\n",
       "      <td>False</td>\n",
       "      <td>False</td>\n",
       "      <td>False</td>\n",
       "      <td>False</td>\n",
       "      <td>False</td>\n",
       "      <td>False</td>\n",
       "      <td>False</td>\n",
       "      <td>False</td>\n",
       "    </tr>\n",
       "    <tr>\n",
       "      <th>1959-08-06</th>\n",
       "      <td>False</td>\n",
       "      <td>False</td>\n",
       "      <td>False</td>\n",
       "      <td>False</td>\n",
       "      <td>False</td>\n",
       "      <td>False</td>\n",
       "      <td>False</td>\n",
       "      <td>False</td>\n",
       "      <td>False</td>\n",
       "      <td>False</td>\n",
       "      <td>...</td>\n",
       "      <td>False</td>\n",
       "      <td>False</td>\n",
       "      <td>False</td>\n",
       "      <td>False</td>\n",
       "      <td>False</td>\n",
       "      <td>False</td>\n",
       "      <td>False</td>\n",
       "      <td>False</td>\n",
       "      <td>False</td>\n",
       "      <td>False</td>\n",
       "    </tr>\n",
       "    <tr>\n",
       "      <th>1959-08-07</th>\n",
       "      <td>False</td>\n",
       "      <td>False</td>\n",
       "      <td>False</td>\n",
       "      <td>False</td>\n",
       "      <td>False</td>\n",
       "      <td>False</td>\n",
       "      <td>False</td>\n",
       "      <td>False</td>\n",
       "      <td>False</td>\n",
       "      <td>False</td>\n",
       "      <td>...</td>\n",
       "      <td>False</td>\n",
       "      <td>False</td>\n",
       "      <td>False</td>\n",
       "      <td>False</td>\n",
       "      <td>False</td>\n",
       "      <td>False</td>\n",
       "      <td>False</td>\n",
       "      <td>False</td>\n",
       "      <td>False</td>\n",
       "      <td>False</td>\n",
       "    </tr>\n",
       "    <tr>\n",
       "      <th>...</th>\n",
       "      <td>...</td>\n",
       "      <td>...</td>\n",
       "      <td>...</td>\n",
       "      <td>...</td>\n",
       "      <td>...</td>\n",
       "      <td>...</td>\n",
       "      <td>...</td>\n",
       "      <td>...</td>\n",
       "      <td>...</td>\n",
       "      <td>...</td>\n",
       "      <td>...</td>\n",
       "      <td>...</td>\n",
       "      <td>...</td>\n",
       "      <td>...</td>\n",
       "      <td>...</td>\n",
       "      <td>...</td>\n",
       "      <td>...</td>\n",
       "      <td>...</td>\n",
       "      <td>...</td>\n",
       "      <td>...</td>\n",
       "      <td>...</td>\n",
       "    </tr>\n",
       "    <tr>\n",
       "      <th>2022-04-28</th>\n",
       "      <td>True</td>\n",
       "      <td>False</td>\n",
       "      <td>True</td>\n",
       "      <td>True</td>\n",
       "      <td>False</td>\n",
       "      <td>False</td>\n",
       "      <td>True</td>\n",
       "      <td>False</td>\n",
       "      <td>True</td>\n",
       "      <td>True</td>\n",
       "      <td>...</td>\n",
       "      <td>True</td>\n",
       "      <td>True</td>\n",
       "      <td>False</td>\n",
       "      <td>True</td>\n",
       "      <td>True</td>\n",
       "      <td>False</td>\n",
       "      <td>True</td>\n",
       "      <td>True</td>\n",
       "      <td>False</td>\n",
       "      <td>True</td>\n",
       "    </tr>\n",
       "    <tr>\n",
       "      <th>2022-04-29</th>\n",
       "      <td>True</td>\n",
       "      <td>False</td>\n",
       "      <td>True</td>\n",
       "      <td>True</td>\n",
       "      <td>False</td>\n",
       "      <td>False</td>\n",
       "      <td>True</td>\n",
       "      <td>False</td>\n",
       "      <td>True</td>\n",
       "      <td>True</td>\n",
       "      <td>...</td>\n",
       "      <td>True</td>\n",
       "      <td>True</td>\n",
       "      <td>False</td>\n",
       "      <td>True</td>\n",
       "      <td>True</td>\n",
       "      <td>False</td>\n",
       "      <td>True</td>\n",
       "      <td>True</td>\n",
       "      <td>False</td>\n",
       "      <td>True</td>\n",
       "    </tr>\n",
       "    <tr>\n",
       "      <th>2022-05-02</th>\n",
       "      <td>True</td>\n",
       "      <td>False</td>\n",
       "      <td>True</td>\n",
       "      <td>True</td>\n",
       "      <td>False</td>\n",
       "      <td>True</td>\n",
       "      <td>True</td>\n",
       "      <td>False</td>\n",
       "      <td>True</td>\n",
       "      <td>True</td>\n",
       "      <td>...</td>\n",
       "      <td>True</td>\n",
       "      <td>True</td>\n",
       "      <td>False</td>\n",
       "      <td>True</td>\n",
       "      <td>True</td>\n",
       "      <td>False</td>\n",
       "      <td>True</td>\n",
       "      <td>True</td>\n",
       "      <td>False</td>\n",
       "      <td>True</td>\n",
       "    </tr>\n",
       "    <tr>\n",
       "      <th>2022-05-03</th>\n",
       "      <td>True</td>\n",
       "      <td>False</td>\n",
       "      <td>True</td>\n",
       "      <td>True</td>\n",
       "      <td>False</td>\n",
       "      <td>True</td>\n",
       "      <td>True</td>\n",
       "      <td>False</td>\n",
       "      <td>True</td>\n",
       "      <td>True</td>\n",
       "      <td>...</td>\n",
       "      <td>True</td>\n",
       "      <td>True</td>\n",
       "      <td>False</td>\n",
       "      <td>True</td>\n",
       "      <td>True</td>\n",
       "      <td>False</td>\n",
       "      <td>True</td>\n",
       "      <td>True</td>\n",
       "      <td>False</td>\n",
       "      <td>True</td>\n",
       "    </tr>\n",
       "    <tr>\n",
       "      <th>2022-05-04</th>\n",
       "      <td>True</td>\n",
       "      <td>False</td>\n",
       "      <td>True</td>\n",
       "      <td>True</td>\n",
       "      <td>False</td>\n",
       "      <td>True</td>\n",
       "      <td>True</td>\n",
       "      <td>False</td>\n",
       "      <td>True</td>\n",
       "      <td>True</td>\n",
       "      <td>...</td>\n",
       "      <td>True</td>\n",
       "      <td>True</td>\n",
       "      <td>False</td>\n",
       "      <td>True</td>\n",
       "      <td>True</td>\n",
       "      <td>False</td>\n",
       "      <td>True</td>\n",
       "      <td>True</td>\n",
       "      <td>False</td>\n",
       "      <td>True</td>\n",
       "    </tr>\n",
       "  </tbody>\n",
       "</table>\n",
       "<p>16028 rows × 135 columns</p>\n",
       "</div>"
      ],
      "text/plain": [
       "                   AD                              BO                       \\\n",
       "           enter_long stop_long stop_short enter_long stop_long stop_short   \n",
       "date                                                                         \n",
       "1959-08-03      False     False      False      False     False      False   \n",
       "1959-08-04      False     False      False      False     False      False   \n",
       "1959-08-05      False     False      False      False     False      False   \n",
       "1959-08-06      False     False      False      False     False      False   \n",
       "1959-08-07      False     False      False      False     False      False   \n",
       "...               ...       ...        ...        ...       ...        ...   \n",
       "2022-04-28       True     False       True       True     False      False   \n",
       "2022-04-29       True     False       True       True     False      False   \n",
       "2022-05-02       True     False       True       True     False       True   \n",
       "2022-05-03       True     False       True       True     False       True   \n",
       "2022-05-04       True     False       True       True     False       True   \n",
       "\n",
       "                   BP                               C  ...         TU  \\\n",
       "           enter_long stop_long stop_short enter_long  ... stop_short   \n",
       "date                                                   ...              \n",
       "1959-08-03      False     False      False      False  ...      False   \n",
       "1959-08-04      False     False      False      False  ...      False   \n",
       "1959-08-05      False     False      False      False  ...      False   \n",
       "1959-08-06      False     False      False      False  ...      False   \n",
       "1959-08-07      False     False      False      False  ...      False   \n",
       "...               ...       ...        ...        ...  ...        ...   \n",
       "2022-04-28       True     False       True       True  ...       True   \n",
       "2022-04-29       True     False       True       True  ...       True   \n",
       "2022-05-02       True     False       True       True  ...       True   \n",
       "2022-05-03       True     False       True       True  ...       True   \n",
       "2022-05-04       True     False       True       True  ...       True   \n",
       "\n",
       "                   TY                              US                       \\\n",
       "           enter_long stop_long stop_short enter_long stop_long stop_short   \n",
       "date                                                                         \n",
       "1959-08-03      False     False      False      False     False      False   \n",
       "1959-08-04      False     False      False      False     False      False   \n",
       "1959-08-05      False     False      False      False     False      False   \n",
       "1959-08-06      False     False      False      False     False      False   \n",
       "1959-08-07      False     False      False      False     False      False   \n",
       "...               ...       ...        ...        ...       ...        ...   \n",
       "2022-04-28       True     False       True       True     False       True   \n",
       "2022-04-29       True     False       True       True     False       True   \n",
       "2022-05-02       True     False       True       True     False       True   \n",
       "2022-05-03       True     False       True       True     False       True   \n",
       "2022-05-04       True     False       True       True     False       True   \n",
       "\n",
       "                    W                       \n",
       "           enter_long stop_long stop_short  \n",
       "date                                        \n",
       "1959-08-03      False     False      False  \n",
       "1959-08-04      False     False      False  \n",
       "1959-08-05      False     False      False  \n",
       "1959-08-06      False     False      False  \n",
       "1959-08-07      False     False      False  \n",
       "...               ...       ...        ...  \n",
       "2022-04-28       True     False       True  \n",
       "2022-04-29       True     False       True  \n",
       "2022-05-02       True     False       True  \n",
       "2022-05-03       True     False       True  \n",
       "2022-05-04       True     False       True  \n",
       "\n",
       "[16028 rows x 135 columns]"
      ]
     },
     "execution_count": 32,
     "metadata": {},
     "output_type": "execute_result"
    }
   ],
   "source": [
    "system.signals"
   ]
  },
  {
   "cell_type": "code",
   "execution_count": null,
   "metadata": {},
   "outputs": [],
   "source": []
  }
 ],
 "metadata": {
  "kernelspec": {
   "display_name": "Python 3 (ipykernel)",
   "language": "python",
   "name": "python3"
  },
  "language_info": {
   "codemirror_mode": {
    "name": "ipython",
    "version": 3
   },
   "file_extension": ".py",
   "mimetype": "text/x-python",
   "name": "python",
   "nbconvert_exporter": "python",
   "pygments_lexer": "ipython3",
   "version": "3.8.5"
  }
 },
 "nbformat": 4,
 "nbformat_minor": 2
}
